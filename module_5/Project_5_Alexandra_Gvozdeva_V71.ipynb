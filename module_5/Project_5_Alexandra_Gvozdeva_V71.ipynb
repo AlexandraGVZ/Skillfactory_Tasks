{
 "cells": [
  {
   "cell_type": "code",
   "execution_count": 1,
   "id": "35cbb081",
   "metadata": {
    "_cell_guid": "b1076dfc-b9ad-4769-8c92-a6c4dae69d19",
    "_uuid": "8f2839f25d086af736a60e9eeb907d3b93b6e0e5",
    "execution": {
     "iopub.execute_input": "2022-01-08T11:59:19.886763Z",
     "iopub.status.busy": "2022-01-08T11:59:19.884930Z",
     "iopub.status.idle": "2022-01-08T11:59:19.902961Z",
     "shell.execute_reply": "2022-01-08T11:59:19.903619Z",
     "shell.execute_reply.started": "2022-01-08T11:32:00.088356Z"
    },
    "papermill": {
     "duration": 0.12935,
     "end_time": "2022-01-08T11:59:19.903916",
     "exception": false,
     "start_time": "2022-01-08T11:59:19.774566",
     "status": "completed"
    },
    "tags": []
   },
   "outputs": [
    {
     "name": "stdout",
     "output_type": "stream",
     "text": [
      "/kaggle/input/sf-scoring/sample_submission.csv\n",
      "/kaggle/input/sf-scoring/train.csv\n",
      "/kaggle/input/sf-scoring/test.csv\n"
     ]
    }
   ],
   "source": [
    "# This Python 3 environment comes with many helpful analytics libraries installed\n",
    "# It is defined by the kaggle/python Docker image: https://github.com/kaggle/docker-python\n",
    "# For example, here's several helpful packages to load\n",
    "\n",
    "import numpy as np # linear algebra\n",
    "import pandas as pd # data processing, CSV file I/O (e.g. pd.read_csv)\n",
    "\n",
    "# Input data files are available in the read-only \"../input/\" directory\n",
    "# For example, running this (by clicking run or pressing Shift+Enter) will list all files under the input directory\n",
    "\n",
    "import os\n",
    "for dirname, _, filenames in os.walk('/kaggle/input'):\n",
    "    for filename in filenames:\n",
    "        print(os.path.join(dirname, filename))\n",
    "\n",
    "# You can write up to 20GB to the current directory (/kaggle/working/) that gets preserved as output when you create a version using \"Save & Run All\" \n",
    "# You can also write temporary files to /kaggle/temp/, but they won't be saved outside of the current session"
   ]
  },
  {
   "cell_type": "code",
   "execution_count": 2,
   "id": "b6962aba",
   "metadata": {
    "execution": {
     "iopub.execute_input": "2022-01-08T11:59:20.176991Z",
     "iopub.status.busy": "2022-01-08T11:59:20.176021Z",
     "iopub.status.idle": "2022-01-08T11:59:20.179809Z",
     "shell.execute_reply": "2022-01-08T11:59:20.180315Z",
     "shell.execute_reply.started": "2022-01-08T10:25:14.402494Z"
    },
    "papermill": {
     "duration": 0.111257,
     "end_time": "2022-01-08T11:59:20.180476",
     "exception": false,
     "start_time": "2022-01-08T11:59:20.069219",
     "status": "completed"
    },
    "tags": []
   },
   "outputs": [],
   "source": [
    "import matplotlib.pyplot as plt"
   ]
  },
  {
   "cell_type": "code",
   "execution_count": 3,
   "id": "8cde3c7d",
   "metadata": {
    "execution": {
     "iopub.execute_input": "2022-01-08T11:59:20.413702Z",
     "iopub.status.busy": "2022-01-08T11:59:20.412880Z",
     "iopub.status.idle": "2022-01-08T11:59:21.343167Z",
     "shell.execute_reply": "2022-01-08T11:59:21.342555Z",
     "shell.execute_reply.started": "2022-01-08T10:25:16.912592Z"
    },
    "papermill": {
     "duration": 1.054557,
     "end_time": "2022-01-08T11:59:21.343337",
     "exception": false,
     "start_time": "2022-01-08T11:59:20.288780",
     "status": "completed"
    },
    "tags": []
   },
   "outputs": [],
   "source": [
    "import seaborn as sns"
   ]
  },
  {
   "cell_type": "code",
   "execution_count": 4,
   "id": "b4a0b48f",
   "metadata": {
    "execution": {
     "iopub.execute_input": "2022-01-08T11:59:21.555756Z",
     "iopub.status.busy": "2022-01-08T11:59:21.554803Z",
     "iopub.status.idle": "2022-01-08T11:59:21.681372Z",
     "shell.execute_reply": "2022-01-08T11:59:21.680715Z",
     "shell.execute_reply.started": "2022-01-08T10:25:21.932533Z"
    },
    "papermill": {
     "duration": 0.233915,
     "end_time": "2022-01-08T11:59:21.681526",
     "exception": false,
     "start_time": "2022-01-08T11:59:21.447611",
     "status": "completed"
    },
    "tags": []
   },
   "outputs": [],
   "source": [
    "from sklearn.preprocessing import RobustScaler, StandardScaler, MinMaxScaler"
   ]
  },
  {
   "cell_type": "code",
   "execution_count": 5,
   "id": "58744c30",
   "metadata": {
    "execution": {
     "iopub.execute_input": "2022-01-08T11:59:21.895018Z",
     "iopub.status.busy": "2022-01-08T11:59:21.894234Z",
     "iopub.status.idle": "2022-01-08T11:59:21.896586Z",
     "shell.execute_reply": "2022-01-08T11:59:21.897218Z",
     "shell.execute_reply.started": "2022-01-08T10:25:25.816733Z"
    },
    "papermill": {
     "duration": 0.111593,
     "end_time": "2022-01-08T11:59:21.897423",
     "exception": false,
     "start_time": "2022-01-08T11:59:21.785830",
     "status": "completed"
    },
    "tags": []
   },
   "outputs": [],
   "source": [
    "from datetime import datetime"
   ]
  },
  {
   "cell_type": "code",
   "execution_count": 6,
   "id": "8f160a8e",
   "metadata": {
    "execution": {
     "iopub.execute_input": "2022-01-08T11:59:22.109064Z",
     "iopub.status.busy": "2022-01-08T11:59:22.108239Z",
     "iopub.status.idle": "2022-01-08T11:59:22.112718Z",
     "shell.execute_reply": "2022-01-08T11:59:22.113280Z",
     "shell.execute_reply.started": "2022-01-08T10:26:15.029679Z"
    },
    "papermill": {
     "duration": 0.111636,
     "end_time": "2022-01-08T11:59:22.113462",
     "exception": false,
     "start_time": "2022-01-08T11:59:22.001826",
     "status": "completed"
    },
    "tags": []
   },
   "outputs": [],
   "source": [
    "# Функция для поиска выбросов в данных методом IQR\n",
    "def IQR_outliers(i):\n",
    "    Q1=data[i].quantile(0.25)\n",
    "    Q3=data[i].quantile(0.75)\n",
    "    IQR=Q3-Q1\n",
    "    low=Q1-1.5*IQR\n",
    "    high=Q3+1.5*IQR\n",
    "    return (low,high)"
   ]
  },
  {
   "cell_type": "code",
   "execution_count": 7,
   "id": "8c0a400f",
   "metadata": {
    "execution": {
     "iopub.execute_input": "2022-01-08T11:59:22.325248Z",
     "iopub.status.busy": "2022-01-08T11:59:22.324584Z",
     "iopub.status.idle": "2022-01-08T11:59:22.694587Z",
     "shell.execute_reply": "2022-01-08T11:59:22.693859Z",
     "shell.execute_reply.started": "2022-01-08T11:32:06.489608Z"
    },
    "papermill": {
     "duration": 0.476276,
     "end_time": "2022-01-08T11:59:22.694748",
     "exception": false,
     "start_time": "2022-01-08T11:59:22.218472",
     "status": "completed"
    },
    "tags": []
   },
   "outputs": [],
   "source": [
    "# Загружаем данные\n",
    "DATA_DIR = '/kaggle/input/sf-scoring/'\n",
    "df_train = pd.read_csv(DATA_DIR +'/train.csv')\n",
    "df_test = pd.read_csv(DATA_DIR +'/test.csv')\n",
    "sample_submission = pd.read_csv(DATA_DIR+'/sample_submission.csv')"
   ]
  },
  {
   "cell_type": "code",
   "execution_count": 8,
   "id": "9a63fe7f",
   "metadata": {
    "execution": {
     "iopub.execute_input": "2022-01-08T11:59:22.913551Z",
     "iopub.status.busy": "2022-01-08T11:59:22.912694Z",
     "iopub.status.idle": "2022-01-08T11:59:22.916395Z",
     "shell.execute_reply": "2022-01-08T11:59:22.916888Z",
     "shell.execute_reply.started": "2022-01-01T11:57:43.073039Z"
    },
    "papermill": {
     "duration": 0.118159,
     "end_time": "2022-01-08T11:59:22.917056",
     "exception": false,
     "start_time": "2022-01-08T11:59:22.798897",
     "status": "completed"
    },
    "tags": []
   },
   "outputs": [
    {
     "data": {
      "text/plain": [
       "(36349, 2)"
      ]
     },
     "execution_count": 8,
     "metadata": {},
     "output_type": "execute_result"
    }
   ],
   "source": [
    "sample_submission.shape"
   ]
  },
  {
   "cell_type": "code",
   "execution_count": 9,
   "id": "2143a5cc",
   "metadata": {
    "execution": {
     "iopub.execute_input": "2022-01-08T11:59:23.133729Z",
     "iopub.status.busy": "2022-01-08T11:59:23.132600Z",
     "iopub.status.idle": "2022-01-08T11:59:23.138079Z",
     "shell.execute_reply": "2022-01-08T11:59:23.138581Z",
     "shell.execute_reply.started": "2022-01-01T11:57:45.421205Z"
    },
    "papermill": {
     "duration": 0.115078,
     "end_time": "2022-01-08T11:59:23.138764",
     "exception": false,
     "start_time": "2022-01-08T11:59:23.023686",
     "status": "completed"
    },
    "tags": []
   },
   "outputs": [
    {
     "data": {
      "text/plain": [
       "(36349, 18)"
      ]
     },
     "execution_count": 9,
     "metadata": {},
     "output_type": "execute_result"
    }
   ],
   "source": [
    "df_test.shape"
   ]
  },
  {
   "cell_type": "code",
   "execution_count": 10,
   "id": "063424f5",
   "metadata": {
    "execution": {
     "iopub.execute_input": "2022-01-08T11:59:23.357923Z",
     "iopub.status.busy": "2022-01-08T11:59:23.357219Z",
     "iopub.status.idle": "2022-01-08T11:59:23.427577Z",
     "shell.execute_reply": "2022-01-08T11:59:23.426902Z",
     "shell.execute_reply.started": "2022-01-01T11:57:47.452324Z"
    },
    "papermill": {
     "duration": 0.183589,
     "end_time": "2022-01-08T11:59:23.427735",
     "exception": false,
     "start_time": "2022-01-08T11:59:23.244146",
     "status": "completed"
    },
    "tags": []
   },
   "outputs": [
    {
     "name": "stdout",
     "output_type": "stream",
     "text": [
      "<class 'pandas.core.frame.DataFrame'>\n",
      "RangeIndex: 73799 entries, 0 to 73798\n",
      "Data columns (total 19 columns):\n",
      " #   Column            Non-Null Count  Dtype  \n",
      "---  ------            --------------  -----  \n",
      " 0   client_id         73799 non-null  int64  \n",
      " 1   app_date          73799 non-null  object \n",
      " 2   education         73492 non-null  object \n",
      " 3   sex               73799 non-null  object \n",
      " 4   age               73799 non-null  int64  \n",
      " 5   car               73799 non-null  object \n",
      " 6   car_type          73799 non-null  object \n",
      " 7   decline_app_cnt   73799 non-null  int64  \n",
      " 8   good_work         73799 non-null  int64  \n",
      " 9   score_bki         73799 non-null  float64\n",
      " 10  bki_request_cnt   73799 non-null  int64  \n",
      " 11  region_rating     73799 non-null  int64  \n",
      " 12  home_address      73799 non-null  int64  \n",
      " 13  work_address      73799 non-null  int64  \n",
      " 14  income            73799 non-null  int64  \n",
      " 15  sna               73799 non-null  int64  \n",
      " 16  first_time        73799 non-null  int64  \n",
      " 17  foreign_passport  73799 non-null  object \n",
      " 18  default           73799 non-null  int64  \n",
      "dtypes: float64(1), int64(12), object(6)\n",
      "memory usage: 10.7+ MB\n"
     ]
    }
   ],
   "source": [
    "df_train.info()"
   ]
  },
  {
   "cell_type": "code",
   "execution_count": 11,
   "id": "ee6bc2e5",
   "metadata": {
    "execution": {
     "iopub.execute_input": "2022-01-08T11:59:23.644980Z",
     "iopub.status.busy": "2022-01-08T11:59:23.643977Z",
     "iopub.status.idle": "2022-01-08T11:59:23.662778Z",
     "shell.execute_reply": "2022-01-08T11:59:23.663257Z",
     "shell.execute_reply.started": "2022-01-01T11:57:50.793581Z"
    },
    "papermill": {
     "duration": 0.130327,
     "end_time": "2022-01-08T11:59:23.663435",
     "exception": false,
     "start_time": "2022-01-08T11:59:23.533108",
     "status": "completed"
    },
    "tags": []
   },
   "outputs": [
    {
     "data": {
      "text/html": [
       "<div>\n",
       "<style scoped>\n",
       "    .dataframe tbody tr th:only-of-type {\n",
       "        vertical-align: middle;\n",
       "    }\n",
       "\n",
       "    .dataframe tbody tr th {\n",
       "        vertical-align: top;\n",
       "    }\n",
       "\n",
       "    .dataframe thead th {\n",
       "        text-align: right;\n",
       "    }\n",
       "</style>\n",
       "<table border=\"1\" class=\"dataframe\">\n",
       "  <thead>\n",
       "    <tr style=\"text-align: right;\">\n",
       "      <th></th>\n",
       "      <th>client_id</th>\n",
       "      <th>app_date</th>\n",
       "      <th>education</th>\n",
       "      <th>sex</th>\n",
       "      <th>age</th>\n",
       "      <th>car</th>\n",
       "      <th>car_type</th>\n",
       "      <th>decline_app_cnt</th>\n",
       "      <th>good_work</th>\n",
       "      <th>score_bki</th>\n",
       "      <th>bki_request_cnt</th>\n",
       "      <th>region_rating</th>\n",
       "      <th>home_address</th>\n",
       "      <th>work_address</th>\n",
       "      <th>income</th>\n",
       "      <th>sna</th>\n",
       "      <th>first_time</th>\n",
       "      <th>foreign_passport</th>\n",
       "      <th>default</th>\n",
       "    </tr>\n",
       "  </thead>\n",
       "  <tbody>\n",
       "    <tr>\n",
       "      <th>0</th>\n",
       "      <td>25905</td>\n",
       "      <td>01FEB2014</td>\n",
       "      <td>SCH</td>\n",
       "      <td>M</td>\n",
       "      <td>62</td>\n",
       "      <td>Y</td>\n",
       "      <td>Y</td>\n",
       "      <td>0</td>\n",
       "      <td>0</td>\n",
       "      <td>-2.008753</td>\n",
       "      <td>1</td>\n",
       "      <td>50</td>\n",
       "      <td>1</td>\n",
       "      <td>2</td>\n",
       "      <td>18000</td>\n",
       "      <td>4</td>\n",
       "      <td>1</td>\n",
       "      <td>N</td>\n",
       "      <td>0</td>\n",
       "    </tr>\n",
       "    <tr>\n",
       "      <th>1</th>\n",
       "      <td>63161</td>\n",
       "      <td>12MAR2014</td>\n",
       "      <td>SCH</td>\n",
       "      <td>F</td>\n",
       "      <td>59</td>\n",
       "      <td>N</td>\n",
       "      <td>N</td>\n",
       "      <td>0</td>\n",
       "      <td>0</td>\n",
       "      <td>-1.532276</td>\n",
       "      <td>3</td>\n",
       "      <td>50</td>\n",
       "      <td>2</td>\n",
       "      <td>3</td>\n",
       "      <td>19000</td>\n",
       "      <td>4</td>\n",
       "      <td>1</td>\n",
       "      <td>N</td>\n",
       "      <td>0</td>\n",
       "    </tr>\n",
       "    <tr>\n",
       "      <th>2</th>\n",
       "      <td>25887</td>\n",
       "      <td>01FEB2014</td>\n",
       "      <td>SCH</td>\n",
       "      <td>M</td>\n",
       "      <td>25</td>\n",
       "      <td>Y</td>\n",
       "      <td>N</td>\n",
       "      <td>2</td>\n",
       "      <td>0</td>\n",
       "      <td>-1.408142</td>\n",
       "      <td>1</td>\n",
       "      <td>80</td>\n",
       "      <td>1</td>\n",
       "      <td>2</td>\n",
       "      <td>30000</td>\n",
       "      <td>1</td>\n",
       "      <td>4</td>\n",
       "      <td>Y</td>\n",
       "      <td>0</td>\n",
       "    </tr>\n",
       "    <tr>\n",
       "      <th>3</th>\n",
       "      <td>16222</td>\n",
       "      <td>23JAN2014</td>\n",
       "      <td>SCH</td>\n",
       "      <td>F</td>\n",
       "      <td>53</td>\n",
       "      <td>N</td>\n",
       "      <td>N</td>\n",
       "      <td>0</td>\n",
       "      <td>0</td>\n",
       "      <td>-2.057471</td>\n",
       "      <td>2</td>\n",
       "      <td>50</td>\n",
       "      <td>2</td>\n",
       "      <td>3</td>\n",
       "      <td>10000</td>\n",
       "      <td>1</td>\n",
       "      <td>3</td>\n",
       "      <td>N</td>\n",
       "      <td>0</td>\n",
       "    </tr>\n",
       "    <tr>\n",
       "      <th>4</th>\n",
       "      <td>101655</td>\n",
       "      <td>18APR2014</td>\n",
       "      <td>GRD</td>\n",
       "      <td>M</td>\n",
       "      <td>48</td>\n",
       "      <td>N</td>\n",
       "      <td>N</td>\n",
       "      <td>0</td>\n",
       "      <td>1</td>\n",
       "      <td>-1.244723</td>\n",
       "      <td>1</td>\n",
       "      <td>60</td>\n",
       "      <td>2</td>\n",
       "      <td>3</td>\n",
       "      <td>30000</td>\n",
       "      <td>1</td>\n",
       "      <td>4</td>\n",
       "      <td>Y</td>\n",
       "      <td>0</td>\n",
       "    </tr>\n",
       "  </tbody>\n",
       "</table>\n",
       "</div>"
      ],
      "text/plain": [
       "   client_id   app_date education sex  age car car_type  decline_app_cnt  \\\n",
       "0      25905  01FEB2014       SCH   M   62   Y        Y                0   \n",
       "1      63161  12MAR2014       SCH   F   59   N        N                0   \n",
       "2      25887  01FEB2014       SCH   M   25   Y        N                2   \n",
       "3      16222  23JAN2014       SCH   F   53   N        N                0   \n",
       "4     101655  18APR2014       GRD   M   48   N        N                0   \n",
       "\n",
       "   good_work  score_bki  bki_request_cnt  region_rating  home_address  \\\n",
       "0          0  -2.008753                1             50             1   \n",
       "1          0  -1.532276                3             50             2   \n",
       "2          0  -1.408142                1             80             1   \n",
       "3          0  -2.057471                2             50             2   \n",
       "4          1  -1.244723                1             60             2   \n",
       "\n",
       "   work_address  income  sna  first_time foreign_passport  default  \n",
       "0             2   18000    4           1                N        0  \n",
       "1             3   19000    4           1                N        0  \n",
       "2             2   30000    1           4                Y        0  \n",
       "3             3   10000    1           3                N        0  \n",
       "4             3   30000    1           4                Y        0  "
      ]
     },
     "execution_count": 11,
     "metadata": {},
     "output_type": "execute_result"
    }
   ],
   "source": [
    "df_train.head(5)"
   ]
  },
  {
   "cell_type": "code",
   "execution_count": 12,
   "id": "f3a8e043",
   "metadata": {
    "execution": {
     "iopub.execute_input": "2022-01-08T11:59:23.879170Z",
     "iopub.status.busy": "2022-01-08T11:59:23.878147Z",
     "iopub.status.idle": "2022-01-08T11:59:23.916621Z",
     "shell.execute_reply": "2022-01-08T11:59:23.917173Z",
     "shell.execute_reply.started": "2022-01-01T11:57:53.533986Z"
    },
    "papermill": {
     "duration": 0.148383,
     "end_time": "2022-01-08T11:59:23.917353",
     "exception": false,
     "start_time": "2022-01-08T11:59:23.768970",
     "status": "completed"
    },
    "tags": []
   },
   "outputs": [
    {
     "name": "stdout",
     "output_type": "stream",
     "text": [
      "<class 'pandas.core.frame.DataFrame'>\n",
      "RangeIndex: 36349 entries, 0 to 36348\n",
      "Data columns (total 18 columns):\n",
      " #   Column            Non-Null Count  Dtype  \n",
      "---  ------            --------------  -----  \n",
      " 0   client_id         36349 non-null  int64  \n",
      " 1   app_date          36349 non-null  object \n",
      " 2   education         36178 non-null  object \n",
      " 3   sex               36349 non-null  object \n",
      " 4   age               36349 non-null  int64  \n",
      " 5   car               36349 non-null  object \n",
      " 6   car_type          36349 non-null  object \n",
      " 7   decline_app_cnt   36349 non-null  int64  \n",
      " 8   good_work         36349 non-null  int64  \n",
      " 9   score_bki         36349 non-null  float64\n",
      " 10  bki_request_cnt   36349 non-null  int64  \n",
      " 11  region_rating     36349 non-null  int64  \n",
      " 12  home_address      36349 non-null  int64  \n",
      " 13  work_address      36349 non-null  int64  \n",
      " 14  income            36349 non-null  int64  \n",
      " 15  sna               36349 non-null  int64  \n",
      " 16  first_time        36349 non-null  int64  \n",
      " 17  foreign_passport  36349 non-null  object \n",
      "dtypes: float64(1), int64(11), object(6)\n",
      "memory usage: 5.0+ MB\n"
     ]
    }
   ],
   "source": [
    "df_test.info()"
   ]
  },
  {
   "cell_type": "code",
   "execution_count": 13,
   "id": "6505cfa6",
   "metadata": {
    "execution": {
     "iopub.execute_input": "2022-01-08T11:59:24.145875Z",
     "iopub.status.busy": "2022-01-08T11:59:24.145089Z",
     "iopub.status.idle": "2022-01-08T11:59:24.151791Z",
     "shell.execute_reply": "2022-01-08T11:59:24.152456Z",
     "shell.execute_reply.started": "2022-01-01T11:57:58.803324Z"
    },
    "papermill": {
     "duration": 0.12512,
     "end_time": "2022-01-08T11:59:24.152671",
     "exception": false,
     "start_time": "2022-01-08T11:59:24.027551",
     "status": "completed"
    },
    "tags": []
   },
   "outputs": [
    {
     "data": {
      "text/html": [
       "<div>\n",
       "<style scoped>\n",
       "    .dataframe tbody tr th:only-of-type {\n",
       "        vertical-align: middle;\n",
       "    }\n",
       "\n",
       "    .dataframe tbody tr th {\n",
       "        vertical-align: top;\n",
       "    }\n",
       "\n",
       "    .dataframe thead th {\n",
       "        text-align: right;\n",
       "    }\n",
       "</style>\n",
       "<table border=\"1\" class=\"dataframe\">\n",
       "  <thead>\n",
       "    <tr style=\"text-align: right;\">\n",
       "      <th></th>\n",
       "      <th>client_id</th>\n",
       "      <th>default</th>\n",
       "    </tr>\n",
       "  </thead>\n",
       "  <tbody>\n",
       "    <tr>\n",
       "      <th>0</th>\n",
       "      <td>74835</td>\n",
       "      <td>0</td>\n",
       "    </tr>\n",
       "    <tr>\n",
       "      <th>1</th>\n",
       "      <td>17527</td>\n",
       "      <td>0</td>\n",
       "    </tr>\n",
       "    <tr>\n",
       "      <th>2</th>\n",
       "      <td>75683</td>\n",
       "      <td>0</td>\n",
       "    </tr>\n",
       "    <tr>\n",
       "      <th>3</th>\n",
       "      <td>26883</td>\n",
       "      <td>0</td>\n",
       "    </tr>\n",
       "    <tr>\n",
       "      <th>4</th>\n",
       "      <td>28862</td>\n",
       "      <td>0</td>\n",
       "    </tr>\n",
       "  </tbody>\n",
       "</table>\n",
       "</div>"
      ],
      "text/plain": [
       "   client_id  default\n",
       "0      74835        0\n",
       "1      17527        0\n",
       "2      75683        0\n",
       "3      26883        0\n",
       "4      28862        0"
      ]
     },
     "execution_count": 13,
     "metadata": {},
     "output_type": "execute_result"
    }
   ],
   "source": [
    "sample_submission.head(5)"
   ]
  },
  {
   "cell_type": "code",
   "execution_count": 14,
   "id": "941db308",
   "metadata": {
    "execution": {
     "iopub.execute_input": "2022-01-08T11:59:24.369043Z",
     "iopub.status.busy": "2022-01-08T11:59:24.368429Z",
     "iopub.status.idle": "2022-01-08T11:59:24.378593Z",
     "shell.execute_reply": "2022-01-08T11:59:24.379324Z",
     "shell.execute_reply.started": "2022-01-01T11:58:02.654924Z"
    },
    "papermill": {
     "duration": 0.119612,
     "end_time": "2022-01-08T11:59:24.379547",
     "exception": false,
     "start_time": "2022-01-08T11:59:24.259935",
     "status": "completed"
    },
    "tags": []
   },
   "outputs": [
    {
     "name": "stdout",
     "output_type": "stream",
     "text": [
      "<class 'pandas.core.frame.DataFrame'>\n",
      "RangeIndex: 36349 entries, 0 to 36348\n",
      "Data columns (total 2 columns):\n",
      " #   Column     Non-Null Count  Dtype\n",
      "---  ------     --------------  -----\n",
      " 0   client_id  36349 non-null  int64\n",
      " 1   default    36349 non-null  int64\n",
      "dtypes: int64(2)\n",
      "memory usage: 568.1 KB\n"
     ]
    }
   ],
   "source": [
    "sample_submission.info()"
   ]
  },
  {
   "cell_type": "markdown",
   "id": "5497c542",
   "metadata": {
    "papermill": {
     "duration": 0.106279,
     "end_time": "2022-01-08T11:59:24.593431",
     "exception": false,
     "start_time": "2022-01-08T11:59:24.487152",
     "status": "completed"
    },
    "tags": []
   },
   "source": [
    "**Разведывательный анализ данных (EDA)**"
   ]
  },
  {
   "cell_type": "code",
   "execution_count": 15,
   "id": "58e7e820",
   "metadata": {
    "execution": {
     "iopub.execute_input": "2022-01-08T11:59:24.813993Z",
     "iopub.status.busy": "2022-01-08T11:59:24.813326Z",
     "iopub.status.idle": "2022-01-08T11:59:24.888193Z",
     "shell.execute_reply": "2022-01-08T11:59:24.887574Z",
     "shell.execute_reply.started": "2022-01-08T11:32:11.443196Z"
    },
    "papermill": {
     "duration": 0.185849,
     "end_time": "2022-01-08T11:59:24.888341",
     "exception": false,
     "start_time": "2022-01-08T11:59:24.702492",
     "status": "completed"
    },
    "tags": []
   },
   "outputs": [],
   "source": [
    "# ВАЖНО! для корректной обработки признаков объединяем трейн и тест в один датасет\n",
    "df_train['sample'] = 1 # помечаем где у нас трейн\n",
    "df_test['sample'] = 0  # помечаем где у нас тест\n",
    "df_test['default'] = 0 # в тесте у нас нет значения Rating, мы его должны предсказать, по этому пока просто заполняем нулями\n",
    "\n",
    "data = df_test.append(df_train, sort=False).reset_index(drop=True) # объединяем"
   ]
  },
  {
   "cell_type": "code",
   "execution_count": 16,
   "id": "1a561935",
   "metadata": {
    "execution": {
     "iopub.execute_input": "2022-01-08T11:59:25.107683Z",
     "iopub.status.busy": "2022-01-08T11:59:25.107024Z",
     "iopub.status.idle": "2022-01-08T11:59:25.194394Z",
     "shell.execute_reply": "2022-01-08T11:59:25.193669Z",
     "shell.execute_reply.started": "2022-01-01T11:58:09.023892Z"
    },
    "papermill": {
     "duration": 0.197679,
     "end_time": "2022-01-08T11:59:25.194544",
     "exception": false,
     "start_time": "2022-01-08T11:59:24.996865",
     "status": "completed"
    },
    "tags": []
   },
   "outputs": [
    {
     "name": "stdout",
     "output_type": "stream",
     "text": [
      "<class 'pandas.core.frame.DataFrame'>\n",
      "RangeIndex: 110148 entries, 0 to 110147\n",
      "Data columns (total 20 columns):\n",
      " #   Column            Non-Null Count   Dtype  \n",
      "---  ------            --------------   -----  \n",
      " 0   client_id         110148 non-null  int64  \n",
      " 1   app_date          110148 non-null  object \n",
      " 2   education         109670 non-null  object \n",
      " 3   sex               110148 non-null  object \n",
      " 4   age               110148 non-null  int64  \n",
      " 5   car               110148 non-null  object \n",
      " 6   car_type          110148 non-null  object \n",
      " 7   decline_app_cnt   110148 non-null  int64  \n",
      " 8   good_work         110148 non-null  int64  \n",
      " 9   score_bki         110148 non-null  float64\n",
      " 10  bki_request_cnt   110148 non-null  int64  \n",
      " 11  region_rating     110148 non-null  int64  \n",
      " 12  home_address      110148 non-null  int64  \n",
      " 13  work_address      110148 non-null  int64  \n",
      " 14  income            110148 non-null  int64  \n",
      " 15  sna               110148 non-null  int64  \n",
      " 16  first_time        110148 non-null  int64  \n",
      " 17  foreign_passport  110148 non-null  object \n",
      " 18  sample            110148 non-null  int64  \n",
      " 19  default           110148 non-null  int64  \n",
      "dtypes: float64(1), int64(13), object(6)\n",
      "memory usage: 16.8+ MB\n"
     ]
    }
   ],
   "source": [
    "# Пропуски есть только в колонке education\n",
    "data.info()"
   ]
  },
  {
   "cell_type": "code",
   "execution_count": 17,
   "id": "a9ee95ac",
   "metadata": {
    "execution": {
     "iopub.execute_input": "2022-01-08T11:59:25.415161Z",
     "iopub.status.busy": "2022-01-08T11:59:25.414037Z",
     "iopub.status.idle": "2022-01-08T11:59:25.491621Z",
     "shell.execute_reply": "2022-01-08T11:59:25.491096Z",
     "shell.execute_reply.started": "2022-01-01T11:58:12.050732Z"
    },
    "papermill": {
     "duration": 0.189937,
     "end_time": "2022-01-08T11:59:25.491762",
     "exception": false,
     "start_time": "2022-01-08T11:59:25.301825",
     "status": "completed"
    },
    "tags": []
   },
   "outputs": [
    {
     "data": {
      "text/plain": [
       "client_id           110148\n",
       "app_date               120\n",
       "education                6\n",
       "sex                      2\n",
       "age                     52\n",
       "car                      2\n",
       "car_type                 2\n",
       "decline_app_cnt         24\n",
       "good_work                2\n",
       "score_bki           102618\n",
       "bki_request_cnt         40\n",
       "region_rating            7\n",
       "home_address             3\n",
       "work_address             3\n",
       "income                1207\n",
       "sna                      4\n",
       "first_time               4\n",
       "foreign_passport         2\n",
       "sample                   2\n",
       "default                  2\n",
       "dtype: int64"
      ]
     },
     "execution_count": 17,
     "metadata": {},
     "output_type": "execute_result"
    }
   ],
   "source": [
    "# Видим, что в колонке client_id все значения уникальные\n",
    "data.nunique(dropna=False)"
   ]
  },
  {
   "cell_type": "code",
   "execution_count": 18,
   "id": "70e65e57",
   "metadata": {
    "execution": {
     "iopub.execute_input": "2022-01-08T11:59:25.719864Z",
     "iopub.status.busy": "2022-01-08T11:59:25.719129Z",
     "iopub.status.idle": "2022-01-08T11:59:25.782804Z",
     "shell.execute_reply": "2022-01-08T11:59:25.782189Z",
     "shell.execute_reply.started": "2022-01-08T11:32:15.508488Z"
    },
    "papermill": {
     "duration": 0.183612,
     "end_time": "2022-01-08T11:59:25.782944",
     "exception": false,
     "start_time": "2022-01-08T11:59:25.599332",
     "status": "completed"
    },
    "tags": []
   },
   "outputs": [],
   "source": [
    "# Посчитаем вручную параметр WOE (Weight of Evidence) для колонки sex \n",
    "female_non_default=data.groupby('sex')['default'].value_counts()[0]\n",
    "female_default=data.groupby('sex')['default'].value_counts()[1]\n",
    "male_non_default=data.groupby('sex')['default'].value_counts()[2]\n",
    "male_default=data.groupby('sex')['default'].value_counts()[3]"
   ]
  },
  {
   "cell_type": "code",
   "execution_count": 19,
   "id": "199ba4d2",
   "metadata": {
    "execution": {
     "iopub.execute_input": "2022-01-08T11:59:26.004503Z",
     "iopub.status.busy": "2022-01-08T11:59:26.003680Z",
     "iopub.status.idle": "2022-01-08T11:59:26.006637Z",
     "shell.execute_reply": "2022-01-08T11:59:26.006063Z",
     "shell.execute_reply.started": "2022-01-08T11:32:17.548326Z"
    },
    "papermill": {
     "duration": 0.116516,
     "end_time": "2022-01-08T11:59:26.006783",
     "exception": false,
     "start_time": "2022-01-08T11:59:25.890267",
     "status": "completed"
    },
    "tags": []
   },
   "outputs": [],
   "source": [
    "# Создадим датафрейм для работы с признаком WOE\n",
    "df3=pd.DataFrame(np.array([[female_non_default,female_default],[male_non_default,male_default]]),columns=['non_default','default'],index=['female','male'])"
   ]
  },
  {
   "cell_type": "code",
   "execution_count": 20,
   "id": "059fc054",
   "metadata": {
    "execution": {
     "iopub.execute_input": "2022-01-08T11:59:26.234069Z",
     "iopub.status.busy": "2022-01-08T11:59:26.233237Z",
     "iopub.status.idle": "2022-01-08T11:59:26.236551Z",
     "shell.execute_reply": "2022-01-08T11:59:26.235970Z",
     "shell.execute_reply.started": "2022-01-08T11:32:20.526970Z"
    },
    "papermill": {
     "duration": 0.121402,
     "end_time": "2022-01-08T11:59:26.236695",
     "exception": false,
     "start_time": "2022-01-08T11:59:26.115293",
     "status": "completed"
    },
    "tags": []
   },
   "outputs": [],
   "source": [
    "df3['percent_non_default']=df3['non_default']/df3['non_default'].sum()\n",
    "df3['percent_default']=df3['default']/df3['default'].sum()\n",
    "df3['WOE']=np.log(df3['percent_non_default']/df3['percent_default'])"
   ]
  },
  {
   "cell_type": "code",
   "execution_count": 21,
   "id": "5dd1ec3f",
   "metadata": {
    "execution": {
     "iopub.execute_input": "2022-01-08T11:59:26.458809Z",
     "iopub.status.busy": "2022-01-08T11:59:26.457817Z",
     "iopub.status.idle": "2022-01-08T11:59:26.460507Z",
     "shell.execute_reply": "2022-01-08T11:59:26.461090Z",
     "shell.execute_reply.started": "2022-01-08T11:32:23.195704Z"
    },
    "papermill": {
     "duration": 0.117398,
     "end_time": "2022-01-08T11:59:26.461312",
     "exception": false,
     "start_time": "2022-01-08T11:59:26.343914",
     "status": "completed"
    },
    "tags": []
   },
   "outputs": [],
   "source": [
    "# Добавим признак IV (Information Value) в наш датафрейм\n",
    "df3['IV']=(df3['percent_non_default']-df3['percent_default'])*df3['WOE']\n",
    "\n",
    "# Создадим два словаря для дальнейшей работы с WOE и IV\n",
    "dict_of_woe_sex=dict(df3['WOE'])\n",
    "dict_of_iv_sex=dict(df3['IV'])"
   ]
  },
  {
   "cell_type": "code",
   "execution_count": 22,
   "id": "7f5a4736",
   "metadata": {
    "execution": {
     "iopub.execute_input": "2022-01-08T11:59:26.682780Z",
     "iopub.status.busy": "2022-01-08T11:59:26.681836Z",
     "iopub.status.idle": "2022-01-08T11:59:26.684642Z",
     "shell.execute_reply": "2022-01-08T11:59:26.684067Z",
     "shell.execute_reply.started": "2022-01-08T11:32:26.273213Z"
    },
    "papermill": {
     "duration": 0.116259,
     "end_time": "2022-01-08T11:59:26.684790",
     "exception": false,
     "start_time": "2022-01-08T11:59:26.568531",
     "status": "completed"
    },
    "tags": []
   },
   "outputs": [],
   "source": [
    "# Функции для добавления признаков WOE и IV в основной датасет\n",
    "def add_woe_sex(string):\n",
    "    if string=='F':\n",
    "        return dict_of_woe_sex['female']\n",
    "    elif string=='M':\n",
    "        return dict_of_woe_sex['male']\n",
    "\n",
    "def add_iv_sex(string):\n",
    "    if string=='F':\n",
    "        return dict_of_iv_sex['female']\n",
    "    elif string=='M':\n",
    "        return dict_of_iv_sex['male']"
   ]
  },
  {
   "cell_type": "code",
   "execution_count": 23,
   "id": "03a7055f",
   "metadata": {
    "execution": {
     "iopub.execute_input": "2022-01-08T11:59:26.906796Z",
     "iopub.status.busy": "2022-01-08T11:59:26.905945Z",
     "iopub.status.idle": "2022-01-08T11:59:26.908965Z",
     "shell.execute_reply": "2022-01-08T11:59:26.908376Z",
     "shell.execute_reply.started": "2022-01-08T11:32:30.420638Z"
    },
    "papermill": {
     "duration": 0.115902,
     "end_time": "2022-01-08T11:59:26.909144",
     "exception": false,
     "start_time": "2022-01-08T11:59:26.793242",
     "status": "completed"
    },
    "tags": []
   },
   "outputs": [],
   "source": [
    "# Я закомментировала добавление признаков WOE и IV для колонки sex в основной датасет, т.к. \n",
    "# это ухудшает качество модели\n",
    "# data['WOE_sex']=data['sex'].apply(add_woe_sex)\n",
    "# data['IV_sex']=data['sex'].apply(add_iv_sex)"
   ]
  },
  {
   "cell_type": "code",
   "execution_count": null,
   "id": "53e8ab71",
   "metadata": {
    "execution": {
     "iopub.execute_input": "2022-01-01T11:58:20.538217Z",
     "iopub.status.busy": "2022-01-01T11:58:20.537902Z",
     "iopub.status.idle": "2022-01-01T11:58:20.544887Z",
     "shell.execute_reply": "2022-01-01T11:58:20.544196Z",
     "shell.execute_reply.started": "2022-01-01T11:58:20.538175Z"
    },
    "papermill": {
     "duration": 0.107942,
     "end_time": "2022-01-08T11:59:27.126915",
     "exception": false,
     "start_time": "2022-01-08T11:59:27.018973",
     "status": "completed"
    },
    "tags": []
   },
   "outputs": [],
   "source": []
  },
  {
   "cell_type": "markdown",
   "id": "3e3859f3",
   "metadata": {
    "papermill": {
     "duration": 0.107767,
     "end_time": "2022-01-08T11:59:27.342819",
     "exception": false,
     "start_time": "2022-01-08T11:59:27.235052",
     "status": "completed"
    },
    "tags": []
   },
   "source": [
    "**Обработка признаков**"
   ]
  },
  {
   "cell_type": "code",
   "execution_count": 24,
   "id": "89f2c622",
   "metadata": {
    "execution": {
     "iopub.execute_input": "2022-01-08T11:59:27.563343Z",
     "iopub.status.busy": "2022-01-08T11:59:27.560923Z",
     "iopub.status.idle": "2022-01-08T11:59:28.977544Z",
     "shell.execute_reply": "2022-01-08T11:59:28.976856Z",
     "shell.execute_reply.started": "2022-01-08T11:32:33.787731Z"
    },
    "papermill": {
     "duration": 1.527038,
     "end_time": "2022-01-08T11:59:28.977690",
     "exception": false,
     "start_time": "2022-01-08T11:59:27.450652",
     "status": "completed"
    },
    "tags": []
   },
   "outputs": [],
   "source": [
    "# Переведем дату в формат datetime\n",
    "data['app_date']=data['app_date'].apply(lambda x: datetime.strptime(x,'%d%b%Y')) "
   ]
  },
  {
   "cell_type": "code",
   "execution_count": 25,
   "id": "b1f6fea6",
   "metadata": {
    "execution": {
     "iopub.execute_input": "2022-01-08T11:59:29.200363Z",
     "iopub.status.busy": "2022-01-08T11:59:29.199632Z",
     "iopub.status.idle": "2022-01-08T11:59:32.284387Z",
     "shell.execute_reply": "2022-01-08T11:59:32.284984Z",
     "shell.execute_reply.started": "2022-01-08T11:32:36.614664Z"
    },
    "papermill": {
     "duration": 3.199743,
     "end_time": "2022-01-08T11:59:32.285179",
     "exception": false,
     "start_time": "2022-01-08T11:59:29.085436",
     "status": "completed"
    },
    "tags": []
   },
   "outputs": [],
   "source": [
    "# Извлечем из даты год, месяц и день\n",
    "data['app_year']=data['app_date'].apply(lambda x: x.year)\n",
    "data['app_month']=data['app_date'].apply(lambda x: x.month)\n",
    "data['app_day']=data['app_date'].apply(lambda x: x.day)\n",
    "data['app_day_of_week']=data['app_date'].apply(lambda x: x.weekday())"
   ]
  },
  {
   "cell_type": "code",
   "execution_count": 26,
   "id": "af524a1c",
   "metadata": {
    "execution": {
     "iopub.execute_input": "2022-01-08T11:59:32.506614Z",
     "iopub.status.busy": "2022-01-08T11:59:32.503681Z",
     "iopub.status.idle": "2022-01-08T11:59:33.927769Z",
     "shell.execute_reply": "2022-01-08T11:59:33.927159Z",
     "shell.execute_reply.started": "2022-01-08T11:32:39.605793Z"
    },
    "papermill": {
     "duration": 1.535003,
     "end_time": "2022-01-08T11:59:33.927911",
     "exception": false,
     "start_time": "2022-01-08T11:59:32.392908",
     "status": "completed"
    },
    "tags": []
   },
   "outputs": [],
   "source": [
    "# Введем колонку, содержащую количество дней от первой даты в датасете до даты подачи заявки \n",
    "data['timedelta']=data['app_date']-data['app_date'].min()\n",
    "data['timedelta']=data['timedelta'].apply(lambda x: x.days)\n"
   ]
  },
  {
   "cell_type": "code",
   "execution_count": 27,
   "id": "7f4d684a",
   "metadata": {
    "execution": {
     "iopub.execute_input": "2022-01-08T11:59:34.147315Z",
     "iopub.status.busy": "2022-01-08T11:59:34.146324Z",
     "iopub.status.idle": "2022-01-08T11:59:34.177630Z",
     "shell.execute_reply": "2022-01-08T11:59:34.178213Z",
     "shell.execute_reply.started": "2022-01-08T11:32:43.033522Z"
    },
    "papermill": {
     "duration": 0.143341,
     "end_time": "2022-01-08T11:59:34.178395",
     "exception": false,
     "start_time": "2022-01-08T11:59:34.035054",
     "status": "completed"
    },
    "tags": []
   },
   "outputs": [],
   "source": [
    "# Создадим два словаря с количеством клиентов каждый день и количеством дефолтных клиентов в этот день\n",
    "number_of_clients=dict(data.groupby('app_date')['client_id'].count())\n",
    "dictionary_of_defaults=dict(data.groupby('app_date')['default'].value_counts()[:,1])"
   ]
  },
  {
   "cell_type": "code",
   "execution_count": 28,
   "id": "2104056e",
   "metadata": {
    "execution": {
     "iopub.execute_input": "2022-01-08T11:59:34.396753Z",
     "iopub.status.busy": "2022-01-08T11:59:34.395722Z",
     "iopub.status.idle": "2022-01-08T11:59:36.126830Z",
     "shell.execute_reply": "2022-01-08T11:59:36.127529Z",
     "shell.execute_reply.started": "2022-01-08T11:32:45.546621Z"
    },
    "papermill": {
     "duration": 1.841721,
     "end_time": "2022-01-08T11:59:36.127746",
     "exception": false,
     "start_time": "2022-01-08T11:59:34.286025",
     "status": "completed"
    },
    "tags": []
   },
   "outputs": [],
   "source": [
    "# Создадим две дополнительных колонки с количеством клиентов в день и количеством дефолтных клиентов в день\n",
    "data['number_of_clients']=data['app_date'].apply(lambda x: number_of_clients[x])\n",
    "data['number_of_default']=data['app_date'].apply(lambda x: dictionary_of_defaults[x])"
   ]
  },
  {
   "cell_type": "code",
   "execution_count": 29,
   "id": "e45b6a81",
   "metadata": {
    "execution": {
     "iopub.execute_input": "2022-01-08T11:59:36.348703Z",
     "iopub.status.busy": "2022-01-08T11:59:36.348010Z",
     "iopub.status.idle": "2022-01-08T11:59:36.353308Z",
     "shell.execute_reply": "2022-01-08T11:59:36.354024Z",
     "shell.execute_reply.started": "2022-01-08T11:32:48.229043Z"
    },
    "papermill": {
     "duration": 0.117366,
     "end_time": "2022-01-08T11:59:36.354240",
     "exception": false,
     "start_time": "2022-01-08T11:59:36.236874",
     "status": "completed"
    },
    "tags": []
   },
   "outputs": [],
   "source": [
    "# Посчитаем процент дефолтных клиентов каждый день\n",
    "data['percent_of_default']=(data['number_of_default']/data['number_of_clients'])*100"
   ]
  },
  {
   "cell_type": "code",
   "execution_count": 30,
   "id": "5211f5f2",
   "metadata": {
    "execution": {
     "iopub.execute_input": "2022-01-08T11:59:36.572318Z",
     "iopub.status.busy": "2022-01-08T11:59:36.571643Z",
     "iopub.status.idle": "2022-01-08T11:59:36.601615Z",
     "shell.execute_reply": "2022-01-08T11:59:36.602192Z",
     "shell.execute_reply.started": "2022-01-08T11:32:50.816165Z"
    },
    "papermill": {
     "duration": 0.140391,
     "end_time": "2022-01-08T11:59:36.602378",
     "exception": false,
     "start_time": "2022-01-08T11:59:36.461987",
     "status": "completed"
    },
    "tags": []
   },
   "outputs": [],
   "source": [
    "# Год во всем датасете одинаковый (2014), удалим колонку \n",
    "data.drop(columns=['app_year'], axis=1, inplace=True)"
   ]
  },
  {
   "cell_type": "code",
   "execution_count": 31,
   "id": "1238d72b",
   "metadata": {
    "execution": {
     "iopub.execute_input": "2022-01-08T11:59:36.821383Z",
     "iopub.status.busy": "2022-01-08T11:59:36.820675Z",
     "iopub.status.idle": "2022-01-08T11:59:36.901797Z",
     "shell.execute_reply": "2022-01-08T11:59:36.901283Z",
     "shell.execute_reply.started": "2022-01-08T11:32:55.823701Z"
    },
    "papermill": {
     "duration": 0.191312,
     "end_time": "2022-01-08T11:59:36.901944",
     "exception": false,
     "start_time": "2022-01-08T11:59:36.710632",
     "status": "completed"
    },
    "tags": []
   },
   "outputs": [
    {
     "name": "stdout",
     "output_type": "stream",
     "text": [
      "Len1=18788,Len2=30300,Len3=26397,Len4=16643,Len5=12896,Len6=5124,Sum=110148\n"
     ]
    }
   ],
   "source": [
    "# Подготовка к расчету параметров WOE и IV для непрерывной переменной age (эту переменную нужно\n",
    "# поделить на бины)\n",
    "df=data[['age','default']].sort_values('age',ascending=True)\n",
    "\n",
    "len1=len(df[(df['age']>=21)&(df['age']<=27)])\n",
    "len2=len(df[(df['age']>=28)&(df['age']<=35)])\n",
    "len3=len(df[(df['age']>=36)&(df['age']<=44)])\n",
    "len4=len(df[(df['age']>=45)&(df['age']<=52)])\n",
    "len5=len(df[(df['age']>=53)&(df['age']<=60)])\n",
    "len6=len(df[df['age']>=61])\n",
    "sum=len1+len2+len3+len4+len5+len6\n",
    "\n",
    "print(\"Len1={},Len2={},Len3={},Len4={},Len5={},Len6={},Sum={}\".format(len1,len2,len3,len4,len5,len6,sum))\n",
    "\n",
    "group1=[df.query('21<=age<=27')['default'].value_counts()[0],df.query('21<=age<=27')['default'].value_counts()[1]]\n",
    "group2=[df.query('28<=age<=35')['default'].value_counts()[0],df.query('28<=age<=35')['default'].value_counts()[1]]\n",
    "group3=[df.query('36<=age<=44')['default'].value_counts()[0],df.query('36<=age<=44')['default'].value_counts()[1]]\n",
    "group4=[df.query('45<=age<=52')['default'].value_counts()[0],df.query('45<=age<=52')['default'].value_counts()[1]]\n",
    "group5=[df.query('53<=age<=60')['default'].value_counts()[0],df.query('53<=age<=60')['default'].value_counts()[1]]\n",
    "group6=[df.query('61<=age')['default'].value_counts()[0],df.query('61<=age')['default'].value_counts()[1]]\n",
    "\n",
    "df2=pd.DataFrame(np.array([group1,group2,group3,group4,group5,group6]),columns=['non-default','default'])\n",
    "\n",
    "df2['percent_of_non_default']=df2['non-default']/(df2['non-default'].sum())\n",
    "df2['percent_of_default']=df2['default']/(df2['default'].sum())\n",
    "df2['WOE']=np.log(df2['percent_of_non_default']/df2['percent_of_default'])\n",
    "\n",
    "df2['IV']=(df2['percent_of_non_default']-df2['percent_of_default'])*df2['WOE']"
   ]
  },
  {
   "cell_type": "code",
   "execution_count": 32,
   "id": "cee1fa40",
   "metadata": {
    "execution": {
     "iopub.execute_input": "2022-01-08T11:59:37.123011Z",
     "iopub.status.busy": "2022-01-08T11:59:37.122365Z",
     "iopub.status.idle": "2022-01-08T11:59:37.126017Z",
     "shell.execute_reply": "2022-01-08T11:59:37.126486Z",
     "shell.execute_reply.started": "2022-01-08T11:32:59.430028Z"
    },
    "papermill": {
     "duration": 0.11638,
     "end_time": "2022-01-08T11:59:37.126728",
     "exception": false,
     "start_time": "2022-01-08T11:59:37.010348",
     "status": "completed"
    },
    "tags": []
   },
   "outputs": [],
   "source": [
    "# Создадим два словаря для дальнейшей работы с признаками WOE и IV для переменной age\n",
    "dict_of_woe=dict(df2['WOE'])\n",
    "dict_of_iv=dict(df2['IV'])"
   ]
  },
  {
   "cell_type": "code",
   "execution_count": 33,
   "id": "de7f7d09",
   "metadata": {
    "execution": {
     "iopub.execute_input": "2022-01-08T11:59:37.354524Z",
     "iopub.status.busy": "2022-01-08T11:59:37.350428Z",
     "iopub.status.idle": "2022-01-08T11:59:37.357000Z",
     "shell.execute_reply": "2022-01-08T11:59:37.356492Z",
     "shell.execute_reply.started": "2022-01-08T11:33:03.144462Z"
    },
    "papermill": {
     "duration": 0.119245,
     "end_time": "2022-01-08T11:59:37.357183",
     "exception": false,
     "start_time": "2022-01-08T11:59:37.237938",
     "status": "completed"
    },
    "tags": []
   },
   "outputs": [],
   "source": [
    "# Функция для добавления признака WOE для колонки age в основной датасет\n",
    "def age_woe(some_age):\n",
    "    if 21<=some_age<=27:\n",
    "        return dict_of_woe[0]\n",
    "    elif 28<=some_age<=35:\n",
    "        return dict_of_woe[1]\n",
    "    elif 36<=some_age<=44:\n",
    "        return dict_of_woe[2]\n",
    "    elif 45<=some_age<=52:\n",
    "        return dict_of_woe[3]\n",
    "    elif 53<=some_age<=60:\n",
    "        return dict_of_woe[4]\n",
    "    elif 61<=some_age:\n",
    "        return dict_of_woe[5] "
   ]
  },
  {
   "cell_type": "code",
   "execution_count": 34,
   "id": "db1a9472",
   "metadata": {
    "execution": {
     "iopub.execute_input": "2022-01-08T11:59:37.576446Z",
     "iopub.status.busy": "2022-01-08T11:59:37.575495Z",
     "iopub.status.idle": "2022-01-08T11:59:37.581152Z",
     "shell.execute_reply": "2022-01-08T11:59:37.581604Z",
     "shell.execute_reply.started": "2022-01-08T11:33:05.413739Z"
    },
    "papermill": {
     "duration": 0.116789,
     "end_time": "2022-01-08T11:59:37.581782",
     "exception": false,
     "start_time": "2022-01-08T11:59:37.464993",
     "status": "completed"
    },
    "tags": []
   },
   "outputs": [],
   "source": [
    "# Функция для добавления признака IV для колонки age в основной датасет\n",
    "def age_iv(some_age):\n",
    "    if 21<=some_age<=27:\n",
    "        return dict_of_iv[0]\n",
    "    elif 28<=some_age<=35:\n",
    "        return dict_of_iv[1]\n",
    "    elif 36<=some_age<=44:\n",
    "        return dict_of_iv[2]\n",
    "    elif 45<=some_age<=52:\n",
    "        return dict_of_iv[3]\n",
    "    elif 53<=some_age<=60:\n",
    "        return dict_of_iv[4]\n",
    "    elif 61<=some_age:\n",
    "        return dict_of_iv[5] "
   ]
  },
  {
   "cell_type": "code",
   "execution_count": 35,
   "id": "4e412b07",
   "metadata": {
    "execution": {
     "iopub.execute_input": "2022-01-08T11:59:37.801821Z",
     "iopub.status.busy": "2022-01-08T11:59:37.800792Z",
     "iopub.status.idle": "2022-01-08T11:59:37.804093Z",
     "shell.execute_reply": "2022-01-08T11:59:37.804627Z",
     "shell.execute_reply.started": "2022-01-08T11:33:08.388250Z"
    },
    "papermill": {
     "duration": 0.115273,
     "end_time": "2022-01-08T11:59:37.804797",
     "exception": false,
     "start_time": "2022-01-08T11:59:37.689524",
     "status": "completed"
    },
    "tags": []
   },
   "outputs": [],
   "source": [
    "# Я закомментировала добавление признаков WOE и IV для колонки age в основной датасет, \n",
    "# т.к. это ухудшает модель\n",
    "# data['WOE_age']=data['age'].apply(age_woe)\n",
    "# data['age_iv']=data['age'].apply(age_iv)"
   ]
  },
  {
   "cell_type": "code",
   "execution_count": 36,
   "id": "1395b6ba",
   "metadata": {
    "execution": {
     "iopub.execute_input": "2022-01-08T11:59:38.026830Z",
     "iopub.status.busy": "2022-01-08T11:59:38.025831Z",
     "iopub.status.idle": "2022-01-08T11:59:38.039927Z",
     "shell.execute_reply": "2022-01-08T11:59:38.040439Z",
     "shell.execute_reply.started": "2022-01-08T11:33:12.528786Z"
    },
    "papermill": {
     "duration": 0.12798,
     "end_time": "2022-01-08T11:59:38.040626",
     "exception": false,
     "start_time": "2022-01-08T11:59:37.912646",
     "status": "completed"
    },
    "tags": []
   },
   "outputs": [],
   "source": [
    "# Функия с сайта listendata.com для расчета параметров WOE и IV. В дальнейшем я буду использовать\n",
    "# именно эту функцию\n",
    "def iv_woe(data, target, bins=10, show_woe=False):\n",
    "    \n",
    "    #Empty Dataframe\n",
    "    newDF,woeDF = pd.DataFrame(), pd.DataFrame()\n",
    "    \n",
    "    #Extract Column Names\n",
    "    cols = data.columns\n",
    "    \n",
    "    #Run WOE and IV on all the independent variables\n",
    "    for ivars in cols[~cols.isin([target])]:\n",
    "        if (data[ivars].dtype.kind in 'bifc') and (len(np.unique(data[ivars]))>10):\n",
    "            binned_x = pd.qcut(data[ivars], bins,  duplicates='drop')\n",
    "            d0 = pd.DataFrame({'x': binned_x, 'y': data[target]})\n",
    "        else:\n",
    "            d0 = pd.DataFrame({'x': data[ivars], 'y': data[target]})\n",
    "        d = d0.groupby(\"x\", as_index=False).agg({\"y\": [\"count\", \"sum\"]})\n",
    "        d.columns = ['Cutoff', 'N', 'Events']\n",
    "        d['% of Events'] = np.maximum(d['Events'], 0.5) / d['Events'].sum()\n",
    "        d['Non-Events'] = d['N'] - d['Events']\n",
    "        d['% of Non-Events'] = np.maximum(d['Non-Events'], 0.5) / d['Non-Events'].sum()\n",
    "        d['WoE'] = np.log(d['% of Events']/d['% of Non-Events'])\n",
    "        d['IV'] = d['WoE'] * (d['% of Events'] - d['% of Non-Events'])\n",
    "        d.insert(loc=0, column='Variable', value=ivars)\n",
    "        print(\"Information value of \" + ivars + \" is \" + str(round(d['IV'].sum(),6)))\n",
    "        temp =pd.DataFrame({\"Variable\" : [ivars], \"IV\" : [d['IV'].sum()]}, columns = [\"Variable\", \"IV\"])\n",
    "        newDF=pd.concat([newDF,temp], axis=0)\n",
    "        woeDF=pd.concat([woeDF,d], axis=0)\n",
    "\n",
    "        #Show WOE Table\n",
    "        if show_woe == True:\n",
    "            print(d)\n",
    "    return newDF, woeDF"
   ]
  },
  {
   "cell_type": "code",
   "execution_count": 37,
   "id": "eb7a7b81",
   "metadata": {
    "execution": {
     "iopub.execute_input": "2022-01-08T11:59:38.266916Z",
     "iopub.status.busy": "2022-01-08T11:59:38.265933Z",
     "iopub.status.idle": "2022-01-08T11:59:38.906553Z",
     "shell.execute_reply": "2022-01-08T11:59:38.905648Z",
     "shell.execute_reply.started": "2022-01-08T11:33:15.443735Z"
    },
    "papermill": {
     "duration": 0.757674,
     "end_time": "2022-01-08T11:59:38.906736",
     "exception": false,
     "start_time": "2022-01-08T11:59:38.149062",
     "status": "completed"
    },
    "tags": []
   },
   "outputs": [
    {
     "name": "stdout",
     "output_type": "stream",
     "text": [
      "Information value of client_id is 0.017569\n",
      "Information value of app_date is 0.033298\n",
      "Information value of education is 0.065819\n",
      "Information value of sex is 0.002718\n",
      "Information value of age is 0.006706\n",
      "Information value of car is 0.016455\n",
      "Information value of car_type is 0.031826\n",
      "Information value of decline_app_cnt is 0.059671\n",
      "Information value of good_work is 0.017679\n",
      "Information value of score_bki is 0.250495\n",
      "Information value of bki_request_cnt is 0.040218\n",
      "Information value of region_rating is 0.075954\n",
      "Information value of home_address is 0.073392\n",
      "Information value of work_address is 0.060667\n",
      "Information value of income is 0.03665\n",
      "Information value of sna is 0.120569\n",
      "Information value of first_time is 0.092315\n",
      "Information value of foreign_passport is 0.043638\n",
      "Information value of sample is 3.341787\n",
      "Information value of app_month is 0.012417\n",
      "Information value of app_day is 0.001962\n",
      "Information value of app_day_of_week is 0.001046\n",
      "Information value of timedelta is 0.017448\n",
      "Information value of number_of_clients is 0.002531\n",
      "Information value of number_of_default is 0.009811\n",
      "Information value of percent_of_default is 0.03127\n"
     ]
    }
   ],
   "source": [
    "# Создадим два вспомогательных датасета при помощи описанной выше функции\n",
    "DF_IV,DF_WOE=iv_woe(data,'default')"
   ]
  },
  {
   "cell_type": "code",
   "execution_count": 38,
   "id": "a00804e6",
   "metadata": {
    "execution": {
     "iopub.execute_input": "2022-01-08T11:59:39.134002Z",
     "iopub.status.busy": "2022-01-08T11:59:39.130451Z",
     "iopub.status.idle": "2022-01-08T11:59:39.136649Z",
     "shell.execute_reply": "2022-01-08T11:59:39.136009Z",
     "shell.execute_reply.started": "2022-01-08T11:33:19.445249Z"
    },
    "papermill": {
     "duration": 0.11976,
     "end_time": "2022-01-08T11:59:39.136806",
     "exception": false,
     "start_time": "2022-01-08T11:59:39.017046",
     "status": "completed"
    },
    "tags": []
   },
   "outputs": [],
   "source": [
    "# Создадим вспомогательный словарь для добавления признака WOE для колонки sna в основной датасет\n",
    "dict_of_woe_sna=dict(DF_WOE[DF_WOE['Variable']=='sna']['WoE'])"
   ]
  },
  {
   "cell_type": "code",
   "execution_count": 39,
   "id": "b381636c",
   "metadata": {
    "execution": {
     "iopub.execute_input": "2022-01-08T11:59:39.364666Z",
     "iopub.status.busy": "2022-01-08T11:59:39.363794Z",
     "iopub.status.idle": "2022-01-08T11:59:39.366579Z",
     "shell.execute_reply": "2022-01-08T11:59:39.366031Z",
     "shell.execute_reply.started": "2022-01-08T11:33:22.749440Z"
    },
    "papermill": {
     "duration": 0.11854,
     "end_time": "2022-01-08T11:59:39.366734",
     "exception": false,
     "start_time": "2022-01-08T11:59:39.248194",
     "status": "completed"
    },
    "tags": []
   },
   "outputs": [],
   "source": [
    "# Функция для добавления параметрa WOE для колонки sna в основной датасет\n",
    "def add_woe_sna(n):\n",
    "    if n==1:\n",
    "        return dict_of_woe_sna[0]\n",
    "    elif n==2:\n",
    "        return dict_of_woe_sna[1]\n",
    "    elif n==3:\n",
    "        return dict_of_woe_sna[2]\n",
    "    elif n==4:\n",
    "        return dict_of_woe_sna[3]"
   ]
  },
  {
   "cell_type": "code",
   "execution_count": 40,
   "id": "788d514f",
   "metadata": {
    "execution": {
     "iopub.execute_input": "2022-01-08T11:59:39.591476Z",
     "iopub.status.busy": "2022-01-08T11:59:39.590626Z",
     "iopub.status.idle": "2022-01-08T11:59:39.593807Z",
     "shell.execute_reply": "2022-01-08T11:59:39.593266Z",
     "shell.execute_reply.started": "2022-01-08T11:33:25.494807Z"
    },
    "papermill": {
     "duration": 0.117095,
     "end_time": "2022-01-08T11:59:39.593947",
     "exception": false,
     "start_time": "2022-01-08T11:59:39.476852",
     "status": "completed"
    },
    "tags": []
   },
   "outputs": [],
   "source": [
    "# Я закомментировала этот кусок кода, т.к. добавление данного признака ухудшает модель\n",
    "# data['WOE_sna']=data['sna'].apply(add_woe_sna)"
   ]
  },
  {
   "cell_type": "code",
   "execution_count": 41,
   "id": "b3b71de4",
   "metadata": {
    "execution": {
     "iopub.execute_input": "2022-01-08T11:59:39.835169Z",
     "iopub.status.busy": "2022-01-08T11:59:39.834458Z",
     "iopub.status.idle": "2022-01-08T11:59:39.838487Z",
     "shell.execute_reply": "2022-01-08T11:59:39.837958Z",
     "shell.execute_reply.started": "2022-01-02T11:52:06.252979Z"
    },
    "papermill": {
     "duration": 0.135016,
     "end_time": "2022-01-08T11:59:39.838647",
     "exception": false,
     "start_time": "2022-01-08T11:59:39.703631",
     "status": "completed"
    },
    "tags": []
   },
   "outputs": [
    {
     "data": {
      "text/html": [
       "<div>\n",
       "<style scoped>\n",
       "    .dataframe tbody tr th:only-of-type {\n",
       "        vertical-align: middle;\n",
       "    }\n",
       "\n",
       "    .dataframe tbody tr th {\n",
       "        vertical-align: top;\n",
       "    }\n",
       "\n",
       "    .dataframe thead th {\n",
       "        text-align: right;\n",
       "    }\n",
       "</style>\n",
       "<table border=\"1\" class=\"dataframe\">\n",
       "  <thead>\n",
       "    <tr style=\"text-align: right;\">\n",
       "      <th></th>\n",
       "      <th>client_id</th>\n",
       "      <th>app_date</th>\n",
       "      <th>education</th>\n",
       "      <th>sex</th>\n",
       "      <th>age</th>\n",
       "      <th>car</th>\n",
       "      <th>car_type</th>\n",
       "      <th>decline_app_cnt</th>\n",
       "      <th>good_work</th>\n",
       "      <th>score_bki</th>\n",
       "      <th>...</th>\n",
       "      <th>foreign_passport</th>\n",
       "      <th>sample</th>\n",
       "      <th>default</th>\n",
       "      <th>app_month</th>\n",
       "      <th>app_day</th>\n",
       "      <th>app_day_of_week</th>\n",
       "      <th>timedelta</th>\n",
       "      <th>number_of_clients</th>\n",
       "      <th>number_of_default</th>\n",
       "      <th>percent_of_default</th>\n",
       "    </tr>\n",
       "  </thead>\n",
       "  <tbody>\n",
       "    <tr>\n",
       "      <th>0</th>\n",
       "      <td>74835</td>\n",
       "      <td>2014-03-22</td>\n",
       "      <td>GRD</td>\n",
       "      <td>M</td>\n",
       "      <td>29</td>\n",
       "      <td>Y</td>\n",
       "      <td>Y</td>\n",
       "      <td>0</td>\n",
       "      <td>0</td>\n",
       "      <td>-2.271884</td>\n",
       "      <td>...</td>\n",
       "      <td>N</td>\n",
       "      <td>0</td>\n",
       "      <td>0</td>\n",
       "      <td>3</td>\n",
       "      <td>22</td>\n",
       "      <td>5</td>\n",
       "      <td>80</td>\n",
       "      <td>768</td>\n",
       "      <td>71</td>\n",
       "      <td>9.244792</td>\n",
       "    </tr>\n",
       "    <tr>\n",
       "      <th>1</th>\n",
       "      <td>17527</td>\n",
       "      <td>2014-01-24</td>\n",
       "      <td>SCH</td>\n",
       "      <td>F</td>\n",
       "      <td>39</td>\n",
       "      <td>N</td>\n",
       "      <td>N</td>\n",
       "      <td>5</td>\n",
       "      <td>0</td>\n",
       "      <td>-1.504999</td>\n",
       "      <td>...</td>\n",
       "      <td>N</td>\n",
       "      <td>0</td>\n",
       "      <td>0</td>\n",
       "      <td>1</td>\n",
       "      <td>24</td>\n",
       "      <td>4</td>\n",
       "      <td>23</td>\n",
       "      <td>1085</td>\n",
       "      <td>85</td>\n",
       "      <td>7.834101</td>\n",
       "    </tr>\n",
       "    <tr>\n",
       "      <th>2</th>\n",
       "      <td>75683</td>\n",
       "      <td>2014-03-23</td>\n",
       "      <td>UGR</td>\n",
       "      <td>M</td>\n",
       "      <td>50</td>\n",
       "      <td>Y</td>\n",
       "      <td>Y</td>\n",
       "      <td>0</td>\n",
       "      <td>0</td>\n",
       "      <td>-1.691339</td>\n",
       "      <td>...</td>\n",
       "      <td>Y</td>\n",
       "      <td>0</td>\n",
       "      <td>0</td>\n",
       "      <td>3</td>\n",
       "      <td>23</td>\n",
       "      <td>6</td>\n",
       "      <td>81</td>\n",
       "      <td>688</td>\n",
       "      <td>62</td>\n",
       "      <td>9.011628</td>\n",
       "    </tr>\n",
       "    <tr>\n",
       "      <th>3</th>\n",
       "      <td>26883</td>\n",
       "      <td>2014-02-03</td>\n",
       "      <td>SCH</td>\n",
       "      <td>M</td>\n",
       "      <td>56</td>\n",
       "      <td>N</td>\n",
       "      <td>N</td>\n",
       "      <td>0</td>\n",
       "      <td>0</td>\n",
       "      <td>-2.374182</td>\n",
       "      <td>...</td>\n",
       "      <td>N</td>\n",
       "      <td>0</td>\n",
       "      <td>0</td>\n",
       "      <td>2</td>\n",
       "      <td>3</td>\n",
       "      <td>0</td>\n",
       "      <td>33</td>\n",
       "      <td>1160</td>\n",
       "      <td>110</td>\n",
       "      <td>9.482759</td>\n",
       "    </tr>\n",
       "    <tr>\n",
       "      <th>4</th>\n",
       "      <td>28862</td>\n",
       "      <td>2014-02-04</td>\n",
       "      <td>GRD</td>\n",
       "      <td>F</td>\n",
       "      <td>38</td>\n",
       "      <td>N</td>\n",
       "      <td>N</td>\n",
       "      <td>0</td>\n",
       "      <td>0</td>\n",
       "      <td>-2.487502</td>\n",
       "      <td>...</td>\n",
       "      <td>N</td>\n",
       "      <td>0</td>\n",
       "      <td>0</td>\n",
       "      <td>2</td>\n",
       "      <td>4</td>\n",
       "      <td>1</td>\n",
       "      <td>34</td>\n",
       "      <td>1090</td>\n",
       "      <td>103</td>\n",
       "      <td>9.449541</td>\n",
       "    </tr>\n",
       "  </tbody>\n",
       "</table>\n",
       "<p>5 rows × 27 columns</p>\n",
       "</div>"
      ],
      "text/plain": [
       "   client_id   app_date education sex  age car car_type  decline_app_cnt  \\\n",
       "0      74835 2014-03-22       GRD   M   29   Y        Y                0   \n",
       "1      17527 2014-01-24       SCH   F   39   N        N                5   \n",
       "2      75683 2014-03-23       UGR   M   50   Y        Y                0   \n",
       "3      26883 2014-02-03       SCH   M   56   N        N                0   \n",
       "4      28862 2014-02-04       GRD   F   38   N        N                0   \n",
       "\n",
       "   good_work  score_bki  ...  foreign_passport  sample  default  app_month  \\\n",
       "0          0  -2.271884  ...                 N       0        0          3   \n",
       "1          0  -1.504999  ...                 N       0        0          1   \n",
       "2          0  -1.691339  ...                 Y       0        0          3   \n",
       "3          0  -2.374182  ...                 N       0        0          2   \n",
       "4          0  -2.487502  ...                 N       0        0          2   \n",
       "\n",
       "   app_day  app_day_of_week  timedelta number_of_clients  number_of_default  \\\n",
       "0       22                5         80               768                 71   \n",
       "1       24                4         23              1085                 85   \n",
       "2       23                6         81               688                 62   \n",
       "3        3                0         33              1160                110   \n",
       "4        4                1         34              1090                103   \n",
       "\n",
       "   percent_of_default  \n",
       "0            9.244792  \n",
       "1            7.834101  \n",
       "2            9.011628  \n",
       "3            9.482759  \n",
       "4            9.449541  \n",
       "\n",
       "[5 rows x 27 columns]"
      ]
     },
     "execution_count": 41,
     "metadata": {},
     "output_type": "execute_result"
    }
   ],
   "source": [
    "data.head()"
   ]
  },
  {
   "cell_type": "code",
   "execution_count": 42,
   "id": "55e0a0f5",
   "metadata": {
    "execution": {
     "iopub.execute_input": "2022-01-08T11:59:40.065558Z",
     "iopub.status.busy": "2022-01-08T11:59:40.064848Z",
     "iopub.status.idle": "2022-01-08T11:59:40.067801Z",
     "shell.execute_reply": "2022-01-08T11:59:40.067191Z",
     "shell.execute_reply.started": "2022-01-01T10:06:06.503161Z"
    },
    "papermill": {
     "duration": 0.119302,
     "end_time": "2022-01-08T11:59:40.067932",
     "exception": false,
     "start_time": "2022-01-08T11:59:39.948630",
     "status": "completed"
    },
    "tags": []
   },
   "outputs": [],
   "source": [
    "# data.drop(columns=['app_day_of_week'], inplace=True)"
   ]
  },
  {
   "cell_type": "code",
   "execution_count": 43,
   "id": "65a06d5c",
   "metadata": {
    "execution": {
     "iopub.execute_input": "2022-01-08T11:59:40.298597Z",
     "iopub.status.busy": "2022-01-08T11:59:40.292612Z",
     "iopub.status.idle": "2022-01-08T11:59:40.307426Z",
     "shell.execute_reply": "2022-01-08T11:59:40.306866Z",
     "shell.execute_reply.started": "2022-01-08T11:33:28.372490Z"
    },
    "papermill": {
     "duration": 0.129765,
     "end_time": "2022-01-08T11:59:40.307566",
     "exception": false,
     "start_time": "2022-01-08T11:59:40.177801",
     "status": "completed"
    },
    "tags": []
   },
   "outputs": [],
   "source": [
    "data.drop(columns=['age'], inplace=True)"
   ]
  },
  {
   "cell_type": "code",
   "execution_count": 44,
   "id": "b3c8835e",
   "metadata": {
    "execution": {
     "iopub.execute_input": "2022-01-08T11:59:40.590076Z",
     "iopub.status.busy": "2022-01-08T11:59:40.530897Z",
     "iopub.status.idle": "2022-01-08T11:59:40.607018Z",
     "shell.execute_reply": "2022-01-08T11:59:40.606382Z",
     "shell.execute_reply.started": "2022-01-01T11:58:44.202253Z"
    },
    "papermill": {
     "duration": 0.189992,
     "end_time": "2022-01-08T11:59:40.607210",
     "exception": false,
     "start_time": "2022-01-08T11:59:40.417218",
     "status": "completed"
    },
    "tags": []
   },
   "outputs": [
    {
     "name": "stdout",
     "output_type": "stream",
     "text": [
      "<class 'pandas.core.frame.DataFrame'>\n",
      "RangeIndex: 110148 entries, 0 to 110147\n",
      "Data columns (total 26 columns):\n",
      " #   Column              Non-Null Count   Dtype         \n",
      "---  ------              --------------   -----         \n",
      " 0   client_id           110148 non-null  int64         \n",
      " 1   app_date            110148 non-null  datetime64[ns]\n",
      " 2   education           109670 non-null  object        \n",
      " 3   sex                 110148 non-null  object        \n",
      " 4   car                 110148 non-null  object        \n",
      " 5   car_type            110148 non-null  object        \n",
      " 6   decline_app_cnt     110148 non-null  int64         \n",
      " 7   good_work           110148 non-null  int64         \n",
      " 8   score_bki           110148 non-null  float64       \n",
      " 9   bki_request_cnt     110148 non-null  int64         \n",
      " 10  region_rating       110148 non-null  int64         \n",
      " 11  home_address        110148 non-null  int64         \n",
      " 12  work_address        110148 non-null  int64         \n",
      " 13  income              110148 non-null  int64         \n",
      " 14  sna                 110148 non-null  int64         \n",
      " 15  first_time          110148 non-null  int64         \n",
      " 16  foreign_passport    110148 non-null  object        \n",
      " 17  sample              110148 non-null  int64         \n",
      " 18  default             110148 non-null  int64         \n",
      " 19  app_month           110148 non-null  int64         \n",
      " 20  app_day             110148 non-null  int64         \n",
      " 21  app_day_of_week     110148 non-null  int64         \n",
      " 22  timedelta           110148 non-null  int64         \n",
      " 23  number_of_clients   110148 non-null  int64         \n",
      " 24  number_of_default   110148 non-null  int64         \n",
      " 25  percent_of_default  110148 non-null  float64       \n",
      "dtypes: datetime64[ns](1), float64(2), int64(18), object(5)\n",
      "memory usage: 21.8+ MB\n"
     ]
    }
   ],
   "source": [
    "data.info()"
   ]
  },
  {
   "cell_type": "code",
   "execution_count": 45,
   "id": "ed1e4267",
   "metadata": {
    "execution": {
     "iopub.execute_input": "2022-01-08T11:59:40.831771Z",
     "iopub.status.busy": "2022-01-08T11:59:40.831096Z",
     "iopub.status.idle": "2022-01-08T11:59:40.835414Z",
     "shell.execute_reply": "2022-01-08T11:59:40.836005Z",
     "shell.execute_reply.started": "2022-01-08T11:33:36.125820Z"
    },
    "papermill": {
     "duration": 0.118218,
     "end_time": "2022-01-08T11:59:40.836182",
     "exception": false,
     "start_time": "2022-01-08T11:59:40.717964",
     "status": "completed"
    },
    "tags": []
   },
   "outputs": [],
   "source": [
    "# Разобьем признаки на непрерывные, категориальные и бинарные\n",
    "num_cols = ['score_bki', 'decline_app_cnt', 'bki_request_cnt', 'income','timedelta','number_of_clients','percent_of_default','number_of_default']\n",
    "cat_cols = ['education', 'first_time', 'sna', 'work_address', 'home_address', 'region_rating','app_day','app_month','app_day_of_week']\n",
    "bin_cols = ['sex','car', 'car_type', 'good_work', 'foreign_passport']"
   ]
  },
  {
   "cell_type": "code",
   "execution_count": 46,
   "id": "dfbb002c",
   "metadata": {
    "execution": {
     "iopub.execute_input": "2022-01-08T11:59:41.060903Z",
     "iopub.status.busy": "2022-01-08T11:59:41.060241Z",
     "iopub.status.idle": "2022-01-08T11:59:41.490268Z",
     "shell.execute_reply": "2022-01-08T11:59:41.490863Z",
     "shell.execute_reply.started": "2022-01-08T11:33:39.370470Z"
    },
    "papermill": {
     "duration": 0.544525,
     "end_time": "2022-01-08T11:59:41.491039",
     "exception": false,
     "start_time": "2022-01-08T11:59:40.946514",
     "status": "completed"
    },
    "tags": []
   },
   "outputs": [
    {
     "data": {
      "text/plain": [
       "<AxesSubplot:>"
      ]
     },
     "execution_count": 46,
     "metadata": {},
     "output_type": "execute_result"
    },
    {
     "data": {
      "image/png": "[encoded data removed]",
      "text/plain": [
       "<Figure size 432x288 with 2 Axes>"
      ]
     },
     "metadata": {
      "needs_background": "light"
     },
     "output_type": "display_data"
    }
   ],
   "source": [
    "# Построим тепловую карту матрицы корреляций непрерывных признаков. Интересно, что timedelta сильно \n",
    "# скореллировано с percent_of_default (коэффициент корреляции -0.62). \n",
    "# Это значит, что с течением времени падает число дефолтных клиентов\n",
    "# Признак number_of_clients сильно скоррелирован с number_of_default (0.87), а number_of_default сильно \n",
    "# скоррелирован с percent_of_default (0.52). Если использовать все эти признаки, качество модели \n",
    "# ухудшается. Можно было бы удалить некоторые из признаков, но вместо этого я использую метод главных\n",
    "# компонент (PCA).\n",
    "sns.heatmap(data[num_cols].corr().abs(), vmin=0, vmax=1)"
   ]
  },
  {
   "cell_type": "code",
   "execution_count": 47,
   "id": "bc5a88ad",
   "metadata": {
    "execution": {
     "iopub.execute_input": "2022-01-08T11:59:41.717811Z",
     "iopub.status.busy": "2022-01-08T11:59:41.717139Z",
     "iopub.status.idle": "2022-01-08T11:59:41.727596Z",
     "shell.execute_reply": "2022-01-08T11:59:41.728151Z",
     "shell.execute_reply.started": "2022-01-08T11:33:42.396421Z"
    },
    "papermill": {
     "duration": 0.125299,
     "end_time": "2022-01-08T11:59:41.728329",
     "exception": false,
     "start_time": "2022-01-08T11:59:41.603030",
     "status": "completed"
    },
    "tags": []
   },
   "outputs": [],
   "source": [
    "# Строим матрицу корреляций признаков, для которых будем искать главные компоненты\n",
    "pca_columns=['number_of_clients','number_of_default','percent_of_default']\n",
    "correlation_matrix=data[pca_columns].corr().values"
   ]
  },
  {
   "cell_type": "code",
   "execution_count": 48,
   "id": "5ccd2c2b",
   "metadata": {
    "execution": {
     "iopub.execute_input": "2022-01-08T11:59:41.959456Z",
     "iopub.status.busy": "2022-01-08T11:59:41.958726Z",
     "iopub.status.idle": "2022-01-08T11:59:41.978684Z",
     "shell.execute_reply": "2022-01-08T11:59:41.978033Z",
     "shell.execute_reply.started": "2022-01-08T11:33:46.689405Z"
    },
    "papermill": {
     "duration": 0.136012,
     "end_time": "2022-01-08T11:59:41.978821",
     "exception": false,
     "start_time": "2022-01-08T11:59:41.842809",
     "status": "completed"
    },
    "tags": []
   },
   "outputs": [
    {
     "data": {
      "text/plain": [
       "(array([2.03791266, 0.01055159, 0.95153575]),\n",
       " array([[-0.60441574, -0.6084903 , -0.514219  ],\n",
       "        [-0.6983878 ,  0.71526496, -0.0255051 ],\n",
       "        [-0.38332244, -0.34370859,  0.8572796 ]]))"
      ]
     },
     "execution_count": 48,
     "metadata": {},
     "output_type": "execute_result"
    }
   ],
   "source": [
    "# Находим собственные числа и собственные вектора\n",
    "B=np.linalg.eig(correlation_matrix)\n",
    "B"
   ]
  },
  {
   "cell_type": "code",
   "execution_count": 49,
   "id": "cf0be775",
   "metadata": {
    "execution": {
     "iopub.execute_input": "2022-01-08T11:59:42.214363Z",
     "iopub.status.busy": "2022-01-08T11:59:42.213059Z",
     "iopub.status.idle": "2022-01-08T11:59:42.237398Z",
     "shell.execute_reply": "2022-01-08T11:59:42.236358Z",
     "shell.execute_reply.started": "2022-01-08T11:33:50.691515Z"
    },
    "papermill": {
     "duration": 0.145705,
     "end_time": "2022-01-08T11:59:42.237641",
     "exception": false,
     "start_time": "2022-01-08T11:59:42.091936",
     "status": "completed"
    },
    "tags": []
   },
   "outputs": [],
   "source": [
    "# Центрируем и нормируем признаки\n",
    "mean_1=data['number_of_clients'].mean()\n",
    "len_1=np.linalg.norm(data['number_of_clients'])\n",
    "data['number_of_clients']=data['number_of_clients'] - mean_1\n",
    "data['number_of_clients']=data['number_of_clients']/len_1\n",
    "\n",
    "mean_2=data['number_of_default'].mean()\n",
    "len_2=np.linalg.norm(data['number_of_default'])\n",
    "data['number_of_default']=data['number_of_default'] - mean_2\n",
    "data['number_of_default']=data['number_of_default']/len_2\n",
    "\n",
    "mean_3=data['percent_of_default'].mean()\n",
    "len_3=np.linalg.norm(data['percent_of_default'])\n",
    "data['percent_of_default']=data['percent_of_default'] - mean_3\n",
    "data['percent_of_default']=data['percent_of_default']/len_3"
   ]
  },
  {
   "cell_type": "code",
   "execution_count": 50,
   "id": "ca6d7692",
   "metadata": {
    "execution": {
     "iopub.execute_input": "2022-01-08T11:59:42.534887Z",
     "iopub.status.busy": "2022-01-08T11:59:42.534109Z",
     "iopub.status.idle": "2022-01-08T11:59:42.538146Z",
     "shell.execute_reply": "2022-01-08T11:59:42.538707Z",
     "shell.execute_reply.started": "2022-01-08T11:33:53.427400Z"
    },
    "papermill": {
     "duration": 0.12294,
     "end_time": "2022-01-08T11:59:42.538880",
     "exception": false,
     "start_time": "2022-01-08T11:59:42.415940",
     "status": "completed"
    },
    "tags": []
   },
   "outputs": [],
   "source": [
    "# Создаем новый признак\n",
    "data['pca_component']=B[1][0][0]*data['number_of_clients']+B[1][1][0]*data['number_of_default']+B[1][2][0]*data['percent_of_default']"
   ]
  },
  {
   "cell_type": "code",
   "execution_count": 51,
   "id": "ef5926b4",
   "metadata": {
    "execution": {
     "iopub.execute_input": "2022-01-08T11:59:42.765826Z",
     "iopub.status.busy": "2022-01-08T11:59:42.765151Z",
     "iopub.status.idle": "2022-01-08T11:59:42.767847Z",
     "shell.execute_reply": "2022-01-08T11:59:42.768473Z",
     "shell.execute_reply.started": "2022-01-01T10:42:39.339904Z"
    },
    "papermill": {
     "duration": 0.117758,
     "end_time": "2022-01-08T11:59:42.768645",
     "exception": false,
     "start_time": "2022-01-08T11:59:42.650887",
     "status": "completed"
    },
    "tags": []
   },
   "outputs": [],
   "source": [
    "# data.drop(columns=['pca_component'], inplace=True)"
   ]
  },
  {
   "cell_type": "code",
   "execution_count": 52,
   "id": "2983ee6e",
   "metadata": {
    "execution": {
     "iopub.execute_input": "2022-01-08T11:59:42.996236Z",
     "iopub.status.busy": "2022-01-08T11:59:42.995558Z",
     "iopub.status.idle": "2022-01-08T11:59:43.012210Z",
     "shell.execute_reply": "2022-01-08T11:59:43.012835Z",
     "shell.execute_reply.started": "2022-01-08T11:33:56.611008Z"
    },
    "papermill": {
     "duration": 0.132436,
     "end_time": "2022-01-08T11:59:43.013034",
     "exception": false,
     "start_time": "2022-01-08T11:59:42.880598",
     "status": "completed"
    },
    "tags": []
   },
   "outputs": [],
   "source": [
    "data.drop(columns=['percent_of_default','number_of_default','number_of_clients'],axis=1,inplace=True)"
   ]
  },
  {
   "cell_type": "code",
   "execution_count": 53,
   "id": "ce7e19bd",
   "metadata": {
    "execution": {
     "iopub.execute_input": "2022-01-08T11:59:43.241672Z",
     "iopub.status.busy": "2022-01-08T11:59:43.241017Z",
     "iopub.status.idle": "2022-01-08T11:59:43.244269Z",
     "shell.execute_reply": "2022-01-08T11:59:43.244758Z",
     "shell.execute_reply.started": "2022-01-01T11:59:37.127306Z"
    },
    "papermill": {
     "duration": 0.117987,
     "end_time": "2022-01-08T11:59:43.244924",
     "exception": false,
     "start_time": "2022-01-08T11:59:43.126937",
     "status": "completed"
    },
    "tags": []
   },
   "outputs": [],
   "source": [
    "# data[num_cols].corr()"
   ]
  },
  {
   "cell_type": "code",
   "execution_count": 54,
   "id": "aa774921",
   "metadata": {
    "execution": {
     "iopub.execute_input": "2022-01-08T11:59:43.471094Z",
     "iopub.status.busy": "2022-01-08T11:59:43.470465Z",
     "iopub.status.idle": "2022-01-08T11:59:43.473346Z",
     "shell.execute_reply": "2022-01-08T11:59:43.473937Z",
     "shell.execute_reply.started": "2022-01-01T11:03:05.012487Z"
    },
    "papermill": {
     "duration": 0.117169,
     "end_time": "2022-01-08T11:59:43.474097",
     "exception": false,
     "start_time": "2022-01-08T11:59:43.356928",
     "status": "completed"
    },
    "tags": []
   },
   "outputs": [],
   "source": [
    "# Удаляем старые признаки\n",
    "# data.drop(columns=['percent_of_default','number_of_default','number_of_clients'],axis=1,inplace=True)"
   ]
  },
  {
   "cell_type": "code",
   "execution_count": null,
   "id": "e098179d",
   "metadata": {
    "papermill": {
     "duration": 0.110452,
     "end_time": "2022-01-08T11:59:43.695421",
     "exception": false,
     "start_time": "2022-01-08T11:59:43.584969",
     "status": "completed"
    },
    "tags": []
   },
   "outputs": [],
   "source": []
  },
  {
   "cell_type": "code",
   "execution_count": 55,
   "id": "c9d92c5a",
   "metadata": {
    "execution": {
     "iopub.execute_input": "2022-01-08T11:59:43.921047Z",
     "iopub.status.busy": "2022-01-08T11:59:43.920406Z",
     "iopub.status.idle": "2022-01-08T11:59:45.498056Z",
     "shell.execute_reply": "2022-01-08T11:59:45.497471Z",
     "shell.execute_reply.started": "2022-01-08T11:39:29.089967Z"
    },
    "papermill": {
     "duration": 1.691708,
     "end_time": "2022-01-08T11:59:45.498229",
     "exception": false,
     "start_time": "2022-01-08T11:59:43.806521",
     "status": "completed"
    },
    "tags": []
   },
   "outputs": [
    {
     "name": "stderr",
     "output_type": "stream",
     "text": [
      "/opt/conda/lib/python3.7/site-packages/seaborn/distributions.py:2619: FutureWarning: `distplot` is a deprecated function and will be removed in a future version. Please adapt your code to use either `displot` (a figure-level function with similar flexibility) or `histplot` (an axes-level function for histograms).\n",
      "  warnings.warn(msg, FutureWarning)\n"
     ]
    },
    {
     "data": {
      "image/png": "[encoded data removed]",
      "text/plain": [
       "<Figure size 432x288 with 1 Axes>"
      ]
     },
     "metadata": {
      "needs_background": "light"
     },
     "output_type": "display_data"
    },
    {
     "data": {
      "image/png": "[encoded data removed]",
      "text/plain": [
       "<Figure size 432x288 with 1 Axes>"
      ]
     },
     "metadata": {
      "needs_background": "light"
     },
     "output_type": "display_data"
    },
    {
     "data": {
      "image/png": "[encoded data removed]",
      "text/plain": [
       "<Figure size 432x288 with 1 Axes>"
      ]
     },
     "metadata": {
      "needs_background": "light"
     },
     "output_type": "display_data"
    },
    {
     "data": {
      "image/png": "[encoded data removed]",
      "text/plain": [
       "<Figure size 432x288 with 1 Axes>"
      ]
     },
     "metadata": {
      "needs_background": "light"
     },
     "output_type": "display_data"
    },
    {
     "data": {
      "image/png": "[encoded data removed]",
      "text/plain": [
       "<Figure size 432x288 with 1 Axes>"
      ]
     },
     "metadata": {
      "needs_background": "light"
     },
     "output_type": "display_data"
    },
    {
     "data": {
      "image/png": "[encoded data removed]",
      "text/plain": [
       "<Figure size 432x288 with 1 Axes>"
      ]
     },
     "metadata": {
      "needs_background": "light"
     },
     "output_type": "display_data"
    }
   ],
   "source": [
    "# Нарисуем графики непрерывных признаков\n",
    "for i in ['score_bki','decline_app_cnt','bki_request_cnt','income','timedelta','pca_component']:\n",
    "    plt.figure()\n",
    "    sns.distplot(data[i].dropna(), kde = False, rug=False)\n",
    "    plt.title(i)\n",
    "    plt.show()"
   ]
  },
  {
   "cell_type": "code",
   "execution_count": 56,
   "id": "d938b824",
   "metadata": {
    "execution": {
     "iopub.execute_input": "2022-01-08T11:59:45.739057Z",
     "iopub.status.busy": "2022-01-08T11:59:45.738044Z",
     "iopub.status.idle": "2022-01-08T11:59:46.577891Z",
     "shell.execute_reply": "2022-01-08T11:59:46.577272Z",
     "shell.execute_reply.started": "2022-01-08T11:34:03.334250Z"
    },
    "papermill": {
     "duration": 0.962437,
     "end_time": "2022-01-08T11:59:46.578038",
     "exception": false,
     "start_time": "2022-01-08T11:59:45.615601",
     "status": "completed"
    },
    "tags": []
   },
   "outputs": [],
   "source": [
    "# Прологарифмируем признаки, у которых \"тяжелый\" правый хвост\n",
    "data['decline_app_cnt']=data['decline_app_cnt'].apply(lambda x: np.log(x+1))\n",
    "data['bki_request_cnt']=data['bki_request_cnt'].apply(lambda x: np.log(x+1))\n",
    "data['income']=data['income'].apply(lambda x: np.log(x+1))"
   ]
  },
  {
   "cell_type": "code",
   "execution_count": 57,
   "id": "db67a4a9",
   "metadata": {
    "execution": {
     "iopub.execute_input": "2022-01-08T11:59:46.816336Z",
     "iopub.status.busy": "2022-01-08T11:59:46.814944Z",
     "iopub.status.idle": "2022-01-08T11:59:46.818835Z",
     "shell.execute_reply": "2022-01-08T11:59:46.818256Z",
     "shell.execute_reply.started": "2022-01-02T09:16:15.255831Z"
    },
    "papermill": {
     "duration": 0.123902,
     "end_time": "2022-01-08T11:59:46.818977",
     "exception": false,
     "start_time": "2022-01-08T11:59:46.695075",
     "status": "completed"
    },
    "tags": []
   },
   "outputs": [],
   "source": [
    "from sklearn.preprocessing import PolynomialFeatures"
   ]
  },
  {
   "cell_type": "code",
   "execution_count": 58,
   "id": "78382e89",
   "metadata": {
    "execution": {
     "iopub.execute_input": "2022-01-08T11:59:47.058223Z",
     "iopub.status.busy": "2022-01-08T11:59:47.057334Z",
     "iopub.status.idle": "2022-01-08T11:59:47.058900Z",
     "shell.execute_reply": "2022-01-08T11:59:47.059388Z",
     "shell.execute_reply.started": "2022-01-02T09:39:09.584801Z"
    },
    "papermill": {
     "duration": 0.123112,
     "end_time": "2022-01-08T11:59:47.059548",
     "exception": false,
     "start_time": "2022-01-08T11:59:46.936436",
     "status": "completed"
    },
    "tags": []
   },
   "outputs": [],
   "source": [
    "# Попробуем добавить полиномиальные признаки\n",
    "# pf=PolynomialFeatures(2)\n",
    "# poly_features=pf.fit_transform(data[['age','decline_app_cnt', 'income']])\n",
    "# poly_features.shape"
   ]
  },
  {
   "cell_type": "code",
   "execution_count": 59,
   "id": "f538f8a5",
   "metadata": {
    "execution": {
     "iopub.execute_input": "2022-01-08T11:59:47.302897Z",
     "iopub.status.busy": "2022-01-08T11:59:47.302200Z",
     "iopub.status.idle": "2022-01-08T11:59:47.304857Z",
     "shell.execute_reply": "2022-01-08T11:59:47.304262Z",
     "shell.execute_reply.started": "2022-01-02T09:39:12.653018Z"
    },
    "papermill": {
     "duration": 0.12645,
     "end_time": "2022-01-08T11:59:47.304998",
     "exception": false,
     "start_time": "2022-01-08T11:59:47.178548",
     "status": "completed"
    },
    "tags": []
   },
   "outputs": [],
   "source": [
    "# Работа модели показала, что добавление полиномиальных признаков ухудшает модель. \n",
    "# Поэтому я закомментировала этот кусок кода\n",
    "# index=data.index\n",
    "# right=pd.DataFrame(poly_features, columns=['1','2','3','4','5','6','7','8','9','10'], index=index)\n",
    "# data=data.join(right, how='inner')\n",
    "# data.drop(columns=['1','2','3','4','6','7','8','9','10'], inplace=True)"
   ]
  },
  {
   "cell_type": "code",
   "execution_count": 60,
   "id": "04127015",
   "metadata": {
    "execution": {
     "iopub.execute_input": "2022-01-08T11:59:47.540052Z",
     "iopub.status.busy": "2022-01-08T11:59:47.539404Z",
     "iopub.status.idle": "2022-01-08T11:59:47.544988Z",
     "shell.execute_reply": "2022-01-08T11:59:47.544233Z",
     "shell.execute_reply.started": "2022-01-02T09:18:26.123953Z"
    },
    "papermill": {
     "duration": 0.124177,
     "end_time": "2022-01-08T11:59:47.545146",
     "exception": false,
     "start_time": "2022-01-08T11:59:47.420969",
     "status": "completed"
    },
    "tags": []
   },
   "outputs": [
    {
     "data": {
      "text/plain": [
       "Index(['client_id', 'app_date', 'education', 'sex', 'car', 'car_type',\n",
       "       'decline_app_cnt', 'good_work', 'score_bki', 'bki_request_cnt',\n",
       "       'region_rating', 'home_address', 'work_address', 'income', 'sna',\n",
       "       'first_time', 'foreign_passport', 'sample', 'default', 'app_month',\n",
       "       'app_day', 'app_day_of_week', 'timedelta', 'pca_component'],\n",
       "      dtype='object')"
      ]
     },
     "execution_count": 60,
     "metadata": {},
     "output_type": "execute_result"
    }
   ],
   "source": [
    "data.columns"
   ]
  },
  {
   "cell_type": "code",
   "execution_count": null,
   "id": "f6038294",
   "metadata": {
    "papermill": {
     "duration": 0.116996,
     "end_time": "2022-01-08T11:59:47.779810",
     "exception": false,
     "start_time": "2022-01-08T11:59:47.662814",
     "status": "completed"
    },
    "tags": []
   },
   "outputs": [],
   "source": []
  },
  {
   "cell_type": "code",
   "execution_count": null,
   "id": "f8563bb0",
   "metadata": {
    "papermill": {
     "duration": 0.117775,
     "end_time": "2022-01-08T11:59:48.015044",
     "exception": false,
     "start_time": "2022-01-08T11:59:47.897269",
     "status": "completed"
    },
    "tags": []
   },
   "outputs": [],
   "source": []
  },
  {
   "cell_type": "code",
   "execution_count": 61,
   "id": "0581b295",
   "metadata": {
    "execution": {
     "iopub.execute_input": "2022-01-08T11:59:48.261699Z",
     "iopub.status.busy": "2022-01-08T11:59:48.260880Z",
     "iopub.status.idle": "2022-01-08T11:59:48.269285Z",
     "shell.execute_reply": "2022-01-08T11:59:48.269860Z",
     "shell.execute_reply.started": "2022-01-08T11:34:09.364745Z"
    },
    "papermill": {
     "duration": 0.135214,
     "end_time": "2022-01-08T11:59:48.270045",
     "exception": false,
     "start_time": "2022-01-08T11:59:48.134831",
     "status": "completed"
    },
    "tags": []
   },
   "outputs": [],
   "source": [
    "# Попробуем сделать Polynomial Features  вручную\n",
    "# Некоторые полиномиальные признаки ухудшают модель, поэтому я закомментировала некоторые куски кода.\n",
    "data['n1']=data['decline_app_cnt']*data['bki_request_cnt']*data['score_bki']\n",
    "# data['n2']=data['decline_app_cnt']**2 + data['bki_request_cnt']*data['score_bki']\n",
    "# data['n3']=data['decline_app_cnt']*data['bki_request_cnt'] + data['score_bki']**2\n",
    "# data['n4']=data['decline_app_cnt']*data['score_bki'] + data['bki_request_cnt']**2\n",
    "# data['n5']=data['decline_app_cnt']**2 + data['score_bki']**2 + data['bki_request_cnt']**2\n",
    "\n",
    "# data['n6']=data['home_address']**2 - data['work_address']*data['region_rating']\n",
    "# data['n7']=data['region_rating']**2 - data['home_address']*data['work_address']\n",
    "# data['n8']=data['work_address']**2 - data['home_address']*data['region_rating']\n",
    "\n",
    "data['n9']=data['sna']*data['first_time']\n",
    "data['n10']=data['sna'] - data['first_time']\n",
    "\n",
    "\n",
    "# data['n11']=data['income']/data['region_rating']\n",
    "# data['n12']=data['timedelta']/data['first_time']"
   ]
  },
  {
   "cell_type": "code",
   "execution_count": 62,
   "id": "80d33bba",
   "metadata": {
    "execution": {
     "iopub.execute_input": "2022-01-08T11:59:48.511602Z",
     "iopub.status.busy": "2022-01-08T11:59:48.510905Z",
     "iopub.status.idle": "2022-01-08T11:59:48.513296Z",
     "shell.execute_reply": "2022-01-08T11:59:48.513870Z",
     "shell.execute_reply.started": "2022-01-02T08:54:42.490714Z"
    },
    "papermill": {
     "duration": 0.126279,
     "end_time": "2022-01-08T11:59:48.514026",
     "exception": false,
     "start_time": "2022-01-08T11:59:48.387747",
     "status": "completed"
    },
    "tags": []
   },
   "outputs": [
    {
     "data": {
      "text/plain": [
       "Index(['client_id', 'app_date', 'education', 'sex', 'car', 'car_type',\n",
       "       'decline_app_cnt', 'good_work', 'score_bki', 'bki_request_cnt',\n",
       "       'region_rating', 'home_address', 'work_address', 'income', 'sna',\n",
       "       'first_time', 'foreign_passport', 'sample', 'default', 'app_month',\n",
       "       'app_day', 'app_day_of_week', 'timedelta', 'pca_component', 'n1', 'n9',\n",
       "       'n10'],\n",
       "      dtype='object')"
      ]
     },
     "execution_count": 62,
     "metadata": {},
     "output_type": "execute_result"
    }
   ],
   "source": [
    "data.columns"
   ]
  },
  {
   "cell_type": "code",
   "execution_count": 63,
   "id": "3cf01517",
   "metadata": {
    "execution": {
     "iopub.execute_input": "2022-01-08T11:59:48.752281Z",
     "iopub.status.busy": "2022-01-08T11:59:48.751606Z",
     "iopub.status.idle": "2022-01-08T11:59:49.164009Z",
     "shell.execute_reply": "2022-01-08T11:59:49.163247Z",
     "shell.execute_reply.started": "2022-01-08T11:34:13.250779Z"
    },
    "papermill": {
     "duration": 0.533989,
     "end_time": "2022-01-08T11:59:49.164219",
     "exception": false,
     "start_time": "2022-01-08T11:59:48.630230",
     "status": "completed"
    },
    "tags": []
   },
   "outputs": [
    {
     "data": {
      "text/plain": [
       "<AxesSubplot:>"
      ]
     },
     "execution_count": 63,
     "metadata": {},
     "output_type": "execute_result"
    },
    {
     "data": {
      "image/png": "[encoded data removed]",
      "text/plain": [
       "<Figure size 432x288 with 2 Axes>"
      ]
     },
     "metadata": {
      "needs_background": "light"
     },
     "output_type": "display_data"
    }
   ],
   "source": [
    "# polynomial_columns=['score_bki', 'bki_request_cnt','income','timedelta', 'pca_component', 'n1',\n",
    "#        'n3', 'n9', 'n10']\n",
    "\n",
    "poly_columns=['score_bki','decline_app_cnt', 'bki_request_cnt','income','timedelta', 'pca_component','n1','n9','n10']\n",
    "sns.heatmap(data[poly_columns].corr().abs(), vmin=0, vmax=1)"
   ]
  },
  {
   "cell_type": "code",
   "execution_count": 64,
   "id": "9d822ecb",
   "metadata": {
    "execution": {
     "iopub.execute_input": "2022-01-08T11:59:49.404241Z",
     "iopub.status.busy": "2022-01-08T11:59:49.403553Z",
     "iopub.status.idle": "2022-01-08T11:59:49.405720Z",
     "shell.execute_reply": "2022-01-08T11:59:49.406227Z",
     "shell.execute_reply.started": "2022-01-02T09:39:29.380041Z"
    },
    "papermill": {
     "duration": 0.123856,
     "end_time": "2022-01-08T11:59:49.406399",
     "exception": false,
     "start_time": "2022-01-08T11:59:49.282543",
     "status": "completed"
    },
    "tags": []
   },
   "outputs": [],
   "source": [
    "# data.drop(columns=['age'],axis=1,inplace=True)"
   ]
  },
  {
   "cell_type": "code",
   "execution_count": 65,
   "id": "27cd2fb5",
   "metadata": {
    "execution": {
     "iopub.execute_input": "2022-01-08T11:59:49.644001Z",
     "iopub.status.busy": "2022-01-08T11:59:49.643334Z",
     "iopub.status.idle": "2022-01-08T11:59:49.721779Z",
     "shell.execute_reply": "2022-01-08T11:59:49.721215Z",
     "shell.execute_reply.started": "2021-12-20T08:44:21.108728Z"
    },
    "papermill": {
     "duration": 0.198457,
     "end_time": "2022-01-08T11:59:49.721937",
     "exception": false,
     "start_time": "2022-01-08T11:59:49.523480",
     "status": "completed"
    },
    "tags": []
   },
   "outputs": [
    {
     "name": "stdout",
     "output_type": "stream",
     "text": [
      "<class 'pandas.core.frame.DataFrame'>\n",
      "RangeIndex: 110148 entries, 0 to 110147\n",
      "Data columns (total 27 columns):\n",
      " #   Column            Non-Null Count   Dtype         \n",
      "---  ------            --------------   -----         \n",
      " 0   client_id         110148 non-null  int64         \n",
      " 1   app_date          110148 non-null  datetime64[ns]\n",
      " 2   education         109670 non-null  object        \n",
      " 3   sex               110148 non-null  object        \n",
      " 4   car               110148 non-null  object        \n",
      " 5   car_type          110148 non-null  object        \n",
      " 6   decline_app_cnt   110148 non-null  float64       \n",
      " 7   good_work         110148 non-null  int64         \n",
      " 8   score_bki         110148 non-null  float64       \n",
      " 9   bki_request_cnt   110148 non-null  float64       \n",
      " 10  region_rating     110148 non-null  int64         \n",
      " 11  home_address      110148 non-null  int64         \n",
      " 12  work_address      110148 non-null  int64         \n",
      " 13  income            110148 non-null  float64       \n",
      " 14  sna               110148 non-null  int64         \n",
      " 15  first_time        110148 non-null  int64         \n",
      " 16  foreign_passport  110148 non-null  object        \n",
      " 17  sample            110148 non-null  int64         \n",
      " 18  default           110148 non-null  int64         \n",
      " 19  app_month         110148 non-null  int64         \n",
      " 20  app_day           110148 non-null  int64         \n",
      " 21  app_day_of_week   110148 non-null  int64         \n",
      " 22  timedelta         110148 non-null  int64         \n",
      " 23  pca_component     110148 non-null  float64       \n",
      " 24  n1                110148 non-null  float64       \n",
      " 25  n9                110148 non-null  int64         \n",
      " 26  n10               110148 non-null  int64         \n",
      "dtypes: datetime64[ns](1), float64(6), int64(15), object(5)\n",
      "memory usage: 22.7+ MB\n"
     ]
    }
   ],
   "source": [
    "data.info()"
   ]
  },
  {
   "cell_type": "code",
   "execution_count": 66,
   "id": "791a7fef",
   "metadata": {
    "execution": {
     "iopub.execute_input": "2022-01-08T11:59:49.964485Z",
     "iopub.status.busy": "2022-01-08T11:59:49.963833Z",
     "iopub.status.idle": "2022-01-08T11:59:51.467918Z",
     "shell.execute_reply": "2022-01-08T11:59:51.467248Z",
     "shell.execute_reply.started": "2022-01-08T11:34:18.110736Z"
    },
    "papermill": {
     "duration": 1.626191,
     "end_time": "2022-01-08T11:59:51.468063",
     "exception": false,
     "start_time": "2022-01-08T11:59:49.841872",
     "status": "completed"
    },
    "tags": []
   },
   "outputs": [
    {
     "data": {
      "image/png": "[encoded data removed]",
      "text/plain": [
       "<Figure size 576x288 with 1 Axes>"
      ]
     },
     "metadata": {
      "needs_background": "light"
     },
     "output_type": "display_data"
    },
    {
     "data": {
      "image/png": "[encoded data removed]",
      "text/plain": [
       "<Figure size 576x288 with 1 Axes>"
      ]
     },
     "metadata": {
      "needs_background": "light"
     },
     "output_type": "display_data"
    },
    {
     "data": {
      "image/png": "[encoded data removed]",
      "text/plain": [
       "<Figure size 576x288 with 1 Axes>"
      ]
     },
     "metadata": {
      "needs_background": "light"
     },
     "output_type": "display_data"
    },
    {
     "data": {
      "image/png": "[encoded data removed]",
      "text/plain": [
       "<Figure size 576x288 with 1 Axes>"
      ]
     },
     "metadata": {
      "needs_background": "light"
     },
     "output_type": "display_data"
    },
    {
     "data": {
      "image/png": "[encoded data removed]",
      "text/plain": [
       "<Figure size 576x288 with 1 Axes>"
      ]
     },
     "metadata": {
      "needs_background": "light"
     },
     "output_type": "display_data"
    }
   ],
   "source": [
    "# Нарисуем boxplot для непрерывных переменных (отдельно для дефолтных и для недефолтных клиентов)\n",
    "for i in ['decline_app_cnt','bki_request_cnt','income', 'score_bki','pca_component']:\n",
    "    fig, ax = plt.subplots(figsize = (8, 4))\n",
    "    box_plot1 = sns.boxplot(x=data[\"default\"], y=data[i], data=data,ax=ax)"
   ]
  },
  {
   "cell_type": "code",
   "execution_count": 67,
   "id": "88b44577",
   "metadata": {
    "execution": {
     "iopub.execute_input": "2022-01-08T11:59:51.739688Z",
     "iopub.status.busy": "2022-01-08T11:59:51.731766Z",
     "iopub.status.idle": "2022-01-08T11:59:52.772200Z",
     "shell.execute_reply": "2022-01-08T11:59:52.772724Z",
     "shell.execute_reply.started": "2022-01-08T11:34:23.632742Z"
    },
    "papermill": {
     "duration": 1.182808,
     "end_time": "2022-01-08T11:59:52.772895",
     "exception": false,
     "start_time": "2022-01-08T11:59:51.590087",
     "status": "completed"
    },
    "tags": []
   },
   "outputs": [
    {
     "data": {
      "image/png": "[encoded data removed]",
      "text/plain": [
       "<Figure size 576x288 with 1 Axes>"
      ]
     },
     "metadata": {
      "needs_background": "light"
     },
     "output_type": "display_data"
    },
    {
     "data": {
      "image/png": "[encoded data removed]",
      "text/plain": [
       "<Figure size 576x288 with 1 Axes>"
      ]
     },
     "metadata": {
      "needs_background": "light"
     },
     "output_type": "display_data"
    },
    {
     "data": {
      "image/png": "[encoded data removed]",
      "text/plain": [
       "<Figure size 576x288 with 1 Axes>"
      ]
     },
     "metadata": {
      "needs_background": "light"
     },
     "output_type": "display_data"
    },
    {
     "data": {
      "image/png": "[encoded data removed]",
      "text/plain": [
       "<Figure size 576x288 with 1 Axes>"
      ]
     },
     "metadata": {
      "needs_background": "light"
     },
     "output_type": "display_data"
    },
    {
     "data": {
      "image/png": "[encoded data removed]",
      "text/plain": [
       "<Figure size 576x288 with 1 Axes>"
      ]
     },
     "metadata": {
      "needs_background": "light"
     },
     "output_type": "display_data"
    }
   ],
   "source": [
    "# Теперь нарисуем те же графики для обоих типов клиентов, чтобы понять, что делать с выбросами.\n",
    "for i in ['decline_app_cnt','bki_request_cnt','income', 'score_bki','pca_component']:\n",
    "    plt.figure(figsize=(8, 4))\n",
    "    sns.boxplot(data=data[i], orient=\"h\")\n",
    "    plt.title(i)\n",
    "    plt.show()"
   ]
  },
  {
   "cell_type": "code",
   "execution_count": 68,
   "id": "bbc49892",
   "metadata": {
    "execution": {
     "iopub.execute_input": "2022-01-08T11:59:53.033877Z",
     "iopub.status.busy": "2022-01-08T11:59:53.033089Z",
     "iopub.status.idle": "2022-01-08T12:00:00.145793Z",
     "shell.execute_reply": "2022-01-08T12:00:00.146543Z",
     "shell.execute_reply.started": "2022-01-08T11:34:29.372890Z"
    },
    "papermill": {
     "duration": 7.247356,
     "end_time": "2022-01-08T12:00:00.146779",
     "exception": false,
     "start_time": "2022-01-08T11:59:52.899423",
     "status": "completed"
    },
    "tags": []
   },
   "outputs": [
    {
     "name": "stdout",
     "output_type": "stream",
     "text": [
      "score_bki : 518 , 0.47027635544903224\n",
      "bki_request_cnt : 15 , 0.01361804118095653\n",
      "income : 2609 , 2.3686312960743727\n",
      "pca_component : 0 , 0.0\n",
      "[518, 15, 2609, 0] \n",
      "\n",
      "[0.47027635544903224, 0.01361804118095653, 2.3686312960743727, 0.0]\n"
     ]
    }
   ],
   "source": [
    "# Посчитаем количество выбросов в колонках\n",
    "count_outliers=[]\n",
    "percent_outliers=[]\n",
    "for j in ['score_bki', 'bki_request_cnt', 'income','pca_component']:\n",
    "    borders=IQR_outliers(j)\n",
    "#     print(j,':',borders)\n",
    "    count=0\n",
    "    for i in range(0,len(data)):\n",
    "        if data[j][i]<borders[0] or data[j][i]>borders[1]:\n",
    "            count+=1\n",
    "    percent=(count/data.shape[0])*100\n",
    "    print(j,':',count, ',',percent)\n",
    "    count_outliers.append(count)\n",
    "    percent_outliers.append(percent)\n",
    "print(count_outliers,'\\n')\n",
    "print(percent_outliers)"
   ]
  },
  {
   "cell_type": "markdown",
   "id": "111210c1",
   "metadata": {
    "papermill": {
     "duration": 0.127872,
     "end_time": "2022-01-08T12:00:00.402685",
     "exception": false,
     "start_time": "2022-01-08T12:00:00.274813",
     "status": "completed"
    },
    "tags": []
   },
   "source": [
    "**Практика показала, что замена выбросов на медиану ухудшает модель (см. код ниже). В этой связи я закомментировала данный кусок кода. Все точки, которые метод IQR определил как выбросы, нужно оставить. В процентном соотношении выбросов немного (от 0.01 до 2.4%)**"
   ]
  },
  {
   "cell_type": "code",
   "execution_count": 69,
   "id": "bf4e001d",
   "metadata": {
    "execution": {
     "iopub.execute_input": "2022-01-08T12:00:00.659088Z",
     "iopub.status.busy": "2022-01-08T12:00:00.658436Z",
     "iopub.status.idle": "2022-01-08T12:00:00.661568Z",
     "shell.execute_reply": "2022-01-08T12:00:00.661006Z",
     "shell.execute_reply.started": "2021-12-14T08:59:40.683902Z"
    },
    "papermill": {
     "duration": 0.133466,
     "end_time": "2022-01-08T12:00:00.661705",
     "exception": false,
     "start_time": "2022-01-08T12:00:00.528239",
     "status": "completed"
    },
    "tags": []
   },
   "outputs": [],
   "source": [
    "# medians=[data['score_bki'].median(),data['bki_request_cnt'].median(),data['income'].median()]\n",
    "# outliers1=IQR_outliers('score_bki')\n",
    "# outliers2=IQR_outliers('bki_request_cnt')\n",
    "# outliers3=IQR_outliers('income')\n",
    "# print('score_bki:',outliers1,'\\n','bki_request_cnt:',outliers2,'\\n','income:',outliers3)\n",
    "# borders={'score_bki':outliers1,'bki_request_cnt':outliers2,'income':outliers3}\n",
    "# data['score_bki']=data['score_bki'].apply(lambda x: medians[0] if x<borders['score_bki'][0] or x>borders['score_bki'][1] else x)\n",
    "# data['bki_request_cnt']=data['bki_request_cnt'].apply(lambda x: medians[1] if x<borders['bki_request_cnt'][0] or x>borders['bki_request_cnt'][1] else x)\n",
    "# data['income']=data['income'].apply(lambda x: medians[2] if x<borders['income'][0] or x>borders['income'][1] else x)"
   ]
  },
  {
   "cell_type": "code",
   "execution_count": 70,
   "id": "a45899a5",
   "metadata": {
    "execution": {
     "iopub.execute_input": "2022-01-08T12:00:00.921266Z",
     "iopub.status.busy": "2022-01-08T12:00:00.920581Z",
     "iopub.status.idle": "2022-01-08T12:00:00.924849Z",
     "shell.execute_reply": "2022-01-08T12:00:00.924322Z",
     "shell.execute_reply.started": "2021-12-14T08:14:37.024295Z"
    },
    "papermill": {
     "duration": 0.136917,
     "end_time": "2022-01-08T12:00:00.924983",
     "exception": false,
     "start_time": "2022-01-08T12:00:00.788066",
     "status": "completed"
    },
    "tags": []
   },
   "outputs": [
    {
     "data": {
      "text/plain": [
       "(110148, 27)"
      ]
     },
     "execution_count": 70,
     "metadata": {},
     "output_type": "execute_result"
    }
   ],
   "source": [
    "data.shape"
   ]
  },
  {
   "cell_type": "code",
   "execution_count": 71,
   "id": "4bb262e6",
   "metadata": {
    "execution": {
     "iopub.execute_input": "2022-01-08T12:00:01.185376Z",
     "iopub.status.busy": "2022-01-08T12:00:01.184538Z",
     "iopub.status.idle": "2022-01-08T12:00:01.378006Z",
     "shell.execute_reply": "2022-01-08T12:00:01.377422Z",
     "shell.execute_reply.started": "2022-01-01T12:18:41.143282Z"
    },
    "papermill": {
     "duration": 0.326888,
     "end_time": "2022-01-08T12:00:01.378183",
     "exception": false,
     "start_time": "2022-01-08T12:00:01.051295",
     "status": "completed"
    },
    "tags": []
   },
   "outputs": [
    {
     "data": {
      "text/plain": [
       "<AxesSubplot:>"
      ]
     },
     "execution_count": 71,
     "metadata": {},
     "output_type": "execute_result"
    },
    {
     "data": {
      "image/png": "[encoded data removed]",
      "text/plain": [
       "<Figure size 432x288 with 1 Axes>"
      ]
     },
     "metadata": {
      "needs_background": "light"
     },
     "output_type": "display_data"
    }
   ],
   "source": [
    "# Посмотрим, сколько у нас всего дефолтных и недефолтных клиентов. Количество классов явно не сбалансировано.\n",
    "data['default'].value_counts(ascending=True).plot(kind='barh')"
   ]
  },
  {
   "cell_type": "code",
   "execution_count": 72,
   "id": "02370795",
   "metadata": {
    "execution": {
     "iopub.execute_input": "2022-01-08T12:00:01.646240Z",
     "iopub.status.busy": "2022-01-08T12:00:01.645155Z",
     "iopub.status.idle": "2022-01-08T12:00:01.655383Z",
     "shell.execute_reply": "2022-01-08T12:00:01.656010Z",
     "shell.execute_reply.started": "2022-01-08T11:34:38.984473Z"
    },
    "papermill": {
     "duration": 0.146566,
     "end_time": "2022-01-08T12:00:01.656201",
     "exception": false,
     "start_time": "2022-01-08T12:00:01.509635",
     "status": "completed"
    },
    "tags": []
   },
   "outputs": [],
   "source": [
    "# Избавимся от признаков client_id и app_date\n",
    "data.drop(['client_id','app_date',], axis = 1, inplace=True)"
   ]
  },
  {
   "cell_type": "code",
   "execution_count": 73,
   "id": "56d8d0a4",
   "metadata": {
    "execution": {
     "iopub.execute_input": "2022-01-08T12:00:01.919083Z",
     "iopub.status.busy": "2022-01-08T12:00:01.918104Z",
     "iopub.status.idle": "2022-01-08T12:00:01.921280Z",
     "shell.execute_reply": "2022-01-08T12:00:01.921745Z",
     "shell.execute_reply.started": "2021-12-19T09:55:46.217403Z"
    },
    "papermill": {
     "duration": 0.137517,
     "end_time": "2022-01-08T12:00:01.921918",
     "exception": false,
     "start_time": "2022-01-08T12:00:01.784401",
     "status": "completed"
    },
    "tags": []
   },
   "outputs": [],
   "source": [
    "# Применим метод get_dummies для колонки education. В отдельную колонку вынесем пропуски\n",
    "# data = pd.get_dummies(data, columns=['education'], dummy_na=True)"
   ]
  },
  {
   "cell_type": "code",
   "execution_count": 74,
   "id": "f509e1e7",
   "metadata": {
    "execution": {
     "iopub.execute_input": "2022-01-08T12:00:02.204076Z",
     "iopub.status.busy": "2022-01-08T12:00:02.203095Z",
     "iopub.status.idle": "2022-01-08T12:00:02.207131Z",
     "shell.execute_reply": "2022-01-08T12:00:02.206595Z",
     "shell.execute_reply.started": "2021-12-20T09:26:18.201367Z"
    },
    "papermill": {
     "duration": 0.155693,
     "end_time": "2022-01-08T12:00:02.207268",
     "exception": false,
     "start_time": "2022-01-08T12:00:02.051575",
     "status": "completed"
    },
    "tags": []
   },
   "outputs": [
    {
     "data": {
      "text/html": [
       "<div>\n",
       "<style scoped>\n",
       "    .dataframe tbody tr th:only-of-type {\n",
       "        vertical-align: middle;\n",
       "    }\n",
       "\n",
       "    .dataframe tbody tr th {\n",
       "        vertical-align: top;\n",
       "    }\n",
       "\n",
       "    .dataframe thead th {\n",
       "        text-align: right;\n",
       "    }\n",
       "</style>\n",
       "<table border=\"1\" class=\"dataframe\">\n",
       "  <thead>\n",
       "    <tr style=\"text-align: right;\">\n",
       "      <th></th>\n",
       "      <th>education</th>\n",
       "      <th>sex</th>\n",
       "      <th>car</th>\n",
       "      <th>car_type</th>\n",
       "      <th>decline_app_cnt</th>\n",
       "      <th>good_work</th>\n",
       "      <th>score_bki</th>\n",
       "      <th>bki_request_cnt</th>\n",
       "      <th>region_rating</th>\n",
       "      <th>home_address</th>\n",
       "      <th>...</th>\n",
       "      <th>sample</th>\n",
       "      <th>default</th>\n",
       "      <th>app_month</th>\n",
       "      <th>app_day</th>\n",
       "      <th>app_day_of_week</th>\n",
       "      <th>timedelta</th>\n",
       "      <th>pca_component</th>\n",
       "      <th>n1</th>\n",
       "      <th>n9</th>\n",
       "      <th>n10</th>\n",
       "    </tr>\n",
       "  </thead>\n",
       "  <tbody>\n",
       "    <tr>\n",
       "      <th>0</th>\n",
       "      <td>GRD</td>\n",
       "      <td>M</td>\n",
       "      <td>Y</td>\n",
       "      <td>Y</td>\n",
       "      <td>0.000000</td>\n",
       "      <td>0</td>\n",
       "      <td>-2.271884</td>\n",
       "      <td>1.386294</td>\n",
       "      <td>50</td>\n",
       "      <td>1</td>\n",
       "      <td>...</td>\n",
       "      <td>0</td>\n",
       "      <td>0</td>\n",
       "      <td>3</td>\n",
       "      <td>22</td>\n",
       "      <td>5</td>\n",
       "      <td>80</td>\n",
       "      <td>0.000659</td>\n",
       "      <td>-0.000000</td>\n",
       "      <td>4</td>\n",
       "      <td>-3</td>\n",
       "    </tr>\n",
       "    <tr>\n",
       "      <th>1</th>\n",
       "      <td>SCH</td>\n",
       "      <td>F</td>\n",
       "      <td>N</td>\n",
       "      <td>N</td>\n",
       "      <td>1.791759</td>\n",
       "      <td>0</td>\n",
       "      <td>-1.504999</td>\n",
       "      <td>1.098612</td>\n",
       "      <td>50</td>\n",
       "      <td>1</td>\n",
       "      <td>...</td>\n",
       "      <td>0</td>\n",
       "      <td>0</td>\n",
       "      <td>1</td>\n",
       "      <td>24</td>\n",
       "      <td>4</td>\n",
       "      <td>23</td>\n",
       "      <td>-0.000043</td>\n",
       "      <td>-2.962514</td>\n",
       "      <td>12</td>\n",
       "      <td>1</td>\n",
       "    </tr>\n",
       "    <tr>\n",
       "      <th>2</th>\n",
       "      <td>UGR</td>\n",
       "      <td>M</td>\n",
       "      <td>Y</td>\n",
       "      <td>Y</td>\n",
       "      <td>0.000000</td>\n",
       "      <td>0</td>\n",
       "      <td>-1.691339</td>\n",
       "      <td>0.693147</td>\n",
       "      <td>50</td>\n",
       "      <td>1</td>\n",
       "      <td>...</td>\n",
       "      <td>0</td>\n",
       "      <td>0</td>\n",
       "      <td>3</td>\n",
       "      <td>23</td>\n",
       "      <td>6</td>\n",
       "      <td>81</td>\n",
       "      <td>0.001045</td>\n",
       "      <td>-0.000000</td>\n",
       "      <td>3</td>\n",
       "      <td>-2</td>\n",
       "    </tr>\n",
       "    <tr>\n",
       "      <th>3</th>\n",
       "      <td>SCH</td>\n",
       "      <td>M</td>\n",
       "      <td>N</td>\n",
       "      <td>N</td>\n",
       "      <td>0.000000</td>\n",
       "      <td>0</td>\n",
       "      <td>-2.374182</td>\n",
       "      <td>0.693147</td>\n",
       "      <td>40</td>\n",
       "      <td>1</td>\n",
       "      <td>...</td>\n",
       "      <td>0</td>\n",
       "      <td>0</td>\n",
       "      <td>2</td>\n",
       "      <td>3</td>\n",
       "      <td>0</td>\n",
       "      <td>33</td>\n",
       "      <td>-0.000988</td>\n",
       "      <td>-0.000000</td>\n",
       "      <td>3</td>\n",
       "      <td>-2</td>\n",
       "    </tr>\n",
       "    <tr>\n",
       "      <th>4</th>\n",
       "      <td>GRD</td>\n",
       "      <td>F</td>\n",
       "      <td>N</td>\n",
       "      <td>N</td>\n",
       "      <td>0.000000</td>\n",
       "      <td>0</td>\n",
       "      <td>-2.487502</td>\n",
       "      <td>0.000000</td>\n",
       "      <td>80</td>\n",
       "      <td>2</td>\n",
       "      <td>...</td>\n",
       "      <td>0</td>\n",
       "      <td>0</td>\n",
       "      <td>2</td>\n",
       "      <td>4</td>\n",
       "      <td>1</td>\n",
       "      <td>34</td>\n",
       "      <td>-0.000694</td>\n",
       "      <td>-0.000000</td>\n",
       "      <td>3</td>\n",
       "      <td>-2</td>\n",
       "    </tr>\n",
       "  </tbody>\n",
       "</table>\n",
       "<p>5 rows × 25 columns</p>\n",
       "</div>"
      ],
      "text/plain": [
       "  education sex car car_type  decline_app_cnt  good_work  score_bki  \\\n",
       "0       GRD   M   Y        Y         0.000000          0  -2.271884   \n",
       "1       SCH   F   N        N         1.791759          0  -1.504999   \n",
       "2       UGR   M   Y        Y         0.000000          0  -1.691339   \n",
       "3       SCH   M   N        N         0.000000          0  -2.374182   \n",
       "4       GRD   F   N        N         0.000000          0  -2.487502   \n",
       "\n",
       "   bki_request_cnt  region_rating  home_address  ...  sample  default  \\\n",
       "0         1.386294             50             1  ...       0        0   \n",
       "1         1.098612             50             1  ...       0        0   \n",
       "2         0.693147             50             1  ...       0        0   \n",
       "3         0.693147             40             1  ...       0        0   \n",
       "4         0.000000             80             2  ...       0        0   \n",
       "\n",
       "   app_month  app_day app_day_of_week  timedelta  pca_component        n1  n9  \\\n",
       "0          3       22               5         80       0.000659 -0.000000   4   \n",
       "1          1       24               4         23      -0.000043 -2.962514  12   \n",
       "2          3       23               6         81       0.001045 -0.000000   3   \n",
       "3          2        3               0         33      -0.000988 -0.000000   3   \n",
       "4          2        4               1         34      -0.000694 -0.000000   3   \n",
       "\n",
       "   n10  \n",
       "0   -3  \n",
       "1    1  \n",
       "2   -2  \n",
       "3   -2  \n",
       "4   -2  \n",
       "\n",
       "[5 rows x 25 columns]"
      ]
     },
     "execution_count": 74,
     "metadata": {},
     "output_type": "execute_result"
    }
   ],
   "source": [
    "data.head()"
   ]
  },
  {
   "cell_type": "code",
   "execution_count": 75,
   "id": "38c71fee",
   "metadata": {
    "execution": {
     "iopub.execute_input": "2022-01-08T12:00:02.468917Z",
     "iopub.status.busy": "2022-01-08T12:00:02.467966Z",
     "iopub.status.idle": "2022-01-08T12:00:02.470874Z",
     "shell.execute_reply": "2022-01-08T12:00:02.470256Z",
     "shell.execute_reply.started": "2022-01-08T11:15:40.613334Z"
    },
    "papermill": {
     "duration": 0.13539,
     "end_time": "2022-01-08T12:00:02.471008",
     "exception": false,
     "start_time": "2022-01-08T12:00:02.335618",
     "status": "completed"
    },
    "tags": []
   },
   "outputs": [],
   "source": [
    "import random"
   ]
  },
  {
   "cell_type": "code",
   "execution_count": 76,
   "id": "75783eb7",
   "metadata": {
    "execution": {
     "iopub.execute_input": "2022-01-08T12:00:02.762658Z",
     "iopub.status.busy": "2022-01-08T12:00:02.749649Z",
     "iopub.status.idle": "2022-01-08T12:00:02.798093Z",
     "shell.execute_reply": "2022-01-08T12:00:02.797498Z",
     "shell.execute_reply.started": "2022-01-08T11:34:43.426855Z"
    },
    "papermill": {
     "duration": 0.199368,
     "end_time": "2022-01-08T12:00:02.798254",
     "exception": false,
     "start_time": "2022-01-08T12:00:02.598886",
     "status": "completed"
    },
    "tags": []
   },
   "outputs": [],
   "source": [
    "# Заполним пропуски в колонке education. Практика показала, что эту колонку лучше обрабатывать не \n",
    "# с помощью get_dummies, а с помощью OneHotEncoder. Для этого необходимо отсутствие пропусков\n",
    "prob = data['education'].value_counts(normalize=True)\n",
    "ind = data[data['education'].isna()==True].index\n",
    "fill_list = pd.Series(random.choices(prob.index, prob, k=data['education'].isna().sum()))\n",
    "fill_list.index = ind\n",
    "data['education']=data['education'].fillna(fill_list)"
   ]
  },
  {
   "cell_type": "code",
   "execution_count": 77,
   "id": "ea920685",
   "metadata": {
    "execution": {
     "iopub.execute_input": "2022-01-08T12:00:03.062658Z",
     "iopub.status.busy": "2022-01-08T12:00:03.061594Z",
     "iopub.status.idle": "2022-01-08T12:00:03.064382Z",
     "shell.execute_reply": "2022-01-08T12:00:03.063777Z",
     "shell.execute_reply.started": "2022-01-08T11:34:46.617302Z"
    },
    "papermill": {
     "duration": 0.136665,
     "end_time": "2022-01-08T12:00:03.064530",
     "exception": false,
     "start_time": "2022-01-08T12:00:02.927865",
     "status": "completed"
    },
    "tags": []
   },
   "outputs": [],
   "source": [
    "# Функция, заменяющая строковые значения в колонке education на числа (категории). Отмечу, что у меня\n",
    "# есть сомнения на счет этой функции. Как я могу быть уверена, что 'UGR' действительно по уровню ниже\n",
    "# 'GRD', а 'PGR' выше 'GRD'? Я заполнила так, как мне кажется верным, но до конца уверенности нет.\n",
    "def replace_values(string):\n",
    "    if string=='SCH':\n",
    "        return 0\n",
    "    elif string=='UGR':\n",
    "        return 1\n",
    "    elif string=='GRD':\n",
    "        return 2\n",
    "    elif string=='PGR':\n",
    "        return 3\n",
    "    elif string=='ACD':\n",
    "        return 4"
   ]
  },
  {
   "cell_type": "code",
   "execution_count": 78,
   "id": "0164a6b7",
   "metadata": {
    "execution": {
     "iopub.execute_input": "2022-01-08T12:00:03.333691Z",
     "iopub.status.busy": "2022-01-08T12:00:03.332693Z",
     "iopub.status.idle": "2022-01-08T12:00:03.410364Z",
     "shell.execute_reply": "2022-01-08T12:00:03.409761Z",
     "shell.execute_reply.started": "2022-01-08T11:34:49.253539Z"
    },
    "papermill": {
     "duration": 0.216241,
     "end_time": "2022-01-08T12:00:03.410520",
     "exception": false,
     "start_time": "2022-01-08T12:00:03.194279",
     "status": "completed"
    },
    "tags": []
   },
   "outputs": [],
   "source": [
    "# Заменим строковые значения в колонке education\n",
    "data['education']=data['education'].apply(replace_values)"
   ]
  },
  {
   "cell_type": "code",
   "execution_count": 79,
   "id": "52922564",
   "metadata": {
    "execution": {
     "iopub.execute_input": "2022-01-08T12:00:03.721339Z",
     "iopub.status.busy": "2022-01-08T12:00:03.720603Z",
     "iopub.status.idle": "2022-01-08T12:00:03.737495Z",
     "shell.execute_reply": "2022-01-08T12:00:03.736846Z",
     "shell.execute_reply.started": "2021-12-19T12:26:16.545785Z"
    },
    "papermill": {
     "duration": 0.197512,
     "end_time": "2022-01-08T12:00:03.737652",
     "exception": false,
     "start_time": "2022-01-08T12:00:03.540140",
     "status": "completed"
    },
    "tags": []
   },
   "outputs": [
    {
     "name": "stdout",
     "output_type": "stream",
     "text": [
      "<class 'pandas.core.frame.DataFrame'>\n",
      "RangeIndex: 110148 entries, 0 to 110147\n",
      "Data columns (total 25 columns):\n",
      " #   Column            Non-Null Count   Dtype  \n",
      "---  ------            --------------   -----  \n",
      " 0   education         110148 non-null  int64  \n",
      " 1   sex               110148 non-null  object \n",
      " 2   car               110148 non-null  object \n",
      " 3   car_type          110148 non-null  object \n",
      " 4   decline_app_cnt   110148 non-null  float64\n",
      " 5   good_work         110148 non-null  int64  \n",
      " 6   score_bki         110148 non-null  float64\n",
      " 7   bki_request_cnt   110148 non-null  float64\n",
      " 8   region_rating     110148 non-null  int64  \n",
      " 9   home_address      110148 non-null  int64  \n",
      " 10  work_address      110148 non-null  int64  \n",
      " 11  income            110148 non-null  float64\n",
      " 12  sna               110148 non-null  int64  \n",
      " 13  first_time        110148 non-null  int64  \n",
      " 14  foreign_passport  110148 non-null  object \n",
      " 15  sample            110148 non-null  int64  \n",
      " 16  default           110148 non-null  int64  \n",
      " 17  app_month         110148 non-null  int64  \n",
      " 18  app_day           110148 non-null  int64  \n",
      " 19  app_day_of_week   110148 non-null  int64  \n",
      " 20  timedelta         110148 non-null  int64  \n",
      " 21  pca_component     110148 non-null  float64\n",
      " 22  n1                110148 non-null  float64\n",
      " 23  n9                110148 non-null  int64  \n",
      " 24  n10               110148 non-null  int64  \n",
      "dtypes: float64(6), int64(15), object(4)\n",
      "memory usage: 21.0+ MB\n"
     ]
    }
   ],
   "source": [
    "data.info()"
   ]
  },
  {
   "cell_type": "code",
   "execution_count": 80,
   "id": "5771a6e6",
   "metadata": {
    "execution": {
     "iopub.execute_input": "2022-01-08T12:00:04.008359Z",
     "iopub.status.busy": "2022-01-08T12:00:04.007338Z",
     "iopub.status.idle": "2022-01-08T12:00:04.164327Z",
     "shell.execute_reply": "2022-01-08T12:00:04.163760Z",
     "shell.execute_reply.started": "2022-01-08T11:36:22.582102Z"
    },
    "papermill": {
     "duration": 0.295205,
     "end_time": "2022-01-08T12:00:04.164477",
     "exception": false,
     "start_time": "2022-01-08T12:00:03.869272",
     "status": "completed"
    },
    "tags": []
   },
   "outputs": [],
   "source": [
    "# Применим Label_Encoder для бинарных признаков\n",
    "\n",
    "# binary_cols = ['sex','car', 'car_type', 'good_work', 'foreign_passport']\n",
    "from sklearn import preprocessing\n",
    "le = preprocessing.LabelEncoder()\n",
    "# ohe=preprocessing.OneHotEncoder(sparse=False)\n",
    "\n",
    "for column in bin_cols:\n",
    "    data[column] = le.fit_transform(data[column])\n",
    "    \n",
    "# Для категориальных признаков применим OneHotEncoder. Сделаем это чуть позже"
   ]
  },
  {
   "cell_type": "code",
   "execution_count": 81,
   "id": "cf21e71c",
   "metadata": {
    "execution": {
     "iopub.execute_input": "2022-01-08T12:00:04.460379Z",
     "iopub.status.busy": "2022-01-08T12:00:04.459398Z",
     "iopub.status.idle": "2022-01-08T12:00:04.498915Z",
     "shell.execute_reply": "2022-01-08T12:00:04.498267Z",
     "shell.execute_reply.started": "2021-12-18T09:51:53.742542Z"
    },
    "papermill": {
     "duration": 0.195205,
     "end_time": "2022-01-08T12:00:04.499055",
     "exception": false,
     "start_time": "2022-01-08T12:00:04.303850",
     "status": "completed"
    },
    "tags": []
   },
   "outputs": [
    {
     "data": {
      "text/html": [
       "<div>\n",
       "<style scoped>\n",
       "    .dataframe tbody tr th:only-of-type {\n",
       "        vertical-align: middle;\n",
       "    }\n",
       "\n",
       "    .dataframe tbody tr th {\n",
       "        vertical-align: top;\n",
       "    }\n",
       "\n",
       "    .dataframe thead th {\n",
       "        text-align: right;\n",
       "    }\n",
       "</style>\n",
       "<table border=\"1\" class=\"dataframe\">\n",
       "  <thead>\n",
       "    <tr style=\"text-align: right;\">\n",
       "      <th></th>\n",
       "      <th>education</th>\n",
       "      <th>sex</th>\n",
       "      <th>car</th>\n",
       "      <th>car_type</th>\n",
       "      <th>decline_app_cnt</th>\n",
       "      <th>good_work</th>\n",
       "      <th>score_bki</th>\n",
       "      <th>bki_request_cnt</th>\n",
       "      <th>region_rating</th>\n",
       "      <th>home_address</th>\n",
       "      <th>...</th>\n",
       "      <th>sample</th>\n",
       "      <th>default</th>\n",
       "      <th>app_month</th>\n",
       "      <th>app_day</th>\n",
       "      <th>app_day_of_week</th>\n",
       "      <th>timedelta</th>\n",
       "      <th>pca_component</th>\n",
       "      <th>n1</th>\n",
       "      <th>n9</th>\n",
       "      <th>n10</th>\n",
       "    </tr>\n",
       "  </thead>\n",
       "  <tbody>\n",
       "    <tr>\n",
       "      <th>6367</th>\n",
       "      <td>0</td>\n",
       "      <td>0</td>\n",
       "      <td>0</td>\n",
       "      <td>0</td>\n",
       "      <td>0.000000</td>\n",
       "      <td>0</td>\n",
       "      <td>-2.203095</td>\n",
       "      <td>0.000000</td>\n",
       "      <td>50</td>\n",
       "      <td>1</td>\n",
       "      <td>...</td>\n",
       "      <td>0</td>\n",
       "      <td>0</td>\n",
       "      <td>1</td>\n",
       "      <td>22</td>\n",
       "      <td>2</td>\n",
       "      <td>21</td>\n",
       "      <td>-0.000724</td>\n",
       "      <td>-0.000000</td>\n",
       "      <td>3</td>\n",
       "      <td>-2</td>\n",
       "    </tr>\n",
       "    <tr>\n",
       "      <th>14956</th>\n",
       "      <td>0</td>\n",
       "      <td>0</td>\n",
       "      <td>0</td>\n",
       "      <td>0</td>\n",
       "      <td>0.000000</td>\n",
       "      <td>0</td>\n",
       "      <td>-2.342188</td>\n",
       "      <td>1.098612</td>\n",
       "      <td>50</td>\n",
       "      <td>2</td>\n",
       "      <td>...</td>\n",
       "      <td>0</td>\n",
       "      <td>0</td>\n",
       "      <td>3</td>\n",
       "      <td>7</td>\n",
       "      <td>4</td>\n",
       "      <td>65</td>\n",
       "      <td>0.000090</td>\n",
       "      <td>-0.000000</td>\n",
       "      <td>8</td>\n",
       "      <td>-2</td>\n",
       "    </tr>\n",
       "    <tr>\n",
       "      <th>65908</th>\n",
       "      <td>0</td>\n",
       "      <td>1</td>\n",
       "      <td>1</td>\n",
       "      <td>1</td>\n",
       "      <td>0.000000</td>\n",
       "      <td>0</td>\n",
       "      <td>-2.652237</td>\n",
       "      <td>0.000000</td>\n",
       "      <td>70</td>\n",
       "      <td>1</td>\n",
       "      <td>...</td>\n",
       "      <td>1</td>\n",
       "      <td>0</td>\n",
       "      <td>2</td>\n",
       "      <td>17</td>\n",
       "      <td>0</td>\n",
       "      <td>47</td>\n",
       "      <td>-0.000481</td>\n",
       "      <td>-0.000000</td>\n",
       "      <td>4</td>\n",
       "      <td>-3</td>\n",
       "    </tr>\n",
       "    <tr>\n",
       "      <th>68014</th>\n",
       "      <td>2</td>\n",
       "      <td>0</td>\n",
       "      <td>0</td>\n",
       "      <td>0</td>\n",
       "      <td>0.000000</td>\n",
       "      <td>0</td>\n",
       "      <td>-2.423764</td>\n",
       "      <td>0.000000</td>\n",
       "      <td>50</td>\n",
       "      <td>2</td>\n",
       "      <td>...</td>\n",
       "      <td>1</td>\n",
       "      <td>0</td>\n",
       "      <td>4</td>\n",
       "      <td>7</td>\n",
       "      <td>0</td>\n",
       "      <td>96</td>\n",
       "      <td>-0.001095</td>\n",
       "      <td>-0.000000</td>\n",
       "      <td>4</td>\n",
       "      <td>-3</td>\n",
       "    </tr>\n",
       "    <tr>\n",
       "      <th>95931</th>\n",
       "      <td>0</td>\n",
       "      <td>0</td>\n",
       "      <td>0</td>\n",
       "      <td>0</td>\n",
       "      <td>0.000000</td>\n",
       "      <td>0</td>\n",
       "      <td>-1.482694</td>\n",
       "      <td>1.098612</td>\n",
       "      <td>40</td>\n",
       "      <td>2</td>\n",
       "      <td>...</td>\n",
       "      <td>1</td>\n",
       "      <td>1</td>\n",
       "      <td>1</td>\n",
       "      <td>26</td>\n",
       "      <td>6</td>\n",
       "      <td>25</td>\n",
       "      <td>0.000660</td>\n",
       "      <td>-0.000000</td>\n",
       "      <td>3</td>\n",
       "      <td>-2</td>\n",
       "    </tr>\n",
       "    <tr>\n",
       "      <th>37189</th>\n",
       "      <td>1</td>\n",
       "      <td>0</td>\n",
       "      <td>0</td>\n",
       "      <td>0</td>\n",
       "      <td>0.000000</td>\n",
       "      <td>1</td>\n",
       "      <td>-2.031089</td>\n",
       "      <td>2.302585</td>\n",
       "      <td>60</td>\n",
       "      <td>2</td>\n",
       "      <td>...</td>\n",
       "      <td>1</td>\n",
       "      <td>0</td>\n",
       "      <td>3</td>\n",
       "      <td>26</td>\n",
       "      <td>2</td>\n",
       "      <td>84</td>\n",
       "      <td>0.001822</td>\n",
       "      <td>-0.000000</td>\n",
       "      <td>2</td>\n",
       "      <td>1</td>\n",
       "    </tr>\n",
       "    <tr>\n",
       "      <th>27038</th>\n",
       "      <td>1</td>\n",
       "      <td>0</td>\n",
       "      <td>0</td>\n",
       "      <td>0</td>\n",
       "      <td>1.098612</td>\n",
       "      <td>0</td>\n",
       "      <td>-2.424703</td>\n",
       "      <td>1.098612</td>\n",
       "      <td>80</td>\n",
       "      <td>2</td>\n",
       "      <td>...</td>\n",
       "      <td>0</td>\n",
       "      <td>0</td>\n",
       "      <td>1</td>\n",
       "      <td>27</td>\n",
       "      <td>0</td>\n",
       "      <td>26</td>\n",
       "      <td>-0.001000</td>\n",
       "      <td>-2.926493</td>\n",
       "      <td>4</td>\n",
       "      <td>-3</td>\n",
       "    </tr>\n",
       "    <tr>\n",
       "      <th>31615</th>\n",
       "      <td>2</td>\n",
       "      <td>0</td>\n",
       "      <td>1</td>\n",
       "      <td>1</td>\n",
       "      <td>0.000000</td>\n",
       "      <td>0</td>\n",
       "      <td>-2.468581</td>\n",
       "      <td>0.000000</td>\n",
       "      <td>50</td>\n",
       "      <td>1</td>\n",
       "      <td>...</td>\n",
       "      <td>0</td>\n",
       "      <td>0</td>\n",
       "      <td>2</td>\n",
       "      <td>7</td>\n",
       "      <td>4</td>\n",
       "      <td>37</td>\n",
       "      <td>-0.000053</td>\n",
       "      <td>-0.000000</td>\n",
       "      <td>2</td>\n",
       "      <td>-1</td>\n",
       "    </tr>\n",
       "    <tr>\n",
       "      <th>49590</th>\n",
       "      <td>2</td>\n",
       "      <td>0</td>\n",
       "      <td>0</td>\n",
       "      <td>0</td>\n",
       "      <td>0.000000</td>\n",
       "      <td>0</td>\n",
       "      <td>-2.407383</td>\n",
       "      <td>1.098612</td>\n",
       "      <td>70</td>\n",
       "      <td>1</td>\n",
       "      <td>...</td>\n",
       "      <td>1</td>\n",
       "      <td>0</td>\n",
       "      <td>3</td>\n",
       "      <td>13</td>\n",
       "      <td>3</td>\n",
       "      <td>71</td>\n",
       "      <td>-0.000977</td>\n",
       "      <td>-0.000000</td>\n",
       "      <td>3</td>\n",
       "      <td>-2</td>\n",
       "    </tr>\n",
       "    <tr>\n",
       "      <th>85819</th>\n",
       "      <td>1</td>\n",
       "      <td>1</td>\n",
       "      <td>1</td>\n",
       "      <td>0</td>\n",
       "      <td>0.000000</td>\n",
       "      <td>1</td>\n",
       "      <td>-1.555869</td>\n",
       "      <td>0.000000</td>\n",
       "      <td>40</td>\n",
       "      <td>2</td>\n",
       "      <td>...</td>\n",
       "      <td>1</td>\n",
       "      <td>0</td>\n",
       "      <td>4</td>\n",
       "      <td>2</td>\n",
       "      <td>2</td>\n",
       "      <td>91</td>\n",
       "      <td>-0.001397</td>\n",
       "      <td>-0.000000</td>\n",
       "      <td>3</td>\n",
       "      <td>-2</td>\n",
       "    </tr>\n",
       "  </tbody>\n",
       "</table>\n",
       "<p>10 rows × 25 columns</p>\n",
       "</div>"
      ],
      "text/plain": [
       "       education  sex  car  car_type  decline_app_cnt  good_work  score_bki  \\\n",
       "6367           0    0    0         0         0.000000          0  -2.203095   \n",
       "14956          0    0    0         0         0.000000          0  -2.342188   \n",
       "65908          0    1    1         1         0.000000          0  -2.652237   \n",
       "68014          2    0    0         0         0.000000          0  -2.423764   \n",
       "95931          0    0    0         0         0.000000          0  -1.482694   \n",
       "37189          1    0    0         0         0.000000          1  -2.031089   \n",
       "27038          1    0    0         0         1.098612          0  -2.424703   \n",
       "31615          2    0    1         1         0.000000          0  -2.468581   \n",
       "49590          2    0    0         0         0.000000          0  -2.407383   \n",
       "85819          1    1    1         0         0.000000          1  -1.555869   \n",
       "\n",
       "       bki_request_cnt  region_rating  home_address  ...  sample  default  \\\n",
       "6367          0.000000             50             1  ...       0        0   \n",
       "14956         1.098612             50             2  ...       0        0   \n",
       "65908         0.000000             70             1  ...       1        0   \n",
       "68014         0.000000             50             2  ...       1        0   \n",
       "95931         1.098612             40             2  ...       1        1   \n",
       "37189         2.302585             60             2  ...       1        0   \n",
       "27038         1.098612             80             2  ...       0        0   \n",
       "31615         0.000000             50             1  ...       0        0   \n",
       "49590         1.098612             70             1  ...       1        0   \n",
       "85819         0.000000             40             2  ...       1        0   \n",
       "\n",
       "       app_month  app_day  app_day_of_week  timedelta  pca_component  \\\n",
       "6367           1       22                2         21      -0.000724   \n",
       "14956          3        7                4         65       0.000090   \n",
       "65908          2       17                0         47      -0.000481   \n",
       "68014          4        7                0         96      -0.001095   \n",
       "95931          1       26                6         25       0.000660   \n",
       "37189          3       26                2         84       0.001822   \n",
       "27038          1       27                0         26      -0.001000   \n",
       "31615          2        7                4         37      -0.000053   \n",
       "49590          3       13                3         71      -0.000977   \n",
       "85819          4        2                2         91      -0.001397   \n",
       "\n",
       "             n1  n9  n10  \n",
       "6367  -0.000000   3   -2  \n",
       "14956 -0.000000   8   -2  \n",
       "65908 -0.000000   4   -3  \n",
       "68014 -0.000000   4   -3  \n",
       "95931 -0.000000   3   -2  \n",
       "37189 -0.000000   2    1  \n",
       "27038 -2.926493   4   -3  \n",
       "31615 -0.000000   2   -1  \n",
       "49590 -0.000000   3   -2  \n",
       "85819 -0.000000   3   -2  \n",
       "\n",
       "[10 rows x 25 columns]"
      ]
     },
     "execution_count": 81,
     "metadata": {},
     "output_type": "execute_result"
    }
   ],
   "source": [
    "data.sample(10)"
   ]
  },
  {
   "cell_type": "code",
   "execution_count": 82,
   "id": "0ce76557",
   "metadata": {
    "execution": {
     "iopub.execute_input": "2022-01-08T12:00:04.764514Z",
     "iopub.status.busy": "2022-01-08T12:00:04.763571Z",
     "iopub.status.idle": "2022-01-08T12:00:04.780532Z",
     "shell.execute_reply": "2022-01-08T12:00:04.781379Z",
     "shell.execute_reply.started": "2021-12-16T08:33:00.214668Z"
    },
    "papermill": {
     "duration": 0.150169,
     "end_time": "2022-01-08T12:00:04.781611",
     "exception": false,
     "start_time": "2022-01-08T12:00:04.631442",
     "status": "completed"
    },
    "tags": []
   },
   "outputs": [
    {
     "name": "stdout",
     "output_type": "stream",
     "text": [
      "<class 'pandas.core.frame.DataFrame'>\n",
      "RangeIndex: 110148 entries, 0 to 110147\n",
      "Data columns (total 25 columns):\n",
      " #   Column            Non-Null Count   Dtype  \n",
      "---  ------            --------------   -----  \n",
      " 0   education         110148 non-null  int64  \n",
      " 1   sex               110148 non-null  int64  \n",
      " 2   car               110148 non-null  int64  \n",
      " 3   car_type          110148 non-null  int64  \n",
      " 4   decline_app_cnt   110148 non-null  float64\n",
      " 5   good_work         110148 non-null  int64  \n",
      " 6   score_bki         110148 non-null  float64\n",
      " 7   bki_request_cnt   110148 non-null  float64\n",
      " 8   region_rating     110148 non-null  int64  \n",
      " 9   home_address      110148 non-null  int64  \n",
      " 10  work_address      110148 non-null  int64  \n",
      " 11  income            110148 non-null  float64\n",
      " 12  sna               110148 non-null  int64  \n",
      " 13  first_time        110148 non-null  int64  \n",
      " 14  foreign_passport  110148 non-null  int64  \n",
      " 15  sample            110148 non-null  int64  \n",
      " 16  default           110148 non-null  int64  \n",
      " 17  app_month         110148 non-null  int64  \n",
      " 18  app_day           110148 non-null  int64  \n",
      " 19  app_day_of_week   110148 non-null  int64  \n",
      " 20  timedelta         110148 non-null  int64  \n",
      " 21  pca_component     110148 non-null  float64\n",
      " 22  n1                110148 non-null  float64\n",
      " 23  n9                110148 non-null  int64  \n",
      " 24  n10               110148 non-null  int64  \n",
      "dtypes: float64(6), int64(19)\n",
      "memory usage: 21.0 MB\n"
     ]
    }
   ],
   "source": [
    "data.info()"
   ]
  },
  {
   "cell_type": "code",
   "execution_count": 83,
   "id": "64698004",
   "metadata": {
    "execution": {
     "iopub.execute_input": "2022-01-08T12:00:05.047902Z",
     "iopub.status.busy": "2022-01-08T12:00:05.047224Z",
     "iopub.status.idle": "2022-01-08T12:00:05.053277Z",
     "shell.execute_reply": "2022-01-08T12:00:05.053817Z",
     "shell.execute_reply.started": "2021-12-19T07:23:42.720926Z"
    },
    "papermill": {
     "duration": 0.140548,
     "end_time": "2022-01-08T12:00:05.053990",
     "exception": false,
     "start_time": "2022-01-08T12:00:04.913442",
     "status": "completed"
    },
    "tags": []
   },
   "outputs": [
    {
     "data": {
      "text/plain": [
       "Index(['education', 'sex', 'car', 'car_type', 'decline_app_cnt', 'good_work',\n",
       "       'score_bki', 'bki_request_cnt', 'region_rating', 'home_address',\n",
       "       'work_address', 'income', 'sna', 'first_time', 'foreign_passport',\n",
       "       'sample', 'default', 'app_month', 'app_day', 'app_day_of_week',\n",
       "       'timedelta', 'pca_component', 'n1', 'n9', 'n10'],\n",
       "      dtype='object')"
      ]
     },
     "execution_count": 83,
     "metadata": {},
     "output_type": "execute_result"
    }
   ],
   "source": [
    "data.columns"
   ]
  },
  {
   "cell_type": "code",
   "execution_count": 84,
   "id": "42c07d12",
   "metadata": {
    "execution": {
     "iopub.execute_input": "2022-01-08T12:00:05.323908Z",
     "iopub.status.busy": "2022-01-08T12:00:05.323024Z",
     "iopub.status.idle": "2022-01-08T12:00:05.388023Z",
     "shell.execute_reply": "2022-01-08T12:00:05.388579Z",
     "shell.execute_reply.started": "2022-01-08T11:16:11.103789Z"
    },
    "papermill": {
     "duration": 0.201519,
     "end_time": "2022-01-08T12:00:05.388775",
     "exception": false,
     "start_time": "2022-01-08T12:00:05.187256",
     "status": "completed"
    },
    "tags": []
   },
   "outputs": [],
   "source": [
    "from sklearn.model_selection import train_test_split"
   ]
  },
  {
   "cell_type": "code",
   "execution_count": 85,
   "id": "a27ee5bb",
   "metadata": {
    "execution": {
     "iopub.execute_input": "2022-01-08T12:00:05.656672Z",
     "iopub.status.busy": "2022-01-08T12:00:05.655873Z",
     "iopub.status.idle": "2022-01-08T12:00:05.741983Z",
     "shell.execute_reply": "2022-01-08T12:00:05.741420Z",
     "shell.execute_reply.started": "2022-01-08T11:16:13.104662Z"
    },
    "papermill": {
     "duration": 0.221897,
     "end_time": "2022-01-08T12:00:05.742169",
     "exception": false,
     "start_time": "2022-01-08T12:00:05.520272",
     "status": "completed"
    },
    "tags": []
   },
   "outputs": [],
   "source": [
    "# Импортируем необходимые библиотеки:\n",
    "from sklearn.linear_model import LogisticRegression # инструмент для создания и обучения модели\n",
    "from sklearn import metrics # инструменты для оценки точности модели"
   ]
  },
  {
   "cell_type": "code",
   "execution_count": 86,
   "id": "ca7ddbcd",
   "metadata": {
    "execution": {
     "iopub.execute_input": "2022-01-08T12:00:06.016581Z",
     "iopub.status.busy": "2022-01-08T12:00:06.015937Z",
     "iopub.status.idle": "2022-01-08T12:00:06.019980Z",
     "shell.execute_reply": "2022-01-08T12:00:06.019447Z",
     "shell.execute_reply.started": "2021-12-20T08:45:50.238142Z"
    },
    "papermill": {
     "duration": 0.141477,
     "end_time": "2022-01-08T12:00:06.020152",
     "exception": false,
     "start_time": "2022-01-08T12:00:05.878675",
     "status": "completed"
    },
    "tags": []
   },
   "outputs": [],
   "source": [
    "from itertools import combinations"
   ]
  },
  {
   "cell_type": "code",
   "execution_count": 87,
   "id": "7f5b42dc",
   "metadata": {
    "execution": {
     "iopub.execute_input": "2022-01-08T12:00:06.289721Z",
     "iopub.status.busy": "2022-01-08T12:00:06.288993Z",
     "iopub.status.idle": "2022-01-08T12:00:06.302240Z",
     "shell.execute_reply": "2022-01-08T12:00:06.302818Z",
     "shell.execute_reply.started": "2022-01-01T12:19:14.636946Z"
    },
    "papermill": {
     "duration": 0.150565,
     "end_time": "2022-01-08T12:00:06.302996",
     "exception": false,
     "start_time": "2022-01-08T12:00:06.152431",
     "status": "completed"
    },
    "tags": []
   },
   "outputs": [],
   "source": [
    "# Функция для подбора наилучших полиномиальных признаков. Будем комбиринровать колонки с непрерывным\n",
    "# типом данных по три штуки и создавать на их основе Polynomial Features. Как сделать комбинации,\n",
    "# описано ниже в закомментированном куске кода.\n",
    "def find_polynomial_features(df,cols):\n",
    "    pf=PolynomialFeatures(2)\n",
    "    poly_features=pf.fit_transform(df[cols])\n",
    "    index=df.index\n",
    "    right=pd.DataFrame(poly_features, columns=['1','2','3','4','5','6','7','8','9','10'], index=index)\n",
    "    right.drop(columns=['1','2','3','4'], inplace=True)\n",
    "    df=df.join(right, how='inner')\n",
    "    \n",
    "    train_data = df.query('sample == 1').drop(['sample'], axis=1)\n",
    "#     test_data = data.query('sample == 0').drop(['sample', 'default'], axis=1)\n",
    "    y = train_data['default'].values  # наш таргет\n",
    "    X = train_data.drop(['default'], axis=1)\n",
    "    \n",
    "    X_train, X_test, y_train, y_test = train_test_split(X, y, test_size=0.2, random_state=42)\n",
    "    \n",
    "    X1=X_train[['age','decline_app_cnt','bki_request_cnt','income', 'score_bki','number_of_clients','timedelta','5','6','7','8','9','10']].values\n",
    "    X2=X_test[['age','decline_app_cnt','bki_request_cnt','income', 'score_bki','number_of_clients','timedelta','5','6','7','8','9','10']].values\n",
    "    \n",
    "    scaler=RobustScaler()\n",
    "    X1_transformed=scaler.fit_transform(X1)\n",
    "    X2_transformed=scaler.transform(X2)\n",
    "    X_train[['age','decline_app_cnt','bki_request_cnt','income', 'score_bki','number_of_clients','timedelta','5','6','7','8','9','10' ]]=X1_transformed\n",
    "    X_test[['age','decline_app_cnt','bki_request_cnt','income', 'score_bki','number_of_clients','timedelta','5','6','7','8','9','10']]=X2_transformed\n",
    "    \n",
    "    model = LogisticRegression(solver='saga', max_iter=1000, class_weight='balanced', penalty='l2', tol=0.001, multi_class='ovr')\n",
    "    model.fit(X_train, y_train)\n",
    "    y_pred = model.predict(X_test) \n",
    "    return metrics.f1_score(y_test,y_pred)"
   ]
  },
  {
   "cell_type": "code",
   "execution_count": 88,
   "id": "095df683",
   "metadata": {
    "execution": {
     "iopub.execute_input": "2022-01-08T12:00:06.573059Z",
     "iopub.status.busy": "2022-01-08T12:00:06.572364Z",
     "iopub.status.idle": "2022-01-08T12:00:06.576673Z",
     "shell.execute_reply": "2022-01-08T12:00:06.577244Z",
     "shell.execute_reply.started": "2021-12-19T08:33:49.797745Z"
    },
    "papermill": {
     "duration": 0.138716,
     "end_time": "2022-01-08T12:00:06.577429",
     "exception": false,
     "start_time": "2022-01-08T12:00:06.438713",
     "status": "completed"
    },
    "tags": []
   },
   "outputs": [],
   "source": [
    "# В ходе работы этого цикла было обнаружено, что наибольшее значение метрики f1_score получается при\n",
    "# использовании комбинации ['age', 'decline_app_cnt', 'income'] для создания полиномиальных признаков. \n",
    "# Я закомментировала этот кусок кода, т.к. нет необходимости запускать его каждый раз. Обучение модели \n",
    "# на каждом шаге цикла занимает слишком много времени.\n",
    "# Более того, было показано, что добавление полиномиальных признаков ухудшает модель. Поэтому было \n",
    "# решено от них отказаться.\n",
    "# columns=['age','decline_app_cnt',\n",
    "#        'score_bki', 'bki_request_cnt', 'income',\n",
    "#        'timedelta', 'number_of_clients']\n",
    "# cand=find_polynomial_features(data,['age', 'decline_app_cnt', 'score_bki'])\n",
    "# columns_best=['age', 'decline_app_cnt', 'score_bki']\n",
    "# for i in combinations(columns,3):    \n",
    "#     f1_score_current=find_polynomial_features(data,list(i))\n",
    "#     print('For the following columns: ',i,' f1_score=', f1_score_current,'\\n')\n",
    "#     if f1_score_current>cand:\n",
    "#         cand=f1_score_current\n",
    "#         columns_best=i\n",
    "# print(cand)\n",
    "# print(columns_best)"
   ]
  },
  {
   "cell_type": "code",
   "execution_count": 89,
   "id": "fdfd5f42",
   "metadata": {
    "execution": {
     "iopub.execute_input": "2022-01-08T12:00:06.854745Z",
     "iopub.status.busy": "2022-01-08T12:00:06.853935Z",
     "iopub.status.idle": "2022-01-08T12:00:06.931316Z",
     "shell.execute_reply": "2022-01-08T12:00:06.930678Z",
     "shell.execute_reply.started": "2022-01-08T11:36:42.335952Z"
    },
    "papermill": {
     "duration": 0.218205,
     "end_time": "2022-01-08T12:00:06.931487",
     "exception": false,
     "start_time": "2022-01-08T12:00:06.713282",
     "status": "completed"
    },
    "tags": []
   },
   "outputs": [],
   "source": [
    "from sklearn.feature_selection import f_classif"
   ]
  },
  {
   "cell_type": "code",
   "execution_count": 90,
   "id": "ed9e2c16",
   "metadata": {
    "execution": {
     "iopub.execute_input": "2022-01-08T12:00:07.212429Z",
     "iopub.status.busy": "2022-01-08T12:00:07.211710Z",
     "iopub.status.idle": "2022-01-08T12:00:07.465974Z",
     "shell.execute_reply": "2022-01-08T12:00:07.465325Z",
     "shell.execute_reply.started": "2022-01-08T11:36:44.894942Z"
    },
    "papermill": {
     "duration": 0.40127,
     "end_time": "2022-01-08T12:00:07.466136",
     "exception": false,
     "start_time": "2022-01-08T12:00:07.064866",
     "status": "completed"
    },
    "tags": []
   },
   "outputs": [
    {
     "data": {
      "text/plain": [
       "<AxesSubplot:>"
      ]
     },
     "execution_count": 90,
     "metadata": {},
     "output_type": "execute_result"
    },
    {
     "data": {
      "image/png": "[encoded data removed]",
      "text/plain": [
       "<Figure size 432x288 with 1 Axes>"
      ]
     },
     "metadata": {
      "needs_background": "light"
     },
     "output_type": "display_data"
    }
   ],
   "source": [
    "# У меня получился результат, отличный от полученного в модуле. Самым важным среди непрерывных\n",
    "# признаков является score_bki\n",
    "cols=['score_bki', 'decline_app_cnt', 'bki_request_cnt', 'income','timedelta','pca_component', 'n1','n9','n10']\n",
    "imp_num = pd.Series(f_classif(data[cols], data['default'])[0], index = cols)\n",
    "imp_num.sort_values(inplace = True)\n",
    "imp_num.plot(kind = 'barh')"
   ]
  },
  {
   "cell_type": "code",
   "execution_count": 91,
   "id": "97bccf43",
   "metadata": {
    "execution": {
     "iopub.execute_input": "2022-01-08T12:00:07.736140Z",
     "iopub.status.busy": "2022-01-08T12:00:07.735483Z",
     "iopub.status.idle": "2022-01-08T12:00:07.738400Z",
     "shell.execute_reply": "2022-01-08T12:00:07.737828Z",
     "shell.execute_reply.started": "2022-01-08T11:36:48.353633Z"
    },
    "papermill": {
     "duration": 0.139659,
     "end_time": "2022-01-08T12:00:07.738562",
     "exception": false,
     "start_time": "2022-01-08T12:00:07.598903",
     "status": "completed"
    },
    "tags": []
   },
   "outputs": [],
   "source": [
    "from sklearn.feature_selection import mutual_info_classif"
   ]
  },
  {
   "cell_type": "code",
   "execution_count": 92,
   "id": "f62bc66a",
   "metadata": {
    "execution": {
     "iopub.execute_input": "2022-01-08T12:00:08.015479Z",
     "iopub.status.busy": "2022-01-08T12:00:08.014739Z",
     "iopub.status.idle": "2022-01-08T12:00:08.436325Z",
     "shell.execute_reply": "2022-01-08T12:00:08.436844Z",
     "shell.execute_reply.started": "2022-01-08T11:36:51.344747Z"
    },
    "papermill": {
     "duration": 0.566535,
     "end_time": "2022-01-08T12:00:08.437012",
     "exception": false,
     "start_time": "2022-01-08T12:00:07.870477",
     "status": "completed"
    },
    "tags": []
   },
   "outputs": [
    {
     "data": {
      "text/plain": [
       "<AxesSubplot:>"
      ]
     },
     "execution_count": 92,
     "metadata": {},
     "output_type": "execute_result"
    },
    {
     "data": {
      "image/png": "[encoded data removed]",
      "text/plain": [
       "<Figure size 432x288 with 1 Axes>"
      ]
     },
     "metadata": {
      "needs_background": "light"
     },
     "output_type": "display_data"
    }
   ],
   "source": [
    "# У меня получился результат, отличный от полученного в модуле. Самым важным среди категориальных и \n",
    "# бинарных признаков является sna\n",
    "other_cols = ['first_time', 'sna', 'work_address', 'home_address', 'region_rating','app_day','app_month','sex', 'car', 'car_type', 'good_work', 'foreign_passport', 'app_day_of_week']\n",
    "\n",
    "imp_cat = pd.Series(mutual_info_classif(data[other_cols], data['default'],\n",
    "                                     discrete_features =True), index = other_cols)\n",
    "imp_cat.sort_values(inplace = True)\n",
    "imp_cat.plot(kind = 'barh')"
   ]
  },
  {
   "cell_type": "code",
   "execution_count": 93,
   "id": "32447a5a",
   "metadata": {
    "execution": {
     "iopub.execute_input": "2022-01-08T12:00:08.705367Z",
     "iopub.status.busy": "2022-01-08T12:00:08.704655Z",
     "iopub.status.idle": "2022-01-08T12:00:08.709164Z",
     "shell.execute_reply": "2022-01-08T12:00:08.708628Z",
     "shell.execute_reply.started": "2022-01-08T11:36:54.648333Z"
    },
    "papermill": {
     "duration": 0.140389,
     "end_time": "2022-01-08T12:00:08.709309",
     "exception": false,
     "start_time": "2022-01-08T12:00:08.568920",
     "status": "completed"
    },
    "tags": []
   },
   "outputs": [],
   "source": [
    "\n",
    "# data.drop(columns=['sna','sex','age'],axis=1, inplace=True)"
   ]
  },
  {
   "cell_type": "markdown",
   "id": "331d8fb5",
   "metadata": {
    "papermill": {
     "duration": 0.135192,
     "end_time": "2022-01-08T12:00:08.977391",
     "exception": false,
     "start_time": "2022-01-08T12:00:08.842199",
     "status": "completed"
    },
    "tags": []
   },
   "source": [
    "**Прменение модели**"
   ]
  },
  {
   "cell_type": "code",
   "execution_count": 94,
   "id": "84f356fd",
   "metadata": {
    "execution": {
     "iopub.execute_input": "2022-01-08T12:00:09.246807Z",
     "iopub.status.busy": "2022-01-08T12:00:09.246172Z",
     "iopub.status.idle": "2022-01-08T12:00:09.270477Z",
     "shell.execute_reply": "2022-01-08T12:00:09.269885Z",
     "shell.execute_reply.started": "2022-01-08T11:36:57.589695Z"
    },
    "papermill": {
     "duration": 0.160024,
     "end_time": "2022-01-08T12:00:09.270633",
     "exception": false,
     "start_time": "2022-01-08T12:00:09.110609",
     "status": "completed"
    },
    "tags": []
   },
   "outputs": [],
   "source": [
    "# Теперь выделим тестовую часть\n",
    "train_data = data.query('sample == 1').drop(['sample'], axis=1)\n",
    "test_data = data.query('sample == 0').drop(['sample', 'default'], axis=1)"
   ]
  },
  {
   "cell_type": "code",
   "execution_count": 95,
   "id": "9eca26cd",
   "metadata": {
    "execution": {
     "iopub.execute_input": "2022-01-08T12:00:09.538981Z",
     "iopub.status.busy": "2022-01-08T12:00:09.538238Z",
     "iopub.status.idle": "2022-01-08T12:00:09.541142Z",
     "shell.execute_reply": "2022-01-08T12:00:09.540518Z",
     "shell.execute_reply.started": "2021-12-20T13:19:40.005406Z"
    },
    "papermill": {
     "duration": 0.138745,
     "end_time": "2022-01-08T12:00:09.541280",
     "exception": false,
     "start_time": "2022-01-08T12:00:09.402535",
     "status": "completed"
    },
    "tags": []
   },
   "outputs": [],
   "source": [
    "from sklearn.model_selection import StratifiedShuffleSplit"
   ]
  },
  {
   "cell_type": "code",
   "execution_count": 96,
   "id": "129b4d84",
   "metadata": {
    "execution": {
     "iopub.execute_input": "2022-01-08T12:00:09.813022Z",
     "iopub.status.busy": "2022-01-08T12:00:09.811936Z",
     "iopub.status.idle": "2022-01-08T12:00:09.814483Z",
     "shell.execute_reply": "2022-01-08T12:00:09.813911Z",
     "shell.execute_reply.started": "2021-12-20T13:20:53.761293Z"
    },
    "papermill": {
     "duration": 0.140541,
     "end_time": "2022-01-08T12:00:09.814635",
     "exception": false,
     "start_time": "2022-01-08T12:00:09.674094",
     "status": "completed"
    },
    "tags": []
   },
   "outputs": [],
   "source": [
    "# Я попробовала использовать разбиение выборки с помощью StratifiedShuffleSplit. Это не привело к\n",
    "# улучшению целевой метрики. Поэтому я вернулась к train_test_split.\n",
    "# sss = StratifiedShuffleSplit(n_splits=1, test_size=0.2)\n",
    "# train_indices, valid_indices = [split for split in sss.split(train_data.drop(['default'],axis=1), train_data['default'])][0]\n",
    "\n",
    "# X1=train_data[['age','decline_app_cnt','bki_request_cnt','income', 'score_bki','pca_component','timedelta']].values\n",
    "# X2=test_data[['age','decline_app_cnt','bki_request_cnt','income', 'score_bki','pca_component','timedelta']].values\n",
    "\n",
    "# scaler=RobustScaler()\n",
    "# X1_transformed=scaler.fit_transform(X1)\n",
    "# X2_transformed=scaler.transform(X2)\n",
    "\n",
    "# train_data[['age','decline_app_cnt','bki_request_cnt','income', 'score_bki','pca_component','timedelta']]=X1_transformed\n",
    "# test_data[['age','decline_app_cnt','bki_request_cnt','income', 'score_bki','pca_component','timedelta']]=X2_transformed\n",
    "\n",
    "# s_train = train_data.iloc[train_indices]\n",
    "# s_valid = train_data.iloc[valid_indices]\n",
    "\n",
    "# numeric_cols=['age','decline_app_cnt','bki_request_cnt','income', 'score_bki','pca_component','timedelta']\n",
    "\n",
    "# from sklearn.preprocessing import OneHotEncoder\n",
    "\n",
    "# columns = ['education','first_time', 'sna', 'work_address', 'home_address', 'region_rating','app_day','app_month','app_day_of_week']\n",
    "# ohe_train_train=OneHotEncoder(sparse=False)\n",
    "# X_cat_train_train = ohe_train_train.fit_transform(s_train[columns].values)\n",
    "\n",
    "# ohe_train_test=OneHotEncoder(sparse=False)\n",
    "# X_cat_train_test = ohe_train_test.fit_transform(s_valid[columns].values)\n",
    "\n",
    "# ohe_test=OneHotEncoder(sparse=False)\n",
    "# X_cat_test=ohe_test.fit_transform(test_data[columns].values)\n",
    "\n",
    "# X_train=np.hstack([s_train[numeric_cols].values, s_train[bin_cols].values, X_cat_train_train])\n",
    "# X_test=np.hstack([s_valid[numeric_cols].values, s_valid[bin_cols].values, X_cat_train_test])\n",
    "\n",
    "# y_train=s_train['default'].values\n",
    "# y_test=s_valid['default'].values\n",
    "\n",
    "# X_train=pd.DataFrame(X_train, columns=[i for i in range(0,80)], index=[j for j in range(0,59039)])\n",
    "# X_test=pd.DataFrame(X_test, columns=[i for i in range(0,80)], index=[j for j in range(0,14760)])\n",
    "# X=X_train.append(X_test,sort=False).reset_index(drop=True)\n",
    "\n",
    "# y_train=pd.DataFrame(y_train, columns=['0'], index=[j for j in range(0,59039)])\n",
    "# y_test=pd.DataFrame(y_test, columns=['0'], index=[j for j in range(0,14760)])\n",
    "# y=y_train.append(y_test,sort=False).reset_index(drop=True)\n",
    "\n",
    "# X_valid=np.hstack([X2_transformed,test_data[bin_cols], X_cat_test])"
   ]
  },
  {
   "cell_type": "code",
   "execution_count": 97,
   "id": "e486675d",
   "metadata": {
    "execution": {
     "iopub.execute_input": "2022-01-08T12:00:10.086019Z",
     "iopub.status.busy": "2022-01-08T12:00:10.085364Z",
     "iopub.status.idle": "2022-01-08T12:00:10.277958Z",
     "shell.execute_reply": "2022-01-08T12:00:10.278539Z",
     "shell.execute_reply.started": "2022-01-08T11:37:03.801781Z"
    },
    "papermill": {
     "duration": 0.33036,
     "end_time": "2022-01-08T12:00:10.278727",
     "exception": false,
     "start_time": "2022-01-08T12:00:09.948367",
     "status": "completed"
    },
    "tags": []
   },
   "outputs": [],
   "source": [
    "# Проведем обработку категориальных признаков отдельно в test и train. Используем для этого \n",
    "# OneHotEncoder. Практика показала, что это дает увеличение целевой метрики по сравнению с \n",
    "# использованием необработанных категориальных признаков.\n",
    "\n",
    "from sklearn.preprocessing import OneHotEncoder\n",
    "\n",
    "columns = ['education','first_time','sna', 'work_address', 'home_address', 'region_rating','app_day','app_month','app_day_of_week']\n",
    "ohe_train=OneHotEncoder(sparse=False)\n",
    "X_cat_train = ohe_train.fit_transform(train_data[columns].values)\n",
    "\n",
    "ohe_test=OneHotEncoder(sparse=False)\n",
    "X_cat_test=ohe_test.fit_transform(test_data[columns].values)"
   ]
  },
  {
   "cell_type": "code",
   "execution_count": 98,
   "id": "68c077d0",
   "metadata": {
    "execution": {
     "iopub.execute_input": "2022-01-08T12:00:10.550635Z",
     "iopub.status.busy": "2022-01-08T12:00:10.549961Z",
     "iopub.status.idle": "2022-01-08T12:00:10.560765Z",
     "shell.execute_reply": "2022-01-08T12:00:10.561311Z",
     "shell.execute_reply.started": "2022-01-08T11:37:09.183509Z"
    },
    "papermill": {
     "duration": 0.149305,
     "end_time": "2022-01-08T12:00:10.561485",
     "exception": false,
     "start_time": "2022-01-08T12:00:10.412180",
     "status": "completed"
    },
    "tags": []
   },
   "outputs": [],
   "source": [
    "# Обработаем по отдельности колонки c непрерывным типом данных из train и test\n",
    "X1=train_data[['decline_app_cnt','bki_request_cnt','income', 'score_bki', 'timedelta','pca_component','n1','n9','n10']].values\n",
    "X2=test_data[['decline_app_cnt','bki_request_cnt','income', 'score_bki','timedelta','pca_component','n1','n9','n10']].values"
   ]
  },
  {
   "cell_type": "code",
   "execution_count": 99,
   "id": "61c0122e",
   "metadata": {
    "execution": {
     "iopub.execute_input": "2022-01-08T12:00:10.829777Z",
     "iopub.status.busy": "2022-01-08T12:00:10.829068Z",
     "iopub.status.idle": "2022-01-08T12:00:10.860587Z",
     "shell.execute_reply": "2022-01-08T12:00:10.861160Z",
     "shell.execute_reply.started": "2022-01-08T11:37:12.804802Z"
    },
    "papermill": {
     "duration": 0.168021,
     "end_time": "2022-01-08T12:00:10.861346",
     "exception": false,
     "start_time": "2022-01-08T12:00:10.693325",
     "status": "completed"
    },
    "tags": []
   },
   "outputs": [],
   "source": [
    "# Пропустим через RobustScaler все колонки с непрерывным типом данных. Я выбрала RobustScaler, потому что\n",
    "# он нечувствителен к выбросам и дает лучший результат в Kaggle, чем StandardScaler. \n",
    "# Обработаем отдельно колонки из test и train\n",
    "scaler=RobustScaler()\n",
    "X1_transformed=scaler.fit_transform(X1)\n",
    "X2_transformed=scaler.transform(X2)"
   ]
  },
  {
   "cell_type": "code",
   "execution_count": 100,
   "id": "001d6e62",
   "metadata": {
    "execution": {
     "iopub.execute_input": "2022-01-08T12:00:11.130872Z",
     "iopub.status.busy": "2022-01-08T12:00:11.130240Z",
     "iopub.status.idle": "2022-01-08T12:00:11.152140Z",
     "shell.execute_reply": "2022-01-08T12:00:11.151499Z",
     "shell.execute_reply.started": "2022-01-08T11:37:15.551016Z"
    },
    "papermill": {
     "duration": 0.156678,
     "end_time": "2022-01-08T12:00:11.152282",
     "exception": false,
     "start_time": "2022-01-08T12:00:10.995604",
     "status": "completed"
    },
    "tags": []
   },
   "outputs": [],
   "source": [
    "# Запишем в датасет нормализованные значения колонок\n",
    "train_data[['decline_app_cnt','bki_request_cnt','income', 'score_bki', 'timedelta','pca_component','n1','n9','n10']]=X1_transformed\n",
    "test_data[['decline_app_cnt','bki_request_cnt','income', 'score_bki','timedelta','pca_component','n1','n9','n10']]=X2_transformed"
   ]
  },
  {
   "cell_type": "code",
   "execution_count": 101,
   "id": "8e06e51b",
   "metadata": {
    "execution": {
     "iopub.execute_input": "2022-01-08T12:00:11.426642Z",
     "iopub.status.busy": "2022-01-08T12:00:11.425966Z",
     "iopub.status.idle": "2022-01-08T12:00:11.478804Z",
     "shell.execute_reply": "2022-01-08T12:00:11.478214Z",
     "shell.execute_reply.started": "2022-01-08T11:37:30.248833Z"
    },
    "papermill": {
     "duration": 0.191529,
     "end_time": "2022-01-08T12:00:11.478944",
     "exception": false,
     "start_time": "2022-01-08T12:00:11.287415",
     "status": "completed"
    },
    "tags": []
   },
   "outputs": [],
   "source": [
    "# Составим матрицу независимых переменных для train и валидации\n",
    "X=np.hstack([X1_transformed, train_data[bin_cols].values, X_cat_train])\n",
    "X_valid=np.hstack([X2_transformed,test_data[bin_cols], X_cat_test])"
   ]
  },
  {
   "cell_type": "code",
   "execution_count": 102,
   "id": "a2737a62",
   "metadata": {
    "execution": {
     "iopub.execute_input": "2022-01-08T12:00:11.748000Z",
     "iopub.status.busy": "2022-01-08T12:00:11.747289Z",
     "iopub.status.idle": "2022-01-08T12:00:11.750740Z",
     "shell.execute_reply": "2022-01-08T12:00:11.750051Z",
     "shell.execute_reply.started": "2022-01-08T11:37:33.642999Z"
    },
    "papermill": {
     "duration": 0.140178,
     "end_time": "2022-01-08T12:00:11.750883",
     "exception": false,
     "start_time": "2022-01-08T12:00:11.610705",
     "status": "completed"
    },
    "tags": []
   },
   "outputs": [],
   "source": [
    "y = train_data['default'].values  # наш таргет\n",
    "# X = train_data.drop(['default'], axis=1)"
   ]
  },
  {
   "cell_type": "code",
   "execution_count": 103,
   "id": "1d9f2a06",
   "metadata": {
    "execution": {
     "iopub.execute_input": "2022-01-08T12:00:12.026145Z",
     "iopub.status.busy": "2022-01-08T12:00:12.024305Z",
     "iopub.status.idle": "2022-01-08T12:00:12.055638Z",
     "shell.execute_reply": "2022-01-08T12:00:12.056202Z",
     "shell.execute_reply.started": "2022-01-08T11:37:37.239540Z"
    },
    "papermill": {
     "duration": 0.171301,
     "end_time": "2022-01-08T12:00:12.056378",
     "exception": false,
     "start_time": "2022-01-08T12:00:11.885077",
     "status": "completed"
    },
    "tags": []
   },
   "outputs": [],
   "source": [
    "# Воспользуемся специальной функцие train_test_split для разбивки тестовых данных\n",
    "from sklearn.model_selection import train_test_split\n",
    "\n",
    "# выделим 20% данных на валидацию (параметр test_size)\n",
    "X_train, X_test, y_train, y_test = train_test_split(X, y, test_size=0.2, random_state=42)"
   ]
  },
  {
   "cell_type": "code",
   "execution_count": 104,
   "id": "cea9a1a2",
   "metadata": {
    "execution": {
     "iopub.execute_input": "2022-01-08T12:00:12.325617Z",
     "iopub.status.busy": "2022-01-08T12:00:12.324924Z",
     "iopub.status.idle": "2022-01-08T12:00:12.330061Z",
     "shell.execute_reply": "2022-01-08T12:00:12.330624Z",
     "shell.execute_reply.started": "2022-01-08T11:18:01.458595Z"
    },
    "papermill": {
     "duration": 0.14091,
     "end_time": "2022-01-08T12:00:12.330796",
     "exception": false,
     "start_time": "2022-01-08T12:00:12.189886",
     "status": "completed"
    },
    "tags": []
   },
   "outputs": [
    {
     "data": {
      "text/plain": [
       "((59039, 82), (14760, 82), (59039,), (14760,))"
      ]
     },
     "execution_count": 104,
     "metadata": {},
     "output_type": "execute_result"
    }
   ],
   "source": [
    "# проверяем\n",
    "X_train.shape, X_test.shape, y_train.shape, y_test.shape"
   ]
  },
  {
   "cell_type": "code",
   "execution_count": 105,
   "id": "bb89b5fd",
   "metadata": {
    "execution": {
     "iopub.execute_input": "2022-01-08T12:00:12.652543Z",
     "iopub.status.busy": "2022-01-08T12:00:12.651771Z",
     "iopub.status.idle": "2022-01-08T12:00:12.654814Z",
     "shell.execute_reply": "2022-01-08T12:00:12.655398Z",
     "shell.execute_reply.started": "2021-12-14T07:23:49.931718Z"
    },
    "papermill": {
     "duration": 0.138929,
     "end_time": "2022-01-08T12:00:12.655576",
     "exception": false,
     "start_time": "2022-01-08T12:00:12.516647",
     "status": "completed"
    },
    "tags": []
   },
   "outputs": [],
   "source": [
    "# scaler=RobustScaler()\n",
    "# X_train=scaler.fit_transform(X_train)\n",
    "# X_test=scaler.transform(X_test)"
   ]
  },
  {
   "cell_type": "code",
   "execution_count": 106,
   "id": "71180a23",
   "metadata": {
    "execution": {
     "iopub.execute_input": "2022-01-08T12:00:12.927407Z",
     "iopub.status.busy": "2022-01-08T12:00:12.926423Z",
     "iopub.status.idle": "2022-01-08T12:00:12.930908Z",
     "shell.execute_reply": "2022-01-08T12:00:12.930249Z",
     "shell.execute_reply.started": "2022-01-08T11:18:08.150493Z"
    },
    "papermill": {
     "duration": 0.142219,
     "end_time": "2022-01-08T12:00:12.931046",
     "exception": false,
     "start_time": "2022-01-08T12:00:12.788827",
     "status": "completed"
    },
    "tags": []
   },
   "outputs": [],
   "source": [
    "# Импортируем необходимые библиотеки:\n",
    "from sklearn.linear_model import LogisticRegression # инструмент для создания и обучения модели\n",
    "from sklearn import metrics # инструменты для оценки точности модели"
   ]
  },
  {
   "cell_type": "code",
   "execution_count": 107,
   "id": "fb16f5f6",
   "metadata": {
    "execution": {
     "iopub.execute_input": "2022-01-08T12:00:13.202509Z",
     "iopub.status.busy": "2022-01-08T12:00:13.201866Z",
     "iopub.status.idle": "2022-01-08T12:00:13.220852Z",
     "shell.execute_reply": "2022-01-08T12:00:13.220278Z",
     "shell.execute_reply.started": "2021-12-18T12:40:32.492589Z"
    },
    "papermill": {
     "duration": 0.155503,
     "end_time": "2022-01-08T12:00:13.221004",
     "exception": false,
     "start_time": "2022-01-08T12:00:13.065501",
     "status": "completed"
    },
    "tags": []
   },
   "outputs": [
    {
     "name": "stdout",
     "output_type": "stream",
     "text": [
      "<class 'pandas.core.frame.DataFrame'>\n",
      "RangeIndex: 110148 entries, 0 to 110147\n",
      "Data columns (total 25 columns):\n",
      " #   Column            Non-Null Count   Dtype  \n",
      "---  ------            --------------   -----  \n",
      " 0   education         110148 non-null  int64  \n",
      " 1   sex               110148 non-null  int64  \n",
      " 2   car               110148 non-null  int64  \n",
      " 3   car_type          110148 non-null  int64  \n",
      " 4   decline_app_cnt   110148 non-null  float64\n",
      " 5   good_work         110148 non-null  int64  \n",
      " 6   score_bki         110148 non-null  float64\n",
      " 7   bki_request_cnt   110148 non-null  float64\n",
      " 8   region_rating     110148 non-null  int64  \n",
      " 9   home_address      110148 non-null  int64  \n",
      " 10  work_address      110148 non-null  int64  \n",
      " 11  income            110148 non-null  float64\n",
      " 12  sna               110148 non-null  int64  \n",
      " 13  first_time        110148 non-null  int64  \n",
      " 14  foreign_passport  110148 non-null  int64  \n",
      " 15  sample            110148 non-null  int64  \n",
      " 16  default           110148 non-null  int64  \n",
      " 17  app_month         110148 non-null  int64  \n",
      " 18  app_day           110148 non-null  int64  \n",
      " 19  app_day_of_week   110148 non-null  int64  \n",
      " 20  timedelta         110148 non-null  int64  \n",
      " 21  pca_component     110148 non-null  float64\n",
      " 22  n1                110148 non-null  float64\n",
      " 23  n9                110148 non-null  int64  \n",
      " 24  n10               110148 non-null  int64  \n",
      "dtypes: float64(6), int64(19)\n",
      "memory usage: 21.0 MB\n"
     ]
    }
   ],
   "source": [
    "data.info()"
   ]
  },
  {
   "cell_type": "code",
   "execution_count": 108,
   "id": "c33d508f",
   "metadata": {
    "execution": {
     "iopub.execute_input": "2022-01-08T12:00:13.498798Z",
     "iopub.status.busy": "2022-01-08T12:00:13.497867Z",
     "iopub.status.idle": "2022-01-08T12:00:13.500791Z",
     "shell.execute_reply": "2022-01-08T12:00:13.500169Z",
     "shell.execute_reply.started": "2021-12-31T02:02:17.184909Z"
    },
    "papermill": {
     "duration": 0.143317,
     "end_time": "2022-01-08T12:00:13.500927",
     "exception": false,
     "start_time": "2022-01-08T12:00:13.357610",
     "status": "completed"
    },
    "tags": []
   },
   "outputs": [],
   "source": [
    "# C_list =np.arange(0.01, 1.01, 0.01)\n",
    "# max_f1 = -1\n",
    "# max_C = -1\n",
    "# for c in C_list:\n",
    "#     model = LogisticRegression(solver='saga', max_iter=1000, class_weight='balanced', penalty='l2', tol=0.001, multi_class='ovr', C=c)\n",
    "#     model.fit(X_train, y_train)\n",
    "#     y_pred = model.predict(X_test)\n",
    "#     f1 = metrics.f1_score(y_test, y_pred)\n",
    "#     if f1 > max_f1:\n",
    "#         max_f1 = f1\n",
    "#         max_C= c\n",
    "# print(max_C, max_f1)"
   ]
  },
  {
   "cell_type": "code",
   "execution_count": 109,
   "id": "6f1dce66",
   "metadata": {
    "execution": {
     "iopub.execute_input": "2022-01-08T12:00:13.773187Z",
     "iopub.status.busy": "2022-01-08T12:00:13.772432Z",
     "iopub.status.idle": "2022-01-08T12:00:15.428240Z",
     "shell.execute_reply": "2022-01-08T12:00:15.427201Z",
     "shell.execute_reply.started": "2022-01-08T11:37:44.760117Z"
    },
    "papermill": {
     "duration": 1.793971,
     "end_time": "2022-01-08T12:00:15.428478",
     "exception": false,
     "start_time": "2022-01-08T12:00:13.634507",
     "status": "completed"
    },
    "tags": []
   },
   "outputs": [],
   "source": [
    "# Создадим модель в оптимальными параметрами, найденными с помощью инструмента GridSearchCV\n",
    "# Ниже я закомментировала запуск кода с GridSearchCV, т.к. он требует очень много времени.\n",
    "# Найти оптимальные параметры достаточно один раз. Нет необходимости запускать этот кусок кода \n",
    "# каждый раз при запуске ноутбука. Единственное, что я изменила - это количество итераций. GridSearchCV\n",
    "# каждый раз запускался с количеством итераций 50. Я изменила это число на 1000 в итоговой модели.\n",
    "# Это дает лучший результат.\n",
    "logreg = LogisticRegression(solver='saga', max_iter=1000, class_weight='balanced', penalty='l2', C=0.01, tol=0.001, multi_class='ovr')\n",
    "logreg.fit(X_train, y_train)\n",
    "y_pred = logreg.predict(X_test) \n",
    "Y_pred=logreg.predict(X_train)\n",
    "y_pred_proba=logreg.predict_proba(X_test)\n",
    "y_pred_proba=y_pred_proba[:,1]\n",
    "Y_pred_proba=logreg.predict_proba(X_train)\n",
    "Y_pred_proba=Y_pred_proba[:,1]"
   ]
  },
  {
   "cell_type": "markdown",
   "id": "5c582edc",
   "metadata": {
    "papermill": {
     "duration": 0.133151,
     "end_time": "2022-01-08T12:00:15.747056",
     "exception": false,
     "start_time": "2022-01-08T12:00:15.613905",
     "status": "completed"
    },
    "tags": []
   },
   "source": [
    "**Вот найденные методом GridSearchCV оптимальные параметры модели:**\n",
    "* C: 1.0 (параметр по умолчанию)\n",
    "* class_weight: 'balanced' (подобрано, по умолчанию None)\n",
    "* dual: False (по умолчанию)\n",
    "* fit_intercept: True (по умолчанию)\n",
    "* intercept_scaling: 1 (по умолчанию)\n",
    "* l1_ratio: None (по умолчанию)\n",
    "* max_iter: 50 (установлено нами)\n",
    "* multi_class: 'ovr' (подобрано, по умолчанию auto)\n",
    "* n_jobs: None (по умолчанию)\n",
    "* penalty: 'l2' (по умолчанию)\n",
    "* random_state: None (по умолчанию)\n",
    "* solver: 'saga' (подобрано, по умолчанию lbfgs)\n",
    "* tol: 0.001 (подобрано, по умолчанию 0.0001)\n",
    "* verbose: 0 (по умолчанию)\n",
    "* warm_start: False (по умолчанию)"
   ]
  },
  {
   "cell_type": "code",
   "execution_count": 110,
   "id": "60592803",
   "metadata": {
    "execution": {
     "iopub.execute_input": "2022-01-08T12:00:16.020052Z",
     "iopub.status.busy": "2022-01-08T12:00:16.019253Z",
     "iopub.status.idle": "2022-01-08T12:00:16.021371Z",
     "shell.execute_reply": "2022-01-08T12:00:16.020753Z",
     "shell.execute_reply.started": "2022-01-08T11:18:25.095255Z"
    },
    "papermill": {
     "duration": 0.141614,
     "end_time": "2022-01-08T12:00:16.021509",
     "exception": false,
     "start_time": "2022-01-08T12:00:15.879895",
     "status": "completed"
    },
    "tags": []
   },
   "outputs": [],
   "source": [
    "# Импортируем все необходимые метрики\n",
    "from sklearn.metrics import classification_report, f1_score, accuracy_score, precision_score, roc_auc_score, recall_score, confusion_matrix"
   ]
  },
  {
   "cell_type": "code",
   "execution_count": 111,
   "id": "b85bd9db",
   "metadata": {
    "execution": {
     "iopub.execute_input": "2022-01-08T12:00:16.300197Z",
     "iopub.status.busy": "2022-01-08T12:00:16.299433Z",
     "iopub.status.idle": "2022-01-08T12:00:16.302261Z",
     "shell.execute_reply": "2022-01-08T12:00:16.302801Z",
     "shell.execute_reply.started": "2022-01-08T11:18:28.936334Z"
    },
    "papermill": {
     "duration": 0.145553,
     "end_time": "2022-01-08T12:00:16.302967",
     "exception": false,
     "start_time": "2022-01-08T12:00:16.157414",
     "status": "completed"
    },
    "tags": []
   },
   "outputs": [],
   "source": [
    "# Напишем функцию, которая будет отображать нам значения всех метрик на тренировочной выборке и на тестовой\n",
    "def show_metrics(y_pred_train, Y_train, y_pred_test, Y_test, y_pred_proba_train, y_pred_proba_test):\n",
    "    f1_score_train=f1_score(y_pred_train,Y_train)\n",
    "    f1_score_test=f1_score(y_pred_test,Y_test)\n",
    "    print('[train] f1_score {0:.2f}, [test] f1_score {1:.2f}\\n'.format(f1_score_train,f1_score_test))\n",
    "    precision_score_train=precision_score(y_pred_train,Y_train)\n",
    "    precision_score_test=precision_score(y_pred_test,Y_test)\n",
    "    print('[train] precision_score {0:.2f}, [test] precision_score {1:.2f}\\n'.format(precision_score_train,precision_score_test))\n",
    "    recall_score_train=recall_score(y_pred_train,Y_train)\n",
    "    recall_score_test=recall_score(y_pred_test,Y_test)\n",
    "    print('[train] recall_score {0:.2f}, [test] recall_score {1:.2f}\\n'.format(recall_score_train,recall_score_test))\n",
    "    accuracy_score_train=accuracy_score(y_pred_train,Y_train)\n",
    "    accuracy_score_test=accuracy_score(y_pred_test,Y_test)\n",
    "    print('[train] accuracy_score {0:.2f}, [test] accuracy_score {1:.2f}\\n'.format(accuracy_score_train,accuracy_score_test))\n",
    "    roc_auc_score_train=roc_auc_score(Y_train,y_pred_proba_train)\n",
    "    roc_auc_score_test=roc_auc_score(Y_test,y_pred_proba_test)\n",
    "    print('[train] roc_auc_score {0:.2f}, [test] roc_auc_score {1:.2f}\\n'.format(roc_auc_score_train,roc_auc_score_test))\n",
    "    confusion_matrix_train=confusion_matrix(y_pred_train,Y_train)\n",
    "    confusion_matrix_test=confusion_matrix(y_pred_test,Y_test)\n",
    "    print('[train] confusion_matrix \\n {0}, \\n[test] confusion_matrix \\n {1}\\n'.format(confusion_matrix_train,confusion_matrix_test))"
   ]
  },
  {
   "cell_type": "code",
   "execution_count": 112,
   "id": "e0d3856b",
   "metadata": {
    "execution": {
     "iopub.execute_input": "2022-01-08T12:00:16.572959Z",
     "iopub.status.busy": "2022-01-08T12:00:16.572340Z",
     "iopub.status.idle": "2022-01-08T12:00:16.792798Z",
     "shell.execute_reply": "2022-01-08T12:00:16.791975Z",
     "shell.execute_reply.started": "2022-01-08T11:18:33.220929Z"
    },
    "papermill": {
     "duration": 0.356007,
     "end_time": "2022-01-08T12:00:16.792992",
     "exception": false,
     "start_time": "2022-01-08T12:00:16.436985",
     "status": "completed"
    },
    "tags": []
   },
   "outputs": [
    {
     "name": "stdout",
     "output_type": "stream",
     "text": [
      "[train] f1_score 0.34, [test] f1_score 0.34\n",
      "\n",
      "[train] precision_score 0.67, [test] precision_score 0.68\n",
      "\n",
      "[train] recall_score 0.23, [test] recall_score 0.23\n",
      "\n",
      "[train] accuracy_score 0.67, [test] accuracy_score 0.67\n",
      "\n",
      "[train] roc_auc_score 0.74, [test] roc_auc_score 0.74\n",
      "\n",
      "[train] confusion_matrix \n",
      " [[34639  2495]\n",
      " [16855  5050]], \n",
      "[test] confusion_matrix \n",
      " [[8703  582]\n",
      " [4230 1245]]\n",
      "\n"
     ]
    }
   ],
   "source": [
    "# Проверим, нет ли переобучения модели\n",
    "show_metrics(Y_pred,y_train,y_pred,y_test,Y_pred_proba,y_pred_proba)"
   ]
  },
  {
   "cell_type": "code",
   "execution_count": 113,
   "id": "3e6be176",
   "metadata": {
    "execution": {
     "iopub.execute_input": "2022-01-08T12:00:17.071910Z",
     "iopub.status.busy": "2022-01-08T12:00:17.071198Z",
     "iopub.status.idle": "2022-01-08T12:00:25.177465Z",
     "shell.execute_reply": "2022-01-08T12:00:25.178353Z",
     "shell.execute_reply.started": "2022-01-08T11:18:50.518553Z"
    },
    "papermill": {
     "duration": 8.24993,
     "end_time": "2022-01-08T12:00:25.178653",
     "exception": false,
     "start_time": "2022-01-08T12:00:16.928723",
     "status": "completed"
    },
    "tags": []
   },
   "outputs": [],
   "source": [
    "# Кажется, переобучения нет. Чтобы проверить это, воспользуемся функцией cross_validate \n",
    "# из обучающего модуля\n",
    "\n",
    "from sklearn.model_selection import cross_validate\n",
    "cv_metrics = cross_validate(logreg, X, y, cv=5, scoring='f1_micro', return_train_score=True)\n",
    "\n",
    "def plot_cv_metrics(cv_metrics):\n",
    "    avg_f1_train, std_f1_train = cv_metrics['train_score'].mean(), cv_metrics['train_score'].std()\n",
    "    avg_f1_valid, std_f1_valid = cv_metrics['test_score'].mean(), cv_metrics['test_score'].std()\n",
    "    print('[train] F1-score = {:.2f} +/- {:.2f}'.format(avg_f1_train, std_f1_train))\n",
    "    print('[valid] F1-score = {:.2f} +/- {:.2f}'.format(avg_f1_valid, std_f1_valid))\n",
    "    \n",
    "    plt.figure(figsize=(15, 5))\n",
    "\n",
    "    plt.plot(cv_metrics['train_score'], label='train', marker='.')\n",
    "    plt.plot(cv_metrics['test_score'], label='valid', marker='.')\n",
    "\n",
    "    plt.ylim([0., 1.]);\n",
    "    plt.xlabel('CV iteration', fontsize=15)\n",
    "    plt.ylabel('F1-score', fontsize=15)\n",
    "    plt.legend(fontsize=15)"
   ]
  },
  {
   "cell_type": "code",
   "execution_count": 114,
   "id": "92b16c02",
   "metadata": {
    "execution": {
     "iopub.execute_input": "2022-01-08T12:00:25.519917Z",
     "iopub.status.busy": "2022-01-08T12:00:25.514663Z",
     "iopub.status.idle": "2022-01-08T12:00:25.703781Z",
     "shell.execute_reply": "2022-01-08T12:00:25.703079Z",
     "shell.execute_reply.started": "2022-01-01T11:55:26.661436Z"
    },
    "papermill": {
     "duration": 0.351703,
     "end_time": "2022-01-08T12:00:25.703941",
     "exception": false,
     "start_time": "2022-01-08T12:00:25.352238",
     "status": "completed"
    },
    "tags": []
   },
   "outputs": [
    {
     "name": "stdout",
     "output_type": "stream",
     "text": [
      "[train] F1-score = 0.67 +/- 0.00\n",
      "[valid] F1-score = 0.67 +/- 0.00\n"
     ]
    },
    {
     "data": {
      "image/png": "[encoded data removed]",
      "text/plain": [
       "<Figure size 1080x360 with 1 Axes>"
      ]
     },
     "metadata": {
      "needs_background": "light"
     },
     "output_type": "display_data"
    }
   ],
   "source": [
    "plot_cv_metrics(cv_metrics)\n",
    "# Похоже, переобучения действительно нет"
   ]
  },
  {
   "cell_type": "code",
   "execution_count": 115,
   "id": "9531d621",
   "metadata": {
    "execution": {
     "iopub.execute_input": "2022-01-08T12:00:25.982860Z",
     "iopub.status.busy": "2022-01-08T12:00:25.982152Z",
     "iopub.status.idle": "2022-01-08T12:00:25.983584Z",
     "shell.execute_reply": "2022-01-08T12:00:25.984185Z",
     "shell.execute_reply.started": "2021-12-15T12:58:50.816968Z"
    },
    "papermill": {
     "duration": 0.143161,
     "end_time": "2022-01-08T12:00:25.984356",
     "exception": false,
     "start_time": "2022-01-08T12:00:25.841195",
     "status": "completed"
    },
    "tags": []
   },
   "outputs": [],
   "source": [
    "from sklearn.model_selection import GridSearchCV"
   ]
  },
  {
   "cell_type": "code",
   "execution_count": 116,
   "id": "d1894b9f",
   "metadata": {
    "execution": {
     "iopub.execute_input": "2022-01-08T12:00:26.259815Z",
     "iopub.status.busy": "2022-01-08T12:00:26.259001Z",
     "iopub.status.idle": "2022-01-08T12:00:26.266653Z",
     "shell.execute_reply": "2022-01-08T12:00:26.267586Z",
     "shell.execute_reply.started": "2021-12-15T13:14:13.546402Z"
    },
    "papermill": {
     "duration": 0.148052,
     "end_time": "2022-01-08T12:00:26.267826",
     "exception": false,
     "start_time": "2022-01-08T12:00:26.119774",
     "status": "completed"
    },
    "tags": []
   },
   "outputs": [],
   "source": [
    "# Запутим подбор параметров модели, как в обучающем модуле\n",
    "# model=LogisticRegression()\n",
    "\n",
    "# iter_ = 50\n",
    "# epsilon_stop = 1e-3\n",
    "\n",
    "# param_grid = [   {'penalty': ['l1'], \n",
    "#      'solver': ['liblinear', 'lbfgs'], \n",
    "#      'class_weight':['none', 'balanced'], \n",
    "#      'multi_class': ['auto','ovr'], \n",
    "#      'max_iter':[iter_],\n",
    "#      'tol':[epsilon_stop]},\n",
    "#     {'penalty': ['l2'], \n",
    "#      'solver': ['newton-cg', 'lbfgs', 'liblinear', 'sag', 'saga'], \n",
    "#      'class_weight':['none', 'balanced'], \n",
    "#      'multi_class': ['auto','ovr'], \n",
    "#      'max_iter':[iter_],\n",
    "#      'tol':[epsilon_stop]},\n",
    "#     {'penalty': ['none'], \n",
    "#      'solver': ['newton-cg', 'lbfgs', 'sag', 'saga'], \n",
    "#      'class_weight':['none', 'balanced'], \n",
    "#      'multi_class': ['auto','ovr'], \n",
    "#      'max_iter':[iter_],\n",
    "#      'tol':[epsilon_stop]},\n",
    "# ]\n",
    "\n",
    "## model ваша модель логистической регрессии\n",
    "# gridsearch = GridSearchCV(model, param_grid, scoring='f1', n_jobs=-1, cv=5)\n",
    "# gridsearch.fit(X_train, y_train)\n",
    "# model = gridsearch.best_estimator_\n",
    "\n",
    "##печатаем параметры\n",
    "# best_parameters = model.get_params()\n",
    "# for param_name in sorted(best_parameters.keys()):\n",
    "#         print('\\t%s: %r' % (param_name, best_parameters[param_name]))"
   ]
  },
  {
   "cell_type": "code",
   "execution_count": 117,
   "id": "620c3b25",
   "metadata": {
    "execution": {
     "iopub.execute_input": "2022-01-08T12:00:26.570884Z",
     "iopub.status.busy": "2022-01-08T12:00:26.570080Z",
     "iopub.status.idle": "2022-01-08T12:00:28.754463Z",
     "shell.execute_reply": "2022-01-08T12:00:28.754933Z",
     "shell.execute_reply.started": "2022-01-08T11:38:07.479593Z"
    },
    "papermill": {
     "duration": 2.324951,
     "end_time": "2022-01-08T12:00:28.755102",
     "exception": false,
     "start_time": "2022-01-08T12:00:26.430151",
     "status": "completed"
    },
    "tags": []
   },
   "outputs": [
    {
     "data": {
      "text/plain": [
       "LogisticRegression(class_weight='balanced', max_iter=1000, multi_class='ovr',\n",
       "                   solver='saga', tol=0.001)"
      ]
     },
     "execution_count": 117,
     "metadata": {},
     "output_type": "execute_result"
    }
   ],
   "source": [
    "# если качество нас устраивает, обучаем финальную модель на всех обучающи данных\n",
    "logreg_final = LogisticRegression(solver='saga', max_iter=1000, class_weight='balanced', penalty='l2',tol=0.001, multi_class='ovr')\n",
    "# logreg_final = LogisticRegression(solver='liblinear', max_iter=1000, class_weight='balanced')\n",
    "logreg_final.fit(X, y)"
   ]
  },
  {
   "cell_type": "code",
   "execution_count": 118,
   "id": "7e4f1506",
   "metadata": {
    "execution": {
     "iopub.execute_input": "2022-01-08T12:00:29.032764Z",
     "iopub.status.busy": "2022-01-08T12:00:29.032024Z",
     "iopub.status.idle": "2022-01-08T12:00:29.034712Z",
     "shell.execute_reply": "2022-01-08T12:00:29.035333Z",
     "shell.execute_reply.started": "2021-12-10T14:14:52.962244Z"
    },
    "papermill": {
     "duration": 0.143917,
     "end_time": "2022-01-08T12:00:29.035496",
     "exception": false,
     "start_time": "2022-01-08T12:00:28.891579",
     "status": "completed"
    },
    "tags": []
   },
   "outputs": [],
   "source": [
    "# Это лишнее! test_data уже обработана\n",
    "# test_data['decline_app_cnt']=test_data['decline_app_cnt'].apply(lambda x: np.log(x+1))\n",
    "# test_data['bki_request_cnt']=test_data['bki_request_cnt'].apply(lambda x: np.log(x+1))\n",
    "# test_data['income']=test_data['income'].apply(lambda x: np.log(x+1))"
   ]
  },
  {
   "cell_type": "code",
   "execution_count": 119,
   "id": "5672be1e",
   "metadata": {
    "execution": {
     "iopub.execute_input": "2022-01-08T12:00:29.311081Z",
     "iopub.status.busy": "2022-01-08T12:00:29.309639Z",
     "iopub.status.idle": "2022-01-08T12:00:29.312767Z",
     "shell.execute_reply": "2022-01-08T12:00:29.313400Z",
     "shell.execute_reply.started": "2021-12-10T14:14:57.226454Z"
    },
    "papermill": {
     "duration": 0.142521,
     "end_time": "2022-01-08T12:00:29.313569",
     "exception": false,
     "start_time": "2022-01-08T12:00:29.171048",
     "status": "completed"
    },
    "tags": []
   },
   "outputs": [],
   "source": [
    "# Это лишнее! test_data уже обработана\n",
    "# mean_score_test=test_data['score_bki'].mean()\n",
    "# test_data['score_bki']=(test_data['score_bki'] - mean_score_test)/np.linalg.norm(test_data['score_bki'])"
   ]
  },
  {
   "cell_type": "code",
   "execution_count": 120,
   "id": "4057c84f",
   "metadata": {
    "execution": {
     "iopub.execute_input": "2022-01-08T12:00:29.585402Z",
     "iopub.status.busy": "2022-01-08T12:00:29.584414Z",
     "iopub.status.idle": "2022-01-08T12:00:29.595505Z",
     "shell.execute_reply": "2022-01-08T12:00:29.596408Z",
     "shell.execute_reply.started": "2022-01-08T11:38:13.303633Z"
    },
    "papermill": {
     "duration": 0.148945,
     "end_time": "2022-01-08T12:00:29.596677",
     "exception": false,
     "start_time": "2022-01-08T12:00:29.447732",
     "status": "completed"
    },
    "tags": []
   },
   "outputs": [],
   "source": [
    "predict_submission = logreg_final.predict(X_valid)"
   ]
  },
  {
   "cell_type": "code",
   "execution_count": 121,
   "id": "343186a6",
   "metadata": {
    "execution": {
     "iopub.execute_input": "2022-01-08T12:00:29.921826Z",
     "iopub.status.busy": "2022-01-08T12:00:29.921042Z",
     "iopub.status.idle": "2022-01-08T12:00:29.995480Z",
     "shell.execute_reply": "2022-01-08T12:00:29.996088Z",
     "shell.execute_reply.started": "2022-01-08T11:38:16.655119Z"
    },
    "papermill": {
     "duration": 0.214609,
     "end_time": "2022-01-08T12:00:29.996281",
     "exception": false,
     "start_time": "2022-01-08T12:00:29.781672",
     "status": "completed"
    },
    "tags": []
   },
   "outputs": [
    {
     "data": {
      "text/html": [
       "<div>\n",
       "<style scoped>\n",
       "    .dataframe tbody tr th:only-of-type {\n",
       "        vertical-align: middle;\n",
       "    }\n",
       "\n",
       "    .dataframe tbody tr th {\n",
       "        vertical-align: top;\n",
       "    }\n",
       "\n",
       "    .dataframe thead th {\n",
       "        text-align: right;\n",
       "    }\n",
       "</style>\n",
       "<table border=\"1\" class=\"dataframe\">\n",
       "  <thead>\n",
       "    <tr style=\"text-align: right;\">\n",
       "      <th></th>\n",
       "      <th>client_id</th>\n",
       "      <th>default</th>\n",
       "    </tr>\n",
       "  </thead>\n",
       "  <tbody>\n",
       "    <tr>\n",
       "      <th>0</th>\n",
       "      <td>74835</td>\n",
       "      <td>0</td>\n",
       "    </tr>\n",
       "    <tr>\n",
       "      <th>1</th>\n",
       "      <td>17527</td>\n",
       "      <td>1</td>\n",
       "    </tr>\n",
       "    <tr>\n",
       "      <th>2</th>\n",
       "      <td>75683</td>\n",
       "      <td>0</td>\n",
       "    </tr>\n",
       "    <tr>\n",
       "      <th>3</th>\n",
       "      <td>26883</td>\n",
       "      <td>0</td>\n",
       "    </tr>\n",
       "    <tr>\n",
       "      <th>4</th>\n",
       "      <td>28862</td>\n",
       "      <td>0</td>\n",
       "    </tr>\n",
       "    <tr>\n",
       "      <th>5</th>\n",
       "      <td>99881</td>\n",
       "      <td>1</td>\n",
       "    </tr>\n",
       "    <tr>\n",
       "      <th>6</th>\n",
       "      <td>26630</td>\n",
       "      <td>1</td>\n",
       "    </tr>\n",
       "    <tr>\n",
       "      <th>7</th>\n",
       "      <td>79934</td>\n",
       "      <td>0</td>\n",
       "    </tr>\n",
       "    <tr>\n",
       "      <th>8</th>\n",
       "      <td>16605</td>\n",
       "      <td>0</td>\n",
       "    </tr>\n",
       "    <tr>\n",
       "      <th>9</th>\n",
       "      <td>105449</td>\n",
       "      <td>0</td>\n",
       "    </tr>\n",
       "  </tbody>\n",
       "</table>\n",
       "</div>"
      ],
      "text/plain": [
       "   client_id  default\n",
       "0      74835        0\n",
       "1      17527        1\n",
       "2      75683        0\n",
       "3      26883        0\n",
       "4      28862        0\n",
       "5      99881        1\n",
       "6      26630        1\n",
       "7      79934        0\n",
       "8      16605        0\n",
       "9     105449        0"
      ]
     },
     "execution_count": 121,
     "metadata": {},
     "output_type": "execute_result"
    }
   ],
   "source": [
    "sample_submission['default'] = predict_submission\n",
    "sample_submission.to_csv('submission.csv', index=False)\n",
    "sample_submission.head(10)"
   ]
  },
  {
   "cell_type": "code",
   "execution_count": 122,
   "id": "3292b351",
   "metadata": {
    "execution": {
     "iopub.execute_input": "2022-01-08T12:00:30.272302Z",
     "iopub.status.busy": "2022-01-08T12:00:30.271610Z",
     "iopub.status.idle": "2022-01-08T12:00:30.291814Z",
     "shell.execute_reply": "2022-01-08T12:00:30.290965Z",
     "shell.execute_reply.started": "2022-01-01T11:55:48.846257Z"
    },
    "papermill": {
     "duration": 0.159315,
     "end_time": "2022-01-08T12:00:30.291969",
     "exception": false,
     "start_time": "2022-01-08T12:00:30.132654",
     "status": "completed"
    },
    "tags": []
   },
   "outputs": [
    {
     "data": {
      "text/html": [
       "<div>\n",
       "<style scoped>\n",
       "    .dataframe tbody tr th:only-of-type {\n",
       "        vertical-align: middle;\n",
       "    }\n",
       "\n",
       "    .dataframe tbody tr th {\n",
       "        vertical-align: top;\n",
       "    }\n",
       "\n",
       "    .dataframe thead th {\n",
       "        text-align: right;\n",
       "    }\n",
       "</style>\n",
       "<table border=\"1\" class=\"dataframe\">\n",
       "  <thead>\n",
       "    <tr style=\"text-align: right;\">\n",
       "      <th></th>\n",
       "      <th>client_id</th>\n",
       "      <th>default</th>\n",
       "    </tr>\n",
       "  </thead>\n",
       "  <tbody>\n",
       "    <tr>\n",
       "      <th>count</th>\n",
       "      <td>36349.000000</td>\n",
       "      <td>36349.000000</td>\n",
       "    </tr>\n",
       "    <tr>\n",
       "      <th>mean</th>\n",
       "      <td>54945.647473</td>\n",
       "      <td>0.374288</td>\n",
       "    </tr>\n",
       "    <tr>\n",
       "      <th>std</th>\n",
       "      <td>31706.052195</td>\n",
       "      <td>0.483945</td>\n",
       "    </tr>\n",
       "    <tr>\n",
       "      <th>min</th>\n",
       "      <td>4.000000</td>\n",
       "      <td>0.000000</td>\n",
       "    </tr>\n",
       "    <tr>\n",
       "      <th>25%</th>\n",
       "      <td>27744.000000</td>\n",
       "      <td>0.000000</td>\n",
       "    </tr>\n",
       "    <tr>\n",
       "      <th>50%</th>\n",
       "      <td>54657.000000</td>\n",
       "      <td>0.000000</td>\n",
       "    </tr>\n",
       "    <tr>\n",
       "      <th>75%</th>\n",
       "      <td>82322.000000</td>\n",
       "      <td>1.000000</td>\n",
       "    </tr>\n",
       "    <tr>\n",
       "      <th>max</th>\n",
       "      <td>110148.000000</td>\n",
       "      <td>1.000000</td>\n",
       "    </tr>\n",
       "  </tbody>\n",
       "</table>\n",
       "</div>"
      ],
      "text/plain": [
       "           client_id       default\n",
       "count   36349.000000  36349.000000\n",
       "mean    54945.647473      0.374288\n",
       "std     31706.052195      0.483945\n",
       "min         4.000000      0.000000\n",
       "25%     27744.000000      0.000000\n",
       "50%     54657.000000      0.000000\n",
       "75%     82322.000000      1.000000\n",
       "max    110148.000000      1.000000"
      ]
     },
     "execution_count": 122,
     "metadata": {},
     "output_type": "execute_result"
    }
   ],
   "source": [
    "sample_submission.describe()"
   ]
  },
  {
   "cell_type": "code",
   "execution_count": 123,
   "id": "ebc1e1a7",
   "metadata": {
    "execution": {
     "iopub.execute_input": "2022-01-08T12:00:30.570405Z",
     "iopub.status.busy": "2022-01-08T12:00:30.569757Z",
     "iopub.status.idle": "2022-01-08T12:00:31.720328Z",
     "shell.execute_reply": "2022-01-08T12:00:31.719729Z",
     "shell.execute_reply.started": "2021-12-09T13:53:48.708671Z"
    },
    "papermill": {
     "duration": 1.290898,
     "end_time": "2022-01-08T12:00:31.720471",
     "exception": false,
     "start_time": "2022-01-08T12:00:30.429573",
     "status": "completed"
    },
    "tags": []
   },
   "outputs": [
    {
     "name": "stdout",
     "output_type": "stream",
     "text": [
      "Traceback (most recent call last):\r\n",
      "  File \"/opt/conda/bin/kaggle\", line 5, in <module>\r\n",
      "    from kaggle.cli import main\r\n",
      "  File \"/opt/conda/lib/python3.7/site-packages/kaggle/__init__.py\", line 23, in <module>\r\n",
      "    api.authenticate()\r\n",
      "  File \"/opt/conda/lib/python3.7/site-packages/kaggle/api/kaggle_api_extended.py\", line 166, in authenticate\r\n",
      "    self.config_file, self.config_dir))\r\n",
      "OSError: Could not find kaggle.json. Make sure it's located in /root/.kaggle. Or use the environment method.\r\n"
     ]
    }
   ],
   "source": [
    "!kaggle competitions submit -c sf-scoring -f ssubmission.csv -m \"Message\"\n",
    "# !kaggle competitions submit your-competition-name -f submission.csv -m 'My submission message'"
   ]
  },
  {
   "cell_type": "markdown",
   "id": "fb351e18",
   "metadata": {
    "papermill": {
     "duration": 0.137672,
     "end_time": "2022-01-08T12:00:31.996809",
     "exception": false,
     "start_time": "2022-01-08T12:00:31.859137",
     "status": "completed"
    },
    "tags": []
   },
   "source": [
    "**Выводы:**\n",
    "* Разведывательный анализ данных показал, что данные достаточно чистые. Пропусков немного (только в колонке education). Пропуски в колонке education были заполнены случайными значениями из уже существующих.\n",
    "* Колонки в датасете делятся на бинарные, категориальные и с непрерывным типом данных. Бинарные колонки были обработаны с помощью LabelEncoder, категориальные - с помощью OneHotEncoder.\n",
    "* Некоторые колонки с непрерывным типом данных ('decline_app_cnt','bki_request_cnt','income') имеют \"тяжелый\" правый хвост. Это колонки были прологарифмированы. Операция была проведена над объединенным датасетом\n",
    "* Были сгенерированы дополнительные непрерывные признаки (4 колонки) и категориальные признаки (3 колонки). Новые категориальные признаки повышают качество модели. Новые непрерывные признаки сильно скоррелированы, поэтому их использование ухудшает качество модели. Три наиболее скоррелированных признака были обработаны методом главных компонент. Это дало улучшение целевой метрики.\n",
    "* Была предпринята попытка сгенерировать полиномиальные признаки (вручную и с помощью функции Polynomial Features). Полиномиальные признаки ухудшают модель, поэтому было принято решение от них отказаться. Но: позднее выяснилось, что некоторые полиномиальные признаки просто были сильно скоррелированы. Я оставила только некоторые из них, это дало улучшение модели.\n",
    "* Работа с выбросами в данном датасете не принесла улучшения качества модели. Выбросы были классифицированы методом IQR. Т.к. удаление выбросов приводит к ухудшению качества модели, выбросы было решено оставить.\n",
    "* Был использован RobustScaler для нормализации непрерывных признаков.\n",
    "* Наибольшее значение для модели имеют признаки score_bki и sna.\n",
    "* Была сделана попытка удалить наименее значимые для модели признаки из числа категориальных и непрерывных. Удаление наименее значимого категориального признака (app_day_of_week) не приводит к улучшению модели. Однако, удаление наименее значимого непрерывного признака (age) улучшает целевую метрику. Если удалить следующий по значимости непрерывный признак (pca_component), то метрика ухудшится.\n",
    "* Было испробовано добавление параметра WOE и IV для переменных age, sex и sna. Это не принесло улучшения качества модели, поэтому от данных параметров было принято решение отказаться.\n",
    "* С помощью  метода GridSerchCV были подобраны оптимальные параметры для модели. Оказалось, что оптимальная модель - это Logistic Regression Balanced. \n",
    "* Был подобран гиперпараметр С=0.01, что соответствует максимальному вкладу регуляризации. Это дало улучшение целевой метрики по сравнению с С=1.0 (значение по умолчанию).\n",
    "* Было испробовано деление выборки на обучающую и тестовую с помощью StratifiedShuffleSplit (деление на части с учетом долей классов). Это не дало увеличения целевой метрики. От данного способа деления выборки было принято решение отказаться в пользу train_test_split.\n",
    "* На обучающей и тестовой выборке были измерены основные метрики (f1_score, precision_score, recall_score, accuracy_score). Т.к. значения метрик на обучающей и на тестовой выборке практически не отличаются, можно сделать вывод, что переобучения модели нет."
   ]
  },
  {
   "cell_type": "code",
   "execution_count": null,
   "id": "6a2acfd9",
   "metadata": {
    "papermill": {
     "duration": 0.136378,
     "end_time": "2022-01-08T12:00:32.271553",
     "exception": false,
     "start_time": "2022-01-08T12:00:32.135175",
     "status": "completed"
    },
    "tags": []
   },
   "outputs": [],
   "source": []
  }
 ],
 "metadata": {
  "kernelspec": {
   "display_name": "Python 3",
   "language": "python",
   "name": "python3"
  },
  "language_info": {
   "codemirror_mode": {
    "name": "ipython",
    "version": 3
   },
   "file_extension": ".py",
   "mimetype": "text/x-python",
   "name": "python",
   "nbconvert_exporter": "python",
   "pygments_lexer": "ipython3",
   "version": "3.7.10"
  },
  "papermill": {
   "default_parameters": {},
   "duration": 83.138875,
   "end_time": "2022-01-08T12:00:33.219856",
   "environment_variables": {},
   "exception": null,
   "input_path": "__notebook__.ipynb",
   "output_path": "__notebook__.ipynb",
   "parameters": {},
   "start_time": "2022-01-08T11:59:10.080981",
   "version": "2.3.3"
  }
 },
 "nbformat": 4,
 "nbformat_minor": 5
}
