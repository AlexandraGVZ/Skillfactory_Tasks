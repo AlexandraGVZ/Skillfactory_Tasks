{
 "cells": [
  {
   "cell_type": "code",
   "execution_count": 1,
   "id": "2f844635",
   "metadata": {
    "_cell_guid": "b1076dfc-b9ad-4769-8c92-a6c4dae69d19",
    "_uuid": "8f2839f25d086af736a60e9eeb907d3b93b6e0e5",
    "execution": {
     "iopub.execute_input": "2022-01-10T09:22:56.772822Z",
     "iopub.status.busy": "2022-01-10T09:22:56.771705Z",
     "iopub.status.idle": "2022-01-10T09:22:56.780473Z",
     "shell.execute_reply": "2022-01-10T09:22:56.781151Z",
     "shell.execute_reply.started": "2022-01-10T09:03:59.069815Z"
    },
    "papermill": {
     "duration": 0.156737,
     "end_time": "2022-01-10T09:22:56.781578",
     "exception": false,
     "start_time": "2022-01-10T09:22:56.624841",
     "status": "completed"
    },
    "tags": []
   },
   "outputs": [],
   "source": [
    "# This Python 3 environment comes with many helpful analytics libraries installed\n",
    "# It is defined by the kaggle/python Docker image: https://github.com/kaggle/docker-python\n",
    "# For example, here's several helpful packages to load\n",
    "\n",
    "import numpy as np # linear algebra\n",
    "import pandas as pd # data processing, CSV file I/O (e.g. pd.read_csv)\n",
    "import matplotlib.pyplot as plt\n",
    "import seaborn as sns\n",
    "from sklearn.preprocessing import RobustScaler, StandardScaler, MinMaxScaler\n",
    "from datetime import datetime\n",
    "\n",
    "# Input data files are available in the read-only \"../input/\" directory\n",
    "# For example, running this (by clicking run or pressing Shift+Enter) will list all files under the input directory\n",
    "\n",
    "# import os\n",
    "# for dirname, _, filenames in os.walk('/kaggle/input'):\n",
    "#     for filename in filenames:\n",
    "#         print(os.path.join(dirname, filename))\n",
    "\n",
    "# You can write up to 20GB to the current directory (/kaggle/working/) that gets preserved as output when you create a version using \"Save & Run All\" \n",
    "# You can also write temporary files to /kaggle/temp/, but they won't be saved outside of the current session"
   ]
  },
  {
   "cell_type": "code",
   "execution_count": 3,
   "id": "eccc877c",
   "metadata": {
    "execution": {
     "iopub.execute_input": "2022-01-10T09:22:59.394154Z",
     "iopub.status.busy": "2022-01-10T09:22:59.393433Z",
     "iopub.status.idle": "2022-01-10T09:22:59.754631Z",
     "shell.execute_reply": "2022-01-10T09:22:59.754019Z",
     "shell.execute_reply.started": "2022-01-10T09:04:18.820472Z"
    },
    "papermill": {
     "duration": 0.475285,
     "end_time": "2022-01-10T09:22:59.754804",
     "exception": false,
     "start_time": "2022-01-10T09:22:59.279519",
     "status": "completed"
    },
    "tags": []
   },
   "outputs": [],
   "source": [
    "# Загружаем данные\n",
    "df_train = pd.read_csv('train1.csv')\n",
    "df_test = pd.read_csv('test1.csv')\n",
    "sample_submission = pd.read_csv('sample_submission.csv')"
   ]
  },
  {
   "cell_type": "code",
   "execution_count": 4,
   "id": "146ec0be",
   "metadata": {
    "execution": {
     "iopub.execute_input": "2022-01-10T09:22:59.982323Z",
     "iopub.status.busy": "2022-01-10T09:22:59.981689Z",
     "iopub.status.idle": "2022-01-10T09:22:59.988440Z",
     "shell.execute_reply": "2022-01-10T09:22:59.989036Z",
     "shell.execute_reply.started": "2022-01-10T09:04:21.187308Z"
    },
    "papermill": {
     "duration": 0.121936,
     "end_time": "2022-01-10T09:22:59.989206",
     "exception": false,
     "start_time": "2022-01-10T09:22:59.867270",
     "status": "completed"
    },
    "tags": []
   },
   "outputs": [
    {
     "data": {
      "text/plain": [
       "(36349, 2)"
      ]
     },
     "execution_count": 4,
     "metadata": {},
     "output_type": "execute_result"
    }
   ],
   "source": [
    "sample_submission.shape"
   ]
  },
  {
   "cell_type": "code",
   "execution_count": 5,
   "id": "2e031738",
   "metadata": {
    "execution": {
     "iopub.execute_input": "2022-01-10T09:23:00.214849Z",
     "iopub.status.busy": "2022-01-10T09:23:00.214148Z",
     "iopub.status.idle": "2022-01-10T09:23:00.218950Z",
     "shell.execute_reply": "2022-01-10T09:23:00.219538Z",
     "shell.execute_reply.started": "2022-01-10T09:04:23.894721Z"
    },
    "papermill": {
     "duration": 0.118409,
     "end_time": "2022-01-10T09:23:00.219724",
     "exception": false,
     "start_time": "2022-01-10T09:23:00.101315",
     "status": "completed"
    },
    "tags": []
   },
   "outputs": [
    {
     "data": {
      "text/plain": [
       "(36349, 18)"
      ]
     },
     "execution_count": 5,
     "metadata": {},
     "output_type": "execute_result"
    }
   ],
   "source": [
    "df_test.shape"
   ]
  },
  {
   "cell_type": "code",
   "execution_count": 10,
   "id": "bbe8396b",
   "metadata": {
    "execution": {
     "iopub.execute_input": "2022-01-10T09:23:00.445944Z",
     "iopub.status.busy": "2022-01-10T09:23:00.445198Z",
     "iopub.status.idle": "2022-01-10T09:23:00.524215Z",
     "shell.execute_reply": "2022-01-10T09:23:00.523519Z",
     "shell.execute_reply.started": "2022-01-10T09:04:26.114063Z"
    },
    "papermill": {
     "duration": 0.192565,
     "end_time": "2022-01-10T09:23:00.524366",
     "exception": false,
     "start_time": "2022-01-10T09:23:00.331801",
     "status": "completed"
    },
    "tags": []
   },
   "outputs": [
    {
     "name": "stdout",
     "output_type": "stream",
     "text": [
      "<class 'pandas.core.frame.DataFrame'>\n",
      "RangeIndex: 73799 entries, 0 to 73798\n",
      "Data columns (total 19 columns):\n",
      " #   Column            Non-Null Count  Dtype  \n",
      "---  ------            --------------  -----  \n",
      " 0   client_id         73799 non-null  int64  \n",
      " 1   app_date          73799 non-null  object \n",
      " 2   education         73492 non-null  object \n",
      " 3   sex               73799 non-null  object \n",
      " 4   age               73799 non-null  int64  \n",
      " 5   car               73799 non-null  object \n",
      " 6   car_type          73799 non-null  object \n",
      " 7   decline_app_cnt   73799 non-null  int64  \n",
      " 8   good_work         73799 non-null  int64  \n",
      " 9   score_bki         73799 non-null  float64\n",
      " 10  bki_request_cnt   73799 non-null  int64  \n",
      " 11  region_rating     73799 non-null  int64  \n",
      " 12  home_address      73799 non-null  int64  \n",
      " 13  work_address      73799 non-null  int64  \n",
      " 14  income            73799 non-null  int64  \n",
      " 15  sna               73799 non-null  int64  \n",
      " 16  first_time        73799 non-null  int64  \n",
      " 17  foreign_passport  73799 non-null  object \n",
      " 18  default           73799 non-null  int64  \n",
      "dtypes: float64(1), int64(12), object(6)\n",
      "memory usage: 10.7+ MB\n"
     ]
    }
   ],
   "source": [
    "df_train.info()"
   ]
  },
  {
   "cell_type": "code",
   "execution_count": 11,
   "id": "4d2b8081",
   "metadata": {
    "execution": {
     "iopub.execute_input": "2022-01-10T09:23:00.758749Z",
     "iopub.status.busy": "2022-01-10T09:23:00.757913Z",
     "iopub.status.idle": "2022-01-10T09:23:00.774660Z",
     "shell.execute_reply": "2022-01-10T09:23:00.773924Z",
     "shell.execute_reply.started": "2022-01-10T09:04:29.661773Z"
    },
    "papermill": {
     "duration": 0.13859,
     "end_time": "2022-01-10T09:23:00.774815",
     "exception": false,
     "start_time": "2022-01-10T09:23:00.636225",
     "status": "completed"
    },
    "tags": []
   },
   "outputs": [
    {
     "data": {
      "text/html": [
       "<div>\n",
       "<style scoped>\n",
       "    .dataframe tbody tr th:only-of-type {\n",
       "        vertical-align: middle;\n",
       "    }\n",
       "\n",
       "    .dataframe tbody tr th {\n",
       "        vertical-align: top;\n",
       "    }\n",
       "\n",
       "    .dataframe thead th {\n",
       "        text-align: right;\n",
       "    }\n",
       "</style>\n",
       "<table border=\"1\" class=\"dataframe\">\n",
       "  <thead>\n",
       "    <tr style=\"text-align: right;\">\n",
       "      <th></th>\n",
       "      <th>client_id</th>\n",
       "      <th>app_date</th>\n",
       "      <th>education</th>\n",
       "      <th>sex</th>\n",
       "      <th>age</th>\n",
       "      <th>car</th>\n",
       "      <th>car_type</th>\n",
       "      <th>decline_app_cnt</th>\n",
       "      <th>good_work</th>\n",
       "      <th>score_bki</th>\n",
       "      <th>bki_request_cnt</th>\n",
       "      <th>region_rating</th>\n",
       "      <th>home_address</th>\n",
       "      <th>work_address</th>\n",
       "      <th>income</th>\n",
       "      <th>sna</th>\n",
       "      <th>first_time</th>\n",
       "      <th>foreign_passport</th>\n",
       "      <th>default</th>\n",
       "    </tr>\n",
       "  </thead>\n",
       "  <tbody>\n",
       "    <tr>\n",
       "      <th>0</th>\n",
       "      <td>25905</td>\n",
       "      <td>01FEB2014</td>\n",
       "      <td>SCH</td>\n",
       "      <td>M</td>\n",
       "      <td>62</td>\n",
       "      <td>Y</td>\n",
       "      <td>Y</td>\n",
       "      <td>0</td>\n",
       "      <td>0</td>\n",
       "      <td>-2.008753</td>\n",
       "      <td>1</td>\n",
       "      <td>50</td>\n",
       "      <td>1</td>\n",
       "      <td>2</td>\n",
       "      <td>18000</td>\n",
       "      <td>4</td>\n",
       "      <td>1</td>\n",
       "      <td>N</td>\n",
       "      <td>0</td>\n",
       "    </tr>\n",
       "    <tr>\n",
       "      <th>1</th>\n",
       "      <td>63161</td>\n",
       "      <td>12MAR2014</td>\n",
       "      <td>SCH</td>\n",
       "      <td>F</td>\n",
       "      <td>59</td>\n",
       "      <td>N</td>\n",
       "      <td>N</td>\n",
       "      <td>0</td>\n",
       "      <td>0</td>\n",
       "      <td>-1.532276</td>\n",
       "      <td>3</td>\n",
       "      <td>50</td>\n",
       "      <td>2</td>\n",
       "      <td>3</td>\n",
       "      <td>19000</td>\n",
       "      <td>4</td>\n",
       "      <td>1</td>\n",
       "      <td>N</td>\n",
       "      <td>0</td>\n",
       "    </tr>\n",
       "    <tr>\n",
       "      <th>2</th>\n",
       "      <td>25887</td>\n",
       "      <td>01FEB2014</td>\n",
       "      <td>SCH</td>\n",
       "      <td>M</td>\n",
       "      <td>25</td>\n",
       "      <td>Y</td>\n",
       "      <td>N</td>\n",
       "      <td>2</td>\n",
       "      <td>0</td>\n",
       "      <td>-1.408142</td>\n",
       "      <td>1</td>\n",
       "      <td>80</td>\n",
       "      <td>1</td>\n",
       "      <td>2</td>\n",
       "      <td>30000</td>\n",
       "      <td>1</td>\n",
       "      <td>4</td>\n",
       "      <td>Y</td>\n",
       "      <td>0</td>\n",
       "    </tr>\n",
       "    <tr>\n",
       "      <th>3</th>\n",
       "      <td>16222</td>\n",
       "      <td>23JAN2014</td>\n",
       "      <td>SCH</td>\n",
       "      <td>F</td>\n",
       "      <td>53</td>\n",
       "      <td>N</td>\n",
       "      <td>N</td>\n",
       "      <td>0</td>\n",
       "      <td>0</td>\n",
       "      <td>-2.057471</td>\n",
       "      <td>2</td>\n",
       "      <td>50</td>\n",
       "      <td>2</td>\n",
       "      <td>3</td>\n",
       "      <td>10000</td>\n",
       "      <td>1</td>\n",
       "      <td>3</td>\n",
       "      <td>N</td>\n",
       "      <td>0</td>\n",
       "    </tr>\n",
       "    <tr>\n",
       "      <th>4</th>\n",
       "      <td>101655</td>\n",
       "      <td>18APR2014</td>\n",
       "      <td>GRD</td>\n",
       "      <td>M</td>\n",
       "      <td>48</td>\n",
       "      <td>N</td>\n",
       "      <td>N</td>\n",
       "      <td>0</td>\n",
       "      <td>1</td>\n",
       "      <td>-1.244723</td>\n",
       "      <td>1</td>\n",
       "      <td>60</td>\n",
       "      <td>2</td>\n",
       "      <td>3</td>\n",
       "      <td>30000</td>\n",
       "      <td>1</td>\n",
       "      <td>4</td>\n",
       "      <td>Y</td>\n",
       "      <td>0</td>\n",
       "    </tr>\n",
       "  </tbody>\n",
       "</table>\n",
       "</div>"
      ],
      "text/plain": [
       "   client_id   app_date education sex  age car car_type  decline_app_cnt  \\\n",
       "0      25905  01FEB2014       SCH   M   62   Y        Y                0   \n",
       "1      63161  12MAR2014       SCH   F   59   N        N                0   \n",
       "2      25887  01FEB2014       SCH   M   25   Y        N                2   \n",
       "3      16222  23JAN2014       SCH   F   53   N        N                0   \n",
       "4     101655  18APR2014       GRD   M   48   N        N                0   \n",
       "\n",
       "   good_work  score_bki  bki_request_cnt  region_rating  home_address  \\\n",
       "0          0  -2.008753                1             50             1   \n",
       "1          0  -1.532276                3             50             2   \n",
       "2          0  -1.408142                1             80             1   \n",
       "3          0  -2.057471                2             50             2   \n",
       "4          1  -1.244723                1             60             2   \n",
       "\n",
       "   work_address  income  sna  first_time foreign_passport  default  \n",
       "0             2   18000    4           1                N        0  \n",
       "1             3   19000    4           1                N        0  \n",
       "2             2   30000    1           4                Y        0  \n",
       "3             3   10000    1           3                N        0  \n",
       "4             3   30000    1           4                Y        0  "
      ]
     },
     "execution_count": 11,
     "metadata": {},
     "output_type": "execute_result"
    }
   ],
   "source": [
    "df_train.head(5)"
   ]
  },
  {
   "cell_type": "code",
   "execution_count": 12,
   "id": "bd18b556",
   "metadata": {
    "execution": {
     "iopub.execute_input": "2022-01-10T09:23:01.002849Z",
     "iopub.status.busy": "2022-01-10T09:23:01.002178Z",
     "iopub.status.idle": "2022-01-10T09:23:01.040216Z",
     "shell.execute_reply": "2022-01-10T09:23:01.040766Z",
     "shell.execute_reply.started": "2022-01-10T09:04:32.847088Z"
    },
    "papermill": {
     "duration": 0.153947,
     "end_time": "2022-01-10T09:23:01.040947",
     "exception": false,
     "start_time": "2022-01-10T09:23:00.887000",
     "status": "completed"
    },
    "tags": []
   },
   "outputs": [
    {
     "name": "stdout",
     "output_type": "stream",
     "text": [
      "<class 'pandas.core.frame.DataFrame'>\n",
      "RangeIndex: 36349 entries, 0 to 36348\n",
      "Data columns (total 18 columns):\n",
      " #   Column            Non-Null Count  Dtype  \n",
      "---  ------            --------------  -----  \n",
      " 0   client_id         36349 non-null  int64  \n",
      " 1   app_date          36349 non-null  object \n",
      " 2   education         36178 non-null  object \n",
      " 3   sex               36349 non-null  object \n",
      " 4   age               36349 non-null  int64  \n",
      " 5   car               36349 non-null  object \n",
      " 6   car_type          36349 non-null  object \n",
      " 7   decline_app_cnt   36349 non-null  int64  \n",
      " 8   good_work         36349 non-null  int64  \n",
      " 9   score_bki         36349 non-null  float64\n",
      " 10  bki_request_cnt   36349 non-null  int64  \n",
      " 11  region_rating     36349 non-null  int64  \n",
      " 12  home_address      36349 non-null  int64  \n",
      " 13  work_address      36349 non-null  int64  \n",
      " 14  income            36349 non-null  int64  \n",
      " 15  sna               36349 non-null  int64  \n",
      " 16  first_time        36349 non-null  int64  \n",
      " 17  foreign_passport  36349 non-null  object \n",
      "dtypes: float64(1), int64(11), object(6)\n",
      "memory usage: 5.0+ MB\n"
     ]
    }
   ],
   "source": [
    "df_test.info()"
   ]
  },
  {
   "cell_type": "code",
   "execution_count": 13,
   "id": "40ca986f",
   "metadata": {
    "execution": {
     "iopub.execute_input": "2022-01-10T09:23:01.269225Z",
     "iopub.status.busy": "2022-01-10T09:23:01.268545Z",
     "iopub.status.idle": "2022-01-10T09:23:01.277041Z",
     "shell.execute_reply": "2022-01-10T09:23:01.277556Z",
     "shell.execute_reply.started": "2022-01-10T09:04:37.577215Z"
    },
    "papermill": {
     "duration": 0.124379,
     "end_time": "2022-01-10T09:23:01.277742",
     "exception": false,
     "start_time": "2022-01-10T09:23:01.153363",
     "status": "completed"
    },
    "tags": []
   },
   "outputs": [
    {
     "data": {
      "text/html": [
       "<div>\n",
       "<style scoped>\n",
       "    .dataframe tbody tr th:only-of-type {\n",
       "        vertical-align: middle;\n",
       "    }\n",
       "\n",
       "    .dataframe tbody tr th {\n",
       "        vertical-align: top;\n",
       "    }\n",
       "\n",
       "    .dataframe thead th {\n",
       "        text-align: right;\n",
       "    }\n",
       "</style>\n",
       "<table border=\"1\" class=\"dataframe\">\n",
       "  <thead>\n",
       "    <tr style=\"text-align: right;\">\n",
       "      <th></th>\n",
       "      <th>client_id</th>\n",
       "      <th>default</th>\n",
       "    </tr>\n",
       "  </thead>\n",
       "  <tbody>\n",
       "    <tr>\n",
       "      <th>0</th>\n",
       "      <td>74835</td>\n",
       "      <td>0</td>\n",
       "    </tr>\n",
       "    <tr>\n",
       "      <th>1</th>\n",
       "      <td>17527</td>\n",
       "      <td>0</td>\n",
       "    </tr>\n",
       "    <tr>\n",
       "      <th>2</th>\n",
       "      <td>75683</td>\n",
       "      <td>0</td>\n",
       "    </tr>\n",
       "    <tr>\n",
       "      <th>3</th>\n",
       "      <td>26883</td>\n",
       "      <td>0</td>\n",
       "    </tr>\n",
       "    <tr>\n",
       "      <th>4</th>\n",
       "      <td>28862</td>\n",
       "      <td>0</td>\n",
       "    </tr>\n",
       "  </tbody>\n",
       "</table>\n",
       "</div>"
      ],
      "text/plain": [
       "   client_id  default\n",
       "0      74835        0\n",
       "1      17527        0\n",
       "2      75683        0\n",
       "3      26883        0\n",
       "4      28862        0"
      ]
     },
     "execution_count": 13,
     "metadata": {},
     "output_type": "execute_result"
    }
   ],
   "source": [
    "sample_submission.head(5)\n"
   ]
  },
  {
   "cell_type": "code",
   "execution_count": 14,
   "id": "68921386",
   "metadata": {
    "execution": {
     "iopub.execute_input": "2022-01-10T09:23:01.511931Z",
     "iopub.status.busy": "2022-01-10T09:23:01.511211Z",
     "iopub.status.idle": "2022-01-10T09:23:01.520562Z",
     "shell.execute_reply": "2022-01-10T09:23:01.521116Z",
     "shell.execute_reply.started": "2022-01-10T09:04:40.691655Z"
    },
    "papermill": {
     "duration": 0.129819,
     "end_time": "2022-01-10T09:23:01.521298",
     "exception": false,
     "start_time": "2022-01-10T09:23:01.391479",
     "status": "completed"
    },
    "scrolled": true,
    "tags": []
   },
   "outputs": [
    {
     "name": "stdout",
     "output_type": "stream",
     "text": [
      "<class 'pandas.core.frame.DataFrame'>\n",
      "RangeIndex: 36349 entries, 0 to 36348\n",
      "Data columns (total 2 columns):\n",
      " #   Column     Non-Null Count  Dtype\n",
      "---  ------     --------------  -----\n",
      " 0   client_id  36349 non-null  int64\n",
      " 1   default    36349 non-null  int64\n",
      "dtypes: int64(2)\n",
      "memory usage: 568.1 KB\n"
     ]
    }
   ],
   "source": [
    "sample_submission.info()"
   ]
  },
  {
   "cell_type": "code",
   "execution_count": null,
   "id": "754f067c",
   "metadata": {},
   "outputs": [],
   "source": []
  },
  {
   "cell_type": "markdown",
   "id": "5d448bae",
   "metadata": {
    "papermill": {
     "duration": 0.113532,
     "end_time": "2022-01-10T09:23:01.748727",
     "exception": false,
     "start_time": "2022-01-10T09:23:01.635195",
     "status": "completed"
    },
    "tags": []
   },
   "source": [
    "## Осмотр переменных"
   ]
  },
  {
   "cell_type": "code",
   "execution_count": 93,
   "id": "83b074e7",
   "metadata": {
    "execution": {
     "iopub.execute_input": "2022-01-10T09:23:01.985514Z",
     "iopub.status.busy": "2022-01-10T09:23:01.984804Z",
     "iopub.status.idle": "2022-01-10T09:23:02.061015Z",
     "shell.execute_reply": "2022-01-10T09:23:02.060299Z",
     "shell.execute_reply.started": "2022-01-10T09:04:44.180222Z"
    },
    "papermill": {
     "duration": 0.197076,
     "end_time": "2022-01-10T09:23:02.061168",
     "exception": false,
     "start_time": "2022-01-10T09:23:01.864092",
     "status": "completed"
    },
    "tags": []
   },
   "outputs": [],
   "source": [
    "# ВАЖНО! для корректной обработки признаков объединяем трейн и тест в один датасет\n",
    "df_train['sample'] = 1 # помечаем где у нас трейн\n",
    "df_test['sample'] = 0  # помечаем где у нас тест\n",
    "df_test['default'] = 0 # в тесте у нас нет значения Rating, мы его должны предсказать, по этому пока просто заполняем нулями\n",
    "\n",
    "data = df_test.append(df_train, sort=False).reset_index(drop=True) # объединяем"
   ]
  },
  {
   "cell_type": "code",
   "execution_count": 18,
   "id": "a01b03e5",
   "metadata": {
    "execution": {
     "iopub.execute_input": "2022-01-10T09:23:04.039362Z",
     "iopub.status.busy": "2022-01-10T09:23:03.967732Z",
     "iopub.status.idle": "2022-01-10T09:23:04.055150Z",
     "shell.execute_reply": "2022-01-10T09:23:04.054482Z",
     "shell.execute_reply.started": "2022-01-10T09:04:50.622695Z"
    },
    "papermill": {
     "duration": 0.206415,
     "end_time": "2022-01-10T09:23:04.055303",
     "exception": false,
     "start_time": "2022-01-10T09:23:03.848888",
     "status": "completed"
    },
    "tags": []
   },
   "outputs": [
    {
     "name": "stdout",
     "output_type": "stream",
     "text": [
      "<class 'pandas.core.frame.DataFrame'>\n",
      "RangeIndex: 110148 entries, 0 to 110147\n",
      "Data columns (total 20 columns):\n",
      " #   Column            Non-Null Count   Dtype  \n",
      "---  ------            --------------   -----  \n",
      " 0   client_id         110148 non-null  int64  \n",
      " 1   app_date          110148 non-null  object \n",
      " 2   education         109670 non-null  object \n",
      " 3   sex               110148 non-null  object \n",
      " 4   age               110148 non-null  int64  \n",
      " 5   car               110148 non-null  object \n",
      " 6   car_type          110148 non-null  object \n",
      " 7   decline_app_cnt   110148 non-null  int64  \n",
      " 8   good_work         110148 non-null  int64  \n",
      " 9   score_bki         110148 non-null  float64\n",
      " 10  bki_request_cnt   110148 non-null  int64  \n",
      " 11  region_rating     110148 non-null  int64  \n",
      " 12  home_address      110148 non-null  int64  \n",
      " 13  work_address      110148 non-null  int64  \n",
      " 14  income            110148 non-null  int64  \n",
      " 15  sna               110148 non-null  int64  \n",
      " 16  first_time        110148 non-null  int64  \n",
      " 17  foreign_passport  110148 non-null  object \n",
      " 18  sample            110148 non-null  int64  \n",
      " 19  default           110148 non-null  int64  \n",
      "dtypes: float64(1), int64(13), object(6)\n",
      "memory usage: 16.8+ MB\n"
     ]
    }
   ],
   "source": [
    "# Пропуски есть только в колонке education\n",
    "data.info()"
   ]
  },
  {
   "cell_type": "code",
   "execution_count": 19,
   "id": "c92f30a2",
   "metadata": {
    "execution": {
     "iopub.execute_input": "2022-01-10T09:23:04.290406Z",
     "iopub.status.busy": "2022-01-10T09:23:04.289247Z",
     "iopub.status.idle": "2022-01-10T09:23:04.367597Z",
     "shell.execute_reply": "2022-01-10T09:23:04.367008Z",
     "shell.execute_reply.started": "2022-01-10T09:04:54.146967Z"
    },
    "papermill": {
     "duration": 0.197665,
     "end_time": "2022-01-10T09:23:04.367750",
     "exception": false,
     "start_time": "2022-01-10T09:23:04.170085",
     "status": "completed"
    },
    "scrolled": true,
    "tags": []
   },
   "outputs": [
    {
     "data": {
      "text/plain": [
       "client_id           110148\n",
       "app_date               120\n",
       "education                6\n",
       "sex                      2\n",
       "age                     52\n",
       "car                      2\n",
       "car_type                 2\n",
       "decline_app_cnt         24\n",
       "good_work                2\n",
       "score_bki           102618\n",
       "bki_request_cnt         40\n",
       "region_rating            7\n",
       "home_address             3\n",
       "work_address             3\n",
       "income                1207\n",
       "sna                      4\n",
       "first_time               4\n",
       "foreign_passport         2\n",
       "sample                   2\n",
       "default                  2\n",
       "dtype: int64"
      ]
     },
     "execution_count": 19,
     "metadata": {},
     "output_type": "execute_result"
    }
   ],
   "source": [
    "# Видим, что в колонке client_id все значения уникальные\n",
    "data.nunique(dropna=False)"
   ]
  },
  {
   "cell_type": "markdown",
   "id": "9cdaab3e",
   "metadata": {},
   "source": [
    "**Посмотрим на целевую переменную**"
   ]
  },
  {
   "cell_type": "code",
   "execution_count": 96,
   "id": "fbbae269",
   "metadata": {},
   "outputs": [
    {
     "data": {
      "text/plain": [
       "<AxesSubplot:>"
      ]
     },
     "execution_count": 96,
     "metadata": {},
     "output_type": "execute_result"
    },
    {
     "data": {
      "image/png": "[encoded data removed]",
      "text/plain": [
       "<Figure size 432x288 with 1 Axes>"
      ]
     },
     "metadata": {
      "needs_background": "light"
     },
     "output_type": "display_data"
    }
   ],
   "source": [
    "# Посмотрим, сколько у нас всего дефолтных и недефолтных клиентов.\n",
    "data['default'].value_counts(ascending=True).plot(kind='barh')"
   ]
  },
  {
   "cell_type": "markdown",
   "id": "317c3efd",
   "metadata": {},
   "source": [
    "**Наблюдается явный дисбаланс классов. Это нужно будет учесть при обучении модели.**"
   ]
  },
  {
   "cell_type": "code",
   "execution_count": 94,
   "id": "b7f538d9",
   "metadata": {
    "scrolled": true
   },
   "outputs": [
    {
     "data": {
      "image/png": "[encoded data removed]",
      "text/plain": [
       "<Figure size 432x288 with 1 Axes>"
      ]
     },
     "metadata": {
      "needs_background": "light"
     },
     "output_type": "display_data"
    },
    {
     "data": {
      "image/png": "[encoded data removed]",
      "text/plain": [
       "<Figure size 432x288 with 1 Axes>"
      ]
     },
     "metadata": {
      "needs_background": "light"
     },
     "output_type": "display_data"
    },
    {
     "data": {
      "image/png": "[encoded data removed]",
      "text/plain": [
       "<Figure size 432x288 with 1 Axes>"
      ]
     },
     "metadata": {
      "needs_background": "light"
     },
     "output_type": "display_data"
    },
    {
     "data": {
      "image/png": "[encoded data removed]",
      "text/plain": [
       "<Figure size 432x288 with 1 Axes>"
      ]
     },
     "metadata": {
      "needs_background": "light"
     },
     "output_type": "display_data"
    },
    {
     "data": {
      "image/png": "[encoded data removed]",
      "text/plain": [
       "<Figure size 432x288 with 1 Axes>"
      ]
     },
     "metadata": {
      "needs_background": "light"
     },
     "output_type": "display_data"
    }
   ],
   "source": [
    "# Нарисуем графики непрерывных признаков\n",
    "for i in ['age','score_bki','decline_app_cnt','bki_request_cnt','income']:\n",
    "    plt.figure()\n",
    "    sns.distplot(data[i].dropna(), kde = False, rug=False)\n",
    "    plt.title(i)\n",
    "    plt.show()"
   ]
  },
  {
   "cell_type": "code",
   "execution_count": 95,
   "id": "beecbf97",
   "metadata": {},
   "outputs": [],
   "source": [
    "# Сразу прологарифмируем признаки, у которых \"тяжелый\" правый хвост\n",
    "data['decline_app_cnt']=data['decline_app_cnt'].apply(lambda x: np.log(x+1))\n",
    "data['bki_request_cnt']=data['bki_request_cnt'].apply(lambda x: np.log(x+1))\n",
    "data['income']=data['income'].apply(lambda x: np.log(x+1))"
   ]
  },
  {
   "cell_type": "code",
   "execution_count": 99,
   "id": "c5049ec1",
   "metadata": {
    "scrolled": true
   },
   "outputs": [
    {
     "data": {
      "image/png": "[encoded data removed]",
      "text/plain": [
       "<Figure size 576x288 with 1 Axes>"
      ]
     },
     "metadata": {
      "needs_background": "light"
     },
     "output_type": "display_data"
    },
    {
     "data": {
      "image/png": "[encoded data removed]",
      "text/plain": [
       "<Figure size 576x288 with 1 Axes>"
      ]
     },
     "metadata": {
      "needs_background": "light"
     },
     "output_type": "display_data"
    },
    {
     "data": {
      "image/png": "[encoded data removed]",
      "text/plain": [
       "<Figure size 576x288 with 1 Axes>"
      ]
     },
     "metadata": {
      "needs_background": "light"
     },
     "output_type": "display_data"
    },
    {
     "data": {
      "image/png": "[encoded data removed]",
      "text/plain": [
       "<Figure size 576x288 with 1 Axes>"
      ]
     },
     "metadata": {
      "needs_background": "light"
     },
     "output_type": "display_data"
    },
    {
     "data": {
      "image/png": "[encoded data removed]",
      "text/plain": [
       "<Figure size 576x288 with 1 Axes>"
      ]
     },
     "metadata": {
      "needs_background": "light"
     },
     "output_type": "display_data"
    }
   ],
   "source": [
    "# Нарисуем boxplot для непрерывных переменных (отдельно для дефолтных и для недефолтных клиентов)\n",
    "for i in ['decline_app_cnt','bki_request_cnt','income', 'score_bki','age']:\n",
    "    fig, ax = plt.subplots(figsize = (8, 4))\n",
    "    box_plot1 = sns.boxplot(x=data[\"default\"], y=data[i], data=data,ax=ax)\n",
    "    plt.title(i)"
   ]
  },
  {
   "cell_type": "markdown",
   "id": "ec5c2287",
   "metadata": {},
   "source": [
    "**Мы видим, что очень много точек определено как выбросы. Попробуем с этим разобраться.**"
   ]
  },
  {
   "cell_type": "markdown",
   "id": "7a903176",
   "metadata": {},
   "source": [
    "## Работа с выбросами"
   ]
  },
  {
   "cell_type": "code",
   "execution_count": 100,
   "id": "4f4d08e8",
   "metadata": {
    "scrolled": true
   },
   "outputs": [
    {
     "data": {
      "image/png": "[encoded data removed]",
      "text/plain": [
       "<Figure size 576x288 with 1 Axes>"
      ]
     },
     "metadata": {
      "needs_background": "light"
     },
     "output_type": "display_data"
    },
    {
     "data": {
      "image/png": "[encoded data removed]",
      "text/plain": [
       "<Figure size 576x288 with 1 Axes>"
      ]
     },
     "metadata": {
      "needs_background": "light"
     },
     "output_type": "display_data"
    },
    {
     "data": {
      "image/png": "[encoded data removed]",
      "text/plain": [
       "<Figure size 576x288 with 1 Axes>"
      ]
     },
     "metadata": {
      "needs_background": "light"
     },
     "output_type": "display_data"
    },
    {
     "data": {
      "image/png": "[encoded data removed]",
      "text/plain": [
       "<Figure size 576x288 with 1 Axes>"
      ]
     },
     "metadata": {
      "needs_background": "light"
     },
     "output_type": "display_data"
    }
   ],
   "source": [
    "# Теперь нарисуем те же графики для обоих типов клиентов, чтобы понять, что делать с выбросами (и выбросы ли это вообще).\n",
    "for i in ['decline_app_cnt','bki_request_cnt','income', 'score_bki']:\n",
    "    plt.figure(figsize=(8, 4))\n",
    "    sns.boxplot(data=data[i], orient=\"h\")\n",
    "    plt.title(i)\n",
    "    plt.show()"
   ]
  },
  {
   "cell_type": "code",
   "execution_count": 101,
   "id": "4886c6c3",
   "metadata": {},
   "outputs": [],
   "source": [
    "# Функция для поиска выбросов в данных методом IQR\n",
    "def IQR_outliers(i):\n",
    "    Q1=data[i].quantile(0.25)\n",
    "    Q3=data[i].quantile(0.75)\n",
    "    IQR=Q3-Q1\n",
    "    low=Q1-1.5*IQR\n",
    "    high=Q3+1.5*IQR\n",
    "    return (low,high)"
   ]
  },
  {
   "cell_type": "code",
   "execution_count": 103,
   "id": "5c27bd43",
   "metadata": {},
   "outputs": [
    {
     "name": "stdout",
     "output_type": "stream",
     "text": [
      "В колонке score_bki содержится 518 выбросов, что составляет 0.47 процентов\n",
      "В колонке bki_request_cnt содержится 15 выбросов, что составляет 0.01 процентов\n",
      "В колонке income содержится 2609 выбросов, что составляет 2.37 процентов\n",
      "В колонке decline_app_cnt содержится 18677 выбросов, что составляет 16.96 процентов\n",
      "Количество выбросов в рассмотренных колонках [518, 15, 2609, 18677]\n",
      "Процент выбросов в рассмотренных колонках 0.47, 0.01, 2.37,16.96\n"
     ]
    }
   ],
   "source": [
    "# Посчитаем количество выбросов в колонках\n",
    "count_outliers=[]\n",
    "percent_outliers=[]\n",
    "for j in ['score_bki', 'bki_request_cnt', 'income','decline_app_cnt']:\n",
    "    borders=IQR_outliers(j)\n",
    "#     print(j,':',borders)\n",
    "    count=0\n",
    "    for i in range(0,len(data)):\n",
    "        if data[j][i]<borders[0] or data[j][i]>borders[1]:\n",
    "            count+=1\n",
    "    percent=(count/data.shape[0])*100\n",
    "    print(\"В колонке {} содержится {} выбросов, что составляет {:.2f} процентов\".format(j,count,percent))\n",
    "    count_outliers.append(count)\n",
    "    percent_outliers.append(percent)\n",
    "print(\"Количество выбросов в рассмотренных колонках {}\".format(count_outliers))\n",
    "print(\"Процент выбросов в рассмотренных колонках {:.2f}, {:.2f}, {:.2f}, {:.2f}\".format(percent_outliers[0], percent_outliers[1],\n",
    "                                                                                      percent_outliers[2], percent_outliers[3]))"
   ]
  },
  {
   "cell_type": "markdown",
   "id": "d1382234",
   "metadata": {},
   "source": [
    "**Практика показала, что замена выбросов на медиану ухудшает модель. В этой связи я закомментировала кусок кода ниже. Все точки, которые метод IQR определил как выбросы, нужно оставить.**\n",
    "\n",
    "**В целом, \"выбросов\" немного. Большой процент \"выбросов\" в колонке decline_app_cnt объясняется природой этого признака (количество отказов в кредите). БОльшая часть данных в этой колонке - нули (помним, что признак был прологарифмирован). Ненулевое значение по методу IQR считается \"выбросом\". Но в действительности это не выброс, а очень важное для модели значение.**"
   ]
  },
  {
   "cell_type": "code",
   "execution_count": 104,
   "id": "0f9c37fb",
   "metadata": {},
   "outputs": [],
   "source": [
    "# medians=[data['score_bki'].median(),data['bki_request_cnt'].median(),data['income'].median(), data['decline_app_cnt'].median()]\n",
    "# outliers1=IQR_outliers('score_bki')\n",
    "# outliers2=IQR_outliers('bki_request_cnt')\n",
    "# outliers3=IQR_outliers('income')\n",
    "# outliers4=IQR_outliers('decline_app_cnt')\n",
    "# borders={'score_bki':outliers1,'bki_request_cnt':outliers2,'income':outliers3,'decline_app_cnt':outliers4}\n",
    "# data['score_bki']=data['score_bki'].apply(lambda x: medians[0] if x<borders['score_bki'][0] or x>borders['score_bki'][1] else x)\n",
    "# data['bki_request_cnt']=data['bki_request_cnt'].apply(lambda x: medians[1] if x<borders['bki_request_cnt'][0] or x>borders['bki_request_cnt'][1] else x)\n",
    "# data['income']=data['income'].apply(lambda x: medians[2] if x<borders['income'][0] or x>borders['income'][1] else x)\n",
    "# data['decline_app_cnt']=data['decline_app_cnt'].apply(lambda x: medians[3] if x<borders['decline_app_cnt'][0] or x>borders['decline_app_cnt'][1] else x)"
   ]
  },
  {
   "cell_type": "code",
   "execution_count": null,
   "id": "455bfdf5",
   "metadata": {},
   "outputs": [],
   "source": []
  },
  {
   "cell_type": "markdown",
   "id": "1709c3a6",
   "metadata": {},
   "source": [
    "## Заполнение пропусков"
   ]
  },
  {
   "cell_type": "code",
   "execution_count": 105,
   "id": "59170caf",
   "metadata": {},
   "outputs": [],
   "source": [
    "import random"
   ]
  },
  {
   "cell_type": "code",
   "execution_count": 106,
   "id": "f42c6715",
   "metadata": {
    "execution": {
     "iopub.execute_input": "2022-01-01T11:58:20.538217Z",
     "iopub.status.busy": "2022-01-01T11:58:20.537902Z",
     "iopub.status.idle": "2022-01-01T11:58:20.544887Z",
     "shell.execute_reply": "2022-01-01T11:58:20.544196Z",
     "shell.execute_reply.started": "2022-01-01T11:58:20.538175Z"
    },
    "papermill": {
     "duration": 0.115842,
     "end_time": "2022-01-10T09:23:06.088354",
     "exception": false,
     "start_time": "2022-01-10T09:23:05.972512",
     "status": "completed"
    },
    "tags": []
   },
   "outputs": [],
   "source": [
    "# Заполним пропуски в колонке education рандомными значениями из уже имеющихся. Практика показала, что эту колонку \n",
    "# лучше обрабатывать не с помощью get_dummies, а с помощью OneHotEncoder. Для этого необходимо отсутствие пропусков\n",
    "prob = data['education'].value_counts(normalize=True)\n",
    "ind = data[data['education'].isna()==True].index\n",
    "fill_list = pd.Series(random.choices(prob.index, prob, k=data['education'].isna().sum()))\n",
    "fill_list.index = ind\n",
    "data['education']=data['education'].fillna(fill_list)"
   ]
  },
  {
   "cell_type": "code",
   "execution_count": 108,
   "id": "9f324738",
   "metadata": {},
   "outputs": [],
   "source": [
    "# Функция, заменяющая строковые значения в колонке education на числа (категории). \n",
    "def replace_values(string):\n",
    "    if string=='SCH':\n",
    "        return 0\n",
    "    elif string=='UGR':\n",
    "        return 1\n",
    "    elif string=='GRD':\n",
    "        return 2\n",
    "    elif string=='PGR':\n",
    "        return 3\n",
    "    elif string=='ACD':\n",
    "        return 4"
   ]
  },
  {
   "cell_type": "code",
   "execution_count": 109,
   "id": "7b3ff58f",
   "metadata": {},
   "outputs": [],
   "source": [
    "# Заменим строковые значения в колонке education\n",
    "data['education']=data['education'].apply(replace_values)"
   ]
  },
  {
   "cell_type": "markdown",
   "id": "7fe09880",
   "metadata": {
    "papermill": {
     "duration": 0.11343,
     "end_time": "2022-01-10T09:23:06.316160",
     "exception": false,
     "start_time": "2022-01-10T09:23:06.202730",
     "status": "completed"
    },
    "tags": []
   },
   "source": [
    "## Обработка призаков и feature engineering"
   ]
  },
  {
   "cell_type": "code",
   "execution_count": 110,
   "id": "b0ce1765",
   "metadata": {
    "execution": {
     "iopub.execute_input": "2022-01-10T09:23:06.546321Z",
     "iopub.status.busy": "2022-01-10T09:23:06.545680Z",
     "iopub.status.idle": "2022-01-10T09:23:07.996687Z",
     "shell.execute_reply": "2022-01-10T09:23:07.997225Z",
     "shell.execute_reply.started": "2022-01-10T09:05:11.836864Z"
    },
    "papermill": {
     "duration": 1.567758,
     "end_time": "2022-01-10T09:23:07.997414",
     "exception": false,
     "start_time": "2022-01-10T09:23:06.429656",
     "status": "completed"
    },
    "tags": []
   },
   "outputs": [],
   "source": [
    "# Переведем дату в формат datetime\n",
    "data['app_date']=data['app_date'].apply(lambda x: datetime.strptime(x,'%d%b%Y')) "
   ]
  },
  {
   "cell_type": "code",
   "execution_count": 111,
   "id": "e2526cb9",
   "metadata": {
    "execution": {
     "iopub.execute_input": "2022-01-10T09:23:08.231027Z",
     "iopub.status.busy": "2022-01-10T09:23:08.229987Z",
     "iopub.status.idle": "2022-01-10T09:23:11.247513Z",
     "shell.execute_reply": "2022-01-10T09:23:11.248039Z",
     "shell.execute_reply.started": "2022-01-10T09:05:14.330116Z"
    },
    "papermill": {
     "duration": 3.136065,
     "end_time": "2022-01-10T09:23:11.248237",
     "exception": false,
     "start_time": "2022-01-10T09:23:08.112172",
     "status": "completed"
    },
    "tags": []
   },
   "outputs": [],
   "source": [
    "# Извлечем из даты год, месяц и день\n",
    "data['app_year']=data['app_date'].apply(lambda x: x.year)\n",
    "data['app_month']=data['app_date'].apply(lambda x: x.month)\n",
    "data['app_day']=data['app_date'].apply(lambda x: x.day)\n",
    "data['app_day_of_week']=data['app_date'].apply(lambda x: x.weekday())"
   ]
  },
  {
   "cell_type": "code",
   "execution_count": 112,
   "id": "c52fd0f2",
   "metadata": {
    "execution": {
     "iopub.execute_input": "2022-01-10T09:23:11.483311Z",
     "iopub.status.busy": "2022-01-10T09:23:11.482263Z",
     "iopub.status.idle": "2022-01-10T09:23:12.968032Z",
     "shell.execute_reply": "2022-01-10T09:23:12.968623Z",
     "shell.execute_reply.started": "2022-01-10T09:05:17.386526Z"
    },
    "papermill": {
     "duration": 1.603366,
     "end_time": "2022-01-10T09:23:12.968816",
     "exception": false,
     "start_time": "2022-01-10T09:23:11.365450",
     "status": "completed"
    },
    "tags": []
   },
   "outputs": [],
   "source": [
    "# Введем колонку, содержащую количество дней от первой даты в датасете до даты подачи заявки \n",
    "data['timedelta']=data['app_date']-data['app_date'].min()\n",
    "data['timedelta']=data['timedelta'].apply(lambda x: x.days)\n"
   ]
  },
  {
   "cell_type": "code",
   "execution_count": 113,
   "id": "0654e981",
   "metadata": {
    "execution": {
     "iopub.execute_input": "2022-01-10T09:23:13.202951Z",
     "iopub.status.busy": "2022-01-10T09:23:13.201939Z",
     "iopub.status.idle": "2022-01-10T09:23:13.235799Z",
     "shell.execute_reply": "2022-01-10T09:23:13.235176Z",
     "shell.execute_reply.started": "2022-01-10T09:05:20.011843Z"
    },
    "papermill": {
     "duration": 0.151334,
     "end_time": "2022-01-10T09:23:13.235946",
     "exception": false,
     "start_time": "2022-01-10T09:23:13.084612",
     "status": "completed"
    },
    "tags": []
   },
   "outputs": [],
   "source": [
    "# Создадим два словаря с количеством клиентов каждый день и количеством дефолтных клиентов в этот день\n",
    "number_of_clients=dict(data.groupby('app_date')['client_id'].count())\n",
    "dictionary_of_defaults=dict(data.groupby('app_date')['default'].value_counts()[:,1])"
   ]
  },
  {
   "cell_type": "code",
   "execution_count": 114,
   "id": "29ffaeee",
   "metadata": {
    "execution": {
     "iopub.execute_input": "2022-01-10T09:23:13.476500Z",
     "iopub.status.busy": "2022-01-10T09:23:13.471255Z",
     "iopub.status.idle": "2022-01-10T09:23:15.122924Z",
     "shell.execute_reply": "2022-01-10T09:23:15.122251Z",
     "shell.execute_reply.started": "2022-01-10T09:05:23.339388Z"
    },
    "papermill": {
     "duration": 1.771774,
     "end_time": "2022-01-10T09:23:15.123104",
     "exception": false,
     "start_time": "2022-01-10T09:23:13.351330",
     "status": "completed"
    },
    "tags": []
   },
   "outputs": [],
   "source": [
    "# Создадим две дополнительных колонки с количеством клиентов в день и количеством дефолтных клиентов в этот день\n",
    "data['number_of_clients']=data['app_date'].apply(lambda x: number_of_clients[x])\n",
    "data['number_of_default']=data['app_date'].apply(lambda x: dictionary_of_defaults[x])"
   ]
  },
  {
   "cell_type": "code",
   "execution_count": 115,
   "id": "866263fc",
   "metadata": {
    "execution": {
     "iopub.execute_input": "2022-01-10T09:23:15.357526Z",
     "iopub.status.busy": "2022-01-10T09:23:15.356514Z",
     "iopub.status.idle": "2022-01-10T09:23:15.362473Z",
     "shell.execute_reply": "2022-01-10T09:23:15.363059Z",
     "shell.execute_reply.started": "2022-01-10T09:05:27.418414Z"
    },
    "papermill": {
     "duration": 0.124485,
     "end_time": "2022-01-10T09:23:15.363246",
     "exception": false,
     "start_time": "2022-01-10T09:23:15.238761",
     "status": "completed"
    },
    "tags": []
   },
   "outputs": [],
   "source": [
    "# Посчитаем процент дефолтных клиентов для каждого дня\n",
    "data['percent_of_default']=(data['number_of_default']/data['number_of_clients'])*100"
   ]
  },
  {
   "cell_type": "code",
   "execution_count": 116,
   "id": "d1c6d878",
   "metadata": {
    "execution": {
     "iopub.execute_input": "2022-01-10T09:23:15.596141Z",
     "iopub.status.busy": "2022-01-10T09:23:15.595467Z",
     "iopub.status.idle": "2022-01-10T09:23:15.628517Z",
     "shell.execute_reply": "2022-01-10T09:23:15.629102Z",
     "shell.execute_reply.started": "2022-01-10T09:05:30.895926Z"
    },
    "papermill": {
     "duration": 0.151908,
     "end_time": "2022-01-10T09:23:15.629283",
     "exception": false,
     "start_time": "2022-01-10T09:23:15.477375",
     "status": "completed"
    },
    "tags": []
   },
   "outputs": [],
   "source": [
    "# Год во всем датасете одинаковый (2014), удалим колонку \n",
    "data.drop(columns=['app_year'], axis=1, inplace=True)"
   ]
  },
  {
   "cell_type": "code",
   "execution_count": 117,
   "id": "aef92d3f",
   "metadata": {},
   "outputs": [],
   "source": [
    "# Избавимся от признаков client_id и app_date\n",
    "data.drop(['client_id','app_date',], axis = 1, inplace=True)"
   ]
  },
  {
   "cell_type": "code",
   "execution_count": 118,
   "id": "72e5348b",
   "metadata": {},
   "outputs": [],
   "source": [
    "# Эксперименты с моделью показали, что удаление колонки age улучшает целевую метрику\n",
    "data.drop(columns=['age'], inplace=True)"
   ]
  },
  {
   "cell_type": "markdown",
   "id": "9abd94df",
   "metadata": {},
   "source": [
    "**Попробуем добавить WoE (Weight of Evidence) в качестве отдельного признака для колонок score_bki и sna. Я выбрала именно эти признаки, т.к. они являются самыми значимыми для модели (см. \"Значимость переменных\" ниже).**"
   ]
  },
  {
   "cell_type": "code",
   "execution_count": 14,
   "id": "cbcd3ba0",
   "metadata": {
    "execution": {
     "iopub.execute_input": "2022-01-10T09:23:17.147189Z",
     "iopub.status.busy": "2022-01-10T09:23:17.146125Z",
     "iopub.status.idle": "2022-01-10T09:23:17.160440Z",
     "shell.execute_reply": "2022-01-10T09:23:17.161022Z",
     "shell.execute_reply.started": "2022-01-10T09:05:48.370519Z"
    },
    "papermill": {
     "duration": 0.13267,
     "end_time": "2022-01-10T09:23:17.161200",
     "exception": false,
     "start_time": "2022-01-10T09:23:17.028530",
     "status": "completed"
    },
    "tags": []
   },
   "outputs": [],
   "source": [
    "# Функия с сайта listendata.com для расчета параметров WOE и IV для непрерывных и категориальных признаков\n",
    "def iv_woe(data, target, bins=10, show_woe=False):\n",
    "    \n",
    "    #Empty Dataframe\n",
    "    newDF,woeDF = pd.DataFrame(), pd.DataFrame()\n",
    "    \n",
    "    #Extract Column Names\n",
    "    cols = data.columns\n",
    "    \n",
    "    #Run WOE and IV on all the independent variables\n",
    "    for ivars in cols[~cols.isin([target])]:\n",
    "        if (data[ivars].dtype.kind in 'bifc') and (len(np.unique(data[ivars]))>10):\n",
    "            binned_x = pd.qcut(data[ivars], bins,  duplicates='drop')\n",
    "            d0 = pd.DataFrame({'x': binned_x, 'y': data[target]})\n",
    "        else:\n",
    "            d0 = pd.DataFrame({'x': data[ivars], 'y': data[target]})\n",
    "        d = d0.groupby(\"x\", as_index=False).agg({\"y\": [\"count\", \"sum\"]})\n",
    "        d.columns = ['Cutoff', 'N', 'Events']\n",
    "        d['% of Events'] = np.maximum(d['Events'], 0.5) / d['Events'].sum()\n",
    "        d['Non-Events'] = d['N'] - d['Events']\n",
    "        d['% of Non-Events'] = np.maximum(d['Non-Events'], 0.5) / d['Non-Events'].sum()\n",
    "        d['WoE'] = np.log(d['% of Events']/d['% of Non-Events'])\n",
    "        d['IV'] = d['WoE'] * (d['% of Events'] - d['% of Non-Events'])\n",
    "        d.insert(loc=0, column='Variable', value=ivars)\n",
    "        print(\"Information value of \" + ivars + \" is \" + str(round(d['IV'].sum(),6)))\n",
    "        temp =pd.DataFrame({\"Variable\" : [ivars], \"IV\" : [d['IV'].sum()]}, columns = [\"Variable\", \"IV\"])\n",
    "        newDF=pd.concat([newDF,temp], axis=0)\n",
    "        woeDF=pd.concat([woeDF,d], axis=0)\n",
    "\n",
    "        #Show WOE Table\n",
    "        if show_woe == True:\n",
    "            print(d)\n",
    "    return newDF, woeDF"
   ]
  },
  {
   "cell_type": "code",
   "execution_count": 15,
   "id": "1ef54d64",
   "metadata": {
    "execution": {
     "iopub.execute_input": "2022-01-10T09:23:17.396320Z",
     "iopub.status.busy": "2022-01-10T09:23:17.395257Z",
     "iopub.status.idle": "2022-01-10T09:23:18.056129Z",
     "shell.execute_reply": "2022-01-10T09:23:18.055497Z",
     "shell.execute_reply.started": "2022-01-10T09:05:50.603520Z"
    },
    "papermill": {
     "duration": 0.77888,
     "end_time": "2022-01-10T09:23:18.056271",
     "exception": false,
     "start_time": "2022-01-10T09:23:17.277391",
     "status": "completed"
    },
    "tags": []
   },
   "outputs": [
    {
     "name": "stdout",
     "output_type": "stream",
     "text": [
      "Information value of client_id is 0.017569\n",
      "Information value of app_date is 0.033298\n",
      "Information value of education is 0.065819\n",
      "Information value of sex is 0.002718\n",
      "Information value of age is 0.006706\n",
      "Information value of car is 0.016455\n",
      "Information value of car_type is 0.031826\n",
      "Information value of decline_app_cnt is 0.059671\n",
      "Information value of good_work is 0.017679\n",
      "Information value of score_bki is 0.250495\n",
      "Information value of bki_request_cnt is 0.040218\n",
      "Information value of region_rating is 0.075954\n",
      "Information value of home_address is 0.073392\n",
      "Information value of work_address is 0.060667\n",
      "Information value of income is 0.03665\n",
      "Information value of sna is 0.120569\n",
      "Information value of first_time is 0.092315\n",
      "Information value of foreign_passport is 0.043638\n",
      "Information value of sample is 3.341787\n",
      "Information value of app_month is 0.012417\n",
      "Information value of app_day is 0.001962\n",
      "Information value of app_day_of_week is 0.001046\n",
      "Information value of timedelta is 0.017448\n",
      "Information value of number_of_clients is 0.002531\n",
      "Information value of number_of_default is 0.009811\n",
      "Information value of percent_of_default is 0.03127\n"
     ]
    }
   ],
   "source": [
    "# Создадим два вспомогательных датасета с параметрами IV и WOE соответственно\n",
    "DF_IV,DF_WOE=iv_woe(data,'default')"
   ]
  },
  {
   "cell_type": "code",
   "execution_count": 16,
   "id": "599a9050",
   "metadata": {
    "papermill": {
     "duration": 0.118262,
     "end_time": "2022-01-10T09:23:18.291457",
     "exception": false,
     "start_time": "2022-01-10T09:23:18.173195",
     "status": "completed"
    },
    "tags": []
   },
   "outputs": [
    {
     "data": {
      "text/html": [
       "<div>\n",
       "<style scoped>\n",
       "    .dataframe tbody tr th:only-of-type {\n",
       "        vertical-align: middle;\n",
       "    }\n",
       "\n",
       "    .dataframe tbody tr th {\n",
       "        vertical-align: top;\n",
       "    }\n",
       "\n",
       "    .dataframe thead th {\n",
       "        text-align: right;\n",
       "    }\n",
       "</style>\n",
       "<table border=\"1\" class=\"dataframe\">\n",
       "  <thead>\n",
       "    <tr style=\"text-align: right;\">\n",
       "      <th></th>\n",
       "      <th>Variable</th>\n",
       "      <th>Cutoff</th>\n",
       "      <th>N</th>\n",
       "      <th>Events</th>\n",
       "      <th>% of Events</th>\n",
       "      <th>Non-Events</th>\n",
       "      <th>% of Non-Events</th>\n",
       "      <th>WoE</th>\n",
       "      <th>IV</th>\n",
       "    </tr>\n",
       "  </thead>\n",
       "  <tbody>\n",
       "    <tr>\n",
       "      <th>0</th>\n",
       "      <td>client_id</td>\n",
       "      <td>(0.999, 11015.7]</td>\n",
       "      <td>11015</td>\n",
       "      <td>1055</td>\n",
       "      <td>0.112569</td>\n",
       "      <td>9960</td>\n",
       "      <td>0.098833</td>\n",
       "      <td>0.130137</td>\n",
       "      <td>0.001788</td>\n",
       "    </tr>\n",
       "    <tr>\n",
       "      <th>1</th>\n",
       "      <td>client_id</td>\n",
       "      <td>(11015.7, 22030.4]</td>\n",
       "      <td>11015</td>\n",
       "      <td>1064</td>\n",
       "      <td>0.113530</td>\n",
       "      <td>9951</td>\n",
       "      <td>0.098744</td>\n",
       "      <td>0.139536</td>\n",
       "      <td>0.002063</td>\n",
       "    </tr>\n",
       "    <tr>\n",
       "      <th>2</th>\n",
       "      <td>client_id</td>\n",
       "      <td>(22030.4, 33045.1]</td>\n",
       "      <td>11015</td>\n",
       "      <td>994</td>\n",
       "      <td>0.106061</td>\n",
       "      <td>10021</td>\n",
       "      <td>0.099438</td>\n",
       "      <td>0.064473</td>\n",
       "      <td>0.000427</td>\n",
       "    </tr>\n",
       "    <tr>\n",
       "      <th>3</th>\n",
       "      <td>client_id</td>\n",
       "      <td>(33045.1, 44059.8]</td>\n",
       "      <td>11014</td>\n",
       "      <td>941</td>\n",
       "      <td>0.100405</td>\n",
       "      <td>10073</td>\n",
       "      <td>0.099954</td>\n",
       "      <td>0.004503</td>\n",
       "      <td>0.000002</td>\n",
       "    </tr>\n",
       "    <tr>\n",
       "      <th>4</th>\n",
       "      <td>client_id</td>\n",
       "      <td>(44059.8, 55074.5]</td>\n",
       "      <td>11015</td>\n",
       "      <td>986</td>\n",
       "      <td>0.105207</td>\n",
       "      <td>10029</td>\n",
       "      <td>0.099518</td>\n",
       "      <td>0.055594</td>\n",
       "      <td>0.000316</td>\n",
       "    </tr>\n",
       "    <tr>\n",
       "      <th>...</th>\n",
       "      <td>...</td>\n",
       "      <td>...</td>\n",
       "      <td>...</td>\n",
       "      <td>...</td>\n",
       "      <td>...</td>\n",
       "      <td>...</td>\n",
       "      <td>...</td>\n",
       "      <td>...</td>\n",
       "      <td>...</td>\n",
       "    </tr>\n",
       "    <tr>\n",
       "      <th>5</th>\n",
       "      <td>percent_of_default</td>\n",
       "      <td>(8.687, 8.969]</td>\n",
       "      <td>10025</td>\n",
       "      <td>884</td>\n",
       "      <td>0.094324</td>\n",
       "      <td>9141</td>\n",
       "      <td>0.090706</td>\n",
       "      <td>0.039106</td>\n",
       "      <td>0.000141</td>\n",
       "    </tr>\n",
       "    <tr>\n",
       "      <th>6</th>\n",
       "      <td>percent_of_default</td>\n",
       "      <td>(8.969, 9.161]</td>\n",
       "      <td>11366</td>\n",
       "      <td>1033</td>\n",
       "      <td>0.110222</td>\n",
       "      <td>10333</td>\n",
       "      <td>0.102534</td>\n",
       "      <td>0.072298</td>\n",
       "      <td>0.000556</td>\n",
       "    </tr>\n",
       "    <tr>\n",
       "      <th>7</th>\n",
       "      <td>percent_of_default</td>\n",
       "      <td>(9.161, 9.483]</td>\n",
       "      <td>10878</td>\n",
       "      <td>1017</td>\n",
       "      <td>0.108515</td>\n",
       "      <td>9861</td>\n",
       "      <td>0.097851</td>\n",
       "      <td>0.103443</td>\n",
       "      <td>0.001103</td>\n",
       "    </tr>\n",
       "    <tr>\n",
       "      <th>8</th>\n",
       "      <td>percent_of_default</td>\n",
       "      <td>(9.483, 10.072]</td>\n",
       "      <td>11098</td>\n",
       "      <td>1081</td>\n",
       "      <td>0.115344</td>\n",
       "      <td>10017</td>\n",
       "      <td>0.099399</td>\n",
       "      <td>0.148777</td>\n",
       "      <td>0.002372</td>\n",
       "    </tr>\n",
       "    <tr>\n",
       "      <th>9</th>\n",
       "      <td>percent_of_default</td>\n",
       "      <td>(10.072, 14.507]</td>\n",
       "      <td>10674</td>\n",
       "      <td>1162</td>\n",
       "      <td>0.123986</td>\n",
       "      <td>9512</td>\n",
       "      <td>0.094388</td>\n",
       "      <td>0.272762</td>\n",
       "      <td>0.008073</td>\n",
       "    </tr>\n",
       "  </tbody>\n",
       "</table>\n",
       "<p>266 rows × 9 columns</p>\n",
       "</div>"
      ],
      "text/plain": [
       "              Variable              Cutoff      N  Events  % of Events  \\\n",
       "0            client_id    (0.999, 11015.7]  11015    1055     0.112569   \n",
       "1            client_id  (11015.7, 22030.4]  11015    1064     0.113530   \n",
       "2            client_id  (22030.4, 33045.1]  11015     994     0.106061   \n",
       "3            client_id  (33045.1, 44059.8]  11014     941     0.100405   \n",
       "4            client_id  (44059.8, 55074.5]  11015     986     0.105207   \n",
       "..                 ...                 ...    ...     ...          ...   \n",
       "5   percent_of_default      (8.687, 8.969]  10025     884     0.094324   \n",
       "6   percent_of_default      (8.969, 9.161]  11366    1033     0.110222   \n",
       "7   percent_of_default      (9.161, 9.483]  10878    1017     0.108515   \n",
       "8   percent_of_default     (9.483, 10.072]  11098    1081     0.115344   \n",
       "9   percent_of_default    (10.072, 14.507]  10674    1162     0.123986   \n",
       "\n",
       "    Non-Events  % of Non-Events       WoE        IV  \n",
       "0         9960         0.098833  0.130137  0.001788  \n",
       "1         9951         0.098744  0.139536  0.002063  \n",
       "2        10021         0.099438  0.064473  0.000427  \n",
       "3        10073         0.099954  0.004503  0.000002  \n",
       "4        10029         0.099518  0.055594  0.000316  \n",
       "..         ...              ...       ...       ...  \n",
       "5         9141         0.090706  0.039106  0.000141  \n",
       "6        10333         0.102534  0.072298  0.000556  \n",
       "7         9861         0.097851  0.103443  0.001103  \n",
       "8        10017         0.099399  0.148777  0.002372  \n",
       "9         9512         0.094388  0.272762  0.008073  \n",
       "\n",
       "[266 rows x 9 columns]"
      ]
     },
     "execution_count": 16,
     "metadata": {},
     "output_type": "execute_result"
    }
   ],
   "source": [
    "DF_WOE"
   ]
  },
  {
   "cell_type": "code",
   "execution_count": 17,
   "id": "298920a6",
   "metadata": {
    "execution": {
     "iopub.execute_input": "2022-01-10T09:23:18.527076Z",
     "iopub.status.busy": "2022-01-10T09:23:18.526434Z",
     "iopub.status.idle": "2022-01-10T09:23:18.531757Z",
     "shell.execute_reply": "2022-01-10T09:23:18.532279Z",
     "shell.execute_reply.started": "2022-01-10T09:06:09.651971Z"
    },
    "papermill": {
     "duration": 0.124025,
     "end_time": "2022-01-10T09:23:18.532504",
     "exception": false,
     "start_time": "2022-01-10T09:23:18.408479",
     "status": "completed"
    },
    "tags": []
   },
   "outputs": [],
   "source": [
    "# Создадим вспомогательный словарь для добавления признака WOE для колонки sna в основной датасет\n",
    "dict_of_woe_sna=dict(DF_WOE[DF_WOE['Variable']=='sna']['WoE'])"
   ]
  },
  {
   "cell_type": "code",
   "execution_count": 18,
   "id": "c976fa2e",
   "metadata": {
    "execution": {
     "iopub.execute_input": "2022-01-10T09:23:18.795586Z",
     "iopub.status.busy": "2022-01-10T09:23:18.794891Z",
     "iopub.status.idle": "2022-01-10T09:23:18.801727Z",
     "shell.execute_reply": "2022-01-10T09:23:18.801177Z",
     "shell.execute_reply.started": "2022-01-10T09:06:13.909190Z"
    },
    "papermill": {
     "duration": 0.130953,
     "end_time": "2022-01-10T09:23:18.801878",
     "exception": false,
     "start_time": "2022-01-10T09:23:18.670925",
     "status": "completed"
    },
    "tags": []
   },
   "outputs": [],
   "source": [
    "# Создадим вспомогательный словарь для добавления признака WOE для колонки score_bki в основной датасет\n",
    "dict_of_woe_score_bki=dict(DF_WOE[DF_WOE['Variable']=='score_bki']['WoE'])\n",
    "dict_of_cut_off_score_bki=dict(DF_WOE[DF_WOE['Variable']=='score_bki']['Cutoff'])"
   ]
  },
  {
   "cell_type": "code",
   "execution_count": 19,
   "id": "6cb30a97",
   "metadata": {
    "execution": {
     "iopub.execute_input": "2022-01-10T09:23:19.040654Z",
     "iopub.status.busy": "2022-01-10T09:23:19.039522Z",
     "iopub.status.idle": "2022-01-10T09:23:19.041709Z",
     "shell.execute_reply": "2022-01-10T09:23:19.042211Z",
     "shell.execute_reply.started": "2022-01-10T09:06:19.574920Z"
    },
    "papermill": {
     "duration": 0.12387,
     "end_time": "2022-01-10T09:23:19.042385",
     "exception": false,
     "start_time": "2022-01-10T09:23:18.918515",
     "status": "completed"
    },
    "tags": []
   },
   "outputs": [],
   "source": [
    "# Функция для добавления параметрa WOE для колонки sna в основной датасет\n",
    "def add_woe_sna(n):\n",
    "    if n==1:\n",
    "        return dict_of_woe_sna[0]\n",
    "    elif n==2:\n",
    "        return dict_of_woe_sna[1]\n",
    "    elif n==3:\n",
    "        return dict_of_woe_sna[2]\n",
    "    elif n==4:\n",
    "        return dict_of_woe_sna[3]"
   ]
  },
  {
   "cell_type": "code",
   "execution_count": 20,
   "id": "372a2267",
   "metadata": {
    "execution": {
     "iopub.execute_input": "2022-01-10T09:23:19.278952Z",
     "iopub.status.busy": "2022-01-10T09:23:19.277896Z",
     "iopub.status.idle": "2022-01-10T09:23:19.288006Z",
     "shell.execute_reply": "2022-01-10T09:23:19.288539Z",
     "shell.execute_reply.started": "2022-01-10T09:06:24.529079Z"
    },
    "papermill": {
     "duration": 0.130715,
     "end_time": "2022-01-10T09:23:19.288740",
     "exception": false,
     "start_time": "2022-01-10T09:23:19.158025",
     "status": "completed"
    },
    "tags": []
   },
   "outputs": [],
   "source": [
    "# Функция для добавления параметрa WOE для колонки score_bki в основной датасет\n",
    "def add_woe_score_bki(k):\n",
    "    if dict_of_cut_off_score_bki[0].left<=k<=dict_of_cut_off_score_bki[0].right:\n",
    "        return dict_of_woe_score_bki[0]\n",
    "    elif dict_of_cut_off_score_bki[1].left<k<=dict_of_cut_off_score_bki[1].right:\n",
    "        return dict_of_woe_score_bki[1]\n",
    "    elif dict_of_cut_off_score_bki[2].left<k<=dict_of_cut_off_score_bki[2].right:\n",
    "        return dict_of_woe_score_bki[2]\n",
    "    elif dict_of_cut_off_score_bki[3].left<k<=dict_of_cut_off_score_bki[3].right:\n",
    "        return dict_of_woe_score_bki[3]\n",
    "    elif dict_of_cut_off_score_bki[4].left<k<=dict_of_cut_off_score_bki[4].right:\n",
    "        return dict_of_woe_score_bki[4]\n",
    "    elif dict_of_cut_off_score_bki[5].left<k<=dict_of_cut_off_score_bki[5].right:\n",
    "        return dict_of_woe_score_bki[5]\n",
    "    elif dict_of_cut_off_score_bki[6].left<k<=dict_of_cut_off_score_bki[6].right:\n",
    "        return dict_of_woe_score_bki[6]\n",
    "    elif dict_of_cut_off_score_bki[7].left<k<=dict_of_cut_off_score_bki[7].right:\n",
    "        return dict_of_woe_score_bki[7]\n",
    "    elif dict_of_cut_off_score_bki[8].left<k<=dict_of_cut_off_score_bki[8].right:\n",
    "        return dict_of_woe_score_bki[8]\n",
    "    elif dict_of_cut_off_score_bki[9].left<k<=dict_of_cut_off_score_bki[9].right:\n",
    "        return dict_of_woe_score_bki[9]"
   ]
  },
  {
   "cell_type": "markdown",
   "id": "efd03207",
   "metadata": {},
   "source": [
    "**Эксперименты с моделью показали, что добавление признака WoE ухудшает целевую метрику. Поэтому я закомментировала куски кода ниже**"
   ]
  },
  {
   "cell_type": "code",
   "execution_count": 44,
   "id": "4e473195",
   "metadata": {
    "execution": {
     "iopub.execute_input": "2022-01-10T09:23:19.528108Z",
     "iopub.status.busy": "2022-01-10T09:23:19.527188Z",
     "iopub.status.idle": "2022-01-10T09:23:19.530154Z",
     "shell.execute_reply": "2022-01-10T09:23:19.529639Z",
     "shell.execute_reply.started": "2022-01-08T11:33:25.494807Z"
    },
    "papermill": {
     "duration": 0.122669,
     "end_time": "2022-01-10T09:23:19.530304",
     "exception": false,
     "start_time": "2022-01-10T09:23:19.407635",
     "status": "completed"
    },
    "tags": []
   },
   "outputs": [],
   "source": [
    "# data['WOE_sna']=data['sna'].apply(add_woe_sna)"
   ]
  },
  {
   "cell_type": "code",
   "execution_count": 45,
   "id": "87ec5fa5",
   "metadata": {
    "execution": {
     "iopub.execute_input": "2022-01-10T09:23:19.767820Z",
     "iopub.status.busy": "2022-01-10T09:23:19.766717Z",
     "iopub.status.idle": "2022-01-10T09:23:20.130232Z",
     "shell.execute_reply": "2022-01-10T09:23:20.130754Z",
     "shell.execute_reply.started": "2022-01-10T09:06:28.049004Z"
    },
    "papermill": {
     "duration": 0.484587,
     "end_time": "2022-01-10T09:23:20.130962",
     "exception": false,
     "start_time": "2022-01-10T09:23:19.646375",
     "status": "completed"
    },
    "tags": []
   },
   "outputs": [],
   "source": [
    "# data['WOE_score_bki']=data['score_bki'].apply(add_woe_score_bki)"
   ]
  },
  {
   "cell_type": "markdown",
   "id": "b142abc1",
   "metadata": {
    "execution": {
     "iopub.execute_input": "2022-01-10T09:23:20.873110Z",
     "iopub.status.busy": "2022-01-10T09:23:20.872400Z",
     "iopub.status.idle": "2022-01-10T09:23:20.889520Z",
     "shell.execute_reply": "2022-01-10T09:23:20.890047Z",
     "shell.execute_reply.started": "2022-01-10T09:06:36.400927Z"
    },
    "papermill": {
     "duration": 0.139626,
     "end_time": "2022-01-10T09:23:20.890247",
     "exception": false,
     "start_time": "2022-01-10T09:23:20.750621",
     "status": "completed"
    },
    "tags": []
   },
   "source": [
    "**Борьба с мультиколлинеарностью**"
   ]
  },
  {
   "cell_type": "code",
   "execution_count": 119,
   "id": "2d0617a3",
   "metadata": {
    "execution": {
     "iopub.execute_input": "2022-01-10T09:23:21.451147Z",
     "iopub.status.busy": "2022-01-10T09:23:21.450440Z",
     "iopub.status.idle": "2022-01-10T09:23:21.452812Z",
     "shell.execute_reply": "2022-01-10T09:23:21.452126Z",
     "shell.execute_reply.started": "2022-01-10T09:06:43.781844Z"
    },
    "papermill": {
     "duration": 0.124269,
     "end_time": "2022-01-10T09:23:21.452959",
     "exception": false,
     "start_time": "2022-01-10T09:23:21.328690",
     "status": "completed"
    },
    "tags": []
   },
   "outputs": [],
   "source": [
    "# Разобьем признаки на непрерывные, категориальные и бинарные\n",
    "num_cols = ['score_bki', 'decline_app_cnt', 'bki_request_cnt', 'income','timedelta','number_of_clients','percent_of_default','number_of_default']\n",
    "cat_cols = ['education', 'first_time', 'sna', 'work_address', 'home_address', 'region_rating','app_day','app_month','app_day_of_week']\n",
    "bin_cols = ['sex','car', 'car_type', 'good_work', 'foreign_passport']"
   ]
  },
  {
   "cell_type": "code",
   "execution_count": 120,
   "id": "a1eb380b",
   "metadata": {
    "execution": {
     "iopub.execute_input": "2022-01-10T09:23:21.697208Z",
     "iopub.status.busy": "2022-01-10T09:23:21.690310Z",
     "iopub.status.idle": "2022-01-10T09:23:22.126574Z",
     "shell.execute_reply": "2022-01-10T09:23:22.127093Z",
     "shell.execute_reply.started": "2022-01-10T09:06:46.589973Z"
    },
    "papermill": {
     "duration": 0.556943,
     "end_time": "2022-01-10T09:23:22.127283",
     "exception": false,
     "start_time": "2022-01-10T09:23:21.570340",
     "status": "completed"
    },
    "tags": []
   },
   "outputs": [
    {
     "data": {
      "text/plain": [
       "<AxesSubplot:>"
      ]
     },
     "execution_count": 120,
     "metadata": {},
     "output_type": "execute_result"
    },
    {
     "data": {
      "image/png": "[encoded data removed]",
      "text/plain": [
       "<Figure size 432x288 with 2 Axes>"
      ]
     },
     "metadata": {
      "needs_background": "light"
     },
     "output_type": "display_data"
    }
   ],
   "source": [
    "# Построим тепловую карту матрицы корреляций непрерывных признаков. Интересно, что timedelta сильно \n",
    "# скореллировано с percent_of_default (коэффициент корреляции -0.62). \n",
    "# Это значит, что с течением времени падает число дефолтных клиентов\n",
    "# Признак number_of_clients сильно скоррелирован с number_of_default (коэффициент корреляции 0.87), а number_of_default сильно \n",
    "# скоррелирован с percent_of_default (коэффициент корреляции 0.52). Если использовать все эти признаки, качество модели \n",
    "# ухудшается. Можно было бы удалить некоторые из признаков, но вместо этого я использую метод главных\n",
    "# компонент (PCA).\n",
    "sns.heatmap(data[num_cols].corr().abs(), vmin=0, vmax=1)"
   ]
  },
  {
   "cell_type": "code",
   "execution_count": 121,
   "id": "98f494be",
   "metadata": {
    "execution": {
     "iopub.execute_input": "2022-01-10T09:23:22.368559Z",
     "iopub.status.busy": "2022-01-10T09:23:22.367486Z",
     "iopub.status.idle": "2022-01-10T09:23:22.378514Z",
     "shell.execute_reply": "2022-01-10T09:23:22.379053Z",
     "shell.execute_reply.started": "2022-01-10T09:06:50.004552Z"
    },
    "papermill": {
     "duration": 0.133477,
     "end_time": "2022-01-10T09:23:22.379234",
     "exception": false,
     "start_time": "2022-01-10T09:23:22.245757",
     "status": "completed"
    },
    "tags": []
   },
   "outputs": [],
   "source": [
    "# Строим матрицу корреляций признаков, для которых будем искать главные компоненты\n",
    "pca_columns=['number_of_clients','number_of_default','percent_of_default']\n",
    "correlation_matrix=data[pca_columns].corr().values"
   ]
  },
  {
   "cell_type": "code",
   "execution_count": 122,
   "id": "47d1e34b",
   "metadata": {
    "execution": {
     "iopub.execute_input": "2022-01-10T09:23:22.618383Z",
     "iopub.status.busy": "2022-01-10T09:23:22.617374Z",
     "iopub.status.idle": "2022-01-10T09:23:22.638025Z",
     "shell.execute_reply": "2022-01-10T09:23:22.638600Z",
     "shell.execute_reply.started": "2022-01-10T09:06:52.825807Z"
    },
    "papermill": {
     "duration": 0.142165,
     "end_time": "2022-01-10T09:23:22.638777",
     "exception": false,
     "start_time": "2022-01-10T09:23:22.496612",
     "status": "completed"
    },
    "tags": []
   },
   "outputs": [
    {
     "data": {
      "text/plain": [
       "(array([2.03791266, 0.01055159, 0.95153575]),\n",
       " array([[-0.60441574, -0.6084903 , -0.514219  ],\n",
       "        [-0.6983878 ,  0.71526496, -0.0255051 ],\n",
       "        [-0.38332244, -0.34370859,  0.8572796 ]]))"
      ]
     },
     "execution_count": 122,
     "metadata": {},
     "output_type": "execute_result"
    }
   ],
   "source": [
    "# Находим собственные числа и собственные вектора\n",
    "B=np.linalg.eig(correlation_matrix)\n",
    "B"
   ]
  },
  {
   "cell_type": "code",
   "execution_count": 123,
   "id": "709061be",
   "metadata": {
    "execution": {
     "iopub.execute_input": "2022-01-10T09:23:22.879344Z",
     "iopub.status.busy": "2022-01-10T09:23:22.878328Z",
     "iopub.status.idle": "2022-01-10T09:23:22.903040Z",
     "shell.execute_reply": "2022-01-10T09:23:22.903932Z",
     "shell.execute_reply.started": "2022-01-10T09:06:56.176093Z"
    },
    "papermill": {
     "duration": 0.147599,
     "end_time": "2022-01-10T09:23:22.904204",
     "exception": false,
     "start_time": "2022-01-10T09:23:22.756605",
     "status": "completed"
    },
    "tags": []
   },
   "outputs": [],
   "source": [
    "# Центрируем и нормируем признаки\n",
    "mean_1=data['number_of_clients'].mean()\n",
    "len_1=np.linalg.norm(data['number_of_clients'])\n",
    "data['number_of_clients']=data['number_of_clients'] - mean_1\n",
    "data['number_of_clients']=data['number_of_clients']/len_1\n",
    "\n",
    "mean_2=data['number_of_default'].mean()\n",
    "len_2=np.linalg.norm(data['number_of_default'])\n",
    "data['number_of_default']=data['number_of_default'] - mean_2\n",
    "data['number_of_default']=data['number_of_default']/len_2\n",
    "\n",
    "mean_3=data['percent_of_default'].mean()\n",
    "len_3=np.linalg.norm(data['percent_of_default'])\n",
    "data['percent_of_default']=data['percent_of_default'] - mean_3\n",
    "data['percent_of_default']=data['percent_of_default']/len_3"
   ]
  },
  {
   "cell_type": "code",
   "execution_count": 124,
   "id": "7ae56533",
   "metadata": {
    "execution": {
     "iopub.execute_input": "2022-01-10T09:23:23.201243Z",
     "iopub.status.busy": "2022-01-10T09:23:23.200543Z",
     "iopub.status.idle": "2022-01-10T09:23:23.204758Z",
     "shell.execute_reply": "2022-01-10T09:23:23.205359Z",
     "shell.execute_reply.started": "2022-01-10T09:07:00.259724Z"
    },
    "papermill": {
     "duration": 0.130047,
     "end_time": "2022-01-10T09:23:23.205572",
     "exception": false,
     "start_time": "2022-01-10T09:23:23.075525",
     "status": "completed"
    },
    "tags": []
   },
   "outputs": [],
   "source": [
    "# Создаем новый признак\n",
    "data['pca_component']=B[1][0][0]*data['number_of_clients']+B[1][1][0]*data['number_of_default']+B[1][2][0]*data['percent_of_default']"
   ]
  },
  {
   "cell_type": "code",
   "execution_count": 125,
   "id": "780eaa9d",
   "metadata": {
    "execution": {
     "iopub.execute_input": "2022-01-10T09:23:23.691905Z",
     "iopub.status.busy": "2022-01-10T09:23:23.691146Z",
     "iopub.status.idle": "2022-01-10T09:23:23.709228Z",
     "shell.execute_reply": "2022-01-10T09:23:23.709828Z",
     "shell.execute_reply.started": "2022-01-10T09:07:03.249017Z"
    },
    "papermill": {
     "duration": 0.142031,
     "end_time": "2022-01-10T09:23:23.710020",
     "exception": false,
     "start_time": "2022-01-10T09:23:23.567989",
     "status": "completed"
    },
    "tags": []
   },
   "outputs": [],
   "source": [
    "# Удаляем старые признаки\n",
    "data.drop(columns=['percent_of_default','number_of_default','number_of_clients'],axis=1,inplace=True)"
   ]
  },
  {
   "cell_type": "code",
   "execution_count": 129,
   "id": "2d8f793a",
   "metadata": {},
   "outputs": [],
   "source": [
    "# Применим Label_Encoder для бинарных признаков\n",
    "\n",
    "# binary_cols = ['sex','car', 'car_type', 'good_work', 'foreign_passport']\n",
    "from sklearn import preprocessing\n",
    "le = preprocessing.LabelEncoder()\n",
    "# ohe=preprocessing.OneHotEncoder(sparse=False)\n",
    "\n",
    "for column in bin_cols:\n",
    "    data[column] = le.fit_transform(data[column])\n",
    "    \n",
    "# Для категориальных признаков применим OneHotEncoder. Сделаем это чуть позже"
   ]
  },
  {
   "cell_type": "markdown",
   "id": "e647b730",
   "metadata": {},
   "source": [
    "**Попробуем добавить полиномиальные признаки**"
   ]
  },
  {
   "cell_type": "code",
   "execution_count": 126,
   "id": "fc425b63",
   "metadata": {
    "execution": {
     "iopub.execute_input": "2022-01-10T09:23:46.057591Z",
     "iopub.status.busy": "2022-01-10T09:23:46.056803Z",
     "iopub.status.idle": "2022-01-10T09:23:46.119154Z",
     "shell.execute_reply": "2022-01-10T09:23:46.119690Z",
     "shell.execute_reply.started": "2022-01-10T09:08:36.846113Z"
    },
    "papermill": {
     "duration": 0.206507,
     "end_time": "2022-01-10T09:23:46.119894",
     "exception": false,
     "start_time": "2022-01-10T09:23:45.913387",
     "status": "completed"
    },
    "tags": []
   },
   "outputs": [],
   "source": [
    "from sklearn.model_selection import train_test_split"
   ]
  },
  {
   "cell_type": "code",
   "execution_count": 52,
   "id": "914553c9",
   "metadata": {
    "execution": {
     "iopub.execute_input": "2022-01-10T09:23:46.398056Z",
     "iopub.status.busy": "2022-01-10T09:23:46.397286Z",
     "iopub.status.idle": "2022-01-10T09:23:46.487833Z",
     "shell.execute_reply": "2022-01-10T09:23:46.487150Z",
     "shell.execute_reply.started": "2022-01-10T09:08:39.682561Z"
    },
    "papermill": {
     "duration": 0.230097,
     "end_time": "2022-01-10T09:23:46.487979",
     "exception": false,
     "start_time": "2022-01-10T09:23:46.257882",
     "status": "completed"
    },
    "tags": []
   },
   "outputs": [],
   "source": [
    "# Импортируем необходимые библиотеки:\n",
    "from sklearn.linear_model import LogisticRegression # инструмент для создания и обучения модели\n",
    "from sklearn import metrics # инструменты для оценки точности модели"
   ]
  },
  {
   "cell_type": "code",
   "execution_count": 53,
   "id": "613278c6",
   "metadata": {
    "execution": {
     "iopub.execute_input": "2022-01-10T09:23:46.767916Z",
     "iopub.status.busy": "2022-01-10T09:23:46.766916Z",
     "iopub.status.idle": "2022-01-10T09:23:46.771274Z",
     "shell.execute_reply": "2022-01-10T09:23:46.770707Z",
     "shell.execute_reply.started": "2022-01-10T09:08:42.686063Z"
    },
    "papermill": {
     "duration": 0.143902,
     "end_time": "2022-01-10T09:23:46.771433",
     "exception": false,
     "start_time": "2022-01-10T09:23:46.627531",
     "status": "completed"
    },
    "tags": []
   },
   "outputs": [],
   "source": [
    "from itertools import combinations"
   ]
  },
  {
   "cell_type": "code",
   "execution_count": 127,
   "id": "59029319",
   "metadata": {
    "execution": {
     "iopub.execute_input": "2022-01-10T09:23:47.056183Z",
     "iopub.status.busy": "2022-01-10T09:23:47.055461Z",
     "iopub.status.idle": "2022-01-10T09:23:47.063474Z",
     "shell.execute_reply": "2022-01-10T09:23:47.064076Z",
     "shell.execute_reply.started": "2022-01-10T09:08:45.499002Z"
    },
    "papermill": {
     "duration": 0.156432,
     "end_time": "2022-01-10T09:23:47.064257",
     "exception": false,
     "start_time": "2022-01-10T09:23:46.907825",
     "status": "completed"
    },
    "tags": []
   },
   "outputs": [],
   "source": [
    "# Функция для подбора наилучших полиномиальных признаков. Будем комбиринровать колонки с непрерывным\n",
    "# типом данных по три штуки и создавать на их основе Polynomial Features степени 2, а затем обучать модель с этими признаками.\n",
    "# Наилучшая комбинация признаков вернет максимальное значение метрики f1_score.\n",
    "def find_polynomial_features(df,cols):\n",
    "    pf=PolynomialFeatures(2)\n",
    "    poly_features=pf.fit_transform(df[cols])\n",
    "    index=df.index\n",
    "    right=pd.DataFrame(poly_features, columns=['1','2','3','4','5','6','7','8','9','10'], index=index)\n",
    "    right.drop(columns=['1','2','3','4'], inplace=True)\n",
    "    df=df.join(right, how='inner')\n",
    "    \n",
    "    train_data = df.query('sample == 1').drop(['sample'], axis=1)\n",
    "#     test_data = data.query('sample == 0').drop(['sample', 'default'], axis=1)\n",
    "    y = train_data['default'].values  # наш таргет\n",
    "    X = train_data.drop(['default'], axis=1)\n",
    "    \n",
    "    X_train, X_test, y_train, y_test = train_test_split(X, y, test_size=0.2, random_state=42)\n",
    "    \n",
    "    X1=X_train[['decline_app_cnt','bki_request_cnt','income', 'score_bki','pca_component','timedelta','5','6','7','8','9','10']].values\n",
    "    X2=X_test[['decline_app_cnt','bki_request_cnt','income', 'score_bki','pca_component','timedelta','5','6','7','8','9','10']].values\n",
    "    \n",
    "    scaler=RobustScaler()\n",
    "    X1_transformed=scaler.fit_transform(X1)\n",
    "    X2_transformed=scaler.transform(X2)\n",
    "    X_train[['decline_app_cnt','bki_request_cnt','income', 'score_bki','pca_component','timedelta','5','6','7','8','9','10' ]]=X1_transformed\n",
    "    X_test[['decline_app_cnt','bki_request_cnt','income', 'score_bki','pca_component','timedelta','5','6','7','8','9','10']]=X2_transformed\n",
    "    \n",
    "    model = LogisticRegression(solver='saga', max_iter=1000, class_weight='balanced', penalty='l2', tol=0.001, multi_class='ovr')\n",
    "    model.fit(X_train, y_train)\n",
    "    y_pred = model.predict(X_test) \n",
    "    return metrics.f1_score(y_test,y_pred)"
   ]
  },
  {
   "cell_type": "code",
   "execution_count": 47,
   "id": "841bd354",
   "metadata": {},
   "outputs": [],
   "source": [
    "from sklearn.preprocessing import PolynomialFeatures"
   ]
  },
  {
   "cell_type": "code",
   "execution_count": 130,
   "id": "7a780224",
   "metadata": {
    "execution": {
     "iopub.execute_input": "2022-01-10T09:23:47.344712Z",
     "iopub.status.busy": "2022-01-10T09:23:47.343988Z",
     "iopub.status.idle": "2022-01-10T09:23:47.348689Z",
     "shell.execute_reply": "2022-01-10T09:23:47.348142Z",
     "shell.execute_reply.started": "2021-12-19T08:33:49.797745Z"
    },
    "papermill": {
     "duration": 0.145258,
     "end_time": "2022-01-10T09:23:47.348845",
     "exception": false,
     "start_time": "2022-01-10T09:23:47.203587",
     "status": "completed"
    },
    "tags": []
   },
   "outputs": [
    {
     "name": "stderr",
     "output_type": "stream",
     "text": [
      "<ipython-input-127-11368395b9ea>:25: SettingWithCopyWarning: \n",
      "A value is trying to be set on a copy of a slice from a DataFrame.\n",
      "Try using .loc[row_indexer,col_indexer] = value instead\n",
      "\n",
      "See the caveats in the documentation: https://pandas.pydata.org/pandas-docs/stable/user_guide/indexing.html#returning-a-view-versus-a-copy\n",
      "  X_train[['decline_app_cnt','bki_request_cnt','income', 'score_bki','pca_component','timedelta','5','6','7','8','9','10' ]]=X1_transformed\n",
      "C:\\Users\\Sasha\\anaconda3\\lib\\site-packages\\pandas\\core\\indexing.py:1738: SettingWithCopyWarning: \n",
      "A value is trying to be set on a copy of a slice from a DataFrame.\n",
      "Try using .loc[row_indexer,col_indexer] = value instead\n",
      "\n",
      "See the caveats in the documentation: https://pandas.pydata.org/pandas-docs/stable/user_guide/indexing.html#returning-a-view-versus-a-copy\n",
      "  self._setitem_single_column(loc, value[:, i].tolist(), pi)\n",
      "<ipython-input-127-11368395b9ea>:26: SettingWithCopyWarning: \n",
      "A value is trying to be set on a copy of a slice from a DataFrame.\n",
      "Try using .loc[row_indexer,col_indexer] = value instead\n",
      "\n",
      "See the caveats in the documentation: https://pandas.pydata.org/pandas-docs/stable/user_guide/indexing.html#returning-a-view-versus-a-copy\n",
      "  X_test[['decline_app_cnt','bki_request_cnt','income', 'score_bki','pca_component','timedelta','5','6','7','8','9','10']]=X2_transformed\n",
      "<ipython-input-127-11368395b9ea>:25: SettingWithCopyWarning: \n",
      "A value is trying to be set on a copy of a slice from a DataFrame.\n",
      "Try using .loc[row_indexer,col_indexer] = value instead\n",
      "\n",
      "See the caveats in the documentation: https://pandas.pydata.org/pandas-docs/stable/user_guide/indexing.html#returning-a-view-versus-a-copy\n",
      "  X_train[['decline_app_cnt','bki_request_cnt','income', 'score_bki','pca_component','timedelta','5','6','7','8','9','10' ]]=X1_transformed\n",
      "C:\\Users\\Sasha\\anaconda3\\lib\\site-packages\\pandas\\core\\indexing.py:1738: SettingWithCopyWarning: \n",
      "A value is trying to be set on a copy of a slice from a DataFrame.\n",
      "Try using .loc[row_indexer,col_indexer] = value instead\n",
      "\n",
      "See the caveats in the documentation: https://pandas.pydata.org/pandas-docs/stable/user_guide/indexing.html#returning-a-view-versus-a-copy\n",
      "  self._setitem_single_column(loc, value[:, i].tolist(), pi)\n",
      "<ipython-input-127-11368395b9ea>:26: SettingWithCopyWarning: \n",
      "A value is trying to be set on a copy of a slice from a DataFrame.\n",
      "Try using .loc[row_indexer,col_indexer] = value instead\n",
      "\n",
      "See the caveats in the documentation: https://pandas.pydata.org/pandas-docs/stable/user_guide/indexing.html#returning-a-view-versus-a-copy\n",
      "  X_test[['decline_app_cnt','bki_request_cnt','income', 'score_bki','pca_component','timedelta','5','6','7','8','9','10']]=X2_transformed\n"
     ]
    },
    {
     "name": "stdout",
     "output_type": "stream",
     "text": [
      "For the following columns:  ('decline_app_cnt', 'score_bki', 'bki_request_cnt')  f1_score= 0.3375390042056709 \n",
      "\n"
     ]
    },
    {
     "name": "stderr",
     "output_type": "stream",
     "text": [
      "<ipython-input-127-11368395b9ea>:25: SettingWithCopyWarning: \n",
      "A value is trying to be set on a copy of a slice from a DataFrame.\n",
      "Try using .loc[row_indexer,col_indexer] = value instead\n",
      "\n",
      "See the caveats in the documentation: https://pandas.pydata.org/pandas-docs/stable/user_guide/indexing.html#returning-a-view-versus-a-copy\n",
      "  X_train[['decline_app_cnt','bki_request_cnt','income', 'score_bki','pca_component','timedelta','5','6','7','8','9','10' ]]=X1_transformed\n",
      "C:\\Users\\Sasha\\anaconda3\\lib\\site-packages\\pandas\\core\\indexing.py:1738: SettingWithCopyWarning: \n",
      "A value is trying to be set on a copy of a slice from a DataFrame.\n",
      "Try using .loc[row_indexer,col_indexer] = value instead\n",
      "\n",
      "See the caveats in the documentation: https://pandas.pydata.org/pandas-docs/stable/user_guide/indexing.html#returning-a-view-versus-a-copy\n",
      "  self._setitem_single_column(loc, value[:, i].tolist(), pi)\n",
      "<ipython-input-127-11368395b9ea>:26: SettingWithCopyWarning: \n",
      "A value is trying to be set on a copy of a slice from a DataFrame.\n",
      "Try using .loc[row_indexer,col_indexer] = value instead\n",
      "\n",
      "See the caveats in the documentation: https://pandas.pydata.org/pandas-docs/stable/user_guide/indexing.html#returning-a-view-versus-a-copy\n",
      "  X_test[['decline_app_cnt','bki_request_cnt','income', 'score_bki','pca_component','timedelta','5','6','7','8','9','10']]=X2_transformed\n"
     ]
    },
    {
     "name": "stdout",
     "output_type": "stream",
     "text": [
      "For the following columns:  ('decline_app_cnt', 'score_bki', 'income')  f1_score= 0.3368306308761411 \n",
      "\n"
     ]
    },
    {
     "name": "stderr",
     "output_type": "stream",
     "text": [
      "<ipython-input-127-11368395b9ea>:25: SettingWithCopyWarning: \n",
      "A value is trying to be set on a copy of a slice from a DataFrame.\n",
      "Try using .loc[row_indexer,col_indexer] = value instead\n",
      "\n",
      "See the caveats in the documentation: https://pandas.pydata.org/pandas-docs/stable/user_guide/indexing.html#returning-a-view-versus-a-copy\n",
      "  X_train[['decline_app_cnt','bki_request_cnt','income', 'score_bki','pca_component','timedelta','5','6','7','8','9','10' ]]=X1_transformed\n",
      "C:\\Users\\Sasha\\anaconda3\\lib\\site-packages\\pandas\\core\\indexing.py:1738: SettingWithCopyWarning: \n",
      "A value is trying to be set on a copy of a slice from a DataFrame.\n",
      "Try using .loc[row_indexer,col_indexer] = value instead\n",
      "\n",
      "See the caveats in the documentation: https://pandas.pydata.org/pandas-docs/stable/user_guide/indexing.html#returning-a-view-versus-a-copy\n",
      "  self._setitem_single_column(loc, value[:, i].tolist(), pi)\n",
      "<ipython-input-127-11368395b9ea>:26: SettingWithCopyWarning: \n",
      "A value is trying to be set on a copy of a slice from a DataFrame.\n",
      "Try using .loc[row_indexer,col_indexer] = value instead\n",
      "\n",
      "See the caveats in the documentation: https://pandas.pydata.org/pandas-docs/stable/user_guide/indexing.html#returning-a-view-versus-a-copy\n",
      "  X_test[['decline_app_cnt','bki_request_cnt','income', 'score_bki','pca_component','timedelta','5','6','7','8','9','10']]=X2_transformed\n"
     ]
    },
    {
     "name": "stdout",
     "output_type": "stream",
     "text": [
      "For the following columns:  ('decline_app_cnt', 'score_bki', 'timedelta')  f1_score= 0.3374797187669011 \n",
      "\n"
     ]
    },
    {
     "name": "stderr",
     "output_type": "stream",
     "text": [
      "<ipython-input-127-11368395b9ea>:25: SettingWithCopyWarning: \n",
      "A value is trying to be set on a copy of a slice from a DataFrame.\n",
      "Try using .loc[row_indexer,col_indexer] = value instead\n",
      "\n",
      "See the caveats in the documentation: https://pandas.pydata.org/pandas-docs/stable/user_guide/indexing.html#returning-a-view-versus-a-copy\n",
      "  X_train[['decline_app_cnt','bki_request_cnt','income', 'score_bki','pca_component','timedelta','5','6','7','8','9','10' ]]=X1_transformed\n",
      "C:\\Users\\Sasha\\anaconda3\\lib\\site-packages\\pandas\\core\\indexing.py:1738: SettingWithCopyWarning: \n",
      "A value is trying to be set on a copy of a slice from a DataFrame.\n",
      "Try using .loc[row_indexer,col_indexer] = value instead\n",
      "\n",
      "See the caveats in the documentation: https://pandas.pydata.org/pandas-docs/stable/user_guide/indexing.html#returning-a-view-versus-a-copy\n",
      "  self._setitem_single_column(loc, value[:, i].tolist(), pi)\n",
      "<ipython-input-127-11368395b9ea>:26: SettingWithCopyWarning: \n",
      "A value is trying to be set on a copy of a slice from a DataFrame.\n",
      "Try using .loc[row_indexer,col_indexer] = value instead\n",
      "\n",
      "See the caveats in the documentation: https://pandas.pydata.org/pandas-docs/stable/user_guide/indexing.html#returning-a-view-versus-a-copy\n",
      "  X_test[['decline_app_cnt','bki_request_cnt','income', 'score_bki','pca_component','timedelta','5','6','7','8','9','10']]=X2_transformed\n"
     ]
    },
    {
     "name": "stdout",
     "output_type": "stream",
     "text": [
      "For the following columns:  ('decline_app_cnt', 'score_bki', 'pca_component')  f1_score= 0.3365070729053319 \n",
      "\n"
     ]
    },
    {
     "name": "stderr",
     "output_type": "stream",
     "text": [
      "<ipython-input-127-11368395b9ea>:25: SettingWithCopyWarning: \n",
      "A value is trying to be set on a copy of a slice from a DataFrame.\n",
      "Try using .loc[row_indexer,col_indexer] = value instead\n",
      "\n",
      "See the caveats in the documentation: https://pandas.pydata.org/pandas-docs/stable/user_guide/indexing.html#returning-a-view-versus-a-copy\n",
      "  X_train[['decline_app_cnt','bki_request_cnt','income', 'score_bki','pca_component','timedelta','5','6','7','8','9','10' ]]=X1_transformed\n",
      "C:\\Users\\Sasha\\anaconda3\\lib\\site-packages\\pandas\\core\\indexing.py:1738: SettingWithCopyWarning: \n",
      "A value is trying to be set on a copy of a slice from a DataFrame.\n",
      "Try using .loc[row_indexer,col_indexer] = value instead\n",
      "\n",
      "See the caveats in the documentation: https://pandas.pydata.org/pandas-docs/stable/user_guide/indexing.html#returning-a-view-versus-a-copy\n",
      "  self._setitem_single_column(loc, value[:, i].tolist(), pi)\n",
      "<ipython-input-127-11368395b9ea>:26: SettingWithCopyWarning: \n",
      "A value is trying to be set on a copy of a slice from a DataFrame.\n",
      "Try using .loc[row_indexer,col_indexer] = value instead\n",
      "\n",
      "See the caveats in the documentation: https://pandas.pydata.org/pandas-docs/stable/user_guide/indexing.html#returning-a-view-versus-a-copy\n",
      "  X_test[['decline_app_cnt','bki_request_cnt','income', 'score_bki','pca_component','timedelta','5','6','7','8','9','10']]=X2_transformed\n"
     ]
    },
    {
     "name": "stdout",
     "output_type": "stream",
     "text": [
      "For the following columns:  ('decline_app_cnt', 'bki_request_cnt', 'income')  f1_score= 0.33807829181494664 \n",
      "\n"
     ]
    },
    {
     "name": "stderr",
     "output_type": "stream",
     "text": [
      "<ipython-input-127-11368395b9ea>:25: SettingWithCopyWarning: \n",
      "A value is trying to be set on a copy of a slice from a DataFrame.\n",
      "Try using .loc[row_indexer,col_indexer] = value instead\n",
      "\n",
      "See the caveats in the documentation: https://pandas.pydata.org/pandas-docs/stable/user_guide/indexing.html#returning-a-view-versus-a-copy\n",
      "  X_train[['decline_app_cnt','bki_request_cnt','income', 'score_bki','pca_component','timedelta','5','6','7','8','9','10' ]]=X1_transformed\n",
      "C:\\Users\\Sasha\\anaconda3\\lib\\site-packages\\pandas\\core\\indexing.py:1738: SettingWithCopyWarning: \n",
      "A value is trying to be set on a copy of a slice from a DataFrame.\n",
      "Try using .loc[row_indexer,col_indexer] = value instead\n",
      "\n",
      "See the caveats in the documentation: https://pandas.pydata.org/pandas-docs/stable/user_guide/indexing.html#returning-a-view-versus-a-copy\n",
      "  self._setitem_single_column(loc, value[:, i].tolist(), pi)\n",
      "<ipython-input-127-11368395b9ea>:26: SettingWithCopyWarning: \n",
      "A value is trying to be set on a copy of a slice from a DataFrame.\n",
      "Try using .loc[row_indexer,col_indexer] = value instead\n",
      "\n",
      "See the caveats in the documentation: https://pandas.pydata.org/pandas-docs/stable/user_guide/indexing.html#returning-a-view-versus-a-copy\n",
      "  X_test[['decline_app_cnt','bki_request_cnt','income', 'score_bki','pca_component','timedelta','5','6','7','8','9','10']]=X2_transformed\n"
     ]
    },
    {
     "name": "stdout",
     "output_type": "stream",
     "text": [
      "For the following columns:  ('decline_app_cnt', 'bki_request_cnt', 'timedelta')  f1_score= 0.33803975325565455 \n",
      "\n"
     ]
    },
    {
     "name": "stderr",
     "output_type": "stream",
     "text": [
      "<ipython-input-127-11368395b9ea>:25: SettingWithCopyWarning: \n",
      "A value is trying to be set on a copy of a slice from a DataFrame.\n",
      "Try using .loc[row_indexer,col_indexer] = value instead\n",
      "\n",
      "See the caveats in the documentation: https://pandas.pydata.org/pandas-docs/stable/user_guide/indexing.html#returning-a-view-versus-a-copy\n",
      "  X_train[['decline_app_cnt','bki_request_cnt','income', 'score_bki','pca_component','timedelta','5','6','7','8','9','10' ]]=X1_transformed\n",
      "C:\\Users\\Sasha\\anaconda3\\lib\\site-packages\\pandas\\core\\indexing.py:1738: SettingWithCopyWarning: \n",
      "A value is trying to be set on a copy of a slice from a DataFrame.\n",
      "Try using .loc[row_indexer,col_indexer] = value instead\n",
      "\n",
      "See the caveats in the documentation: https://pandas.pydata.org/pandas-docs/stable/user_guide/indexing.html#returning-a-view-versus-a-copy\n",
      "  self._setitem_single_column(loc, value[:, i].tolist(), pi)\n",
      "<ipython-input-127-11368395b9ea>:26: SettingWithCopyWarning: \n",
      "A value is trying to be set on a copy of a slice from a DataFrame.\n",
      "Try using .loc[row_indexer,col_indexer] = value instead\n",
      "\n",
      "See the caveats in the documentation: https://pandas.pydata.org/pandas-docs/stable/user_guide/indexing.html#returning-a-view-versus-a-copy\n",
      "  X_test[['decline_app_cnt','bki_request_cnt','income', 'score_bki','pca_component','timedelta','5','6','7','8','9','10']]=X2_transformed\n"
     ]
    },
    {
     "name": "stdout",
     "output_type": "stream",
     "text": [
      "For the following columns:  ('decline_app_cnt', 'bki_request_cnt', 'pca_component')  f1_score= 0.3384741367544698 \n",
      "\n"
     ]
    },
    {
     "name": "stderr",
     "output_type": "stream",
     "text": [
      "<ipython-input-127-11368395b9ea>:25: SettingWithCopyWarning: \n",
      "A value is trying to be set on a copy of a slice from a DataFrame.\n",
      "Try using .loc[row_indexer,col_indexer] = value instead\n",
      "\n",
      "See the caveats in the documentation: https://pandas.pydata.org/pandas-docs/stable/user_guide/indexing.html#returning-a-view-versus-a-copy\n",
      "  X_train[['decline_app_cnt','bki_request_cnt','income', 'score_bki','pca_component','timedelta','5','6','7','8','9','10' ]]=X1_transformed\n",
      "C:\\Users\\Sasha\\anaconda3\\lib\\site-packages\\pandas\\core\\indexing.py:1738: SettingWithCopyWarning: \n",
      "A value is trying to be set on a copy of a slice from a DataFrame.\n",
      "Try using .loc[row_indexer,col_indexer] = value instead\n",
      "\n",
      "See the caveats in the documentation: https://pandas.pydata.org/pandas-docs/stable/user_guide/indexing.html#returning-a-view-versus-a-copy\n",
      "  self._setitem_single_column(loc, value[:, i].tolist(), pi)\n",
      "<ipython-input-127-11368395b9ea>:26: SettingWithCopyWarning: \n",
      "A value is trying to be set on a copy of a slice from a DataFrame.\n",
      "Try using .loc[row_indexer,col_indexer] = value instead\n",
      "\n",
      "See the caveats in the documentation: https://pandas.pydata.org/pandas-docs/stable/user_guide/indexing.html#returning-a-view-versus-a-copy\n",
      "  X_test[['decline_app_cnt','bki_request_cnt','income', 'score_bki','pca_component','timedelta','5','6','7','8','9','10']]=X2_transformed\n"
     ]
    },
    {
     "name": "stdout",
     "output_type": "stream",
     "text": [
      "For the following columns:  ('decline_app_cnt', 'income', 'timedelta')  f1_score= 0.3378895571350465 \n",
      "\n"
     ]
    },
    {
     "name": "stderr",
     "output_type": "stream",
     "text": [
      "<ipython-input-127-11368395b9ea>:25: SettingWithCopyWarning: \n",
      "A value is trying to be set on a copy of a slice from a DataFrame.\n",
      "Try using .loc[row_indexer,col_indexer] = value instead\n",
      "\n",
      "See the caveats in the documentation: https://pandas.pydata.org/pandas-docs/stable/user_guide/indexing.html#returning-a-view-versus-a-copy\n",
      "  X_train[['decline_app_cnt','bki_request_cnt','income', 'score_bki','pca_component','timedelta','5','6','7','8','9','10' ]]=X1_transformed\n",
      "C:\\Users\\Sasha\\anaconda3\\lib\\site-packages\\pandas\\core\\indexing.py:1738: SettingWithCopyWarning: \n",
      "A value is trying to be set on a copy of a slice from a DataFrame.\n",
      "Try using .loc[row_indexer,col_indexer] = value instead\n",
      "\n",
      "See the caveats in the documentation: https://pandas.pydata.org/pandas-docs/stable/user_guide/indexing.html#returning-a-view-versus-a-copy\n",
      "  self._setitem_single_column(loc, value[:, i].tolist(), pi)\n",
      "<ipython-input-127-11368395b9ea>:26: SettingWithCopyWarning: \n",
      "A value is trying to be set on a copy of a slice from a DataFrame.\n",
      "Try using .loc[row_indexer,col_indexer] = value instead\n",
      "\n",
      "See the caveats in the documentation: https://pandas.pydata.org/pandas-docs/stable/user_guide/indexing.html#returning-a-view-versus-a-copy\n",
      "  X_test[['decline_app_cnt','bki_request_cnt','income', 'score_bki','pca_component','timedelta','5','6','7','8','9','10']]=X2_transformed\n"
     ]
    },
    {
     "name": "stdout",
     "output_type": "stream",
     "text": [
      "For the following columns:  ('decline_app_cnt', 'income', 'pca_component')  f1_score= 0.3386301369863014 \n",
      "\n"
     ]
    },
    {
     "name": "stderr",
     "output_type": "stream",
     "text": [
      "<ipython-input-127-11368395b9ea>:25: SettingWithCopyWarning: \n",
      "A value is trying to be set on a copy of a slice from a DataFrame.\n",
      "Try using .loc[row_indexer,col_indexer] = value instead\n",
      "\n",
      "See the caveats in the documentation: https://pandas.pydata.org/pandas-docs/stable/user_guide/indexing.html#returning-a-view-versus-a-copy\n",
      "  X_train[['decline_app_cnt','bki_request_cnt','income', 'score_bki','pca_component','timedelta','5','6','7','8','9','10' ]]=X1_transformed\n",
      "C:\\Users\\Sasha\\anaconda3\\lib\\site-packages\\pandas\\core\\indexing.py:1738: SettingWithCopyWarning: \n",
      "A value is trying to be set on a copy of a slice from a DataFrame.\n",
      "Try using .loc[row_indexer,col_indexer] = value instead\n",
      "\n",
      "See the caveats in the documentation: https://pandas.pydata.org/pandas-docs/stable/user_guide/indexing.html#returning-a-view-versus-a-copy\n",
      "  self._setitem_single_column(loc, value[:, i].tolist(), pi)\n",
      "<ipython-input-127-11368395b9ea>:26: SettingWithCopyWarning: \n",
      "A value is trying to be set on a copy of a slice from a DataFrame.\n",
      "Try using .loc[row_indexer,col_indexer] = value instead\n",
      "\n",
      "See the caveats in the documentation: https://pandas.pydata.org/pandas-docs/stable/user_guide/indexing.html#returning-a-view-versus-a-copy\n",
      "  X_test[['decline_app_cnt','bki_request_cnt','income', 'score_bki','pca_component','timedelta','5','6','7','8','9','10']]=X2_transformed\n"
     ]
    },
    {
     "name": "stdout",
     "output_type": "stream",
     "text": [
      "For the following columns:  ('decline_app_cnt', 'timedelta', 'pca_component')  f1_score= 0.3387933387933388 \n",
      "\n"
     ]
    },
    {
     "name": "stderr",
     "output_type": "stream",
     "text": [
      "<ipython-input-127-11368395b9ea>:25: SettingWithCopyWarning: \n",
      "A value is trying to be set on a copy of a slice from a DataFrame.\n",
      "Try using .loc[row_indexer,col_indexer] = value instead\n",
      "\n",
      "See the caveats in the documentation: https://pandas.pydata.org/pandas-docs/stable/user_guide/indexing.html#returning-a-view-versus-a-copy\n",
      "  X_train[['decline_app_cnt','bki_request_cnt','income', 'score_bki','pca_component','timedelta','5','6','7','8','9','10' ]]=X1_transformed\n",
      "C:\\Users\\Sasha\\anaconda3\\lib\\site-packages\\pandas\\core\\indexing.py:1738: SettingWithCopyWarning: \n",
      "A value is trying to be set on a copy of a slice from a DataFrame.\n",
      "Try using .loc[row_indexer,col_indexer] = value instead\n",
      "\n",
      "See the caveats in the documentation: https://pandas.pydata.org/pandas-docs/stable/user_guide/indexing.html#returning-a-view-versus-a-copy\n",
      "  self._setitem_single_column(loc, value[:, i].tolist(), pi)\n",
      "<ipython-input-127-11368395b9ea>:26: SettingWithCopyWarning: \n",
      "A value is trying to be set on a copy of a slice from a DataFrame.\n",
      "Try using .loc[row_indexer,col_indexer] = value instead\n",
      "\n",
      "See the caveats in the documentation: https://pandas.pydata.org/pandas-docs/stable/user_guide/indexing.html#returning-a-view-versus-a-copy\n",
      "  X_test[['decline_app_cnt','bki_request_cnt','income', 'score_bki','pca_component','timedelta','5','6','7','8','9','10']]=X2_transformed\n"
     ]
    },
    {
     "name": "stdout",
     "output_type": "stream",
     "text": [
      "For the following columns:  ('score_bki', 'bki_request_cnt', 'income')  f1_score= 0.3377510588878262 \n",
      "\n"
     ]
    },
    {
     "name": "stderr",
     "output_type": "stream",
     "text": [
      "<ipython-input-127-11368395b9ea>:25: SettingWithCopyWarning: \n",
      "A value is trying to be set on a copy of a slice from a DataFrame.\n",
      "Try using .loc[row_indexer,col_indexer] = value instead\n",
      "\n",
      "See the caveats in the documentation: https://pandas.pydata.org/pandas-docs/stable/user_guide/indexing.html#returning-a-view-versus-a-copy\n",
      "  X_train[['decline_app_cnt','bki_request_cnt','income', 'score_bki','pca_component','timedelta','5','6','7','8','9','10' ]]=X1_transformed\n",
      "C:\\Users\\Sasha\\anaconda3\\lib\\site-packages\\pandas\\core\\indexing.py:1738: SettingWithCopyWarning: \n",
      "A value is trying to be set on a copy of a slice from a DataFrame.\n",
      "Try using .loc[row_indexer,col_indexer] = value instead\n",
      "\n",
      "See the caveats in the documentation: https://pandas.pydata.org/pandas-docs/stable/user_guide/indexing.html#returning-a-view-versus-a-copy\n",
      "  self._setitem_single_column(loc, value[:, i].tolist(), pi)\n",
      "<ipython-input-127-11368395b9ea>:26: SettingWithCopyWarning: \n",
      "A value is trying to be set on a copy of a slice from a DataFrame.\n",
      "Try using .loc[row_indexer,col_indexer] = value instead\n",
      "\n",
      "See the caveats in the documentation: https://pandas.pydata.org/pandas-docs/stable/user_guide/indexing.html#returning-a-view-versus-a-copy\n",
      "  X_test[['decline_app_cnt','bki_request_cnt','income', 'score_bki','pca_component','timedelta','5','6','7','8','9','10']]=X2_transformed\n"
     ]
    },
    {
     "name": "stdout",
     "output_type": "stream",
     "text": [
      "For the following columns:  ('score_bki', 'bki_request_cnt', 'timedelta')  f1_score= 0.3386286490156144 \n",
      "\n"
     ]
    },
    {
     "name": "stderr",
     "output_type": "stream",
     "text": [
      "<ipython-input-127-11368395b9ea>:25: SettingWithCopyWarning: \n",
      "A value is trying to be set on a copy of a slice from a DataFrame.\n",
      "Try using .loc[row_indexer,col_indexer] = value instead\n",
      "\n",
      "See the caveats in the documentation: https://pandas.pydata.org/pandas-docs/stable/user_guide/indexing.html#returning-a-view-versus-a-copy\n",
      "  X_train[['decline_app_cnt','bki_request_cnt','income', 'score_bki','pca_component','timedelta','5','6','7','8','9','10' ]]=X1_transformed\n",
      "C:\\Users\\Sasha\\anaconda3\\lib\\site-packages\\pandas\\core\\indexing.py:1738: SettingWithCopyWarning: \n",
      "A value is trying to be set on a copy of a slice from a DataFrame.\n",
      "Try using .loc[row_indexer,col_indexer] = value instead\n",
      "\n",
      "See the caveats in the documentation: https://pandas.pydata.org/pandas-docs/stable/user_guide/indexing.html#returning-a-view-versus-a-copy\n",
      "  self._setitem_single_column(loc, value[:, i].tolist(), pi)\n",
      "<ipython-input-127-11368395b9ea>:26: SettingWithCopyWarning: \n",
      "A value is trying to be set on a copy of a slice from a DataFrame.\n",
      "Try using .loc[row_indexer,col_indexer] = value instead\n",
      "\n",
      "See the caveats in the documentation: https://pandas.pydata.org/pandas-docs/stable/user_guide/indexing.html#returning-a-view-versus-a-copy\n",
      "  X_test[['decline_app_cnt','bki_request_cnt','income', 'score_bki','pca_component','timedelta','5','6','7','8','9','10']]=X2_transformed\n"
     ]
    },
    {
     "name": "stdout",
     "output_type": "stream",
     "text": [
      "For the following columns:  ('score_bki', 'bki_request_cnt', 'pca_component')  f1_score= 0.33828135639384443 \n",
      "\n"
     ]
    },
    {
     "name": "stderr",
     "output_type": "stream",
     "text": [
      "<ipython-input-127-11368395b9ea>:25: SettingWithCopyWarning: \n",
      "A value is trying to be set on a copy of a slice from a DataFrame.\n",
      "Try using .loc[row_indexer,col_indexer] = value instead\n",
      "\n",
      "See the caveats in the documentation: https://pandas.pydata.org/pandas-docs/stable/user_guide/indexing.html#returning-a-view-versus-a-copy\n",
      "  X_train[['decline_app_cnt','bki_request_cnt','income', 'score_bki','pca_component','timedelta','5','6','7','8','9','10' ]]=X1_transformed\n",
      "C:\\Users\\Sasha\\anaconda3\\lib\\site-packages\\pandas\\core\\indexing.py:1738: SettingWithCopyWarning: \n",
      "A value is trying to be set on a copy of a slice from a DataFrame.\n",
      "Try using .loc[row_indexer,col_indexer] = value instead\n",
      "\n",
      "See the caveats in the documentation: https://pandas.pydata.org/pandas-docs/stable/user_guide/indexing.html#returning-a-view-versus-a-copy\n",
      "  self._setitem_single_column(loc, value[:, i].tolist(), pi)\n",
      "<ipython-input-127-11368395b9ea>:26: SettingWithCopyWarning: \n",
      "A value is trying to be set on a copy of a slice from a DataFrame.\n",
      "Try using .loc[row_indexer,col_indexer] = value instead\n",
      "\n",
      "See the caveats in the documentation: https://pandas.pydata.org/pandas-docs/stable/user_guide/indexing.html#returning-a-view-versus-a-copy\n",
      "  X_test[['decline_app_cnt','bki_request_cnt','income', 'score_bki','pca_component','timedelta','5','6','7','8','9','10']]=X2_transformed\n"
     ]
    },
    {
     "name": "stdout",
     "output_type": "stream",
     "text": [
      "For the following columns:  ('score_bki', 'income', 'timedelta')  f1_score= 0.33868335146898804 \n",
      "\n"
     ]
    },
    {
     "name": "stderr",
     "output_type": "stream",
     "text": [
      "<ipython-input-127-11368395b9ea>:25: SettingWithCopyWarning: \n",
      "A value is trying to be set on a copy of a slice from a DataFrame.\n",
      "Try using .loc[row_indexer,col_indexer] = value instead\n",
      "\n",
      "See the caveats in the documentation: https://pandas.pydata.org/pandas-docs/stable/user_guide/indexing.html#returning-a-view-versus-a-copy\n",
      "  X_train[['decline_app_cnt','bki_request_cnt','income', 'score_bki','pca_component','timedelta','5','6','7','8','9','10' ]]=X1_transformed\n",
      "C:\\Users\\Sasha\\anaconda3\\lib\\site-packages\\pandas\\core\\indexing.py:1738: SettingWithCopyWarning: \n",
      "A value is trying to be set on a copy of a slice from a DataFrame.\n",
      "Try using .loc[row_indexer,col_indexer] = value instead\n",
      "\n",
      "See the caveats in the documentation: https://pandas.pydata.org/pandas-docs/stable/user_guide/indexing.html#returning-a-view-versus-a-copy\n",
      "  self._setitem_single_column(loc, value[:, i].tolist(), pi)\n",
      "<ipython-input-127-11368395b9ea>:26: SettingWithCopyWarning: \n",
      "A value is trying to be set on a copy of a slice from a DataFrame.\n",
      "Try using .loc[row_indexer,col_indexer] = value instead\n",
      "\n",
      "See the caveats in the documentation: https://pandas.pydata.org/pandas-docs/stable/user_guide/indexing.html#returning-a-view-versus-a-copy\n",
      "  X_test[['decline_app_cnt','bki_request_cnt','income', 'score_bki','pca_component','timedelta','5','6','7','8','9','10']]=X2_transformed\n"
     ]
    },
    {
     "name": "stdout",
     "output_type": "stream",
     "text": [
      "For the following columns:  ('score_bki', 'income', 'pca_component')  f1_score= 0.33875153667531754 \n",
      "\n"
     ]
    },
    {
     "name": "stderr",
     "output_type": "stream",
     "text": [
      "<ipython-input-127-11368395b9ea>:25: SettingWithCopyWarning: \n",
      "A value is trying to be set on a copy of a slice from a DataFrame.\n",
      "Try using .loc[row_indexer,col_indexer] = value instead\n",
      "\n",
      "See the caveats in the documentation: https://pandas.pydata.org/pandas-docs/stable/user_guide/indexing.html#returning-a-view-versus-a-copy\n",
      "  X_train[['decline_app_cnt','bki_request_cnt','income', 'score_bki','pca_component','timedelta','5','6','7','8','9','10' ]]=X1_transformed\n",
      "C:\\Users\\Sasha\\anaconda3\\lib\\site-packages\\pandas\\core\\indexing.py:1738: SettingWithCopyWarning: \n",
      "A value is trying to be set on a copy of a slice from a DataFrame.\n",
      "Try using .loc[row_indexer,col_indexer] = value instead\n",
      "\n",
      "See the caveats in the documentation: https://pandas.pydata.org/pandas-docs/stable/user_guide/indexing.html#returning-a-view-versus-a-copy\n",
      "  self._setitem_single_column(loc, value[:, i].tolist(), pi)\n",
      "<ipython-input-127-11368395b9ea>:26: SettingWithCopyWarning: \n",
      "A value is trying to be set on a copy of a slice from a DataFrame.\n",
      "Try using .loc[row_indexer,col_indexer] = value instead\n",
      "\n",
      "See the caveats in the documentation: https://pandas.pydata.org/pandas-docs/stable/user_guide/indexing.html#returning-a-view-versus-a-copy\n",
      "  X_test[['decline_app_cnt','bki_request_cnt','income', 'score_bki','pca_component','timedelta','5','6','7','8','9','10']]=X2_transformed\n"
     ]
    },
    {
     "name": "stdout",
     "output_type": "stream",
     "text": [
      "For the following columns:  ('score_bki', 'timedelta', 'pca_component')  f1_score= 0.33909375425227917 \n",
      "\n"
     ]
    },
    {
     "name": "stderr",
     "output_type": "stream",
     "text": [
      "<ipython-input-127-11368395b9ea>:25: SettingWithCopyWarning: \n",
      "A value is trying to be set on a copy of a slice from a DataFrame.\n",
      "Try using .loc[row_indexer,col_indexer] = value instead\n",
      "\n",
      "See the caveats in the documentation: https://pandas.pydata.org/pandas-docs/stable/user_guide/indexing.html#returning-a-view-versus-a-copy\n",
      "  X_train[['decline_app_cnt','bki_request_cnt','income', 'score_bki','pca_component','timedelta','5','6','7','8','9','10' ]]=X1_transformed\n",
      "C:\\Users\\Sasha\\anaconda3\\lib\\site-packages\\pandas\\core\\indexing.py:1738: SettingWithCopyWarning: \n",
      "A value is trying to be set on a copy of a slice from a DataFrame.\n",
      "Try using .loc[row_indexer,col_indexer] = value instead\n",
      "\n",
      "See the caveats in the documentation: https://pandas.pydata.org/pandas-docs/stable/user_guide/indexing.html#returning-a-view-versus-a-copy\n",
      "  self._setitem_single_column(loc, value[:, i].tolist(), pi)\n",
      "<ipython-input-127-11368395b9ea>:26: SettingWithCopyWarning: \n",
      "A value is trying to be set on a copy of a slice from a DataFrame.\n",
      "Try using .loc[row_indexer,col_indexer] = value instead\n",
      "\n",
      "See the caveats in the documentation: https://pandas.pydata.org/pandas-docs/stable/user_guide/indexing.html#returning-a-view-versus-a-copy\n",
      "  X_test[['decline_app_cnt','bki_request_cnt','income', 'score_bki','pca_component','timedelta','5','6','7','8','9','10']]=X2_transformed\n"
     ]
    },
    {
     "name": "stdout",
     "output_type": "stream",
     "text": [
      "For the following columns:  ('bki_request_cnt', 'income', 'timedelta')  f1_score= 0.33833970507919164 \n",
      "\n"
     ]
    },
    {
     "name": "stderr",
     "output_type": "stream",
     "text": [
      "<ipython-input-127-11368395b9ea>:25: SettingWithCopyWarning: \n",
      "A value is trying to be set on a copy of a slice from a DataFrame.\n",
      "Try using .loc[row_indexer,col_indexer] = value instead\n",
      "\n",
      "See the caveats in the documentation: https://pandas.pydata.org/pandas-docs/stable/user_guide/indexing.html#returning-a-view-versus-a-copy\n",
      "  X_train[['decline_app_cnt','bki_request_cnt','income', 'score_bki','pca_component','timedelta','5','6','7','8','9','10' ]]=X1_transformed\n",
      "C:\\Users\\Sasha\\anaconda3\\lib\\site-packages\\pandas\\core\\indexing.py:1738: SettingWithCopyWarning: \n",
      "A value is trying to be set on a copy of a slice from a DataFrame.\n",
      "Try using .loc[row_indexer,col_indexer] = value instead\n",
      "\n",
      "See the caveats in the documentation: https://pandas.pydata.org/pandas-docs/stable/user_guide/indexing.html#returning-a-view-versus-a-copy\n",
      "  self._setitem_single_column(loc, value[:, i].tolist(), pi)\n",
      "<ipython-input-127-11368395b9ea>:26: SettingWithCopyWarning: \n",
      "A value is trying to be set on a copy of a slice from a DataFrame.\n",
      "Try using .loc[row_indexer,col_indexer] = value instead\n",
      "\n",
      "See the caveats in the documentation: https://pandas.pydata.org/pandas-docs/stable/user_guide/indexing.html#returning-a-view-versus-a-copy\n",
      "  X_test[['decline_app_cnt','bki_request_cnt','income', 'score_bki','pca_component','timedelta','5','6','7','8','9','10']]=X2_transformed\n"
     ]
    },
    {
     "name": "stdout",
     "output_type": "stream",
     "text": [
      "For the following columns:  ('bki_request_cnt', 'income', 'pca_component')  f1_score= 0.3375342465753425 \n",
      "\n"
     ]
    },
    {
     "name": "stderr",
     "output_type": "stream",
     "text": [
      "<ipython-input-127-11368395b9ea>:25: SettingWithCopyWarning: \n",
      "A value is trying to be set on a copy of a slice from a DataFrame.\n",
      "Try using .loc[row_indexer,col_indexer] = value instead\n",
      "\n",
      "See the caveats in the documentation: https://pandas.pydata.org/pandas-docs/stable/user_guide/indexing.html#returning-a-view-versus-a-copy\n",
      "  X_train[['decline_app_cnt','bki_request_cnt','income', 'score_bki','pca_component','timedelta','5','6','7','8','9','10' ]]=X1_transformed\n",
      "C:\\Users\\Sasha\\anaconda3\\lib\\site-packages\\pandas\\core\\indexing.py:1738: SettingWithCopyWarning: \n",
      "A value is trying to be set on a copy of a slice from a DataFrame.\n",
      "Try using .loc[row_indexer,col_indexer] = value instead\n",
      "\n",
      "See the caveats in the documentation: https://pandas.pydata.org/pandas-docs/stable/user_guide/indexing.html#returning-a-view-versus-a-copy\n",
      "  self._setitem_single_column(loc, value[:, i].tolist(), pi)\n",
      "<ipython-input-127-11368395b9ea>:26: SettingWithCopyWarning: \n",
      "A value is trying to be set on a copy of a slice from a DataFrame.\n",
      "Try using .loc[row_indexer,col_indexer] = value instead\n",
      "\n",
      "See the caveats in the documentation: https://pandas.pydata.org/pandas-docs/stable/user_guide/indexing.html#returning-a-view-versus-a-copy\n",
      "  X_test[['decline_app_cnt','bki_request_cnt','income', 'score_bki','pca_component','timedelta','5','6','7','8','9','10']]=X2_transformed\n"
     ]
    },
    {
     "name": "stdout",
     "output_type": "stream",
     "text": [
      "For the following columns:  ('bki_request_cnt', 'timedelta', 'pca_component')  f1_score= 0.3381629305631493 \n",
      "\n"
     ]
    },
    {
     "name": "stderr",
     "output_type": "stream",
     "text": [
      "<ipython-input-127-11368395b9ea>:25: SettingWithCopyWarning: \n",
      "A value is trying to be set on a copy of a slice from a DataFrame.\n",
      "Try using .loc[row_indexer,col_indexer] = value instead\n",
      "\n",
      "See the caveats in the documentation: https://pandas.pydata.org/pandas-docs/stable/user_guide/indexing.html#returning-a-view-versus-a-copy\n",
      "  X_train[['decline_app_cnt','bki_request_cnt','income', 'score_bki','pca_component','timedelta','5','6','7','8','9','10' ]]=X1_transformed\n",
      "C:\\Users\\Sasha\\anaconda3\\lib\\site-packages\\pandas\\core\\indexing.py:1738: SettingWithCopyWarning: \n",
      "A value is trying to be set on a copy of a slice from a DataFrame.\n",
      "Try using .loc[row_indexer,col_indexer] = value instead\n",
      "\n",
      "See the caveats in the documentation: https://pandas.pydata.org/pandas-docs/stable/user_guide/indexing.html#returning-a-view-versus-a-copy\n",
      "  self._setitem_single_column(loc, value[:, i].tolist(), pi)\n",
      "<ipython-input-127-11368395b9ea>:26: SettingWithCopyWarning: \n",
      "A value is trying to be set on a copy of a slice from a DataFrame.\n",
      "Try using .loc[row_indexer,col_indexer] = value instead\n",
      "\n",
      "See the caveats in the documentation: https://pandas.pydata.org/pandas-docs/stable/user_guide/indexing.html#returning-a-view-versus-a-copy\n",
      "  X_test[['decline_app_cnt','bki_request_cnt','income', 'score_bki','pca_component','timedelta','5','6','7','8','9','10']]=X2_transformed\n"
     ]
    },
    {
     "name": "stdout",
     "output_type": "stream",
     "text": [
      "For the following columns:  ('income', 'timedelta', 'pca_component')  f1_score= 0.33797814207650273 \n",
      "\n",
      "0.33909375425227917\n",
      "('score_bki', 'timedelta', 'pca_component')\n"
     ]
    }
   ],
   "source": [
    "# Запустим цикл, который перебирает комбинации непрерывных признаков по 3 и ищет среди них наилучшую комбинацию.\n",
    "columns=['decline_app_cnt', 'score_bki', 'bki_request_cnt', 'income', 'timedelta','pca_component']\n",
    "cand=find_polynomial_features(data,['decline_app_cnt', 'score_bki','bki_request_cnt'])\n",
    "columns_best=['decline_app_cnt', 'score_bki','bki_request_cnt']\n",
    "for i in combinations(columns,3):    \n",
    "    f1_score_current=find_polynomial_features(data,list(i))\n",
    "    print('For the following columns: ',i,' f1_score=', f1_score_current,'\\n')\n",
    "    if f1_score_current>cand:\n",
    "        cand=f1_score_current\n",
    "        columns_best=i\n",
    "print(cand)\n",
    "print(columns_best)"
   ]
  },
  {
   "cell_type": "markdown",
   "id": "243b0ac0",
   "metadata": {},
   "source": [
    "**Найдена наилучшая комбинация колонок с непрерывными признаками (score_bki, timedelta, pca_component). Однако, практика показала, что добавление таких полиномиальных признаков ухудшает целевую метрику. Поэтому я закомментировала кусок кода ниже.**\n",
    "\n",
    "**Я также исследовала полиномиальные признаки, сделанные вручную. Некоторые такие полиномиальные признаки улучшают качество модели, поэтому было решено их оставить.**"
   ]
  },
  {
   "cell_type": "code",
   "execution_count": 131,
   "id": "d5193f99",
   "metadata": {},
   "outputs": [],
   "source": [
    "# pf=PolynomialFeatures(2)\n",
    "# poly_features=pf.fit_transform(data[['score_bki','timedelta','pca_component']])\n",
    "\n",
    "# index=data.index\n",
    "# right=pd.DataFrame(poly_features, columns=['1','2','3','4','5','6','7','8','9','10'], index=index)\n",
    "# data=data.join(right, how='inner')\n",
    "# data.drop(columns=['1','2','3','4','6','7','8','9','10'], inplace=True)"
   ]
  },
  {
   "cell_type": "code",
   "execution_count": 132,
   "id": "2667dfa0",
   "metadata": {},
   "outputs": [],
   "source": [
    "# Попробуем сделать Polynomial Features  вручную\n",
    "# Некоторые полиномиальные признаки ухудшают модель, поэтому я закомментировала определенные куски кода.\n",
    "data['n1']=data['decline_app_cnt']*data['bki_request_cnt']*data['score_bki']\n",
    "# data['n2']=data['decline_app_cnt']**2 + data['bki_request_cnt']*data['score_bki']\n",
    "# data['n3']=data['decline_app_cnt']*data['bki_request_cnt'] + data['score_bki']**2\n",
    "# data['n4']=data['decline_app_cnt']*data['score_bki'] + data['bki_request_cnt']**2\n",
    "# data['n5']=data['decline_app_cnt']**2 + data['score_bki']**2 + data['bki_request_cnt']**2\n",
    "\n",
    "# data['n6']=data['home_address']**2 - data['work_address']*data['region_rating']\n",
    "# data['n7']=data['region_rating']**2 - data['home_address']*data['work_address']\n",
    "# data['n8']=data['work_address']**2 - data['home_address']*data['region_rating']\n",
    "\n",
    "data['n9']=data['sna']*data['first_time']\n",
    "data['n10']=data['sna'] - data['first_time']\n",
    "\n",
    "\n",
    "# data['n11']=data['income']/data['region_rating']\n",
    "# data['n12']=data['timedelta']/data['first_time']"
   ]
  },
  {
   "cell_type": "code",
   "execution_count": 133,
   "id": "11e98f7a",
   "metadata": {
    "scrolled": true
   },
   "outputs": [
    {
     "data": {
      "text/plain": [
       "<AxesSubplot:>"
      ]
     },
     "execution_count": 133,
     "metadata": {},
     "output_type": "execute_result"
    },
    {
     "data": {
      "image/png": "[encoded data removed]",
      "text/plain": [
       "<Figure size 432x288 with 2 Axes>"
      ]
     },
     "metadata": {
      "needs_background": "light"
     },
     "output_type": "display_data"
    }
   ],
   "source": [
    "# Проверим, есть ли скоррелированность между новыми полиномиальными признаками\n",
    "poly_columns=['score_bki','decline_app_cnt', 'bki_request_cnt','income','timedelta', 'pca_component','n1','n9','n10']\n",
    "sns.heatmap(data[poly_columns].corr().abs(), vmin=0, vmax=1)"
   ]
  },
  {
   "cell_type": "markdown",
   "id": "fade866e",
   "metadata": {},
   "source": [
    "**Скоррелированности между новыми полиномиальными признаками нет**"
   ]
  },
  {
   "cell_type": "markdown",
   "id": "bbd824ad",
   "metadata": {},
   "source": [
    "## Значимость признаков для модели"
   ]
  },
  {
   "cell_type": "code",
   "execution_count": 134,
   "id": "52bd5825",
   "metadata": {
    "execution": {
     "iopub.execute_input": "2022-01-10T09:23:47.629185Z",
     "iopub.status.busy": "2022-01-10T09:23:47.628501Z",
     "iopub.status.idle": "2022-01-10T09:23:47.706282Z",
     "shell.execute_reply": "2022-01-10T09:23:47.705608Z",
     "shell.execute_reply.started": "2022-01-10T09:08:49.379963Z"
    },
    "papermill": {
     "duration": 0.220322,
     "end_time": "2022-01-10T09:23:47.706505",
     "exception": false,
     "start_time": "2022-01-10T09:23:47.486183",
     "status": "completed"
    },
    "tags": []
   },
   "outputs": [],
   "source": [
    "from sklearn.feature_selection import f_classif"
   ]
  },
  {
   "cell_type": "code",
   "execution_count": 135,
   "id": "4083e8e0",
   "metadata": {
    "execution": {
     "iopub.execute_input": "2022-01-10T09:23:47.995408Z",
     "iopub.status.busy": "2022-01-10T09:23:47.994715Z",
     "iopub.status.idle": "2022-01-10T09:23:48.197249Z",
     "shell.execute_reply": "2022-01-10T09:23:48.197859Z",
     "shell.execute_reply.started": "2022-01-10T09:08:52.068847Z"
    },
    "papermill": {
     "duration": 0.353016,
     "end_time": "2022-01-10T09:23:48.198036",
     "exception": false,
     "start_time": "2022-01-10T09:23:47.845020",
     "status": "completed"
    },
    "tags": []
   },
   "outputs": [
    {
     "data": {
      "text/plain": [
       "<AxesSubplot:>"
      ]
     },
     "execution_count": 135,
     "metadata": {},
     "output_type": "execute_result"
    },
    {
     "data": {
      "image/png": "[encoded data removed]",
      "text/plain": [
       "<Figure size 432x288 with 1 Axes>"
      ]
     },
     "metadata": {
      "needs_background": "light"
     },
     "output_type": "display_data"
    }
   ],
   "source": [
    "# Самым важным среди непрерывных признаков является score_bki\n",
    "cols=['score_bki', 'decline_app_cnt', 'bki_request_cnt', 'income','timedelta','pca_component', 'n1','n9','n10']\n",
    "imp_num = pd.Series(f_classif(data[cols], data['default'])[0], index = cols)\n",
    "imp_num.sort_values(inplace = True)\n",
    "imp_num.plot(kind = 'barh')"
   ]
  },
  {
   "cell_type": "code",
   "execution_count": 136,
   "id": "9503326a",
   "metadata": {
    "execution": {
     "iopub.execute_input": "2022-01-10T09:23:48.477513Z",
     "iopub.status.busy": "2022-01-10T09:23:48.476501Z",
     "iopub.status.idle": "2022-01-10T09:23:48.479845Z",
     "shell.execute_reply": "2022-01-10T09:23:48.480477Z",
     "shell.execute_reply.started": "2022-01-10T09:08:55.972896Z"
    },
    "papermill": {
     "duration": 0.144403,
     "end_time": "2022-01-10T09:23:48.480650",
     "exception": false,
     "start_time": "2022-01-10T09:23:48.336247",
     "status": "completed"
    },
    "tags": []
   },
   "outputs": [],
   "source": [
    "from sklearn.feature_selection import mutual_info_classif"
   ]
  },
  {
   "cell_type": "code",
   "execution_count": 137,
   "id": "54195b86",
   "metadata": {
    "execution": {
     "iopub.execute_input": "2022-01-10T09:23:48.762677Z",
     "iopub.status.busy": "2022-01-10T09:23:48.761620Z",
     "iopub.status.idle": "2022-01-10T09:23:49.189527Z",
     "shell.execute_reply": "2022-01-10T09:23:49.190140Z",
     "shell.execute_reply.started": "2022-01-10T09:08:59.167902Z"
    },
    "papermill": {
     "duration": 0.570383,
     "end_time": "2022-01-10T09:23:49.190321",
     "exception": false,
     "start_time": "2022-01-10T09:23:48.619938",
     "status": "completed"
    },
    "tags": []
   },
   "outputs": [
    {
     "data": {
      "text/plain": [
       "<AxesSubplot:>"
      ]
     },
     "execution_count": 137,
     "metadata": {},
     "output_type": "execute_result"
    },
    {
     "data": {
      "image/png": "[encoded data removed]",
      "text/plain": [
       "<Figure size 432x288 with 1 Axes>"
      ]
     },
     "metadata": {
      "needs_background": "light"
     },
     "output_type": "display_data"
    }
   ],
   "source": [
    "# Самым важным среди категориальных и бинарных признаков является sna\n",
    "other_cols = ['first_time', 'sna', 'work_address', 'home_address', 'region_rating','app_day','app_month','sex', 'car', 'car_type', 'good_work', 'foreign_passport', 'app_day_of_week']\n",
    "\n",
    "imp_cat = pd.Series(mutual_info_classif(data[other_cols], data['default'],\n",
    "                                     discrete_features =True), index = other_cols)\n",
    "imp_cat.sort_values(inplace = True)\n",
    "imp_cat.plot(kind = 'barh')"
   ]
  },
  {
   "cell_type": "markdown",
   "id": "7ced3833",
   "metadata": {
    "papermill": {
     "duration": 0.138557,
     "end_time": "2022-01-10T09:23:49.754116",
     "exception": false,
     "start_time": "2022-01-10T09:23:49.615559",
     "status": "completed"
    },
    "tags": []
   },
   "source": [
    "## Подготовка данных к загрузке в модель"
   ]
  },
  {
   "cell_type": "code",
   "execution_count": 138,
   "id": "6df78ee1",
   "metadata": {
    "execution": {
     "iopub.execute_input": "2022-01-10T09:23:50.040521Z",
     "iopub.status.busy": "2022-01-10T09:23:50.039478Z",
     "iopub.status.idle": "2022-01-10T09:23:50.062320Z",
     "shell.execute_reply": "2022-01-10T09:23:50.061728Z",
     "shell.execute_reply.started": "2022-01-10T09:09:02.527655Z"
    },
    "papermill": {
     "duration": 0.170297,
     "end_time": "2022-01-10T09:23:50.062499",
     "exception": false,
     "start_time": "2022-01-10T09:23:49.892202",
     "status": "completed"
    },
    "tags": []
   },
   "outputs": [],
   "source": [
    "# Разделим датасет снова на тест и трейн\n",
    "train_data = data.query('sample == 1').drop(['sample'], axis=1)\n",
    "test_data = data.query('sample == 0').drop(['sample', 'default'], axis=1)"
   ]
  },
  {
   "cell_type": "code",
   "execution_count": 100,
   "id": "3f16ed3d",
   "metadata": {
    "execution": {
     "iopub.execute_input": "2022-01-10T09:23:50.350195Z",
     "iopub.status.busy": "2022-01-10T09:23:50.349529Z",
     "iopub.status.idle": "2022-01-10T09:23:50.352968Z",
     "shell.execute_reply": "2022-01-10T09:23:50.353509Z",
     "shell.execute_reply.started": "2022-01-10T09:09:05.313820Z"
    },
    "papermill": {
     "duration": 0.148732,
     "end_time": "2022-01-10T09:23:50.353688",
     "exception": false,
     "start_time": "2022-01-10T09:23:50.204956",
     "status": "completed"
    },
    "tags": []
   },
   "outputs": [],
   "source": [
    "from sklearn.model_selection import StratifiedShuffleSplit"
   ]
  },
  {
   "cell_type": "markdown",
   "id": "6087d828",
   "metadata": {},
   "source": [
    "**Я попробовала использовать стратифицированное разбиение выборки. Это не привело к улучшению результата. Поэтому было принято решение пользоваться разбиением train_test_split.**"
   ]
  },
  {
   "cell_type": "code",
   "execution_count": 63,
   "id": "a5ce6dbd",
   "metadata": {
    "execution": {
     "iopub.execute_input": "2022-01-10T09:23:50.644711Z",
     "iopub.status.busy": "2022-01-10T09:23:50.641541Z",
     "iopub.status.idle": "2022-01-10T09:23:50.646594Z",
     "shell.execute_reply": "2022-01-10T09:23:50.647066Z",
     "shell.execute_reply.started": "2021-12-20T13:20:53.761293Z"
    },
    "papermill": {
     "duration": 0.153981,
     "end_time": "2022-01-10T09:23:50.647249",
     "exception": false,
     "start_time": "2022-01-10T09:23:50.493268",
     "status": "completed"
    },
    "tags": []
   },
   "outputs": [],
   "source": [
    "# Этот кусок кода закомментирован, т.к. применение StratifiedShuffleSplit не приводит к улучшению результата.\n",
    "# sss = StratifiedShuffleSplit(n_splits=1, test_size=0.2)\n",
    "# train_indices, valid_indices = [split for split in sss.split(train_data.drop(['default'],axis=1), train_data['default'])][0]\n",
    "\n",
    "# X1=train_data[['age','decline_app_cnt','bki_request_cnt','income', 'score_bki','pca_component','timedelta']].values\n",
    "# X2=test_data[['age','decline_app_cnt','bki_request_cnt','income', 'score_bki','pca_component','timedelta']].values\n",
    "\n",
    "# scaler=RobustScaler()\n",
    "# X1_transformed=scaler.fit_transform(X1)\n",
    "# X2_transformed=scaler.transform(X2)\n",
    "\n",
    "# train_data[['age','decline_app_cnt','bki_request_cnt','income', 'score_bki','pca_component','timedelta']]=X1_transformed\n",
    "# test_data[['age','decline_app_cnt','bki_request_cnt','income', 'score_bki','pca_component','timedelta']]=X2_transformed\n",
    "\n",
    "# s_train = train_data.iloc[train_indices]\n",
    "# s_valid = train_data.iloc[valid_indices]\n",
    "\n",
    "# numeric_cols=['age','decline_app_cnt','bki_request_cnt','income', 'score_bki','pca_component','timedelta']\n",
    "\n",
    "# from sklearn.preprocessing import OneHotEncoder\n",
    "\n",
    "# columns = ['education','first_time', 'sna', 'work_address', 'home_address', 'region_rating','app_day','app_month','app_day_of_week']\n",
    "# ohe_train_train=OneHotEncoder(sparse=False)\n",
    "# X_cat_train_train = ohe_train_train.fit_transform(s_train[columns].values)\n",
    "\n",
    "# ohe_train_test=OneHotEncoder(sparse=False)\n",
    "# X_cat_train_test = ohe_train_test.fit_transform(s_valid[columns].values)\n",
    "\n",
    "# ohe_test=OneHotEncoder(sparse=False)\n",
    "# X_cat_test=ohe_test.fit_transform(test_data[columns].values)\n",
    "\n",
    "# X_train=np.hstack([s_train[numeric_cols].values, s_train[bin_cols].values, X_cat_train_train])\n",
    "# X_test=np.hstack([s_valid[numeric_cols].values, s_valid[bin_cols].values, X_cat_train_test])\n",
    "\n",
    "# y_train=s_train['default'].values\n",
    "# y_test=s_valid['default'].values\n",
    "\n",
    "# X_train=pd.DataFrame(X_train, columns=[i for i in range(0,80)], index=[j for j in range(0,59039)])\n",
    "# X_test=pd.DataFrame(X_test, columns=[i for i in range(0,80)], index=[j for j in range(0,14760)])\n",
    "# X=X_train.append(X_test,sort=False).reset_index(drop=True)\n",
    "\n",
    "# y_train=pd.DataFrame(y_train, columns=['0'], index=[j for j in range(0,59039)])\n",
    "# y_test=pd.DataFrame(y_test, columns=['0'], index=[j for j in range(0,14760)])\n",
    "# y=y_train.append(y_test,sort=False).reset_index(drop=True)\n",
    "\n",
    "# X_valid=np.hstack([X2_transformed,test_data[bin_cols], X_cat_test])"
   ]
  },
  {
   "cell_type": "code",
   "execution_count": 139,
   "id": "a8537e96",
   "metadata": {
    "execution": {
     "iopub.execute_input": "2022-01-10T09:23:50.934180Z",
     "iopub.status.busy": "2022-01-10T09:23:50.933071Z",
     "iopub.status.idle": "2022-01-10T09:23:51.116827Z",
     "shell.execute_reply": "2022-01-10T09:23:51.116201Z",
     "shell.execute_reply.started": "2022-01-10T09:15:15.840229Z"
    },
    "papermill": {
     "duration": 0.329728,
     "end_time": "2022-01-10T09:23:51.116997",
     "exception": false,
     "start_time": "2022-01-10T09:23:50.787269",
     "status": "completed"
    },
    "tags": []
   },
   "outputs": [],
   "source": [
    "# Проведем обработку категориальных признаков отдельно в test и train. Используем для этого \n",
    "# OneHotEncoder. Практика показала, что это дает увеличение целевой метрики по сравнению с \n",
    "# использованием необработанных категориальных признаков.\n",
    "\n",
    "from sklearn.preprocessing import OneHotEncoder\n",
    "\n",
    "columns = ['education','first_time','sna', 'work_address', 'home_address', 'region_rating','app_day','app_month','app_day_of_week']\n",
    "ohe_train=OneHotEncoder(sparse=False)\n",
    "X_cat_train = ohe_train.fit_transform(train_data[columns].values)\n",
    "\n",
    "ohe_test=OneHotEncoder(sparse=False)\n",
    "X_cat_test=ohe_test.fit_transform(test_data[columns].values)"
   ]
  },
  {
   "cell_type": "code",
   "execution_count": 140,
   "id": "a73a194d",
   "metadata": {
    "execution": {
     "iopub.execute_input": "2022-01-10T09:23:51.405250Z",
     "iopub.status.busy": "2022-01-10T09:23:51.404153Z",
     "iopub.status.idle": "2022-01-10T09:23:51.415093Z",
     "shell.execute_reply": "2022-01-10T09:23:51.415610Z",
     "shell.execute_reply.started": "2022-01-10T09:09:13.678934Z"
    },
    "papermill": {
     "duration": 0.157007,
     "end_time": "2022-01-10T09:23:51.415809",
     "exception": false,
     "start_time": "2022-01-10T09:23:51.258802",
     "status": "completed"
    },
    "tags": []
   },
   "outputs": [],
   "source": [
    "# Обработаем по отдельности колонки c непрерывным типом данных из train и test\n",
    "X1=train_data[['decline_app_cnt','bki_request_cnt','income','score_bki', 'timedelta','pca_component','n1','n9','n10']].values\n",
    "X2=test_data[['decline_app_cnt','bki_request_cnt','income','score_bki', 'timedelta','pca_component','n1','n9','n10']].values\n",
    "\n",
    "# Пропустим через RobustScaler все колонки с непрерывным типом данных. Я выбрала RobustScaler, потому что\n",
    "# он нечувствителен к выбросам и дает лучший результат в Kaggle, чем StandardScaler. \n",
    "# Обработаем отдельно колонки из test и train\n",
    "scaler=RobustScaler()\n",
    "X1_transformed=scaler.fit_transform(X1)\n",
    "X2_transformed=scaler.transform(X2)\n",
    "\n",
    "# Запишем в датасет нормализованные значения колонок\n",
    "train_data[['decline_app_cnt','bki_request_cnt','income','score_bki', 'timedelta','pca_component','n1','n9','n10']]=X1_transformed\n",
    "test_data[['decline_app_cnt','bki_request_cnt','income','score_bki', 'timedelta','pca_component','n1','n9','n10']]=X2_transformed"
   ]
  },
  {
   "cell_type": "code",
   "execution_count": 141,
   "id": "5cbb39b1",
   "metadata": {
    "execution": {
     "iopub.execute_input": "2022-01-10T09:23:52.921937Z",
     "iopub.status.busy": "2022-01-10T09:23:52.921258Z",
     "iopub.status.idle": "2022-01-10T09:23:52.977404Z",
     "shell.execute_reply": "2022-01-10T09:23:52.978072Z",
     "shell.execute_reply.started": "2022-01-10T09:09:30.228247Z"
    },
    "papermill": {
     "duration": 0.199385,
     "end_time": "2022-01-10T09:23:52.978247",
     "exception": false,
     "start_time": "2022-01-10T09:23:52.778862",
     "status": "completed"
    },
    "tags": []
   },
   "outputs": [],
   "source": [
    "# Составим матрицу независимых переменных для train и валидации\n",
    "X=np.hstack([X1_transformed, train_data[bin_cols].values, X_cat_train])\n",
    "X_valid=np.hstack([X2_transformed,test_data[bin_cols], X_cat_test])"
   ]
  },
  {
   "cell_type": "code",
   "execution_count": 142,
   "id": "825a46b8",
   "metadata": {
    "execution": {
     "iopub.execute_input": "2022-01-10T09:23:53.260461Z",
     "iopub.status.busy": "2022-01-10T09:23:53.259798Z",
     "iopub.status.idle": "2022-01-10T09:23:53.263362Z",
     "shell.execute_reply": "2022-01-10T09:23:53.263976Z",
     "shell.execute_reply.started": "2022-01-10T09:09:34.040547Z"
    },
    "papermill": {
     "duration": 0.145185,
     "end_time": "2022-01-10T09:23:53.264150",
     "exception": false,
     "start_time": "2022-01-10T09:23:53.118965",
     "status": "completed"
    },
    "tags": []
   },
   "outputs": [],
   "source": [
    "y = train_data['default'].values  # наш таргет"
   ]
  },
  {
   "cell_type": "code",
   "execution_count": 143,
   "id": "b760cfc6",
   "metadata": {
    "execution": {
     "iopub.execute_input": "2022-01-10T09:23:53.548024Z",
     "iopub.status.busy": "2022-01-10T09:23:53.547065Z",
     "iopub.status.idle": "2022-01-10T09:23:53.577862Z",
     "shell.execute_reply": "2022-01-10T09:23:53.578359Z",
     "shell.execute_reply.started": "2022-01-10T09:09:36.887003Z"
    },
    "papermill": {
     "duration": 0.175489,
     "end_time": "2022-01-10T09:23:53.578579",
     "exception": false,
     "start_time": "2022-01-10T09:23:53.403090",
     "status": "completed"
    },
    "tags": []
   },
   "outputs": [],
   "source": [
    "# Воспользуемся специальной функцие train_test_split для разбивки тестовых данных\n",
    "from sklearn.model_selection import train_test_split\n",
    "\n",
    "# выделим 20% данных на валидацию (параметр test_size)\n",
    "X_train, X_test, y_train, y_test = train_test_split(X, y, test_size=0.2, random_state=42)"
   ]
  },
  {
   "cell_type": "code",
   "execution_count": 144,
   "id": "97eaf257",
   "metadata": {
    "execution": {
     "iopub.execute_input": "2022-01-10T09:23:53.867330Z",
     "iopub.status.busy": "2022-01-10T09:23:53.866449Z",
     "iopub.status.idle": "2022-01-10T09:23:53.870335Z",
     "shell.execute_reply": "2022-01-10T09:23:53.869773Z",
     "shell.execute_reply.started": "2022-01-10T09:09:40.835644Z"
    },
    "papermill": {
     "duration": 0.150105,
     "end_time": "2022-01-10T09:23:53.870502",
     "exception": false,
     "start_time": "2022-01-10T09:23:53.720397",
     "status": "completed"
    },
    "tags": []
   },
   "outputs": [
    {
     "data": {
      "text/plain": [
       "((59039, 82), (14760, 82), (59039,), (14760,))"
      ]
     },
     "execution_count": 144,
     "metadata": {},
     "output_type": "execute_result"
    }
   ],
   "source": [
    "# проверяем\n",
    "X_train.shape, X_test.shape, y_train.shape, y_test.shape"
   ]
  },
  {
   "cell_type": "markdown",
   "id": "ec91dfc0",
   "metadata": {},
   "source": [
    "## Применение модели логистической регрессии"
   ]
  },
  {
   "cell_type": "markdown",
   "id": "8067dcb4",
   "metadata": {},
   "source": [
    "**По условию задачи можно пользоваться только логистической регрессией. Другие модели использовать нельзя. Параметры логистической регрессии разрешается подбирать.**"
   ]
  },
  {
   "cell_type": "code",
   "execution_count": 145,
   "id": "fb078603",
   "metadata": {},
   "outputs": [
    {
     "name": "stderr",
     "output_type": "stream",
     "text": [
      "C:\\Users\\Sasha\\anaconda3\\lib\\site-packages\\sklearn\\linear_model\\_logistic.py:763: ConvergenceWarning: lbfgs failed to converge (status=1):\n",
      "STOP: TOTAL NO. of ITERATIONS REACHED LIMIT.\n",
      "\n",
      "Increase the number of iterations (max_iter) or scale the data as shown in:\n",
      "    https://scikit-learn.org/stable/modules/preprocessing.html\n",
      "Please also refer to the documentation for alternative solver options:\n",
      "    https://scikit-learn.org/stable/modules/linear_model.html#logistic-regression\n",
      "  n_iter_i = _check_optimize_result(\n"
     ]
    }
   ],
   "source": [
    "# Обучим логистическую регрессию с параметрами по умолчанию\n",
    "logreg_basic=LogisticRegression()\n",
    "\n",
    "logreg_basic.fit(X_train, y_train)\n",
    "y_pred = logreg_basic.predict(X_test) \n",
    "Y_pred=logreg_basic.predict(X_train)\n",
    "y_pred_proba=logreg_basic.predict_proba(X_test)\n",
    "y_pred_proba=y_pred_proba[:,1]\n",
    "Y_pred_proba=logreg_basic.predict_proba(X_train)\n",
    "Y_pred_proba=Y_pred_proba[:,1]"
   ]
  },
  {
   "cell_type": "code",
   "execution_count": 146,
   "id": "174c6f49",
   "metadata": {
    "execution": {
     "iopub.execute_input": "2022-01-10T09:23:54.731519Z",
     "iopub.status.busy": "2022-01-10T09:23:54.730835Z",
     "iopub.status.idle": "2022-01-10T09:23:54.748018Z",
     "shell.execute_reply": "2022-01-10T09:23:54.748729Z",
     "shell.execute_reply.started": "2022-01-10T09:09:48.161548Z"
    },
    "papermill": {
     "duration": 0.162579,
     "end_time": "2022-01-10T09:23:54.748923",
     "exception": false,
     "start_time": "2022-01-10T09:23:54.586344",
     "status": "completed"
    },
    "scrolled": true,
    "tags": []
   },
   "outputs": [],
   "source": [
    "# Импортируем все необходимые метрики\n",
    "from sklearn.metrics import classification_report, f1_score, accuracy_score, precision_score, roc_auc_score, recall_score, confusion_matrix"
   ]
  },
  {
   "cell_type": "code",
   "execution_count": 147,
   "id": "b7628598",
   "metadata": {},
   "outputs": [],
   "source": [
    "# Напишем функцию, которая будет отображать нам значения всех метрик на тренировочной выборке и на тестовой\n",
    "def show_metrics(y_pred_train, Y_train, y_pred_test, Y_test, y_pred_proba_train, y_pred_proba_test):\n",
    "    f1_score_train=f1_score(y_pred_train,Y_train)\n",
    "    f1_score_test=f1_score(y_pred_test,Y_test)\n",
    "    print('[train] f1_score {0:.2f}, [test] f1_score {1:.2f}\\n'.format(f1_score_train,f1_score_test))\n",
    "    precision_score_train=precision_score(y_pred_train,Y_train)\n",
    "    precision_score_test=precision_score(y_pred_test,Y_test)\n",
    "    print('[train] precision_score {0:.2f}, [test] precision_score {1:.2f}\\n'.format(precision_score_train,precision_score_test))\n",
    "    recall_score_train=recall_score(y_pred_train,Y_train)\n",
    "    recall_score_test=recall_score(y_pred_test,Y_test)\n",
    "    print('[train] recall_score {0:.2f}, [test] recall_score {1:.2f}\\n'.format(recall_score_train,recall_score_test))\n",
    "    accuracy_score_train=accuracy_score(y_pred_train,Y_train)\n",
    "    accuracy_score_test=accuracy_score(y_pred_test,Y_test)\n",
    "    print('[train] accuracy_score {0:.2f}, [test] accuracy_score {1:.2f}\\n'.format(accuracy_score_train,accuracy_score_test))\n",
    "    roc_auc_score_train=roc_auc_score(Y_train,y_pred_proba_train)\n",
    "    roc_auc_score_test=roc_auc_score(Y_test,y_pred_proba_test)\n",
    "    print('[train] roc_auc_score {0:.2f}, [test] roc_auc_score {1:.2f}\\n'.format(roc_auc_score_train,roc_auc_score_test))\n",
    "    confusion_matrix_train=confusion_matrix(y_pred_train,Y_train)\n",
    "    confusion_matrix_test=confusion_matrix(y_pred_test,Y_test)\n",
    "    print('[train] confusion_matrix \\n {0}, \\n[test] confusion_matrix \\n {1}\\n'.format(confusion_matrix_train,confusion_matrix_test))"
   ]
  },
  {
   "cell_type": "code",
   "execution_count": 148,
   "id": "85e19fd9",
   "metadata": {
    "scrolled": true
   },
   "outputs": [
    {
     "name": "stdout",
     "output_type": "stream",
     "text": [
      "[train] f1_score 0.07, [test] f1_score 0.05\n",
      "\n",
      "[train] precision_score 0.03, [test] precision_score 0.03\n",
      "\n",
      "[train] recall_score 0.50, [test] recall_score 0.43\n",
      "\n",
      "[train] accuracy_score 0.87, [test] accuracy_score 0.88\n",
      "\n",
      "[train] roc_auc_score 0.74, [test] roc_auc_score 0.74\n",
      "\n",
      "[train] confusion_matrix \n",
      " [[51234  7282]\n",
      " [  260   263]], \n",
      "[test] confusion_matrix \n",
      " [[12869  1778]\n",
      " [   64    49]]\n",
      "\n"
     ]
    }
   ],
   "source": [
    "# Выведем метрики\n",
    "show_metrics(Y_pred,y_train,y_pred,y_test,Y_pred_proba,y_pred_proba)"
   ]
  },
  {
   "cell_type": "code",
   "execution_count": 149,
   "id": "271bc1c3",
   "metadata": {},
   "outputs": [],
   "source": [
    "# Функция, визуализирующая усредненную метрику на кросс-валидации\n",
    "def plot_cv_metrics(cv_metrics):\n",
    "    avg_f1_train, std_f1_train = cv_metrics['train_score'].mean(), cv_metrics['train_score'].std()\n",
    "    avg_f1_valid, std_f1_valid = cv_metrics['test_score'].mean(), cv_metrics['test_score'].std()\n",
    "    print('[train] F1-score = {:.2f} +/- {:.2f}'.format(avg_f1_train, std_f1_train))\n",
    "    print('[valid] F1-score = {:.2f} +/- {:.2f}'.format(avg_f1_valid, std_f1_valid))\n",
    "    \n",
    "    plt.figure(figsize=(15, 5))\n",
    "\n",
    "    plt.plot(cv_metrics['train_score'], label='train', marker='.')\n",
    "    plt.plot(cv_metrics['test_score'], label='valid', marker='.')\n",
    "\n",
    "    plt.ylim([0., 1.]);\n",
    "    plt.xlabel('CV iteration', fontsize=15)\n",
    "    plt.ylabel('F1-score', fontsize=15)\n",
    "    plt.legend(fontsize=15)"
   ]
  },
  {
   "cell_type": "code",
   "execution_count": 150,
   "id": "db33d0e3",
   "metadata": {
    "scrolled": true
   },
   "outputs": [
    {
     "name": "stderr",
     "output_type": "stream",
     "text": [
      "C:\\Users\\Sasha\\anaconda3\\lib\\site-packages\\sklearn\\linear_model\\_logistic.py:763: ConvergenceWarning: lbfgs failed to converge (status=1):\n",
      "STOP: TOTAL NO. of ITERATIONS REACHED LIMIT.\n",
      "\n",
      "Increase the number of iterations (max_iter) or scale the data as shown in:\n",
      "    https://scikit-learn.org/stable/modules/preprocessing.html\n",
      "Please also refer to the documentation for alternative solver options:\n",
      "    https://scikit-learn.org/stable/modules/linear_model.html#logistic-regression\n",
      "  n_iter_i = _check_optimize_result(\n",
      "C:\\Users\\Sasha\\anaconda3\\lib\\site-packages\\sklearn\\linear_model\\_logistic.py:763: ConvergenceWarning: lbfgs failed to converge (status=1):\n",
      "STOP: TOTAL NO. of ITERATIONS REACHED LIMIT.\n",
      "\n",
      "Increase the number of iterations (max_iter) or scale the data as shown in:\n",
      "    https://scikit-learn.org/stable/modules/preprocessing.html\n",
      "Please also refer to the documentation for alternative solver options:\n",
      "    https://scikit-learn.org/stable/modules/linear_model.html#logistic-regression\n",
      "  n_iter_i = _check_optimize_result(\n",
      "C:\\Users\\Sasha\\anaconda3\\lib\\site-packages\\sklearn\\linear_model\\_logistic.py:763: ConvergenceWarning: lbfgs failed to converge (status=1):\n",
      "STOP: TOTAL NO. of ITERATIONS REACHED LIMIT.\n",
      "\n",
      "Increase the number of iterations (max_iter) or scale the data as shown in:\n",
      "    https://scikit-learn.org/stable/modules/preprocessing.html\n",
      "Please also refer to the documentation for alternative solver options:\n",
      "    https://scikit-learn.org/stable/modules/linear_model.html#logistic-regression\n",
      "  n_iter_i = _check_optimize_result(\n",
      "C:\\Users\\Sasha\\anaconda3\\lib\\site-packages\\sklearn\\linear_model\\_logistic.py:763: ConvergenceWarning: lbfgs failed to converge (status=1):\n",
      "STOP: TOTAL NO. of ITERATIONS REACHED LIMIT.\n",
      "\n",
      "Increase the number of iterations (max_iter) or scale the data as shown in:\n",
      "    https://scikit-learn.org/stable/modules/preprocessing.html\n",
      "Please also refer to the documentation for alternative solver options:\n",
      "    https://scikit-learn.org/stable/modules/linear_model.html#logistic-regression\n",
      "  n_iter_i = _check_optimize_result(\n",
      "C:\\Users\\Sasha\\anaconda3\\lib\\site-packages\\sklearn\\linear_model\\_logistic.py:763: ConvergenceWarning: lbfgs failed to converge (status=1):\n",
      "STOP: TOTAL NO. of ITERATIONS REACHED LIMIT.\n",
      "\n",
      "Increase the number of iterations (max_iter) or scale the data as shown in:\n",
      "    https://scikit-learn.org/stable/modules/preprocessing.html\n",
      "Please also refer to the documentation for alternative solver options:\n",
      "    https://scikit-learn.org/stable/modules/linear_model.html#logistic-regression\n",
      "  n_iter_i = _check_optimize_result(\n"
     ]
    }
   ],
   "source": [
    "from sklearn.model_selection import cross_validate\n",
    "cv_metrics = cross_validate(logreg_basic, X, y, cv=5, scoring='f1', return_train_score=True)"
   ]
  },
  {
   "cell_type": "code",
   "execution_count": 151,
   "id": "a6937fa5",
   "metadata": {
    "scrolled": true
   },
   "outputs": [
    {
     "name": "stdout",
     "output_type": "stream",
     "text": [
      "[train] F1-score = 0.06 +/- 0.00\n",
      "[valid] F1-score = 0.06 +/- 0.00\n"
     ]
    },
    {
     "data": {
      "image/png": "[encoded data removed]",
      "text/plain": [
       "<Figure size 1080x360 with 1 Axes>"
      ]
     },
     "metadata": {
      "needs_background": "light"
     },
     "output_type": "display_data"
    }
   ],
   "source": [
    "# Видим, что переобучения нет\n",
    "plot_cv_metrics(cv_metrics)"
   ]
  },
  {
   "cell_type": "markdown",
   "id": "9dd5194d",
   "metadata": {},
   "source": [
    "**Видим, что логистическая регрессия с параметрами по умолчанию показала очень плохой результат. Значение метрики f1_score на кросс-валидации равно всего 0.06. Попробуем подобрать оптимальные параметры логистической регрессии, возможно, это улучшит результат.**"
   ]
  },
  {
   "cell_type": "markdown",
   "id": "c0cae8cd",
   "metadata": {},
   "source": [
    "### Подбор параметров логистической регрессии"
   ]
  },
  {
   "cell_type": "code",
   "execution_count": 152,
   "id": "3cd86cb0",
   "metadata": {},
   "outputs": [],
   "source": [
    "from sklearn.model_selection import GridSearchCV"
   ]
  },
  {
   "cell_type": "code",
   "execution_count": 153,
   "id": "ca7dd7d7",
   "metadata": {},
   "outputs": [
    {
     "name": "stderr",
     "output_type": "stream",
     "text": [
      "C:\\Users\\Sasha\\anaconda3\\lib\\site-packages\\sklearn\\model_selection\\_search.py:918: UserWarning: One or more of the test scores are non-finite: [       nan 0.06440401        nan 0.06440401 0.34140278 0.34156239\n",
      " 0.34136996 0.34156239 0.06487192 0.06487581        nan 0.06511326\n",
      " 0.06511326 0.06487192 0.06487581        nan 0.06511326 0.06511326\n",
      " 0.34128023 0.3415736  0.34126824 0.34135979 0.34125662 0.34128023\n",
      " 0.3415736  0.34126824 0.34132203 0.34126824 0.06511326 0.06486518\n",
      " 0.06511326 0.06511326 0.06511326 0.06486518 0.06511326 0.06511326\n",
      " 0.34117441 0.34120094 0.34132239 0.34117441 0.34117441 0.34120094\n",
      " 0.34116425 0.34117441]\n",
      "  warnings.warn(\n"
     ]
    },
    {
     "name": "stdout",
     "output_type": "stream",
     "text": [
      "\tC: 1.0\n",
      "\tclass_weight: 'balanced'\n",
      "\tdual: False\n",
      "\tfit_intercept: True\n",
      "\tintercept_scaling: 1\n",
      "\tl1_ratio: None\n",
      "\tmax_iter: 50\n",
      "\tmulti_class: 'auto'\n",
      "\tn_jobs: None\n",
      "\tpenalty: 'l2'\n",
      "\trandom_state: None\n",
      "\tsolver: 'lbfgs'\n",
      "\ttol: 0.001\n",
      "\tverbose: 0\n",
      "\twarm_start: False\n"
     ]
    },
    {
     "name": "stderr",
     "output_type": "stream",
     "text": [
      "C:\\Users\\Sasha\\anaconda3\\lib\\site-packages\\sklearn\\linear_model\\_logistic.py:763: ConvergenceWarning: lbfgs failed to converge (status=1):\n",
      "STOP: TOTAL NO. of ITERATIONS REACHED LIMIT.\n",
      "\n",
      "Increase the number of iterations (max_iter) or scale the data as shown in:\n",
      "    https://scikit-learn.org/stable/modules/preprocessing.html\n",
      "Please also refer to the documentation for alternative solver options:\n",
      "    https://scikit-learn.org/stable/modules/linear_model.html#logistic-regression\n",
      "  n_iter_i = _check_optimize_result(\n"
     ]
    }
   ],
   "source": [
    "# Запутим подбор параметров модели с помощью GridSearchCV\n",
    "model=LogisticRegression()\n",
    "\n",
    "iter_ = 50\n",
    "epsilon_stop = 1e-3\n",
    "\n",
    "param_grid = [   {'penalty': ['l1'], \n",
    "      'solver': ['liblinear', 'saga'], \n",
    "      'class_weight':['none', 'balanced'], \n",
    "      'multi_class': ['auto','ovr'], \n",
    "      'max_iter':[iter_],\n",
    "      'tol':[epsilon_stop]},\n",
    "     {'penalty': ['l2'], \n",
    "      'solver': ['newton-cg', 'lbfgs', 'liblinear', 'sag', 'saga'], \n",
    "      'class_weight':['none', 'balanced'], \n",
    "      'multi_class': ['auto','ovr'], \n",
    "      'max_iter':[iter_],\n",
    "      'tol':[epsilon_stop]},\n",
    "     {'penalty': ['none'], \n",
    "      'solver': ['newton-cg', 'lbfgs', 'sag', 'saga'], \n",
    "      'class_weight':['none', 'balanced'], \n",
    "      'multi_class': ['auto','ovr'], \n",
    "      'max_iter':[iter_],\n",
    "      'tol':[epsilon_stop]}, ]\n",
    "\n",
    "gridsearch = GridSearchCV(model, param_grid, scoring='f1', n_jobs=-1, cv=5)\n",
    "gridsearch.fit(X_train, y_train)\n",
    "model = gridsearch.best_estimator_\n",
    "\n",
    "##печатаем параметры\n",
    "best_parameters = model.get_params()\n",
    "for param_name in sorted(best_parameters.keys()):\n",
    "    print('\\t%s: %r' % (param_name, best_parameters[param_name]))"
   ]
  },
  {
   "cell_type": "markdown",
   "id": "2a72dae1",
   "metadata": {},
   "source": [
    "**Вот найденные методом GridSearchCV оптимальные параметры модели:**\n",
    "* C: 1.0 (по умолчанию)\n",
    "* class_weight: 'balanced' (подобрано, по умолчанию None)\n",
    "* dual: False (по умолчанию)\n",
    "* fit_intercept: True (по умолчанию)\n",
    "* intercept_scaling: 1 (по умолчанию)\n",
    "* l1_ratio: None (по умолчанию)\n",
    "* max_iter: 50 (установлено нами)\n",
    "* multi_class: 'auto' (по умолчанию)\n",
    "* n_jobs: None (по умолчанию)\n",
    "* penalty: 'l2' (по умолчанию)\n",
    "* random_state: None (по умолчанию)\n",
    "* solver: 'lbfgs' (по умолчанию)\n",
    "* tol: 0.001 (установлено нами, по умолчанию 0.0001)\n",
    "* verbose: 0 (по умолчанию)\n",
    "* warm_start: False (по умолчанию)"
   ]
  },
  {
   "cell_type": "markdown",
   "id": "d215a741",
   "metadata": {},
   "source": [
    "**Отдельно подберем гиперпараметр С**"
   ]
  },
  {
   "cell_type": "code",
   "execution_count": 154,
   "id": "c6f5dae8",
   "metadata": {},
   "outputs": [
    {
     "name": "stdout",
     "output_type": "stream",
     "text": [
      "0.01 0.3408624229979466\n"
     ]
    }
   ],
   "source": [
    "C_list =np.arange(0.01, 1.01, 0.01)\n",
    "max_f1 = -1\n",
    "max_C = -1\n",
    "for c in C_list:\n",
    "    model = LogisticRegression(max_iter=1000, class_weight='balanced', tol=0.001, C=c)\n",
    "    model.fit(X_train, y_train)\n",
    "    y_pred = model.predict(X_test)\n",
    "    f1 = f1_score(y_test, y_pred)\n",
    "    if f1 > max_f1:\n",
    "        max_f1 = f1\n",
    "        max_C= c\n",
    "print(max_C, max_f1)"
   ]
  },
  {
   "cell_type": "code",
   "execution_count": 155,
   "id": "730dcd68",
   "metadata": {
    "execution": {
     "iopub.execute_input": "2022-01-10T09:23:55.605704Z",
     "iopub.status.busy": "2022-01-10T09:23:55.604992Z",
     "iopub.status.idle": "2022-01-10T09:23:57.276406Z",
     "shell.execute_reply": "2022-01-10T09:23:57.277415Z",
     "shell.execute_reply.started": "2022-01-10T09:09:53.527599Z"
    },
    "papermill": {
     "duration": 1.814723,
     "end_time": "2022-01-10T09:23:57.277717",
     "exception": false,
     "start_time": "2022-01-10T09:23:55.462994",
     "status": "completed"
    },
    "tags": []
   },
   "outputs": [],
   "source": [
    "# Создадим модель в оптимальными параметрами, найденными с помощью инструмента GridSearchCV и приведенного выше цикла.\n",
    "# Единственное, что я изменила - это количество итераций. GridSearchCV каждый раз запускался с количеством итераций 50. \n",
    "# Я изменила это число на 1000 в итоговой модели. Это дает лучший результат.\n",
    "logreg = LogisticRegression(max_iter=1000, class_weight='balanced', C=0.01, tol=0.001)\n",
    "logreg.fit(X_train, y_train)\n",
    "y_pred = logreg.predict(X_test) \n",
    "Y_pred=logreg.predict(X_train)\n",
    "y_pred_proba=logreg.predict_proba(X_test)\n",
    "y_pred_proba=y_pred_proba[:,1]\n",
    "Y_pred_proba=logreg.predict_proba(X_train)\n",
    "Y_pred_proba=Y_pred_proba[:,1]"
   ]
  },
  {
   "cell_type": "code",
   "execution_count": 156,
   "id": "76e4ad5c",
   "metadata": {
    "scrolled": true
   },
   "outputs": [
    {
     "name": "stdout",
     "output_type": "stream",
     "text": [
      "[train] f1_score 0.34, [test] f1_score 0.34\n",
      "\n",
      "[train] precision_score 0.67, [test] precision_score 0.68\n",
      "\n",
      "[train] recall_score 0.23, [test] recall_score 0.23\n",
      "\n",
      "[train] accuracy_score 0.67, [test] accuracy_score 0.67\n",
      "\n",
      "[train] roc_auc_score 0.74, [test] roc_auc_score 0.74\n",
      "\n",
      "[train] confusion_matrix \n",
      " [[34642  2493]\n",
      " [16852  5052]], \n",
      "[test] confusion_matrix \n",
      " [[8700  582]\n",
      " [4233 1245]]\n",
      "\n"
     ]
    }
   ],
   "source": [
    "# Выведем метрики\n",
    "show_metrics(Y_pred,y_train,y_pred,y_test,Y_pred_proba,y_pred_proba)"
   ]
  },
  {
   "cell_type": "code",
   "execution_count": 157,
   "id": "6214422a",
   "metadata": {
    "scrolled": true
   },
   "outputs": [],
   "source": [
    "cv_metrics = cross_validate(logreg, X, y, cv=5, scoring='f1', return_train_score=True)"
   ]
  },
  {
   "cell_type": "code",
   "execution_count": 158,
   "id": "038827ae",
   "metadata": {
    "scrolled": true
   },
   "outputs": [
    {
     "name": "stdout",
     "output_type": "stream",
     "text": [
      "[train] F1-score = 0.34 +/- 0.00\n",
      "[valid] F1-score = 0.34 +/- 0.01\n"
     ]
    },
    {
     "data": {
      "image/png": "[encoded data removed]",
      "text/plain": [
       "<Figure size 1080x360 with 1 Axes>"
      ]
     },
     "metadata": {
      "needs_background": "light"
     },
     "output_type": "display_data"
    }
   ],
   "source": [
    "plot_cv_metrics(cv_metrics)"
   ]
  },
  {
   "cell_type": "markdown",
   "id": "b020d314",
   "metadata": {},
   "source": [
    "**Как видно из результатов кросс-валидации, логистическая регрессия с оптимизированными параметрами дает гораздо лучший результат. Значение метрики f1_score равно 0.34.**"
   ]
  },
  {
   "cell_type": "markdown",
   "id": "db3c36c7",
   "metadata": {
    "papermill": {
     "duration": 0.139537,
     "end_time": "2022-01-10T09:23:57.608972",
     "exception": false,
     "start_time": "2022-01-10T09:23:57.469435",
     "status": "completed"
    },
    "tags": []
   },
   "source": [
    "## Выводы"
   ]
  },
  {
   "cell_type": "markdown",
   "id": "cc911cdc",
   "metadata": {},
   "source": [
    "**1. Разведывательный анализ данных показал, что данные достаточно чистые. Пропусков немного (только в колонке education). Пропуски в колонке education были заполнены случайными значениями из уже существующих.**"
   ]
  },
  {
   "cell_type": "markdown",
   "id": "fc0bdb2f",
   "metadata": {},
   "source": [
    "**2. Колонки в датасете делятся на бинарные, категориальные и с непрерывным типом данных. Бинарные колонки были обработаны с помощью LabelEncoder, категориальные - с помощью OneHotEncoder.**"
   ]
  },
  {
   "cell_type": "markdown",
   "id": "0ddedf31",
   "metadata": {},
   "source": [
    "**3. Некоторые колонки с непрерывным типом данных ('decline_app_cnt', 'bki_request_cnt', 'income') имеют \"тяжелый\" правый хвост. Это колонки были прологарифмированы. Операция была проведена над объединенным датасетом (трейн + тест).**"
   ]
  },
  {
   "cell_type": "markdown",
   "id": "03f5a0cf",
   "metadata": {},
   "source": [
    "**4. Были сгенерированы дополнительные непрерывные признаки (4 колонки) и категориальные признаки (3 колонки). Новые категориальные признаки повышают качество модели. Новые непрерывные признаки сильно скоррелированы, поэтому их использование ухудшает качество модели. Три наиболее скоррелированных признака были обработаны методом главных компонент. Это дало улучшение целевой метрики.**"
   ]
  },
  {
   "cell_type": "markdown",
   "id": "1e04bc62",
   "metadata": {},
   "source": [
    "**5. Работа с выбросами в данном датасете не принесла улучшения качества модели. Выбросы были классифицированы методом IQR (фактически это не выбросы, а просто отличающиеся значения в датасете). Т.к. удаление \"выбросов\" приводит к ухудшению качества модели, \"выбросы\" было решено оставить.**"
   ]
  },
  {
   "cell_type": "markdown",
   "id": "b3103600",
   "metadata": {},
   "source": [
    "**6. Была предпринята попытка сгенерировать полиномиальные признаки (вручную и с помощью функции Polynomial Features). Некоторые полиномиальные признаки помогают улучшить целевую метрику, а некоторые, наоборот, ухудшают. Были оставлены только признаки, помогающие улучшить модель.**"
   ]
  },
  {
   "cell_type": "markdown",
   "id": "56133419",
   "metadata": {},
   "source": [
    "**7. Наибольшее значение для модели имеют признаки score_bki и sna.**"
   ]
  },
  {
   "cell_type": "markdown",
   "id": "c597b844",
   "metadata": {},
   "source": [
    "**8. Было испробовано добавление параметра WоE для наиболее значимых признаков score_bki и sna (сначала в качестве дополнительного признака, а потом с заменой исходных признаков). Это не принесло улучшения качества модели.**"
   ]
  },
  {
   "cell_type": "markdown",
   "id": "9a102c0e",
   "metadata": {},
   "source": [
    "**9. Удаление наименее значимого непрерывного признака age улучшает целевую метрику.** "
   ]
  },
  {
   "cell_type": "markdown",
   "id": "eb04ba83",
   "metadata": {},
   "source": [
    "**10. Было испробовано деление выборки на обучающую и тестовую с помощью StratifiedShuffleSplit (деление на части с учетом долей классов). Это не дало увеличения целевой метрики. От данного способа деления выборки было принято решение отказаться в пользу train_test_split.**"
   ]
  },
  {
   "cell_type": "markdown",
   "id": "7510d9df",
   "metadata": {},
   "source": [
    "**11. С помощью метода GridSerchCV были подобраны оптимальные параметры для модели логистической регрессии. От значений по умолчанию отличается только параметр class_weight ('balanced').**"
   ]
  },
  {
   "cell_type": "markdown",
   "id": "f96351aa",
   "metadata": {},
   "source": [
    "**12. Был подобран гиперпараметр С=0.01, что соответствует максимальному вкладу регуляризации. Это дало улучшение целевой метрики по сравнению с С=1.0 (значение по умолчанию).**"
   ]
  },
  {
   "cell_type": "markdown",
   "id": "381bf06d",
   "metadata": {},
   "source": [
    "**13. Использование логистической регрессии с оптимизированными параметрами позволяет получить значение метрики f1_score, равное 0.34. Переобучения модели нет.**"
   ]
  },
  {
   "cell_type": "markdown",
   "id": "39efebde",
   "metadata": {
    "execution": {
     "iopub.execute_input": "2022-01-10T09:24:08.550547Z",
     "iopub.status.busy": "2022-01-10T09:24:08.547873Z",
     "iopub.status.idle": "2022-01-10T09:24:08.552198Z",
     "shell.execute_reply": "2022-01-10T09:24:08.552840Z",
     "shell.execute_reply.started": "2021-12-15T13:14:13.546402Z"
    },
    "papermill": {
     "duration": 0.14969,
     "end_time": "2022-01-10T09:24:08.553018",
     "exception": false,
     "start_time": "2022-01-10T09:24:08.403328",
     "status": "completed"
    },
    "tags": []
   },
   "source": [
    "## Сабмишн на каггл"
   ]
  },
  {
   "cell_type": "code",
   "execution_count": 125,
   "id": "9805adaf",
   "metadata": {
    "execution": {
     "iopub.execute_input": "2022-01-10T09:24:08.876041Z",
     "iopub.status.busy": "2022-01-10T09:24:08.874672Z",
     "iopub.status.idle": "2022-01-10T09:24:10.930254Z",
     "shell.execute_reply": "2022-01-10T09:24:10.929691Z",
     "shell.execute_reply.started": "2022-01-10T09:10:32.267567Z"
    },
    "papermill": {
     "duration": 2.218509,
     "end_time": "2022-01-10T09:24:10.930409",
     "exception": false,
     "start_time": "2022-01-10T09:24:08.711900",
     "status": "completed"
    },
    "tags": []
   },
   "outputs": [
    {
     "data": {
      "text/plain": [
       "LogisticRegression(class_weight='balanced', max_iter=1000, multi_class='ovr',\n",
       "                   solver='saga', tol=0.001)"
      ]
     },
     "execution_count": 125,
     "metadata": {},
     "output_type": "execute_result"
    }
   ],
   "source": [
    "# если качество нас устраивает, обучаем финальную модель на всех обучающи данных\n",
    "logreg_final = LogisticRegression(solver='saga', max_iter=1000, class_weight='balanced', С=0.01, tol=0.001, multi_class='ovr')\n",
    "logreg_final.fit(X, y)"
   ]
  },
  {
   "cell_type": "code",
   "execution_count": 128,
   "id": "ecc9f575",
   "metadata": {
    "execution": {
     "iopub.execute_input": "2022-01-10T09:24:11.801180Z",
     "iopub.status.busy": "2022-01-10T09:24:11.800477Z",
     "iopub.status.idle": "2022-01-10T09:24:11.813157Z",
     "shell.execute_reply": "2022-01-10T09:24:11.813856Z",
     "shell.execute_reply.started": "2022-01-10T09:10:36.816716Z"
    },
    "papermill": {
     "duration": 0.159846,
     "end_time": "2022-01-10T09:24:11.814040",
     "exception": false,
     "start_time": "2022-01-10T09:24:11.654194",
     "status": "completed"
    },
    "tags": []
   },
   "outputs": [],
   "source": [
    "predict_submission = logreg_final.predict(X_valid)"
   ]
  },
  {
   "cell_type": "code",
   "execution_count": 129,
   "id": "b7532c38",
   "metadata": {
    "execution": {
     "iopub.execute_input": "2022-01-10T09:24:12.158526Z",
     "iopub.status.busy": "2022-01-10T09:24:12.157392Z",
     "iopub.status.idle": "2022-01-10T09:24:12.233001Z",
     "shell.execute_reply": "2022-01-10T09:24:12.232331Z",
     "shell.execute_reply.started": "2022-01-10T09:10:40.168420Z"
    },
    "papermill": {
     "duration": 0.224624,
     "end_time": "2022-01-10T09:24:12.233149",
     "exception": false,
     "start_time": "2022-01-10T09:24:12.008525",
     "status": "completed"
    },
    "tags": []
   },
   "outputs": [
    {
     "data": {
      "text/html": [
       "<div>\n",
       "<style scoped>\n",
       "    .dataframe tbody tr th:only-of-type {\n",
       "        vertical-align: middle;\n",
       "    }\n",
       "\n",
       "    .dataframe tbody tr th {\n",
       "        vertical-align: top;\n",
       "    }\n",
       "\n",
       "    .dataframe thead th {\n",
       "        text-align: right;\n",
       "    }\n",
       "</style>\n",
       "<table border=\"1\" class=\"dataframe\">\n",
       "  <thead>\n",
       "    <tr style=\"text-align: right;\">\n",
       "      <th></th>\n",
       "      <th>client_id</th>\n",
       "      <th>default</th>\n",
       "    </tr>\n",
       "  </thead>\n",
       "  <tbody>\n",
       "    <tr>\n",
       "      <th>0</th>\n",
       "      <td>74835</td>\n",
       "      <td>0</td>\n",
       "    </tr>\n",
       "    <tr>\n",
       "      <th>1</th>\n",
       "      <td>17527</td>\n",
       "      <td>1</td>\n",
       "    </tr>\n",
       "    <tr>\n",
       "      <th>2</th>\n",
       "      <td>75683</td>\n",
       "      <td>0</td>\n",
       "    </tr>\n",
       "    <tr>\n",
       "      <th>3</th>\n",
       "      <td>26883</td>\n",
       "      <td>0</td>\n",
       "    </tr>\n",
       "    <tr>\n",
       "      <th>4</th>\n",
       "      <td>28862</td>\n",
       "      <td>0</td>\n",
       "    </tr>\n",
       "    <tr>\n",
       "      <th>5</th>\n",
       "      <td>99881</td>\n",
       "      <td>1</td>\n",
       "    </tr>\n",
       "    <tr>\n",
       "      <th>6</th>\n",
       "      <td>26630</td>\n",
       "      <td>1</td>\n",
       "    </tr>\n",
       "    <tr>\n",
       "      <th>7</th>\n",
       "      <td>79934</td>\n",
       "      <td>0</td>\n",
       "    </tr>\n",
       "    <tr>\n",
       "      <th>8</th>\n",
       "      <td>16605</td>\n",
       "      <td>0</td>\n",
       "    </tr>\n",
       "    <tr>\n",
       "      <th>9</th>\n",
       "      <td>105449</td>\n",
       "      <td>0</td>\n",
       "    </tr>\n",
       "  </tbody>\n",
       "</table>\n",
       "</div>"
      ],
      "text/plain": [
       "   client_id  default\n",
       "0      74835        0\n",
       "1      17527        1\n",
       "2      75683        0\n",
       "3      26883        0\n",
       "4      28862        0\n",
       "5      99881        1\n",
       "6      26630        1\n",
       "7      79934        0\n",
       "8      16605        0\n",
       "9     105449        0"
      ]
     },
     "execution_count": 129,
     "metadata": {},
     "output_type": "execute_result"
    }
   ],
   "source": [
    "# Заполняем sample_submission для каггл\n",
    "sample_submission['default'] = predict_submission\n",
    "sample_submission.to_csv('submission.csv', index=False)\n",
    "sample_submission.head(10)"
   ]
  },
  {
   "cell_type": "code",
   "execution_count": 130,
   "id": "9ad24f98",
   "metadata": {
    "execution": {
     "iopub.execute_input": "2022-01-10T09:24:12.522477Z",
     "iopub.status.busy": "2022-01-10T09:24:12.521785Z",
     "iopub.status.idle": "2022-01-10T09:24:12.541714Z",
     "shell.execute_reply": "2022-01-10T09:24:12.542303Z",
     "shell.execute_reply.started": "2022-01-10T09:10:43.991301Z"
    },
    "papermill": {
     "duration": 0.165755,
     "end_time": "2022-01-10T09:24:12.542558",
     "exception": false,
     "start_time": "2022-01-10T09:24:12.376803",
     "status": "completed"
    },
    "tags": []
   },
   "outputs": [
    {
     "data": {
      "text/html": [
       "<div>\n",
       "<style scoped>\n",
       "    .dataframe tbody tr th:only-of-type {\n",
       "        vertical-align: middle;\n",
       "    }\n",
       "\n",
       "    .dataframe tbody tr th {\n",
       "        vertical-align: top;\n",
       "    }\n",
       "\n",
       "    .dataframe thead th {\n",
       "        text-align: right;\n",
       "    }\n",
       "</style>\n",
       "<table border=\"1\" class=\"dataframe\">\n",
       "  <thead>\n",
       "    <tr style=\"text-align: right;\">\n",
       "      <th></th>\n",
       "      <th>client_id</th>\n",
       "      <th>default</th>\n",
       "    </tr>\n",
       "  </thead>\n",
       "  <tbody>\n",
       "    <tr>\n",
       "      <th>count</th>\n",
       "      <td>36349.000000</td>\n",
       "      <td>36349.000000</td>\n",
       "    </tr>\n",
       "    <tr>\n",
       "      <th>mean</th>\n",
       "      <td>54945.647473</td>\n",
       "      <td>0.374288</td>\n",
       "    </tr>\n",
       "    <tr>\n",
       "      <th>std</th>\n",
       "      <td>31706.052195</td>\n",
       "      <td>0.483945</td>\n",
       "    </tr>\n",
       "    <tr>\n",
       "      <th>min</th>\n",
       "      <td>4.000000</td>\n",
       "      <td>0.000000</td>\n",
       "    </tr>\n",
       "    <tr>\n",
       "      <th>25%</th>\n",
       "      <td>27744.000000</td>\n",
       "      <td>0.000000</td>\n",
       "    </tr>\n",
       "    <tr>\n",
       "      <th>50%</th>\n",
       "      <td>54657.000000</td>\n",
       "      <td>0.000000</td>\n",
       "    </tr>\n",
       "    <tr>\n",
       "      <th>75%</th>\n",
       "      <td>82322.000000</td>\n",
       "      <td>1.000000</td>\n",
       "    </tr>\n",
       "    <tr>\n",
       "      <th>max</th>\n",
       "      <td>110148.000000</td>\n",
       "      <td>1.000000</td>\n",
       "    </tr>\n",
       "  </tbody>\n",
       "</table>\n",
       "</div>"
      ],
      "text/plain": [
       "           client_id       default\n",
       "count   36349.000000  36349.000000\n",
       "mean    54945.647473      0.374288\n",
       "std     31706.052195      0.483945\n",
       "min         4.000000      0.000000\n",
       "25%     27744.000000      0.000000\n",
       "50%     54657.000000      0.000000\n",
       "75%     82322.000000      1.000000\n",
       "max    110148.000000      1.000000"
      ]
     },
     "execution_count": 130,
     "metadata": {},
     "output_type": "execute_result"
    }
   ],
   "source": [
    "sample_submission.describe()"
   ]
  },
  {
   "cell_type": "code",
   "execution_count": 131,
   "id": "711abd91",
   "metadata": {
    "execution": {
     "iopub.execute_input": "2022-01-10T09:24:12.833723Z",
     "iopub.status.busy": "2022-01-10T09:24:12.833085Z",
     "iopub.status.idle": "2022-01-10T09:24:14.013372Z",
     "shell.execute_reply": "2022-01-10T09:24:14.012824Z",
     "shell.execute_reply.started": "2022-01-10T09:10:47.528886Z"
    },
    "papermill": {
     "duration": 1.325634,
     "end_time": "2022-01-10T09:24:14.013541",
     "exception": false,
     "start_time": "2022-01-10T09:24:12.687907",
     "status": "completed"
    },
    "tags": []
   },
   "outputs": [
    {
     "name": "stdout",
     "output_type": "stream",
     "text": [
      "Traceback (most recent call last):\r\n",
      "  File \"/opt/conda/bin/kaggle\", line 5, in <module>\r\n",
      "    from kaggle.cli import main\r\n",
      "  File \"/opt/conda/lib/python3.7/site-packages/kaggle/__init__.py\", line 23, in <module>\r\n",
      "    api.authenticate()\r\n",
      "  File \"/opt/conda/lib/python3.7/site-packages/kaggle/api/kaggle_api_extended.py\", line 166, in authenticate\r\n",
      "    self.config_file, self.config_dir))\r\n",
      "OSError: Could not find kaggle.json. Make sure it's located in /root/.kaggle. Or use the environment method.\r\n"
     ]
    }
   ],
   "source": [
    "!kaggle competitions submit -c sf-scoring -f ssubmission.csv -m \"Message\"\n",
    "# !kaggle competitions submit your-competition-name -f submission.csv -m 'My submission message'"
   ]
  },
  {
   "cell_type": "markdown",
   "id": "cefd427d",
   "metadata": {
    "papermill": {
     "duration": 0.141497,
     "end_time": "2022-01-10T09:24:14.301743",
     "exception": false,
     "start_time": "2022-01-10T09:24:14.160246",
     "status": "completed"
    },
    "tags": []
   },
   "source": []
  },
  {
   "cell_type": "code",
   "execution_count": null,
   "id": "0dbe3fab",
   "metadata": {
    "papermill": {
     "duration": 0.14721,
     "end_time": "2022-01-10T09:24:14.591690",
     "exception": false,
     "start_time": "2022-01-10T09:24:14.444480",
     "status": "completed"
    },
    "tags": []
   },
   "outputs": [],
   "source": []
  }
 ],
 "metadata": {
  "kernelspec": {
   "display_name": "Python 3",
   "language": "python",
   "name": "python3"
  },
  "language_info": {
   "codemirror_mode": {
    "name": "ipython",
    "version": 3
   },
   "file_extension": ".py",
   "mimetype": "text/x-python",
   "name": "python",
   "nbconvert_exporter": "python",
   "pygments_lexer": "ipython3",
   "version": "3.8.8"
  },
  "papermill": {
   "default_parameters": {},
   "duration": 88.915422,
   "end_time": "2022-01-10T09:24:15.746951",
   "environment_variables": {},
   "exception": null,
   "input_path": "__notebook__.ipynb",
   "output_path": "__notebook__.ipynb",
   "parameters": {},
   "start_time": "2022-01-10T09:22:46.831529",
   "version": "2.3.3"
  }
 },
 "nbformat": 4,
 "nbformat_minor": 5
}
