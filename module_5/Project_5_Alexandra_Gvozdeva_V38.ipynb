{
 "cells": [
  {
   "cell_type": "code",
   "execution_count": 1,
   "id": "51ebce47",
   "metadata": {
    "_cell_guid": "b1076dfc-b9ad-4769-8c92-a6c4dae69d19",
    "_uuid": "8f2839f25d086af736a60e9eeb907d3b93b6e0e5",
    "execution": {
     "iopub.execute_input": "2021-12-20T13:34:19.311167Z",
     "iopub.status.busy": "2021-12-20T13:34:19.309466Z",
     "iopub.status.idle": "2021-12-20T13:34:19.320522Z",
     "shell.execute_reply": "2021-12-20T13:34:19.321277Z",
     "shell.execute_reply.started": "2021-12-20T13:25:23.672368Z"
    },
    "papermill": {
     "duration": 0.081809,
     "end_time": "2021-12-20T13:34:19.321697",
     "exception": false,
     "start_time": "2021-12-20T13:34:19.239888",
     "status": "completed"
    },
    "tags": []
   },
   "outputs": [
    {
     "name": "stdout",
     "output_type": "stream",
     "text": [
      "/kaggle/input/sf-scoring/sample_submission.csv\n",
      "/kaggle/input/sf-scoring/train.csv\n",
      "/kaggle/input/sf-scoring/test.csv\n"
     ]
    }
   ],
   "source": [
    "# This Python 3 environment comes with many helpful analytics libraries installed\n",
    "# It is defined by the kaggle/python Docker image: https://github.com/kaggle/docker-python\n",
    "# For example, here's several helpful packages to load\n",
    "\n",
    "import numpy as np # linear algebra\n",
    "import pandas as pd # data processing, CSV file I/O (e.g. pd.read_csv)\n",
    "\n",
    "# Input data files are available in the read-only \"../input/\" directory\n",
    "# For example, running this (by clicking run or pressing Shift+Enter) will list all files under the input directory\n",
    "\n",
    "import os\n",
    "for dirname, _, filenames in os.walk('/kaggle/input'):\n",
    "    for filename in filenames:\n",
    "        print(os.path.join(dirname, filename))\n",
    "\n",
    "# You can write up to 20GB to the current directory (/kaggle/working/) that gets preserved as output when you create a version using \"Save & Run All\" \n",
    "# You can also write temporary files to /kaggle/temp/, but they won't be saved outside of the current session"
   ]
  },
  {
   "cell_type": "code",
   "execution_count": 2,
   "id": "a24afc1d",
   "metadata": {
    "execution": {
     "iopub.execute_input": "2021-12-20T13:34:19.459014Z",
     "iopub.status.busy": "2021-12-20T13:34:19.458407Z",
     "iopub.status.idle": "2021-12-20T13:34:19.462008Z",
     "shell.execute_reply": "2021-12-20T13:34:19.462544Z",
     "shell.execute_reply.started": "2021-12-20T13:25:26.812117Z"
    },
    "papermill": {
     "duration": 0.065933,
     "end_time": "2021-12-20T13:34:19.462720",
     "exception": false,
     "start_time": "2021-12-20T13:34:19.396787",
     "status": "completed"
    },
    "tags": []
   },
   "outputs": [],
   "source": [
    "import matplotlib.pyplot as plt"
   ]
  },
  {
   "cell_type": "code",
   "execution_count": 3,
   "id": "3fa97c21",
   "metadata": {
    "execution": {
     "iopub.execute_input": "2021-12-20T13:34:19.642643Z",
     "iopub.status.busy": "2021-12-20T13:34:19.642041Z",
     "iopub.status.idle": "2021-12-20T13:34:20.458767Z",
     "shell.execute_reply": "2021-12-20T13:34:20.458162Z",
     "shell.execute_reply.started": "2021-12-20T13:25:29.242378Z"
    },
    "papermill": {
     "duration": 0.87972,
     "end_time": "2021-12-20T13:34:20.458910",
     "exception": false,
     "start_time": "2021-12-20T13:34:19.579190",
     "status": "completed"
    },
    "tags": []
   },
   "outputs": [],
   "source": [
    "import seaborn as sns"
   ]
  },
  {
   "cell_type": "code",
   "execution_count": 4,
   "id": "c751e471",
   "metadata": {
    "execution": {
     "iopub.execute_input": "2021-12-20T13:34:20.581642Z",
     "iopub.status.busy": "2021-12-20T13:34:20.581102Z",
     "iopub.status.idle": "2021-12-20T13:34:20.691433Z",
     "shell.execute_reply": "2021-12-20T13:34:20.690822Z",
     "shell.execute_reply.started": "2021-12-20T13:25:32.222327Z"
    },
    "papermill": {
     "duration": 0.172025,
     "end_time": "2021-12-20T13:34:20.691562",
     "exception": false,
     "start_time": "2021-12-20T13:34:20.519537",
     "status": "completed"
    },
    "tags": []
   },
   "outputs": [],
   "source": [
    "from sklearn.preprocessing import RobustScaler, StandardScaler, MinMaxScaler"
   ]
  },
  {
   "cell_type": "code",
   "execution_count": 5,
   "id": "a04e41a6",
   "metadata": {
    "execution": {
     "iopub.execute_input": "2021-12-20T13:34:20.816561Z",
     "iopub.status.busy": "2021-12-20T13:34:20.815997Z",
     "iopub.status.idle": "2021-12-20T13:34:20.819033Z",
     "shell.execute_reply": "2021-12-20T13:34:20.818485Z",
     "shell.execute_reply.started": "2021-12-20T13:25:34.213307Z"
    },
    "papermill": {
     "duration": 0.068135,
     "end_time": "2021-12-20T13:34:20.819190",
     "exception": false,
     "start_time": "2021-12-20T13:34:20.751055",
     "status": "completed"
    },
    "tags": []
   },
   "outputs": [],
   "source": [
    "from datetime import datetime"
   ]
  },
  {
   "cell_type": "code",
   "execution_count": 6,
   "id": "8e5a1513",
   "metadata": {
    "execution": {
     "iopub.execute_input": "2021-12-20T13:34:20.949609Z",
     "iopub.status.busy": "2021-12-20T13:34:20.948559Z",
     "iopub.status.idle": "2021-12-20T13:34:20.950620Z",
     "shell.execute_reply": "2021-12-20T13:34:20.951122Z",
     "shell.execute_reply.started": "2021-12-20T13:25:38.420503Z"
    },
    "papermill": {
     "duration": 0.071899,
     "end_time": "2021-12-20T13:34:20.951292",
     "exception": false,
     "start_time": "2021-12-20T13:34:20.879393",
     "status": "completed"
    },
    "tags": []
   },
   "outputs": [],
   "source": [
    "# Функция для поиска выбросов в данных методом IQR\n",
    "def IQR_outliers(i):\n",
    "    Q1=data[i].quantile(0.25)\n",
    "    Q3=data[i].quantile(0.75)\n",
    "    IQR=Q3-Q1\n",
    "    low=Q1-1.5*IQR\n",
    "    high=Q3+1.5*IQR\n",
    "    return (low,high)"
   ]
  },
  {
   "cell_type": "code",
   "execution_count": 7,
   "id": "864d53c9",
   "metadata": {
    "execution": {
     "iopub.execute_input": "2021-12-20T13:34:21.103564Z",
     "iopub.status.busy": "2021-12-20T13:34:21.102541Z",
     "iopub.status.idle": "2021-12-20T13:34:21.414121Z",
     "shell.execute_reply": "2021-12-20T13:34:21.415083Z",
     "shell.execute_reply.started": "2021-12-20T13:25:40.814202Z"
    },
    "papermill": {
     "duration": 0.395667,
     "end_time": "2021-12-20T13:34:21.415260",
     "exception": false,
     "start_time": "2021-12-20T13:34:21.019593",
     "status": "completed"
    },
    "tags": []
   },
   "outputs": [],
   "source": [
    "# Загружаем данные\n",
    "# DATA_DIR = '/kaggle/input/sf-scoring/'\n",
    "df_train = pd.read_csv('train.csv')\n",
    "df_test = pd.read_csv('test.csv')\n",
    "sample_submission = pd.read_csv('sample_submission.csv')"
   ]
  },
  {
   "cell_type": "code",
   "execution_count": 8,
   "id": "14cdeb06",
   "metadata": {
    "execution": {
     "iopub.execute_input": "2021-12-20T13:34:21.540441Z",
     "iopub.status.busy": "2021-12-20T13:34:21.539396Z",
     "iopub.status.idle": "2021-12-20T13:34:21.547083Z",
     "shell.execute_reply": "2021-12-20T13:34:21.547601Z",
     "shell.execute_reply.started": "2021-12-20T08:40:13.339984Z"
    },
    "papermill": {
     "duration": 0.071844,
     "end_time": "2021-12-20T13:34:21.547793",
     "exception": false,
     "start_time": "2021-12-20T13:34:21.475949",
     "status": "completed"
    },
    "tags": []
   },
   "outputs": [
    {
     "data": {
      "text/plain": [
       "(36349, 2)"
      ]
     },
     "execution_count": 8,
     "metadata": {},
     "output_type": "execute_result"
    }
   ],
   "source": [
    "sample_submission.shape"
   ]
  },
  {
   "cell_type": "code",
   "execution_count": 9,
   "id": "63f38b1a",
   "metadata": {
    "execution": {
     "iopub.execute_input": "2021-12-20T13:34:21.674067Z",
     "iopub.status.busy": "2021-12-20T13:34:21.673146Z",
     "iopub.status.idle": "2021-12-20T13:34:21.678234Z",
     "shell.execute_reply": "2021-12-20T13:34:21.678839Z",
     "shell.execute_reply.started": "2021-12-20T08:40:18.236916Z"
    },
    "papermill": {
     "duration": 0.068711,
     "end_time": "2021-12-20T13:34:21.679006",
     "exception": false,
     "start_time": "2021-12-20T13:34:21.610295",
     "status": "completed"
    },
    "tags": []
   },
   "outputs": [
    {
     "data": {
      "text/plain": [
       "(36349, 18)"
      ]
     },
     "execution_count": 9,
     "metadata": {},
     "output_type": "execute_result"
    }
   ],
   "source": [
    "df_test.shape"
   ]
  },
  {
   "cell_type": "code",
   "execution_count": 10,
   "id": "f2b71851",
   "metadata": {
    "execution": {
     "iopub.execute_input": "2021-12-20T13:34:21.809278Z",
     "iopub.status.busy": "2021-12-20T13:34:21.808623Z",
     "iopub.status.idle": "2021-12-20T13:34:21.852949Z",
     "shell.execute_reply": "2021-12-20T13:34:21.852036Z",
     "shell.execute_reply.started": "2021-12-20T08:40:20.302471Z"
    },
    "papermill": {
     "duration": 0.112571,
     "end_time": "2021-12-20T13:34:21.853136",
     "exception": false,
     "start_time": "2021-12-20T13:34:21.740565",
     "status": "completed"
    },
    "tags": []
   },
   "outputs": [
    {
     "name": "stdout",
     "output_type": "stream",
     "text": [
      "<class 'pandas.core.frame.DataFrame'>\n",
      "RangeIndex: 73799 entries, 0 to 73798\n",
      "Data columns (total 19 columns):\n",
      " #   Column            Non-Null Count  Dtype  \n",
      "---  ------            --------------  -----  \n",
      " 0   client_id         73799 non-null  int64  \n",
      " 1   app_date          73799 non-null  object \n",
      " 2   education         73492 non-null  object \n",
      " 3   sex               73799 non-null  object \n",
      " 4   age               73799 non-null  int64  \n",
      " 5   car               73799 non-null  object \n",
      " 6   car_type          73799 non-null  object \n",
      " 7   decline_app_cnt   73799 non-null  int64  \n",
      " 8   good_work         73799 non-null  int64  \n",
      " 9   score_bki         73799 non-null  float64\n",
      " 10  bki_request_cnt   73799 non-null  int64  \n",
      " 11  region_rating     73799 non-null  int64  \n",
      " 12  home_address      73799 non-null  int64  \n",
      " 13  work_address      73799 non-null  int64  \n",
      " 14  income            73799 non-null  int64  \n",
      " 15  sna               73799 non-null  int64  \n",
      " 16  first_time        73799 non-null  int64  \n",
      " 17  foreign_passport  73799 non-null  object \n",
      " 18  default           73799 non-null  int64  \n",
      "dtypes: float64(1), int64(12), object(6)\n",
      "memory usage: 10.7+ MB\n"
     ]
    }
   ],
   "source": [
    "df_train.info()"
   ]
  },
  {
   "cell_type": "code",
   "execution_count": 11,
   "id": "8efc4a5f",
   "metadata": {
    "execution": {
     "iopub.execute_input": "2021-12-20T13:34:21.979514Z",
     "iopub.status.busy": "2021-12-20T13:34:21.978958Z",
     "iopub.status.idle": "2021-12-20T13:34:21.997176Z",
     "shell.execute_reply": "2021-12-20T13:34:21.997724Z",
     "shell.execute_reply.started": "2021-12-20T08:40:26.734114Z"
    },
    "papermill": {
     "duration": 0.081829,
     "end_time": "2021-12-20T13:34:21.997891",
     "exception": false,
     "start_time": "2021-12-20T13:34:21.916062",
     "status": "completed"
    },
    "tags": []
   },
   "outputs": [
    {
     "data": {
      "text/html": [
       "<div>\n",
       "<style scoped>\n",
       "    .dataframe tbody tr th:only-of-type {\n",
       "        vertical-align: middle;\n",
       "    }\n",
       "\n",
       "    .dataframe tbody tr th {\n",
       "        vertical-align: top;\n",
       "    }\n",
       "\n",
       "    .dataframe thead th {\n",
       "        text-align: right;\n",
       "    }\n",
       "</style>\n",
       "<table border=\"1\" class=\"dataframe\">\n",
       "  <thead>\n",
       "    <tr style=\"text-align: right;\">\n",
       "      <th></th>\n",
       "      <th>client_id</th>\n",
       "      <th>app_date</th>\n",
       "      <th>education</th>\n",
       "      <th>sex</th>\n",
       "      <th>age</th>\n",
       "      <th>car</th>\n",
       "      <th>car_type</th>\n",
       "      <th>decline_app_cnt</th>\n",
       "      <th>good_work</th>\n",
       "      <th>score_bki</th>\n",
       "      <th>bki_request_cnt</th>\n",
       "      <th>region_rating</th>\n",
       "      <th>home_address</th>\n",
       "      <th>work_address</th>\n",
       "      <th>income</th>\n",
       "      <th>sna</th>\n",
       "      <th>first_time</th>\n",
       "      <th>foreign_passport</th>\n",
       "      <th>default</th>\n",
       "    </tr>\n",
       "  </thead>\n",
       "  <tbody>\n",
       "    <tr>\n",
       "      <th>0</th>\n",
       "      <td>25905</td>\n",
       "      <td>01FEB2014</td>\n",
       "      <td>SCH</td>\n",
       "      <td>M</td>\n",
       "      <td>62</td>\n",
       "      <td>Y</td>\n",
       "      <td>Y</td>\n",
       "      <td>0</td>\n",
       "      <td>0</td>\n",
       "      <td>-2.008753</td>\n",
       "      <td>1</td>\n",
       "      <td>50</td>\n",
       "      <td>1</td>\n",
       "      <td>2</td>\n",
       "      <td>18000</td>\n",
       "      <td>4</td>\n",
       "      <td>1</td>\n",
       "      <td>N</td>\n",
       "      <td>0</td>\n",
       "    </tr>\n",
       "    <tr>\n",
       "      <th>1</th>\n",
       "      <td>63161</td>\n",
       "      <td>12MAR2014</td>\n",
       "      <td>SCH</td>\n",
       "      <td>F</td>\n",
       "      <td>59</td>\n",
       "      <td>N</td>\n",
       "      <td>N</td>\n",
       "      <td>0</td>\n",
       "      <td>0</td>\n",
       "      <td>-1.532276</td>\n",
       "      <td>3</td>\n",
       "      <td>50</td>\n",
       "      <td>2</td>\n",
       "      <td>3</td>\n",
       "      <td>19000</td>\n",
       "      <td>4</td>\n",
       "      <td>1</td>\n",
       "      <td>N</td>\n",
       "      <td>0</td>\n",
       "    </tr>\n",
       "    <tr>\n",
       "      <th>2</th>\n",
       "      <td>25887</td>\n",
       "      <td>01FEB2014</td>\n",
       "      <td>SCH</td>\n",
       "      <td>M</td>\n",
       "      <td>25</td>\n",
       "      <td>Y</td>\n",
       "      <td>N</td>\n",
       "      <td>2</td>\n",
       "      <td>0</td>\n",
       "      <td>-1.408142</td>\n",
       "      <td>1</td>\n",
       "      <td>80</td>\n",
       "      <td>1</td>\n",
       "      <td>2</td>\n",
       "      <td>30000</td>\n",
       "      <td>1</td>\n",
       "      <td>4</td>\n",
       "      <td>Y</td>\n",
       "      <td>0</td>\n",
       "    </tr>\n",
       "    <tr>\n",
       "      <th>3</th>\n",
       "      <td>16222</td>\n",
       "      <td>23JAN2014</td>\n",
       "      <td>SCH</td>\n",
       "      <td>F</td>\n",
       "      <td>53</td>\n",
       "      <td>N</td>\n",
       "      <td>N</td>\n",
       "      <td>0</td>\n",
       "      <td>0</td>\n",
       "      <td>-2.057471</td>\n",
       "      <td>2</td>\n",
       "      <td>50</td>\n",
       "      <td>2</td>\n",
       "      <td>3</td>\n",
       "      <td>10000</td>\n",
       "      <td>1</td>\n",
       "      <td>3</td>\n",
       "      <td>N</td>\n",
       "      <td>0</td>\n",
       "    </tr>\n",
       "    <tr>\n",
       "      <th>4</th>\n",
       "      <td>101655</td>\n",
       "      <td>18APR2014</td>\n",
       "      <td>GRD</td>\n",
       "      <td>M</td>\n",
       "      <td>48</td>\n",
       "      <td>N</td>\n",
       "      <td>N</td>\n",
       "      <td>0</td>\n",
       "      <td>1</td>\n",
       "      <td>-1.244723</td>\n",
       "      <td>1</td>\n",
       "      <td>60</td>\n",
       "      <td>2</td>\n",
       "      <td>3</td>\n",
       "      <td>30000</td>\n",
       "      <td>1</td>\n",
       "      <td>4</td>\n",
       "      <td>Y</td>\n",
       "      <td>0</td>\n",
       "    </tr>\n",
       "  </tbody>\n",
       "</table>\n",
       "</div>"
      ],
      "text/plain": [
       "   client_id   app_date education sex  age car car_type  decline_app_cnt  \\\n",
       "0      25905  01FEB2014       SCH   M   62   Y        Y                0   \n",
       "1      63161  12MAR2014       SCH   F   59   N        N                0   \n",
       "2      25887  01FEB2014       SCH   M   25   Y        N                2   \n",
       "3      16222  23JAN2014       SCH   F   53   N        N                0   \n",
       "4     101655  18APR2014       GRD   M   48   N        N                0   \n",
       "\n",
       "   good_work  score_bki  bki_request_cnt  region_rating  home_address  \\\n",
       "0          0  -2.008753                1             50             1   \n",
       "1          0  -1.532276                3             50             2   \n",
       "2          0  -1.408142                1             80             1   \n",
       "3          0  -2.057471                2             50             2   \n",
       "4          1  -1.244723                1             60             2   \n",
       "\n",
       "   work_address  income  sna  first_time foreign_passport  default  \n",
       "0             2   18000    4           1                N        0  \n",
       "1             3   19000    4           1                N        0  \n",
       "2             2   30000    1           4                Y        0  \n",
       "3             3   10000    1           3                N        0  \n",
       "4             3   30000    1           4                Y        0  "
      ]
     },
     "execution_count": 11,
     "metadata": {},
     "output_type": "execute_result"
    }
   ],
   "source": [
    "df_train.head(5)"
   ]
  },
  {
   "cell_type": "code",
   "execution_count": 12,
   "id": "6b2cf0ee",
   "metadata": {
    "execution": {
     "iopub.execute_input": "2021-12-20T13:34:22.126648Z",
     "iopub.status.busy": "2021-12-20T13:34:22.124779Z",
     "iopub.status.idle": "2021-12-20T13:34:22.147774Z",
     "shell.execute_reply": "2021-12-20T13:34:22.148202Z",
     "shell.execute_reply.started": "2021-12-20T08:40:30.139592Z"
    },
    "papermill": {
     "duration": 0.088578,
     "end_time": "2021-12-20T13:34:22.148374",
     "exception": false,
     "start_time": "2021-12-20T13:34:22.059796",
     "status": "completed"
    },
    "tags": []
   },
   "outputs": [
    {
     "name": "stdout",
     "output_type": "stream",
     "text": [
      "<class 'pandas.core.frame.DataFrame'>\n",
      "RangeIndex: 36349 entries, 0 to 36348\n",
      "Data columns (total 18 columns):\n",
      " #   Column            Non-Null Count  Dtype  \n",
      "---  ------            --------------  -----  \n",
      " 0   client_id         36349 non-null  int64  \n",
      " 1   app_date          36349 non-null  object \n",
      " 2   education         36178 non-null  object \n",
      " 3   sex               36349 non-null  object \n",
      " 4   age               36349 non-null  int64  \n",
      " 5   car               36349 non-null  object \n",
      " 6   car_type          36349 non-null  object \n",
      " 7   decline_app_cnt   36349 non-null  int64  \n",
      " 8   good_work         36349 non-null  int64  \n",
      " 9   score_bki         36349 non-null  float64\n",
      " 10  bki_request_cnt   36349 non-null  int64  \n",
      " 11  region_rating     36349 non-null  int64  \n",
      " 12  home_address      36349 non-null  int64  \n",
      " 13  work_address      36349 non-null  int64  \n",
      " 14  income            36349 non-null  int64  \n",
      " 15  sna               36349 non-null  int64  \n",
      " 16  first_time        36349 non-null  int64  \n",
      " 17  foreign_passport  36349 non-null  object \n",
      "dtypes: float64(1), int64(11), object(6)\n",
      "memory usage: 5.0+ MB\n"
     ]
    }
   ],
   "source": [
    "df_test.info()"
   ]
  },
  {
   "cell_type": "code",
   "execution_count": 13,
   "id": "cef97e18",
   "metadata": {
    "execution": {
     "iopub.execute_input": "2021-12-20T13:34:22.279325Z",
     "iopub.status.busy": "2021-12-20T13:34:22.278537Z",
     "iopub.status.idle": "2021-12-20T13:34:22.282328Z",
     "shell.execute_reply": "2021-12-20T13:34:22.281855Z",
     "shell.execute_reply.started": "2021-12-20T08:40:34.196507Z"
    },
    "papermill": {
     "duration": 0.072654,
     "end_time": "2021-12-20T13:34:22.282458",
     "exception": false,
     "start_time": "2021-12-20T13:34:22.209804",
     "status": "completed"
    },
    "tags": []
   },
   "outputs": [
    {
     "data": {
      "text/html": [
       "<div>\n",
       "<style scoped>\n",
       "    .dataframe tbody tr th:only-of-type {\n",
       "        vertical-align: middle;\n",
       "    }\n",
       "\n",
       "    .dataframe tbody tr th {\n",
       "        vertical-align: top;\n",
       "    }\n",
       "\n",
       "    .dataframe thead th {\n",
       "        text-align: right;\n",
       "    }\n",
       "</style>\n",
       "<table border=\"1\" class=\"dataframe\">\n",
       "  <thead>\n",
       "    <tr style=\"text-align: right;\">\n",
       "      <th></th>\n",
       "      <th>client_id</th>\n",
       "      <th>default</th>\n",
       "    </tr>\n",
       "  </thead>\n",
       "  <tbody>\n",
       "    <tr>\n",
       "      <th>0</th>\n",
       "      <td>74835</td>\n",
       "      <td>0</td>\n",
       "    </tr>\n",
       "    <tr>\n",
       "      <th>1</th>\n",
       "      <td>17527</td>\n",
       "      <td>0</td>\n",
       "    </tr>\n",
       "    <tr>\n",
       "      <th>2</th>\n",
       "      <td>75683</td>\n",
       "      <td>0</td>\n",
       "    </tr>\n",
       "    <tr>\n",
       "      <th>3</th>\n",
       "      <td>26883</td>\n",
       "      <td>0</td>\n",
       "    </tr>\n",
       "    <tr>\n",
       "      <th>4</th>\n",
       "      <td>28862</td>\n",
       "      <td>0</td>\n",
       "    </tr>\n",
       "  </tbody>\n",
       "</table>\n",
       "</div>"
      ],
      "text/plain": [
       "   client_id  default\n",
       "0      74835        0\n",
       "1      17527        0\n",
       "2      75683        0\n",
       "3      26883        0\n",
       "4      28862        0"
      ]
     },
     "execution_count": 13,
     "metadata": {},
     "output_type": "execute_result"
    }
   ],
   "source": [
    "sample_submission.head(5)"
   ]
  },
  {
   "cell_type": "code",
   "execution_count": 14,
   "id": "bba4441d",
   "metadata": {
    "execution": {
     "iopub.execute_input": "2021-12-20T13:34:22.410036Z",
     "iopub.status.busy": "2021-12-20T13:34:22.409391Z",
     "iopub.status.idle": "2021-12-20T13:34:22.418754Z",
     "shell.execute_reply": "2021-12-20T13:34:22.419216Z",
     "shell.execute_reply.started": "2021-12-20T08:40:39.215830Z"
    },
    "papermill": {
     "duration": 0.074173,
     "end_time": "2021-12-20T13:34:22.419375",
     "exception": false,
     "start_time": "2021-12-20T13:34:22.345202",
     "status": "completed"
    },
    "tags": []
   },
   "outputs": [
    {
     "name": "stdout",
     "output_type": "stream",
     "text": [
      "<class 'pandas.core.frame.DataFrame'>\n",
      "RangeIndex: 36349 entries, 0 to 36348\n",
      "Data columns (total 2 columns):\n",
      " #   Column     Non-Null Count  Dtype\n",
      "---  ------     --------------  -----\n",
      " 0   client_id  36349 non-null  int64\n",
      " 1   default    36349 non-null  int64\n",
      "dtypes: int64(2)\n",
      "memory usage: 568.1 KB\n"
     ]
    }
   ],
   "source": [
    "sample_submission.info()"
   ]
  },
  {
   "cell_type": "markdown",
   "id": "6334774e",
   "metadata": {
    "papermill": {
     "duration": 0.062005,
     "end_time": "2021-12-20T13:34:22.544764",
     "exception": false,
     "start_time": "2021-12-20T13:34:22.482759",
     "status": "completed"
    },
    "tags": []
   },
   "source": [
    "**Разведывательный анализ данных (EDA)**"
   ]
  },
  {
   "cell_type": "code",
   "execution_count": 15,
   "id": "87485658",
   "metadata": {
    "execution": {
     "iopub.execute_input": "2021-12-20T13:34:22.673107Z",
     "iopub.status.busy": "2021-12-20T13:34:22.672496Z",
     "iopub.status.idle": "2021-12-20T13:34:22.744741Z",
     "shell.execute_reply": "2021-12-20T13:34:22.745221Z",
     "shell.execute_reply.started": "2021-12-20T13:25:47.768147Z"
    },
    "papermill": {
     "duration": 0.138409,
     "end_time": "2021-12-20T13:34:22.745414",
     "exception": false,
     "start_time": "2021-12-20T13:34:22.607005",
     "status": "completed"
    },
    "tags": []
   },
   "outputs": [],
   "source": [
    "# ВАЖНО! для корректной обработки признаков объединяем трейн и тест в один датасет\n",
    "df_train['sample'] = 1 # помечаем где у нас трейн\n",
    "df_test['sample'] = 0  # помечаем где у нас тест\n",
    "df_test['default'] = 0 # в тесте у нас нет значения Rating, мы его должны предсказать, по этому пока просто заполняем нулями\n",
    "\n",
    "data = df_test.append(df_train, sort=False).reset_index(drop=True) # объединяем"
   ]
  },
  {
   "cell_type": "code",
   "execution_count": 16,
   "id": "005e827a",
   "metadata": {
    "execution": {
     "iopub.execute_input": "2021-12-20T13:34:22.878850Z",
     "iopub.status.busy": "2021-12-20T13:34:22.878132Z",
     "iopub.status.idle": "2021-12-20T13:34:22.923925Z",
     "shell.execute_reply": "2021-12-20T13:34:22.923298Z",
     "shell.execute_reply.started": "2021-12-20T08:40:47.839439Z"
    },
    "papermill": {
     "duration": 0.116488,
     "end_time": "2021-12-20T13:34:22.924070",
     "exception": false,
     "start_time": "2021-12-20T13:34:22.807582",
     "status": "completed"
    },
    "tags": []
   },
   "outputs": [
    {
     "name": "stdout",
     "output_type": "stream",
     "text": [
      "<class 'pandas.core.frame.DataFrame'>\n",
      "RangeIndex: 110148 entries, 0 to 110147\n",
      "Data columns (total 20 columns):\n",
      " #   Column            Non-Null Count   Dtype  \n",
      "---  ------            --------------   -----  \n",
      " 0   client_id         110148 non-null  int64  \n",
      " 1   app_date          110148 non-null  object \n",
      " 2   education         109670 non-null  object \n",
      " 3   sex               110148 non-null  object \n",
      " 4   age               110148 non-null  int64  \n",
      " 5   car               110148 non-null  object \n",
      " 6   car_type          110148 non-null  object \n",
      " 7   decline_app_cnt   110148 non-null  int64  \n",
      " 8   good_work         110148 non-null  int64  \n",
      " 9   score_bki         110148 non-null  float64\n",
      " 10  bki_request_cnt   110148 non-null  int64  \n",
      " 11  region_rating     110148 non-null  int64  \n",
      " 12  home_address      110148 non-null  int64  \n",
      " 13  work_address      110148 non-null  int64  \n",
      " 14  income            110148 non-null  int64  \n",
      " 15  sna               110148 non-null  int64  \n",
      " 16  first_time        110148 non-null  int64  \n",
      " 17  foreign_passport  110148 non-null  object \n",
      " 18  sample            110148 non-null  int64  \n",
      " 19  default           110148 non-null  int64  \n",
      "dtypes: float64(1), int64(13), object(6)\n",
      "memory usage: 16.8+ MB\n"
     ]
    }
   ],
   "source": [
    "# Пропуски есть только в колонке education\n",
    "data.info()"
   ]
  },
  {
   "cell_type": "code",
   "execution_count": 17,
   "id": "9a7e8dc3",
   "metadata": {
    "execution": {
     "iopub.execute_input": "2021-12-20T13:34:23.056839Z",
     "iopub.status.busy": "2021-12-20T13:34:23.056202Z",
     "iopub.status.idle": "2021-12-20T13:34:23.118497Z",
     "shell.execute_reply": "2021-12-20T13:34:23.118952Z",
     "shell.execute_reply.started": "2021-12-20T08:40:52.812796Z"
    },
    "papermill": {
     "duration": 0.12997,
     "end_time": "2021-12-20T13:34:23.119126",
     "exception": false,
     "start_time": "2021-12-20T13:34:22.989156",
     "status": "completed"
    },
    "tags": []
   },
   "outputs": [
    {
     "data": {
      "text/plain": [
       "client_id           110148\n",
       "app_date               120\n",
       "education                6\n",
       "sex                      2\n",
       "age                     52\n",
       "car                      2\n",
       "car_type                 2\n",
       "decline_app_cnt         24\n",
       "good_work                2\n",
       "score_bki           102618\n",
       "bki_request_cnt         40\n",
       "region_rating            7\n",
       "home_address             3\n",
       "work_address             3\n",
       "income                1207\n",
       "sna                      4\n",
       "first_time               4\n",
       "foreign_passport         2\n",
       "sample                   2\n",
       "default                  2\n",
       "dtype: int64"
      ]
     },
     "execution_count": 17,
     "metadata": {},
     "output_type": "execute_result"
    }
   ],
   "source": [
    "# Видим, что в колонке client_id все значения уникальные\n",
    "data.nunique(dropna=False)"
   ]
  },
  {
   "cell_type": "markdown",
   "id": "1056a0ae",
   "metadata": {
    "papermill": {
     "duration": 0.062213,
     "end_time": "2021-12-20T13:34:23.245046",
     "exception": false,
     "start_time": "2021-12-20T13:34:23.182833",
     "status": "completed"
    },
    "tags": []
   },
   "source": [
    "**Обработка признаков**"
   ]
  },
  {
   "cell_type": "code",
   "execution_count": 18,
   "id": "97b14ac4",
   "metadata": {
    "execution": {
     "iopub.execute_input": "2021-12-20T13:34:23.375850Z",
     "iopub.status.busy": "2021-12-20T13:34:23.375204Z",
     "iopub.status.idle": "2021-12-20T13:34:24.247949Z",
     "shell.execute_reply": "2021-12-20T13:34:24.247377Z",
     "shell.execute_reply.started": "2021-12-20T13:25:55.226854Z"
    },
    "papermill": {
     "duration": 0.940216,
     "end_time": "2021-12-20T13:34:24.248109",
     "exception": false,
     "start_time": "2021-12-20T13:34:23.307893",
     "status": "completed"
    },
    "tags": []
   },
   "outputs": [],
   "source": [
    "# Переведем дату в формат datetime\n",
    "data['app_date']=data['app_date'].apply(lambda x: datetime.strptime(x,'%d%b%Y')) "
   ]
  },
  {
   "cell_type": "code",
   "execution_count": 19,
   "id": "d3aca82b",
   "metadata": {
    "execution": {
     "iopub.execute_input": "2021-12-20T13:34:24.377957Z",
     "iopub.status.busy": "2021-12-20T13:34:24.377217Z",
     "iopub.status.idle": "2021-12-20T13:34:26.418489Z",
     "shell.execute_reply": "2021-12-20T13:34:26.417623Z",
     "shell.execute_reply.started": "2021-12-20T13:25:58.099794Z"
    },
    "papermill": {
     "duration": 2.106584,
     "end_time": "2021-12-20T13:34:26.418724",
     "exception": false,
     "start_time": "2021-12-20T13:34:24.312140",
     "status": "completed"
    },
    "tags": []
   },
   "outputs": [],
   "source": [
    "# Извлечем из даты год, месяц и день\n",
    "data['app_year']=data['app_date'].apply(lambda x: x.year)\n",
    "data['app_month']=data['app_date'].apply(lambda x: x.month)\n",
    "data['app_day']=data['app_date'].apply(lambda x: x.day)\n",
    "data['app_day_of_week']=data['app_date'].apply(lambda x: x.weekday())"
   ]
  },
  {
   "cell_type": "code",
   "execution_count": 20,
   "id": "14b5da13",
   "metadata": {
    "execution": {
     "iopub.execute_input": "2021-12-20T13:34:26.556301Z",
     "iopub.status.busy": "2021-12-20T13:34:26.555355Z",
     "iopub.status.idle": "2021-12-20T13:34:27.460471Z",
     "shell.execute_reply": "2021-12-20T13:34:27.459883Z",
     "shell.execute_reply.started": "2021-12-20T13:26:01.614371Z"
    },
    "papermill": {
     "duration": 0.97083,
     "end_time": "2021-12-20T13:34:27.460608",
     "exception": false,
     "start_time": "2021-12-20T13:34:26.489778",
     "status": "completed"
    },
    "tags": []
   },
   "outputs": [],
   "source": [
    "# Введем колонку, содержащую количество дней от первой даты в датасете до даты подачи заявки \n",
    "data['timedelta']=data['app_date']-data['app_date'].min()\n",
    "data['timedelta']=data['timedelta'].apply(lambda x: x.days)"
   ]
  },
  {
   "cell_type": "code",
   "execution_count": 21,
   "id": "4b842e29",
   "metadata": {
    "execution": {
     "iopub.execute_input": "2021-12-20T13:34:27.591317Z",
     "iopub.status.busy": "2021-12-20T13:34:27.590611Z",
     "iopub.status.idle": "2021-12-20T13:34:27.621464Z",
     "shell.execute_reply": "2021-12-20T13:34:27.621996Z",
     "shell.execute_reply.started": "2021-12-20T13:26:05.170786Z"
    },
    "papermill": {
     "duration": 0.097917,
     "end_time": "2021-12-20T13:34:27.622205",
     "exception": false,
     "start_time": "2021-12-20T13:34:27.524288",
     "status": "completed"
    },
    "tags": []
   },
   "outputs": [],
   "source": [
    "# Создадим два словаря с количеством клиентов каждый день и количеством дефолтных клиентов в этот день\n",
    "number_of_clients=dict(data.groupby('app_date')['client_id'].count())\n",
    "dictionary_of_defaults=dict(data.groupby('app_date')['default'].value_counts()[:,1])"
   ]
  },
  {
   "cell_type": "code",
   "execution_count": 22,
   "id": "5c5eb797",
   "metadata": {
    "execution": {
     "iopub.execute_input": "2021-12-20T13:34:27.753073Z",
     "iopub.status.busy": "2021-12-20T13:34:27.752001Z",
     "iopub.status.idle": "2021-12-20T13:34:28.866442Z",
     "shell.execute_reply": "2021-12-20T13:34:28.866938Z",
     "shell.execute_reply.started": "2021-12-20T13:26:07.451020Z"
    },
    "papermill": {
     "duration": 1.181919,
     "end_time": "2021-12-20T13:34:28.867106",
     "exception": false,
     "start_time": "2021-12-20T13:34:27.685187",
     "status": "completed"
    },
    "tags": []
   },
   "outputs": [],
   "source": [
    "# Создадим две дополнительных колонки с количеством клиентов в день и количеством дефолтных клиентов в день\n",
    "data['number_of_clients']=data['app_date'].apply(lambda x: number_of_clients[x])\n",
    "data['number_of_default']=data['app_date'].apply(lambda x: dictionary_of_defaults[x])"
   ]
  },
  {
   "cell_type": "code",
   "execution_count": 23,
   "id": "a8b61b6f",
   "metadata": {
    "execution": {
     "iopub.execute_input": "2021-12-20T13:34:29.008120Z",
     "iopub.status.busy": "2021-12-20T13:34:29.007121Z",
     "iopub.status.idle": "2021-12-20T13:34:29.010354Z",
     "shell.execute_reply": "2021-12-20T13:34:29.010910Z",
     "shell.execute_reply.started": "2021-12-20T13:26:09.884147Z"
    },
    "papermill": {
     "duration": 0.078003,
     "end_time": "2021-12-20T13:34:29.011085",
     "exception": false,
     "start_time": "2021-12-20T13:34:28.933082",
     "status": "completed"
    },
    "tags": []
   },
   "outputs": [],
   "source": [
    "# Посчитаем процент дефолтных клиентов каждый день\n",
    "data['percent_of_default']=(data['number_of_default']/data['number_of_clients'])*100"
   ]
  },
  {
   "cell_type": "code",
   "execution_count": 24,
   "id": "003f6b9c",
   "metadata": {
    "execution": {
     "iopub.execute_input": "2021-12-20T13:34:29.141745Z",
     "iopub.status.busy": "2021-12-20T13:34:29.140818Z",
     "iopub.status.idle": "2021-12-20T13:34:29.172172Z",
     "shell.execute_reply": "2021-12-20T13:34:29.172688Z",
     "shell.execute_reply.started": "2021-12-20T13:26:12.744350Z"
    },
    "papermill": {
     "duration": 0.099086,
     "end_time": "2021-12-20T13:34:29.172861",
     "exception": false,
     "start_time": "2021-12-20T13:34:29.073775",
     "status": "completed"
    },
    "tags": []
   },
   "outputs": [],
   "source": [
    "# Год во всем датасете одинаковый (2014), удалим колонку \n",
    "data.drop(columns=['app_year'], inplace=True)"
   ]
  },
  {
   "cell_type": "code",
   "execution_count": 25,
   "id": "3f97a815",
   "metadata": {
    "execution": {
     "iopub.execute_input": "2021-12-20T13:34:29.302328Z",
     "iopub.status.busy": "2021-12-20T13:34:29.301386Z",
     "iopub.status.idle": "2021-12-20T13:34:29.343308Z",
     "shell.execute_reply": "2021-12-20T13:34:29.343837Z",
     "shell.execute_reply.started": "2021-12-20T08:42:28.940246Z"
    },
    "papermill": {
     "duration": 0.108394,
     "end_time": "2021-12-20T13:34:29.344012",
     "exception": false,
     "start_time": "2021-12-20T13:34:29.235618",
     "status": "completed"
    },
    "tags": []
   },
   "outputs": [
    {
     "name": "stdout",
     "output_type": "stream",
     "text": [
      "<class 'pandas.core.frame.DataFrame'>\n",
      "RangeIndex: 110148 entries, 0 to 110147\n",
      "Data columns (total 27 columns):\n",
      " #   Column              Non-Null Count   Dtype         \n",
      "---  ------              --------------   -----         \n",
      " 0   client_id           110148 non-null  int64         \n",
      " 1   app_date            110148 non-null  datetime64[ns]\n",
      " 2   education           109670 non-null  object        \n",
      " 3   sex                 110148 non-null  object        \n",
      " 4   age                 110148 non-null  int64         \n",
      " 5   car                 110148 non-null  object        \n",
      " 6   car_type            110148 non-null  object        \n",
      " 7   decline_app_cnt     110148 non-null  int64         \n",
      " 8   good_work           110148 non-null  int64         \n",
      " 9   score_bki           110148 non-null  float64       \n",
      " 10  bki_request_cnt     110148 non-null  int64         \n",
      " 11  region_rating       110148 non-null  int64         \n",
      " 12  home_address        110148 non-null  int64         \n",
      " 13  work_address        110148 non-null  int64         \n",
      " 14  income              110148 non-null  int64         \n",
      " 15  sna                 110148 non-null  int64         \n",
      " 16  first_time          110148 non-null  int64         \n",
      " 17  foreign_passport    110148 non-null  object        \n",
      " 18  sample              110148 non-null  int64         \n",
      " 19  default             110148 non-null  int64         \n",
      " 20  app_month           110148 non-null  int64         \n",
      " 21  app_day             110148 non-null  int64         \n",
      " 22  app_day_of_week     110148 non-null  int64         \n",
      " 23  timedelta           110148 non-null  int64         \n",
      " 24  number_of_clients   110148 non-null  int64         \n",
      " 25  number_of_default   110148 non-null  int64         \n",
      " 26  percent_of_default  110148 non-null  float64       \n",
      "dtypes: datetime64[ns](1), float64(2), int64(19), object(5)\n",
      "memory usage: 22.7+ MB\n"
     ]
    }
   ],
   "source": [
    "data.info()"
   ]
  },
  {
   "cell_type": "code",
   "execution_count": 26,
   "id": "144357fa",
   "metadata": {
    "execution": {
     "iopub.execute_input": "2021-12-20T13:34:29.475751Z",
     "iopub.status.busy": "2021-12-20T13:34:29.475092Z",
     "iopub.status.idle": "2021-12-20T13:34:29.477509Z",
     "shell.execute_reply": "2021-12-20T13:34:29.477951Z",
     "shell.execute_reply.started": "2021-12-20T13:26:16.556717Z"
    },
    "papermill": {
     "duration": 0.070664,
     "end_time": "2021-12-20T13:34:29.478123",
     "exception": false,
     "start_time": "2021-12-20T13:34:29.407459",
     "status": "completed"
    },
    "tags": []
   },
   "outputs": [],
   "source": [
    "# Разобьем признаки на непрерывные, категориальные и бинарные\n",
    "num_cols = ['age', 'score_bki', 'decline_app_cnt', 'bki_request_cnt', 'income','timedelta','number_of_clients','percent_of_default','number_of_default']\n",
    "cat_cols = ['education', 'first_time', 'sna', 'work_address', 'home_address', 'region_rating','app_day','app_month','app_day_of_week']\n",
    "bin_cols = ['sex', 'car', 'car_type', 'good_work', 'foreign_passport']"
   ]
  },
  {
   "cell_type": "code",
   "execution_count": 27,
   "id": "2b7c6447",
   "metadata": {
    "execution": {
     "iopub.execute_input": "2021-12-20T13:34:29.608290Z",
     "iopub.status.busy": "2021-12-20T13:34:29.607285Z",
     "iopub.status.idle": "2021-12-20T13:34:30.028099Z",
     "shell.execute_reply": "2021-12-20T13:34:30.027459Z",
     "shell.execute_reply.started": "2021-12-20T13:26:28.731575Z"
    },
    "papermill": {
     "duration": 0.487016,
     "end_time": "2021-12-20T13:34:30.028250",
     "exception": false,
     "start_time": "2021-12-20T13:34:29.541234",
     "status": "completed"
    },
    "tags": []
   },
   "outputs": [
    {
     "data": {
      "text/plain": [
       "<AxesSubplot:>"
      ]
     },
     "execution_count": 27,
     "metadata": {},
     "output_type": "execute_result"
    },
    {
     "data": {
      "image/png": "[encoded data removed]",
      "text/plain": [
       "<Figure size 432x288 with 2 Axes>"
      ]
     },
     "metadata": {
      "needs_background": "light"
     },
     "output_type": "display_data"
    }
   ],
   "source": [
    "# Построим тепловую карту матрицы корреляций непрерывных признаков. Интересно, что timedelta сильно \n",
    "# скореллировано с percent_of_default (коэффициент корреляции -0.62). \n",
    "# Это значит, что с течением времени падает число дефолтных клиентов\n",
    "# Признак number_of_clients сильно скоррелирован с number_of_default (0.87), а number_of_default сильно \n",
    "# скоррелирован с percent_of_default (0.52). Если использовать все эти признаки, качество модели \n",
    "# ухудшается. Можно было бы удалить некоторые из признаков, но вместо этого я использую метод главных\n",
    "# компонент (PCA).\n",
    "sns.heatmap(data[num_cols].corr().abs(), vmin=0, vmax=1)"
   ]
  },
  {
   "cell_type": "code",
   "execution_count": 28,
   "id": "88ff3a54",
   "metadata": {
    "execution": {
     "iopub.execute_input": "2021-12-20T13:34:30.162624Z",
     "iopub.status.busy": "2021-12-20T13:34:30.161611Z",
     "iopub.status.idle": "2021-12-20T13:34:30.173187Z",
     "shell.execute_reply": "2021-12-20T13:34:30.173692Z",
     "shell.execute_reply.started": "2021-12-20T13:26:41.293521Z"
    },
    "papermill": {
     "duration": 0.080794,
     "end_time": "2021-12-20T13:34:30.173879",
     "exception": false,
     "start_time": "2021-12-20T13:34:30.093085",
     "status": "completed"
    },
    "tags": []
   },
   "outputs": [],
   "source": [
    "# Строим матрицу корреляций признаков, для которых будем искать главные компоненты\n",
    "pca_columns=['number_of_clients','number_of_default','percent_of_default']\n",
    "correlation_matrix=data[pca_columns].corr().values"
   ]
  },
  {
   "cell_type": "code",
   "execution_count": 29,
   "id": "6d9d48c0",
   "metadata": {
    "execution": {
     "iopub.execute_input": "2021-12-20T13:34:30.305632Z",
     "iopub.status.busy": "2021-12-20T13:34:30.304750Z",
     "iopub.status.idle": "2021-12-20T13:34:30.323693Z",
     "shell.execute_reply": "2021-12-20T13:34:30.323067Z",
     "shell.execute_reply.started": "2021-12-20T13:26:43.710225Z"
    },
    "papermill": {
     "duration": 0.085629,
     "end_time": "2021-12-20T13:34:30.323838",
     "exception": false,
     "start_time": "2021-12-20T13:34:30.238209",
     "status": "completed"
    },
    "tags": []
   },
   "outputs": [
    {
     "data": {
      "text/plain": [
       "(array([2.03791266, 0.01055159, 0.95153575]),\n",
       " array([[-0.60441574, -0.6084903 , -0.514219  ],\n",
       "        [-0.6983878 ,  0.71526496, -0.0255051 ],\n",
       "        [-0.38332244, -0.34370859,  0.8572796 ]]))"
      ]
     },
     "execution_count": 29,
     "metadata": {},
     "output_type": "execute_result"
    }
   ],
   "source": [
    "# Находим собственные числа и собственные вектора\n",
    "B=np.linalg.eig(correlation_matrix)\n",
    "B"
   ]
  },
  {
   "cell_type": "code",
   "execution_count": 30,
   "id": "4bdb98ff",
   "metadata": {
    "execution": {
     "iopub.execute_input": "2021-12-20T13:34:30.459748Z",
     "iopub.status.busy": "2021-12-20T13:34:30.458612Z",
     "iopub.status.idle": "2021-12-20T13:34:30.491981Z",
     "shell.execute_reply": "2021-12-20T13:34:30.492834Z",
     "shell.execute_reply.started": "2021-12-20T13:26:48.214941Z"
    },
    "papermill": {
     "duration": 0.104832,
     "end_time": "2021-12-20T13:34:30.493101",
     "exception": false,
     "start_time": "2021-12-20T13:34:30.388269",
     "status": "completed"
    },
    "tags": []
   },
   "outputs": [],
   "source": [
    "# Центрируем и нормируем признаки\n",
    "mean_1=data['number_of_clients'].mean()\n",
    "len_1=np.linalg.norm(data['number_of_clients'])\n",
    "data['number_of_clients']=data['number_of_clients'] - mean_1\n",
    "data['number_of_clients']=data['number_of_clients']/len_1\n",
    "\n",
    "mean_2=data['number_of_default'].mean()\n",
    "len_2=np.linalg.norm(data['number_of_default'])\n",
    "data['number_of_default']=data['number_of_default'] - mean_2\n",
    "data['number_of_default']=data['number_of_default']/len_2\n",
    "\n",
    "mean_3=data['percent_of_default'].mean()\n",
    "len_3=np.linalg.norm(data['percent_of_default'])\n",
    "data['percent_of_default']=data['percent_of_default'] - mean_3\n",
    "data['percent_of_default']=data['percent_of_default']/len_3"
   ]
  },
  {
   "cell_type": "code",
   "execution_count": 31,
   "id": "8a7fa5f0",
   "metadata": {
    "execution": {
     "iopub.execute_input": "2021-12-20T13:34:30.684189Z",
     "iopub.status.busy": "2021-12-20T13:34:30.680158Z",
     "iopub.status.idle": "2021-12-20T13:34:30.687031Z",
     "shell.execute_reply": "2021-12-20T13:34:30.687481Z",
     "shell.execute_reply.started": "2021-12-20T13:26:51.969697Z"
    },
    "papermill": {
     "duration": 0.074608,
     "end_time": "2021-12-20T13:34:30.687643",
     "exception": false,
     "start_time": "2021-12-20T13:34:30.613035",
     "status": "completed"
    },
    "tags": []
   },
   "outputs": [],
   "source": [
    "# Создаем новый признак\n",
    "data['pca_component']=B[1][0][0]*data['number_of_clients']+B[1][1][0]*data['number_of_default']+B[1][2][0]*data['percent_of_default']"
   ]
  },
  {
   "cell_type": "code",
   "execution_count": 32,
   "id": "f743b526",
   "metadata": {
    "execution": {
     "iopub.execute_input": "2021-12-20T13:34:30.820290Z",
     "iopub.status.busy": "2021-12-20T13:34:30.819109Z",
     "iopub.status.idle": "2021-12-20T13:34:30.870865Z",
     "shell.execute_reply": "2021-12-20T13:34:30.871290Z",
     "shell.execute_reply.started": "2021-12-20T08:42:39.964140Z"
    },
    "papermill": {
     "duration": 0.119549,
     "end_time": "2021-12-20T13:34:30.871461",
     "exception": false,
     "start_time": "2021-12-20T13:34:30.751912",
     "status": "completed"
    },
    "tags": []
   },
   "outputs": [
    {
     "data": {
      "text/html": [
       "<div>\n",
       "<style scoped>\n",
       "    .dataframe tbody tr th:only-of-type {\n",
       "        vertical-align: middle;\n",
       "    }\n",
       "\n",
       "    .dataframe tbody tr th {\n",
       "        vertical-align: top;\n",
       "    }\n",
       "\n",
       "    .dataframe thead th {\n",
       "        text-align: right;\n",
       "    }\n",
       "</style>\n",
       "<table border=\"1\" class=\"dataframe\">\n",
       "  <thead>\n",
       "    <tr style=\"text-align: right;\">\n",
       "      <th></th>\n",
       "      <th>age</th>\n",
       "      <th>score_bki</th>\n",
       "      <th>decline_app_cnt</th>\n",
       "      <th>bki_request_cnt</th>\n",
       "      <th>income</th>\n",
       "      <th>timedelta</th>\n",
       "      <th>number_of_clients</th>\n",
       "      <th>percent_of_default</th>\n",
       "      <th>number_of_default</th>\n",
       "    </tr>\n",
       "  </thead>\n",
       "  <tbody>\n",
       "    <tr>\n",
       "      <th>age</th>\n",
       "      <td>1.000000</td>\n",
       "      <td>-0.104682</td>\n",
       "      <td>-0.111454</td>\n",
       "      <td>0.046975</td>\n",
       "      <td>-0.018664</td>\n",
       "      <td>0.015831</td>\n",
       "      <td>0.021770</td>\n",
       "      <td>-0.015065</td>\n",
       "      <td>0.012028</td>\n",
       "    </tr>\n",
       "    <tr>\n",
       "      <th>score_bki</th>\n",
       "      <td>-0.104682</td>\n",
       "      <td>1.000000</td>\n",
       "      <td>0.187869</td>\n",
       "      <td>0.157451</td>\n",
       "      <td>-0.011721</td>\n",
       "      <td>-0.061969</td>\n",
       "      <td>0.007276</td>\n",
       "      <td>0.054754</td>\n",
       "      <td>0.032542</td>\n",
       "    </tr>\n",
       "    <tr>\n",
       "      <th>decline_app_cnt</th>\n",
       "      <td>-0.111454</td>\n",
       "      <td>0.187869</td>\n",
       "      <td>1.000000</td>\n",
       "      <td>0.159927</td>\n",
       "      <td>-0.022241</td>\n",
       "      <td>-0.021489</td>\n",
       "      <td>-0.010496</td>\n",
       "      <td>0.021446</td>\n",
       "      <td>0.001368</td>\n",
       "    </tr>\n",
       "    <tr>\n",
       "      <th>bki_request_cnt</th>\n",
       "      <td>0.046975</td>\n",
       "      <td>0.157451</td>\n",
       "      <td>0.159927</td>\n",
       "      <td>1.000000</td>\n",
       "      <td>0.080475</td>\n",
       "      <td>-0.027610</td>\n",
       "      <td>-0.017937</td>\n",
       "      <td>0.020372</td>\n",
       "      <td>-0.006416</td>\n",
       "    </tr>\n",
       "    <tr>\n",
       "      <th>income</th>\n",
       "      <td>-0.018664</td>\n",
       "      <td>-0.011721</td>\n",
       "      <td>-0.022241</td>\n",
       "      <td>0.080475</td>\n",
       "      <td>1.000000</td>\n",
       "      <td>-0.002364</td>\n",
       "      <td>0.004909</td>\n",
       "      <td>0.000359</td>\n",
       "      <td>0.005008</td>\n",
       "    </tr>\n",
       "    <tr>\n",
       "      <th>timedelta</th>\n",
       "      <td>0.015831</td>\n",
       "      <td>-0.061969</td>\n",
       "      <td>-0.021489</td>\n",
       "      <td>-0.027610</td>\n",
       "      <td>-0.002364</td>\n",
       "      <td>1.000000</td>\n",
       "      <td>0.050080</td>\n",
       "      <td>-0.615494</td>\n",
       "      <td>-0.248608</td>\n",
       "    </tr>\n",
       "    <tr>\n",
       "      <th>number_of_clients</th>\n",
       "      <td>0.021770</td>\n",
       "      <td>0.007276</td>\n",
       "      <td>-0.010496</td>\n",
       "      <td>-0.017937</td>\n",
       "      <td>0.004909</td>\n",
       "      <td>0.050080</td>\n",
       "      <td>1.000000</td>\n",
       "      <td>0.054898</td>\n",
       "      <td>0.868124</td>\n",
       "    </tr>\n",
       "    <tr>\n",
       "      <th>percent_of_default</th>\n",
       "      <td>-0.015065</td>\n",
       "      <td>0.054754</td>\n",
       "      <td>0.021446</td>\n",
       "      <td>0.020372</td>\n",
       "      <td>0.000359</td>\n",
       "      <td>-0.615494</td>\n",
       "      <td>0.054898</td>\n",
       "      <td>1.000000</td>\n",
       "      <td>0.522166</td>\n",
       "    </tr>\n",
       "    <tr>\n",
       "      <th>number_of_default</th>\n",
       "      <td>0.012028</td>\n",
       "      <td>0.032542</td>\n",
       "      <td>0.001368</td>\n",
       "      <td>-0.006416</td>\n",
       "      <td>0.005008</td>\n",
       "      <td>-0.248608</td>\n",
       "      <td>0.868124</td>\n",
       "      <td>0.522166</td>\n",
       "      <td>1.000000</td>\n",
       "    </tr>\n",
       "  </tbody>\n",
       "</table>\n",
       "</div>"
      ],
      "text/plain": [
       "                         age  score_bki  decline_app_cnt  bki_request_cnt  \\\n",
       "age                 1.000000  -0.104682        -0.111454         0.046975   \n",
       "score_bki          -0.104682   1.000000         0.187869         0.157451   \n",
       "decline_app_cnt    -0.111454   0.187869         1.000000         0.159927   \n",
       "bki_request_cnt     0.046975   0.157451         0.159927         1.000000   \n",
       "income             -0.018664  -0.011721        -0.022241         0.080475   \n",
       "timedelta           0.015831  -0.061969        -0.021489        -0.027610   \n",
       "number_of_clients   0.021770   0.007276        -0.010496        -0.017937   \n",
       "percent_of_default -0.015065   0.054754         0.021446         0.020372   \n",
       "number_of_default   0.012028   0.032542         0.001368        -0.006416   \n",
       "\n",
       "                      income  timedelta  number_of_clients  \\\n",
       "age                -0.018664   0.015831           0.021770   \n",
       "score_bki          -0.011721  -0.061969           0.007276   \n",
       "decline_app_cnt    -0.022241  -0.021489          -0.010496   \n",
       "bki_request_cnt     0.080475  -0.027610          -0.017937   \n",
       "income              1.000000  -0.002364           0.004909   \n",
       "timedelta          -0.002364   1.000000           0.050080   \n",
       "number_of_clients   0.004909   0.050080           1.000000   \n",
       "percent_of_default  0.000359  -0.615494           0.054898   \n",
       "number_of_default   0.005008  -0.248608           0.868124   \n",
       "\n",
       "                    percent_of_default  number_of_default  \n",
       "age                          -0.015065           0.012028  \n",
       "score_bki                     0.054754           0.032542  \n",
       "decline_app_cnt               0.021446           0.001368  \n",
       "bki_request_cnt               0.020372          -0.006416  \n",
       "income                        0.000359           0.005008  \n",
       "timedelta                    -0.615494          -0.248608  \n",
       "number_of_clients             0.054898           0.868124  \n",
       "percent_of_default            1.000000           0.522166  \n",
       "number_of_default             0.522166           1.000000  "
      ]
     },
     "execution_count": 32,
     "metadata": {},
     "output_type": "execute_result"
    }
   ],
   "source": [
    "data[num_cols].corr()"
   ]
  },
  {
   "cell_type": "code",
   "execution_count": 33,
   "id": "9de919bf",
   "metadata": {
    "execution": {
     "iopub.execute_input": "2021-12-20T13:34:31.015830Z",
     "iopub.status.busy": "2021-12-20T13:34:31.015112Z",
     "iopub.status.idle": "2021-12-20T13:34:31.021621Z",
     "shell.execute_reply": "2021-12-20T13:34:31.022277Z",
     "shell.execute_reply.started": "2021-12-20T13:26:56.206531Z"
    },
    "papermill": {
     "duration": 0.082613,
     "end_time": "2021-12-20T13:34:31.022456",
     "exception": false,
     "start_time": "2021-12-20T13:34:30.939843",
     "status": "completed"
    },
    "tags": []
   },
   "outputs": [],
   "source": [
    "# Удаляем старые признаки\n",
    "data.drop(columns=['percent_of_default','number_of_default','number_of_clients'],axis=1,inplace=True)"
   ]
  },
  {
   "cell_type": "code",
   "execution_count": null,
   "id": "5adf3736",
   "metadata": {
    "papermill": {
     "duration": 0.06644,
     "end_time": "2021-12-20T13:34:31.155304",
     "exception": false,
     "start_time": "2021-12-20T13:34:31.088864",
     "status": "completed"
    },
    "tags": []
   },
   "outputs": [],
   "source": []
  },
  {
   "cell_type": "code",
   "execution_count": 34,
   "id": "fca9b22a",
   "metadata": {
    "execution": {
     "iopub.execute_input": "2021-12-20T13:34:31.292136Z",
     "iopub.status.busy": "2021-12-20T13:34:31.291373Z",
     "iopub.status.idle": "2021-12-20T13:34:33.160247Z",
     "shell.execute_reply": "2021-12-20T13:34:33.160726Z",
     "shell.execute_reply.started": "2021-12-20T13:27:05.098700Z"
    },
    "papermill": {
     "duration": 1.940102,
     "end_time": "2021-12-20T13:34:33.160909",
     "exception": false,
     "start_time": "2021-12-20T13:34:31.220807",
     "status": "completed"
    },
    "tags": []
   },
   "outputs": [
    {
     "name": "stderr",
     "output_type": "stream",
     "text": [
      "/opt/conda/lib/python3.7/site-packages/seaborn/distributions.py:2619: FutureWarning: `distplot` is a deprecated function and will be removed in a future version. Please adapt your code to use either `displot` (a figure-level function with similar flexibility) or `histplot` (an axes-level function for histograms).\n",
      "  warnings.warn(msg, FutureWarning)\n"
     ]
    },
    {
     "data": {
      "image/png": "[encoded data removed]",
      "text/plain": [
       "<Figure size 432x288 with 1 Axes>"
      ]
     },
     "metadata": {
      "needs_background": "light"
     },
     "output_type": "display_data"
    },
    {
     "data": {
      "image/png": "[encoded data removed]",
      "text/plain": [
       "<Figure size 432x288 with 1 Axes>"
      ]
     },
     "metadata": {
      "needs_background": "light"
     },
     "output_type": "display_data"
    },
    {
     "data": {
      "image/png": "[encoded data removed]",
      "text/plain": [
       "<Figure size 432x288 with 1 Axes>"
      ]
     },
     "metadata": {
      "needs_background": "light"
     },
     "output_type": "display_data"
    },
    {
     "data": {
      "image/png": "[encoded data removed]",
      "text/plain": [
       "<Figure size 432x288 with 1 Axes>"
      ]
     },
     "metadata": {
      "needs_background": "light"
     },
     "output_type": "display_data"
    },
    {
     "data": {
      "image/png": "[encoded data removed]",
      "text/plain": [
       "<Figure size 432x288 with 1 Axes>"
      ]
     },
     "metadata": {
      "needs_background": "light"
     },
     "output_type": "display_data"
    },
    {
     "data": {
      "image/png": "[encoded data removed]",
      "text/plain": [
       "<Figure size 432x288 with 1 Axes>"
      ]
     },
     "metadata": {
      "needs_background": "light"
     },
     "output_type": "display_data"
    },
    {
     "data": {
      "image/png": "[encoded data removed]",
      "text/plain": [
       "<Figure size 432x288 with 1 Axes>"
      ]
     },
     "metadata": {
      "needs_background": "light"
     },
     "output_type": "display_data"
    }
   ],
   "source": [
    "# Нарисуем графики непрерывных признаков\n",
    "for i in ['age','score_bki','decline_app_cnt','bki_request_cnt','income','pca_component','timedelta']:\n",
    "    plt.figure()\n",
    "    sns.distplot(data[i].dropna(), kde = False, rug=False)\n",
    "    plt.title(i)\n",
    "    plt.show()"
   ]
  },
  {
   "cell_type": "code",
   "execution_count": 35,
   "id": "f1ebc905",
   "metadata": {
    "execution": {
     "iopub.execute_input": "2021-12-20T13:34:33.304832Z",
     "iopub.status.busy": "2021-12-20T13:34:33.304173Z",
     "iopub.status.idle": "2021-12-20T13:34:33.825358Z",
     "shell.execute_reply": "2021-12-20T13:34:33.824776Z",
     "shell.execute_reply.started": "2021-12-20T13:27:11.055974Z"
    },
    "papermill": {
     "duration": 0.593921,
     "end_time": "2021-12-20T13:34:33.825497",
     "exception": false,
     "start_time": "2021-12-20T13:34:33.231576",
     "status": "completed"
    },
    "tags": []
   },
   "outputs": [],
   "source": [
    "# Прологарифмируем признаки, у которых \"тяжелый\" правый хвост\n",
    "data['decline_app_cnt']=data['decline_app_cnt'].apply(lambda x: np.log(x+1))\n",
    "data['bki_request_cnt']=data['bki_request_cnt'].apply(lambda x: np.log(x+1))\n",
    "data['income']=data['income'].apply(lambda x: np.log(x+1))"
   ]
  },
  {
   "cell_type": "code",
   "execution_count": 36,
   "id": "574a60ce",
   "metadata": {
    "execution": {
     "iopub.execute_input": "2021-12-20T13:34:33.971950Z",
     "iopub.status.busy": "2021-12-20T13:34:33.971266Z",
     "iopub.status.idle": "2021-12-20T13:34:33.974326Z",
     "shell.execute_reply": "2021-12-20T13:34:33.974853Z",
     "shell.execute_reply.started": "2021-12-20T08:44:08.588769Z"
    },
    "papermill": {
     "duration": 0.076189,
     "end_time": "2021-12-20T13:34:33.975035",
     "exception": false,
     "start_time": "2021-12-20T13:34:33.898846",
     "status": "completed"
    },
    "tags": []
   },
   "outputs": [],
   "source": [
    "from sklearn.preprocessing import PolynomialFeatures"
   ]
  },
  {
   "cell_type": "code",
   "execution_count": 37,
   "id": "c2b44229",
   "metadata": {
    "execution": {
     "iopub.execute_input": "2021-12-20T13:34:34.120299Z",
     "iopub.status.busy": "2021-12-20T13:34:34.119613Z",
     "iopub.status.idle": "2021-12-20T13:34:34.139019Z",
     "shell.execute_reply": "2021-12-20T13:34:34.139512Z",
     "shell.execute_reply.started": "2021-12-20T08:44:14.621832Z"
    },
    "papermill": {
     "duration": 0.094683,
     "end_time": "2021-12-20T13:34:34.139710",
     "exception": false,
     "start_time": "2021-12-20T13:34:34.045027",
     "status": "completed"
    },
    "tags": []
   },
   "outputs": [
    {
     "data": {
      "text/plain": [
       "(110148, 10)"
      ]
     },
     "execution_count": 37,
     "metadata": {},
     "output_type": "execute_result"
    }
   ],
   "source": [
    "# Попробуем добавить полиномиальные признаки\n",
    "pf=PolynomialFeatures(2)\n",
    "poly_features=pf.fit_transform(data[['age', 'decline_app_cnt', 'income']])\n",
    "poly_features.shape"
   ]
  },
  {
   "cell_type": "code",
   "execution_count": 38,
   "id": "bd14adc3",
   "metadata": {
    "execution": {
     "iopub.execute_input": "2021-12-20T13:34:34.286823Z",
     "iopub.status.busy": "2021-12-20T13:34:34.286166Z",
     "iopub.status.idle": "2021-12-20T13:34:34.288692Z",
     "shell.execute_reply": "2021-12-20T13:34:34.288212Z",
     "shell.execute_reply.started": "2021-12-19T08:41:01.360812Z"
    },
    "papermill": {
     "duration": 0.076357,
     "end_time": "2021-12-20T13:34:34.288837",
     "exception": false,
     "start_time": "2021-12-20T13:34:34.212480",
     "status": "completed"
    },
    "tags": []
   },
   "outputs": [],
   "source": [
    "# Работа модели показала, что добавление полиномиальных признаков ухудшает модель. \n",
    "# Поэтому я закомментировала этот кусок кода\n",
    "# index=data.index\n",
    "# right=pd.DataFrame(poly_features, columns=['1','2','3','4','5','6','7','8','9','10'], index=index)\n",
    "# data=data.join(right, how='inner')\n",
    "# data.drop(columns=['1','2','3','4'], inplace=True)"
   ]
  },
  {
   "cell_type": "code",
   "execution_count": 39,
   "id": "4e7bc8aa",
   "metadata": {
    "execution": {
     "iopub.execute_input": "2021-12-20T13:34:34.435708Z",
     "iopub.status.busy": "2021-12-20T13:34:34.434929Z",
     "iopub.status.idle": "2021-12-20T13:34:34.437888Z",
     "shell.execute_reply": "2021-12-20T13:34:34.437372Z",
     "shell.execute_reply.started": "2021-12-19T07:10:19.728122Z"
    },
    "papermill": {
     "duration": 0.078789,
     "end_time": "2021-12-20T13:34:34.438031",
     "exception": false,
     "start_time": "2021-12-20T13:34:34.359242",
     "status": "completed"
    },
    "tags": []
   },
   "outputs": [],
   "source": [
    "# Попробуем сделать Polynomial Features  вручную\n",
    "# Все эти полиномиальные признаки ухудшают модель, поэтому я закомментировала данный кусок кода.\n",
    "# data['n1']=data['decline_app_cnt']*data['bki_request_cnt']*data['score_bki']\n",
    "# data['n2']=data['decline_app_cnt']**2 + data['bki_request_cnt']*data['score_bki']\n",
    "# data['n3']=data['decline_app_cnt']*data['bki_request_cnt'] + data['score_bki']**2\n",
    "# data['n4']=data['decline_app_cnt']*data['score_bki'] + data['bki_request_cnt']**2\n",
    "# data['n5']=data['decline_app_cnt']**2 + data['score_bki']**2 + data['bki_request_cnt']**2\n",
    "\n",
    "# data['n6']=data['home_address']**2 - data['work_address']*data['region_rating']\n",
    "# data['n7']=data['region_rating']**2 - data['home_address']*data['work_address']\n",
    "# data['n8']=data['work_address']**2 - data['home_address']*data['region_rating']\n",
    "\n",
    "# data['n9']=data['sna']*data['first_time']\n",
    "# data['n10']=data['sna'] - data['first_time']\n",
    "\n",
    "\n",
    "# data['n11']=data['income']/data['region_rating']\n",
    "# data['n12']=data['timedelta']/data['first_time']"
   ]
  },
  {
   "cell_type": "code",
   "execution_count": 40,
   "id": "b8eacf7c",
   "metadata": {
    "execution": {
     "iopub.execute_input": "2021-12-20T13:34:34.586063Z",
     "iopub.status.busy": "2021-12-20T13:34:34.585407Z",
     "iopub.status.idle": "2021-12-20T13:34:34.626114Z",
     "shell.execute_reply": "2021-12-20T13:34:34.625544Z",
     "shell.execute_reply.started": "2021-12-20T08:44:21.108728Z"
    },
    "papermill": {
     "duration": 0.115558,
     "end_time": "2021-12-20T13:34:34.626252",
     "exception": false,
     "start_time": "2021-12-20T13:34:34.510694",
     "status": "completed"
    },
    "tags": []
   },
   "outputs": [
    {
     "name": "stdout",
     "output_type": "stream",
     "text": [
      "<class 'pandas.core.frame.DataFrame'>\n",
      "RangeIndex: 110148 entries, 0 to 110147\n",
      "Data columns (total 25 columns):\n",
      " #   Column            Non-Null Count   Dtype         \n",
      "---  ------            --------------   -----         \n",
      " 0   client_id         110148 non-null  int64         \n",
      " 1   app_date          110148 non-null  datetime64[ns]\n",
      " 2   education         109670 non-null  object        \n",
      " 3   sex               110148 non-null  object        \n",
      " 4   age               110148 non-null  int64         \n",
      " 5   car               110148 non-null  object        \n",
      " 6   car_type          110148 non-null  object        \n",
      " 7   decline_app_cnt   110148 non-null  float64       \n",
      " 8   good_work         110148 non-null  int64         \n",
      " 9   score_bki         110148 non-null  float64       \n",
      " 10  bki_request_cnt   110148 non-null  float64       \n",
      " 11  region_rating     110148 non-null  int64         \n",
      " 12  home_address      110148 non-null  int64         \n",
      " 13  work_address      110148 non-null  int64         \n",
      " 14  income            110148 non-null  float64       \n",
      " 15  sna               110148 non-null  int64         \n",
      " 16  first_time        110148 non-null  int64         \n",
      " 17  foreign_passport  110148 non-null  object        \n",
      " 18  sample            110148 non-null  int64         \n",
      " 19  default           110148 non-null  int64         \n",
      " 20  app_month         110148 non-null  int64         \n",
      " 21  app_day           110148 non-null  int64         \n",
      " 22  app_day_of_week   110148 non-null  int64         \n",
      " 23  timedelta         110148 non-null  int64         \n",
      " 24  pca_component     110148 non-null  float64       \n",
      "dtypes: datetime64[ns](1), float64(5), int64(14), object(5)\n",
      "memory usage: 21.0+ MB\n"
     ]
    }
   ],
   "source": [
    "data.info()"
   ]
  },
  {
   "cell_type": "code",
   "execution_count": 41,
   "id": "3b8a1139",
   "metadata": {
    "execution": {
     "iopub.execute_input": "2021-12-20T13:34:34.768922Z",
     "iopub.status.busy": "2021-12-20T13:34:34.768340Z",
     "iopub.status.idle": "2021-12-20T13:34:36.418371Z",
     "shell.execute_reply": "2021-12-20T13:34:36.417738Z",
     "shell.execute_reply.started": "2021-12-20T13:27:25.784779Z"
    },
    "papermill": {
     "duration": 1.722496,
     "end_time": "2021-12-20T13:34:36.418509",
     "exception": false,
     "start_time": "2021-12-20T13:34:34.696013",
     "status": "completed"
    },
    "tags": []
   },
   "outputs": [
    {
     "data": {
      "image/png": "[encoded data removed]",
      "text/plain": [
       "<Figure size 576x288 with 1 Axes>"
      ]
     },
     "metadata": {
      "needs_background": "light"
     },
     "output_type": "display_data"
    },
    {
     "data": {
      "image/png": "[encoded data removed]",
      "text/plain": [
       "<Figure size 576x288 with 1 Axes>"
      ]
     },
     "metadata": {
      "needs_background": "light"
     },
     "output_type": "display_data"
    },
    {
     "data": {
      "image/png": "[encoded data removed]",
      "text/plain": [
       "<Figure size 576x288 with 1 Axes>"
      ]
     },
     "metadata": {
      "needs_background": "light"
     },
     "output_type": "display_data"
    },
    {
     "data": {
      "image/png": "[encoded data removed]",
      "text/plain": [
       "<Figure size 576x288 with 1 Axes>"
      ]
     },
     "metadata": {
      "needs_background": "light"
     },
     "output_type": "display_data"
    },
    {
     "data": {
      "image/png": "[encoded data removed]",
      "text/plain": [
       "<Figure size 576x288 with 1 Axes>"
      ]
     },
     "metadata": {
      "needs_background": "light"
     },
     "output_type": "display_data"
    },
    {
     "data": {
      "image/png": "[encoded data removed]",
      "text/plain": [
       "<Figure size 576x288 with 1 Axes>"
      ]
     },
     "metadata": {
      "needs_background": "light"
     },
     "output_type": "display_data"
    }
   ],
   "source": [
    "# Нарисуем boxplot для непрерывных переменных (отдельно для дефолтных и для недефолтных клиентов)\n",
    "for i in ['age','decline_app_cnt','bki_request_cnt','income', 'score_bki','pca_component']:\n",
    "    fig, ax = plt.subplots(figsize = (8, 4))\n",
    "    box_plot1 = sns.boxplot(x=data[\"default\"], y=data[i], data=data,ax=ax)"
   ]
  },
  {
   "cell_type": "code",
   "execution_count": 42,
   "id": "127c4e07",
   "metadata": {
    "execution": {
     "iopub.execute_input": "2021-12-20T13:34:36.590932Z",
     "iopub.status.busy": "2021-12-20T13:34:36.588350Z",
     "iopub.status.idle": "2021-12-20T13:34:37.754146Z",
     "shell.execute_reply": "2021-12-20T13:34:37.754584Z",
     "shell.execute_reply.started": "2021-12-20T13:27:31.911167Z"
    },
    "papermill": {
     "duration": 1.262567,
     "end_time": "2021-12-20T13:34:37.754824",
     "exception": false,
     "start_time": "2021-12-20T13:34:36.492257",
     "status": "completed"
    },
    "tags": []
   },
   "outputs": [
    {
     "data": {
      "image/png": "[encoded data removed]",
      "text/plain": [
       "<Figure size 576x288 with 1 Axes>"
      ]
     },
     "metadata": {
      "needs_background": "light"
     },
     "output_type": "display_data"
    },
    {
     "data": {
      "image/png": "[encoded data removed]",
      "text/plain": [
       "<Figure size 576x288 with 1 Axes>"
      ]
     },
     "metadata": {
      "needs_background": "light"
     },
     "output_type": "display_data"
    },
    {
     "data": {
      "image/png": "[encoded data removed]",
      "text/plain": [
       "<Figure size 576x288 with 1 Axes>"
      ]
     },
     "metadata": {
      "needs_background": "light"
     },
     "output_type": "display_data"
    },
    {
     "data": {
      "image/png": "[encoded data removed]",
      "text/plain": [
       "<Figure size 576x288 with 1 Axes>"
      ]
     },
     "metadata": {
      "needs_background": "light"
     },
     "output_type": "display_data"
    },
    {
     "data": {
      "image/png": "[encoded data removed]",
      "text/plain": [
       "<Figure size 576x288 with 1 Axes>"
      ]
     },
     "metadata": {
      "needs_background": "light"
     },
     "output_type": "display_data"
    },
    {
     "data": {
      "image/png": "[encoded data removed]",
      "text/plain": [
       "<Figure size 576x288 with 1 Axes>"
      ]
     },
     "metadata": {
      "needs_background": "light"
     },
     "output_type": "display_data"
    }
   ],
   "source": [
    "# Теперь нарисуем те же графики для обоих типов клиентов, чтобы понять, что делать с выбросами.\n",
    "for i in ['age','decline_app_cnt','bki_request_cnt','income', 'score_bki','pca_component']:\n",
    "    plt.figure(figsize=(8, 4))\n",
    "    sns.boxplot(data=data[i], orient=\"h\")\n",
    "    plt.title(i)\n",
    "    plt.show()"
   ]
  },
  {
   "cell_type": "code",
   "execution_count": 43,
   "id": "b7ad7bcd",
   "metadata": {
    "execution": {
     "iopub.execute_input": "2021-12-20T13:34:37.916951Z",
     "iopub.status.busy": "2021-12-20T13:34:37.912591Z",
     "iopub.status.idle": "2021-12-20T13:34:42.625631Z",
     "shell.execute_reply": "2021-12-20T13:34:42.625133Z",
     "shell.execute_reply.started": "2021-12-20T13:27:37.717251Z"
    },
    "papermill": {
     "duration": 4.79435,
     "end_time": "2021-12-20T13:34:42.625825",
     "exception": false,
     "start_time": "2021-12-20T13:34:37.831475",
     "status": "completed"
    },
    "tags": []
   },
   "outputs": [
    {
     "name": "stdout",
     "output_type": "stream",
     "text": [
      "score_bki : 518 , 0.47027635544903224\n",
      "bki_request_cnt : 15 , 0.01361804118095653\n",
      "income : 2609 , 2.3686312960743727\n",
      "pca_component : 0 , 0.0\n",
      "[518, 15, 2609, 0] \n",
      "\n",
      "[0.47027635544903224, 0.01361804118095653, 2.3686312960743727, 0.0]\n"
     ]
    }
   ],
   "source": [
    "# Посчитаем количество выбросов в колонках\n",
    "count_outliers=[]\n",
    "percent_outliers=[]\n",
    "for j in ['score_bki', 'bki_request_cnt', 'income','pca_component']:\n",
    "    borders=IQR_outliers(j)\n",
    "#     print(j,':',borders)\n",
    "    count=0\n",
    "    for i in range(0,len(data)):\n",
    "        if data[j][i]<borders[0] or data[j][i]>borders[1]:\n",
    "            count+=1\n",
    "    percent=(count/data.shape[0])*100\n",
    "    print(j,':',count, ',',percent)\n",
    "    count_outliers.append(count)\n",
    "    percent_outliers.append(percent)\n",
    "print(count_outliers,'\\n')\n",
    "print(percent_outliers)"
   ]
  },
  {
   "cell_type": "markdown",
   "id": "49f03be6",
   "metadata": {
    "papermill": {
     "duration": 0.075953,
     "end_time": "2021-12-20T13:34:42.778551",
     "exception": false,
     "start_time": "2021-12-20T13:34:42.702598",
     "status": "completed"
    },
    "tags": []
   },
   "source": [
    "**Практика показала, что замена выбросов на медиану ухудшает модель (см. код ниже). В этой связи я закомментировала данный кусок кода. Все точки, которые метод IQR определил как выбросы, нужно оставить. В процентном соотношении выбросов немного (от 0.01 до 2.4%)**"
   ]
  },
  {
   "cell_type": "code",
   "execution_count": 44,
   "id": "097be292",
   "metadata": {
    "execution": {
     "iopub.execute_input": "2021-12-20T13:34:42.937267Z",
     "iopub.status.busy": "2021-12-20T13:34:42.936615Z",
     "iopub.status.idle": "2021-12-20T13:34:42.939542Z",
     "shell.execute_reply": "2021-12-20T13:34:42.940037Z",
     "shell.execute_reply.started": "2021-12-14T08:59:40.683902Z"
    },
    "papermill": {
     "duration": 0.084789,
     "end_time": "2021-12-20T13:34:42.940199",
     "exception": false,
     "start_time": "2021-12-20T13:34:42.855410",
     "status": "completed"
    },
    "tags": []
   },
   "outputs": [],
   "source": [
    "# medians=[data['score_bki'].median(),data['bki_request_cnt'].median(),data['income'].median()]\n",
    "# outliers1=IQR_outliers('score_bki')\n",
    "# outliers2=IQR_outliers('bki_request_cnt')\n",
    "# outliers3=IQR_outliers('income')\n",
    "# print('score_bki:',outliers1,'\\n','bki_request_cnt:',outliers2,'\\n','income:',outliers3)\n",
    "# borders={'score_bki':outliers1,'bki_request_cnt':outliers2,'income':outliers3}\n",
    "# data['score_bki']=data['score_bki'].apply(lambda x: medians[0] if x<borders['score_bki'][0] or x>borders['score_bki'][1] else x)\n",
    "# data['bki_request_cnt']=data['bki_request_cnt'].apply(lambda x: medians[1] if x<borders['bki_request_cnt'][0] or x>borders['bki_request_cnt'][1] else x)\n",
    "# data['income']=data['income'].apply(lambda x: medians[2] if x<borders['income'][0] or x>borders['income'][1] else x)"
   ]
  },
  {
   "cell_type": "code",
   "execution_count": 45,
   "id": "84335ad0",
   "metadata": {
    "execution": {
     "iopub.execute_input": "2021-12-20T13:34:43.131482Z",
     "iopub.status.busy": "2021-12-20T13:34:43.130552Z",
     "iopub.status.idle": "2021-12-20T13:34:43.135535Z",
     "shell.execute_reply": "2021-12-20T13:34:43.136102Z",
     "shell.execute_reply.started": "2021-12-14T08:14:37.024295Z"
    },
    "papermill": {
     "duration": 0.10068,
     "end_time": "2021-12-20T13:34:43.136269",
     "exception": false,
     "start_time": "2021-12-20T13:34:43.035589",
     "status": "completed"
    },
    "tags": []
   },
   "outputs": [
    {
     "data": {
      "text/plain": [
       "(110148, 25)"
      ]
     },
     "execution_count": 45,
     "metadata": {},
     "output_type": "execute_result"
    }
   ],
   "source": [
    "data.shape"
   ]
  },
  {
   "cell_type": "code",
   "execution_count": 46,
   "id": "6f9bbbf6",
   "metadata": {
    "execution": {
     "iopub.execute_input": "2021-12-20T13:34:43.294725Z",
     "iopub.status.busy": "2021-12-20T13:34:43.293784Z",
     "iopub.status.idle": "2021-12-20T13:34:43.479875Z",
     "shell.execute_reply": "2021-12-20T13:34:43.479289Z",
     "shell.execute_reply.started": "2021-12-20T08:45:08.205293Z"
    },
    "papermill": {
     "duration": 0.266684,
     "end_time": "2021-12-20T13:34:43.480012",
     "exception": false,
     "start_time": "2021-12-20T13:34:43.213328",
     "status": "completed"
    },
    "tags": []
   },
   "outputs": [
    {
     "data": {
      "text/plain": [
       "<AxesSubplot:>"
      ]
     },
     "execution_count": 46,
     "metadata": {},
     "output_type": "execute_result"
    },
    {
     "data": {
      "image/png": "[encoded data removed]",
      "text/plain": [
       "<Figure size 432x288 with 1 Axes>"
      ]
     },
     "metadata": {
      "needs_background": "light"
     },
     "output_type": "display_data"
    }
   ],
   "source": [
    "# Посмотрим, сколько у нас всего дефолтных и недефолтных клиентов. Количество классов явно не сбалансировано.\n",
    "data['default'].value_counts(ascending=True).plot(kind='barh')"
   ]
  },
  {
   "cell_type": "code",
   "execution_count": 47,
   "id": "f1d55c35",
   "metadata": {
    "execution": {
     "iopub.execute_input": "2021-12-20T13:34:43.647829Z",
     "iopub.status.busy": "2021-12-20T13:34:43.646714Z",
     "iopub.status.idle": "2021-12-20T13:34:43.664536Z",
     "shell.execute_reply": "2021-12-20T13:34:43.665097Z",
     "shell.execute_reply.started": "2021-12-20T13:27:58.817094Z"
    },
    "papermill": {
     "duration": 0.102984,
     "end_time": "2021-12-20T13:34:43.665282",
     "exception": false,
     "start_time": "2021-12-20T13:34:43.562298",
     "status": "completed"
    },
    "tags": []
   },
   "outputs": [],
   "source": [
    "# Избавимся от признаков client_id и app_date\n",
    "data.drop(['client_id','app_date',], axis = 1, inplace=True)"
   ]
  },
  {
   "cell_type": "code",
   "execution_count": 48,
   "id": "605c70e3",
   "metadata": {
    "execution": {
     "iopub.execute_input": "2021-12-20T13:34:43.832212Z",
     "iopub.status.busy": "2021-12-20T13:34:43.831231Z",
     "iopub.status.idle": "2021-12-20T13:34:43.833575Z",
     "shell.execute_reply": "2021-12-20T13:34:43.834091Z",
     "shell.execute_reply.started": "2021-12-19T09:55:46.217403Z"
    },
    "papermill": {
     "duration": 0.088173,
     "end_time": "2021-12-20T13:34:43.834281",
     "exception": false,
     "start_time": "2021-12-20T13:34:43.746108",
     "status": "completed"
    },
    "tags": []
   },
   "outputs": [],
   "source": [
    "# Применим метод get_dummies для колонки education. В отдельную колонку вынесем пропуски\n",
    "# data = pd.get_dummies(data, columns=['education'], dummy_na=True)"
   ]
  },
  {
   "cell_type": "code",
   "execution_count": 49,
   "id": "560450ed",
   "metadata": {
    "execution": {
     "iopub.execute_input": "2021-12-20T13:34:43.999979Z",
     "iopub.status.busy": "2021-12-20T13:34:43.999246Z",
     "iopub.status.idle": "2021-12-20T13:34:44.016592Z",
     "shell.execute_reply": "2021-12-20T13:34:44.017175Z",
     "shell.execute_reply.started": "2021-12-20T09:26:18.201367Z"
    },
    "papermill": {
     "duration": 0.103202,
     "end_time": "2021-12-20T13:34:44.017350",
     "exception": false,
     "start_time": "2021-12-20T13:34:43.914148",
     "status": "completed"
    },
    "tags": []
   },
   "outputs": [
    {
     "data": {
      "text/html": [
       "<div>\n",
       "<style scoped>\n",
       "    .dataframe tbody tr th:only-of-type {\n",
       "        vertical-align: middle;\n",
       "    }\n",
       "\n",
       "    .dataframe tbody tr th {\n",
       "        vertical-align: top;\n",
       "    }\n",
       "\n",
       "    .dataframe thead th {\n",
       "        text-align: right;\n",
       "    }\n",
       "</style>\n",
       "<table border=\"1\" class=\"dataframe\">\n",
       "  <thead>\n",
       "    <tr style=\"text-align: right;\">\n",
       "      <th></th>\n",
       "      <th>education</th>\n",
       "      <th>sex</th>\n",
       "      <th>age</th>\n",
       "      <th>car</th>\n",
       "      <th>car_type</th>\n",
       "      <th>decline_app_cnt</th>\n",
       "      <th>good_work</th>\n",
       "      <th>score_bki</th>\n",
       "      <th>bki_request_cnt</th>\n",
       "      <th>region_rating</th>\n",
       "      <th>...</th>\n",
       "      <th>sna</th>\n",
       "      <th>first_time</th>\n",
       "      <th>foreign_passport</th>\n",
       "      <th>sample</th>\n",
       "      <th>default</th>\n",
       "      <th>app_month</th>\n",
       "      <th>app_day</th>\n",
       "      <th>app_day_of_week</th>\n",
       "      <th>timedelta</th>\n",
       "      <th>pca_component</th>\n",
       "    </tr>\n",
       "  </thead>\n",
       "  <tbody>\n",
       "    <tr>\n",
       "      <th>0</th>\n",
       "      <td>GRD</td>\n",
       "      <td>M</td>\n",
       "      <td>29</td>\n",
       "      <td>Y</td>\n",
       "      <td>Y</td>\n",
       "      <td>0.000000</td>\n",
       "      <td>0</td>\n",
       "      <td>-2.271884</td>\n",
       "      <td>1.386294</td>\n",
       "      <td>50</td>\n",
       "      <td>...</td>\n",
       "      <td>1</td>\n",
       "      <td>4</td>\n",
       "      <td>N</td>\n",
       "      <td>0</td>\n",
       "      <td>0</td>\n",
       "      <td>3</td>\n",
       "      <td>22</td>\n",
       "      <td>5</td>\n",
       "      <td>80</td>\n",
       "      <td>0.000659</td>\n",
       "    </tr>\n",
       "    <tr>\n",
       "      <th>1</th>\n",
       "      <td>SCH</td>\n",
       "      <td>F</td>\n",
       "      <td>39</td>\n",
       "      <td>N</td>\n",
       "      <td>N</td>\n",
       "      <td>1.791759</td>\n",
       "      <td>0</td>\n",
       "      <td>-1.504999</td>\n",
       "      <td>1.098612</td>\n",
       "      <td>50</td>\n",
       "      <td>...</td>\n",
       "      <td>4</td>\n",
       "      <td>3</td>\n",
       "      <td>N</td>\n",
       "      <td>0</td>\n",
       "      <td>0</td>\n",
       "      <td>1</td>\n",
       "      <td>24</td>\n",
       "      <td>4</td>\n",
       "      <td>23</td>\n",
       "      <td>-0.000043</td>\n",
       "    </tr>\n",
       "    <tr>\n",
       "      <th>2</th>\n",
       "      <td>UGR</td>\n",
       "      <td>M</td>\n",
       "      <td>50</td>\n",
       "      <td>Y</td>\n",
       "      <td>Y</td>\n",
       "      <td>0.000000</td>\n",
       "      <td>0</td>\n",
       "      <td>-1.691339</td>\n",
       "      <td>0.693147</td>\n",
       "      <td>50</td>\n",
       "      <td>...</td>\n",
       "      <td>1</td>\n",
       "      <td>3</td>\n",
       "      <td>Y</td>\n",
       "      <td>0</td>\n",
       "      <td>0</td>\n",
       "      <td>3</td>\n",
       "      <td>23</td>\n",
       "      <td>6</td>\n",
       "      <td>81</td>\n",
       "      <td>0.001045</td>\n",
       "    </tr>\n",
       "    <tr>\n",
       "      <th>3</th>\n",
       "      <td>SCH</td>\n",
       "      <td>M</td>\n",
       "      <td>56</td>\n",
       "      <td>N</td>\n",
       "      <td>N</td>\n",
       "      <td>0.000000</td>\n",
       "      <td>0</td>\n",
       "      <td>-2.374182</td>\n",
       "      <td>0.693147</td>\n",
       "      <td>40</td>\n",
       "      <td>...</td>\n",
       "      <td>1</td>\n",
       "      <td>3</td>\n",
       "      <td>N</td>\n",
       "      <td>0</td>\n",
       "      <td>0</td>\n",
       "      <td>2</td>\n",
       "      <td>3</td>\n",
       "      <td>0</td>\n",
       "      <td>33</td>\n",
       "      <td>-0.000988</td>\n",
       "    </tr>\n",
       "    <tr>\n",
       "      <th>4</th>\n",
       "      <td>GRD</td>\n",
       "      <td>F</td>\n",
       "      <td>38</td>\n",
       "      <td>N</td>\n",
       "      <td>N</td>\n",
       "      <td>0.000000</td>\n",
       "      <td>0</td>\n",
       "      <td>-2.487502</td>\n",
       "      <td>0.000000</td>\n",
       "      <td>80</td>\n",
       "      <td>...</td>\n",
       "      <td>1</td>\n",
       "      <td>3</td>\n",
       "      <td>N</td>\n",
       "      <td>0</td>\n",
       "      <td>0</td>\n",
       "      <td>2</td>\n",
       "      <td>4</td>\n",
       "      <td>1</td>\n",
       "      <td>34</td>\n",
       "      <td>-0.000694</td>\n",
       "    </tr>\n",
       "  </tbody>\n",
       "</table>\n",
       "<p>5 rows × 23 columns</p>\n",
       "</div>"
      ],
      "text/plain": [
       "  education sex  age car car_type  decline_app_cnt  good_work  score_bki  \\\n",
       "0       GRD   M   29   Y        Y         0.000000          0  -2.271884   \n",
       "1       SCH   F   39   N        N         1.791759          0  -1.504999   \n",
       "2       UGR   M   50   Y        Y         0.000000          0  -1.691339   \n",
       "3       SCH   M   56   N        N         0.000000          0  -2.374182   \n",
       "4       GRD   F   38   N        N         0.000000          0  -2.487502   \n",
       "\n",
       "   bki_request_cnt  region_rating  ...  sna  first_time  foreign_passport  \\\n",
       "0         1.386294             50  ...    1           4                 N   \n",
       "1         1.098612             50  ...    4           3                 N   \n",
       "2         0.693147             50  ...    1           3                 Y   \n",
       "3         0.693147             40  ...    1           3                 N   \n",
       "4         0.000000             80  ...    1           3                 N   \n",
       "\n",
       "   sample  default app_month  app_day  app_day_of_week  timedelta  \\\n",
       "0       0        0         3       22                5         80   \n",
       "1       0        0         1       24                4         23   \n",
       "2       0        0         3       23                6         81   \n",
       "3       0        0         2        3                0         33   \n",
       "4       0        0         2        4                1         34   \n",
       "\n",
       "   pca_component  \n",
       "0       0.000659  \n",
       "1      -0.000043  \n",
       "2       0.001045  \n",
       "3      -0.000988  \n",
       "4      -0.000694  \n",
       "\n",
       "[5 rows x 23 columns]"
      ]
     },
     "execution_count": 49,
     "metadata": {},
     "output_type": "execute_result"
    }
   ],
   "source": [
    "data.head()"
   ]
  },
  {
   "cell_type": "code",
   "execution_count": 50,
   "id": "f6175d3e",
   "metadata": {
    "execution": {
     "iopub.execute_input": "2021-12-20T13:34:44.181336Z",
     "iopub.status.busy": "2021-12-20T13:34:44.180454Z",
     "iopub.status.idle": "2021-12-20T13:34:44.184051Z",
     "shell.execute_reply": "2021-12-20T13:34:44.184519Z",
     "shell.execute_reply.started": "2021-12-20T13:00:31.548546Z"
    },
    "papermill": {
     "duration": 0.086677,
     "end_time": "2021-12-20T13:34:44.184707",
     "exception": false,
     "start_time": "2021-12-20T13:34:44.098030",
     "status": "completed"
    },
    "tags": []
   },
   "outputs": [],
   "source": [
    "import random"
   ]
  },
  {
   "cell_type": "code",
   "execution_count": 51,
   "id": "248ef696",
   "metadata": {
    "execution": {
     "iopub.execute_input": "2021-12-20T13:34:44.346297Z",
     "iopub.status.busy": "2021-12-20T13:34:44.345616Z",
     "iopub.status.idle": "2021-12-20T13:34:44.382236Z",
     "shell.execute_reply": "2021-12-20T13:34:44.381576Z",
     "shell.execute_reply.started": "2021-12-20T13:28:05.782631Z"
    },
    "papermill": {
     "duration": 0.118918,
     "end_time": "2021-12-20T13:34:44.382384",
     "exception": false,
     "start_time": "2021-12-20T13:34:44.263466",
     "status": "completed"
    },
    "tags": []
   },
   "outputs": [],
   "source": [
    "# Заполним пропуски в колонке education. Практика показала, что эту колонку лучше обрабатывать не \n",
    "# с помощью get_dummies, а с помощью OneHotEncoder. Для этого необходимо отсутствие пропусков\n",
    "prob = data['education'].value_counts(normalize=True)\n",
    "ind = data[data['education'].isna()==True].index\n",
    "fill_list = pd.Series(random.choices(prob.index, prob, k=data['education'].isna().sum()))\n",
    "fill_list.index = ind\n",
    "data['education']=data['education'].fillna(fill_list)"
   ]
  },
  {
   "cell_type": "code",
   "execution_count": 52,
   "id": "922b425e",
   "metadata": {
    "execution": {
     "iopub.execute_input": "2021-12-20T13:34:44.547449Z",
     "iopub.status.busy": "2021-12-20T13:34:44.546782Z",
     "iopub.status.idle": "2021-12-20T13:34:44.549773Z",
     "shell.execute_reply": "2021-12-20T13:34:44.549259Z",
     "shell.execute_reply.started": "2021-12-20T13:28:09.116686Z"
    },
    "papermill": {
     "duration": 0.088562,
     "end_time": "2021-12-20T13:34:44.549920",
     "exception": false,
     "start_time": "2021-12-20T13:34:44.461358",
     "status": "completed"
    },
    "tags": []
   },
   "outputs": [],
   "source": [
    "# Функция, заменяющая строковые значения в колонке education на числа (категории). Отмечу, что у меня\n",
    "# есть сомнения на счет этой функции. Как я могу быть уверена, что 'UGR' действительно по уровню ниже\n",
    "# 'GRD', а 'PGR' выше 'GRD'? Я заполнила так, как мне кажется верным, но до конца уверенности нет.\n",
    "def replace_values(string):\n",
    "    if string=='SCH':\n",
    "        return 0\n",
    "    elif string=='UGR':\n",
    "        return 1\n",
    "    elif string=='GRD':\n",
    "        return 2\n",
    "    elif string=='PGR':\n",
    "        return 3\n",
    "    elif string=='ACD':\n",
    "        return 4"
   ]
  },
  {
   "cell_type": "code",
   "execution_count": 53,
   "id": "254ac976",
   "metadata": {
    "execution": {
     "iopub.execute_input": "2021-12-20T13:34:44.717798Z",
     "iopub.status.busy": "2021-12-20T13:34:44.711608Z",
     "iopub.status.idle": "2021-12-20T13:34:44.754956Z",
     "shell.execute_reply": "2021-12-20T13:34:44.755440Z",
     "shell.execute_reply.started": "2021-12-20T13:28:12.257743Z"
    },
    "papermill": {
     "duration": 0.126588,
     "end_time": "2021-12-20T13:34:44.755602",
     "exception": false,
     "start_time": "2021-12-20T13:34:44.629014",
     "status": "completed"
    },
    "tags": []
   },
   "outputs": [],
   "source": [
    "# Заменим строковые значения в колонке education\n",
    "data['education']=data['education'].apply(replace_values)"
   ]
  },
  {
   "cell_type": "code",
   "execution_count": 54,
   "id": "7d7a7e4d",
   "metadata": {
    "execution": {
     "iopub.execute_input": "2021-12-20T13:34:44.920740Z",
     "iopub.status.busy": "2021-12-20T13:34:44.920126Z",
     "iopub.status.idle": "2021-12-20T13:34:44.954823Z",
     "shell.execute_reply": "2021-12-20T13:34:44.955270Z",
     "shell.execute_reply.started": "2021-12-19T12:26:16.545785Z"
    },
    "papermill": {
     "duration": 0.120905,
     "end_time": "2021-12-20T13:34:44.955428",
     "exception": false,
     "start_time": "2021-12-20T13:34:44.834523",
     "status": "completed"
    },
    "tags": []
   },
   "outputs": [
    {
     "name": "stdout",
     "output_type": "stream",
     "text": [
      "<class 'pandas.core.frame.DataFrame'>\n",
      "RangeIndex: 110148 entries, 0 to 110147\n",
      "Data columns (total 23 columns):\n",
      " #   Column            Non-Null Count   Dtype  \n",
      "---  ------            --------------   -----  \n",
      " 0   education         110148 non-null  int64  \n",
      " 1   sex               110148 non-null  object \n",
      " 2   age               110148 non-null  int64  \n",
      " 3   car               110148 non-null  object \n",
      " 4   car_type          110148 non-null  object \n",
      " 5   decline_app_cnt   110148 non-null  float64\n",
      " 6   good_work         110148 non-null  int64  \n",
      " 7   score_bki         110148 non-null  float64\n",
      " 8   bki_request_cnt   110148 non-null  float64\n",
      " 9   region_rating     110148 non-null  int64  \n",
      " 10  home_address      110148 non-null  int64  \n",
      " 11  work_address      110148 non-null  int64  \n",
      " 12  income            110148 non-null  float64\n",
      " 13  sna               110148 non-null  int64  \n",
      " 14  first_time        110148 non-null  int64  \n",
      " 15  foreign_passport  110148 non-null  object \n",
      " 16  sample            110148 non-null  int64  \n",
      " 17  default           110148 non-null  int64  \n",
      " 18  app_month         110148 non-null  int64  \n",
      " 19  app_day           110148 non-null  int64  \n",
      " 20  app_day_of_week   110148 non-null  int64  \n",
      " 21  timedelta         110148 non-null  int64  \n",
      " 22  pca_component     110148 non-null  float64\n",
      "dtypes: float64(5), int64(14), object(4)\n",
      "memory usage: 19.3+ MB\n"
     ]
    }
   ],
   "source": [
    "data.info()"
   ]
  },
  {
   "cell_type": "code",
   "execution_count": 55,
   "id": "adc6fd2b",
   "metadata": {
    "execution": {
     "iopub.execute_input": "2021-12-20T13:34:45.118455Z",
     "iopub.status.busy": "2021-12-20T13:34:45.117833Z",
     "iopub.status.idle": "2021-12-20T13:34:45.205187Z",
     "shell.execute_reply": "2021-12-20T13:34:45.204550Z",
     "shell.execute_reply.started": "2021-12-20T13:28:16.793334Z"
    },
    "papermill": {
     "duration": 0.170255,
     "end_time": "2021-12-20T13:34:45.205336",
     "exception": false,
     "start_time": "2021-12-20T13:34:45.035081",
     "status": "completed"
    },
    "tags": []
   },
   "outputs": [],
   "source": [
    "# Применим Label_Encoder для бинарных признаков\n",
    "from sklearn import preprocessing\n",
    "le = preprocessing.LabelEncoder()\n",
    "# ohe=preprocessing.OneHotEncoder(sparse=False)\n",
    "\n",
    "for column in bin_cols:\n",
    "    data[column] = le.fit_transform(data[column])\n",
    "    \n",
    "# Для категориальных признаков применим OneHotEncoder. Сделаем это чуть позже"
   ]
  },
  {
   "cell_type": "code",
   "execution_count": 56,
   "id": "db1a0ad9",
   "metadata": {
    "execution": {
     "iopub.execute_input": "2021-12-20T13:34:45.367574Z",
     "iopub.status.busy": "2021-12-20T13:34:45.367019Z",
     "iopub.status.idle": "2021-12-20T13:34:45.406292Z",
     "shell.execute_reply": "2021-12-20T13:34:45.405791Z",
     "shell.execute_reply.started": "2021-12-18T09:51:53.742542Z"
    },
    "papermill": {
     "duration": 0.121668,
     "end_time": "2021-12-20T13:34:45.406422",
     "exception": false,
     "start_time": "2021-12-20T13:34:45.284754",
     "status": "completed"
    },
    "tags": []
   },
   "outputs": [
    {
     "data": {
      "text/html": [
       "<div>\n",
       "<style scoped>\n",
       "    .dataframe tbody tr th:only-of-type {\n",
       "        vertical-align: middle;\n",
       "    }\n",
       "\n",
       "    .dataframe tbody tr th {\n",
       "        vertical-align: top;\n",
       "    }\n",
       "\n",
       "    .dataframe thead th {\n",
       "        text-align: right;\n",
       "    }\n",
       "</style>\n",
       "<table border=\"1\" class=\"dataframe\">\n",
       "  <thead>\n",
       "    <tr style=\"text-align: right;\">\n",
       "      <th></th>\n",
       "      <th>education</th>\n",
       "      <th>sex</th>\n",
       "      <th>age</th>\n",
       "      <th>car</th>\n",
       "      <th>car_type</th>\n",
       "      <th>decline_app_cnt</th>\n",
       "      <th>good_work</th>\n",
       "      <th>score_bki</th>\n",
       "      <th>bki_request_cnt</th>\n",
       "      <th>region_rating</th>\n",
       "      <th>...</th>\n",
       "      <th>sna</th>\n",
       "      <th>first_time</th>\n",
       "      <th>foreign_passport</th>\n",
       "      <th>sample</th>\n",
       "      <th>default</th>\n",
       "      <th>app_month</th>\n",
       "      <th>app_day</th>\n",
       "      <th>app_day_of_week</th>\n",
       "      <th>timedelta</th>\n",
       "      <th>pca_component</th>\n",
       "    </tr>\n",
       "  </thead>\n",
       "  <tbody>\n",
       "    <tr>\n",
       "      <th>105486</th>\n",
       "      <td>0</td>\n",
       "      <td>1</td>\n",
       "      <td>54</td>\n",
       "      <td>0</td>\n",
       "      <td>0</td>\n",
       "      <td>0.0</td>\n",
       "      <td>0</td>\n",
       "      <td>-1.690975</td>\n",
       "      <td>1.609438</td>\n",
       "      <td>50</td>\n",
       "      <td>...</td>\n",
       "      <td>1</td>\n",
       "      <td>3</td>\n",
       "      <td>0</td>\n",
       "      <td>1</td>\n",
       "      <td>0</td>\n",
       "      <td>4</td>\n",
       "      <td>2</td>\n",
       "      <td>2</td>\n",
       "      <td>91</td>\n",
       "      <td>-0.001397</td>\n",
       "    </tr>\n",
       "    <tr>\n",
       "      <th>97558</th>\n",
       "      <td>0</td>\n",
       "      <td>0</td>\n",
       "      <td>21</td>\n",
       "      <td>0</td>\n",
       "      <td>0</td>\n",
       "      <td>0.0</td>\n",
       "      <td>0</td>\n",
       "      <td>-2.315224</td>\n",
       "      <td>0.693147</td>\n",
       "      <td>60</td>\n",
       "      <td>...</td>\n",
       "      <td>2</td>\n",
       "      <td>1</td>\n",
       "      <td>0</td>\n",
       "      <td>1</td>\n",
       "      <td>0</td>\n",
       "      <td>4</td>\n",
       "      <td>18</td>\n",
       "      <td>4</td>\n",
       "      <td>107</td>\n",
       "      <td>0.001261</td>\n",
       "    </tr>\n",
       "    <tr>\n",
       "      <th>69953</th>\n",
       "      <td>2</td>\n",
       "      <td>0</td>\n",
       "      <td>25</td>\n",
       "      <td>0</td>\n",
       "      <td>0</td>\n",
       "      <td>0.0</td>\n",
       "      <td>0</td>\n",
       "      <td>-1.840787</td>\n",
       "      <td>0.000000</td>\n",
       "      <td>60</td>\n",
       "      <td>...</td>\n",
       "      <td>1</td>\n",
       "      <td>4</td>\n",
       "      <td>0</td>\n",
       "      <td>1</td>\n",
       "      <td>0</td>\n",
       "      <td>2</td>\n",
       "      <td>1</td>\n",
       "      <td>5</td>\n",
       "      <td>31</td>\n",
       "      <td>0.000978</td>\n",
       "    </tr>\n",
       "    <tr>\n",
       "      <th>33515</th>\n",
       "      <td>0</td>\n",
       "      <td>0</td>\n",
       "      <td>30</td>\n",
       "      <td>0</td>\n",
       "      <td>0</td>\n",
       "      <td>0.0</td>\n",
       "      <td>0</td>\n",
       "      <td>-1.845671</td>\n",
       "      <td>1.098612</td>\n",
       "      <td>50</td>\n",
       "      <td>...</td>\n",
       "      <td>1</td>\n",
       "      <td>2</td>\n",
       "      <td>0</td>\n",
       "      <td>0</td>\n",
       "      <td>0</td>\n",
       "      <td>2</td>\n",
       "      <td>15</td>\n",
       "      <td>5</td>\n",
       "      <td>45</td>\n",
       "      <td>0.000734</td>\n",
       "    </tr>\n",
       "    <tr>\n",
       "      <th>55246</th>\n",
       "      <td>1</td>\n",
       "      <td>0</td>\n",
       "      <td>66</td>\n",
       "      <td>0</td>\n",
       "      <td>0</td>\n",
       "      <td>0.0</td>\n",
       "      <td>0</td>\n",
       "      <td>-1.823625</td>\n",
       "      <td>0.000000</td>\n",
       "      <td>80</td>\n",
       "      <td>...</td>\n",
       "      <td>4</td>\n",
       "      <td>1</td>\n",
       "      <td>0</td>\n",
       "      <td>1</td>\n",
       "      <td>1</td>\n",
       "      <td>2</td>\n",
       "      <td>26</td>\n",
       "      <td>2</td>\n",
       "      <td>56</td>\n",
       "      <td>-0.000522</td>\n",
       "    </tr>\n",
       "    <tr>\n",
       "      <th>85565</th>\n",
       "      <td>2</td>\n",
       "      <td>0</td>\n",
       "      <td>31</td>\n",
       "      <td>1</td>\n",
       "      <td>1</td>\n",
       "      <td>0.0</td>\n",
       "      <td>0</td>\n",
       "      <td>-2.254147</td>\n",
       "      <td>0.693147</td>\n",
       "      <td>50</td>\n",
       "      <td>...</td>\n",
       "      <td>1</td>\n",
       "      <td>3</td>\n",
       "      <td>0</td>\n",
       "      <td>1</td>\n",
       "      <td>0</td>\n",
       "      <td>2</td>\n",
       "      <td>11</td>\n",
       "      <td>1</td>\n",
       "      <td>41</td>\n",
       "      <td>-0.000593</td>\n",
       "    </tr>\n",
       "    <tr>\n",
       "      <th>3889</th>\n",
       "      <td>2</td>\n",
       "      <td>1</td>\n",
       "      <td>38</td>\n",
       "      <td>1</td>\n",
       "      <td>0</td>\n",
       "      <td>0.0</td>\n",
       "      <td>0</td>\n",
       "      <td>-2.051549</td>\n",
       "      <td>0.693147</td>\n",
       "      <td>50</td>\n",
       "      <td>...</td>\n",
       "      <td>1</td>\n",
       "      <td>4</td>\n",
       "      <td>0</td>\n",
       "      <td>0</td>\n",
       "      <td>0</td>\n",
       "      <td>4</td>\n",
       "      <td>28</td>\n",
       "      <td>0</td>\n",
       "      <td>117</td>\n",
       "      <td>0.001320</td>\n",
       "    </tr>\n",
       "    <tr>\n",
       "      <th>24418</th>\n",
       "      <td>2</td>\n",
       "      <td>1</td>\n",
       "      <td>62</td>\n",
       "      <td>0</td>\n",
       "      <td>0</td>\n",
       "      <td>0.0</td>\n",
       "      <td>0</td>\n",
       "      <td>-1.619831</td>\n",
       "      <td>1.098612</td>\n",
       "      <td>80</td>\n",
       "      <td>...</td>\n",
       "      <td>1</td>\n",
       "      <td>3</td>\n",
       "      <td>0</td>\n",
       "      <td>0</td>\n",
       "      <td>0</td>\n",
       "      <td>1</td>\n",
       "      <td>30</td>\n",
       "      <td>3</td>\n",
       "      <td>29</td>\n",
       "      <td>-0.000937</td>\n",
       "    </tr>\n",
       "    <tr>\n",
       "      <th>40090</th>\n",
       "      <td>0</td>\n",
       "      <td>0</td>\n",
       "      <td>36</td>\n",
       "      <td>0</td>\n",
       "      <td>0</td>\n",
       "      <td>0.0</td>\n",
       "      <td>1</td>\n",
       "      <td>-1.926721</td>\n",
       "      <td>0.000000</td>\n",
       "      <td>40</td>\n",
       "      <td>...</td>\n",
       "      <td>4</td>\n",
       "      <td>1</td>\n",
       "      <td>0</td>\n",
       "      <td>1</td>\n",
       "      <td>1</td>\n",
       "      <td>1</td>\n",
       "      <td>11</td>\n",
       "      <td>5</td>\n",
       "      <td>10</td>\n",
       "      <td>0.001070</td>\n",
       "    </tr>\n",
       "    <tr>\n",
       "      <th>79554</th>\n",
       "      <td>0</td>\n",
       "      <td>0</td>\n",
       "      <td>36</td>\n",
       "      <td>0</td>\n",
       "      <td>0</td>\n",
       "      <td>0.0</td>\n",
       "      <td>0</td>\n",
       "      <td>-2.401208</td>\n",
       "      <td>1.386294</td>\n",
       "      <td>50</td>\n",
       "      <td>...</td>\n",
       "      <td>2</td>\n",
       "      <td>2</td>\n",
       "      <td>0</td>\n",
       "      <td>1</td>\n",
       "      <td>0</td>\n",
       "      <td>2</td>\n",
       "      <td>4</td>\n",
       "      <td>1</td>\n",
       "      <td>34</td>\n",
       "      <td>-0.000694</td>\n",
       "    </tr>\n",
       "  </tbody>\n",
       "</table>\n",
       "<p>10 rows × 23 columns</p>\n",
       "</div>"
      ],
      "text/plain": [
       "        education  sex  age  car  car_type  decline_app_cnt  good_work  \\\n",
       "105486          0    1   54    0         0              0.0          0   \n",
       "97558           0    0   21    0         0              0.0          0   \n",
       "69953           2    0   25    0         0              0.0          0   \n",
       "33515           0    0   30    0         0              0.0          0   \n",
       "55246           1    0   66    0         0              0.0          0   \n",
       "85565           2    0   31    1         1              0.0          0   \n",
       "3889            2    1   38    1         0              0.0          0   \n",
       "24418           2    1   62    0         0              0.0          0   \n",
       "40090           0    0   36    0         0              0.0          1   \n",
       "79554           0    0   36    0         0              0.0          0   \n",
       "\n",
       "        score_bki  bki_request_cnt  region_rating  ...  sna  first_time  \\\n",
       "105486  -1.690975         1.609438             50  ...    1           3   \n",
       "97558   -2.315224         0.693147             60  ...    2           1   \n",
       "69953   -1.840787         0.000000             60  ...    1           4   \n",
       "33515   -1.845671         1.098612             50  ...    1           2   \n",
       "55246   -1.823625         0.000000             80  ...    4           1   \n",
       "85565   -2.254147         0.693147             50  ...    1           3   \n",
       "3889    -2.051549         0.693147             50  ...    1           4   \n",
       "24418   -1.619831         1.098612             80  ...    1           3   \n",
       "40090   -1.926721         0.000000             40  ...    4           1   \n",
       "79554   -2.401208         1.386294             50  ...    2           2   \n",
       "\n",
       "        foreign_passport  sample  default  app_month  app_day  \\\n",
       "105486                 0       1        0          4        2   \n",
       "97558                  0       1        0          4       18   \n",
       "69953                  0       1        0          2        1   \n",
       "33515                  0       0        0          2       15   \n",
       "55246                  0       1        1          2       26   \n",
       "85565                  0       1        0          2       11   \n",
       "3889                   0       0        0          4       28   \n",
       "24418                  0       0        0          1       30   \n",
       "40090                  0       1        1          1       11   \n",
       "79554                  0       1        0          2        4   \n",
       "\n",
       "        app_day_of_week  timedelta  pca_component  \n",
       "105486                2         91      -0.001397  \n",
       "97558                 4        107       0.001261  \n",
       "69953                 5         31       0.000978  \n",
       "33515                 5         45       0.000734  \n",
       "55246                 2         56      -0.000522  \n",
       "85565                 1         41      -0.000593  \n",
       "3889                  0        117       0.001320  \n",
       "24418                 3         29      -0.000937  \n",
       "40090                 5         10       0.001070  \n",
       "79554                 1         34      -0.000694  \n",
       "\n",
       "[10 rows x 23 columns]"
      ]
     },
     "execution_count": 56,
     "metadata": {},
     "output_type": "execute_result"
    }
   ],
   "source": [
    "data.sample(10)"
   ]
  },
  {
   "cell_type": "code",
   "execution_count": 57,
   "id": "7ac48b6b",
   "metadata": {
    "execution": {
     "iopub.execute_input": "2021-12-20T13:34:45.572168Z",
     "iopub.status.busy": "2021-12-20T13:34:45.570191Z",
     "iopub.status.idle": "2021-12-20T13:34:45.585609Z",
     "shell.execute_reply": "2021-12-20T13:34:45.586102Z",
     "shell.execute_reply.started": "2021-12-16T08:33:00.214668Z"
    },
    "papermill": {
     "duration": 0.099644,
     "end_time": "2021-12-20T13:34:45.586262",
     "exception": false,
     "start_time": "2021-12-20T13:34:45.486618",
     "status": "completed"
    },
    "tags": []
   },
   "outputs": [
    {
     "name": "stdout",
     "output_type": "stream",
     "text": [
      "<class 'pandas.core.frame.DataFrame'>\n",
      "RangeIndex: 110148 entries, 0 to 110147\n",
      "Data columns (total 23 columns):\n",
      " #   Column            Non-Null Count   Dtype  \n",
      "---  ------            --------------   -----  \n",
      " 0   education         110148 non-null  int64  \n",
      " 1   sex               110148 non-null  int64  \n",
      " 2   age               110148 non-null  int64  \n",
      " 3   car               110148 non-null  int64  \n",
      " 4   car_type          110148 non-null  int64  \n",
      " 5   decline_app_cnt   110148 non-null  float64\n",
      " 6   good_work         110148 non-null  int64  \n",
      " 7   score_bki         110148 non-null  float64\n",
      " 8   bki_request_cnt   110148 non-null  float64\n",
      " 9   region_rating     110148 non-null  int64  \n",
      " 10  home_address      110148 non-null  int64  \n",
      " 11  work_address      110148 non-null  int64  \n",
      " 12  income            110148 non-null  float64\n",
      " 13  sna               110148 non-null  int64  \n",
      " 14  first_time        110148 non-null  int64  \n",
      " 15  foreign_passport  110148 non-null  int64  \n",
      " 16  sample            110148 non-null  int64  \n",
      " 17  default           110148 non-null  int64  \n",
      " 18  app_month         110148 non-null  int64  \n",
      " 19  app_day           110148 non-null  int64  \n",
      " 20  app_day_of_week   110148 non-null  int64  \n",
      " 21  timedelta         110148 non-null  int64  \n",
      " 22  pca_component     110148 non-null  float64\n",
      "dtypes: float64(5), int64(18)\n",
      "memory usage: 19.3 MB\n"
     ]
    }
   ],
   "source": [
    "data.info()"
   ]
  },
  {
   "cell_type": "code",
   "execution_count": 58,
   "id": "4b5eaf01",
   "metadata": {
    "execution": {
     "iopub.execute_input": "2021-12-20T13:34:45.752914Z",
     "iopub.status.busy": "2021-12-20T13:34:45.752096Z",
     "iopub.status.idle": "2021-12-20T13:34:45.755839Z",
     "shell.execute_reply": "2021-12-20T13:34:45.755350Z",
     "shell.execute_reply.started": "2021-12-19T07:23:42.720926Z"
    },
    "papermill": {
     "duration": 0.089356,
     "end_time": "2021-12-20T13:34:45.755978",
     "exception": false,
     "start_time": "2021-12-20T13:34:45.666622",
     "status": "completed"
    },
    "tags": []
   },
   "outputs": [
    {
     "data": {
      "text/plain": [
       "Index(['education', 'sex', 'age', 'car', 'car_type', 'decline_app_cnt',\n",
       "       'good_work', 'score_bki', 'bki_request_cnt', 'region_rating',\n",
       "       'home_address', 'work_address', 'income', 'sna', 'first_time',\n",
       "       'foreign_passport', 'sample', 'default', 'app_month', 'app_day',\n",
       "       'app_day_of_week', 'timedelta', 'pca_component'],\n",
       "      dtype='object')"
      ]
     },
     "execution_count": 58,
     "metadata": {},
     "output_type": "execute_result"
    }
   ],
   "source": [
    "data.columns"
   ]
  },
  {
   "cell_type": "code",
   "execution_count": 59,
   "id": "276a77dd",
   "metadata": {
    "execution": {
     "iopub.execute_input": "2021-12-20T13:34:45.921236Z",
     "iopub.status.busy": "2021-12-20T13:34:45.920392Z",
     "iopub.status.idle": "2021-12-20T13:34:45.974557Z",
     "shell.execute_reply": "2021-12-20T13:34:45.975071Z",
     "shell.execute_reply.started": "2021-12-20T08:45:36.220496Z"
    },
    "papermill": {
     "duration": 0.138184,
     "end_time": "2021-12-20T13:34:45.975257",
     "exception": false,
     "start_time": "2021-12-20T13:34:45.837073",
     "status": "completed"
    },
    "tags": []
   },
   "outputs": [],
   "source": [
    "from sklearn.model_selection import train_test_split"
   ]
  },
  {
   "cell_type": "code",
   "execution_count": 60,
   "id": "ba62fcc6",
   "metadata": {
    "execution": {
     "iopub.execute_input": "2021-12-20T13:34:46.139199Z",
     "iopub.status.busy": "2021-12-20T13:34:46.138285Z",
     "iopub.status.idle": "2021-12-20T13:34:46.217751Z",
     "shell.execute_reply": "2021-12-20T13:34:46.218267Z",
     "shell.execute_reply.started": "2021-12-20T08:45:44.662155Z"
    },
    "papermill": {
     "duration": 0.163043,
     "end_time": "2021-12-20T13:34:46.218463",
     "exception": false,
     "start_time": "2021-12-20T13:34:46.055420",
     "status": "completed"
    },
    "tags": []
   },
   "outputs": [],
   "source": [
    "# Импортируем необходимые библиотеки:\n",
    "from sklearn.linear_model import LogisticRegression # инструмент для создания и обучения модели\n",
    "from sklearn import metrics # инструменты для оценки точности модели"
   ]
  },
  {
   "cell_type": "code",
   "execution_count": 61,
   "id": "408e3d6b",
   "metadata": {
    "execution": {
     "iopub.execute_input": "2021-12-20T13:34:46.384296Z",
     "iopub.status.busy": "2021-12-20T13:34:46.382166Z",
     "iopub.status.idle": "2021-12-20T13:34:46.386180Z",
     "shell.execute_reply": "2021-12-20T13:34:46.386600Z",
     "shell.execute_reply.started": "2021-12-20T08:45:50.238142Z"
    },
    "papermill": {
     "duration": 0.087507,
     "end_time": "2021-12-20T13:34:46.386795",
     "exception": false,
     "start_time": "2021-12-20T13:34:46.299288",
     "status": "completed"
    },
    "tags": []
   },
   "outputs": [],
   "source": [
    "from itertools import combinations"
   ]
  },
  {
   "cell_type": "code",
   "execution_count": 62,
   "id": "bbf9eacd",
   "metadata": {
    "execution": {
     "iopub.execute_input": "2021-12-20T13:34:46.552374Z",
     "iopub.status.busy": "2021-12-20T13:34:46.551357Z",
     "iopub.status.idle": "2021-12-20T13:34:46.561569Z",
     "shell.execute_reply": "2021-12-20T13:34:46.562119Z",
     "shell.execute_reply.started": "2021-12-20T08:45:55.076692Z"
    },
    "papermill": {
     "duration": 0.095003,
     "end_time": "2021-12-20T13:34:46.562298",
     "exception": false,
     "start_time": "2021-12-20T13:34:46.467295",
     "status": "completed"
    },
    "tags": []
   },
   "outputs": [],
   "source": [
    "# Функция для подбора наилучших полиномиальных признаков. Будем комбиринровать колонки с непрерывным\n",
    "# типом данных по три штуки и создавать на их основе Polynomial Features. Как сделать комбинации,\n",
    "# описано ниже в закомментированном куске кода.\n",
    "def find_polynomial_features(df,cols):\n",
    "    pf=PolynomialFeatures(2)\n",
    "    poly_features=pf.fit_transform(df[cols])\n",
    "    index=df.index\n",
    "    right=pd.DataFrame(poly_features, columns=['1','2','3','4','5','6','7','8','9','10'], index=index)\n",
    "    right.drop(columns=['1','2','3','4'], inplace=True)\n",
    "    df=df.join(right, how='inner')\n",
    "    \n",
    "    train_data = df.query('sample == 1').drop(['sample'], axis=1)\n",
    "#     test_data = data.query('sample == 0').drop(['sample', 'default'], axis=1)\n",
    "    y = train_data['default'].values  # наш таргет\n",
    "    X = train_data.drop(['default'], axis=1)\n",
    "    \n",
    "    X_train, X_test, y_train, y_test = train_test_split(X, y, test_size=0.2, random_state=42)\n",
    "    \n",
    "    X1=X_train[['age','decline_app_cnt','bki_request_cnt','income', 'score_bki','number_of_clients','timedelta','5','6','7','8','9','10']].values\n",
    "    X2=X_test[['age','decline_app_cnt','bki_request_cnt','income', 'score_bki','number_of_clients','timedelta','5','6','7','8','9','10']].values\n",
    "    \n",
    "    scaler=RobustScaler()\n",
    "    X1_transformed=scaler.fit_transform(X1)\n",
    "    X2_transformed=scaler.transform(X2)\n",
    "    X_train[['age','decline_app_cnt','bki_request_cnt','income', 'score_bki','number_of_clients','timedelta','5','6','7','8','9','10' ]]=X1_transformed\n",
    "    X_test[['age','decline_app_cnt','bki_request_cnt','income', 'score_bki','number_of_clients','timedelta','5','6','7','8','9','10']]=X2_transformed\n",
    "    \n",
    "    model = LogisticRegression(solver='saga', max_iter=1000, class_weight='balanced', penalty='l2', tol=0.001, multi_class='ovr')\n",
    "    model.fit(X_train, y_train)\n",
    "    y_pred = model.predict(X_test) \n",
    "    return metrics.f1_score(y_test,y_pred)"
   ]
  },
  {
   "cell_type": "code",
   "execution_count": 63,
   "id": "f440fe49",
   "metadata": {
    "execution": {
     "iopub.execute_input": "2021-12-20T13:34:46.727041Z",
     "iopub.status.busy": "2021-12-20T13:34:46.726057Z",
     "iopub.status.idle": "2021-12-20T13:34:46.730008Z",
     "shell.execute_reply": "2021-12-20T13:34:46.730521Z",
     "shell.execute_reply.started": "2021-12-19T08:33:49.797745Z"
    },
    "papermill": {
     "duration": 0.08796,
     "end_time": "2021-12-20T13:34:46.730705",
     "exception": false,
     "start_time": "2021-12-20T13:34:46.642745",
     "status": "completed"
    },
    "tags": []
   },
   "outputs": [],
   "source": [
    "# В ходе работы этого цикла было обнаружено, что наибольшее значение метрики f1_score получается при\n",
    "# использовании комбинации ['age', 'decline_app_cnt', 'income'] для создания полиномиальных признаков. \n",
    "# Я закомментировала этот кусок кода, т.к. нет необходимости запускать его каждый раз. Обучение модели \n",
    "# на каждом шаге цикла занимает слишком много времени.\n",
    "# Более того, было показано, что добавление полиномиальных признаков ухудшает модель. Поэтому было \n",
    "# решено от них отказаться.\n",
    "# columns=['age','decline_app_cnt',\n",
    "#        'score_bki', 'bki_request_cnt', 'income',\n",
    "#        'timedelta', 'number_of_clients']\n",
    "# cand=find_polynomial_features(data,['age', 'decline_app_cnt', 'score_bki'])\n",
    "# columns_best=['age', 'decline_app_cnt', 'score_bki']\n",
    "# for i in combinations(columns,3):    \n",
    "#     f1_score_current=find_polynomial_features(data,list(i))\n",
    "#     print('For the following columns: ',i,' f1_score=', f1_score_current,'\\n')\n",
    "#     if f1_score_current>cand:\n",
    "#         cand=f1_score_current\n",
    "#         columns_best=i\n",
    "# print(cand)\n",
    "# print(columns_best)"
   ]
  },
  {
   "cell_type": "code",
   "execution_count": 64,
   "id": "dc00ea49",
   "metadata": {
    "execution": {
     "iopub.execute_input": "2021-12-20T13:34:46.897265Z",
     "iopub.status.busy": "2021-12-20T13:34:46.896439Z",
     "iopub.status.idle": "2021-12-20T13:34:46.968885Z",
     "shell.execute_reply": "2021-12-20T13:34:46.969373Z",
     "shell.execute_reply.started": "2021-12-20T13:01:09.638705Z"
    },
    "papermill": {
     "duration": 0.157164,
     "end_time": "2021-12-20T13:34:46.969548",
     "exception": false,
     "start_time": "2021-12-20T13:34:46.812384",
     "status": "completed"
    },
    "tags": []
   },
   "outputs": [],
   "source": [
    "from sklearn.feature_selection import f_classif"
   ]
  },
  {
   "cell_type": "code",
   "execution_count": 65,
   "id": "37c3224b",
   "metadata": {
    "execution": {
     "iopub.execute_input": "2021-12-20T13:34:47.139446Z",
     "iopub.status.busy": "2021-12-20T13:34:47.138772Z",
     "iopub.status.idle": "2021-12-20T13:34:47.348624Z",
     "shell.execute_reply": "2021-12-20T13:34:47.349083Z",
     "shell.execute_reply.started": "2021-12-20T13:28:37.827582Z"
    },
    "papermill": {
     "duration": 0.299472,
     "end_time": "2021-12-20T13:34:47.349241",
     "exception": false,
     "start_time": "2021-12-20T13:34:47.049769",
     "status": "completed"
    },
    "tags": []
   },
   "outputs": [
    {
     "data": {
      "text/plain": [
       "<AxesSubplot:>"
      ]
     },
     "execution_count": 65,
     "metadata": {},
     "output_type": "execute_result"
    },
    {
     "data": {
      "image/png": "[encoded data removed]",
      "text/plain": [
       "<Figure size 432x288 with 1 Axes>"
      ]
     },
     "metadata": {
      "needs_background": "light"
     },
     "output_type": "display_data"
    }
   ],
   "source": [
    "# У меня получился результат, отличный от полученного в модуле. Самым важным среди непрерывных\n",
    "# признаков является score_bki\n",
    "cols=['age', 'score_bki', 'decline_app_cnt', 'bki_request_cnt', 'income','timedelta','pca_component']\n",
    "imp_num = pd.Series(f_classif(data[cols], data['default'])[0], index = cols)\n",
    "imp_num.sort_values(inplace = True)\n",
    "imp_num.plot(kind = 'barh')"
   ]
  },
  {
   "cell_type": "code",
   "execution_count": 66,
   "id": "27dc41f8",
   "metadata": {
    "execution": {
     "iopub.execute_input": "2021-12-20T13:34:47.514861Z",
     "iopub.status.busy": "2021-12-20T13:34:47.514227Z",
     "iopub.status.idle": "2021-12-20T13:34:47.517135Z",
     "shell.execute_reply": "2021-12-20T13:34:47.517712Z",
     "shell.execute_reply.started": "2021-12-20T13:01:19.615916Z"
    },
    "papermill": {
     "duration": 0.087372,
     "end_time": "2021-12-20T13:34:47.517888",
     "exception": false,
     "start_time": "2021-12-20T13:34:47.430516",
     "status": "completed"
    },
    "tags": []
   },
   "outputs": [],
   "source": [
    "from sklearn.feature_selection import mutual_info_classif"
   ]
  },
  {
   "cell_type": "code",
   "execution_count": 67,
   "id": "88421c69",
   "metadata": {
    "execution": {
     "iopub.execute_input": "2021-12-20T13:34:47.683414Z",
     "iopub.status.busy": "2021-12-20T13:34:47.682806Z",
     "iopub.status.idle": "2021-12-20T13:34:48.120587Z",
     "shell.execute_reply": "2021-12-20T13:34:48.119982Z",
     "shell.execute_reply.started": "2021-12-20T13:28:43.209861Z"
    },
    "papermill": {
     "duration": 0.521508,
     "end_time": "2021-12-20T13:34:48.120740",
     "exception": false,
     "start_time": "2021-12-20T13:34:47.599232",
     "status": "completed"
    },
    "tags": []
   },
   "outputs": [
    {
     "data": {
      "text/plain": [
       "<AxesSubplot:>"
      ]
     },
     "execution_count": 67,
     "metadata": {},
     "output_type": "execute_result"
    },
    {
     "data": {
      "image/png": "[encoded data removed]",
      "text/plain": [
       "<Figure size 432x288 with 1 Axes>"
      ]
     },
     "metadata": {
      "needs_background": "light"
     },
     "output_type": "display_data"
    }
   ],
   "source": [
    "# У меня получился результат, отличный от полученного в модуле. Самым важным среди категориальных и \n",
    "# бинарных признаков является sna\n",
    "other_cols = ['first_time', 'sna', 'work_address', 'home_address', 'region_rating','app_day','app_month','app_day_of_week','sex', 'car', 'car_type', 'good_work', 'foreign_passport']\n",
    "\n",
    "imp_cat = pd.Series(mutual_info_classif(data[other_cols], data['default'],\n",
    "                                     discrete_features =True), index = other_cols)\n",
    "imp_cat.sort_values(inplace = True)\n",
    "imp_cat.plot(kind = 'barh')"
   ]
  },
  {
   "cell_type": "markdown",
   "id": "75310e8e",
   "metadata": {
    "papermill": {
     "duration": 0.083689,
     "end_time": "2021-12-20T13:34:48.287293",
     "exception": false,
     "start_time": "2021-12-20T13:34:48.203604",
     "status": "completed"
    },
    "tags": []
   },
   "source": [
    "**Прменение модели**"
   ]
  },
  {
   "cell_type": "code",
   "execution_count": 68,
   "id": "2be97da8",
   "metadata": {
    "execution": {
     "iopub.execute_input": "2021-12-20T13:34:48.454332Z",
     "iopub.status.busy": "2021-12-20T13:34:48.453642Z",
     "iopub.status.idle": "2021-12-20T13:34:48.477526Z",
     "shell.execute_reply": "2021-12-20T13:34:48.477996Z",
     "shell.execute_reply.started": "2021-12-20T13:28:47.421272Z"
    },
    "papermill": {
     "duration": 0.109355,
     "end_time": "2021-12-20T13:34:48.478180",
     "exception": false,
     "start_time": "2021-12-20T13:34:48.368825",
     "status": "completed"
    },
    "tags": []
   },
   "outputs": [],
   "source": [
    "# Теперь выделим тестовую часть\n",
    "train_data = data.query('sample == 1').drop(['sample'], axis=1)\n",
    "test_data = data.query('sample == 0').drop(['sample', 'default'], axis=1)"
   ]
  },
  {
   "cell_type": "code",
   "execution_count": 69,
   "id": "a1d24089",
   "metadata": {
    "execution": {
     "iopub.execute_input": "2021-12-20T13:34:48.646951Z",
     "iopub.status.busy": "2021-12-20T13:34:48.646135Z",
     "iopub.status.idle": "2021-12-20T13:34:48.648620Z",
     "shell.execute_reply": "2021-12-20T13:34:48.649076Z",
     "shell.execute_reply.started": "2021-12-20T13:19:40.005406Z"
    },
    "papermill": {
     "duration": 0.088909,
     "end_time": "2021-12-20T13:34:48.649237",
     "exception": false,
     "start_time": "2021-12-20T13:34:48.560328",
     "status": "completed"
    },
    "tags": []
   },
   "outputs": [],
   "source": [
    "from sklearn.model_selection import StratifiedShuffleSplit"
   ]
  },
  {
   "cell_type": "code",
   "execution_count": 70,
   "id": "5500dc9f",
   "metadata": {
    "execution": {
     "iopub.execute_input": "2021-12-20T13:34:48.825611Z",
     "iopub.status.busy": "2021-12-20T13:34:48.824712Z",
     "iopub.status.idle": "2021-12-20T13:34:48.827457Z",
     "shell.execute_reply": "2021-12-20T13:34:48.826999Z",
     "shell.execute_reply.started": "2021-12-20T13:20:53.761293Z"
    },
    "papermill": {
     "duration": 0.096279,
     "end_time": "2021-12-20T13:34:48.827596",
     "exception": false,
     "start_time": "2021-12-20T13:34:48.731317",
     "status": "completed"
    },
    "tags": []
   },
   "outputs": [],
   "source": [
    "# Я попробовала использовать разбиение выборки с помощью StratifiedShuffleSplit. Это не привело к\n",
    "# улучшению целевой метрики. Поэтому я вернулась к train_test_split.\n",
    "# sss = StratifiedShuffleSplit(n_splits=1, test_size=0.2)\n",
    "# train_indices, valid_indices = [split for split in sss.split(train_data.drop(['default'],axis=1), train_data['default'])][0]\n",
    "\n",
    "# X1=train_data[['age','decline_app_cnt','bki_request_cnt','income', 'score_bki','pca_component','timedelta']].values\n",
    "# X2=test_data[['age','decline_app_cnt','bki_request_cnt','income', 'score_bki','pca_component','timedelta']].values\n",
    "\n",
    "# scaler=RobustScaler()\n",
    "# X1_transformed=scaler.fit_transform(X1)\n",
    "# X2_transformed=scaler.transform(X2)\n",
    "\n",
    "# train_data[['age','decline_app_cnt','bki_request_cnt','income', 'score_bki','pca_component','timedelta']]=X1_transformed\n",
    "# test_data[['age','decline_app_cnt','bki_request_cnt','income', 'score_bki','pca_component','timedelta']]=X2_transformed\n",
    "\n",
    "# s_train = train_data.iloc[train_indices]\n",
    "# s_valid = train_data.iloc[valid_indices]\n",
    "\n",
    "# numeric_cols=['age','decline_app_cnt','bki_request_cnt','income', 'score_bki','pca_component','timedelta']\n",
    "\n",
    "# from sklearn.preprocessing import OneHotEncoder\n",
    "\n",
    "# columns = ['education','first_time', 'sna', 'work_address', 'home_address', 'region_rating','app_day','app_month','app_day_of_week']\n",
    "# ohe_train_train=OneHotEncoder(sparse=False)\n",
    "# X_cat_train_train = ohe_train_train.fit_transform(s_train[columns].values)\n",
    "\n",
    "# ohe_train_test=OneHotEncoder(sparse=False)\n",
    "# X_cat_train_test = ohe_train_test.fit_transform(s_valid[columns].values)\n",
    "\n",
    "# ohe_test=OneHotEncoder(sparse=False)\n",
    "# X_cat_test=ohe_test.fit_transform(test_data[columns].values)\n",
    "\n",
    "# X_train=np.hstack([s_train[numeric_cols].values, s_train[bin_cols].values, X_cat_train_train])\n",
    "# X_test=np.hstack([s_valid[numeric_cols].values, s_valid[bin_cols].values, X_cat_train_test])\n",
    "\n",
    "# y_train=s_train['default'].values\n",
    "# y_test=s_valid['default'].values\n",
    "\n",
    "# X_train=pd.DataFrame(X_train, columns=[i for i in range(0,80)], index=[j for j in range(0,59039)])\n",
    "# X_test=pd.DataFrame(X_test, columns=[i for i in range(0,80)], index=[j for j in range(0,14760)])\n",
    "# X=X_train.append(X_test,sort=False).reset_index(drop=True)\n",
    "\n",
    "# y_train=pd.DataFrame(y_train, columns=['0'], index=[j for j in range(0,59039)])\n",
    "# y_test=pd.DataFrame(y_test, columns=['0'], index=[j for j in range(0,14760)])\n",
    "# y=y_train.append(y_test,sort=False).reset_index(drop=True)\n",
    "\n",
    "# X_valid=np.hstack([X2_transformed,test_data[bin_cols], X_cat_test])"
   ]
  },
  {
   "cell_type": "code",
   "execution_count": 71,
   "id": "6aab31a2",
   "metadata": {
    "execution": {
     "iopub.execute_input": "2021-12-20T13:34:49.011410Z",
     "iopub.status.busy": "2021-12-20T13:34:49.010765Z",
     "iopub.status.idle": "2021-12-20T13:34:49.195576Z",
     "shell.execute_reply": "2021-12-20T13:34:49.194922Z",
     "shell.execute_reply.started": "2021-12-20T13:29:08.657080Z"
    },
    "papermill": {
     "duration": 0.282681,
     "end_time": "2021-12-20T13:34:49.195731",
     "exception": false,
     "start_time": "2021-12-20T13:34:48.913050",
     "status": "completed"
    },
    "tags": []
   },
   "outputs": [],
   "source": [
    "# Проведем обработку категориальных признаков отдельно в test и train. Используем для этого \n",
    "# OneHotEncoder. Практика показала, что это дает увеличение целевой метрики по сравнению с \n",
    "# использованием необработанных категориальных признаков.\n",
    "\n",
    "from sklearn.preprocessing import OneHotEncoder\n",
    "\n",
    "columns = ['education','first_time', 'sna', 'work_address', 'home_address', 'region_rating','app_day','app_month','app_day_of_week']\n",
    "ohe_train=OneHotEncoder(sparse=False)\n",
    "X_cat_train = ohe_train.fit_transform(train_data[columns].values)\n",
    "\n",
    "ohe_test=OneHotEncoder(sparse=False)\n",
    "X_cat_test=ohe_test.fit_transform(test_data[columns].values)"
   ]
  },
  {
   "cell_type": "code",
   "execution_count": 72,
   "id": "6881efaa",
   "metadata": {
    "execution": {
     "iopub.execute_input": "2021-12-20T13:34:49.364220Z",
     "iopub.status.busy": "2021-12-20T13:34:49.363617Z",
     "iopub.status.idle": "2021-12-20T13:34:49.372387Z",
     "shell.execute_reply": "2021-12-20T13:34:49.372877Z",
     "shell.execute_reply.started": "2021-12-20T13:29:12.138949Z"
    },
    "papermill": {
     "duration": 0.093797,
     "end_time": "2021-12-20T13:34:49.373042",
     "exception": false,
     "start_time": "2021-12-20T13:34:49.279245",
     "status": "completed"
    },
    "tags": []
   },
   "outputs": [],
   "source": [
    "# Обработаем по отдельности колонки c непрерывным типом данных из train и test\n",
    "X1=train_data[['age','decline_app_cnt','bki_request_cnt','income', 'score_bki','pca_component','timedelta']].values\n",
    "X2=test_data[['age','decline_app_cnt','bki_request_cnt','income', 'score_bki','pca_component','timedelta']].values"
   ]
  },
  {
   "cell_type": "code",
   "execution_count": 73,
   "id": "39d7e292",
   "metadata": {
    "execution": {
     "iopub.execute_input": "2021-12-20T13:34:49.540591Z",
     "iopub.status.busy": "2021-12-20T13:34:49.540009Z",
     "iopub.status.idle": "2021-12-20T13:34:49.565377Z",
     "shell.execute_reply": "2021-12-20T13:34:49.565875Z",
     "shell.execute_reply.started": "2021-12-20T13:29:15.150385Z"
    },
    "papermill": {
     "duration": 0.111469,
     "end_time": "2021-12-20T13:34:49.566043",
     "exception": false,
     "start_time": "2021-12-20T13:34:49.454574",
     "status": "completed"
    },
    "tags": []
   },
   "outputs": [],
   "source": [
    "# Пропустим через RobustScaler все колонки с непрерывным типом данных. Я выбрала RobustScaler, потому что\n",
    "# он нечувствителен к выбросам и дает лучший результат в Kaggle, чем StandardScaler. \n",
    "# Обработаем отдельно колонки из test и train\n",
    "scaler=RobustScaler()\n",
    "X1_transformed=scaler.fit_transform(X1)\n",
    "X2_transformed=scaler.transform(X2)"
   ]
  },
  {
   "cell_type": "code",
   "execution_count": 74,
   "id": "614e7410",
   "metadata": {
    "execution": {
     "iopub.execute_input": "2021-12-20T13:34:49.732407Z",
     "iopub.status.busy": "2021-12-20T13:34:49.731771Z",
     "iopub.status.idle": "2021-12-20T13:34:49.745388Z",
     "shell.execute_reply": "2021-12-20T13:34:49.745883Z",
     "shell.execute_reply.started": "2021-12-20T13:29:18.291611Z"
    },
    "papermill": {
     "duration": 0.098362,
     "end_time": "2021-12-20T13:34:49.746057",
     "exception": false,
     "start_time": "2021-12-20T13:34:49.647695",
     "status": "completed"
    },
    "tags": []
   },
   "outputs": [],
   "source": [
    "# Запишем в датасет нормализованные значения колонок\n",
    "train_data[['age','decline_app_cnt','bki_request_cnt','income', 'score_bki','pca_component','timedelta']]=X1_transformed\n",
    "test_data[['age','decline_app_cnt','bki_request_cnt','income', 'score_bki','pca_component','timedelta']]=X2_transformed"
   ]
  },
  {
   "cell_type": "code",
   "execution_count": 75,
   "id": "19158aa0",
   "metadata": {
    "execution": {
     "iopub.execute_input": "2021-12-20T13:34:49.915130Z",
     "iopub.status.busy": "2021-12-20T13:34:49.914426Z",
     "iopub.status.idle": "2021-12-20T13:34:49.963938Z",
     "shell.execute_reply": "2021-12-20T13:34:49.964459Z",
     "shell.execute_reply.started": "2021-12-20T13:29:21.470919Z"
    },
    "papermill": {
     "duration": 0.136634,
     "end_time": "2021-12-20T13:34:49.964632",
     "exception": false,
     "start_time": "2021-12-20T13:34:49.827998",
     "status": "completed"
    },
    "tags": []
   },
   "outputs": [],
   "source": [
    "# Составим матрицу независимых переменных для train и валидации\n",
    "X=np.hstack([X1_transformed, train_data[bin_cols].values, X_cat_train])\n",
    "X_valid=np.hstack([X2_transformed,test_data[bin_cols], X_cat_test])"
   ]
  },
  {
   "cell_type": "code",
   "execution_count": 76,
   "id": "fe155c88",
   "metadata": {
    "execution": {
     "iopub.execute_input": "2021-12-20T13:34:50.136821Z",
     "iopub.status.busy": "2021-12-20T13:34:50.136107Z",
     "iopub.status.idle": "2021-12-20T13:34:50.138435Z",
     "shell.execute_reply": "2021-12-20T13:34:50.138987Z",
     "shell.execute_reply.started": "2021-12-20T13:29:23.602977Z"
    },
    "papermill": {
     "duration": 0.091117,
     "end_time": "2021-12-20T13:34:50.139188",
     "exception": false,
     "start_time": "2021-12-20T13:34:50.048071",
     "status": "completed"
    },
    "tags": []
   },
   "outputs": [],
   "source": [
    "y = train_data['default'].values  # наш таргет\n",
    "# X = train_data.drop(['default'], axis=1)"
   ]
  },
  {
   "cell_type": "code",
   "execution_count": 77,
   "id": "2a8a9c14",
   "metadata": {
    "execution": {
     "iopub.execute_input": "2021-12-20T13:34:50.310234Z",
     "iopub.status.busy": "2021-12-20T13:34:50.309251Z",
     "iopub.status.idle": "2021-12-20T13:34:50.338643Z",
     "shell.execute_reply": "2021-12-20T13:34:50.339102Z",
     "shell.execute_reply.started": "2021-12-20T13:02:34.868558Z"
    },
    "papermill": {
     "duration": 0.115952,
     "end_time": "2021-12-20T13:34:50.339278",
     "exception": false,
     "start_time": "2021-12-20T13:34:50.223326",
     "status": "completed"
    },
    "tags": []
   },
   "outputs": [],
   "source": [
    "# Воспользуемся специальной функцие train_test_split для разбивки тестовых данных\n",
    "from sklearn.model_selection import train_test_split\n",
    "\n",
    "# выделим 20% данных на валидацию (параметр test_size)\n",
    "X_train, X_test, y_train, y_test = train_test_split(X, y, test_size=0.2, random_state=42)"
   ]
  },
  {
   "cell_type": "code",
   "execution_count": 78,
   "id": "77e81934",
   "metadata": {
    "execution": {
     "iopub.execute_input": "2021-12-20T13:34:50.508692Z",
     "iopub.status.busy": "2021-12-20T13:34:50.508056Z",
     "iopub.status.idle": "2021-12-20T13:34:50.510231Z",
     "shell.execute_reply": "2021-12-20T13:34:50.510787Z",
     "shell.execute_reply.started": "2021-12-20T13:02:38.400084Z"
    },
    "papermill": {
     "duration": 0.089519,
     "end_time": "2021-12-20T13:34:50.510959",
     "exception": false,
     "start_time": "2021-12-20T13:34:50.421440",
     "status": "completed"
    },
    "tags": []
   },
   "outputs": [
    {
     "data": {
      "text/plain": [
       "((59039, 80), (14760, 80), (59039,), (14760,))"
      ]
     },
     "execution_count": 78,
     "metadata": {},
     "output_type": "execute_result"
    }
   ],
   "source": [
    "# проверяем\n",
    "X_train.shape, X_test.shape, y_train.shape, y_test.shape"
   ]
  },
  {
   "cell_type": "code",
   "execution_count": 79,
   "id": "f76bb2f2",
   "metadata": {
    "execution": {
     "iopub.execute_input": "2021-12-20T13:34:50.680098Z",
     "iopub.status.busy": "2021-12-20T13:34:50.679244Z",
     "iopub.status.idle": "2021-12-20T13:34:50.681960Z",
     "shell.execute_reply": "2021-12-20T13:34:50.682380Z",
     "shell.execute_reply.started": "2021-12-14T07:23:49.931718Z"
    },
    "papermill": {
     "duration": 0.089087,
     "end_time": "2021-12-20T13:34:50.682551",
     "exception": false,
     "start_time": "2021-12-20T13:34:50.593464",
     "status": "completed"
    },
    "tags": []
   },
   "outputs": [],
   "source": [
    "# scaler=RobustScaler()\n",
    "# X_train=scaler.fit_transform(X_train)\n",
    "# X_test=scaler.transform(X_test)"
   ]
  },
  {
   "cell_type": "code",
   "execution_count": 80,
   "id": "7cb383f0",
   "metadata": {
    "execution": {
     "iopub.execute_input": "2021-12-20T13:34:50.852495Z",
     "iopub.status.busy": "2021-12-20T13:34:50.851871Z",
     "iopub.status.idle": "2021-12-20T13:34:50.853840Z",
     "shell.execute_reply": "2021-12-20T13:34:50.854299Z",
     "shell.execute_reply.started": "2021-12-20T13:02:47.606550Z"
    },
    "papermill": {
     "duration": 0.088843,
     "end_time": "2021-12-20T13:34:50.854459",
     "exception": false,
     "start_time": "2021-12-20T13:34:50.765616",
     "status": "completed"
    },
    "tags": []
   },
   "outputs": [],
   "source": [
    "# Импортируем необходимые библиотеки:\n",
    "from sklearn.linear_model import LogisticRegression # инструмент для создания и обучения модели\n",
    "from sklearn import metrics # инструменты для оценки точности модели"
   ]
  },
  {
   "cell_type": "code",
   "execution_count": 81,
   "id": "00ec1947",
   "metadata": {
    "execution": {
     "iopub.execute_input": "2021-12-20T13:34:51.026567Z",
     "iopub.status.busy": "2021-12-20T13:34:51.024408Z",
     "iopub.status.idle": "2021-12-20T13:34:51.040568Z",
     "shell.execute_reply": "2021-12-20T13:34:51.041118Z",
     "shell.execute_reply.started": "2021-12-18T12:40:32.492589Z"
    },
    "papermill": {
     "duration": 0.104011,
     "end_time": "2021-12-20T13:34:51.041302",
     "exception": false,
     "start_time": "2021-12-20T13:34:50.937291",
     "status": "completed"
    },
    "tags": []
   },
   "outputs": [
    {
     "name": "stdout",
     "output_type": "stream",
     "text": [
      "<class 'pandas.core.frame.DataFrame'>\n",
      "RangeIndex: 110148 entries, 0 to 110147\n",
      "Data columns (total 23 columns):\n",
      " #   Column            Non-Null Count   Dtype  \n",
      "---  ------            --------------   -----  \n",
      " 0   education         110148 non-null  int64  \n",
      " 1   sex               110148 non-null  int64  \n",
      " 2   age               110148 non-null  int64  \n",
      " 3   car               110148 non-null  int64  \n",
      " 4   car_type          110148 non-null  int64  \n",
      " 5   decline_app_cnt   110148 non-null  float64\n",
      " 6   good_work         110148 non-null  int64  \n",
      " 7   score_bki         110148 non-null  float64\n",
      " 8   bki_request_cnt   110148 non-null  float64\n",
      " 9   region_rating     110148 non-null  int64  \n",
      " 10  home_address      110148 non-null  int64  \n",
      " 11  work_address      110148 non-null  int64  \n",
      " 12  income            110148 non-null  float64\n",
      " 13  sna               110148 non-null  int64  \n",
      " 14  first_time        110148 non-null  int64  \n",
      " 15  foreign_passport  110148 non-null  int64  \n",
      " 16  sample            110148 non-null  int64  \n",
      " 17  default           110148 non-null  int64  \n",
      " 18  app_month         110148 non-null  int64  \n",
      " 19  app_day           110148 non-null  int64  \n",
      " 20  app_day_of_week   110148 non-null  int64  \n",
      " 21  timedelta         110148 non-null  int64  \n",
      " 22  pca_component     110148 non-null  float64\n",
      "dtypes: float64(5), int64(18)\n",
      "memory usage: 19.3 MB\n"
     ]
    }
   ],
   "source": [
    "data.info()"
   ]
  },
  {
   "cell_type": "code",
   "execution_count": 82,
   "id": "6384925b",
   "metadata": {
    "execution": {
     "iopub.execute_input": "2021-12-20T13:34:51.218919Z",
     "iopub.status.busy": "2021-12-20T13:34:51.215110Z",
     "iopub.status.idle": "2021-12-20T13:34:52.913084Z",
     "shell.execute_reply": "2021-12-20T13:34:52.912150Z",
     "shell.execute_reply.started": "2021-12-20T13:29:34.119205Z"
    },
    "papermill": {
     "duration": 1.787621,
     "end_time": "2021-12-20T13:34:52.913345",
     "exception": false,
     "start_time": "2021-12-20T13:34:51.125724",
     "status": "completed"
    },
    "tags": []
   },
   "outputs": [],
   "source": [
    "# Создадим модель в оптимальными параметрами, найденными с помощью инструмента GridSearchCV\n",
    "# Ниже я закомментировала запуск кода с GridSearchCV, т.к. он требует очень много времени.\n",
    "# Найти оптимальные параметры достаточно один раз. Нет необходимости запускать этот кусок кода \n",
    "# каждый раз при запуске ноутбука. Единственное, что я изменила - это количество итераций. GridSearchCV\n",
    "# каждый раз запускался с количеством итераций 50. Я изменила это число на 1000 в итоговой модели.\n",
    "# Это дает лучший результат.\n",
    "logreg = LogisticRegression(solver='saga', max_iter=1000, class_weight='balanced', penalty='l2', tol=0.001, multi_class='ovr')\n",
    "logreg.fit(X_train, y_train)\n",
    "y_pred = logreg.predict(X_test) \n",
    "Y_pred=logreg.predict(X_train)\n",
    "y_pred_proba=logreg.predict_proba(X_test)\n",
    "y_pred_proba=y_pred_proba[:,1]\n",
    "Y_pred_proba=logreg.predict_proba(X_train)\n",
    "Y_pred_proba=Y_pred_proba[:,1]"
   ]
  },
  {
   "cell_type": "markdown",
   "id": "74e42437",
   "metadata": {
    "papermill": {
     "duration": 0.084029,
     "end_time": "2021-12-20T13:34:53.141857",
     "exception": false,
     "start_time": "2021-12-20T13:34:53.057828",
     "status": "completed"
    },
    "tags": []
   },
   "source": [
    "**Вот найденные методом GridSearchCV оптимальные параметры модели:**\n",
    "* C: 1.0 (параметр по умолчанию)\n",
    "* class_weight: 'balanced' (подобрано, по умолчанию None)\n",
    "* dual: False (по умолчанию)\n",
    "* fit_intercept: True (по умолчанию)\n",
    "* intercept_scaling: 1 (по умолчанию)\n",
    "* l1_ratio: None (по умолчанию)\n",
    "* max_iter: 50 (установлено нами)\n",
    "* multi_class: 'ovr' (подобрано, по умолчанию auto)\n",
    "* n_jobs: None (по умолчанию)\n",
    "* penalty: 'l2' (по умолчанию)\n",
    "* random_state: None (по умолчанию)\n",
    "* solver: 'saga' (подобрано, по умолчанию lbfgs)\n",
    "* tol: 0.001 (подобрано, по умолчанию 0.0001)\n",
    "* verbose: 0 (по умолчанию)\n",
    "* warm_start: False (по умолчанию)"
   ]
  },
  {
   "cell_type": "code",
   "execution_count": 83,
   "id": "fea8bae3",
   "metadata": {
    "execution": {
     "iopub.execute_input": "2021-12-20T13:34:53.317903Z",
     "iopub.status.busy": "2021-12-20T13:34:53.317168Z",
     "iopub.status.idle": "2021-12-20T13:34:53.320576Z",
     "shell.execute_reply": "2021-12-20T13:34:53.320097Z",
     "shell.execute_reply.started": "2021-12-20T13:21:26.477551Z"
    },
    "papermill": {
     "duration": 0.095954,
     "end_time": "2021-12-20T13:34:53.320788",
     "exception": false,
     "start_time": "2021-12-20T13:34:53.224834",
     "status": "completed"
    },
    "tags": []
   },
   "outputs": [],
   "source": [
    "# Импортируем все необходимые метрики\n",
    "from sklearn.metrics import classification_report, f1_score, accuracy_score, precision_score, roc_auc_score, recall_score, confusion_matrix"
   ]
  },
  {
   "cell_type": "code",
   "execution_count": 84,
   "id": "5bf6c734",
   "metadata": {
    "execution": {
     "iopub.execute_input": "2021-12-20T13:34:53.501513Z",
     "iopub.status.busy": "2021-12-20T13:34:53.500855Z",
     "iopub.status.idle": "2021-12-20T13:34:53.503170Z",
     "shell.execute_reply": "2021-12-20T13:34:53.503721Z",
     "shell.execute_reply.started": "2021-12-20T13:21:29.374216Z"
    },
    "papermill": {
     "duration": 0.097048,
     "end_time": "2021-12-20T13:34:53.503925",
     "exception": false,
     "start_time": "2021-12-20T13:34:53.406877",
     "status": "completed"
    },
    "tags": []
   },
   "outputs": [],
   "source": [
    "# Напишем функцию, которая будет отображать нам значения всех метрик на тренировочной выборке и на тестовой\n",
    "def show_metrics(y_pred_train, Y_train, y_pred_test, Y_test, y_pred_proba_train, y_pred_proba_test):\n",
    "    f1_score_train=f1_score(y_pred_train,Y_train)\n",
    "    f1_score_test=f1_score(y_pred_test,Y_test)\n",
    "    print('[train] f1_score {0:.2f}, [test] f1_score {1:.2f}\\n'.format(f1_score_train,f1_score_test))\n",
    "    precision_score_train=precision_score(y_pred_train,Y_train)\n",
    "    precision_score_test=precision_score(y_pred_test,Y_test)\n",
    "    print('[train] precision_score {0:.2f}, [test] precision_score {1:.2f}\\n'.format(precision_score_train,precision_score_test))\n",
    "    recall_score_train=recall_score(y_pred_train,Y_train)\n",
    "    recall_score_test=recall_score(y_pred_test,Y_test)\n",
    "    print('[train] recall_score {0:.2f}, [test] recall_score {1:.2f}\\n'.format(recall_score_train,recall_score_test))\n",
    "    accuracy_score_train=accuracy_score(y_pred_train,Y_train)\n",
    "    accuracy_score_test=accuracy_score(y_pred_test,Y_test)\n",
    "    print('[train] accuracy_score {0:.2f}, [test] accuracy_score {1:.2f}\\n'.format(accuracy_score_train,accuracy_score_test))\n",
    "    roc_auc_score_train=roc_auc_score(Y_train,y_pred_proba_train)\n",
    "    roc_auc_score_test=roc_auc_score(Y_test,y_pred_proba_test)\n",
    "    print('[train] roc_auc_score {0:.2f}, [test] roc_auc_score {1:.2f}\\n'.format(roc_auc_score_train,roc_auc_score_test))\n",
    "    confusion_matrix_train=confusion_matrix(y_pred_train,Y_train)\n",
    "    confusion_matrix_test=confusion_matrix(y_pred_test,Y_test)\n",
    "    print('[train] confusion_matrix \\n {0}, \\n[test] confusion_matrix \\n {1}\\n'.format(confusion_matrix_train,confusion_matrix_test))"
   ]
  },
  {
   "cell_type": "code",
   "execution_count": 85,
   "id": "a39cfeb4",
   "metadata": {
    "execution": {
     "iopub.execute_input": "2021-12-20T13:34:53.677179Z",
     "iopub.status.busy": "2021-12-20T13:34:53.676463Z",
     "iopub.status.idle": "2021-12-20T13:34:53.846016Z",
     "shell.execute_reply": "2021-12-20T13:34:53.846495Z",
     "shell.execute_reply.started": "2021-12-20T13:21:33.318848Z"
    },
    "papermill": {
     "duration": 0.257777,
     "end_time": "2021-12-20T13:34:53.846703",
     "exception": false,
     "start_time": "2021-12-20T13:34:53.588926",
     "status": "completed"
    },
    "tags": []
   },
   "outputs": [
    {
     "name": "stdout",
     "output_type": "stream",
     "text": [
      "[train] f1_score 0.34, [test] f1_score 0.34\n",
      "\n",
      "[train] precision_score 0.67, [test] precision_score 0.67\n",
      "\n",
      "[train] recall_score 0.23, [test] recall_score 0.22\n",
      "\n",
      "[train] accuracy_score 0.67, [test] accuracy_score 0.67\n",
      "\n",
      "[train] roc_auc_score 0.74, [test] roc_auc_score 0.74\n",
      "\n",
      "[train] confusion_matrix \n",
      " [[34578  2487]\n",
      " [16916  5058]], \n",
      "[test] confusion_matrix \n",
      " [[8665  596]\n",
      " [4268 1231]]\n",
      "\n"
     ]
    }
   ],
   "source": [
    "# Проверим, нет ли переобучения модели\n",
    "show_metrics(Y_pred,y_train,y_pred,y_test,Y_pred_proba,y_pred_proba)"
   ]
  },
  {
   "cell_type": "code",
   "execution_count": 86,
   "id": "2679db76",
   "metadata": {
    "execution": {
     "iopub.execute_input": "2021-12-20T13:34:54.048987Z",
     "iopub.status.busy": "2021-12-20T13:34:54.045509Z",
     "iopub.status.idle": "2021-12-20T13:35:03.555966Z",
     "shell.execute_reply": "2021-12-20T13:35:03.556746Z",
     "shell.execute_reply.started": "2021-12-20T08:51:03.996557Z"
    },
    "papermill": {
     "duration": 9.624881,
     "end_time": "2021-12-20T13:35:03.557035",
     "exception": false,
     "start_time": "2021-12-20T13:34:53.932154",
     "status": "completed"
    },
    "tags": []
   },
   "outputs": [],
   "source": [
    "# Кажется, переобучения нет. Чтобы проверить это, воспользуемся функцией cross_validate \n",
    "# из обучающего модуля\n",
    "\n",
    "from sklearn.model_selection import cross_validate\n",
    "cv_metrics = cross_validate(logreg, X, y, cv=5, scoring='f1_micro', return_train_score=True)\n",
    "\n",
    "def plot_cv_metrics(cv_metrics):\n",
    "    avg_f1_train, std_f1_train = cv_metrics['train_score'].mean(), cv_metrics['train_score'].std()\n",
    "    avg_f1_valid, std_f1_valid = cv_metrics['test_score'].mean(), cv_metrics['test_score'].std()\n",
    "    print('[train] F1-score = {:.2f} +/- {:.2f}'.format(avg_f1_train, std_f1_train))\n",
    "    print('[valid] F1-score = {:.2f} +/- {:.2f}'.format(avg_f1_valid, std_f1_valid))\n",
    "    \n",
    "    plt.figure(figsize=(15, 5))\n",
    "\n",
    "    plt.plot(cv_metrics['train_score'], label='train', marker='.')\n",
    "    plt.plot(cv_metrics['test_score'], label='valid', marker='.')\n",
    "\n",
    "    plt.ylim([0., 1.]);\n",
    "    plt.xlabel('CV iteration', fontsize=15)\n",
    "    plt.ylabel('F1-score', fontsize=15)\n",
    "    plt.legend(fontsize=15)"
   ]
  },
  {
   "cell_type": "code",
   "execution_count": 87,
   "id": "86940548",
   "metadata": {
    "execution": {
     "iopub.execute_input": "2021-12-20T13:35:03.767519Z",
     "iopub.status.busy": "2021-12-20T13:35:03.766547Z",
     "iopub.status.idle": "2021-12-20T13:35:03.956643Z",
     "shell.execute_reply": "2021-12-20T13:35:03.956138Z",
     "shell.execute_reply.started": "2021-12-20T08:51:20.518539Z"
    },
    "papermill": {
     "duration": 0.278175,
     "end_time": "2021-12-20T13:35:03.956817",
     "exception": false,
     "start_time": "2021-12-20T13:35:03.678642",
     "status": "completed"
    },
    "tags": []
   },
   "outputs": [
    {
     "name": "stdout",
     "output_type": "stream",
     "text": [
      "[train] F1-score = 0.67 +/- 0.00\n",
      "[valid] F1-score = 0.67 +/- 0.00\n"
     ]
    },
    {
     "data": {
      "image/png": "[encoded data removed]",
      "text/plain": [
       "<Figure size 1080x360 with 1 Axes>"
      ]
     },
     "metadata": {
      "needs_background": "light"
     },
     "output_type": "display_data"
    }
   ],
   "source": [
    "plot_cv_metrics(cv_metrics)\n",
    "# Похоже, переобучения действительно нет"
   ]
  },
  {
   "cell_type": "code",
   "execution_count": 88,
   "id": "f03ea659",
   "metadata": {
    "execution": {
     "iopub.execute_input": "2021-12-20T13:35:04.131700Z",
     "iopub.status.busy": "2021-12-20T13:35:04.130509Z",
     "iopub.status.idle": "2021-12-20T13:35:04.133714Z",
     "shell.execute_reply": "2021-12-20T13:35:04.134105Z",
     "shell.execute_reply.started": "2021-12-15T12:58:50.816968Z"
    },
    "papermill": {
     "duration": 0.091074,
     "end_time": "2021-12-20T13:35:04.134268",
     "exception": false,
     "start_time": "2021-12-20T13:35:04.043194",
     "status": "completed"
    },
    "tags": []
   },
   "outputs": [],
   "source": [
    "from sklearn.model_selection import GridSearchCV"
   ]
  },
  {
   "cell_type": "code",
   "execution_count": 89,
   "id": "dc3e5b19",
   "metadata": {
    "execution": {
     "iopub.execute_input": "2021-12-20T13:35:04.304674Z",
     "iopub.status.busy": "2021-12-20T13:35:04.304058Z",
     "iopub.status.idle": "2021-12-20T13:35:04.307551Z",
     "shell.execute_reply": "2021-12-20T13:35:04.308091Z",
     "shell.execute_reply.started": "2021-12-15T13:14:13.546402Z"
    },
    "papermill": {
     "duration": 0.090688,
     "end_time": "2021-12-20T13:35:04.308248",
     "exception": false,
     "start_time": "2021-12-20T13:35:04.217560",
     "status": "completed"
    },
    "tags": []
   },
   "outputs": [],
   "source": [
    "# Запутим подбор параметров модели, как в обучающем модуле\n",
    "# model=LogisticRegression()\n",
    "\n",
    "# iter_ = 50\n",
    "# epsilon_stop = 1e-3\n",
    "\n",
    "# param_grid = [   {'penalty': ['l1'], \n",
    "#      'solver': ['liblinear', 'lbfgs'], \n",
    "#      'class_weight':['none', 'balanced'], \n",
    "#      'multi_class': ['auto','ovr'], \n",
    "#      'max_iter':[iter_],\n",
    "#      'tol':[epsilon_stop]},\n",
    "#     {'penalty': ['l2'], \n",
    "#      'solver': ['newton-cg', 'lbfgs', 'liblinear', 'sag', 'saga'], \n",
    "#      'class_weight':['none', 'balanced'], \n",
    "#      'multi_class': ['auto','ovr'], \n",
    "#      'max_iter':[iter_],\n",
    "#      'tol':[epsilon_stop]},\n",
    "#     {'penalty': ['none'], \n",
    "#      'solver': ['newton-cg', 'lbfgs', 'sag', 'saga'], \n",
    "#      'class_weight':['none', 'balanced'], \n",
    "#      'multi_class': ['auto','ovr'], \n",
    "#      'max_iter':[iter_],\n",
    "#      'tol':[epsilon_stop]},\n",
    "# ]\n",
    "\n",
    "## model ваша модель логистической регрессии\n",
    "# gridsearch = GridSearchCV(model, param_grid, scoring='f1', n_jobs=-1, cv=5)\n",
    "# gridsearch.fit(X_train, y_train)\n",
    "# model = gridsearch.best_estimator_\n",
    "\n",
    "##печатаем параметры\n",
    "# best_parameters = model.get_params()\n",
    "# for param_name in sorted(best_parameters.keys()):\n",
    "#         print('\\t%s: %r' % (param_name, best_parameters[param_name]))"
   ]
  },
  {
   "cell_type": "code",
   "execution_count": 90,
   "id": "3b950d7c",
   "metadata": {
    "execution": {
     "iopub.execute_input": "2021-12-20T13:35:04.482276Z",
     "iopub.status.busy": "2021-12-20T13:35:04.481557Z",
     "iopub.status.idle": "2021-12-20T13:35:06.765845Z",
     "shell.execute_reply": "2021-12-20T13:35:06.766337Z",
     "shell.execute_reply.started": "2021-12-20T13:29:53.193806Z"
    },
    "papermill": {
     "duration": 2.374147,
     "end_time": "2021-12-20T13:35:06.766497",
     "exception": false,
     "start_time": "2021-12-20T13:35:04.392350",
     "status": "completed"
    },
    "tags": []
   },
   "outputs": [
    {
     "data": {
      "text/plain": [
       "LogisticRegression(class_weight='balanced', max_iter=1000, multi_class='ovr',\n",
       "                   solver='saga', tol=0.001)"
      ]
     },
     "execution_count": 90,
     "metadata": {},
     "output_type": "execute_result"
    }
   ],
   "source": [
    "# если качество нас устраивает, обучаем финальную модель на всех обучающи данных\n",
    "logreg_final = LogisticRegression(solver='saga', max_iter=1000, class_weight='balanced', penalty='l2',tol=0.001, multi_class='ovr')\n",
    "# logreg_final = LogisticRegression(solver='liblinear', max_iter=1000, class_weight='balanced')\n",
    "logreg_final.fit(X, y)"
   ]
  },
  {
   "cell_type": "code",
   "execution_count": 91,
   "id": "79c652b2",
   "metadata": {
    "execution": {
     "iopub.execute_input": "2021-12-20T13:35:06.940572Z",
     "iopub.status.busy": "2021-12-20T13:35:06.939583Z",
     "iopub.status.idle": "2021-12-20T13:35:06.942458Z",
     "shell.execute_reply": "2021-12-20T13:35:06.941985Z",
     "shell.execute_reply.started": "2021-12-10T14:14:52.962244Z"
    },
    "papermill": {
     "duration": 0.091017,
     "end_time": "2021-12-20T13:35:06.942593",
     "exception": false,
     "start_time": "2021-12-20T13:35:06.851576",
     "status": "completed"
    },
    "tags": []
   },
   "outputs": [],
   "source": [
    "# Это лишнее! test_data уже обработана\n",
    "# test_data['decline_app_cnt']=test_data['decline_app_cnt'].apply(lambda x: np.log(x+1))\n",
    "# test_data['bki_request_cnt']=test_data['bki_request_cnt'].apply(lambda x: np.log(x+1))\n",
    "# test_data['income']=test_data['income'].apply(lambda x: np.log(x+1))"
   ]
  },
  {
   "cell_type": "code",
   "execution_count": 92,
   "id": "f6a76d59",
   "metadata": {
    "execution": {
     "iopub.execute_input": "2021-12-20T13:35:07.116980Z",
     "iopub.status.busy": "2021-12-20T13:35:07.116327Z",
     "iopub.status.idle": "2021-12-20T13:35:07.119388Z",
     "shell.execute_reply": "2021-12-20T13:35:07.118919Z",
     "shell.execute_reply.started": "2021-12-10T14:14:57.226454Z"
    },
    "papermill": {
     "duration": 0.091306,
     "end_time": "2021-12-20T13:35:07.119526",
     "exception": false,
     "start_time": "2021-12-20T13:35:07.028220",
     "status": "completed"
    },
    "tags": []
   },
   "outputs": [],
   "source": [
    "# Это лишнее! test_data уже обработана\n",
    "# mean_score_test=test_data['score_bki'].mean()\n",
    "# test_data['score_bki']=(test_data['score_bki'] - mean_score_test)/np.linalg.norm(test_data['score_bki'])"
   ]
  },
  {
   "cell_type": "code",
   "execution_count": 93,
   "id": "18e45e23",
   "metadata": {
    "execution": {
     "iopub.execute_input": "2021-12-20T13:35:07.291801Z",
     "iopub.status.busy": "2021-12-20T13:35:07.291121Z",
     "iopub.status.idle": "2021-12-20T13:35:07.307022Z",
     "shell.execute_reply": "2021-12-20T13:35:07.307938Z",
     "shell.execute_reply.started": "2021-12-20T13:30:00.466496Z"
    },
    "papermill": {
     "duration": 0.103898,
     "end_time": "2021-12-20T13:35:07.308239",
     "exception": false,
     "start_time": "2021-12-20T13:35:07.204341",
     "status": "completed"
    },
    "tags": []
   },
   "outputs": [],
   "source": [
    "predict_submission = logreg_final.predict(X_valid)"
   ]
  },
  {
   "cell_type": "code",
   "execution_count": 94,
   "id": "8b1cd3a2",
   "metadata": {
    "execution": {
     "iopub.execute_input": "2021-12-20T13:35:07.536146Z",
     "iopub.status.busy": "2021-12-20T13:35:07.535429Z",
     "iopub.status.idle": "2021-12-20T13:35:07.585946Z",
     "shell.execute_reply": "2021-12-20T13:35:07.585338Z",
     "shell.execute_reply.started": "2021-12-20T13:30:03.324525Z"
    },
    "papermill": {
     "duration": 0.139517,
     "end_time": "2021-12-20T13:35:07.586113",
     "exception": false,
     "start_time": "2021-12-20T13:35:07.446596",
     "status": "completed"
    },
    "tags": []
   },
   "outputs": [
    {
     "data": {
      "text/html": [
       "<div>\n",
       "<style scoped>\n",
       "    .dataframe tbody tr th:only-of-type {\n",
       "        vertical-align: middle;\n",
       "    }\n",
       "\n",
       "    .dataframe tbody tr th {\n",
       "        vertical-align: top;\n",
       "    }\n",
       "\n",
       "    .dataframe thead th {\n",
       "        text-align: right;\n",
       "    }\n",
       "</style>\n",
       "<table border=\"1\" class=\"dataframe\">\n",
       "  <thead>\n",
       "    <tr style=\"text-align: right;\">\n",
       "      <th></th>\n",
       "      <th>client_id</th>\n",
       "      <th>default</th>\n",
       "    </tr>\n",
       "  </thead>\n",
       "  <tbody>\n",
       "    <tr>\n",
       "      <th>0</th>\n",
       "      <td>74835</td>\n",
       "      <td>0</td>\n",
       "    </tr>\n",
       "    <tr>\n",
       "      <th>1</th>\n",
       "      <td>17527</td>\n",
       "      <td>1</td>\n",
       "    </tr>\n",
       "    <tr>\n",
       "      <th>2</th>\n",
       "      <td>75683</td>\n",
       "      <td>0</td>\n",
       "    </tr>\n",
       "    <tr>\n",
       "      <th>3</th>\n",
       "      <td>26883</td>\n",
       "      <td>0</td>\n",
       "    </tr>\n",
       "    <tr>\n",
       "      <th>4</th>\n",
       "      <td>28862</td>\n",
       "      <td>0</td>\n",
       "    </tr>\n",
       "    <tr>\n",
       "      <th>5</th>\n",
       "      <td>99881</td>\n",
       "      <td>1</td>\n",
       "    </tr>\n",
       "    <tr>\n",
       "      <th>6</th>\n",
       "      <td>26630</td>\n",
       "      <td>1</td>\n",
       "    </tr>\n",
       "    <tr>\n",
       "      <th>7</th>\n",
       "      <td>79934</td>\n",
       "      <td>0</td>\n",
       "    </tr>\n",
       "    <tr>\n",
       "      <th>8</th>\n",
       "      <td>16605</td>\n",
       "      <td>0</td>\n",
       "    </tr>\n",
       "    <tr>\n",
       "      <th>9</th>\n",
       "      <td>105449</td>\n",
       "      <td>0</td>\n",
       "    </tr>\n",
       "  </tbody>\n",
       "</table>\n",
       "</div>"
      ],
      "text/plain": [
       "   client_id  default\n",
       "0      74835        0\n",
       "1      17527        1\n",
       "2      75683        0\n",
       "3      26883        0\n",
       "4      28862        0\n",
       "5      99881        1\n",
       "6      26630        1\n",
       "7      79934        0\n",
       "8      16605        0\n",
       "9     105449        0"
      ]
     },
     "execution_count": 94,
     "metadata": {},
     "output_type": "execute_result"
    }
   ],
   "source": [
    "sample_submission['default'] = predict_submission\n",
    "sample_submission.to_csv('submission.csv', index=False)\n",
    "sample_submission.head(10)"
   ]
  },
  {
   "cell_type": "code",
   "execution_count": 95,
   "id": "ad882428",
   "metadata": {
    "execution": {
     "iopub.execute_input": "2021-12-20T13:35:07.762570Z",
     "iopub.status.busy": "2021-12-20T13:35:07.762006Z",
     "iopub.status.idle": "2021-12-20T13:35:07.778381Z",
     "shell.execute_reply": "2021-12-20T13:35:07.777923Z",
     "shell.execute_reply.started": "2021-12-10T14:15:10.447783Z"
    },
    "papermill": {
     "duration": 0.103977,
     "end_time": "2021-12-20T13:35:07.778517",
     "exception": false,
     "start_time": "2021-12-20T13:35:07.674540",
     "status": "completed"
    },
    "tags": []
   },
   "outputs": [
    {
     "data": {
      "text/html": [
       "<div>\n",
       "<style scoped>\n",
       "    .dataframe tbody tr th:only-of-type {\n",
       "        vertical-align: middle;\n",
       "    }\n",
       "\n",
       "    .dataframe tbody tr th {\n",
       "        vertical-align: top;\n",
       "    }\n",
       "\n",
       "    .dataframe thead th {\n",
       "        text-align: right;\n",
       "    }\n",
       "</style>\n",
       "<table border=\"1\" class=\"dataframe\">\n",
       "  <thead>\n",
       "    <tr style=\"text-align: right;\">\n",
       "      <th></th>\n",
       "      <th>client_id</th>\n",
       "      <th>default</th>\n",
       "    </tr>\n",
       "  </thead>\n",
       "  <tbody>\n",
       "    <tr>\n",
       "      <th>count</th>\n",
       "      <td>36349.000000</td>\n",
       "      <td>36349.000000</td>\n",
       "    </tr>\n",
       "    <tr>\n",
       "      <th>mean</th>\n",
       "      <td>54945.647473</td>\n",
       "      <td>0.375554</td>\n",
       "    </tr>\n",
       "    <tr>\n",
       "      <th>std</th>\n",
       "      <td>31706.052195</td>\n",
       "      <td>0.484272</td>\n",
       "    </tr>\n",
       "    <tr>\n",
       "      <th>min</th>\n",
       "      <td>4.000000</td>\n",
       "      <td>0.000000</td>\n",
       "    </tr>\n",
       "    <tr>\n",
       "      <th>25%</th>\n",
       "      <td>27744.000000</td>\n",
       "      <td>0.000000</td>\n",
       "    </tr>\n",
       "    <tr>\n",
       "      <th>50%</th>\n",
       "      <td>54657.000000</td>\n",
       "      <td>0.000000</td>\n",
       "    </tr>\n",
       "    <tr>\n",
       "      <th>75%</th>\n",
       "      <td>82322.000000</td>\n",
       "      <td>1.000000</td>\n",
       "    </tr>\n",
       "    <tr>\n",
       "      <th>max</th>\n",
       "      <td>110148.000000</td>\n",
       "      <td>1.000000</td>\n",
       "    </tr>\n",
       "  </tbody>\n",
       "</table>\n",
       "</div>"
      ],
      "text/plain": [
       "           client_id       default\n",
       "count   36349.000000  36349.000000\n",
       "mean    54945.647473      0.375554\n",
       "std     31706.052195      0.484272\n",
       "min         4.000000      0.000000\n",
       "25%     27744.000000      0.000000\n",
       "50%     54657.000000      0.000000\n",
       "75%     82322.000000      1.000000\n",
       "max    110148.000000      1.000000"
      ]
     },
     "execution_count": 95,
     "metadata": {},
     "output_type": "execute_result"
    }
   ],
   "source": [
    "sample_submission.describe()"
   ]
  },
  {
   "cell_type": "code",
   "execution_count": 96,
   "id": "7167afcf",
   "metadata": {
    "execution": {
     "iopub.execute_input": "2021-12-20T13:35:07.952984Z",
     "iopub.status.busy": "2021-12-20T13:35:07.952361Z",
     "iopub.status.idle": "2021-12-20T13:35:09.137021Z",
     "shell.execute_reply": "2021-12-20T13:35:09.136014Z",
     "shell.execute_reply.started": "2021-12-09T13:53:48.708671Z"
    },
    "papermill": {
     "duration": 1.27421,
     "end_time": "2021-12-20T13:35:09.137203",
     "exception": false,
     "start_time": "2021-12-20T13:35:07.862993",
     "status": "completed"
    },
    "tags": []
   },
   "outputs": [
    {
     "name": "stdout",
     "output_type": "stream",
     "text": [
      "Traceback (most recent call last):\r\n",
      "  File \"/opt/conda/bin/kaggle\", line 5, in <module>\r\n",
      "    from kaggle.cli import main\r\n",
      "  File \"/opt/conda/lib/python3.7/site-packages/kaggle/__init__.py\", line 23, in <module>\r\n",
      "    api.authenticate()\r\n",
      "  File \"/opt/conda/lib/python3.7/site-packages/kaggle/api/kaggle_api_extended.py\", line 166, in authenticate\r\n",
      "    self.config_file, self.config_dir))\r\n",
      "OSError: Could not find kaggle.json. Make sure it's located in /root/.kaggle. Or use the environment method.\r\n"
     ]
    }
   ],
   "source": [
    "!kaggle competitions submit -c sf-scoring -f ssubmission.csv -m \"Message\"\n",
    "# !kaggle competitions submit your-competition-name -f submission.csv -m 'My submission message'"
   ]
  },
  {
   "cell_type": "markdown",
   "id": "c6db50e9",
   "metadata": {
    "papermill": {
     "duration": 0.088404,
     "end_time": "2021-12-20T13:35:09.316262",
     "exception": false,
     "start_time": "2021-12-20T13:35:09.227858",
     "status": "completed"
    },
    "tags": []
   },
   "source": [
    "**Выводы:**\n",
    "* Разведывательный анализ данных показал, что данные достаточно чистые. Пропусков немного (только в колонке education). Пропуски в колонке education были заполнены случайными значениями из уже существующих.\n",
    "* Колонки в датасете делятся на бинарные, категориальные и с непрерывным типом данных. Бинарные колонки были обработаны с помощью LabelEncoder, категориальные - с помощью OneHotEncoder.\n",
    "* Некоторые колонки с непрерывным типом данных ('decline_app_cnt','bki_request_cnt','income') имеют \"тяжелый\" правый хвост. Это колонки были прологарифмированы. Операция была проведена над объединенным датасетом\n",
    "* Были сгенерированы дополнительные непрерывные признаки (4 колонки) и категориальные признаки (3 колонки). Новые категориальные признаки повышают качество модели. Новые непрерывные признаки сильно скоррелированы, поэтому их использование ухудшает качество модели. Три наиболее скоррелированных признака были обработаны методом главных компонент. Это дало улучшение целевой метрики.\n",
    "* Была предпринята попытка сгенерировать полиномиальные признаки (вручную и с помощью функции Polynomial Features). Полиномиальные признаки ухудшают модель, поэтому было принято решение от них отказаться.\n",
    "* Работа с выбросами в данном датасете не принесла улучшения качества модели. Выбросы были классифицированы методом IQR. Т.к. удаление выбросов приводит к ухудшению качества модели, выбросы было решено оставить.\n",
    "* Был использован RobustScaler для нормализации непрерывных признаков.\n",
    "* Наибольшее значение для модели имеют признаки score_bki и sna.\n",
    "* С помощью  метода GridSerchCV были подобраны оптимальные параметры для модели. Оказалось, что оптимальная модель - это Logistic Regression Balanced. \n",
    "* Было испробовано деление выборки на обучающую и тестовую с помощью StratifiedShuffleSplit (деление на части с учетом долей классов). Это не дало увеличения целевой метрики. От данного способа деления выборки было принято решение отказаться в пользу train_test_split.\n",
    "* На обучающей и тестовой выборке были измерены основные метрики (f1_score, precision_score, recall_score, accuracy_score). Т.к. значения метрик на обучающей и на тестовой выборке практически не отличаются, можно сделать вывод, что переобучения модели нет."
   ]
  },
  {
   "cell_type": "code",
   "execution_count": null,
   "id": "12da1e1b",
   "metadata": {
    "papermill": {
     "duration": 0.086037,
     "end_time": "2021-12-20T13:35:09.487772",
     "exception": false,
     "start_time": "2021-12-20T13:35:09.401735",
     "status": "completed"
    },
    "tags": []
   },
   "outputs": [],
   "source": []
  }
 ],
 "metadata": {
  "kernelspec": {
   "display_name": "Python 3",
   "language": "python",
   "name": "python3"
  },
  "language_info": {
   "codemirror_mode": {
    "name": "ipython",
    "version": 3
   },
   "file_extension": ".py",
   "mimetype": "text/x-python",
   "name": "python",
   "nbconvert_exporter": "python",
   "pygments_lexer": "ipython3",
   "version": "3.8.8"
  },
  "papermill": {
   "default_parameters": {},
   "duration": 59.030501,
   "end_time": "2021-12-20T13:35:10.383504",
   "environment_variables": {},
   "exception": null,
   "input_path": "__notebook__.ipynb",
   "output_path": "__notebook__.ipynb",
   "parameters": {},
   "start_time": "2021-12-20T13:34:11.353003",
   "version": "2.3.3"
  }
 },
 "nbformat": 4,
 "nbformat_minor": 5
}
