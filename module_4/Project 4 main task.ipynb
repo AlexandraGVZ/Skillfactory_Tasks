{
 "cells": [
  {
   "cell_type": "markdown",
   "id": "54b5f406",
   "metadata": {},
   "source": [
    "# Решение проекта 4 Гвоздевой Александры"
   ]
  },
  {
   "cell_type": "code",
   "execution_count": 3,
   "id": "e255b569",
   "metadata": {},
   "outputs": [],
   "source": [
    "import pandas as pd"
   ]
  },
  {
   "cell_type": "code",
   "execution_count": 4,
   "id": "890f343f",
   "metadata": {},
   "outputs": [],
   "source": [
    "import seaborn as sns\n",
    "import matplotlib.pyplot as plt"
   ]
  },
  {
   "cell_type": "code",
   "execution_count": 54,
   "id": "26038835",
   "metadata": {},
   "outputs": [],
   "source": [
    "import re"
   ]
  },
  {
   "cell_type": "code",
   "execution_count": 5,
   "id": "a32c1f41",
   "metadata": {},
   "outputs": [],
   "source": [
    "%matplotlib inline"
   ]
  },
  {
   "cell_type": "code",
   "execution_count": 6,
   "id": "a65f5e9b",
   "metadata": {},
   "outputs": [],
   "source": [
    "data=pd.read_csv('query_result_5.csv')"
   ]
  },
  {
   "cell_type": "markdown",
   "id": "1bc2af07",
   "metadata": {},
   "source": [
    "# Описание колонок полученного датасета:\n",
    "    flight_id - уникальный номер рейса\n",
    "    total_sum - выручка в рублях за данный рейс\n",
    "    number_of_passengers - количество пассажиров на данном рейсе\n",
    "    number_of_seats - количество мест в самолете на данном рейсе\n",
    "    fill_up - заполняемость рейса в долях единицы (посчитано в Metabase как number_of_passengers/number_of_seats)\n",
    "    model - модель самолета на данном рейсе\n",
    "    flight_no - идентификатор рейса, состоящий из букв и цифр. Не является уникальным.\n",
    "    departure_aiport - аэропорт отправления. В данном датасете это всегда Анапа\n",
    "    arrival_airport - аэропорт прибытия\n",
    "    aircraft_code - идентификатор самолета, на котором был совершен рейс\n",
    "    actual_departure - фактическое время вылета \n",
    "    actual_arrival - фактическое время прилета\n",
    "    length_of_flight - фактическое время пребывания самолета в воздухе"
   ]
  },
  {
   "cell_type": "markdown",
   "id": "f2bf37c1",
   "metadata": {},
   "source": [
    "# Приступаем к анализу полученного датасета. \n",
    "Прежде всего проверяем количество уникальных номеров рейсов (flight_id) - 127.\n",
    "Это именно столько, сколько было нам дано по условию задачи. Хочу отметить, что такой результат был получен при использовании LEFT JOIN таблицы flights с таблицей ticket_flights. Если использовать обычный JOIN, то результатов получится всего 118. Это происходит потому, что не все flight_id отражены в таблице ticket_flights. Другими словами, у нас нет информации о билетах на 9 из 127 рейсов из Анапы, которые нас интересуют. Мы не знаем, сколько было куплено билетов на эти рейсы и по какой стоимости. Мы не можем посчитать общую выручку от продажи билетов на эти 9 рейсов. Отсутствие информации отражено в data.info() в колонке total_sum, где мы видим 9 пропусков."
   ]
  },
  {
   "cell_type": "code",
   "execution_count": 7,
   "id": "223c7bde",
   "metadata": {},
   "outputs": [
    {
     "name": "stdout",
     "output_type": "stream",
     "text": [
      "<class 'pandas.core.frame.DataFrame'>\n",
      "RangeIndex: 127 entries, 0 to 126\n",
      "Data columns (total 13 columns):\n",
      " #   Column                Non-Null Count  Dtype  \n",
      "---  ------                --------------  -----  \n",
      " 0   flight_id             127 non-null    int64  \n",
      " 1   total_sum             118 non-null    float64\n",
      " 2   number_of_passengers  127 non-null    int64  \n",
      " 3   number_of_seats       127 non-null    int64  \n",
      " 4   fill_up               127 non-null    float64\n",
      " 5   model                 127 non-null    object \n",
      " 6   flight_no             127 non-null    object \n",
      " 7   departure_airport     127 non-null    object \n",
      " 8   arrival_airport       127 non-null    object \n",
      " 9   aircraft_code         127 non-null    object \n",
      " 10  actual_departure      127 non-null    object \n",
      " 11  actual_arrival        127 non-null    object \n",
      " 12  length_of_flight      127 non-null    object \n",
      "dtypes: float64(2), int64(3), object(8)\n",
      "memory usage: 13.0+ KB\n"
     ]
    }
   ],
   "source": [
    "data.info()"
   ]
  },
  {
   "cell_type": "code",
   "execution_count": 18,
   "id": "69199b64",
   "metadata": {},
   "outputs": [
    {
     "data": {
      "text/plain": [
       "127"
      ]
     },
     "execution_count": 18,
     "metadata": {},
     "output_type": "execute_result"
    }
   ],
   "source": [
    "data[\"flight_id\"].nunique()"
   ]
  },
  {
   "cell_type": "markdown",
   "id": "4ab0b43a",
   "metadata": {},
   "source": [
    "Приглядимся повнимательнее к данным с пропусками. Очевидно, что number_of_passengers в строках с пропусками, как и fill_up, \n",
    "не имеет никакого физического смысла. Единицы на месте количества пассажиров были получены в результате работы оконной функции count, которая посчитала количество строк в группе с данным flight_id (см. запрос SQL). Строки с пропусками можно просто удалить, т.к. никакой полезной информации для решения нашей задачи мы из них не получим."
   ]
  },
  {
   "cell_type": "code",
   "execution_count": 17,
   "id": "70ba56ae",
   "metadata": {},
   "outputs": [
    {
     "data": {
      "text/html": [
       "<div>\n",
       "<style scoped>\n",
       "    .dataframe tbody tr th:only-of-type {\n",
       "        vertical-align: middle;\n",
       "    }\n",
       "\n",
       "    .dataframe tbody tr th {\n",
       "        vertical-align: top;\n",
       "    }\n",
       "\n",
       "    .dataframe thead th {\n",
       "        text-align: right;\n",
       "    }\n",
       "</style>\n",
       "<table border=\"1\" class=\"dataframe\">\n",
       "  <thead>\n",
       "    <tr style=\"text-align: right;\">\n",
       "      <th></th>\n",
       "      <th>flight_id</th>\n",
       "      <th>total_sum</th>\n",
       "      <th>number_of_passengers</th>\n",
       "      <th>number_of_seats</th>\n",
       "      <th>fill_up</th>\n",
       "      <th>model</th>\n",
       "      <th>flight_no</th>\n",
       "      <th>departure_airport</th>\n",
       "      <th>arrival_airport</th>\n",
       "      <th>aircraft_code</th>\n",
       "      <th>actual_departure</th>\n",
       "      <th>actual_arrival</th>\n",
       "      <th>length_of_flight</th>\n",
       "    </tr>\n",
       "  </thead>\n",
       "  <tbody>\n",
       "    <tr>\n",
       "      <th>59</th>\n",
       "      <td>136511</td>\n",
       "      <td>NaN</td>\n",
       "      <td>1</td>\n",
       "      <td>130</td>\n",
       "      <td>0.007692</td>\n",
       "      <td>Boeing 737-300</td>\n",
       "      <td>PG0194</td>\n",
       "      <td>AAQ</td>\n",
       "      <td>NOZ</td>\n",
       "      <td>733</td>\n",
       "      <td>2017-02-21T06:15:00Z</td>\n",
       "      <td>2017-02-21T11:25:00Z</td>\n",
       "      <td>05:10:00</td>\n",
       "    </tr>\n",
       "    <tr>\n",
       "      <th>60</th>\n",
       "      <td>136513</td>\n",
       "      <td>NaN</td>\n",
       "      <td>1</td>\n",
       "      <td>130</td>\n",
       "      <td>0.007692</td>\n",
       "      <td>Boeing 737-300</td>\n",
       "      <td>PG0194</td>\n",
       "      <td>AAQ</td>\n",
       "      <td>NOZ</td>\n",
       "      <td>733</td>\n",
       "      <td>2017-02-28T06:13:00Z</td>\n",
       "      <td>2017-02-28T11:23:00Z</td>\n",
       "      <td>05:10:00</td>\n",
       "    </tr>\n",
       "    <tr>\n",
       "      <th>61</th>\n",
       "      <td>136514</td>\n",
       "      <td>NaN</td>\n",
       "      <td>1</td>\n",
       "      <td>130</td>\n",
       "      <td>0.007692</td>\n",
       "      <td>Boeing 737-300</td>\n",
       "      <td>PG0194</td>\n",
       "      <td>AAQ</td>\n",
       "      <td>NOZ</td>\n",
       "      <td>733</td>\n",
       "      <td>2017-02-07T06:14:00Z</td>\n",
       "      <td>2017-02-07T11:13:00Z</td>\n",
       "      <td>04:59:00</td>\n",
       "    </tr>\n",
       "    <tr>\n",
       "      <th>62</th>\n",
       "      <td>136523</td>\n",
       "      <td>NaN</td>\n",
       "      <td>1</td>\n",
       "      <td>130</td>\n",
       "      <td>0.007692</td>\n",
       "      <td>Boeing 737-300</td>\n",
       "      <td>PG0194</td>\n",
       "      <td>AAQ</td>\n",
       "      <td>NOZ</td>\n",
       "      <td>733</td>\n",
       "      <td>2017-01-10T06:14:00Z</td>\n",
       "      <td>2017-01-10T11:26:00Z</td>\n",
       "      <td>05:12:00</td>\n",
       "    </tr>\n",
       "    <tr>\n",
       "      <th>63</th>\n",
       "      <td>136540</td>\n",
       "      <td>NaN</td>\n",
       "      <td>1</td>\n",
       "      <td>130</td>\n",
       "      <td>0.007692</td>\n",
       "      <td>Boeing 737-300</td>\n",
       "      <td>PG0194</td>\n",
       "      <td>AAQ</td>\n",
       "      <td>NOZ</td>\n",
       "      <td>733</td>\n",
       "      <td>2017-01-17T06:14:00Z</td>\n",
       "      <td>2017-01-17T11:21:00Z</td>\n",
       "      <td>05:07:00</td>\n",
       "    </tr>\n",
       "    <tr>\n",
       "      <th>64</th>\n",
       "      <td>136544</td>\n",
       "      <td>NaN</td>\n",
       "      <td>1</td>\n",
       "      <td>130</td>\n",
       "      <td>0.007692</td>\n",
       "      <td>Boeing 737-300</td>\n",
       "      <td>PG0194</td>\n",
       "      <td>AAQ</td>\n",
       "      <td>NOZ</td>\n",
       "      <td>733</td>\n",
       "      <td>2017-01-31T06:10:00Z</td>\n",
       "      <td>2017-01-31T11:14:00Z</td>\n",
       "      <td>05:04:00</td>\n",
       "    </tr>\n",
       "    <tr>\n",
       "      <th>65</th>\n",
       "      <td>136546</td>\n",
       "      <td>NaN</td>\n",
       "      <td>1</td>\n",
       "      <td>130</td>\n",
       "      <td>0.007692</td>\n",
       "      <td>Boeing 737-300</td>\n",
       "      <td>PG0194</td>\n",
       "      <td>AAQ</td>\n",
       "      <td>NOZ</td>\n",
       "      <td>733</td>\n",
       "      <td>2017-01-03T06:13:00Z</td>\n",
       "      <td>2017-01-03T11:15:00Z</td>\n",
       "      <td>05:02:00</td>\n",
       "    </tr>\n",
       "    <tr>\n",
       "      <th>66</th>\n",
       "      <td>136560</td>\n",
       "      <td>NaN</td>\n",
       "      <td>1</td>\n",
       "      <td>130</td>\n",
       "      <td>0.007692</td>\n",
       "      <td>Boeing 737-300</td>\n",
       "      <td>PG0194</td>\n",
       "      <td>AAQ</td>\n",
       "      <td>NOZ</td>\n",
       "      <td>733</td>\n",
       "      <td>2017-01-24T06:13:00Z</td>\n",
       "      <td>2017-01-24T11:18:00Z</td>\n",
       "      <td>05:05:00</td>\n",
       "    </tr>\n",
       "    <tr>\n",
       "      <th>67</th>\n",
       "      <td>136567</td>\n",
       "      <td>NaN</td>\n",
       "      <td>1</td>\n",
       "      <td>130</td>\n",
       "      <td>0.007692</td>\n",
       "      <td>Boeing 737-300</td>\n",
       "      <td>PG0194</td>\n",
       "      <td>AAQ</td>\n",
       "      <td>NOZ</td>\n",
       "      <td>733</td>\n",
       "      <td>2017-02-14T06:12:00Z</td>\n",
       "      <td>2017-02-14T11:23:00Z</td>\n",
       "      <td>05:11:00</td>\n",
       "    </tr>\n",
       "  </tbody>\n",
       "</table>\n",
       "</div>"
      ],
      "text/plain": [
       "    flight_id  total_sum  number_of_passengers  number_of_seats   fill_up  \\\n",
       "59     136511        NaN                     1              130  0.007692   \n",
       "60     136513        NaN                     1              130  0.007692   \n",
       "61     136514        NaN                     1              130  0.007692   \n",
       "62     136523        NaN                     1              130  0.007692   \n",
       "63     136540        NaN                     1              130  0.007692   \n",
       "64     136544        NaN                     1              130  0.007692   \n",
       "65     136546        NaN                     1              130  0.007692   \n",
       "66     136560        NaN                     1              130  0.007692   \n",
       "67     136567        NaN                     1              130  0.007692   \n",
       "\n",
       "             model flight_no departure_airport arrival_airport aircraft_code  \\\n",
       "59  Boeing 737-300    PG0194               AAQ             NOZ           733   \n",
       "60  Boeing 737-300    PG0194               AAQ             NOZ           733   \n",
       "61  Boeing 737-300    PG0194               AAQ             NOZ           733   \n",
       "62  Boeing 737-300    PG0194               AAQ             NOZ           733   \n",
       "63  Boeing 737-300    PG0194               AAQ             NOZ           733   \n",
       "64  Boeing 737-300    PG0194               AAQ             NOZ           733   \n",
       "65  Boeing 737-300    PG0194               AAQ             NOZ           733   \n",
       "66  Boeing 737-300    PG0194               AAQ             NOZ           733   \n",
       "67  Boeing 737-300    PG0194               AAQ             NOZ           733   \n",
       "\n",
       "        actual_departure        actual_arrival length_of_flight  \n",
       "59  2017-02-21T06:15:00Z  2017-02-21T11:25:00Z         05:10:00  \n",
       "60  2017-02-28T06:13:00Z  2017-02-28T11:23:00Z         05:10:00  \n",
       "61  2017-02-07T06:14:00Z  2017-02-07T11:13:00Z         04:59:00  \n",
       "62  2017-01-10T06:14:00Z  2017-01-10T11:26:00Z         05:12:00  \n",
       "63  2017-01-17T06:14:00Z  2017-01-17T11:21:00Z         05:07:00  \n",
       "64  2017-01-31T06:10:00Z  2017-01-31T11:14:00Z         05:04:00  \n",
       "65  2017-01-03T06:13:00Z  2017-01-03T11:15:00Z         05:02:00  \n",
       "66  2017-01-24T06:13:00Z  2017-01-24T11:18:00Z         05:05:00  \n",
       "67  2017-02-14T06:12:00Z  2017-02-14T11:23:00Z         05:11:00  "
      ]
     },
     "execution_count": 17,
     "metadata": {},
     "output_type": "execute_result"
    }
   ],
   "source": [
    "data[data[\"total_sum\"].isna()==True]"
   ]
  },
  {
   "cell_type": "code",
   "execution_count": 8,
   "id": "ae5d20af",
   "metadata": {},
   "outputs": [],
   "source": [
    "data.dropna(axis=0, inplace=True)"
   ]
  },
  {
   "cell_type": "code",
   "execution_count": 24,
   "id": "e96a3e09",
   "metadata": {
    "scrolled": true
   },
   "outputs": [
    {
     "data": {
      "text/plain": [
       "(118, 13)"
      ]
     },
     "execution_count": 24,
     "metadata": {},
     "output_type": "execute_result"
    }
   ],
   "source": [
    "data.shape"
   ]
  },
  {
   "cell_type": "markdown",
   "id": "fb52f88a",
   "metadata": {},
   "source": [
    "Для полноценного анализа данных нам не хватает:\n",
    "    1. Стоимости топлива (fuel_cost)\n",
    "    2. Расхода топлива в час для каждой модели самолета (fuel_consumption)\n",
    "    3. Количества экипажа для каждой модели самолета (crew_number)\n",
    "    4. Почасовой оплаты работы каждого члена экипажа (crew_salary)\n",
    "    5. Стоимости ежедневного обслуживания каждой модели самолета (service_cost)\n",
    "    6. Стоимости порции питания на борту самолета (food_cost)\n",
    "    \n",
    "Если бы мы все это знали, мы бы посчитали выручку с каждого рейса следующим образом:\n",
    "\n",
    "flight_revenue=total_sum - (fuel_cost x fuel_consumption x duration_of_flight + crew_number x crew_salary + service_cost +\n",
    "                             food_cost x number_of_passengers)"
   ]
  },
  {
   "cell_type": "markdown",
   "id": "0782198e",
   "metadata": {},
   "source": [
    "Посмотрим на количество перелетов по разным направлениям."
   ]
  },
  {
   "cell_type": "code",
   "execution_count": 39,
   "id": "90b8a362",
   "metadata": {
    "scrolled": true
   },
   "outputs": [
    {
     "data": {
      "text/plain": [
       "arrival_airport\n",
       "EGO    59\n",
       "SVO    59\n",
       "Name: flight_id, dtype: int64"
      ]
     },
     "execution_count": 39,
     "metadata": {},
     "output_type": "execute_result"
    }
   ],
   "source": [
    "data.groupby(\"arrival_airport\")[\"flight_id\"].count()"
   ]
  },
  {
   "cell_type": "markdown",
   "id": "691f8f7e",
   "metadata": {},
   "source": [
    "Видим, что было совершено 59 перелетов в Москву и 59 - в Белгород. Перелеты в Белгород всегда проходят на самолете \n",
    "Sukhoi Superjet-100 с количеством мест 97. Перелеты в Москву - на самолете Boeing 737-300 с количеством мест 130."
   ]
  },
  {
   "cell_type": "code",
   "execution_count": 39,
   "id": "cb1bccee",
   "metadata": {
    "scrolled": true
   },
   "outputs": [
    {
     "data": {
      "text/plain": [
       "arrival_airport  model                flight_no\n",
       "EGO              Sukhoi Superjet-100  PG0480       59\n",
       "SVO              Boeing 737-300       PG0252       59\n",
       "Name: flight_id, dtype: int64"
      ]
     },
     "execution_count": 39,
     "metadata": {},
     "output_type": "execute_result"
    }
   ],
   "source": [
    "data.groupby([\"arrival_airport\",\"model\",\"flight_no\"])[\"flight_id\"].count()"
   ]
  },
  {
   "cell_type": "markdown",
   "id": "7928a88d",
   "metadata": {},
   "source": [
    "Сравним наполняемость рейсов по различным направлениям"
   ]
  },
  {
   "cell_type": "markdown",
   "id": "c4d57a06",
   "metadata": {},
   "source": [
    "Наполняемость рейсов по направлению \"Белгород\" в среднем чуть выше, чем по направлению \"Москва\"."
   ]
  },
  {
   "cell_type": "code",
   "execution_count": 43,
   "id": "0c5da115",
   "metadata": {},
   "outputs": [
    {
     "data": {
      "image/png": "[encoded data removed]",
      "text/plain": [
       "<Figure size 432x288 with 1 Axes>"
      ]
     },
     "metadata": {
      "needs_background": "light"
     },
     "output_type": "display_data"
    }
   ],
   "source": [
    "fig=plt.figure()\n",
    "axes=fig.add_axes([0,0,1,1])\n",
    "data.groupby(\"arrival_airport\")[\"fill_up\"].mean().plot(kind='bar', ax=axes)\n",
    "axes.set_title('Average fill-up for EGO and SVO')\n",
    "plt.show()"
   ]
  },
  {
   "cell_type": "code",
   "execution_count": 47,
   "id": "fd41bddd",
   "metadata": {
    "scrolled": true
   },
   "outputs": [
    {
     "data": {
      "image/png": "[encoded data removed]",
      "text/plain": [
       "<Figure size 720x288 with 2 Axes>"
      ]
     },
     "metadata": {
      "needs_background": "light"
     },
     "output_type": "display_data"
    }
   ],
   "source": [
    "fig,axes=plt.subplots(1,2, figsize=(10,4))\n",
    "SVO=data[data[\"arrival_airport\"]=='SVO']\n",
    "axes[0].hist(SVO[\"fill_up\"])\n",
    "axes[0].set_title('Fill_up for SVO (Moscow)')\n",
    "\n",
    "EGO=data[data[\"arrival_airport\"]=='EGO']\n",
    "axes[1].hist(EGO[\"fill_up\"])\n",
    "axes[1].set_title('Fill_up for EGO (Belgorod)')\n",
    "\n",
    "plt.show()"
   ]
  },
  {
   "cell_type": "markdown",
   "id": "c7db1dcb",
   "metadata": {},
   "source": [
    "Проверим, сколько в базе рейсов с низкой наполняемостью (менее 75%) по каждому направлению"
   ]
  },
  {
   "cell_type": "code",
   "execution_count": 50,
   "id": "ec75f05b",
   "metadata": {},
   "outputs": [
    {
     "name": "stdout",
     "output_type": "stream",
     "text": [
      "Рейсов в Москву с низкой наполняемостью: 2\n",
      "Рейсов в Белгород с низкой наполняемостью: 2\n"
     ]
    }
   ],
   "source": [
    "SVO_little=len(data[(data[\"arrival_airport\"]=='SVO')&(data[\"fill_up\"]<0.75)])\n",
    "EGO_little=len(data[(data[\"arrival_airport\"]=='EGO')&(data[\"fill_up\"]<0.75)])\n",
    "print(\"Рейсов в Москву с низкой наполняемостью: {0}\\nРейсов в Белгород с низкой наполняемостью: {1}\".format(SVO_little,EGO_little))"
   ]
  },
  {
   "cell_type": "code",
   "execution_count": null,
   "id": "89704fad",
   "metadata": {},
   "outputs": [],
   "source": []
  },
  {
   "cell_type": "markdown",
   "id": "2c41fc3c",
   "metadata": {},
   "source": [
    "Сравним доход от продажи билетов по различным направлениям."
   ]
  },
  {
   "cell_type": "markdown",
   "id": "886ce5bb",
   "metadata": {},
   "source": [
    "Как мы видим, направление \"Белгород\" менее прибыльное, чем направление \"Москва\"."
   ]
  },
  {
   "cell_type": "code",
   "execution_count": 41,
   "id": "464dc9cf",
   "metadata": {
    "scrolled": true
   },
   "outputs": [
    {
     "data": {
      "image/png": "[encoded data removed]",
      "text/plain": [
       "<Figure size 432x288 with 1 Axes>"
      ]
     },
     "metadata": {
      "needs_background": "light"
     },
     "output_type": "display_data"
    }
   ],
   "source": [
    "fig=plt.figure()\n",
    "axes=fig.add_axes([0,0,1,1])\n",
    "data.pivot_table(values=[\"total_sum\"], index=\"arrival_airport\", aggfunc=\"mean\").plot(kind='bar', ax=axes)\n",
    "axes.set_title('Average total sum for EGO and SVO')\n",
    "plt.show()"
   ]
  },
  {
   "cell_type": "code",
   "execution_count": 34,
   "id": "b16c5958",
   "metadata": {},
   "outputs": [
    {
     "data": {
      "image/png": "[encoded data removed]",
      "text/plain": [
       "<Figure size 720x288 with 2 Axes>"
      ]
     },
     "metadata": {
      "needs_background": "light"
     },
     "output_type": "display_data"
    }
   ],
   "source": [
    "fig,axes=plt.subplots(1,2,figsize=(10,4))\n",
    "SVO=data[data[\"arrival_airport\"]=='SVO']\n",
    "axes[0].hist(SVO[\"total_sum\"])\n",
    "axes[0].set_title(\"Total sum for SVO (Moscow)\")\n",
    "\n",
    "EGO=data[data[\"arrival_airport\"]=='EGO']\n",
    "axes[1].hist(EGO[\"total_sum\"])\n",
    "axes[1].set_title(\"Total sum for EGO (Belgorod)\")\n",
    "\n",
    "plt.show()"
   ]
  },
  {
   "cell_type": "code",
   "execution_count": 12,
   "id": "59fbf784",
   "metadata": {},
   "outputs": [
    {
     "data": {
      "image/png": "[encoded data removed]",
      "text/plain": [
       "<Figure size 720x432 with 1 Axes>"
      ]
     },
     "metadata": {
      "needs_background": "light"
     },
     "output_type": "display_data"
    }
   ],
   "source": [
    "fig,ax=plt.subplots(figsize=(10,6))\n",
    "sns.boxplot(x=data[\"arrival_airport\"], y=data[\"total_sum\"], data=data, ax=ax)\n",
    "ax.set_title('Total sum for SVO (Moscow) and EGO (Belgorod)')\n",
    "plt.show()"
   ]
  },
  {
   "cell_type": "markdown",
   "id": "9ae5306c",
   "metadata": {},
   "source": [
    "# Выводы.\n",
    "1. Нами был получен датасет, включающий 127 записей о рейсах из Анапы в зимнее время года. Датасет содержат пропуски, связанные с использованием LEFT JOIN. Пропуски были удалены, т.к. никакой полезной информации извлечь из них не получится.\n",
    "2. Для полноценного анализа данных не хватает информации о расходах на каждый рейс. Была предложена формула, с помощью которой эти расходы можно посчитать. Необходимо привлекать данные из сторонних источников для проведения расчета. Расчет реализован в дополнительном задании к данному проекту.\n",
    "3. Анализ данных показал, что было совершено равное количество рейсов в Москву и Белгород (59). Прибыльность рейсов в Москву в среднем выше прибыльности рейсов в Белгород. Заполняемость рейсов в Белгород при этом несколько выше заполняемости рейсов в Москву.\n",
    "4. Были  найдены 4 рейса с заполняемостью ниже 75% (2 в Москву и 2 в Белгород). Эти рейсы будут удалены в дополнительном задании к проекту."
   ]
  },
  {
   "cell_type": "code",
   "execution_count": null,
   "id": "22fcad5c",
   "metadata": {},
   "outputs": [],
   "source": []
  }
 ],
 "metadata": {
  "kernelspec": {
   "display_name": "Python 3",
   "language": "python",
   "name": "python3"
  },
  "language_info": {
   "codemirror_mode": {
    "name": "ipython",
    "version": 3
   },
   "file_extension": ".py",
   "mimetype": "text/x-python",
   "name": "python",
   "nbconvert_exporter": "python",
   "pygments_lexer": "ipython3",
   "version": "3.8.8"
  }
 },
 "nbformat": 4,
 "nbformat_minor": 5
}
