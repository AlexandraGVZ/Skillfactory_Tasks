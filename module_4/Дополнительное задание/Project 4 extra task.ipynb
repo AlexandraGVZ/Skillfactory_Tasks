{
 "cells": [
  {
   "cell_type": "markdown",
   "id": "54b5f406",
   "metadata": {},
   "source": [
    "# Дополнительное задание к проекту 4, Гвоздева А."
   ]
  },
  {
   "cell_type": "markdown",
   "id": "1d067462",
   "metadata": {},
   "source": [
    "##Загружаем датасет и все необходимые библиотеки"
   ]
  },
  {
   "cell_type": "code",
   "execution_count": 2,
   "id": "e255b569",
   "metadata": {},
   "outputs": [],
   "source": [
    "import pandas as pd"
   ]
  },
  {
   "cell_type": "code",
   "execution_count": 3,
   "id": "890f343f",
   "metadata": {},
   "outputs": [],
   "source": [
    "import seaborn as sns\n",
    "import matplotlib.pyplot as plt"
   ]
  },
  {
   "cell_type": "code",
   "execution_count": 54,
   "id": "26038835",
   "metadata": {},
   "outputs": [],
   "source": [
    "import re"
   ]
  },
  {
   "cell_type": "code",
   "execution_count": 17,
   "id": "5aa14385",
   "metadata": {},
   "outputs": [],
   "source": [
    "from datetime import datetime"
   ]
  },
  {
   "cell_type": "code",
   "execution_count": 23,
   "id": "a32c1f41",
   "metadata": {},
   "outputs": [],
   "source": [
    "%matplotlib inline"
   ]
  },
  {
   "cell_type": "code",
   "execution_count": 34,
   "id": "a65f5e9b",
   "metadata": {},
   "outputs": [],
   "source": [
    "data=pd.read_csv('query_result_5.csv')"
   ]
  },
  {
   "cell_type": "code",
   "execution_count": 20,
   "id": "223c7bde",
   "metadata": {
    "scrolled": true
   },
   "outputs": [
    {
     "name": "stdout",
     "output_type": "stream",
     "text": [
      "<class 'pandas.core.frame.DataFrame'>\n",
      "RangeIndex: 127 entries, 0 to 126\n",
      "Data columns (total 13 columns):\n",
      " #   Column                Non-Null Count  Dtype  \n",
      "---  ------                --------------  -----  \n",
      " 0   flight_id             127 non-null    int64  \n",
      " 1   total_sum             118 non-null    float64\n",
      " 2   number_of_passengers  127 non-null    int64  \n",
      " 3   number_of_seats       127 non-null    int64  \n",
      " 4   fill_up               127 non-null    float64\n",
      " 5   model                 127 non-null    object \n",
      " 6   flight_no             127 non-null    object \n",
      " 7   departure_airport     127 non-null    object \n",
      " 8   arrival_airport       127 non-null    object \n",
      " 9   aircraft_code         127 non-null    object \n",
      " 10  actual_departure      127 non-null    object \n",
      " 11  actual_arrival        127 non-null    object \n",
      " 12  length_of_flight      127 non-null    object \n",
      "dtypes: float64(2), int64(3), object(8)\n",
      "memory usage: 13.0+ KB\n"
     ]
    }
   ],
   "source": [
    "data.info()"
   ]
  },
  {
   "cell_type": "markdown",
   "id": "b65e8f2c",
   "metadata": {},
   "source": [
    "Удаляем пропуски"
   ]
  },
  {
   "cell_type": "code",
   "execution_count": 35,
   "id": "ae5d20af",
   "metadata": {},
   "outputs": [],
   "source": [
    "data.dropna(axis=0, inplace=True)"
   ]
  },
  {
   "cell_type": "code",
   "execution_count": 36,
   "id": "e96a3e09",
   "metadata": {
    "scrolled": false
   },
   "outputs": [
    {
     "data": {
      "text/plain": [
       "(118, 13)"
      ]
     },
     "execution_count": 36,
     "metadata": {},
     "output_type": "execute_result"
    }
   ],
   "source": [
    "data.shape"
   ]
  },
  {
   "cell_type": "markdown",
   "id": "432610c9",
   "metadata": {},
   "source": [
    "# Приступаем к решению"
   ]
  },
  {
   "cell_type": "code",
   "execution_count": 8,
   "id": "573cb1cf",
   "metadata": {},
   "outputs": [],
   "source": [
    "# Функция, вычисляющая время полета\n",
    "def know_time(string):\n",
    "    hours=int(string[0:2])\n",
    "    minutes=int(string[3:5])\n",
    "    return hours+minutes/60"
   ]
  },
  {
   "cell_type": "code",
   "execution_count": 9,
   "id": "fefa03a3",
   "metadata": {},
   "outputs": [],
   "source": [
    "# Функция, определяющая, выходной день или нет\n",
    "def is_weekend(num):\n",
    "    if num==5 or num==6:\n",
    "        return \"Yes\"\n",
    "    else:\n",
    "        return \"No\""
   ]
  },
  {
   "cell_type": "code",
   "execution_count": 37,
   "id": "24e91da0",
   "metadata": {},
   "outputs": [],
   "source": [
    "# Посчитаем фактическую длительность каждого полета\n",
    "data[\"length_of_flight\"]=data[\"length_of_flight\"].apply(know_time)"
   ]
  },
  {
   "cell_type": "code",
   "execution_count": 94,
   "id": "fd937d73",
   "metadata": {},
   "outputs": [
    {
     "data": {
      "text/html": [
       "<div>\n",
       "<style scoped>\n",
       "    .dataframe tbody tr th:only-of-type {\n",
       "        vertical-align: middle;\n",
       "    }\n",
       "\n",
       "    .dataframe tbody tr th {\n",
       "        vertical-align: top;\n",
       "    }\n",
       "\n",
       "    .dataframe thead th {\n",
       "        text-align: right;\n",
       "    }\n",
       "</style>\n",
       "<table border=\"1\" class=\"dataframe\">\n",
       "  <thead>\n",
       "    <tr style=\"text-align: right;\">\n",
       "      <th></th>\n",
       "      <th>flight_id</th>\n",
       "      <th>total_sum</th>\n",
       "      <th>number_of_passengers</th>\n",
       "      <th>number_of_seats</th>\n",
       "      <th>fill_up</th>\n",
       "      <th>model</th>\n",
       "      <th>flight_no</th>\n",
       "      <th>departure_airport</th>\n",
       "      <th>arrival_airport</th>\n",
       "      <th>aircraft_code</th>\n",
       "      <th>actual_departure</th>\n",
       "      <th>actual_arrival</th>\n",
       "      <th>length_of_flight</th>\n",
       "      <th>fuel_consumption</th>\n",
       "      <th>fuel_cost</th>\n",
       "      <th>revenue</th>\n",
       "      <th>date_of_flight</th>\n",
       "      <th>day_of_week</th>\n",
       "      <th>is_weekend</th>\n",
       "    </tr>\n",
       "  </thead>\n",
       "  <tbody>\n",
       "    <tr>\n",
       "      <th>39</th>\n",
       "      <td>136366</td>\n",
       "      <td>1527400.0</td>\n",
       "      <td>103</td>\n",
       "      <td>130</td>\n",
       "      <td>0.792308</td>\n",
       "      <td>Boeing 737-300</td>\n",
       "      <td>PG0252</td>\n",
       "      <td>AAQ</td>\n",
       "      <td>SVO</td>\n",
       "      <td>733</td>\n",
       "      <td>2017-01-11T10:08:00Z</td>\n",
       "      <td>2017-01-11T11:47:00Z</td>\n",
       "      <td>1.650000</td>\n",
       "      <td>2600</td>\n",
       "      <td>261690.000000</td>\n",
       "      <td>1.265710e+06</td>\n",
       "      <td>2017-01-11</td>\n",
       "      <td>2</td>\n",
       "      <td>No</td>\n",
       "    </tr>\n",
       "    <tr>\n",
       "      <th>4</th>\n",
       "      <td>136131</td>\n",
       "      <td>1812800.0</td>\n",
       "      <td>124</td>\n",
       "      <td>130</td>\n",
       "      <td>0.953846</td>\n",
       "      <td>Boeing 737-300</td>\n",
       "      <td>PG0252</td>\n",
       "      <td>AAQ</td>\n",
       "      <td>SVO</td>\n",
       "      <td>733</td>\n",
       "      <td>2017-01-28T10:07:00Z</td>\n",
       "      <td>2017-01-28T11:46:00Z</td>\n",
       "      <td>1.650000</td>\n",
       "      <td>2600</td>\n",
       "      <td>261690.000000</td>\n",
       "      <td>1.551110e+06</td>\n",
       "      <td>2017-01-28</td>\n",
       "      <td>5</td>\n",
       "      <td>Yes</td>\n",
       "    </tr>\n",
       "    <tr>\n",
       "      <th>84</th>\n",
       "      <td>136669</td>\n",
       "      <td>752700.0</td>\n",
       "      <td>95</td>\n",
       "      <td>97</td>\n",
       "      <td>0.979381</td>\n",
       "      <td>Sukhoi Superjet-100</td>\n",
       "      <td>PG0480</td>\n",
       "      <td>AAQ</td>\n",
       "      <td>EGO</td>\n",
       "      <td>SU9</td>\n",
       "      <td>2017-01-17T09:26:00Z</td>\n",
       "      <td>2017-01-17T10:17:00Z</td>\n",
       "      <td>0.850000</td>\n",
       "      <td>1864</td>\n",
       "      <td>96648.400000</td>\n",
       "      <td>6.560516e+05</td>\n",
       "      <td>2017-01-17</td>\n",
       "      <td>1</td>\n",
       "      <td>No</td>\n",
       "    </tr>\n",
       "    <tr>\n",
       "      <th>40</th>\n",
       "      <td>136383</td>\n",
       "      <td>1493200.0</td>\n",
       "      <td>106</td>\n",
       "      <td>130</td>\n",
       "      <td>0.815385</td>\n",
       "      <td>Boeing 737-300</td>\n",
       "      <td>PG0252</td>\n",
       "      <td>AAQ</td>\n",
       "      <td>SVO</td>\n",
       "      <td>733</td>\n",
       "      <td>2017-01-25T10:09:00Z</td>\n",
       "      <td>2017-01-25T11:51:00Z</td>\n",
       "      <td>1.700000</td>\n",
       "      <td>2600</td>\n",
       "      <td>269620.000000</td>\n",
       "      <td>1.223580e+06</td>\n",
       "      <td>2017-01-25</td>\n",
       "      <td>2</td>\n",
       "      <td>No</td>\n",
       "    </tr>\n",
       "    <tr>\n",
       "      <th>114</th>\n",
       "      <td>136871</td>\n",
       "      <td>765300.0</td>\n",
       "      <td>97</td>\n",
       "      <td>97</td>\n",
       "      <td>1.000000</td>\n",
       "      <td>Sukhoi Superjet-100</td>\n",
       "      <td>PG0480</td>\n",
       "      <td>AAQ</td>\n",
       "      <td>EGO</td>\n",
       "      <td>SU9</td>\n",
       "      <td>2017-01-13T09:28:00Z</td>\n",
       "      <td>2017-01-13T10:18:00Z</td>\n",
       "      <td>0.833333</td>\n",
       "      <td>1864</td>\n",
       "      <td>94753.333333</td>\n",
       "      <td>6.705467e+05</td>\n",
       "      <td>2017-01-13</td>\n",
       "      <td>4</td>\n",
       "      <td>No</td>\n",
       "    </tr>\n",
       "  </tbody>\n",
       "</table>\n",
       "</div>"
      ],
      "text/plain": [
       "     flight_id  total_sum  number_of_passengers  number_of_seats   fill_up  \\\n",
       "39      136366  1527400.0                   103              130  0.792308   \n",
       "4       136131  1812800.0                   124              130  0.953846   \n",
       "84      136669   752700.0                    95               97  0.979381   \n",
       "40      136383  1493200.0                   106              130  0.815385   \n",
       "114     136871   765300.0                    97               97  1.000000   \n",
       "\n",
       "                   model flight_no departure_airport arrival_airport  \\\n",
       "39        Boeing 737-300    PG0252               AAQ             SVO   \n",
       "4         Boeing 737-300    PG0252               AAQ             SVO   \n",
       "84   Sukhoi Superjet-100    PG0480               AAQ             EGO   \n",
       "40        Boeing 737-300    PG0252               AAQ             SVO   \n",
       "114  Sukhoi Superjet-100    PG0480               AAQ             EGO   \n",
       "\n",
       "    aircraft_code      actual_departure        actual_arrival  \\\n",
       "39            733  2017-01-11T10:08:00Z  2017-01-11T11:47:00Z   \n",
       "4             733  2017-01-28T10:07:00Z  2017-01-28T11:46:00Z   \n",
       "84            SU9  2017-01-17T09:26:00Z  2017-01-17T10:17:00Z   \n",
       "40            733  2017-01-25T10:09:00Z  2017-01-25T11:51:00Z   \n",
       "114           SU9  2017-01-13T09:28:00Z  2017-01-13T10:18:00Z   \n",
       "\n",
       "     length_of_flight  fuel_consumption      fuel_cost       revenue  \\\n",
       "39           1.650000              2600  261690.000000  1.265710e+06   \n",
       "4            1.650000              2600  261690.000000  1.551110e+06   \n",
       "84           0.850000              1864   96648.400000  6.560516e+05   \n",
       "40           1.700000              2600  269620.000000  1.223580e+06   \n",
       "114          0.833333              1864   94753.333333  6.705467e+05   \n",
       "\n",
       "    date_of_flight  day_of_week is_weekend  \n",
       "39      2017-01-11            2         No  \n",
       "4       2017-01-28            5        Yes  \n",
       "84      2017-01-17            1         No  \n",
       "40      2017-01-25            2         No  \n",
       "114     2017-01-13            4         No  "
      ]
     },
     "execution_count": 94,
     "metadata": {},
     "output_type": "execute_result"
    }
   ],
   "source": [
    "data.sample(5)"
   ]
  },
  {
   "cell_type": "code",
   "execution_count": null,
   "id": "9255eea6",
   "metadata": {},
   "outputs": [],
   "source": []
  },
  {
   "cell_type": "markdown",
   "id": "ded2c773",
   "metadata": {},
   "source": [
    "Нам необходимо посчитать расходы на каждый рейс. Для решения этой задачи нужны дополнительные данные. Вот они:\n",
    "\n",
    "Стоимость авиационного керосина - 47.58 руб/литр. Плотность - 0.78 кг/л.\n",
    "\n",
    "Расход топлива для Boeing 737-300 - 2600 кг/час.\n",
    "Расход топлива для Sukhoi Superjet-100 - 1864 кг/час.\n",
    "\n",
    "Исходя из этого рассчитаем стоимость топлива для кажого рейса"
   ]
  },
  {
   "cell_type": "code",
   "execution_count": 38,
   "id": "d0169b35",
   "metadata": {},
   "outputs": [],
   "source": [
    "data[\"fuel_consumption\"]=data[\"model\"].apply(lambda x: 2600 if x=='Boeing 737-300' else 1864)"
   ]
  },
  {
   "cell_type": "code",
   "execution_count": 39,
   "id": "9785b49c",
   "metadata": {},
   "outputs": [],
   "source": [
    "data[\"fuel_cost\"]=(data[\"fuel_consumption\"]*data[\"length_of_flight\"]/0.78)*47.58"
   ]
  },
  {
   "cell_type": "code",
   "execution_count": 40,
   "id": "0eea11ae",
   "metadata": {},
   "outputs": [],
   "source": [
    "data[\"revenue\"]=data[\"total_sum\"]-data[\"fuel_cost\"]"
   ]
  },
  {
   "cell_type": "markdown",
   "id": "54b3e244",
   "metadata": {},
   "source": [
    "В датасете отсутствуют рейсы с отрицательной прибылью"
   ]
  },
  {
   "cell_type": "code",
   "execution_count": 41,
   "id": "36299196",
   "metadata": {
    "scrolled": true
   },
   "outputs": [
    {
     "data": {
      "text/html": [
       "<div>\n",
       "<style scoped>\n",
       "    .dataframe tbody tr th:only-of-type {\n",
       "        vertical-align: middle;\n",
       "    }\n",
       "\n",
       "    .dataframe tbody tr th {\n",
       "        vertical-align: top;\n",
       "    }\n",
       "\n",
       "    .dataframe thead th {\n",
       "        text-align: right;\n",
       "    }\n",
       "</style>\n",
       "<table border=\"1\" class=\"dataframe\">\n",
       "  <thead>\n",
       "    <tr style=\"text-align: right;\">\n",
       "      <th></th>\n",
       "      <th>flight_id</th>\n",
       "      <th>total_sum</th>\n",
       "      <th>number_of_passengers</th>\n",
       "      <th>number_of_seats</th>\n",
       "      <th>fill_up</th>\n",
       "      <th>model</th>\n",
       "      <th>flight_no</th>\n",
       "      <th>departure_airport</th>\n",
       "      <th>arrival_airport</th>\n",
       "      <th>aircraft_code</th>\n",
       "      <th>actual_departure</th>\n",
       "      <th>actual_arrival</th>\n",
       "      <th>length_of_flight</th>\n",
       "      <th>fuel_consumption</th>\n",
       "      <th>fuel_cost</th>\n",
       "      <th>revenue</th>\n",
       "    </tr>\n",
       "  </thead>\n",
       "  <tbody>\n",
       "  </tbody>\n",
       "</table>\n",
       "</div>"
      ],
      "text/plain": [
       "Empty DataFrame\n",
       "Columns: [flight_id, total_sum, number_of_passengers, number_of_seats, fill_up, model, flight_no, departure_airport, arrival_airport, aircraft_code, actual_departure, actual_arrival, length_of_flight, fuel_consumption, fuel_cost, revenue]\n",
       "Index: []"
      ]
     },
     "execution_count": 41,
     "metadata": {},
     "output_type": "execute_result"
    }
   ],
   "source": [
    "data[data[\"revenue\"]<0]"
   ]
  },
  {
   "cell_type": "markdown",
   "id": "d9bf4d76",
   "metadata": {},
   "source": [
    "У рейсов в Москву чистая прибыль больше, чем у рейсов в Белгород"
   ]
  },
  {
   "cell_type": "code",
   "execution_count": 42,
   "id": "517b6110",
   "metadata": {
    "scrolled": true
   },
   "outputs": [
    {
     "data": {
      "image/png": "[encoded data removed]",
      "text/plain": [
       "<Figure size 432x288 with 1 Axes>"
      ]
     },
     "metadata": {
      "needs_background": "light"
     },
     "output_type": "display_data"
    }
   ],
   "source": [
    "fig=plt.figure()\n",
    "axes=fig.add_axes([0,0,1,1])\n",
    "data.pivot_table(values=[\"revenue\"], index=\"arrival_airport\", aggfunc=\"mean\").plot(kind='bar', ax=axes)\n",
    "axes.set_title('Average revenue for EGO and SVO')\n",
    "plt.show()"
   ]
  },
  {
   "cell_type": "markdown",
   "id": "0a1c4259",
   "metadata": {},
   "source": [
    "Качественный вид распределения прибыли рейсов в Москву и Белгород (revenue) практически не отличается от вида распределения доходов от продажи билетов (total_sum) из основного задания"
   ]
  },
  {
   "cell_type": "code",
   "execution_count": 43,
   "id": "4a15ca4a",
   "metadata": {},
   "outputs": [
    {
     "data": {
      "image/png": "[encoded data removed]",
      "text/plain": [
       "<Figure size 720x288 with 2 Axes>"
      ]
     },
     "metadata": {
      "needs_background": "light"
     },
     "output_type": "display_data"
    }
   ],
   "source": [
    "fig,axes=plt.subplots(1,2,figsize=(10,4))\n",
    "SVO=data[data[\"arrival_airport\"]=='SVO']\n",
    "axes[0].hist(SVO[\"revenue\"])\n",
    "axes[0].set_title(\"Revenue for SVO (Moscow)\")\n",
    "\n",
    "EGO=data[data[\"arrival_airport\"]=='EGO']\n",
    "axes[1].hist(EGO[\"revenue\"])\n",
    "axes[1].set_title(\"Revenue for EGO (Belgorod)\")\n",
    "\n",
    "plt.show()"
   ]
  },
  {
   "cell_type": "code",
   "execution_count": 44,
   "id": "3210d6fe",
   "metadata": {},
   "outputs": [
    {
     "data": {
      "image/png": "[encoded data removed]",
      "text/plain": [
       "<Figure size 720x432 with 1 Axes>"
      ]
     },
     "metadata": {
      "needs_background": "light"
     },
     "output_type": "display_data"
    }
   ],
   "source": [
    "fig,ax=plt.subplots(figsize=(10,6))\n",
    "sns.boxplot(x=data[\"arrival_airport\"], y=data[\"revenue\"], data=data, ax=ax)\n",
    "ax.set_title('Revenue for SVO (Moscow) and EGO (Belgorod)')\n",
    "plt.show()"
   ]
  },
  {
   "cell_type": "markdown",
   "id": "d3d53cd4",
   "metadata": {},
   "source": [
    "Посмотрим на распределение прибыли в зависимости от дня недели"
   ]
  },
  {
   "cell_type": "code",
   "execution_count": 45,
   "id": "8d3c8a0a",
   "metadata": {},
   "outputs": [],
   "source": [
    "data[\"date_of_flight\"]=data[\"actual_departure\"].apply(lambda x: x[0:10])"
   ]
  },
  {
   "cell_type": "code",
   "execution_count": 46,
   "id": "4d9f7829",
   "metadata": {},
   "outputs": [],
   "source": [
    "data[\"date_of_flight\"]=data[\"date_of_flight\"].apply(lambda x: datetime.strptime(x, \"%Y-%m-%d\"))"
   ]
  },
  {
   "cell_type": "code",
   "execution_count": 47,
   "id": "f8df8c32",
   "metadata": {},
   "outputs": [],
   "source": [
    "data[\"day_of_week\"]=data[\"date_of_flight\"].dt.weekday"
   ]
  },
  {
   "cell_type": "code",
   "execution_count": 48,
   "id": "4c59e1b1",
   "metadata": {},
   "outputs": [],
   "source": [
    "data[\"is_weekend\"]=data[\"day_of_week\"].apply(is_weekend)"
   ]
  },
  {
   "cell_type": "markdown",
   "id": "d2b3ac7e",
   "metadata": {},
   "source": [
    "Как мы видим, прибыль практически не зависит от того, выходной день или нет"
   ]
  },
  {
   "cell_type": "code",
   "execution_count": 49,
   "id": "fd49c4f6",
   "metadata": {
    "scrolled": true
   },
   "outputs": [
    {
     "data": {
      "image/png": "[encoded data removed]",
      "text/plain": [
       "<Figure size 720x432 with 1 Axes>"
      ]
     },
     "metadata": {
      "needs_background": "light"
     },
     "output_type": "display_data"
    }
   ],
   "source": [
    "fig,ax=plt.subplots(figsize=(10,6))\n",
    "sns.boxplot(x=data[\"is_weekend\"], y=data[\"revenue\"], data=data, ax=ax)\n",
    "ax.set_title('Revenue depending on weekend')\n",
    "plt.show()"
   ]
  },
  {
   "cell_type": "markdown",
   "id": "975f1282",
   "metadata": {},
   "source": [
    "Видно, что зависимость прибыли от направления полета (Москва или Белгород) сохраняется и в будние, и в выходные дни. \n",
    "В любой день прибыль от полета в Москву больше"
   ]
  },
  {
   "cell_type": "code",
   "execution_count": 50,
   "id": "e24a8d9f",
   "metadata": {
    "scrolled": true
   },
   "outputs": [
    {
     "data": {
      "text/plain": [
       "<AxesSubplot:xlabel='is_weekend,arrival_airport'>"
      ]
     },
     "execution_count": 50,
     "metadata": {},
     "output_type": "execute_result"
    },
    {
     "data": {
      "image/png": "[encoded data removed]",
      "text/plain": [
       "<Figure size 432x288 with 1 Axes>"
      ]
     },
     "metadata": {
      "needs_background": "light"
     },
     "output_type": "display_data"
    }
   ],
   "source": [
    "data.groupby([\"is_weekend\",\"arrival_airport\"])[\"revenue\"].mean().plot(kind='bar')"
   ]
  },
  {
   "cell_type": "markdown",
   "id": "41e27f06",
   "metadata": {},
   "source": [
    "Ну а теперь мы должны \"выбросить\" наименее прибыльные рейсы.\n",
    "\n",
    "\n",
    "Это - список десяти наименее прибыльных рейсов во всем датасете. Можем выбросить их. "
   ]
  },
  {
   "cell_type": "code",
   "execution_count": 51,
   "id": "6a45bd34",
   "metadata": {},
   "outputs": [
    {
     "data": {
      "text/html": [
       "<div>\n",
       "<style scoped>\n",
       "    .dataframe tbody tr th:only-of-type {\n",
       "        vertical-align: middle;\n",
       "    }\n",
       "\n",
       "    .dataframe tbody tr th {\n",
       "        vertical-align: top;\n",
       "    }\n",
       "\n",
       "    .dataframe thead th {\n",
       "        text-align: right;\n",
       "    }\n",
       "</style>\n",
       "<table border=\"1\" class=\"dataframe\">\n",
       "  <thead>\n",
       "    <tr style=\"text-align: right;\">\n",
       "      <th></th>\n",
       "      <th>flight_id</th>\n",
       "      <th>revenue</th>\n",
       "    </tr>\n",
       "  </thead>\n",
       "  <tbody>\n",
       "    <tr>\n",
       "      <th>102</th>\n",
       "      <td>136807</td>\n",
       "      <td>436246.666667</td>\n",
       "    </tr>\n",
       "    <tr>\n",
       "      <th>77</th>\n",
       "      <td>136642</td>\n",
       "      <td>438141.733333</td>\n",
       "    </tr>\n",
       "    <tr>\n",
       "      <th>109</th>\n",
       "      <td>136844</td>\n",
       "      <td>480346.666667</td>\n",
       "    </tr>\n",
       "    <tr>\n",
       "      <th>116</th>\n",
       "      <td>136887</td>\n",
       "      <td>502341.733333</td>\n",
       "    </tr>\n",
       "    <tr>\n",
       "      <th>120</th>\n",
       "      <td>136922</td>\n",
       "      <td>513046.666667</td>\n",
       "    </tr>\n",
       "    <tr>\n",
       "      <th>74</th>\n",
       "      <td>136620</td>\n",
       "      <td>520641.733333</td>\n",
       "    </tr>\n",
       "    <tr>\n",
       "      <th>105</th>\n",
       "      <td>136823</td>\n",
       "      <td>523751.600000</td>\n",
       "    </tr>\n",
       "    <tr>\n",
       "      <th>123</th>\n",
       "      <td>136937</td>\n",
       "      <td>531346.666667</td>\n",
       "    </tr>\n",
       "    <tr>\n",
       "      <th>117</th>\n",
       "      <td>136888</td>\n",
       "      <td>531346.666667</td>\n",
       "    </tr>\n",
       "    <tr>\n",
       "      <th>78</th>\n",
       "      <td>136645</td>\n",
       "      <td>536351.600000</td>\n",
       "    </tr>\n",
       "  </tbody>\n",
       "</table>\n",
       "</div>"
      ],
      "text/plain": [
       "     flight_id        revenue\n",
       "102     136807  436246.666667\n",
       "77      136642  438141.733333\n",
       "109     136844  480346.666667\n",
       "116     136887  502341.733333\n",
       "120     136922  513046.666667\n",
       "74      136620  520641.733333\n",
       "105     136823  523751.600000\n",
       "123     136937  531346.666667\n",
       "117     136888  531346.666667\n",
       "78      136645  536351.600000"
      ]
     },
     "execution_count": 51,
     "metadata": {},
     "output_type": "execute_result"
    }
   ],
   "source": [
    "data[[\"flight_id\",\"revenue\"]].sort_values(\"revenue\")[:10]"
   ]
  },
  {
   "cell_type": "markdown",
   "id": "a4b36d8b",
   "metadata": {},
   "source": [
    "А еще мы можем разделить рейсы по направлениям (Москва или Белгород) и выбросить наименее прибыльные рейсы по каждому направлению."
   ]
  },
  {
   "cell_type": "code",
   "execution_count": 52,
   "id": "297d5d3b",
   "metadata": {},
   "outputs": [
    {
     "data": {
      "text/html": [
       "<div>\n",
       "<style scoped>\n",
       "    .dataframe tbody tr th:only-of-type {\n",
       "        vertical-align: middle;\n",
       "    }\n",
       "\n",
       "    .dataframe tbody tr th {\n",
       "        vertical-align: top;\n",
       "    }\n",
       "\n",
       "    .dataframe thead th {\n",
       "        text-align: right;\n",
       "    }\n",
       "</style>\n",
       "<table border=\"1\" class=\"dataframe\">\n",
       "  <thead>\n",
       "    <tr style=\"text-align: right;\">\n",
       "      <th></th>\n",
       "      <th>flight_id</th>\n",
       "      <th>revenue</th>\n",
       "    </tr>\n",
       "  </thead>\n",
       "  <tbody>\n",
       "    <tr>\n",
       "      <th>54</th>\n",
       "      <td>136464</td>\n",
       "      <td>1.133667e+06</td>\n",
       "    </tr>\n",
       "    <tr>\n",
       "      <th>21</th>\n",
       "      <td>136250</td>\n",
       "      <td>1.140823e+06</td>\n",
       "    </tr>\n",
       "    <tr>\n",
       "      <th>2</th>\n",
       "      <td>136122</td>\n",
       "      <td>1.166667e+06</td>\n",
       "    </tr>\n",
       "    <tr>\n",
       "      <th>12</th>\n",
       "      <td>136178</td>\n",
       "      <td>1.172910e+06</td>\n",
       "    </tr>\n",
       "    <tr>\n",
       "      <th>38</th>\n",
       "      <td>136360</td>\n",
       "      <td>1.191067e+06</td>\n",
       "    </tr>\n",
       "  </tbody>\n",
       "</table>\n",
       "</div>"
      ],
      "text/plain": [
       "    flight_id       revenue\n",
       "54     136464  1.133667e+06\n",
       "21     136250  1.140823e+06\n",
       "2      136122  1.166667e+06\n",
       "12     136178  1.172910e+06\n",
       "38     136360  1.191067e+06"
      ]
     },
     "execution_count": 52,
     "metadata": {},
     "output_type": "execute_result"
    }
   ],
   "source": [
    "data[data[\"arrival_airport\"]==\"SVO\"][[\"flight_id\",\"revenue\"]].sort_values(\"revenue\")[:5]"
   ]
  },
  {
   "cell_type": "code",
   "execution_count": 53,
   "id": "9192cc78",
   "metadata": {},
   "outputs": [
    {
     "data": {
      "text/html": [
       "<div>\n",
       "<style scoped>\n",
       "    .dataframe tbody tr th:only-of-type {\n",
       "        vertical-align: middle;\n",
       "    }\n",
       "\n",
       "    .dataframe tbody tr th {\n",
       "        vertical-align: top;\n",
       "    }\n",
       "\n",
       "    .dataframe thead th {\n",
       "        text-align: right;\n",
       "    }\n",
       "</style>\n",
       "<table border=\"1\" class=\"dataframe\">\n",
       "  <thead>\n",
       "    <tr style=\"text-align: right;\">\n",
       "      <th></th>\n",
       "      <th>flight_id</th>\n",
       "      <th>revenue</th>\n",
       "    </tr>\n",
       "  </thead>\n",
       "  <tbody>\n",
       "    <tr>\n",
       "      <th>102</th>\n",
       "      <td>136807</td>\n",
       "      <td>436246.666667</td>\n",
       "    </tr>\n",
       "    <tr>\n",
       "      <th>77</th>\n",
       "      <td>136642</td>\n",
       "      <td>438141.733333</td>\n",
       "    </tr>\n",
       "    <tr>\n",
       "      <th>109</th>\n",
       "      <td>136844</td>\n",
       "      <td>480346.666667</td>\n",
       "    </tr>\n",
       "    <tr>\n",
       "      <th>116</th>\n",
       "      <td>136887</td>\n",
       "      <td>502341.733333</td>\n",
       "    </tr>\n",
       "    <tr>\n",
       "      <th>120</th>\n",
       "      <td>136922</td>\n",
       "      <td>513046.666667</td>\n",
       "    </tr>\n",
       "  </tbody>\n",
       "</table>\n",
       "</div>"
      ],
      "text/plain": [
       "     flight_id        revenue\n",
       "102     136807  436246.666667\n",
       "77      136642  438141.733333\n",
       "109     136844  480346.666667\n",
       "116     136887  502341.733333\n",
       "120     136922  513046.666667"
      ]
     },
     "execution_count": 53,
     "metadata": {},
     "output_type": "execute_result"
    }
   ],
   "source": [
    "data[data[\"arrival_airport\"]==\"EGO\"][[\"flight_id\",\"revenue\"]].sort_values(\"revenue\")[:5]"
   ]
  },
  {
   "cell_type": "markdown",
   "id": "12d952fb",
   "metadata": {},
   "source": [
    "А еще можно выбросить рейсы с заполняемостью менее 75% по каждому направлению."
   ]
  },
  {
   "cell_type": "code",
   "execution_count": 54,
   "id": "b83516a8",
   "metadata": {},
   "outputs": [
    {
     "data": {
      "text/html": [
       "<div>\n",
       "<style scoped>\n",
       "    .dataframe tbody tr th:only-of-type {\n",
       "        vertical-align: middle;\n",
       "    }\n",
       "\n",
       "    .dataframe tbody tr th {\n",
       "        vertical-align: top;\n",
       "    }\n",
       "\n",
       "    .dataframe thead th {\n",
       "        text-align: right;\n",
       "    }\n",
       "</style>\n",
       "<table border=\"1\" class=\"dataframe\">\n",
       "  <thead>\n",
       "    <tr style=\"text-align: right;\">\n",
       "      <th></th>\n",
       "      <th>flight_id</th>\n",
       "      <th>fill_up</th>\n",
       "    </tr>\n",
       "  </thead>\n",
       "  <tbody>\n",
       "    <tr>\n",
       "      <th>2</th>\n",
       "      <td>136122</td>\n",
       "      <td>0.746154</td>\n",
       "    </tr>\n",
       "    <tr>\n",
       "      <th>38</th>\n",
       "      <td>136360</td>\n",
       "      <td>0.746154</td>\n",
       "    </tr>\n",
       "  </tbody>\n",
       "</table>\n",
       "</div>"
      ],
      "text/plain": [
       "    flight_id   fill_up\n",
       "2      136122  0.746154\n",
       "38     136360  0.746154"
      ]
     },
     "execution_count": 54,
     "metadata": {},
     "output_type": "execute_result"
    }
   ],
   "source": [
    "data[(data[\"arrival_airport\"]=='SVO')&(data[\"fill_up\"]<0.75)][[\"flight_id\",\"fill_up\"]]"
   ]
  },
  {
   "cell_type": "code",
   "execution_count": 55,
   "id": "a6fa2cc4",
   "metadata": {},
   "outputs": [
    {
     "data": {
      "text/html": [
       "<div>\n",
       "<style scoped>\n",
       "    .dataframe tbody tr th:only-of-type {\n",
       "        vertical-align: middle;\n",
       "    }\n",
       "\n",
       "    .dataframe tbody tr th {\n",
       "        vertical-align: top;\n",
       "    }\n",
       "\n",
       "    .dataframe thead th {\n",
       "        text-align: right;\n",
       "    }\n",
       "</style>\n",
       "<table border=\"1\" class=\"dataframe\">\n",
       "  <thead>\n",
       "    <tr style=\"text-align: right;\">\n",
       "      <th></th>\n",
       "      <th>flight_id</th>\n",
       "      <th>fill_up</th>\n",
       "    </tr>\n",
       "  </thead>\n",
       "  <tbody>\n",
       "    <tr>\n",
       "      <th>77</th>\n",
       "      <td>136642</td>\n",
       "      <td>0.659794</td>\n",
       "    </tr>\n",
       "    <tr>\n",
       "      <th>102</th>\n",
       "      <td>136807</td>\n",
       "      <td>0.701031</td>\n",
       "    </tr>\n",
       "  </tbody>\n",
       "</table>\n",
       "</div>"
      ],
      "text/plain": [
       "     flight_id   fill_up\n",
       "77      136642  0.659794\n",
       "102     136807  0.701031"
      ]
     },
     "execution_count": 55,
     "metadata": {},
     "output_type": "execute_result"
    }
   ],
   "source": [
    "data[(data[\"arrival_airport\"]=='EGO')&(data[\"fill_up\"]<0.75)][[\"flight_id\",\"fill_up\"]]"
   ]
  },
  {
   "cell_type": "markdown",
   "id": "641fe799",
   "metadata": {},
   "source": [
    "Как видно из приведенных данных, рейсы в Белгород с ID 136642, 136807 встречаются как среди рейсов с наименьшей прибылью, так и среди рейсов с наименьшей заполняемостью. Значит, их точно необходимо выбросить."
   ]
  },
  {
   "cell_type": "markdown",
   "id": "32d98cd8",
   "metadata": {},
   "source": [
    "То же самое с рейсами в Москву. Рейсы с ID 136122, 136360 встречаются как среди рейсов с наименьшей прибылью, так и среди рейсов с наименьшей наполняемостью. Значит, их тоже выбрасываем."
   ]
  },
  {
   "cell_type": "markdown",
   "id": "4ba47003",
   "metadata": {},
   "source": [
    "# Выводы\n",
    "1. Был проанализирован датасет, содержащий информацию о полетах из Анапы в зимнее время. Всего в датасете находилось 118 записей. Для анализа датасета были использованы дополнительные данные из сторонних источников (стоимость топлива, расход топлива для каждой модели самолета, плотность топлива)\n",
    "2. Было показано, что полеты в Москву приносят больше прибыли, чем полеты в Белгород\n",
    "3. Были найдены 2 рейса в Белгород с заполняемостью ниже 75% (136642, 136807) и 2 рейса в Москву с заполняемостью ниже 75% (136122, 136360).\n",
    "4. После сортировки данных по прибыли по каждому направлению было принято решение удалить рейсы с наименьшей наполняемостью (136642, 136807, 136122, 136360), т.к. именно эти рейсы приносят наименьшую прибыль по каждому из направлений."
   ]
  },
  {
   "cell_type": "code",
   "execution_count": null,
   "id": "22fcad5c",
   "metadata": {},
   "outputs": [],
   "source": []
  }
 ],
 "metadata": {
  "kernelspec": {
   "display_name": "Python 3",
   "language": "python",
   "name": "python3"
  },
  "language_info": {
   "codemirror_mode": {
    "name": "ipython",
    "version": 3
   },
   "file_extension": ".py",
   "mimetype": "text/x-python",
   "name": "python",
   "nbconvert_exporter": "python",
   "pygments_lexer": "ipython3",
   "version": "3.8.8"
  }
 },
 "nbformat": 4,
 "nbformat_minor": 5
}
