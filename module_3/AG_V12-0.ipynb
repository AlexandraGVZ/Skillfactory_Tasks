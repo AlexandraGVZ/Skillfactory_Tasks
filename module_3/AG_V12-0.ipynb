{
 "cells": [
  {
   "cell_type": "markdown",
   "metadata": {},
   "source": [
    "![](https://www.pata.org/wp-content/uploads/2014/09/TripAdvisor_Logo-300x119.png)\n",
    "# Predict TripAdvisor Rating\n",
    "## В этом соревновании нам предстоит предсказать рейтинг ресторана в TripAdvisor\n",
    "**По ходу задачи:**\n",
    "* Прокачаем работу с pandas\n",
    "* Научимся работать с Kaggle Notebooks\n",
    "* Поймем как делать предобработку различных данных\n",
    "* Научимся работать с пропущенными данными (Nan)\n",
    "* Познакомимся с различными видами кодирования признаков\n",
    "* Немного попробуем [Feature Engineering](https://ru.wikipedia.org/wiki/Конструирование_признаков) (генерировать новые признаки)\n",
    "* И совсем немного затронем ML\n",
    "* И многое другое...   \n",
    "\n",
    "\n",
    "\n",
    "### И самое важное, все это вы сможете сделать самостоятельно!\n",
    "\n",
    "*Этот Ноутбук являетсся Примером/Шаблоном к этому соревнованию (Baseline) и не служит готовым решением!*   \n",
    "Вы можете использовать его как основу для построения своего решения.\n",
    "\n",
    "> что такое baseline решение, зачем оно нужно и почему предоставлять baseline к соревнованию стало важным стандартом на kaggle и других площадках.   \n",
    "**baseline** создается больше как шаблон, где можно посмотреть как происходит обращение с входящими данными и что нужно получить на выходе. При этом МЛ начинка может быть достаточно простой, просто для примера. Это помогает быстрее приступить к самому МЛ, а не тратить ценное время на чисто инженерные задачи. \n",
    "Также baseline являеться хорошей опорной точкой по метрике. Если твое решение хуже baseline - ты явно делаешь что-то не то и стоит попробовать другой путь) \n",
    "\n",
    "В контексте нашего соревнования baseline идет с небольшими примерами того, что можно делать с данными, и с инструкцией, что делать дальше, чтобы улучшить результат.  Вообще готовым решением это сложно назвать, так как используются всего 2 самых простых признака (а остальные исключаются)."
   ]
  },
  {
   "cell_type": "markdown",
   "metadata": {},
   "source": [
    "# import"
   ]
  },
  {
   "cell_type": "code",
   "execution_count": 1,
   "metadata": {
    "_cell_guid": "b1076dfc-b9ad-4769-8c92-a6c4dae69d19",
    "_uuid": "8f2839f25d086af736a60e9eeb907d3b93b6e0e5",
    "execution": {
     "iopub.execute_input": "2021-10-05T09:22:57.468200Z",
     "iopub.status.busy": "2021-10-05T09:22:57.467747Z",
     "iopub.status.idle": "2021-10-05T09:23:00.144001Z",
     "shell.execute_reply": "2021-10-05T09:23:00.143101Z",
     "shell.execute_reply.started": "2021-10-05T09:22:57.468159Z"
    }
   },
   "outputs": [
    {
     "name": "stdout",
     "output_type": "stream",
     "text": [
      "/kaggle/input/sf-dst-restaurant-rating/sample_submission.csv\n",
      "/kaggle/input/sf-dst-restaurant-rating/main_task.csv\n",
      "/kaggle/input/sf-dst-restaurant-rating/kaggle_task.csv\n"
     ]
    }
   ],
   "source": [
    "# This Python 3 environment comes with many helpful analytics libraries installed\n",
    "# It is defined by the kaggle/python docker image: https://github.com/kaggle/docker-python\n",
    "# For example, here's several helpful packages to load in \n",
    "\n",
    "import numpy as np # linear algebra\n",
    "import pandas as pd # data processing, CSV file I/O (e.g. pd.read_csv)\n",
    "\n",
    "import matplotlib.pyplot as plt\n",
    "import seaborn as sns \n",
    "%matplotlib inline\n",
    "\n",
    "# Загружаем специальный удобный инструмент для разделения датасета:\n",
    "from sklearn.model_selection import train_test_split\n",
    "\n",
    "# Input data files are available in the \"../input/\" directory.\n",
    "# For example, running this (by clicking run or pressing Shift+Enter) will list all files under the input directory\n",
    "\n",
    "import os\n",
    "for dirname, _, filenames in os.walk('/kaggle/input'):\n",
    "    for filename in filenames:\n",
    "        print(os.path.join(dirname, filename))\n",
    "\n",
    "# Any results you write to the current directory are saved as output."
   ]
  },
  {
   "cell_type": "code",
   "execution_count": 2,
   "metadata": {
    "execution": {
     "iopub.execute_input": "2021-10-05T09:23:04.768565Z",
     "iopub.status.busy": "2021-10-05T09:23:04.768259Z",
     "iopub.status.idle": "2021-10-05T09:23:04.772641Z",
     "shell.execute_reply": "2021-10-05T09:23:04.771457Z",
     "shell.execute_reply.started": "2021-10-05T09:23:04.768517Z"
    }
   },
   "outputs": [],
   "source": [
    "# всегда фиксируйте RANDOM_SEED, чтобы ваши эксперименты были воспроизводимы!\n",
    "RANDOM_SEED = 42"
   ]
  },
  {
   "cell_type": "code",
   "execution_count": 3,
   "metadata": {
    "execution": {
     "iopub.execute_input": "2021-10-05T09:23:09.124742Z",
     "iopub.status.busy": "2021-10-05T09:23:09.124410Z",
     "iopub.status.idle": "2021-10-05T09:23:12.504141Z",
     "shell.execute_reply": "2021-10-05T09:23:12.503075Z",
     "shell.execute_reply.started": "2021-10-05T09:23:09.124693Z"
    }
   },
   "outputs": [],
   "source": [
    "# зафиксируем версию пакетов, чтобы эксперименты были воспроизводимы:\n",
    "!pip freeze > requirements.txt"
   ]
  },
  {
   "cell_type": "markdown",
   "metadata": {},
   "source": [
    "# DATA"
   ]
  },
  {
   "cell_type": "code",
   "execution_count": 4,
   "metadata": {
    "_cell_guid": "79c7e3d0-c299-4dcb-8224-4455121ee9b0",
    "_uuid": "d629ff2d2480ee46fbb7e2d37f6b5fab8052498a",
    "execution": {
     "iopub.execute_input": "2021-10-05T09:23:56.830430Z",
     "iopub.status.busy": "2021-10-05T09:23:56.830098Z",
     "iopub.status.idle": "2021-10-05T09:23:57.235554Z",
     "shell.execute_reply": "2021-10-05T09:23:57.234723Z",
     "shell.execute_reply.started": "2021-10-05T09:23:56.830381Z"
    }
   },
   "outputs": [],
   "source": [
    "DATA_DIR = '/kaggle/input/sf-dst-restaurant-rating/'\n",
    "df_train = pd.read_csv(DATA_DIR+'/main_task.csv')\n",
    "df_test = pd.read_csv(DATA_DIR+'kaggle_task.csv')\n",
    "sample_submission = pd.read_csv(DATA_DIR+'/sample_submission.csv')"
   ]
  },
  {
   "cell_type": "code",
   "execution_count": 5,
   "metadata": {
    "execution": {
     "iopub.execute_input": "2021-10-05T09:25:29.382584Z",
     "iopub.status.busy": "2021-10-05T09:25:29.382140Z",
     "iopub.status.idle": "2021-10-05T09:25:29.432252Z",
     "shell.execute_reply": "2021-10-05T09:25:29.431227Z",
     "shell.execute_reply.started": "2021-10-05T09:25:29.382544Z"
    }
   },
   "outputs": [
    {
     "name": "stdout",
     "output_type": "stream",
     "text": [
      "<class 'pandas.core.frame.DataFrame'>\n",
      "RangeIndex: 40000 entries, 0 to 39999\n",
      "Data columns (total 10 columns):\n",
      "Restaurant_id        40000 non-null object\n",
      "City                 40000 non-null object\n",
      "Cuisine Style        30717 non-null object\n",
      "Ranking              40000 non-null float64\n",
      "Rating               40000 non-null float64\n",
      "Price Range          26114 non-null object\n",
      "Number of Reviews    37457 non-null float64\n",
      "Reviews              40000 non-null object\n",
      "URL_TA               40000 non-null object\n",
      "ID_TA                40000 non-null object\n",
      "dtypes: float64(3), object(7)\n",
      "memory usage: 3.1+ MB\n"
     ]
    }
   ],
   "source": [
    "df_train.info()"
   ]
  },
  {
   "cell_type": "code",
   "execution_count": 6,
   "metadata": {
    "execution": {
     "iopub.execute_input": "2021-10-04T08:13:48.972137Z",
     "iopub.status.busy": "2021-10-04T08:13:48.971812Z",
     "iopub.status.idle": "2021-10-04T08:13:49.001864Z",
     "shell.execute_reply": "2021-10-04T08:13:49.000988Z",
     "shell.execute_reply.started": "2021-10-04T08:13:48.972088Z"
    }
   },
   "outputs": [
    {
     "data": {
      "text/html": [
       "<div>\n",
       "<style scoped>\n",
       "    .dataframe tbody tr th:only-of-type {\n",
       "        vertical-align: middle;\n",
       "    }\n",
       "\n",
       "    .dataframe tbody tr th {\n",
       "        vertical-align: top;\n",
       "    }\n",
       "\n",
       "    .dataframe thead th {\n",
       "        text-align: right;\n",
       "    }\n",
       "</style>\n",
       "<table border=\"1\" class=\"dataframe\">\n",
       "  <thead>\n",
       "    <tr style=\"text-align: right;\">\n",
       "      <th></th>\n",
       "      <th>Restaurant_id</th>\n",
       "      <th>City</th>\n",
       "      <th>Cuisine Style</th>\n",
       "      <th>Ranking</th>\n",
       "      <th>Rating</th>\n",
       "      <th>Price Range</th>\n",
       "      <th>Number of Reviews</th>\n",
       "      <th>Reviews</th>\n",
       "      <th>URL_TA</th>\n",
       "      <th>ID_TA</th>\n",
       "    </tr>\n",
       "  </thead>\n",
       "  <tbody>\n",
       "    <tr>\n",
       "      <th>0</th>\n",
       "      <td>id_5569</td>\n",
       "      <td>Paris</td>\n",
       "      <td>['European', 'French', 'International']</td>\n",
       "      <td>5570.0</td>\n",
       "      <td>3.5</td>\n",
       "      <td>$$ - $$$</td>\n",
       "      <td>194.0</td>\n",
       "      <td>[['Good food at your doorstep', 'A good hotel ...</td>\n",
       "      <td>/Restaurant_Review-g187147-d1912643-Reviews-R_...</td>\n",
       "      <td>d1912643</td>\n",
       "    </tr>\n",
       "    <tr>\n",
       "      <th>1</th>\n",
       "      <td>id_1535</td>\n",
       "      <td>Stockholm</td>\n",
       "      <td>NaN</td>\n",
       "      <td>1537.0</td>\n",
       "      <td>4.0</td>\n",
       "      <td>NaN</td>\n",
       "      <td>10.0</td>\n",
       "      <td>[['Unique cuisine', 'Delicious Nepalese food']...</td>\n",
       "      <td>/Restaurant_Review-g189852-d7992032-Reviews-Bu...</td>\n",
       "      <td>d7992032</td>\n",
       "    </tr>\n",
       "    <tr>\n",
       "      <th>2</th>\n",
       "      <td>id_352</td>\n",
       "      <td>London</td>\n",
       "      <td>['Japanese', 'Sushi', 'Asian', 'Grill', 'Veget...</td>\n",
       "      <td>353.0</td>\n",
       "      <td>4.5</td>\n",
       "      <td>$$$$</td>\n",
       "      <td>688.0</td>\n",
       "      <td>[['Catch up with friends', 'Not exceptional'],...</td>\n",
       "      <td>/Restaurant_Review-g186338-d8632781-Reviews-RO...</td>\n",
       "      <td>d8632781</td>\n",
       "    </tr>\n",
       "    <tr>\n",
       "      <th>3</th>\n",
       "      <td>id_3456</td>\n",
       "      <td>Berlin</td>\n",
       "      <td>NaN</td>\n",
       "      <td>3458.0</td>\n",
       "      <td>5.0</td>\n",
       "      <td>NaN</td>\n",
       "      <td>3.0</td>\n",
       "      <td>[[], []]</td>\n",
       "      <td>/Restaurant_Review-g187323-d1358776-Reviews-Es...</td>\n",
       "      <td>d1358776</td>\n",
       "    </tr>\n",
       "    <tr>\n",
       "      <th>4</th>\n",
       "      <td>id_615</td>\n",
       "      <td>Munich</td>\n",
       "      <td>['German', 'Central European', 'Vegetarian Fri...</td>\n",
       "      <td>621.0</td>\n",
       "      <td>4.0</td>\n",
       "      <td>$$ - $$$</td>\n",
       "      <td>84.0</td>\n",
       "      <td>[['Best place to try a Bavarian food', 'Nice b...</td>\n",
       "      <td>/Restaurant_Review-g187309-d6864963-Reviews-Au...</td>\n",
       "      <td>d6864963</td>\n",
       "    </tr>\n",
       "  </tbody>\n",
       "</table>\n",
       "</div>"
      ],
      "text/plain": [
       "  Restaurant_id       City                                      Cuisine Style  \\\n",
       "0       id_5569      Paris            ['European', 'French', 'International']   \n",
       "1       id_1535  Stockholm                                                NaN   \n",
       "2        id_352     London  ['Japanese', 'Sushi', 'Asian', 'Grill', 'Veget...   \n",
       "3       id_3456     Berlin                                                NaN   \n",
       "4        id_615     Munich  ['German', 'Central European', 'Vegetarian Fri...   \n",
       "\n",
       "   Ranking  Rating Price Range  Number of Reviews  \\\n",
       "0   5570.0     3.5    $$ - $$$              194.0   \n",
       "1   1537.0     4.0         NaN               10.0   \n",
       "2    353.0     4.5        $$$$              688.0   \n",
       "3   3458.0     5.0         NaN                3.0   \n",
       "4    621.0     4.0    $$ - $$$               84.0   \n",
       "\n",
       "                                             Reviews  \\\n",
       "0  [['Good food at your doorstep', 'A good hotel ...   \n",
       "1  [['Unique cuisine', 'Delicious Nepalese food']...   \n",
       "2  [['Catch up with friends', 'Not exceptional'],...   \n",
       "3                                           [[], []]   \n",
       "4  [['Best place to try a Bavarian food', 'Nice b...   \n",
       "\n",
       "                                              URL_TA     ID_TA  \n",
       "0  /Restaurant_Review-g187147-d1912643-Reviews-R_...  d1912643  \n",
       "1  /Restaurant_Review-g189852-d7992032-Reviews-Bu...  d7992032  \n",
       "2  /Restaurant_Review-g186338-d8632781-Reviews-RO...  d8632781  \n",
       "3  /Restaurant_Review-g187323-d1358776-Reviews-Es...  d1358776  \n",
       "4  /Restaurant_Review-g187309-d6864963-Reviews-Au...  d6864963  "
      ]
     },
     "execution_count": 6,
     "metadata": {},
     "output_type": "execute_result"
    }
   ],
   "source": [
    "df_train.head(5)"
   ]
  },
  {
   "cell_type": "code",
   "execution_count": 7,
   "metadata": {
    "execution": {
     "iopub.execute_input": "2021-10-04T08:19:58.241339Z",
     "iopub.status.busy": "2021-10-04T08:19:58.241035Z",
     "iopub.status.idle": "2021-10-04T08:19:58.259549Z",
     "shell.execute_reply": "2021-10-04T08:19:58.258518Z",
     "shell.execute_reply.started": "2021-10-04T08:19:58.241288Z"
    }
   },
   "outputs": [
    {
     "name": "stdout",
     "output_type": "stream",
     "text": [
      "<class 'pandas.core.frame.DataFrame'>\n",
      "RangeIndex: 10000 entries, 0 to 9999\n",
      "Data columns (total 9 columns):\n",
      "Restaurant_id        10000 non-null object\n",
      "City                 10000 non-null object\n",
      "Cuisine Style        7693 non-null object\n",
      "Ranking              10000 non-null float64\n",
      "Price Range          6525 non-null object\n",
      "Number of Reviews    9343 non-null float64\n",
      "Reviews              9998 non-null object\n",
      "URL_TA               10000 non-null object\n",
      "ID_TA                10000 non-null object\n",
      "dtypes: float64(2), object(7)\n",
      "memory usage: 703.2+ KB\n"
     ]
    }
   ],
   "source": [
    "df_test.info()"
   ]
  },
  {
   "cell_type": "code",
   "execution_count": 8,
   "metadata": {
    "execution": {
     "iopub.execute_input": "2021-10-04T08:14:43.97111Z",
     "iopub.status.busy": "2021-10-04T08:14:43.970766Z",
     "iopub.status.idle": "2021-10-04T08:14:43.988911Z",
     "shell.execute_reply": "2021-10-04T08:14:43.987767Z",
     "shell.execute_reply.started": "2021-10-04T08:14:43.971059Z"
    }
   },
   "outputs": [
    {
     "data": {
      "text/html": [
       "<div>\n",
       "<style scoped>\n",
       "    .dataframe tbody tr th:only-of-type {\n",
       "        vertical-align: middle;\n",
       "    }\n",
       "\n",
       "    .dataframe tbody tr th {\n",
       "        vertical-align: top;\n",
       "    }\n",
       "\n",
       "    .dataframe thead th {\n",
       "        text-align: right;\n",
       "    }\n",
       "</style>\n",
       "<table border=\"1\" class=\"dataframe\">\n",
       "  <thead>\n",
       "    <tr style=\"text-align: right;\">\n",
       "      <th></th>\n",
       "      <th>Restaurant_id</th>\n",
       "      <th>City</th>\n",
       "      <th>Cuisine Style</th>\n",
       "      <th>Ranking</th>\n",
       "      <th>Price Range</th>\n",
       "      <th>Number of Reviews</th>\n",
       "      <th>Reviews</th>\n",
       "      <th>URL_TA</th>\n",
       "      <th>ID_TA</th>\n",
       "    </tr>\n",
       "  </thead>\n",
       "  <tbody>\n",
       "    <tr>\n",
       "      <th>0</th>\n",
       "      <td>id_0</td>\n",
       "      <td>Paris</td>\n",
       "      <td>['Bar', 'Pub']</td>\n",
       "      <td>12963.0</td>\n",
       "      <td>$$ - $$$</td>\n",
       "      <td>4.0</td>\n",
       "      <td>[[], []]</td>\n",
       "      <td>/Restaurant_Review-g187147-d10746918-Reviews-L...</td>\n",
       "      <td>d10746918</td>\n",
       "    </tr>\n",
       "    <tr>\n",
       "      <th>1</th>\n",
       "      <td>id_1</td>\n",
       "      <td>Helsinki</td>\n",
       "      <td>['European', 'Scandinavian', 'Gluten Free Opti...</td>\n",
       "      <td>106.0</td>\n",
       "      <td>$$ - $$$</td>\n",
       "      <td>97.0</td>\n",
       "      <td>[['Very good reviews!', 'Fine dining in Hakani...</td>\n",
       "      <td>/Restaurant_Review-g189934-d6674944-Reviews-Ra...</td>\n",
       "      <td>d6674944</td>\n",
       "    </tr>\n",
       "    <tr>\n",
       "      <th>2</th>\n",
       "      <td>id_2</td>\n",
       "      <td>Edinburgh</td>\n",
       "      <td>['Vegetarian Friendly']</td>\n",
       "      <td>810.0</td>\n",
       "      <td>$$ - $$$</td>\n",
       "      <td>28.0</td>\n",
       "      <td>[['Better than the Links', 'Ivy Black'], ['12/...</td>\n",
       "      <td>/Restaurant_Review-g186525-d13129638-Reviews-B...</td>\n",
       "      <td>d13129638</td>\n",
       "    </tr>\n",
       "    <tr>\n",
       "      <th>3</th>\n",
       "      <td>id_3</td>\n",
       "      <td>London</td>\n",
       "      <td>['Italian', 'Mediterranean', 'European', 'Vege...</td>\n",
       "      <td>1669.0</td>\n",
       "      <td>$$$$</td>\n",
       "      <td>202.0</td>\n",
       "      <td>[['Most exquisite', 'Delicious and authentic']...</td>\n",
       "      <td>/Restaurant_Review-g186338-d680417-Reviews-Qui...</td>\n",
       "      <td>d680417</td>\n",
       "    </tr>\n",
       "    <tr>\n",
       "      <th>4</th>\n",
       "      <td>id_4</td>\n",
       "      <td>Bratislava</td>\n",
       "      <td>['Italian', 'Mediterranean', 'European', 'Seaf...</td>\n",
       "      <td>37.0</td>\n",
       "      <td>$$$$</td>\n",
       "      <td>162.0</td>\n",
       "      <td>[['Always the best in bratislava', 'Very good ...</td>\n",
       "      <td>/Restaurant_Review-g274924-d1112354-Reviews-Ma...</td>\n",
       "      <td>d1112354</td>\n",
       "    </tr>\n",
       "  </tbody>\n",
       "</table>\n",
       "</div>"
      ],
      "text/plain": [
       "  Restaurant_id        City  \\\n",
       "0          id_0       Paris   \n",
       "1          id_1    Helsinki   \n",
       "2          id_2   Edinburgh   \n",
       "3          id_3      London   \n",
       "4          id_4  Bratislava   \n",
       "\n",
       "                                       Cuisine Style  Ranking Price Range  \\\n",
       "0                                     ['Bar', 'Pub']  12963.0    $$ - $$$   \n",
       "1  ['European', 'Scandinavian', 'Gluten Free Opti...    106.0    $$ - $$$   \n",
       "2                            ['Vegetarian Friendly']    810.0    $$ - $$$   \n",
       "3  ['Italian', 'Mediterranean', 'European', 'Vege...   1669.0        $$$$   \n",
       "4  ['Italian', 'Mediterranean', 'European', 'Seaf...     37.0        $$$$   \n",
       "\n",
       "   Number of Reviews                                            Reviews  \\\n",
       "0                4.0                                           [[], []]   \n",
       "1               97.0  [['Very good reviews!', 'Fine dining in Hakani...   \n",
       "2               28.0  [['Better than the Links', 'Ivy Black'], ['12/...   \n",
       "3              202.0  [['Most exquisite', 'Delicious and authentic']...   \n",
       "4              162.0  [['Always the best in bratislava', 'Very good ...   \n",
       "\n",
       "                                              URL_TA      ID_TA  \n",
       "0  /Restaurant_Review-g187147-d10746918-Reviews-L...  d10746918  \n",
       "1  /Restaurant_Review-g189934-d6674944-Reviews-Ra...   d6674944  \n",
       "2  /Restaurant_Review-g186525-d13129638-Reviews-B...  d13129638  \n",
       "3  /Restaurant_Review-g186338-d680417-Reviews-Qui...    d680417  \n",
       "4  /Restaurant_Review-g274924-d1112354-Reviews-Ma...   d1112354  "
      ]
     },
     "execution_count": 8,
     "metadata": {},
     "output_type": "execute_result"
    }
   ],
   "source": [
    "df_test.head(5)"
   ]
  },
  {
   "cell_type": "code",
   "execution_count": 9,
   "metadata": {
    "execution": {
     "iopub.execute_input": "2021-10-04T08:14:58.640568Z",
     "iopub.status.busy": "2021-10-04T08:14:58.640245Z",
     "iopub.status.idle": "2021-10-04T08:14:58.650442Z",
     "shell.execute_reply": "2021-10-04T08:14:58.649758Z",
     "shell.execute_reply.started": "2021-10-04T08:14:58.640502Z"
    }
   },
   "outputs": [
    {
     "data": {
      "text/html": [
       "<div>\n",
       "<style scoped>\n",
       "    .dataframe tbody tr th:only-of-type {\n",
       "        vertical-align: middle;\n",
       "    }\n",
       "\n",
       "    .dataframe tbody tr th {\n",
       "        vertical-align: top;\n",
       "    }\n",
       "\n",
       "    .dataframe thead th {\n",
       "        text-align: right;\n",
       "    }\n",
       "</style>\n",
       "<table border=\"1\" class=\"dataframe\">\n",
       "  <thead>\n",
       "    <tr style=\"text-align: right;\">\n",
       "      <th></th>\n",
       "      <th>Restaurant_id</th>\n",
       "      <th>Rating</th>\n",
       "    </tr>\n",
       "  </thead>\n",
       "  <tbody>\n",
       "    <tr>\n",
       "      <th>0</th>\n",
       "      <td>id_0</td>\n",
       "      <td>2.0</td>\n",
       "    </tr>\n",
       "    <tr>\n",
       "      <th>1</th>\n",
       "      <td>id_1</td>\n",
       "      <td>2.5</td>\n",
       "    </tr>\n",
       "    <tr>\n",
       "      <th>2</th>\n",
       "      <td>id_2</td>\n",
       "      <td>4.0</td>\n",
       "    </tr>\n",
       "    <tr>\n",
       "      <th>3</th>\n",
       "      <td>id_3</td>\n",
       "      <td>1.0</td>\n",
       "    </tr>\n",
       "    <tr>\n",
       "      <th>4</th>\n",
       "      <td>id_4</td>\n",
       "      <td>4.0</td>\n",
       "    </tr>\n",
       "  </tbody>\n",
       "</table>\n",
       "</div>"
      ],
      "text/plain": [
       "  Restaurant_id  Rating\n",
       "0          id_0     2.0\n",
       "1          id_1     2.5\n",
       "2          id_2     4.0\n",
       "3          id_3     1.0\n",
       "4          id_4     4.0"
      ]
     },
     "execution_count": 9,
     "metadata": {},
     "output_type": "execute_result"
    }
   ],
   "source": [
    "sample_submission.head(5)"
   ]
  },
  {
   "cell_type": "code",
   "execution_count": 10,
   "metadata": {
    "execution": {
     "iopub.execute_input": "2021-10-04T08:15:02.14885Z",
     "iopub.status.busy": "2021-10-04T08:15:02.148574Z",
     "iopub.status.idle": "2021-10-04T08:15:02.158414Z",
     "shell.execute_reply": "2021-10-04T08:15:02.157371Z",
     "shell.execute_reply.started": "2021-10-04T08:15:02.148814Z"
    }
   },
   "outputs": [
    {
     "name": "stdout",
     "output_type": "stream",
     "text": [
      "<class 'pandas.core.frame.DataFrame'>\n",
      "RangeIndex: 10000 entries, 0 to 9999\n",
      "Data columns (total 2 columns):\n",
      "Restaurant_id    10000 non-null object\n",
      "Rating           10000 non-null float64\n",
      "dtypes: float64(1), object(1)\n",
      "memory usage: 156.4+ KB\n"
     ]
    }
   ],
   "source": [
    "sample_submission.info()"
   ]
  },
  {
   "cell_type": "code",
   "execution_count": 11,
   "metadata": {
    "execution": {
     "iopub.execute_input": "2021-10-05T09:25:34.923136Z",
     "iopub.status.busy": "2021-10-05T09:25:34.922828Z",
     "iopub.status.idle": "2021-10-05T09:25:34.974996Z",
     "shell.execute_reply": "2021-10-05T09:25:34.974008Z",
     "shell.execute_reply.started": "2021-10-05T09:25:34.923091Z"
    }
   },
   "outputs": [],
   "source": [
    "# ВАЖНО! дря корректной обработки признаков объединяем трейн и тест в один датасет\n",
    "df_train['sample'] = 1 # помечаем где у нас трейн\n",
    "df_test['sample'] = 0 # помечаем где у нас тест\n",
    "df_test['Rating'] = 0 # в тесте у нас нет значения Rating, мы его должны предсказать, по этому пока просто заполняем нулями\n",
    "\n",
    "data = df_test.append(df_train, sort=False).reset_index(drop=True) # объединяем"
   ]
  },
  {
   "cell_type": "code",
   "execution_count": 12,
   "metadata": {
    "execution": {
     "iopub.execute_input": "2021-10-04T08:15:09.11778Z",
     "iopub.status.busy": "2021-10-04T08:15:09.117317Z",
     "iopub.status.idle": "2021-10-04T08:15:09.163267Z",
     "shell.execute_reply": "2021-10-04T08:15:09.162096Z",
     "shell.execute_reply.started": "2021-10-04T08:15:09.117723Z"
    }
   },
   "outputs": [
    {
     "name": "stdout",
     "output_type": "stream",
     "text": [
      "<class 'pandas.core.frame.DataFrame'>\n",
      "RangeIndex: 50000 entries, 0 to 49999\n",
      "Data columns (total 11 columns):\n",
      "Restaurant_id        50000 non-null object\n",
      "City                 50000 non-null object\n",
      "Cuisine Style        38410 non-null object\n",
      "Ranking              50000 non-null float64\n",
      "Price Range          32639 non-null object\n",
      "Number of Reviews    46800 non-null float64\n",
      "Reviews              49998 non-null object\n",
      "URL_TA               50000 non-null object\n",
      "ID_TA                50000 non-null object\n",
      "sample               50000 non-null int64\n",
      "Rating               50000 non-null float64\n",
      "dtypes: float64(3), int64(1), object(7)\n",
      "memory usage: 4.2+ MB\n"
     ]
    }
   ],
   "source": [
    "data.info()"
   ]
  },
  {
   "cell_type": "markdown",
   "metadata": {},
   "source": [
    "Подробнее по признакам:\n",
    "* City: Город \n",
    "* Cuisine Style: Кухня\n",
    "* Ranking: Ранг ресторана относительно других ресторанов в этом городе\n",
    "* Price Range: Цены в ресторане в 3 категориях\n",
    "* Number of Reviews: Количество отзывов\n",
    "* Reviews: 2 последних отзыва и даты этих отзывов\n",
    "* URL_TA: страница ресторана на 'www.tripadvisor.com' \n",
    "* ID_TA: ID ресторана в TripAdvisor\n",
    "* Rating: Рейтинг ресторана"
   ]
  },
  {
   "cell_type": "code",
   "execution_count": 13,
   "metadata": {
    "execution": {
     "iopub.execute_input": "2021-10-04T08:15:13.582236Z",
     "iopub.status.busy": "2021-10-04T08:15:13.581893Z",
     "iopub.status.idle": "2021-10-04T08:15:13.602619Z",
     "shell.execute_reply": "2021-10-04T08:15:13.601553Z",
     "shell.execute_reply.started": "2021-10-04T08:15:13.582177Z"
    }
   },
   "outputs": [
    {
     "data": {
      "text/html": [
       "<div>\n",
       "<style scoped>\n",
       "    .dataframe tbody tr th:only-of-type {\n",
       "        vertical-align: middle;\n",
       "    }\n",
       "\n",
       "    .dataframe tbody tr th {\n",
       "        vertical-align: top;\n",
       "    }\n",
       "\n",
       "    .dataframe thead th {\n",
       "        text-align: right;\n",
       "    }\n",
       "</style>\n",
       "<table border=\"1\" class=\"dataframe\">\n",
       "  <thead>\n",
       "    <tr style=\"text-align: right;\">\n",
       "      <th></th>\n",
       "      <th>Restaurant_id</th>\n",
       "      <th>City</th>\n",
       "      <th>Cuisine Style</th>\n",
       "      <th>Ranking</th>\n",
       "      <th>Price Range</th>\n",
       "      <th>Number of Reviews</th>\n",
       "      <th>Reviews</th>\n",
       "      <th>URL_TA</th>\n",
       "      <th>ID_TA</th>\n",
       "      <th>sample</th>\n",
       "      <th>Rating</th>\n",
       "    </tr>\n",
       "  </thead>\n",
       "  <tbody>\n",
       "    <tr>\n",
       "      <th>33525</th>\n",
       "      <td>id_2643</td>\n",
       "      <td>Lisbon</td>\n",
       "      <td>['American', 'Bar', 'Pub']</td>\n",
       "      <td>2646.0</td>\n",
       "      <td>$</td>\n",
       "      <td>10.0</td>\n",
       "      <td>[['I love this place', 'Just alright for a che...</td>\n",
       "      <td>/Restaurant_Review-g189158-d3896146-Reviews-Ce...</td>\n",
       "      <td>d3896146</td>\n",
       "      <td>1</td>\n",
       "      <td>4.5</td>\n",
       "    </tr>\n",
       "    <tr>\n",
       "      <th>44185</th>\n",
       "      <td>id_9973</td>\n",
       "      <td>Paris</td>\n",
       "      <td>['French']</td>\n",
       "      <td>9975.0</td>\n",
       "      <td>NaN</td>\n",
       "      <td>12.0</td>\n",
       "      <td>[[], []]</td>\n",
       "      <td>/Restaurant_Review-g187147-d4432599-Reviews-Le...</td>\n",
       "      <td>d4432599</td>\n",
       "      <td>1</td>\n",
       "      <td>4.0</td>\n",
       "    </tr>\n",
       "    <tr>\n",
       "      <th>45936</th>\n",
       "      <td>id_2720</td>\n",
       "      <td>Berlin</td>\n",
       "      <td>['Italian', 'Mediterranean', 'European', 'Gril...</td>\n",
       "      <td>2722.0</td>\n",
       "      <td>$$ - $$$</td>\n",
       "      <td>65.0</td>\n",
       "      <td>[['Nice Italien restaurant', 'Lovely'], ['04/1...</td>\n",
       "      <td>/Restaurant_Review-g187323-d1068523-Reviews-Ca...</td>\n",
       "      <td>d1068523</td>\n",
       "      <td>1</td>\n",
       "      <td>4.0</td>\n",
       "    </tr>\n",
       "    <tr>\n",
       "      <th>49880</th>\n",
       "      <td>id_5756</td>\n",
       "      <td>Rome</td>\n",
       "      <td>['Italian', 'Brew Pub', 'Fast Food', 'Pub', 'S...</td>\n",
       "      <td>5758.0</td>\n",
       "      <td>$</td>\n",
       "      <td>2.0</td>\n",
       "      <td>[[], []]</td>\n",
       "      <td>/Restaurant_Review-g187791-d10126641-Reviews-L...</td>\n",
       "      <td>d10126641</td>\n",
       "      <td>1</td>\n",
       "      <td>5.0</td>\n",
       "    </tr>\n",
       "    <tr>\n",
       "      <th>45288</th>\n",
       "      <td>id_3949</td>\n",
       "      <td>London</td>\n",
       "      <td>['American', 'Diner', 'Gluten Free Options']</td>\n",
       "      <td>3956.0</td>\n",
       "      <td>$$ - $$$</td>\n",
       "      <td>304.0</td>\n",
       "      <td>[['Lovely food', 'Tray the blue cheese one'], ...</td>\n",
       "      <td>/Restaurant_Review-g186338-d1123247-Reviews-Go...</td>\n",
       "      <td>d1123247</td>\n",
       "      <td>1</td>\n",
       "      <td>4.0</td>\n",
       "    </tr>\n",
       "  </tbody>\n",
       "</table>\n",
       "</div>"
      ],
      "text/plain": [
       "      Restaurant_id    City  \\\n",
       "33525       id_2643  Lisbon   \n",
       "44185       id_9973   Paris   \n",
       "45936       id_2720  Berlin   \n",
       "49880       id_5756    Rome   \n",
       "45288       id_3949  London   \n",
       "\n",
       "                                           Cuisine Style  Ranking Price Range  \\\n",
       "33525                         ['American', 'Bar', 'Pub']   2646.0           $   \n",
       "44185                                         ['French']   9975.0         NaN   \n",
       "45936  ['Italian', 'Mediterranean', 'European', 'Gril...   2722.0    $$ - $$$   \n",
       "49880  ['Italian', 'Brew Pub', 'Fast Food', 'Pub', 'S...   5758.0           $   \n",
       "45288       ['American', 'Diner', 'Gluten Free Options']   3956.0    $$ - $$$   \n",
       "\n",
       "       Number of Reviews                                            Reviews  \\\n",
       "33525               10.0  [['I love this place', 'Just alright for a che...   \n",
       "44185               12.0                                           [[], []]   \n",
       "45936               65.0  [['Nice Italien restaurant', 'Lovely'], ['04/1...   \n",
       "49880                2.0                                           [[], []]   \n",
       "45288              304.0  [['Lovely food', 'Tray the blue cheese one'], ...   \n",
       "\n",
       "                                                  URL_TA      ID_TA  sample  \\\n",
       "33525  /Restaurant_Review-g189158-d3896146-Reviews-Ce...   d3896146       1   \n",
       "44185  /Restaurant_Review-g187147-d4432599-Reviews-Le...   d4432599       1   \n",
       "45936  /Restaurant_Review-g187323-d1068523-Reviews-Ca...   d1068523       1   \n",
       "49880  /Restaurant_Review-g187791-d10126641-Reviews-L...  d10126641       1   \n",
       "45288  /Restaurant_Review-g186338-d1123247-Reviews-Go...   d1123247       1   \n",
       "\n",
       "       Rating  \n",
       "33525     4.5  \n",
       "44185     4.0  \n",
       "45936     4.0  \n",
       "49880     5.0  \n",
       "45288     4.0  "
      ]
     },
     "execution_count": 13,
     "metadata": {},
     "output_type": "execute_result"
    }
   ],
   "source": [
    "data.sample(5)"
   ]
  },
  {
   "cell_type": "code",
   "execution_count": 14,
   "metadata": {
    "execution": {
     "iopub.execute_input": "2021-10-04T08:15:18.538032Z",
     "iopub.status.busy": "2021-10-04T08:15:18.537691Z",
     "iopub.status.idle": "2021-10-04T08:15:18.543931Z",
     "shell.execute_reply": "2021-10-04T08:15:18.543242Z",
     "shell.execute_reply.started": "2021-10-04T08:15:18.537986Z"
    }
   },
   "outputs": [
    {
     "data": {
      "text/plain": [
       "\"[['Very good reviews!', 'Fine dining in Hakaniemi'], ['12/05/2017', '10/29/2017']]\""
      ]
     },
     "execution_count": 14,
     "metadata": {},
     "output_type": "execute_result"
    }
   ],
   "source": [
    "data.Reviews[1]"
   ]
  },
  {
   "cell_type": "markdown",
   "metadata": {},
   "source": [
    "Как видим, большинство признаков у нас требует очистки и предварительной обработки."
   ]
  },
  {
   "cell_type": "markdown",
   "metadata": {},
   "source": [
    "# Cleaning and Prepping Data\n",
    "Обычно данные содержат в себе кучу мусора, который необходимо почистить, для того чтобы привести их в приемлемый формат. Чистка данных — это необходимый этап решения почти любой реальной задачи.   \n",
    "![](https://analyticsindiamag.com/wp-content/uploads/2018/01/data-cleaning.png)"
   ]
  },
  {
   "cell_type": "markdown",
   "metadata": {},
   "source": [
    "## 1. Обработка NAN \n",
    "У наличия пропусков могут быть разные причины, но пропуски нужно либо заполнить, либо исключить из набора полностью. Но с пропусками нужно быть внимательным, **даже отсутствие информации может быть важным признаком!**   \n",
    "По этому перед обработкой NAN лучше вынести информацию о наличии пропуска как отдельный признак "
   ]
  },
  {
   "cell_type": "code",
   "execution_count": 15,
   "metadata": {
    "execution": {
     "iopub.execute_input": "2021-10-05T09:25:42.542382Z",
     "iopub.status.busy": "2021-10-05T09:25:42.542028Z",
     "iopub.status.idle": "2021-10-05T09:25:42.549282Z",
     "shell.execute_reply": "2021-10-05T09:25:42.548065Z",
     "shell.execute_reply.started": "2021-10-05T09:25:42.542323Z"
    }
   },
   "outputs": [],
   "source": [
    "# Для примера я возьму столбец Number of Reviews\n",
    "data['Number_of_Reviews_isNAN'] = pd.isna(data['Number of Reviews']).astype('uint8')"
   ]
  },
  {
   "cell_type": "code",
   "execution_count": 16,
   "metadata": {
    "execution": {
     "iopub.execute_input": "2021-10-05T09:26:31.019028Z",
     "iopub.status.busy": "2021-10-05T09:26:31.018687Z",
     "iopub.status.idle": "2021-10-05T09:26:31.028502Z",
     "shell.execute_reply": "2021-10-05T09:26:31.027288Z",
     "shell.execute_reply.started": "2021-10-05T09:26:31.018981Z"
    }
   },
   "outputs": [
    {
     "data": {
      "text/plain": [
       "0        0\n",
       "1        0\n",
       "2        0\n",
       "3        0\n",
       "4        0\n",
       "        ..\n",
       "49995    0\n",
       "49996    0\n",
       "49997    0\n",
       "49998    0\n",
       "49999    0\n",
       "Name: Number_of_Reviews_isNAN, Length: 50000, dtype: uint8"
      ]
     },
     "execution_count": 16,
     "metadata": {},
     "output_type": "execute_result"
    }
   ],
   "source": [
    "data['Number_of_Reviews_isNAN']"
   ]
  },
  {
   "cell_type": "code",
   "execution_count": 17,
   "metadata": {
    "execution": {
     "iopub.execute_input": "2021-10-05T09:26:35.987628Z",
     "iopub.status.busy": "2021-10-05T09:26:35.987293Z",
     "iopub.status.idle": "2021-10-05T09:26:35.993173Z",
     "shell.execute_reply": "2021-10-05T09:26:35.992334Z",
     "shell.execute_reply.started": "2021-10-05T09:26:35.987581Z"
    }
   },
   "outputs": [],
   "source": [
    "# Далее заполняем пропуски 0, вы можете попробовать заполнением средним или средним по городу и тд...\n",
    "data['Number of Reviews'].fillna(0, inplace=True)"
   ]
  },
  {
   "cell_type": "markdown",
   "metadata": {},
   "source": [
    "### 2. Обработка признаков\n",
    "Для начала посмотрим какие признаки у нас могут быть категориальными."
   ]
  },
  {
   "cell_type": "code",
   "execution_count": 18,
   "metadata": {
    "execution": {
     "iopub.execute_input": "2021-10-04T08:15:36.320774Z",
     "iopub.status.busy": "2021-10-04T08:15:36.320461Z",
     "iopub.status.idle": "2021-10-04T08:15:36.455229Z",
     "shell.execute_reply": "2021-10-04T08:15:36.454302Z",
     "shell.execute_reply.started": "2021-10-04T08:15:36.320726Z"
    }
   },
   "outputs": [
    {
     "data": {
      "text/plain": [
       "Restaurant_id              13094\n",
       "City                          31\n",
       "Cuisine Style              10732\n",
       "Ranking                    12975\n",
       "Price Range                    4\n",
       "Number of Reviews           1574\n",
       "Reviews                    41858\n",
       "URL_TA                     49963\n",
       "ID_TA                      49963\n",
       "sample                         2\n",
       "Rating                        10\n",
       "Number_of_Reviews_isNAN        2\n",
       "dtype: int64"
      ]
     },
     "execution_count": 18,
     "metadata": {},
     "output_type": "execute_result"
    }
   ],
   "source": [
    "data.nunique(dropna=False)"
   ]
  },
  {
   "cell_type": "markdown",
   "metadata": {},
   "source": [
    "Какие признаки можно считать категориальными?"
   ]
  },
  {
   "cell_type": "markdown",
   "metadata": {},
   "source": [
    "Для кодирования категориальных признаков есть множество подходов:\n",
    "* Label Encoding\n",
    "* One-Hot Encoding\n",
    "* Target Encoding\n",
    "* Hashing\n",
    "\n",
    "Выбор кодирования зависит от признака и выбраной модели.\n",
    "Не будем сейчас сильно погружаться в эту тематику, давайте посмотрим лучше пример с One-Hot Encoding:\n",
    "![](https://i.imgur.com/mtimFxh.png)"
   ]
  },
  {
   "cell_type": "code",
   "execution_count": 19,
   "metadata": {
    "execution": {
     "iopub.execute_input": "2021-10-04T08:17:48.857452Z",
     "iopub.status.busy": "2021-10-04T08:17:48.857161Z",
     "iopub.status.idle": "2021-10-04T08:17:48.86145Z",
     "shell.execute_reply": "2021-10-04T08:17:48.860438Z",
     "shell.execute_reply.started": "2021-10-04T08:17:48.857416Z"
    }
   },
   "outputs": [],
   "source": [
    "# Метод get_dummies я здесь применять пока не буду! Мне еще потребуется колонка City, которая\n",
    "# после взятия get_dummies пропадет!"
   ]
  },
  {
   "cell_type": "code",
   "execution_count": 20,
   "metadata": {
    "execution": {
     "iopub.execute_input": "2021-10-04T08:17:50.986791Z",
     "iopub.status.busy": "2021-10-04T08:17:50.986179Z",
     "iopub.status.idle": "2021-10-04T08:17:51.009595Z",
     "shell.execute_reply": "2021-10-04T08:17:51.008669Z",
     "shell.execute_reply.started": "2021-10-04T08:17:50.986726Z"
    }
   },
   "outputs": [
    {
     "data": {
      "text/html": [
       "<div>\n",
       "<style scoped>\n",
       "    .dataframe tbody tr th:only-of-type {\n",
       "        vertical-align: middle;\n",
       "    }\n",
       "\n",
       "    .dataframe tbody tr th {\n",
       "        vertical-align: top;\n",
       "    }\n",
       "\n",
       "    .dataframe thead th {\n",
       "        text-align: right;\n",
       "    }\n",
       "</style>\n",
       "<table border=\"1\" class=\"dataframe\">\n",
       "  <thead>\n",
       "    <tr style=\"text-align: right;\">\n",
       "      <th></th>\n",
       "      <th>Restaurant_id</th>\n",
       "      <th>City</th>\n",
       "      <th>Cuisine Style</th>\n",
       "      <th>Ranking</th>\n",
       "      <th>Price Range</th>\n",
       "      <th>Number of Reviews</th>\n",
       "      <th>Reviews</th>\n",
       "      <th>URL_TA</th>\n",
       "      <th>ID_TA</th>\n",
       "      <th>sample</th>\n",
       "      <th>Rating</th>\n",
       "      <th>Number_of_Reviews_isNAN</th>\n",
       "    </tr>\n",
       "  </thead>\n",
       "  <tbody>\n",
       "    <tr>\n",
       "      <th>0</th>\n",
       "      <td>id_0</td>\n",
       "      <td>Paris</td>\n",
       "      <td>['Bar', 'Pub']</td>\n",
       "      <td>12963.0</td>\n",
       "      <td>$$ - $$$</td>\n",
       "      <td>4.0</td>\n",
       "      <td>[[], []]</td>\n",
       "      <td>/Restaurant_Review-g187147-d10746918-Reviews-L...</td>\n",
       "      <td>d10746918</td>\n",
       "      <td>0</td>\n",
       "      <td>0.0</td>\n",
       "      <td>0</td>\n",
       "    </tr>\n",
       "    <tr>\n",
       "      <th>1</th>\n",
       "      <td>id_1</td>\n",
       "      <td>Helsinki</td>\n",
       "      <td>['European', 'Scandinavian', 'Gluten Free Opti...</td>\n",
       "      <td>106.0</td>\n",
       "      <td>$$ - $$$</td>\n",
       "      <td>97.0</td>\n",
       "      <td>[['Very good reviews!', 'Fine dining in Hakani...</td>\n",
       "      <td>/Restaurant_Review-g189934-d6674944-Reviews-Ra...</td>\n",
       "      <td>d6674944</td>\n",
       "      <td>0</td>\n",
       "      <td>0.0</td>\n",
       "      <td>0</td>\n",
       "    </tr>\n",
       "    <tr>\n",
       "      <th>2</th>\n",
       "      <td>id_2</td>\n",
       "      <td>Edinburgh</td>\n",
       "      <td>['Vegetarian Friendly']</td>\n",
       "      <td>810.0</td>\n",
       "      <td>$$ - $$$</td>\n",
       "      <td>28.0</td>\n",
       "      <td>[['Better than the Links', 'Ivy Black'], ['12/...</td>\n",
       "      <td>/Restaurant_Review-g186525-d13129638-Reviews-B...</td>\n",
       "      <td>d13129638</td>\n",
       "      <td>0</td>\n",
       "      <td>0.0</td>\n",
       "      <td>0</td>\n",
       "    </tr>\n",
       "    <tr>\n",
       "      <th>3</th>\n",
       "      <td>id_3</td>\n",
       "      <td>London</td>\n",
       "      <td>['Italian', 'Mediterranean', 'European', 'Vege...</td>\n",
       "      <td>1669.0</td>\n",
       "      <td>$$$$</td>\n",
       "      <td>202.0</td>\n",
       "      <td>[['Most exquisite', 'Delicious and authentic']...</td>\n",
       "      <td>/Restaurant_Review-g186338-d680417-Reviews-Qui...</td>\n",
       "      <td>d680417</td>\n",
       "      <td>0</td>\n",
       "      <td>0.0</td>\n",
       "      <td>0</td>\n",
       "    </tr>\n",
       "    <tr>\n",
       "      <th>4</th>\n",
       "      <td>id_4</td>\n",
       "      <td>Bratislava</td>\n",
       "      <td>['Italian', 'Mediterranean', 'European', 'Seaf...</td>\n",
       "      <td>37.0</td>\n",
       "      <td>$$$$</td>\n",
       "      <td>162.0</td>\n",
       "      <td>[['Always the best in bratislava', 'Very good ...</td>\n",
       "      <td>/Restaurant_Review-g274924-d1112354-Reviews-Ma...</td>\n",
       "      <td>d1112354</td>\n",
       "      <td>0</td>\n",
       "      <td>0.0</td>\n",
       "      <td>0</td>\n",
       "    </tr>\n",
       "  </tbody>\n",
       "</table>\n",
       "</div>"
      ],
      "text/plain": [
       "  Restaurant_id        City  \\\n",
       "0          id_0       Paris   \n",
       "1          id_1    Helsinki   \n",
       "2          id_2   Edinburgh   \n",
       "3          id_3      London   \n",
       "4          id_4  Bratislava   \n",
       "\n",
       "                                       Cuisine Style  Ranking Price Range  \\\n",
       "0                                     ['Bar', 'Pub']  12963.0    $$ - $$$   \n",
       "1  ['European', 'Scandinavian', 'Gluten Free Opti...    106.0    $$ - $$$   \n",
       "2                            ['Vegetarian Friendly']    810.0    $$ - $$$   \n",
       "3  ['Italian', 'Mediterranean', 'European', 'Vege...   1669.0        $$$$   \n",
       "4  ['Italian', 'Mediterranean', 'European', 'Seaf...     37.0        $$$$   \n",
       "\n",
       "   Number of Reviews                                            Reviews  \\\n",
       "0                4.0                                           [[], []]   \n",
       "1               97.0  [['Very good reviews!', 'Fine dining in Hakani...   \n",
       "2               28.0  [['Better than the Links', 'Ivy Black'], ['12/...   \n",
       "3              202.0  [['Most exquisite', 'Delicious and authentic']...   \n",
       "4              162.0  [['Always the best in bratislava', 'Very good ...   \n",
       "\n",
       "                                              URL_TA      ID_TA  sample  \\\n",
       "0  /Restaurant_Review-g187147-d10746918-Reviews-L...  d10746918       0   \n",
       "1  /Restaurant_Review-g189934-d6674944-Reviews-Ra...   d6674944       0   \n",
       "2  /Restaurant_Review-g186525-d13129638-Reviews-B...  d13129638       0   \n",
       "3  /Restaurant_Review-g186338-d680417-Reviews-Qui...    d680417       0   \n",
       "4  /Restaurant_Review-g274924-d1112354-Reviews-Ma...   d1112354       0   \n",
       "\n",
       "   Rating  Number_of_Reviews_isNAN  \n",
       "0     0.0                        0  \n",
       "1     0.0                        0  \n",
       "2     0.0                        0  \n",
       "3     0.0                        0  \n",
       "4     0.0                        0  "
      ]
     },
     "execution_count": 20,
     "metadata": {},
     "output_type": "execute_result"
    }
   ],
   "source": [
    "data.head(5)"
   ]
  },
  {
   "cell_type": "code",
   "execution_count": 21,
   "metadata": {
    "execution": {
     "iopub.execute_input": "2021-10-04T08:17:56.152303Z",
     "iopub.status.busy": "2021-10-04T08:17:56.152003Z",
     "iopub.status.idle": "2021-10-04T08:17:56.175116Z",
     "shell.execute_reply": "2021-10-04T08:17:56.174023Z",
     "shell.execute_reply.started": "2021-10-04T08:17:56.152258Z"
    }
   },
   "outputs": [
    {
     "data": {
      "text/html": [
       "<div>\n",
       "<style scoped>\n",
       "    .dataframe tbody tr th:only-of-type {\n",
       "        vertical-align: middle;\n",
       "    }\n",
       "\n",
       "    .dataframe tbody tr th {\n",
       "        vertical-align: top;\n",
       "    }\n",
       "\n",
       "    .dataframe thead th {\n",
       "        text-align: right;\n",
       "    }\n",
       "</style>\n",
       "<table border=\"1\" class=\"dataframe\">\n",
       "  <thead>\n",
       "    <tr style=\"text-align: right;\">\n",
       "      <th></th>\n",
       "      <th>Restaurant_id</th>\n",
       "      <th>City</th>\n",
       "      <th>Cuisine Style</th>\n",
       "      <th>Ranking</th>\n",
       "      <th>Price Range</th>\n",
       "      <th>Number of Reviews</th>\n",
       "      <th>Reviews</th>\n",
       "      <th>URL_TA</th>\n",
       "      <th>ID_TA</th>\n",
       "      <th>sample</th>\n",
       "      <th>Rating</th>\n",
       "      <th>Number_of_Reviews_isNAN</th>\n",
       "    </tr>\n",
       "  </thead>\n",
       "  <tbody>\n",
       "    <tr>\n",
       "      <th>16660</th>\n",
       "      <td>id_6535</td>\n",
       "      <td>Barcelona</td>\n",
       "      <td>NaN</td>\n",
       "      <td>6536.0</td>\n",
       "      <td>NaN</td>\n",
       "      <td>2.0</td>\n",
       "      <td>[['Good Cheap Eat'], ['01/14/2017']]</td>\n",
       "      <td>/Restaurant_Review-g187497-d12031445-Reviews-L...</td>\n",
       "      <td>d12031445</td>\n",
       "      <td>1</td>\n",
       "      <td>3.5</td>\n",
       "      <td>0</td>\n",
       "    </tr>\n",
       "    <tr>\n",
       "      <th>10422</th>\n",
       "      <td>id_213</td>\n",
       "      <td>Helsinki</td>\n",
       "      <td>['Soups', 'International']</td>\n",
       "      <td>214.0</td>\n",
       "      <td>$</td>\n",
       "      <td>100.0</td>\n",
       "      <td>[['Good simple food.', 'Amazing traditional so...</td>\n",
       "      <td>/Restaurant_Review-g189934-d784491-Reviews-Sop...</td>\n",
       "      <td>d784491</td>\n",
       "      <td>1</td>\n",
       "      <td>4.5</td>\n",
       "      <td>0</td>\n",
       "    </tr>\n",
       "    <tr>\n",
       "      <th>15153</th>\n",
       "      <td>id_24</td>\n",
       "      <td>Geneva</td>\n",
       "      <td>['French', 'European', 'Vegetarian Friendly', ...</td>\n",
       "      <td>25.0</td>\n",
       "      <td>$$$$</td>\n",
       "      <td>188.0</td>\n",
       "      <td>[['Inexplicably positive', 'Great food and goo...</td>\n",
       "      <td>/Restaurant_Review-g188057-d7095968-Reviews-Ca...</td>\n",
       "      <td>d7095968</td>\n",
       "      <td>1</td>\n",
       "      <td>4.5</td>\n",
       "      <td>0</td>\n",
       "    </tr>\n",
       "    <tr>\n",
       "      <th>45097</th>\n",
       "      <td>id_6249</td>\n",
       "      <td>Barcelona</td>\n",
       "      <td>NaN</td>\n",
       "      <td>6250.0</td>\n",
       "      <td>NaN</td>\n",
       "      <td>8.0</td>\n",
       "      <td>[[], []]</td>\n",
       "      <td>/Restaurant_Review-g187497-d5795235-Reviews-Do...</td>\n",
       "      <td>d5795235</td>\n",
       "      <td>1</td>\n",
       "      <td>3.5</td>\n",
       "      <td>0</td>\n",
       "    </tr>\n",
       "    <tr>\n",
       "      <th>3841</th>\n",
       "      <td>id_3841</td>\n",
       "      <td>Budapest</td>\n",
       "      <td>['European', 'Central European', 'Hungarian', ...</td>\n",
       "      <td>293.0</td>\n",
       "      <td>$$$$</td>\n",
       "      <td>81.0</td>\n",
       "      <td>[['Excellent food, lavish interior at exclusi....</td>\n",
       "      <td>/Restaurant_Review-g274887-d696127-Reviews-Vad...</td>\n",
       "      <td>d696127</td>\n",
       "      <td>0</td>\n",
       "      <td>0.0</td>\n",
       "      <td>0</td>\n",
       "    </tr>\n",
       "  </tbody>\n",
       "</table>\n",
       "</div>"
      ],
      "text/plain": [
       "      Restaurant_id       City  \\\n",
       "16660       id_6535  Barcelona   \n",
       "10422        id_213   Helsinki   \n",
       "15153         id_24     Geneva   \n",
       "45097       id_6249  Barcelona   \n",
       "3841        id_3841   Budapest   \n",
       "\n",
       "                                           Cuisine Style  Ranking Price Range  \\\n",
       "16660                                                NaN   6536.0         NaN   \n",
       "10422                         ['Soups', 'International']    214.0           $   \n",
       "15153  ['French', 'European', 'Vegetarian Friendly', ...     25.0        $$$$   \n",
       "45097                                                NaN   6250.0         NaN   \n",
       "3841   ['European', 'Central European', 'Hungarian', ...    293.0        $$$$   \n",
       "\n",
       "       Number of Reviews                                            Reviews  \\\n",
       "16660                2.0               [['Good Cheap Eat'], ['01/14/2017']]   \n",
       "10422              100.0  [['Good simple food.', 'Amazing traditional so...   \n",
       "15153              188.0  [['Inexplicably positive', 'Great food and goo...   \n",
       "45097                8.0                                           [[], []]   \n",
       "3841                81.0  [['Excellent food, lavish interior at exclusi....   \n",
       "\n",
       "                                                  URL_TA      ID_TA  sample  \\\n",
       "16660  /Restaurant_Review-g187497-d12031445-Reviews-L...  d12031445       1   \n",
       "10422  /Restaurant_Review-g189934-d784491-Reviews-Sop...    d784491       1   \n",
       "15153  /Restaurant_Review-g188057-d7095968-Reviews-Ca...   d7095968       1   \n",
       "45097  /Restaurant_Review-g187497-d5795235-Reviews-Do...   d5795235       1   \n",
       "3841   /Restaurant_Review-g274887-d696127-Reviews-Vad...    d696127       0   \n",
       "\n",
       "       Rating  Number_of_Reviews_isNAN  \n",
       "16660     3.5                        0  \n",
       "10422     4.5                        0  \n",
       "15153     4.5                        0  \n",
       "45097     3.5                        0  \n",
       "3841      0.0                        0  "
      ]
     },
     "execution_count": 21,
     "metadata": {},
     "output_type": "execute_result"
    }
   ],
   "source": [
    "data.sample(5)"
   ]
  },
  {
   "cell_type": "markdown",
   "metadata": {},
   "source": [
    "#### Возьмем следующий признак \"Price Range\"."
   ]
  },
  {
   "cell_type": "code",
   "execution_count": 22,
   "metadata": {
    "execution": {
     "iopub.execute_input": "2021-10-04T08:18:01.057277Z",
     "iopub.status.busy": "2021-10-04T08:18:01.056947Z",
     "iopub.status.idle": "2021-10-04T08:18:01.076434Z",
     "shell.execute_reply": "2021-10-04T08:18:01.075382Z",
     "shell.execute_reply.started": "2021-10-04T08:18:01.057228Z"
    }
   },
   "outputs": [
    {
     "data": {
      "text/plain": [
       "$$ - $$$    23041\n",
       "$            7816\n",
       "$$$$         1782\n",
       "Name: Price Range, dtype: int64"
      ]
     },
     "execution_count": 22,
     "metadata": {},
     "output_type": "execute_result"
    }
   ],
   "source": [
    "data['Price Range'].value_counts()"
   ]
  },
  {
   "cell_type": "markdown",
   "metadata": {},
   "source": [
    "По описанию 'Price Range' это - Цены в ресторане.  \n",
    "Их можно поставить по возрастанию (значит это не категориальный признак). А это значит, что их можно заменить последовательными числами, например 1,2,3  \n",
    "*Попробуйте сделать обработку этого признака уже самостоятельно!*"
   ]
  },
  {
   "cell_type": "code",
   "execution_count": 23,
   "metadata": {
    "execution": {
     "iopub.execute_input": "2021-10-05T09:26:45.053121Z",
     "iopub.status.busy": "2021-10-05T09:26:45.052771Z",
     "iopub.status.idle": "2021-10-05T09:26:45.064732Z",
     "shell.execute_reply": "2021-10-05T09:26:45.063843Z",
     "shell.execute_reply.started": "2021-10-05T09:26:45.053059Z"
    }
   },
   "outputs": [],
   "source": [
    "# Ваша обработка 'Price Range'\n",
    "# заполним пропуски модой (наиболее часто встречающимся значением)\n",
    "data[\"Price Range\"]=data[\"Price Range\"].fillna(\"$$ - $$$\")"
   ]
  },
  {
   "cell_type": "code",
   "execution_count": 24,
   "metadata": {
    "execution": {
     "iopub.execute_input": "2021-10-05T09:26:47.969006Z",
     "iopub.status.busy": "2021-10-05T09:26:47.968448Z",
     "iopub.status.idle": "2021-10-05T09:26:47.975382Z",
     "shell.execute_reply": "2021-10-05T09:26:47.974397Z",
     "shell.execute_reply.started": "2021-10-05T09:26:47.968937Z"
    }
   },
   "outputs": [],
   "source": [
    "# функция, которая заменит строковые значения на float\n",
    "def price_cat(string):\n",
    "    if string==\"$$ - $$$\":\n",
    "        return 2.0\n",
    "    elif string==\"$\":\n",
    "        return 1.0\n",
    "    elif string==\"$$$$\":\n",
    "        return 3.0"
   ]
  },
  {
   "cell_type": "markdown",
   "metadata": {},
   "source": [
    "> Для некоторых алгоритмов МЛ даже для не категориальных признаков можно применить One-Hot Encoding, и это может улучшить качество модели. Пробуйте разные подходы к кодированию признака - никто не знает заранее, что может взлететь."
   ]
  },
  {
   "cell_type": "code",
   "execution_count": 25,
   "metadata": {
    "execution": {
     "iopub.execute_input": "2021-10-05T09:26:53.004721Z",
     "iopub.status.busy": "2021-10-05T09:26:53.004214Z",
     "iopub.status.idle": "2021-10-05T09:26:53.031649Z",
     "shell.execute_reply": "2021-10-05T09:26:53.030914Z",
     "shell.execute_reply.started": "2021-10-05T09:26:53.004654Z"
    }
   },
   "outputs": [],
   "source": [
    "data[\"price_cat\"]=data[\"Price Range\"].apply(price_cat)"
   ]
  },
  {
   "cell_type": "markdown",
   "metadata": {},
   "source": [
    "### Обработать другие признаки вы должны самостоятельно!\n",
    "Для обработки других признаков вам возможно придется даже написать свою функцию, а может даже и не одну, но в этом и есть ваша практика в этом модуле!     \n",
    "Следуя подсказкам в модуле вы сможете более подробно узнать, как сделать эти приобразования."
   ]
  },
  {
   "cell_type": "code",
   "execution_count": 26,
   "metadata": {
    "execution": {
     "iopub.execute_input": "2021-10-05T09:27:19.039331Z",
     "iopub.status.busy": "2021-10-05T09:27:19.039011Z",
     "iopub.status.idle": "2021-10-05T09:27:19.063934Z",
     "shell.execute_reply": "2021-10-05T09:27:19.063062Z",
     "shell.execute_reply.started": "2021-10-05T09:27:19.039285Z"
    }
   },
   "outputs": [
    {
     "data": {
      "text/plain": [
       "{'London': 7193,\n",
       " 'Paris': 6108,\n",
       " 'Madrid': 3813,\n",
       " 'Barcelona': 3395,\n",
       " 'Berlin': 2705,\n",
       " 'Milan': 2694,\n",
       " 'Rome': 2589,\n",
       " 'Prague': 1816,\n",
       " 'Lisbon': 1647,\n",
       " 'Vienna': 1443,\n",
       " 'Amsterdam': 1372,\n",
       " 'Brussels': 1314,\n",
       " 'Hamburg': 1186,\n",
       " 'Munich': 1145,\n",
       " 'Lyon': 1126,\n",
       " 'Stockholm': 1033,\n",
       " 'Budapest': 1021,\n",
       " 'Warsaw': 925,\n",
       " 'Dublin': 836,\n",
       " 'Copenhagen': 819,\n",
       " 'Athens': 776,\n",
       " 'Edinburgh': 745,\n",
       " 'Zurich': 685,\n",
       " 'Oporto': 642,\n",
       " 'Geneva': 590,\n",
       " 'Krakow': 554,\n",
       " 'Oslo': 488,\n",
       " 'Helsinki': 475,\n",
       " 'Bratislava': 380,\n",
       " 'Luxembourg': 263,\n",
       " 'Ljubljana': 222}"
      ]
     },
     "execution_count": 26,
     "metadata": {},
     "output_type": "execute_result"
    }
   ],
   "source": [
    "# тут ваш код на обработку других признаков\n",
    "# создадим словарь с количеством ресторанов в каждом городе\n",
    "dict_of_cities=dict(data.City.value_counts())\n",
    "dict_of_cities"
   ]
  },
  {
   "cell_type": "code",
   "execution_count": 27,
   "metadata": {
    "execution": {
     "iopub.execute_input": "2021-10-05T09:27:24.396408Z",
     "iopub.status.busy": "2021-10-05T09:27:24.396080Z",
     "iopub.status.idle": "2021-10-05T09:27:24.401828Z",
     "shell.execute_reply": "2021-10-05T09:27:24.400562Z",
     "shell.execute_reply.started": "2021-10-05T09:27:24.396353Z"
    }
   },
   "outputs": [],
   "source": [
    "# напишем функцию, возвращающую количество ресторанов в данном городе для каждого ресторана\n",
    "def number_of_rest(x, d=dict_of_cities):\n",
    "    return d[x]"
   ]
  },
  {
   "cell_type": "code",
   "execution_count": 28,
   "metadata": {
    "execution": {
     "iopub.execute_input": "2021-10-05T09:27:29.497352Z",
     "iopub.status.busy": "2021-10-05T09:27:29.497032Z",
     "iopub.status.idle": "2021-10-05T09:27:29.539358Z",
     "shell.execute_reply": "2021-10-05T09:27:29.538565Z",
     "shell.execute_reply.started": "2021-10-05T09:27:29.497306Z"
    }
   },
   "outputs": [],
   "source": [
    "data[\"number_of_restaurants\"]=data.City.apply(number_of_rest)"
   ]
  },
  {
   "cell_type": "code",
   "execution_count": 29,
   "metadata": {
    "execution": {
     "iopub.execute_input": "2021-10-05T09:27:34.337885Z",
     "iopub.status.busy": "2021-10-05T09:27:34.337407Z",
     "iopub.status.idle": "2021-10-05T09:27:34.514306Z",
     "shell.execute_reply": "2021-10-05T09:27:34.513353Z",
     "shell.execute_reply.started": "2021-10-05T09:27:34.337840Z"
    }
   },
   "outputs": [],
   "source": [
    "# Далее введем очень важный признак: ранг ресторана, нормированный на количество ресторанов в данном городе\n",
    "data[\"ranking_norm_rest\"]=data[\"Ranking\"]/data[\"number_of_restaurants\"]"
   ]
  },
  {
   "cell_type": "code",
   "execution_count": 30,
   "metadata": {
    "execution": {
     "iopub.execute_input": "2021-10-05T09:27:40.147683Z",
     "iopub.status.busy": "2021-10-05T09:27:40.147352Z",
     "iopub.status.idle": "2021-10-05T09:27:40.158397Z",
     "shell.execute_reply": "2021-10-05T09:27:40.157163Z",
     "shell.execute_reply.started": "2021-10-05T09:27:40.147634Z"
    }
   },
   "outputs": [],
   "source": [
    "# Воспользуемся данными из сторонних источников (Википедия). Создадим словарь с информацией о \n",
    "# количестве жителей в каждом городе\n",
    "number_of_citizens={'Amsterdam': 872_757,\n",
    " 'Athens': 664_046,\n",
    " 'Barcelona': 1_664_182,\n",
    " 'Berlin': 3_644_826,\n",
    " 'Bratislava': 437_725,\n",
    " 'Brussels': 185_103,\n",
    " 'Budapest': 1_752_286,\n",
    " 'Copenhagen': 615_993,\n",
    " 'Dublin': 1_173_179,\n",
    " 'Edinburgh': 488_100,\n",
    " 'Geneva': 200_548,\n",
    " 'Hamburg': 1_841_179,\n",
    " 'Helsinki': 656_611,\n",
    " 'Krakow': 779_115,\n",
    " 'Lisbon': 505_526,\n",
    " 'Ljubljana': 284_355,\n",
    " 'London': 8_961_989,\n",
    " 'Luxembourg': 626_108,\n",
    " 'Lyon': 506_615,\n",
    " 'Madrid': 3_266_126,\n",
    " 'Milan': 1_378_689,\n",
    " 'Munich': 1_471_508,\n",
    " 'Oporto': 237_591,\n",
    " 'Oslo': 673_469,\n",
    " 'Paris': 2_148_327,\n",
    " 'Prague': 1_335_084,\n",
    " 'Rome': 2_870_500,\n",
    " 'Stockholm': 961_609,\n",
    " 'Vienna': 1_897_491,\n",
    " 'Warsaw': 1_790_658,\n",
    " 'Zurich': 428_737}"
   ]
  },
  {
   "cell_type": "code",
   "execution_count": 31,
   "metadata": {
    "execution": {
     "iopub.execute_input": "2021-10-05T09:27:47.039543Z",
     "iopub.status.busy": "2021-10-05T09:27:47.039057Z",
     "iopub.status.idle": "2021-10-05T09:27:47.074986Z",
     "shell.execute_reply": "2021-10-05T09:27:47.074222Z",
     "shell.execute_reply.started": "2021-10-05T09:27:47.039499Z"
    }
   },
   "outputs": [],
   "source": [
    "# Добавим колонку в датасет с информацией о количестве жителей\n",
    "def number_of_cit(x,d=number_of_citizens):\n",
    "    return d[x]\n",
    "\n",
    "data[\"number_of_citizens\"]=data[\"City\"].apply(number_of_cit)"
   ]
  },
  {
   "cell_type": "code",
   "execution_count": 32,
   "metadata": {
    "execution": {
     "iopub.execute_input": "2021-10-05T09:27:55.113093Z",
     "iopub.status.busy": "2021-10-05T09:27:55.112532Z",
     "iopub.status.idle": "2021-10-05T09:27:55.121016Z",
     "shell.execute_reply": "2021-10-05T09:27:55.120224Z",
     "shell.execute_reply.started": "2021-10-05T09:27:55.113046Z"
    }
   },
   "outputs": [],
   "source": [
    "# Введем новые признаки: 1. ранг ресторана, нормированный на количество жителей в данном городе\n",
    "# 2. количество отзывов, нормированное на количество жителей в каждом городе\n",
    "data[\"ranking_norm_citizens\"]=data[\"Ranking\"]/data[\"number_of_citizens\"]\n",
    "data[\"number_of_reviews_norm_citizens\"]=data[\"Number of Reviews\"]/data[\"number_of_citizens\"]"
   ]
  },
  {
   "cell_type": "code",
   "execution_count": 33,
   "metadata": {
    "execution": {
     "iopub.execute_input": "2021-10-05T09:27:59.380127Z",
     "iopub.status.busy": "2021-10-05T09:27:59.379666Z",
     "iopub.status.idle": "2021-10-05T09:27:59.420484Z",
     "shell.execute_reply": "2021-10-05T09:27:59.419514Z",
     "shell.execute_reply.started": "2021-10-05T09:27:59.380085Z"
    }
   },
   "outputs": [],
   "source": [
    "# Воспользуемся дополнительной информацией о средней зарплате по городам. Внесем дополнительную колонку\n",
    "# с зарплатами\n",
    "salaries={'Amsterdam': 2155,\n",
    " 'Athens': 894,\n",
    " 'Barcelona': 1749,\n",
    " 'Berlin': 2431,\n",
    " 'Bratislava': 1043,\n",
    " 'Brussels': 1920,\n",
    " 'Budapest': 806,\n",
    " 'Copenhagen': 3270,\n",
    " 'Dublin': 2505,\n",
    " 'Edinburgh': 1990,\n",
    " 'Geneva': 4370,\n",
    " 'Hamburg': 2431,\n",
    " 'Helsinki': 2509,\n",
    " 'Krakow': 934,\n",
    " 'Lisbon': 1019,\n",
    " 'Ljubljana': 1328,\n",
    " 'London': 1990,\n",
    " 'Luxembourg': 3416,\n",
    " 'Lyon': 2225,\n",
    " 'Madrid': 1749,\n",
    " 'Milan': 1878,\n",
    " 'Munich': 2431,\n",
    " 'Oporto': 1019,\n",
    " 'Oslo': 3309,\n",
    " 'Paris': 2225,\n",
    " 'Prague': 1207,\n",
    " 'Rome': 1878,\n",
    " 'Stockholm': 2570,\n",
    " 'Vienna': 1830,\n",
    " 'Warsaw': 934,\n",
    " 'Zurich': 4370}\n",
    "\n",
    "def salary(x,d=salaries):\n",
    "    return d[x]\n",
    "\n",
    "data[\"salaries\"]=data[\"City\"].apply(salary)"
   ]
  },
  {
   "cell_type": "code",
   "execution_count": 34,
   "metadata": {
    "execution": {
     "iopub.execute_input": "2021-10-05T09:28:02.482446Z",
     "iopub.status.busy": "2021-10-05T09:28:02.482107Z",
     "iopub.status.idle": "2021-10-05T09:28:02.488906Z",
     "shell.execute_reply": "2021-10-05T09:28:02.488015Z",
     "shell.execute_reply.started": "2021-10-05T09:28:02.482387Z"
    }
   },
   "outputs": [],
   "source": [
    "# Нормируем колонку Ranking на средний уровень зарплат в каждом городе\n",
    "data[\"ranking_norm_salaries\"]=data[\"Ranking\"]/data[\"salaries\"]"
   ]
  },
  {
   "cell_type": "code",
   "execution_count": 35,
   "metadata": {
    "execution": {
     "iopub.execute_input": "2021-10-05T09:28:11.748579Z",
     "iopub.status.busy": "2021-10-05T09:28:11.748221Z",
     "iopub.status.idle": "2021-10-05T09:28:11.811056Z",
     "shell.execute_reply": "2021-10-05T09:28:11.810138Z",
     "shell.execute_reply.started": "2021-10-05T09:28:11.748518Z"
    }
   },
   "outputs": [],
   "source": [
    "# Вот теперь возьмем get_dummies по городам\n",
    "# для One-Hot Encoding в pandas есть готовая функция - get_dummies. Особенно радует параметр dummy_na\n",
    "data = pd.get_dummies(data, columns=[ 'City',], dummy_na=True)"
   ]
  },
  {
   "cell_type": "code",
   "execution_count": 36,
   "metadata": {
    "execution": {
     "iopub.execute_input": "2021-10-05T09:28:48.484078Z",
     "iopub.status.busy": "2021-10-05T09:28:48.483724Z",
     "iopub.status.idle": "2021-10-05T09:28:48.491459Z",
     "shell.execute_reply": "2021-10-05T09:28:48.490341Z",
     "shell.execute_reply.started": "2021-10-05T09:28:48.484030Z"
    }
   },
   "outputs": [
    {
     "data": {
      "text/plain": [
       "str"
      ]
     },
     "execution_count": 36,
     "metadata": {},
     "output_type": "execute_result"
    }
   ],
   "source": [
    "# Займемся колонкой Cuisine Style. тип данных в колонке Cuisine Style - строковый. Приведем его к списку\n",
    "type(data[\"Cuisine Style\"][0])"
   ]
  },
  {
   "cell_type": "code",
   "execution_count": 37,
   "metadata": {
    "execution": {
     "iopub.execute_input": "2021-10-05T09:28:56.302948Z",
     "iopub.status.busy": "2021-10-05T09:28:56.302610Z",
     "iopub.status.idle": "2021-10-05T09:28:56.309107Z",
     "shell.execute_reply": "2021-10-05T09:28:56.308175Z",
     "shell.execute_reply.started": "2021-10-05T09:28:56.302901Z"
    }
   },
   "outputs": [],
   "source": [
    "# Напишем функцию, которая преобразует нашу колонку Cuisine Style в список кухонь. Пропуски\n",
    "# пока не заполняем! Мы сделаем это позже, когда будем считать количество кухонь в каждом ресторане\n",
    "def make_list(x):\n",
    "    if pd.isna(x)==True:\n",
    "        return np.nan\n",
    "    else:\n",
    "        x=x.strip(\"[]\")\n",
    "        x=x.lower()\n",
    "        x=x.replace('\"\\\"',\",\")\n",
    "        y=x.split(\",\")\n",
    "        return y"
   ]
  },
  {
   "cell_type": "code",
   "execution_count": 38,
   "metadata": {
    "execution": {
     "iopub.execute_input": "2021-10-05T09:29:00.148298Z",
     "iopub.status.busy": "2021-10-05T09:29:00.147946Z",
     "iopub.status.idle": "2021-10-05T09:29:00.261657Z",
     "shell.execute_reply": "2021-10-05T09:29:00.260881Z",
     "shell.execute_reply.started": "2021-10-05T09:29:00.148249Z"
    }
   },
   "outputs": [],
   "source": [
    "data[\"cuisine_style_list\"]=data[\"Cuisine Style\"].apply(make_list)"
   ]
  },
  {
   "cell_type": "code",
   "execution_count": 39,
   "metadata": {
    "execution": {
     "iopub.execute_input": "2021-10-05T09:29:09.701709Z",
     "iopub.status.busy": "2021-10-05T09:29:09.701388Z",
     "iopub.status.idle": "2021-10-05T09:29:09.706848Z",
     "shell.execute_reply": "2021-10-05T09:29:09.705812Z",
     "shell.execute_reply.started": "2021-10-05T09:29:09.701661Z"
    }
   },
   "outputs": [],
   "source": [
    "# Создадим функцию, возвращающую количество кухонь, предлагаемых в каждом ресторане. Если встречаем \n",
    "# пропуск, то считаем, что в данном ресторане предлагается только один тип кухни\n",
    "def number_of_cuisines(x):\n",
    "    if type(x)==list:\n",
    "        return len(x)\n",
    "    else:\n",
    "        return 1"
   ]
  },
  {
   "cell_type": "code",
   "execution_count": 40,
   "metadata": {
    "execution": {
     "iopub.execute_input": "2021-10-05T09:29:13.284415Z",
     "iopub.status.busy": "2021-10-05T09:29:13.283967Z",
     "iopub.status.idle": "2021-10-05T09:29:13.330627Z",
     "shell.execute_reply": "2021-10-05T09:29:13.329914Z",
     "shell.execute_reply.started": "2021-10-05T09:29:13.284366Z"
    }
   },
   "outputs": [],
   "source": [
    "data[\"number_of_cuisines\"]=data[\"cuisine_style_list\"].apply(number_of_cuisines)"
   ]
  },
  {
   "cell_type": "code",
   "execution_count": 41,
   "metadata": {
    "execution": {
     "iopub.execute_input": "2021-10-05T09:29:35.406990Z",
     "iopub.status.busy": "2021-10-05T09:29:35.406513Z",
     "iopub.status.idle": "2021-10-05T09:29:35.412374Z",
     "shell.execute_reply": "2021-10-05T09:29:35.411622Z",
     "shell.execute_reply.started": "2021-10-05T09:29:35.406944Z"
    }
   },
   "outputs": [
    {
     "data": {
      "text/plain": [
       "[\"'mediterranean'\", \" 'spanish'\"]"
      ]
     },
     "execution_count": 41,
     "metadata": {},
     "output_type": "execute_result"
    }
   ],
   "source": [
    "# Видим, что в названии кухни иногда первым символом идет пробел. Вот как здесь - \" spanish\"\n",
    "data[\"cuisine_style_list\"][99]"
   ]
  },
  {
   "cell_type": "code",
   "execution_count": 42,
   "metadata": {
    "execution": {
     "iopub.execute_input": "2021-10-05T09:30:26.895340Z",
     "iopub.status.busy": "2021-10-05T09:30:26.894891Z",
     "iopub.status.idle": "2021-10-05T09:30:26.901435Z",
     "shell.execute_reply": "2021-10-05T09:30:26.900499Z",
     "shell.execute_reply.started": "2021-10-05T09:30:26.895300Z"
    }
   },
   "outputs": [],
   "source": [
    "# Напишем функцию, которая будет убирать эти пробелы.\n",
    "def replace_spaces(list_of_cuisines):\n",
    "    if type(list_of_cuisines)==list:\n",
    "        list_of_values=[]\n",
    "        for i in list_of_cuisines:\n",
    "            if i[0]==\" \":\n",
    "                i=i.strip(\" \")\n",
    "                list_of_values.append(i)\n",
    "            else:\n",
    "                list_of_values.append(i)\n",
    "        return list_of_values\n",
    "    else:\n",
    "        return np.nan"
   ]
  },
  {
   "cell_type": "code",
   "execution_count": 43,
   "metadata": {
    "execution": {
     "iopub.execute_input": "2021-10-05T09:30:38.955098Z",
     "iopub.status.busy": "2021-10-05T09:30:38.954705Z",
     "iopub.status.idle": "2021-10-05T09:30:39.055310Z",
     "shell.execute_reply": "2021-10-05T09:30:39.054588Z",
     "shell.execute_reply.started": "2021-10-05T09:30:38.955036Z"
    }
   },
   "outputs": [],
   "source": [
    "data[\"cuisine_style_list\"]=data[\"cuisine_style_list\"].apply(replace_spaces)"
   ]
  },
  {
   "cell_type": "code",
   "execution_count": 44,
   "metadata": {
    "execution": {
     "iopub.execute_input": "2021-10-05T09:30:43.360626Z",
     "iopub.status.busy": "2021-10-05T09:30:43.360303Z",
     "iopub.status.idle": "2021-10-05T09:30:43.364724Z",
     "shell.execute_reply": "2021-10-05T09:30:43.363799Z",
     "shell.execute_reply.started": "2021-10-05T09:30:43.360580Z"
    }
   },
   "outputs": [],
   "source": [
    "from datetime import datetime"
   ]
  },
  {
   "cell_type": "code",
   "execution_count": 45,
   "metadata": {
    "execution": {
     "iopub.execute_input": "2021-10-05T09:30:57.207843Z",
     "iopub.status.busy": "2021-10-05T09:30:57.207150Z",
     "iopub.status.idle": "2021-10-05T09:30:57.215044Z",
     "shell.execute_reply": "2021-10-05T09:30:57.214320Z",
     "shell.execute_reply.started": "2021-10-05T09:30:57.207770Z"
    }
   },
   "outputs": [
    {
     "data": {
      "text/plain": [
       "str"
      ]
     },
     "execution_count": 45,
     "metadata": {},
     "output_type": "execute_result"
    }
   ],
   "source": [
    "# Обработаем колонку Reviews, содержащую сведения о дате отзыва. \n",
    "type(data[\"Reviews\"][11])"
   ]
  },
  {
   "cell_type": "code",
   "execution_count": 46,
   "metadata": {
    "execution": {
     "iopub.execute_input": "2021-10-05T09:32:44.053015Z",
     "iopub.status.busy": "2021-10-05T09:32:44.052306Z",
     "iopub.status.idle": "2021-10-05T09:32:44.060889Z",
     "shell.execute_reply": "2021-10-05T09:32:44.060105Z",
     "shell.execute_reply.started": "2021-10-05T09:32:44.052959Z"
    }
   },
   "outputs": [],
   "source": [
    "# Функция 'вытаскивает' информацию о дате отзыва(ов) и преобразует ее в тип datetime\n",
    "def to_datetime(x):\n",
    "    if pd.isna(x):\n",
    "        return np.nan\n",
    "    if x==\"[[], []]\":\n",
    "        return np.nan\n",
    "    x=x.strip(\"[[]]\")\n",
    "    if x[-2].isdigit()==True:\n",
    "        date1=x[-11:-1]\n",
    "    if x[-16].isdigit()==True:\n",
    "        date2=x[-25:-15]\n",
    "    else:\n",
    "        return datetime.strptime(date1,\"%m/%d/%Y\")\n",
    "    return [datetime.strptime(date1,\"%m/%d/%Y\"),datetime.strptime(date2,\"%m/%d/%Y\")]"
   ]
  },
  {
   "cell_type": "code",
   "execution_count": 47,
   "metadata": {
    "execution": {
     "iopub.execute_input": "2021-10-05T09:32:47.664961Z",
     "iopub.status.busy": "2021-10-05T09:32:47.664325Z",
     "iopub.status.idle": "2021-10-05T09:32:48.896059Z",
     "shell.execute_reply": "2021-10-05T09:32:48.895291Z",
     "shell.execute_reply.started": "2021-10-05T09:32:47.664892Z"
    }
   },
   "outputs": [],
   "source": [
    "# В колонку datetime поместим в виде списка объекты datetime - даты отзывов, оставленных на сайте\n",
    "data[\"datetime\"]=data[\"Reviews\"].apply(to_datetime)"
   ]
  },
  {
   "cell_type": "code",
   "execution_count": 48,
   "metadata": {
    "execution": {
     "iopub.execute_input": "2021-10-05T09:33:01.995644Z",
     "iopub.status.busy": "2021-10-05T09:33:01.994969Z",
     "iopub.status.idle": "2021-10-05T09:33:02.005242Z",
     "shell.execute_reply": "2021-10-05T09:33:02.003856Z",
     "shell.execute_reply.started": "2021-10-05T09:33:01.995566Z"
    }
   },
   "outputs": [],
   "source": [
    "# напишем функцию, которая считает, насколько дата отзыва(ов) отстоит от текущей даты. Если отзывов два,\n",
    "# считается самый свежий отзыв\n",
    " def time_delta(x):\n",
    "    if type(x)==float:\n",
    "        return np.nan\n",
    "    if type(x)==datetime:\n",
    "        return datetime.now()-x\n",
    "    else:\n",
    "        delta1=datetime.now()-x[0]\n",
    "        delta2=datetime.now()-x[1]\n",
    "        return min(delta1,delta2)"
   ]
  },
  {
   "cell_type": "code",
   "execution_count": 49,
   "metadata": {
    "execution": {
     "iopub.execute_input": "2021-10-05T09:33:06.191283Z",
     "iopub.status.busy": "2021-10-05T09:33:06.190969Z",
     "iopub.status.idle": "2021-10-05T09:33:06.587407Z",
     "shell.execute_reply": "2021-10-05T09:33:06.586716Z",
     "shell.execute_reply.started": "2021-10-05T09:33:06.191245Z"
    }
   },
   "outputs": [],
   "source": [
    "data[\"timedelta\"]=data[\"datetime\"].apply(time_delta)"
   ]
  },
  {
   "cell_type": "code",
   "execution_count": 50,
   "metadata": {
    "execution": {
     "iopub.execute_input": "2021-10-05T09:33:18.793335Z",
     "iopub.status.busy": "2021-10-05T09:33:18.792823Z",
     "iopub.status.idle": "2021-10-05T09:33:18.799986Z",
     "shell.execute_reply": "2021-10-05T09:33:18.798806Z",
     "shell.execute_reply.started": "2021-10-05T09:33:18.793293Z"
    }
   },
   "outputs": [],
   "source": [
    "# Данные в колонке timedelta хранятся в формате timedelta. Чтобы их можно было использовать в нашей модели,\n",
    "# переведем их сначала в тип str, а затем в integer. Функцию см. ниже\n",
    "def to_int(x):\n",
    "    if pd.isna(x):\n",
    "        return np.nan\n",
    "    y=str(x)\n",
    "    i=0\n",
    "    while y[i].isdigit():\n",
    "        i+=1\n",
    "        z=y[:i]\n",
    "    return int(z)"
   ]
  },
  {
   "cell_type": "code",
   "execution_count": 51,
   "metadata": {
    "execution": {
     "iopub.execute_input": "2021-10-05T09:33:25.269032Z",
     "iopub.status.busy": "2021-10-05T09:33:25.268610Z",
     "iopub.status.idle": "2021-10-05T09:33:26.705771Z",
     "shell.execute_reply": "2021-10-05T09:33:26.704956Z",
     "shell.execute_reply.started": "2021-10-05T09:33:25.268990Z"
    }
   },
   "outputs": [],
   "source": [
    "# Создадим колонку last_review, которая хранит количество дней от последнего отзыва на сайте до сегодня\n",
    "data[\"last_review\"]=data[\"timedelta\"].apply(to_int)"
   ]
  },
  {
   "cell_type": "code",
   "execution_count": 52,
   "metadata": {
    "execution": {
     "iopub.execute_input": "2021-10-05T09:33:33.523132Z",
     "iopub.status.busy": "2021-10-05T09:33:33.522482Z",
     "iopub.status.idle": "2021-10-05T09:33:34.028673Z",
     "shell.execute_reply": "2021-10-05T09:33:34.027904Z",
     "shell.execute_reply.started": "2021-10-05T09:33:33.523065Z"
    }
   },
   "outputs": [
    {
     "data": {
      "image/png": "[encoded data removed]",
      "text/plain": [
       "<Figure size 1008x720 with 1 Axes>"
      ]
     },
     "metadata": {
      "needs_background": "light"
     },
     "output_type": "display_data"
    }
   ],
   "source": [
    "# Посмотрим распределение новой переменной. Видим, что есть очень большие значения, от которых лучше \n",
    "# избавиться\n",
    "fig,ax=plt.subplots(figsize=(14,10))\n",
    "data[\"last_review\"].hist(bins=100)\n",
    "plt.show()"
   ]
  },
  {
   "cell_type": "code",
   "execution_count": 53,
   "metadata": {
    "execution": {
     "iopub.execute_input": "2021-10-05T09:33:41.223220Z",
     "iopub.status.busy": "2021-10-05T09:33:41.222871Z",
     "iopub.status.idle": "2021-10-05T09:33:41.229245Z",
     "shell.execute_reply": "2021-10-05T09:33:41.228213Z",
     "shell.execute_reply.started": "2021-10-05T09:33:41.223161Z"
    }
   },
   "outputs": [],
   "source": [
    "# Напишем функцию, определяющую границы выбросов\n",
    "def find_outliers(i):\n",
    "    q1=data[i].quantile(0.25)\n",
    "    q3=data[i].quantile(0.75)\n",
    "    IQR=q3-q1\n",
    "    return [q1-1.5*IQR, q3+1.5*IQR]"
   ]
  },
  {
   "cell_type": "code",
   "execution_count": 54,
   "metadata": {
    "execution": {
     "iopub.execute_input": "2021-10-05T09:33:46.830354Z",
     "iopub.status.busy": "2021-10-05T09:33:46.830041Z",
     "iopub.status.idle": "2021-10-05T09:33:46.845088Z",
     "shell.execute_reply": "2021-10-05T09:33:46.844103Z",
     "shell.execute_reply.started": "2021-10-05T09:33:46.830308Z"
    }
   },
   "outputs": [
    {
     "data": {
      "text/plain": [
       "[1009.0, 2041.0]"
      ]
     },
     "execution_count": 54,
     "metadata": {},
     "output_type": "execute_result"
    }
   ],
   "source": [
    "# Определим границы выбросов у колонки last_review. Видим, что верхняя граница выбросов составляет \n",
    "# 2039. Посмотрим, сколько данных лежит выше этой границы\n",
    "find_outliers(\"last_review\")"
   ]
  },
  {
   "cell_type": "code",
   "execution_count": 55,
   "metadata": {
    "execution": {
     "iopub.execute_input": "2021-10-05T09:33:51.822839Z",
     "iopub.status.busy": "2021-10-05T09:33:51.822503Z",
     "iopub.status.idle": "2021-10-05T09:33:51.859727Z",
     "shell.execute_reply": "2021-10-05T09:33:51.858774Z",
     "shell.execute_reply.started": "2021-10-05T09:33:51.822791Z"
    }
   },
   "outputs": [
    {
     "data": {
      "text/plain": [
       "4023"
      ]
     },
     "execution_count": 55,
     "metadata": {},
     "output_type": "execute_result"
    }
   ],
   "source": [
    "# Видим, что выбросов довольно много (около 10%). Удалять мы их не будем.\n",
    "len(data[data[\"last_review\"]>2039])"
   ]
  },
  {
   "cell_type": "code",
   "execution_count": 56,
   "metadata": {
    "execution": {
     "iopub.execute_input": "2021-10-05T09:33:56.112496Z",
     "iopub.status.busy": "2021-10-05T09:33:56.112175Z",
     "iopub.status.idle": "2021-10-05T09:33:56.204289Z",
     "shell.execute_reply": "2021-10-05T09:33:56.203353Z",
     "shell.execute_reply.started": "2021-10-05T09:33:56.112451Z"
    }
   },
   "outputs": [],
   "source": [
    "# Заменим значения выше 4000 на медиану\n",
    "data[\"last_review\"]=data[\"last_review\"].apply(lambda x: data[\"last_review\"].median() if x>4000 else x)"
   ]
  },
  {
   "cell_type": "code",
   "execution_count": 57,
   "metadata": {
    "execution": {
     "iopub.execute_input": "2021-10-05T09:34:02.612646Z",
     "iopub.status.busy": "2021-10-05T09:34:02.612323Z",
     "iopub.status.idle": "2021-10-05T09:34:02.626393Z",
     "shell.execute_reply": "2021-10-05T09:34:02.625247Z",
     "shell.execute_reply.started": "2021-10-05T09:34:02.612594Z"
    }
   },
   "outputs": [
    {
     "data": {
      "text/plain": [
       "8114"
      ]
     },
     "execution_count": 57,
     "metadata": {},
     "output_type": "execute_result"
    }
   ],
   "source": [
    "# Мы видим, что пропусков в колонке last_review довольно много. Мы не можем их все заменить на медиану,\n",
    "# т.к. при этом нарушится распределение признака\n",
    "len(data[data[\"last_review\"].isna()==True])"
   ]
  },
  {
   "cell_type": "code",
   "execution_count": 58,
   "metadata": {
    "execution": {
     "iopub.execute_input": "2021-10-05T09:34:08.021036Z",
     "iopub.status.busy": "2021-10-05T09:34:08.020701Z",
     "iopub.status.idle": "2021-10-05T09:34:08.025462Z",
     "shell.execute_reply": "2021-10-05T09:34:08.024810Z",
     "shell.execute_reply.started": "2021-10-05T09:34:08.020987Z"
    }
   },
   "outputs": [],
   "source": [
    "import random"
   ]
  },
  {
   "cell_type": "code",
   "execution_count": 59,
   "metadata": {
    "execution": {
     "iopub.execute_input": "2021-10-05T09:34:26.827836Z",
     "iopub.status.busy": "2021-10-05T09:34:26.827371Z",
     "iopub.status.idle": "2021-10-05T09:34:26.833749Z",
     "shell.execute_reply": "2021-10-05T09:34:26.832966Z",
     "shell.execute_reply.started": "2021-10-05T09:34:26.827793Z"
    }
   },
   "outputs": [],
   "source": [
    "# Напишем функцию, которая заменяет пропуски рандомными данными из тех, которые уже есть в данной колонке\n",
    "def replace_with_interval(i,df):\n",
    "    stat = df[i].value_counts(normalize=True)\n",
    "    ind = df[df[i].isna()==True].index\n",
    "    fill_list = pd.Series(random.choices(stat.index, stat, k=df[i].isna().sum()))\n",
    "    fill_list.index = ind\n",
    "    return fill_list"
   ]
  },
  {
   "cell_type": "code",
   "execution_count": 60,
   "metadata": {
    "execution": {
     "iopub.execute_input": "2021-10-05T09:34:35.450337Z",
     "iopub.status.busy": "2021-10-05T09:34:35.449728Z",
     "iopub.status.idle": "2021-10-05T09:34:35.493984Z",
     "shell.execute_reply": "2021-10-05T09:34:35.493126Z",
     "shell.execute_reply.started": "2021-10-05T09:34:35.450249Z"
    }
   },
   "outputs": [],
   "source": [
    "# Заполним пропуски в колонке last_review\n",
    "replace_df=replace_with_interval(\"last_review\",data)\n",
    "data[\"last_review\"].fillna(replace_df,inplace=True)"
   ]
  },
  {
   "cell_type": "code",
   "execution_count": 61,
   "metadata": {
    "execution": {
     "iopub.execute_input": "2021-10-05T09:34:40.275165Z",
     "iopub.status.busy": "2021-10-05T09:34:40.274661Z",
     "iopub.status.idle": "2021-10-05T09:34:40.281575Z",
     "shell.execute_reply": "2021-10-05T09:34:40.280571Z",
     "shell.execute_reply.started": "2021-10-05T09:34:40.275090Z"
    }
   },
   "outputs": [],
   "source": [
    "# Напишем функцию, которая будет считать время между двумя отзывами. Если отзыв один, будет \n",
    "# возвращаться NaN\n",
    "def time_between(x):\n",
    "    if type(x)==list:\n",
    "        delta=abs(x[0]-x[1])\n",
    "        return delta\n",
    "    else:\n",
    "        return np.nan"
   ]
  },
  {
   "cell_type": "code",
   "execution_count": 62,
   "metadata": {
    "execution": {
     "iopub.execute_input": "2021-10-05T09:34:45.627881Z",
     "iopub.status.busy": "2021-10-05T09:34:45.627538Z",
     "iopub.status.idle": "2021-10-05T09:34:45.894723Z",
     "shell.execute_reply": "2021-10-05T09:34:45.893728Z",
     "shell.execute_reply.started": "2021-10-05T09:34:45.627834Z"
    }
   },
   "outputs": [],
   "source": [
    "# В колонку time_between поместим время между двумя отзывами в формате timedelta\n",
    "data[\"time_between\"]=data[\"datetime\"].apply(time_between)"
   ]
  },
  {
   "cell_type": "code",
   "execution_count": 63,
   "metadata": {
    "execution": {
     "iopub.execute_input": "2021-10-05T09:34:52.030748Z",
     "iopub.status.busy": "2021-10-05T09:34:52.030284Z",
     "iopub.status.idle": "2021-10-05T09:34:53.232265Z",
     "shell.execute_reply": "2021-10-05T09:34:53.231510Z",
     "shell.execute_reply.started": "2021-10-05T09:34:52.030564Z"
    }
   },
   "outputs": [],
   "source": [
    "# C форматом timedelta наша модель работать не умеет. Переведем его в int с помощью ранее написанной\n",
    "# функции to_int\n",
    "data[\"time_between\"]=data[\"time_between\"].apply(to_int)"
   ]
  },
  {
   "cell_type": "code",
   "execution_count": 64,
   "metadata": {
    "execution": {
     "iopub.execute_input": "2021-10-05T09:34:56.198817Z",
     "iopub.status.busy": "2021-10-05T09:34:56.198268Z",
     "iopub.status.idle": "2021-10-05T09:34:56.685228Z",
     "shell.execute_reply": "2021-10-05T09:34:56.683845Z",
     "shell.execute_reply.started": "2021-10-05T09:34:56.198740Z"
    }
   },
   "outputs": [
    {
     "data": {
      "image/png": "[encoded data removed]",
      "text/plain": [
       "<Figure size 720x432 with 1 Axes>"
      ]
     },
     "metadata": {
      "needs_background": "light"
     },
     "output_type": "display_data"
    }
   ],
   "source": [
    "# Посмотрим распределение нового признака time_between\n",
    "fig,ax=plt.subplots(figsize=(10,6))\n",
    "data[\"time_between\"].hist(bins=100)\n",
    "plt.show()"
   ]
  },
  {
   "cell_type": "code",
   "execution_count": 65,
   "metadata": {
    "execution": {
     "iopub.execute_input": "2021-10-05T09:35:01.500312Z",
     "iopub.status.busy": "2021-10-05T09:35:01.499791Z",
     "iopub.status.idle": "2021-10-05T09:35:01.510666Z",
     "shell.execute_reply": "2021-10-05T09:35:01.509600Z",
     "shell.execute_reply.started": "2021-10-05T09:35:01.500266Z"
    }
   },
   "outputs": [
    {
     "data": {
      "text/plain": [
       "[-209.5, 402.5]"
      ]
     },
     "execution_count": 65,
     "metadata": {},
     "output_type": "execute_result"
    }
   ],
   "source": [
    "# Найдем выбросы с помощью ранее написанной функции find_outliers\n",
    "find_outliers(\"time_between\")"
   ]
  },
  {
   "cell_type": "code",
   "execution_count": 66,
   "metadata": {
    "execution": {
     "iopub.execute_input": "2021-10-05T09:35:06.178733Z",
     "iopub.status.busy": "2021-10-05T09:35:06.178421Z",
     "iopub.status.idle": "2021-10-05T09:35:06.192337Z",
     "shell.execute_reply": "2021-10-05T09:35:06.191211Z",
     "shell.execute_reply.started": "2021-10-05T09:35:06.178687Z"
    }
   },
   "outputs": [
    {
     "data": {
      "text/plain": [
       "2920"
      ]
     },
     "execution_count": 66,
     "metadata": {},
     "output_type": "execute_result"
    }
   ],
   "source": [
    "# Посмотрим, много ли данных лежит вне данного интервала. Данных довольно много, мы не будем их удалять.\n",
    "len(data[data[\"time_between\"]>402.5])"
   ]
  },
  {
   "cell_type": "code",
   "execution_count": 67,
   "metadata": {
    "execution": {
     "iopub.execute_input": "2021-10-05T09:35:13.297370Z",
     "iopub.status.busy": "2021-10-05T09:35:13.296897Z",
     "iopub.status.idle": "2021-10-05T09:35:13.306057Z",
     "shell.execute_reply": "2021-10-05T09:35:13.305052Z",
     "shell.execute_reply.started": "2021-10-05T09:35:13.297326Z"
    }
   },
   "outputs": [
    {
     "data": {
      "text/plain": [
       "133"
      ]
     },
     "execution_count": 67,
     "metadata": {},
     "output_type": "execute_result"
    }
   ],
   "source": [
    "len(data[data[\"time_between\"]>1500])"
   ]
  },
  {
   "cell_type": "code",
   "execution_count": 68,
   "metadata": {
    "execution": {
     "iopub.execute_input": "2021-10-05T09:35:17.095610Z",
     "iopub.status.busy": "2021-10-05T09:35:17.095260Z",
     "iopub.status.idle": "2021-10-05T09:35:17.237224Z",
     "shell.execute_reply": "2021-10-05T09:35:17.236255Z",
     "shell.execute_reply.started": "2021-10-05T09:35:17.095558Z"
    }
   },
   "outputs": [],
   "source": [
    "# Заменим данные больше 1500 на медиану\n",
    "data[\"time_between\"]=data[\"time_between\"].apply(lambda x: data[\"time_between\"].median() if x>1500 else x)"
   ]
  },
  {
   "cell_type": "code",
   "execution_count": 69,
   "metadata": {
    "execution": {
     "iopub.execute_input": "2021-10-05T09:37:51.620228Z",
     "iopub.status.busy": "2021-10-05T09:37:51.619907Z",
     "iopub.status.idle": "2021-10-05T09:37:51.635181Z",
     "shell.execute_reply": "2021-10-05T09:37:51.633924Z",
     "shell.execute_reply.started": "2021-10-05T09:37:51.620182Z"
    }
   },
   "outputs": [
    {
     "data": {
      "text/plain": [
       "13794"
      ]
     },
     "execution_count": 69,
     "metadata": {},
     "output_type": "execute_result"
    }
   ],
   "source": [
    "# Посмотрим, сколько пропусков в колонке time_between. Пропусков очень много. Мы не можем заменить их на \n",
    "# медиану, потому что тогда нарушится распределение признака. Воспользуемся функцией replace_with_interval\n",
    "len(data[data[\"time_between\"].isna()==True])"
   ]
  },
  {
   "cell_type": "code",
   "execution_count": 70,
   "metadata": {
    "execution": {
     "iopub.execute_input": "2021-10-05T09:37:54.669898Z",
     "iopub.status.busy": "2021-10-05T09:37:54.669555Z",
     "iopub.status.idle": "2021-10-05T09:37:54.726174Z",
     "shell.execute_reply": "2021-10-05T09:37:54.725063Z",
     "shell.execute_reply.started": "2021-10-05T09:37:54.669849Z"
    }
   },
   "outputs": [],
   "source": [
    "# Заменяем пропуски в колонке time_between\n",
    "replace_df=replace_with_interval(\"time_between\",data)\n",
    "data[\"time_between\"].fillna(replace_df,inplace=True)"
   ]
  },
  {
   "cell_type": "code",
   "execution_count": 71,
   "metadata": {
    "execution": {
     "iopub.execute_input": "2021-10-05T09:37:59.486815Z",
     "iopub.status.busy": "2021-10-05T09:37:59.486222Z",
     "iopub.status.idle": "2021-10-05T09:37:59.531024Z",
     "shell.execute_reply": "2021-10-05T09:37:59.530085Z",
     "shell.execute_reply.started": "2021-10-05T09:37:59.486698Z"
    }
   },
   "outputs": [],
   "source": [
    "# Начинаем работать с текстом отзывов в колонке Reviews. Для начала переведем текст в нижний регистр\n",
    "data[\"Reviews\"]=data[\"Reviews\"].apply(lambda x: x.lower() if type(x)==str else np.nan)"
   ]
  },
  {
   "cell_type": "code",
   "execution_count": 72,
   "metadata": {
    "execution": {
     "iopub.execute_input": "2021-10-05T09:38:17.906785Z",
     "iopub.status.busy": "2021-10-05T09:38:17.906315Z",
     "iopub.status.idle": "2021-10-05T09:38:17.920076Z",
     "shell.execute_reply": "2021-10-05T09:38:17.918820Z",
     "shell.execute_reply.started": "2021-10-05T09:38:17.906727Z"
    }
   },
   "outputs": [],
   "source": [
    "# Наша функция будет осуществлять поиск по ключевым словам, которые могут относиться к качеству еды в\n",
    "# ресторане. В зависимости от найденных слов ресторану присваевается категория\n",
    "def assign_category(x):\n",
    "    if x==\"[[], []]\":\n",
    "        return \"unknown\"\n",
    "    if pd.isna(x):\n",
    "        return \"unknown\"\n",
    "    else:\n",
    "        if x.find(\"excellent\")>=0 or x.find(\"great\")>=0 or x.find(\"tasty\")>=0 or x.find(\"delicious\")>=0 or x.find(\"very good\")>=0 or x.find(\"best\")>=0 or x.find(\"delight\")>=0 or x.find(\"wonderful\")>=0 or x.find(\"awsome\")>=0 or x.find(\"amazing\")>=0 or x.find(\"yummy\")>=0:\n",
    "            return \"excellent\"\n",
    "        elif (x.find(\"good\")>=0) or (x.find(\"lovely\")>=0) or (x.find(\"nice\")>=0) or (x.find(\"fun\")>=0) or (x.find(\"authentic\")>=0):\n",
    "            return \"good\"\n",
    "        elif (x.find(\"average\")>=0) or (x.find(\"not bad\")>=0) or (x.find(\"efficient\")>=0):\n",
    "            return \"average\"\n",
    "        elif x.find(\"poor\")>=0 or x.find(\"bad\")>=0 or x.find(\"awful\")>=0 or x.find(\"overpriced\")>=0 or x.find(\"ugly\")>=0 or x.find(\"greasy\")>=0:\n",
    "            return \"bad\"     \n",
    "        else:\n",
    "            return \"unknown\""
   ]
  },
  {
   "cell_type": "code",
   "execution_count": 73,
   "metadata": {
    "execution": {
     "iopub.execute_input": "2021-10-05T09:38:22.253535Z",
     "iopub.status.busy": "2021-10-05T09:38:22.253225Z",
     "iopub.status.idle": "2021-10-05T09:38:22.432728Z",
     "shell.execute_reply": "2021-10-05T09:38:22.431878Z",
     "shell.execute_reply.started": "2021-10-05T09:38:22.253489Z"
    }
   },
   "outputs": [],
   "source": [
    "# Присвоим категорию \"excellent\",\"good\",\"average\",\"bad\",\"unknown\" каждому ресторану\n",
    "data[\"restaurant_category\"]=data[\"Reviews\"].apply(assign_category)"
   ]
  },
  {
   "cell_type": "code",
   "execution_count": 74,
   "metadata": {
    "execution": {
     "iopub.execute_input": "2021-10-05T09:38:26.649370Z",
     "iopub.status.busy": "2021-10-05T09:38:26.649007Z",
     "iopub.status.idle": "2021-10-05T09:38:26.715810Z",
     "shell.execute_reply": "2021-10-05T09:38:26.714795Z",
     "shell.execute_reply.started": "2021-10-05T09:38:26.649312Z"
    }
   },
   "outputs": [],
   "source": [
    "# Возьмем get_dummies по колонке restaurant_category\n",
    "data=pd.get_dummies(data,columns=[\"restaurant_category\"],dummy_na=False)"
   ]
  },
  {
   "cell_type": "code",
   "execution_count": 75,
   "metadata": {
    "execution": {
     "iopub.execute_input": "2021-10-05T09:38:30.643042Z",
     "iopub.status.busy": "2021-10-05T09:38:30.642693Z",
     "iopub.status.idle": "2021-10-05T09:38:31.193964Z",
     "shell.execute_reply": "2021-10-05T09:38:31.192954Z",
     "shell.execute_reply.started": "2021-10-05T09:38:30.642992Z"
    }
   },
   "outputs": [
    {
     "data": {
      "image/png": "[encoded data removed]",
      "text/plain": [
       "<Figure size 1008x720 with 1 Axes>"
      ]
     },
     "metadata": {
      "needs_background": "light"
     },
     "output_type": "display_data"
    }
   ],
   "source": [
    "# Еще одна интересная переменная - Number of Reviews. Посмотрим на ее распределение\n",
    "fig,ax=plt.subplots(figsize=(14,10))\n",
    "data[\"Number of Reviews\"].hist(bins=100)\n",
    "plt.show()"
   ]
  },
  {
   "cell_type": "code",
   "execution_count": 76,
   "metadata": {
    "execution": {
     "iopub.execute_input": "2021-10-05T09:38:34.926017Z",
     "iopub.status.busy": "2021-10-05T09:38:34.925506Z",
     "iopub.status.idle": "2021-10-05T09:38:34.937192Z",
     "shell.execute_reply": "2021-10-05T09:38:34.936250Z",
     "shell.execute_reply.started": "2021-10-05T09:38:34.925956Z"
    }
   },
   "outputs": [
    {
     "data": {
      "text/plain": [
       "[-140.0, 252.0]"
      ]
     },
     "execution_count": 76,
     "metadata": {},
     "output_type": "execute_result"
    }
   ],
   "source": [
    "# Найдем выбросы в этой колонке\n",
    "find_outliers(\"Number of Reviews\")"
   ]
  },
  {
   "cell_type": "code",
   "execution_count": 77,
   "metadata": {
    "execution": {
     "iopub.execute_input": "2021-10-05T09:38:39.125670Z",
     "iopub.status.busy": "2021-10-05T09:38:39.125094Z",
     "iopub.status.idle": "2021-10-05T09:38:39.375549Z",
     "shell.execute_reply": "2021-10-05T09:38:39.374531Z",
     "shell.execute_reply.started": "2021-10-05T09:38:39.125601Z"
    }
   },
   "outputs": [
    {
     "data": {
      "image/png": "[encoded data removed]",
      "text/plain": [
       "<Figure size 720x432 with 1 Axes>"
      ]
     },
     "metadata": {
      "needs_background": "light"
     },
     "output_type": "display_data"
    }
   ],
   "source": [
    "# Визуализируем данный признак при помощи boxplot\n",
    "fig,ax=plt.subplots(figsize=(10,6))\n",
    "sns.boxplot(data=data[\"Number of Reviews\"], orient=\"h\")\n",
    "plt.show()"
   ]
  },
  {
   "cell_type": "code",
   "execution_count": 78,
   "metadata": {
    "execution": {
     "iopub.execute_input": "2021-10-03T12:12:46.307971Z",
     "iopub.status.busy": "2021-10-03T12:12:46.307556Z",
     "iopub.status.idle": "2021-10-03T12:12:46.359206Z",
     "shell.execute_reply": "2021-10-03T12:12:46.357871Z",
     "shell.execute_reply.started": "2021-10-03T12:12:46.307903Z"
    }
   },
   "outputs": [
    {
     "data": {
      "text/plain": [
       "5946"
      ]
     },
     "execution_count": 78,
     "metadata": {},
     "output_type": "execute_result"
    }
   ],
   "source": [
    "# Выьросов довольно много. Удалять их не будем.\n",
    "len(data[data[\"Number of Reviews\"]>252])"
   ]
  },
  {
   "cell_type": "code",
   "execution_count": 79,
   "metadata": {
    "execution": {
     "iopub.execute_input": "2021-10-03T12:12:48.86281Z",
     "iopub.status.busy": "2021-10-03T12:12:48.862265Z",
     "iopub.status.idle": "2021-10-03T12:12:48.873512Z",
     "shell.execute_reply": "2021-10-03T12:12:48.87239Z",
     "shell.execute_reply.started": "2021-10-03T12:12:48.86272Z"
    }
   },
   "outputs": [
    {
     "data": {
      "text/plain": [
       "171"
      ]
     },
     "execution_count": 79,
     "metadata": {},
     "output_type": "execute_result"
    }
   ],
   "source": [
    "len(data[data[\"Number of Reviews\"]>2000])"
   ]
  },
  {
   "cell_type": "code",
   "execution_count": 80,
   "metadata": {
    "execution": {
     "iopub.execute_input": "2021-10-05T09:38:46.635840Z",
     "iopub.status.busy": "2021-10-05T09:38:46.635483Z",
     "iopub.status.idle": "2021-10-05T09:38:46.809421Z",
     "shell.execute_reply": "2021-10-05T09:38:46.808330Z",
     "shell.execute_reply.started": "2021-10-05T09:38:46.635783Z"
    }
   },
   "outputs": [],
   "source": [
    "# Заменим значения больше 2000 на медиану\n",
    "data[\"Number of Reviews\"]=data[\"Number of Reviews\"].apply(lambda x: data[\"Number of Reviews\"].median() if x>2000 else x)"
   ]
  },
  {
   "cell_type": "code",
   "execution_count": 81,
   "metadata": {
    "execution": {
     "iopub.execute_input": "2021-10-04T09:49:20.569795Z",
     "iopub.status.busy": "2021-10-04T09:49:20.569457Z",
     "iopub.status.idle": "2021-10-04T09:49:20.57689Z",
     "shell.execute_reply": "2021-10-04T09:49:20.575778Z",
     "shell.execute_reply.started": "2021-10-04T09:49:20.569748Z"
    }
   },
   "outputs": [
    {
     "data": {
      "text/plain": [
       "Index(['Restaurant_id', 'Cuisine Style', 'Ranking', 'Price Range',\n",
       "       'Number of Reviews', 'Reviews', 'URL_TA', 'ID_TA', 'sample', 'Rating',\n",
       "       'Number_of_Reviews_isNAN', 'price_cat', 'number_of_restaurants',\n",
       "       'ranking_norm_rest', 'number_of_citizens', 'ranking_norm_citizens',\n",
       "       'number_of_reviews_norm_citizens', 'salaries', 'ranking_norm_salaries',\n",
       "       'City_Amsterdam', 'City_Athens', 'City_Barcelona', 'City_Berlin',\n",
       "       'City_Bratislava', 'City_Brussels', 'City_Budapest', 'City_Copenhagen',\n",
       "       'City_Dublin', 'City_Edinburgh', 'City_Geneva', 'City_Hamburg',\n",
       "       'City_Helsinki', 'City_Krakow', 'City_Lisbon', 'City_Ljubljana',\n",
       "       'City_London', 'City_Luxembourg', 'City_Lyon', 'City_Madrid',\n",
       "       'City_Milan', 'City_Munich', 'City_Oporto', 'City_Oslo', 'City_Paris',\n",
       "       'City_Prague', 'City_Rome', 'City_Stockholm', 'City_Vienna',\n",
       "       'City_Warsaw', 'City_Zurich', 'City_nan', 'cuisine_style_list',\n",
       "       'number_of_cuisines', 'datetime', 'timedelta', 'last_review',\n",
       "       'time_between', 'restaurant_category_average',\n",
       "       'restaurant_category_bad', 'restaurant_category_excellent',\n",
       "       'restaurant_category_good', 'restaurant_category_unknown'],\n",
       "      dtype='object')"
      ]
     },
     "execution_count": 81,
     "metadata": {},
     "output_type": "execute_result"
    }
   ],
   "source": [
    "data.columns"
   ]
  },
  {
   "cell_type": "code",
   "execution_count": 82,
   "metadata": {
    "execution": {
     "iopub.execute_input": "2021-10-05T09:38:53.562308Z",
     "iopub.status.busy": "2021-10-05T09:38:53.561884Z",
     "iopub.status.idle": "2021-10-05T09:38:53.775391Z",
     "shell.execute_reply": "2021-10-05T09:38:53.774324Z",
     "shell.execute_reply.started": "2021-10-05T09:38:53.562252Z"
    }
   },
   "outputs": [],
   "source": [
    "# У нас есть интересная колонка - Restaurant_id. Она содержит информацию о сетях ресторанов.\n",
    "# Создадим словарь, куда запишем количество ресторанов в каждой сети\n",
    "dict_of_nets=dict(data[\"Restaurant_id\"].value_counts())"
   ]
  },
  {
   "cell_type": "code",
   "execution_count": 83,
   "metadata": {
    "execution": {
     "iopub.execute_input": "2021-10-05T09:38:57.873592Z",
     "iopub.status.busy": "2021-10-05T09:38:57.873257Z",
     "iopub.status.idle": "2021-10-05T09:38:57.920964Z",
     "shell.execute_reply": "2021-10-05T09:38:57.920205Z",
     "shell.execute_reply.started": "2021-10-05T09:38:57.873542Z"
    }
   },
   "outputs": [],
   "source": [
    "# Введем дополнительную колонку с размером сети ресторанов\n",
    "def size_of_net(x,d=dict_of_nets):\n",
    "    return d[x]\n",
    "\n",
    "data[\"net_size\"]=data[\"Restaurant_id\"].apply(size_of_net)"
   ]
  },
  {
   "cell_type": "code",
   "execution_count": 84,
   "metadata": {
    "execution": {
     "iopub.execute_input": "2021-10-05T09:39:03.346684Z",
     "iopub.status.busy": "2021-10-05T09:39:03.346352Z",
     "iopub.status.idle": "2021-10-05T09:39:03.354633Z",
     "shell.execute_reply": "2021-10-05T09:39:03.353997Z",
     "shell.execute_reply.started": "2021-10-05T09:39:03.346645Z"
    }
   },
   "outputs": [],
   "source": [
    "# Пронормируем два наших количественных признака на размер сети ресторанов\n",
    "data[\"ranking_norm_net_size\"]=data[\"Ranking\"]/data[\"net_size\"]\n",
    "data[\"number_of_reviews_norm_net_size\"]=data[\"Number of Reviews\"]/data[\"net_size\"]"
   ]
  },
  {
   "cell_type": "code",
   "execution_count": 85,
   "metadata": {
    "execution": {
     "iopub.execute_input": "2021-10-04T10:02:51.675204Z",
     "iopub.status.busy": "2021-10-04T10:02:51.674815Z",
     "iopub.status.idle": "2021-10-04T10:02:51.712098Z",
     "shell.execute_reply": "2021-10-04T10:02:51.711444Z",
     "shell.execute_reply.started": "2021-10-04T10:02:51.675128Z"
    }
   },
   "outputs": [],
   "source": [
    "# object_columns = [s for s in data.columns if data[s].dtypes == 'object' or data[s].dtypes == 'timedelta64[ns]']\n",
    "# df_preproc=data.drop(object_columns, axis = 1)"
   ]
  },
  {
   "cell_type": "markdown",
   "metadata": {},
   "source": [
    "![](https://cs10.pikabu.ru/post_img/2018/09/06/11/1536261023140110012.jpg)"
   ]
  },
  {
   "cell_type": "markdown",
   "metadata": {},
   "source": [
    "# EDA \n",
    "[Exploratory Data Analysis](https://ru.wikipedia.org/wiki/Разведочный_анализ_данных) - Анализ данных\n",
    "На этом этапе мы строим графики, ищем закономерности, аномалии, выбросы или связи между признаками.\n",
    "В общем цель этого этапа понять, что эти данные могут нам дать и как признаки могут быть взаимосвязаны между собой.\n",
    "Понимание изначальных признаков позволит сгенерировать новые, более сильные и, тем самым, сделать нашу модель лучше.\n",
    "![](https://miro.medium.com/max/2598/1*RXdMb7Uk6mGqWqPguHULaQ.png)"
   ]
  },
  {
   "cell_type": "markdown",
   "metadata": {},
   "source": [
    "### Посмотрим распределение признака"
   ]
  },
  {
   "cell_type": "code",
   "execution_count": 86,
   "metadata": {
    "execution": {
     "iopub.execute_input": "2021-10-03T12:13:50.845695Z",
     "iopub.status.busy": "2021-10-03T12:13:50.845263Z",
     "iopub.status.idle": "2021-10-03T12:13:51.422998Z",
     "shell.execute_reply": "2021-10-03T12:13:51.421422Z",
     "shell.execute_reply.started": "2021-10-03T12:13:50.845637Z"
    }
   },
   "outputs": [
    {
     "data": {
      "text/plain": [
       "<matplotlib.axes._subplots.AxesSubplot at 0x7fa7c0b55f98>"
      ]
     },
     "execution_count": 86,
     "metadata": {},
     "output_type": "execute_result"
    },
    {
     "data": {
      "image/png": "[encoded data removed]",
      "text/plain": [
       "<Figure size 720x504 with 1 Axes>"
      ]
     },
     "metadata": {
      "needs_background": "light"
     },
     "output_type": "display_data"
    }
   ],
   "source": [
    "plt.rcParams['figure.figsize'] = (10,7)\n",
    "df_train['Ranking'].hist(bins=100)"
   ]
  },
  {
   "cell_type": "markdown",
   "metadata": {},
   "source": [
    "У нас много ресторанов, которые не дотягивают и до 2500 места в своем городе, а что там по городам?"
   ]
  },
  {
   "cell_type": "code",
   "execution_count": 87,
   "metadata": {
    "execution": {
     "iopub.execute_input": "2021-10-03T12:13:55.90356Z",
     "iopub.status.busy": "2021-10-03T12:13:55.903187Z",
     "iopub.status.idle": "2021-10-03T12:13:56.397422Z",
     "shell.execute_reply": "2021-10-03T12:13:56.39645Z",
     "shell.execute_reply.started": "2021-10-03T12:13:55.903504Z"
    }
   },
   "outputs": [
    {
     "data": {
      "text/plain": [
       "<matplotlib.axes._subplots.AxesSubplot at 0x7fa7c0a95b38>"
      ]
     },
     "execution_count": 87,
     "metadata": {},
     "output_type": "execute_result"
    },
    {
     "data": {
      "image/png": "[encoded data removed]",
      "text/plain": [
       "<Figure size 720x504 with 1 Axes>"
      ]
     },
     "metadata": {
      "needs_background": "light"
     },
     "output_type": "display_data"
    }
   ],
   "source": [
    "df_train['City'].value_counts(ascending=True).plot(kind='barh')"
   ]
  },
  {
   "cell_type": "markdown",
   "metadata": {},
   "source": [
    "А кто-то говорил, что французы любят поесть=) Посмотрим, как изменится распределение в большом городе:"
   ]
  },
  {
   "cell_type": "code",
   "execution_count": 88,
   "metadata": {
    "execution": {
     "iopub.execute_input": "2021-10-03T12:14:00.919256Z",
     "iopub.status.busy": "2021-10-03T12:14:00.918771Z",
     "iopub.status.idle": "2021-10-03T12:14:01.450665Z",
     "shell.execute_reply": "2021-10-03T12:14:01.448952Z",
     "shell.execute_reply.started": "2021-10-03T12:14:00.919188Z"
    }
   },
   "outputs": [
    {
     "data": {
      "text/plain": [
       "<matplotlib.axes._subplots.AxesSubplot at 0x7fa7e609ce10>"
      ]
     },
     "execution_count": 88,
     "metadata": {},
     "output_type": "execute_result"
    },
    {
     "data": {
      "image/png": "[encoded data removed]",
      "text/plain": [
       "<Figure size 720x504 with 1 Axes>"
      ]
     },
     "metadata": {
      "needs_background": "light"
     },
     "output_type": "display_data"
    }
   ],
   "source": [
    "df_train['Ranking'][df_train['City'] =='London'].hist(bins=100)"
   ]
  },
  {
   "cell_type": "code",
   "execution_count": 89,
   "metadata": {
    "execution": {
     "iopub.execute_input": "2021-10-03T12:14:05.047608Z",
     "iopub.status.busy": "2021-10-03T12:14:05.047277Z",
     "iopub.status.idle": "2021-10-03T12:14:07.861874Z",
     "shell.execute_reply": "2021-10-03T12:14:07.860471Z",
     "shell.execute_reply.started": "2021-10-03T12:14:05.047556Z"
    }
   },
   "outputs": [
    {
     "data": {
      "image/png": "[encoded data removed]",
      "text/plain": [
       "<Figure size 720x504 with 1 Axes>"
      ]
     },
     "metadata": {
      "needs_background": "light"
     },
     "output_type": "display_data"
    }
   ],
   "source": [
    "# посмотрим на топ 10 городов\n",
    "for x in (df_train['City'].value_counts())[0:10].index:\n",
    "    df_train['Ranking'][df_train['City'] == x].hist(bins=100)\n",
    "plt.show()"
   ]
  },
  {
   "cell_type": "markdown",
   "metadata": {},
   "source": [
    "Получается, что Ranking имеет нормальное распределение, просто в больших городах больше ресторанов, из-за мы этого имеем смещение.\n",
    "\n",
    ">Подумайте как из этого можно сделать признак для вашей модели. Я покажу вам пример, как визуализация помогает находить взаимосвязи. А далее действуйте без подсказок =) \n"
   ]
  },
  {
   "cell_type": "markdown",
   "metadata": {},
   "source": [
    "### Посмотрим распределение целевой переменной"
   ]
  },
  {
   "cell_type": "code",
   "execution_count": 90,
   "metadata": {
    "execution": {
     "iopub.execute_input": "2021-10-03T12:14:13.329555Z",
     "iopub.status.busy": "2021-10-03T12:14:13.329233Z",
     "iopub.status.idle": "2021-10-03T12:14:13.827759Z",
     "shell.execute_reply": "2021-10-03T12:14:13.826073Z",
     "shell.execute_reply.started": "2021-10-03T12:14:13.329506Z"
    }
   },
   "outputs": [
    {
     "data": {
      "text/plain": [
       "<matplotlib.axes._subplots.AxesSubplot at 0x7fa7d34c1ac8>"
      ]
     },
     "execution_count": 90,
     "metadata": {},
     "output_type": "execute_result"
    },
    {
     "data": {
      "image/png": "[encoded data removed]",
      "text/plain": [
       "<Figure size 720x504 with 1 Axes>"
      ]
     },
     "metadata": {
      "needs_background": "light"
     },
     "output_type": "display_data"
    }
   ],
   "source": [
    "df_train['Rating'].value_counts(ascending=True).plot(kind='barh')"
   ]
  },
  {
   "cell_type": "markdown",
   "metadata": {},
   "source": [
    "### Посмотрим распределение целевой переменной относительно признака"
   ]
  },
  {
   "cell_type": "code",
   "execution_count": 91,
   "metadata": {
    "execution": {
     "iopub.execute_input": "2021-10-03T12:14:16.977875Z",
     "iopub.status.busy": "2021-10-03T12:14:16.977512Z",
     "iopub.status.idle": "2021-10-03T12:14:17.493468Z",
     "shell.execute_reply": "2021-10-03T12:14:17.491522Z",
     "shell.execute_reply.started": "2021-10-03T12:14:16.977821Z"
    }
   },
   "outputs": [
    {
     "data": {
      "text/plain": [
       "<matplotlib.axes._subplots.AxesSubplot at 0x7fa7c023af98>"
      ]
     },
     "execution_count": 91,
     "metadata": {},
     "output_type": "execute_result"
    },
    {
     "data": {
      "image/png": "[encoded data removed]",
      "text/plain": [
       "<Figure size 720x504 with 1 Axes>"
      ]
     },
     "metadata": {
      "needs_background": "light"
     },
     "output_type": "display_data"
    }
   ],
   "source": [
    "df_train['Ranking'][df_train['Rating'] == 5].hist(bins=100)"
   ]
  },
  {
   "cell_type": "code",
   "execution_count": 92,
   "metadata": {
    "execution": {
     "iopub.execute_input": "2021-10-03T12:14:20.771064Z",
     "iopub.status.busy": "2021-10-03T12:14:20.770308Z",
     "iopub.status.idle": "2021-10-03T12:14:21.284029Z",
     "shell.execute_reply": "2021-10-03T12:14:21.282965Z",
     "shell.execute_reply.started": "2021-10-03T12:14:20.770998Z"
    }
   },
   "outputs": [
    {
     "data": {
      "text/plain": [
       "<matplotlib.axes._subplots.AxesSubplot at 0x7fa7c0135828>"
      ]
     },
     "execution_count": 92,
     "metadata": {},
     "output_type": "execute_result"
    },
    {
     "data": {
      "image/png": "[encoded data removed]",
      "text/plain": [
       "<Figure size 720x504 with 1 Axes>"
      ]
     },
     "metadata": {
      "needs_background": "light"
     },
     "output_type": "display_data"
    }
   ],
   "source": [
    "df_train['Ranking'][df_train['Rating'] < 4].hist(bins=100)"
   ]
  },
  {
   "cell_type": "markdown",
   "metadata": {},
   "source": [
    "### И один из моих любимых - [корреляция признаков](https://ru.wikipedia.org/wiki/Корреляция)\n",
    "На этом графике уже сейчас вы сможете заметить, как признаки связаны между собой и с целевой переменной."
   ]
  },
  {
   "cell_type": "code",
   "execution_count": 93,
   "metadata": {
    "execution": {
     "iopub.execute_input": "2021-10-03T12:14:25.023592Z",
     "iopub.status.busy": "2021-10-03T12:14:25.023233Z",
     "iopub.status.idle": "2021-10-03T12:14:26.824089Z",
     "shell.execute_reply": "2021-10-03T12:14:26.822714Z",
     "shell.execute_reply.started": "2021-10-03T12:14:25.023532Z"
    }
   },
   "outputs": [
    {
     "data": {
      "text/plain": [
       "<matplotlib.axes._subplots.AxesSubplot at 0x7fa7b5f8b9b0>"
      ]
     },
     "execution_count": 93,
     "metadata": {},
     "output_type": "execute_result"
    },
    {
     "data": {
      "image/png": "[encoded data removed]",
      "text/plain": [
       "<Figure size 1080x720 with 2 Axes>"
      ]
     },
     "metadata": {
      "needs_background": "light"
     },
     "output_type": "display_data"
    }
   ],
   "source": [
    "plt.rcParams['figure.figsize'] = (15,10)\n",
    "sns.heatmap(data.drop(['sample'], axis=1).corr(),)"
   ]
  },
  {
   "cell_type": "code",
   "execution_count": 94,
   "metadata": {
    "execution": {
     "iopub.execute_input": "2021-10-04T12:59:40.277432Z",
     "iopub.status.busy": "2021-10-04T12:59:40.276993Z",
     "iopub.status.idle": "2021-10-04T12:59:40.283147Z",
     "shell.execute_reply": "2021-10-04T12:59:40.2823Z",
     "shell.execute_reply.started": "2021-10-04T12:59:40.277392Z"
    }
   },
   "outputs": [
    {
     "data": {
      "text/plain": [
       "Index(['Restaurant_id', 'Cuisine Style', 'Ranking', 'Price Range',\n",
       "       'Number of Reviews', 'Reviews', 'URL_TA', 'ID_TA', 'sample', 'Rating',\n",
       "       'Number_of_Reviews_isNAN', 'price_cat', 'number_of_restaurants',\n",
       "       'ranking_norm_rest', 'number_of_citizens', 'ranking_norm_citizens',\n",
       "       'number_of_reviews_norm_citizens', 'salaries', 'ranking_norm_salaries',\n",
       "       'City_Amsterdam', 'City_Athens', 'City_Barcelona', 'City_Berlin',\n",
       "       'City_Bratislava', 'City_Brussels', 'City_Budapest', 'City_Copenhagen',\n",
       "       'City_Dublin', 'City_Edinburgh', 'City_Geneva', 'City_Hamburg',\n",
       "       'City_Helsinki', 'City_Krakow', 'City_Lisbon', 'City_Ljubljana',\n",
       "       'City_London', 'City_Luxembourg', 'City_Lyon', 'City_Madrid',\n",
       "       'City_Milan', 'City_Munich', 'City_Oporto', 'City_Oslo', 'City_Paris',\n",
       "       'City_Prague', 'City_Rome', 'City_Stockholm', 'City_Vienna',\n",
       "       'City_Warsaw', 'City_Zurich', 'City_nan', 'cuisine_style_list',\n",
       "       'number_of_cuisines', 'datetime', 'timedelta', 'last_review',\n",
       "       'time_between', 'restaurant_category_average',\n",
       "       'restaurant_category_bad', 'restaurant_category_excellent',\n",
       "       'restaurant_category_good', 'restaurant_category_unknown', 'net_size',\n",
       "       'ranking_norm_net_size', 'number_of_reviews_norm_net_size'],\n",
       "      dtype='object')"
      ]
     },
     "execution_count": 94,
     "metadata": {},
     "output_type": "execute_result"
    }
   ],
   "source": [
    "\n",
    "data.columns"
   ]
  },
  {
   "cell_type": "markdown",
   "metadata": {},
   "source": [
    "Вообще благодаря визуализации в этом датасете можно узнать много интересных фактов, например:\n",
    "* где больше Пицерий в Мадриде или Лондоне?\n",
    "* в каком городе кухня ресторанов более разнообразна?\n",
    "\n",
    "придумайте свои вопрос и найдите на него ответ в данных)"
   ]
  },
  {
   "cell_type": "code",
   "execution_count": 95,
   "metadata": {
    "execution": {
     "iopub.execute_input": "2021-10-05T09:41:44.284953Z",
     "iopub.status.busy": "2021-10-05T09:41:44.284440Z",
     "iopub.status.idle": "2021-10-05T09:41:45.212728Z",
     "shell.execute_reply": "2021-10-05T09:41:45.211686Z",
     "shell.execute_reply.started": "2021-10-05T09:41:44.284887Z"
    }
   },
   "outputs": [
    {
     "data": {
      "image/png": "[encoded data removed]",
      "text/plain": [
       "<Figure size 1008x720 with 2 Axes>"
      ]
     },
     "metadata": {
      "needs_background": "light"
     },
     "output_type": "display_data"
    }
   ],
   "source": [
    "# Предыдущая визуализация содержит слишком много признаков. Чтобы сделать ее читабельной, избавимся от \n",
    "# большинства колонок\n",
    "fig,ax=plt.subplots(figsize=(14,10))\n",
    "sns.heatmap(data.drop([\"sample\",'restaurant_category_average',\n",
    "       'restaurant_category_bad', 'restaurant_category_excellent',\n",
    "       'restaurant_category_good', 'restaurant_category_unknown', \n",
    "       'City_Amsterdam', 'City_Athens', 'City_Barcelona', 'City_Berlin',\n",
    "       'City_Bratislava', 'City_Brussels', 'City_Budapest', 'City_Copenhagen',\n",
    "       'City_Dublin', 'City_Edinburgh', 'City_Geneva', 'City_Hamburg',\n",
    "       'City_Helsinki', 'City_Krakow', 'City_Lisbon', 'City_Ljubljana',\n",
    "       'City_London', 'City_Luxembourg', 'City_Lyon', 'City_Madrid',\n",
    "       'City_Milan', 'City_Munich', 'City_Oporto', 'City_Oslo', 'City_Paris',\n",
    "       'City_Prague', 'City_Rome', 'City_Stockholm', 'City_Vienna',\n",
    "       'City_Warsaw', 'City_Zurich', 'City_nan'],axis=1).corr())\n",
    "plt.show()"
   ]
  },
  {
   "cell_type": "markdown",
   "metadata": {},
   "source": [
    "# Data Preprocessing\n",
    "Теперь, для удобства и воспроизводимости кода, завернем всю обработку в одну большую функцию."
   ]
  },
  {
   "cell_type": "code",
   "execution_count": 96,
   "metadata": {
    "execution": {
     "iopub.execute_input": "2021-10-05T09:41:51.178888Z",
     "iopub.status.busy": "2021-10-05T09:41:51.178479Z",
     "iopub.status.idle": "2021-10-05T09:41:51.539077Z",
     "shell.execute_reply": "2021-10-05T09:41:51.538238Z",
     "shell.execute_reply.started": "2021-10-05T09:41:51.178820Z"
    }
   },
   "outputs": [
    {
     "name": "stdout",
     "output_type": "stream",
     "text": [
      "<class 'pandas.core.frame.DataFrame'>\n",
      "RangeIndex: 50000 entries, 0 to 49999\n",
      "Data columns (total 11 columns):\n",
      "Restaurant_id        50000 non-null object\n",
      "City                 50000 non-null object\n",
      "Cuisine Style        38410 non-null object\n",
      "Ranking              50000 non-null float64\n",
      "Price Range          32639 non-null object\n",
      "Number of Reviews    46800 non-null float64\n",
      "Reviews              49998 non-null object\n",
      "URL_TA               50000 non-null object\n",
      "ID_TA                50000 non-null object\n",
      "sample               50000 non-null int64\n",
      "Rating               50000 non-null float64\n",
      "dtypes: float64(3), int64(1), object(7)\n",
      "memory usage: 4.2+ MB\n"
     ]
    }
   ],
   "source": [
    "# на всякий случай, заново подгружаем данные\n",
    "df_train = pd.read_csv(DATA_DIR+'/main_task.csv')\n",
    "df_test = pd.read_csv(DATA_DIR+'/kaggle_task.csv')\n",
    "df_train['sample'] = 1 # помечаем где у нас трейн\n",
    "df_test['sample'] = 0 # помечаем где у нас тест\n",
    "df_test['Rating'] = 0 # в тесте у нас нет значения Rating, мы его должны предсказать, по этому пока просто заполняем нулями\n",
    "\n",
    "data = df_test.append(df_train, sort=False).reset_index(drop=True) # объединяем\n",
    "data.info()"
   ]
  },
  {
   "cell_type": "code",
   "execution_count": 97,
   "metadata": {
    "execution": {
     "iopub.execute_input": "2021-10-05T09:42:01.242816Z",
     "iopub.status.busy": "2021-10-05T09:42:01.242486Z",
     "iopub.status.idle": "2021-10-05T09:42:01.269274Z",
     "shell.execute_reply": "2021-10-05T09:42:01.268454Z",
     "shell.execute_reply.started": "2021-10-05T09:42:01.242772Z"
    }
   },
   "outputs": [],
   "source": [
    "def preproc_data(df_input):\n",
    "    '''includes several functions to pre-process the predictor data.'''\n",
    "    \n",
    "    df_output = df_input.copy()\n",
    "    \n",
    "    # ################### 1. Предобработка ############################################################## \n",
    "    # убираем не нужные для модели признаки\n",
    "    df_output.drop(['ID_TA'], axis = 1, inplace=True)\n",
    "    \n",
    "    \n",
    "    # ################### 2. NAN ############################################################## \n",
    "    # Далее заполняем пропуски, вы можете попробовать заполнением средним или средним по городу и тд...\n",
    "    df_output['Number of Reviews'].fillna(0, inplace=True)\n",
    "    # тут ваш код по обработке NAN\n",
    "    df_output[\"Price Range\"]=df_output[\"Price Range\"].fillna(\"$$ - $$$\")\n",
    "    \n",
    "    # ################### 3. Encoding ############################################################## \n",
    "    # тут ваш код не Encoding фитчей\n",
    "    df_output['Number_of_Reviews_isNAN'] = pd.isna(df_output['Number of Reviews']).astype('uint8')\n",
    "    df_output[\"price_cat\"]=df_output[\"Price Range\"].apply(price_cat)\n",
    "    dict_of_cities=dict(df_output.City.value_counts())\n",
    "    df_output[\"number_of_restaurants\"]=df_output[\"City\"].apply(number_of_rest)\n",
    "    df_output[\"ranking_norm_rest\"]=df_output[\"Ranking\"]/df_output[\"number_of_restaurants\"]\n",
    "    df_output[\"number_of_citizens\"]=df_output[\"City\"].apply(number_of_cit)\n",
    "    df_output[\"ranking_norm_citizens\"]=df_output[\"Ranking\"]/df_output[\"number_of_citizens\"]\n",
    "    df_output[\"number_of_reviews_norm_citizens\"]=df_output[\"Number of Reviews\"]/df_output[\"number_of_citizens\"]\n",
    "    df_output[\"salaries\"]=df_output[\"City\"].apply(salary)\n",
    "    df_output[\"ranking_norm_salaries\"]=df_output[\"Ranking\"]/df_output[\"salaries\"]\n",
    "    \n",
    "#   я убрала взятие get_dummies на несколько шагов дальше, потому что мне нужна колонка City\n",
    "    # для One-Hot Encoding в pandas есть готовая функция - get_dummies. Особенно радует параметр dummy_na\n",
    "    df_output = pd.get_dummies(df_output, columns=[ 'City',], dummy_na=True)\n",
    "    # ....\n",
    "    \n",
    "    \n",
    "    # ################### 4. Feature Engineering ####################################################\n",
    "    # тут ваш код не генерацию новых фитчей\n",
    "    df_output[\"cuisine_style_list\"]=df_output[\"Cuisine Style\"].apply(make_list)\n",
    "    df_output[\"number_of_cuisines\"]=df_output[\"cuisine_style_list\"].apply(number_of_cuisines)\n",
    "    df_output[\"cuisine_style_list\"]=df_output[\"cuisine_style_list\"].apply(replace_spaces)\n",
    "    df_output[\"datetime\"]=df_output[\"Reviews\"].apply(to_datetime)\n",
    "    df_output[\"timedelta\"]=df_output[\"datetime\"].apply(time_delta)\n",
    "    df_output[\"last_review\"]=df_output[\"timedelta\"].apply(to_int)\n",
    "    df_output[\"last_review\"]=df_output[\"last_review\"].apply(lambda x: df_output[\"last_review\"].median() if x>4000 else x)\n",
    "    repl_df=replace_with_interval(\"last_review\",df_output)\n",
    "    df_output[\"last_review\"].fillna(repl_df,inplace=True)\n",
    "    df_output[\"time_between\"]=df_output[\"datetime\"].apply(time_between)\n",
    "    df_output[\"time_between\"]=df_output[\"time_between\"].apply(to_int)\n",
    "    df_output[\"time_between\"]=df_output[\"time_between\"].apply(lambda x: df_output[\"time_between\"].median() if x>1500 else x)\n",
    "    repl_df=replace_with_interval(\"time_between\",df_output)\n",
    "    df_output[\"time_between\"].fillna(repl_df,inplace=True)\n",
    "    df_output[\"Reviews\"]=df_output[\"Reviews\"].apply(lambda x: x.lower() if type(x)==str else np.nan)\n",
    "    df_output[\"restaurant_category\"]=df_output[\"Reviews\"].apply(assign_category)\n",
    "    df_output=pd.get_dummies(df_output,columns=[\"restaurant_category\"],dummy_na=False)\n",
    "    df_output[\"Number of Reviews\"]=df_output[\"Number of Reviews\"].apply(lambda x: df_output[\"Number of Reviews\"].median() if x>2000 else x)\n",
    "\n",
    "    df_output[\"net_size\"]=df_output[\"Restaurant_id\"].apply(size_of_net)\n",
    "    df_output[\"ranking_norm_net_size\"]=df_output[\"Ranking\"]/df_output[\"net_size\"]\n",
    "    df_output[\"number_of_reviews_norm_net_size\"]=df_output[\"Number of Reviews\"]/df_output[\"net_size\"]\n",
    "    \n",
    "    # ################### 5. Clean #################################################### \n",
    "    # убираем признаки которые еще не успели обработать, \n",
    "    # модель на признаках с dtypes \"object\" обучаться не будет, просто выберим их и удалим\n",
    "    object_columns = [s for s in df_output.columns if df_output[s].dtypes == 'object' or df_output[s].dtypes == 'timedelta64[ns]']\n",
    "    df_output.drop(object_columns, axis = 1, inplace=True)\n",
    "    \n",
    "    return df_output"
   ]
  },
  {
   "cell_type": "markdown",
   "metadata": {},
   "source": [
    ">По хорошему, можно было бы перевести эту большую функцию в класс и разбить на подфункции (согласно ООП). "
   ]
  },
  {
   "cell_type": "code",
   "execution_count": null,
   "metadata": {},
   "outputs": [],
   "source": []
  },
  {
   "cell_type": "markdown",
   "metadata": {},
   "source": [
    "#### Запускаем и проверяем что получилось"
   ]
  },
  {
   "cell_type": "code",
   "execution_count": 98,
   "metadata": {
    "execution": {
     "iopub.execute_input": "2021-10-05T09:42:10.715144Z",
     "iopub.status.busy": "2021-10-05T09:42:10.714797Z",
     "iopub.status.idle": "2021-10-05T09:42:16.528361Z",
     "shell.execute_reply": "2021-10-05T09:42:16.527524Z",
     "shell.execute_reply.started": "2021-10-05T09:42:10.715086Z"
    }
   },
   "outputs": [
    {
     "data": {
      "text/html": [
       "<div>\n",
       "<style scoped>\n",
       "    .dataframe tbody tr th:only-of-type {\n",
       "        vertical-align: middle;\n",
       "    }\n",
       "\n",
       "    .dataframe tbody tr th {\n",
       "        vertical-align: top;\n",
       "    }\n",
       "\n",
       "    .dataframe thead th {\n",
       "        text-align: right;\n",
       "    }\n",
       "</style>\n",
       "<table border=\"1\" class=\"dataframe\">\n",
       "  <thead>\n",
       "    <tr style=\"text-align: right;\">\n",
       "      <th></th>\n",
       "      <th>Ranking</th>\n",
       "      <th>Number of Reviews</th>\n",
       "      <th>sample</th>\n",
       "      <th>Rating</th>\n",
       "      <th>Number_of_Reviews_isNAN</th>\n",
       "      <th>price_cat</th>\n",
       "      <th>number_of_restaurants</th>\n",
       "      <th>ranking_norm_rest</th>\n",
       "      <th>number_of_citizens</th>\n",
       "      <th>ranking_norm_citizens</th>\n",
       "      <th>...</th>\n",
       "      <th>last_review</th>\n",
       "      <th>time_between</th>\n",
       "      <th>restaurant_category_average</th>\n",
       "      <th>restaurant_category_bad</th>\n",
       "      <th>restaurant_category_excellent</th>\n",
       "      <th>restaurant_category_good</th>\n",
       "      <th>restaurant_category_unknown</th>\n",
       "      <th>net_size</th>\n",
       "      <th>ranking_norm_net_size</th>\n",
       "      <th>number_of_reviews_norm_net_size</th>\n",
       "    </tr>\n",
       "  </thead>\n",
       "  <tbody>\n",
       "    <tr>\n",
       "      <th>3907</th>\n",
       "      <td>3865.0</td>\n",
       "      <td>11.0</td>\n",
       "      <td>0</td>\n",
       "      <td>0.0</td>\n",
       "      <td>0</td>\n",
       "      <td>2.0</td>\n",
       "      <td>2694</td>\n",
       "      <td>1.434670</td>\n",
       "      <td>1378689</td>\n",
       "      <td>0.002803</td>\n",
       "      <td>...</td>\n",
       "      <td>1439.0</td>\n",
       "      <td>30.0</td>\n",
       "      <td>0</td>\n",
       "      <td>0</td>\n",
       "      <td>0</td>\n",
       "      <td>0</td>\n",
       "      <td>1</td>\n",
       "      <td>1</td>\n",
       "      <td>3865.000000</td>\n",
       "      <td>11.000000</td>\n",
       "    </tr>\n",
       "    <tr>\n",
       "      <th>38227</th>\n",
       "      <td>1867.0</td>\n",
       "      <td>7.0</td>\n",
       "      <td>1</td>\n",
       "      <td>3.5</td>\n",
       "      <td>0</td>\n",
       "      <td>2.0</td>\n",
       "      <td>1033</td>\n",
       "      <td>1.807357</td>\n",
       "      <td>961609</td>\n",
       "      <td>0.001942</td>\n",
       "      <td>...</td>\n",
       "      <td>1789.0</td>\n",
       "      <td>131.0</td>\n",
       "      <td>0</td>\n",
       "      <td>0</td>\n",
       "      <td>0</td>\n",
       "      <td>1</td>\n",
       "      <td>0</td>\n",
       "      <td>6</td>\n",
       "      <td>311.166667</td>\n",
       "      <td>1.166667</td>\n",
       "    </tr>\n",
       "    <tr>\n",
       "      <th>9453</th>\n",
       "      <td>948.0</td>\n",
       "      <td>21.0</td>\n",
       "      <td>0</td>\n",
       "      <td>0.0</td>\n",
       "      <td>0</td>\n",
       "      <td>2.0</td>\n",
       "      <td>488</td>\n",
       "      <td>1.942623</td>\n",
       "      <td>673469</td>\n",
       "      <td>0.001408</td>\n",
       "      <td>...</td>\n",
       "      <td>1533.0</td>\n",
       "      <td>220.0</td>\n",
       "      <td>0</td>\n",
       "      <td>0</td>\n",
       "      <td>0</td>\n",
       "      <td>1</td>\n",
       "      <td>0</td>\n",
       "      <td>1</td>\n",
       "      <td>948.000000</td>\n",
       "      <td>21.000000</td>\n",
       "    </tr>\n",
       "    <tr>\n",
       "      <th>14263</th>\n",
       "      <td>1231.0</td>\n",
       "      <td>11.0</td>\n",
       "      <td>1</td>\n",
       "      <td>4.0</td>\n",
       "      <td>0</td>\n",
       "      <td>2.0</td>\n",
       "      <td>1186</td>\n",
       "      <td>1.037943</td>\n",
       "      <td>1841179</td>\n",
       "      <td>0.000669</td>\n",
       "      <td>...</td>\n",
       "      <td>1387.0</td>\n",
       "      <td>67.0</td>\n",
       "      <td>0</td>\n",
       "      <td>0</td>\n",
       "      <td>1</td>\n",
       "      <td>0</td>\n",
       "      <td>0</td>\n",
       "      <td>13</td>\n",
       "      <td>94.692308</td>\n",
       "      <td>0.846154</td>\n",
       "    </tr>\n",
       "    <tr>\n",
       "      <th>39327</th>\n",
       "      <td>1891.0</td>\n",
       "      <td>12.0</td>\n",
       "      <td>1</td>\n",
       "      <td>5.0</td>\n",
       "      <td>0</td>\n",
       "      <td>1.0</td>\n",
       "      <td>2705</td>\n",
       "      <td>0.699076</td>\n",
       "      <td>3644826</td>\n",
       "      <td>0.000519</td>\n",
       "      <td>...</td>\n",
       "      <td>1688.0</td>\n",
       "      <td>279.0</td>\n",
       "      <td>0</td>\n",
       "      <td>0</td>\n",
       "      <td>0</td>\n",
       "      <td>0</td>\n",
       "      <td>1</td>\n",
       "      <td>8</td>\n",
       "      <td>236.375000</td>\n",
       "      <td>1.500000</td>\n",
       "    </tr>\n",
       "    <tr>\n",
       "      <th>46409</th>\n",
       "      <td>2101.0</td>\n",
       "      <td>38.0</td>\n",
       "      <td>1</td>\n",
       "      <td>4.5</td>\n",
       "      <td>0</td>\n",
       "      <td>2.0</td>\n",
       "      <td>2694</td>\n",
       "      <td>0.779881</td>\n",
       "      <td>1378689</td>\n",
       "      <td>0.001524</td>\n",
       "      <td>...</td>\n",
       "      <td>1371.0</td>\n",
       "      <td>109.0</td>\n",
       "      <td>0</td>\n",
       "      <td>0</td>\n",
       "      <td>0</td>\n",
       "      <td>0</td>\n",
       "      <td>1</td>\n",
       "      <td>9</td>\n",
       "      <td>233.444444</td>\n",
       "      <td>4.222222</td>\n",
       "    </tr>\n",
       "    <tr>\n",
       "      <th>1426</th>\n",
       "      <td>1609.0</td>\n",
       "      <td>0.0</td>\n",
       "      <td>0</td>\n",
       "      <td>0.0</td>\n",
       "      <td>0</td>\n",
       "      <td>2.0</td>\n",
       "      <td>836</td>\n",
       "      <td>1.924641</td>\n",
       "      <td>1173179</td>\n",
       "      <td>0.001371</td>\n",
       "      <td>...</td>\n",
       "      <td>2784.0</td>\n",
       "      <td>29.0</td>\n",
       "      <td>0</td>\n",
       "      <td>0</td>\n",
       "      <td>0</td>\n",
       "      <td>0</td>\n",
       "      <td>1</td>\n",
       "      <td>11</td>\n",
       "      <td>146.272727</td>\n",
       "      <td>0.000000</td>\n",
       "    </tr>\n",
       "    <tr>\n",
       "      <th>13529</th>\n",
       "      <td>4971.0</td>\n",
       "      <td>5.0</td>\n",
       "      <td>1</td>\n",
       "      <td>4.5</td>\n",
       "      <td>0</td>\n",
       "      <td>2.0</td>\n",
       "      <td>3813</td>\n",
       "      <td>1.303698</td>\n",
       "      <td>3266126</td>\n",
       "      <td>0.001522</td>\n",
       "      <td>...</td>\n",
       "      <td>1374.0</td>\n",
       "      <td>42.0</td>\n",
       "      <td>0</td>\n",
       "      <td>0</td>\n",
       "      <td>0</td>\n",
       "      <td>0</td>\n",
       "      <td>1</td>\n",
       "      <td>4</td>\n",
       "      <td>1242.750000</td>\n",
       "      <td>1.250000</td>\n",
       "    </tr>\n",
       "    <tr>\n",
       "      <th>43722</th>\n",
       "      <td>3517.0</td>\n",
       "      <td>67.0</td>\n",
       "      <td>1</td>\n",
       "      <td>3.0</td>\n",
       "      <td>0</td>\n",
       "      <td>2.0</td>\n",
       "      <td>1647</td>\n",
       "      <td>2.135398</td>\n",
       "      <td>505526</td>\n",
       "      <td>0.006957</td>\n",
       "      <td>...</td>\n",
       "      <td>1417.0</td>\n",
       "      <td>180.0</td>\n",
       "      <td>0</td>\n",
       "      <td>0</td>\n",
       "      <td>0</td>\n",
       "      <td>0</td>\n",
       "      <td>1</td>\n",
       "      <td>5</td>\n",
       "      <td>703.400000</td>\n",
       "      <td>13.400000</td>\n",
       "    </tr>\n",
       "    <tr>\n",
       "      <th>6917</th>\n",
       "      <td>324.0</td>\n",
       "      <td>645.0</td>\n",
       "      <td>0</td>\n",
       "      <td>0.0</td>\n",
       "      <td>0</td>\n",
       "      <td>1.0</td>\n",
       "      <td>1021</td>\n",
       "      <td>0.317336</td>\n",
       "      <td>1752286</td>\n",
       "      <td>0.000185</td>\n",
       "      <td>...</td>\n",
       "      <td>1420.0</td>\n",
       "      <td>53.0</td>\n",
       "      <td>0</td>\n",
       "      <td>0</td>\n",
       "      <td>0</td>\n",
       "      <td>0</td>\n",
       "      <td>1</td>\n",
       "      <td>2</td>\n",
       "      <td>162.000000</td>\n",
       "      <td>322.500000</td>\n",
       "    </tr>\n",
       "  </tbody>\n",
       "</table>\n",
       "<p>10 rows × 56 columns</p>\n",
       "</div>"
      ],
      "text/plain": [
       "       Ranking  Number of Reviews  sample  Rating  Number_of_Reviews_isNAN  \\\n",
       "3907    3865.0               11.0       0     0.0                        0   \n",
       "38227   1867.0                7.0       1     3.5                        0   \n",
       "9453     948.0               21.0       0     0.0                        0   \n",
       "14263   1231.0               11.0       1     4.0                        0   \n",
       "39327   1891.0               12.0       1     5.0                        0   \n",
       "46409   2101.0               38.0       1     4.5                        0   \n",
       "1426    1609.0                0.0       0     0.0                        0   \n",
       "13529   4971.0                5.0       1     4.5                        0   \n",
       "43722   3517.0               67.0       1     3.0                        0   \n",
       "6917     324.0              645.0       0     0.0                        0   \n",
       "\n",
       "       price_cat  number_of_restaurants  ranking_norm_rest  \\\n",
       "3907         2.0                   2694           1.434670   \n",
       "38227        2.0                   1033           1.807357   \n",
       "9453         2.0                    488           1.942623   \n",
       "14263        2.0                   1186           1.037943   \n",
       "39327        1.0                   2705           0.699076   \n",
       "46409        2.0                   2694           0.779881   \n",
       "1426         2.0                    836           1.924641   \n",
       "13529        2.0                   3813           1.303698   \n",
       "43722        2.0                   1647           2.135398   \n",
       "6917         1.0                   1021           0.317336   \n",
       "\n",
       "       number_of_citizens  ranking_norm_citizens  ...  last_review  \\\n",
       "3907              1378689               0.002803  ...       1439.0   \n",
       "38227              961609               0.001942  ...       1789.0   \n",
       "9453               673469               0.001408  ...       1533.0   \n",
       "14263             1841179               0.000669  ...       1387.0   \n",
       "39327             3644826               0.000519  ...       1688.0   \n",
       "46409             1378689               0.001524  ...       1371.0   \n",
       "1426              1173179               0.001371  ...       2784.0   \n",
       "13529             3266126               0.001522  ...       1374.0   \n",
       "43722              505526               0.006957  ...       1417.0   \n",
       "6917              1752286               0.000185  ...       1420.0   \n",
       "\n",
       "       time_between  restaurant_category_average  restaurant_category_bad  \\\n",
       "3907           30.0                            0                        0   \n",
       "38227         131.0                            0                        0   \n",
       "9453          220.0                            0                        0   \n",
       "14263          67.0                            0                        0   \n",
       "39327         279.0                            0                        0   \n",
       "46409         109.0                            0                        0   \n",
       "1426           29.0                            0                        0   \n",
       "13529          42.0                            0                        0   \n",
       "43722         180.0                            0                        0   \n",
       "6917           53.0                            0                        0   \n",
       "\n",
       "       restaurant_category_excellent  restaurant_category_good  \\\n",
       "3907                               0                         0   \n",
       "38227                              0                         1   \n",
       "9453                               0                         1   \n",
       "14263                              1                         0   \n",
       "39327                              0                         0   \n",
       "46409                              0                         0   \n",
       "1426                               0                         0   \n",
       "13529                              0                         0   \n",
       "43722                              0                         0   \n",
       "6917                               0                         0   \n",
       "\n",
       "       restaurant_category_unknown  net_size  ranking_norm_net_size  \\\n",
       "3907                             1         1            3865.000000   \n",
       "38227                            0         6             311.166667   \n",
       "9453                             0         1             948.000000   \n",
       "14263                            0        13              94.692308   \n",
       "39327                            1         8             236.375000   \n",
       "46409                            1         9             233.444444   \n",
       "1426                             1        11             146.272727   \n",
       "13529                            1         4            1242.750000   \n",
       "43722                            1         5             703.400000   \n",
       "6917                             1         2             162.000000   \n",
       "\n",
       "       number_of_reviews_norm_net_size  \n",
       "3907                         11.000000  \n",
       "38227                         1.166667  \n",
       "9453                         21.000000  \n",
       "14263                         0.846154  \n",
       "39327                         1.500000  \n",
       "46409                         4.222222  \n",
       "1426                          0.000000  \n",
       "13529                         1.250000  \n",
       "43722                        13.400000  \n",
       "6917                        322.500000  \n",
       "\n",
       "[10 rows x 56 columns]"
      ]
     },
     "execution_count": 98,
     "metadata": {},
     "output_type": "execute_result"
    }
   ],
   "source": [
    "df_preproc = preproc_data(data)\n",
    "df_preproc.sample(10)"
   ]
  },
  {
   "cell_type": "code",
   "execution_count": 99,
   "metadata": {
    "execution": {
     "iopub.execute_input": "2021-10-03T12:15:07.443542Z",
     "iopub.status.busy": "2021-10-03T12:15:07.443139Z",
     "iopub.status.idle": "2021-10-03T12:15:07.468723Z",
     "shell.execute_reply": "2021-10-03T12:15:07.467676Z",
     "shell.execute_reply.started": "2021-10-03T12:15:07.443479Z"
    }
   },
   "outputs": [
    {
     "name": "stdout",
     "output_type": "stream",
     "text": [
      "<class 'pandas.core.frame.DataFrame'>\n",
      "RangeIndex: 50000 entries, 0 to 49999\n",
      "Data columns (total 56 columns):\n",
      "Ranking                            50000 non-null float64\n",
      "Number of Reviews                  50000 non-null float64\n",
      "sample                             50000 non-null int64\n",
      "Rating                             50000 non-null float64\n",
      "Number_of_Reviews_isNAN            50000 non-null uint8\n",
      "price_cat                          50000 non-null float64\n",
      "number_of_restaurants              50000 non-null int64\n",
      "ranking_norm_rest                  50000 non-null float64\n",
      "number_of_citizens                 50000 non-null int64\n",
      "ranking_norm_citizens              50000 non-null float64\n",
      "number_of_reviews_norm_citizens    50000 non-null float64\n",
      "salaries                           50000 non-null int64\n",
      "ranking_norm_salaries              50000 non-null float64\n",
      "City_Amsterdam                     50000 non-null uint8\n",
      "City_Athens                        50000 non-null uint8\n",
      "City_Barcelona                     50000 non-null uint8\n",
      "City_Berlin                        50000 non-null uint8\n",
      "City_Bratislava                    50000 non-null uint8\n",
      "City_Brussels                      50000 non-null uint8\n",
      "City_Budapest                      50000 non-null uint8\n",
      "City_Copenhagen                    50000 non-null uint8\n",
      "City_Dublin                        50000 non-null uint8\n",
      "City_Edinburgh                     50000 non-null uint8\n",
      "City_Geneva                        50000 non-null uint8\n",
      "City_Hamburg                       50000 non-null uint8\n",
      "City_Helsinki                      50000 non-null uint8\n",
      "City_Krakow                        50000 non-null uint8\n",
      "City_Lisbon                        50000 non-null uint8\n",
      "City_Ljubljana                     50000 non-null uint8\n",
      "City_London                        50000 non-null uint8\n",
      "City_Luxembourg                    50000 non-null uint8\n",
      "City_Lyon                          50000 non-null uint8\n",
      "City_Madrid                        50000 non-null uint8\n",
      "City_Milan                         50000 non-null uint8\n",
      "City_Munich                        50000 non-null uint8\n",
      "City_Oporto                        50000 non-null uint8\n",
      "City_Oslo                          50000 non-null uint8\n",
      "City_Paris                         50000 non-null uint8\n",
      "City_Prague                        50000 non-null uint8\n",
      "City_Rome                          50000 non-null uint8\n",
      "City_Stockholm                     50000 non-null uint8\n",
      "City_Vienna                        50000 non-null uint8\n",
      "City_Warsaw                        50000 non-null uint8\n",
      "City_Zurich                        50000 non-null uint8\n",
      "City_nan                           50000 non-null uint8\n",
      "number_of_cuisines                 50000 non-null int64\n",
      "last_review                        50000 non-null float64\n",
      "time_between                       50000 non-null float64\n",
      "restaurant_category_average        50000 non-null uint8\n",
      "restaurant_category_bad            50000 non-null uint8\n",
      "restaurant_category_excellent      50000 non-null uint8\n",
      "restaurant_category_good           50000 non-null uint8\n",
      "restaurant_category_unknown        50000 non-null uint8\n",
      "net_size                           50000 non-null int64\n",
      "ranking_norm_net_size              50000 non-null float64\n",
      "number_of_reviews_norm_net_size    50000 non-null float64\n",
      "dtypes: float64(12), int64(6), uint8(38)\n",
      "memory usage: 8.7 MB\n"
     ]
    }
   ],
   "source": [
    "df_preproc.info()"
   ]
  },
  {
   "cell_type": "code",
   "execution_count": 100,
   "metadata": {
    "execution": {
     "iopub.execute_input": "2021-10-05T09:42:24.749299Z",
     "iopub.status.busy": "2021-10-05T09:42:24.748976Z",
     "iopub.status.idle": "2021-10-05T09:42:24.784631Z",
     "shell.execute_reply": "2021-10-05T09:42:24.783913Z",
     "shell.execute_reply.started": "2021-10-05T09:42:24.749253Z"
    }
   },
   "outputs": [],
   "source": [
    "# Теперь выделим тестовую часть\n",
    "train_data = df_preproc.query('sample == 1').drop(['sample'], axis=1)\n",
    "test_data = df_preproc.query('sample == 0').drop(['sample'], axis=1)\n",
    "\n",
    "y = train_data.Rating.values            # наш таргет\n",
    "X = train_data.drop(['Rating'], axis=1)"
   ]
  },
  {
   "cell_type": "markdown",
   "metadata": {},
   "source": [
    "**Перед тем как отправлять наши данные на обучение, разделим данные на еще один тест и трейн, для валидации. \n",
    "Это поможет нам проверить, как хорошо наша модель работает, до отправки submissiona на kaggle.**"
   ]
  },
  {
   "cell_type": "code",
   "execution_count": 101,
   "metadata": {
    "execution": {
     "iopub.execute_input": "2021-10-05T09:42:29.358282Z",
     "iopub.status.busy": "2021-10-05T09:42:29.357906Z",
     "iopub.status.idle": "2021-10-05T09:42:29.375570Z",
     "shell.execute_reply": "2021-10-05T09:42:29.374852Z",
     "shell.execute_reply.started": "2021-10-05T09:42:29.358226Z"
    }
   },
   "outputs": [],
   "source": [
    "# Воспользуемся специальной функцие train_test_split для разбивки тестовых данных\n",
    "# выделим 20% данных на валидацию (параметр test_size)\n",
    "X_train, X_test, y_train, y_test = train_test_split(X, y, test_size=0.2, random_state=RANDOM_SEED)"
   ]
  },
  {
   "cell_type": "code",
   "execution_count": 102,
   "metadata": {
    "execution": {
     "iopub.execute_input": "2021-10-04T13:08:05.09283Z",
     "iopub.status.busy": "2021-10-04T13:08:05.092412Z",
     "iopub.status.idle": "2021-10-04T13:08:05.100351Z",
     "shell.execute_reply": "2021-10-04T13:08:05.099499Z",
     "shell.execute_reply.started": "2021-10-04T13:08:05.092766Z"
    }
   },
   "outputs": [
    {
     "data": {
      "text/plain": [
       "((10000, 55), (40000, 55), (40000, 54), (32000, 54), (8000, 54))"
      ]
     },
     "execution_count": 102,
     "metadata": {},
     "output_type": "execute_result"
    }
   ],
   "source": [
    "# проверяем\n",
    "test_data.shape, train_data.shape, X.shape, X_train.shape, X_test.shape"
   ]
  },
  {
   "cell_type": "markdown",
   "metadata": {},
   "source": [
    "# Model \n",
    "Сам ML"
   ]
  },
  {
   "cell_type": "code",
   "execution_count": 103,
   "metadata": {
    "execution": {
     "iopub.execute_input": "2021-10-05T09:42:34.298416Z",
     "iopub.status.busy": "2021-10-05T09:42:34.298053Z",
     "iopub.status.idle": "2021-10-05T09:42:34.460982Z",
     "shell.execute_reply": "2021-10-05T09:42:34.460209Z",
     "shell.execute_reply.started": "2021-10-05T09:42:34.298356Z"
    }
   },
   "outputs": [],
   "source": [
    "# Импортируем необходимые библиотеки:\n",
    "from sklearn.ensemble import RandomForestRegressor # инструмент для создания и обучения модели\n",
    "from sklearn import metrics # инструменты для оценки точности модели"
   ]
  },
  {
   "cell_type": "code",
   "execution_count": 104,
   "metadata": {
    "execution": {
     "iopub.execute_input": "2021-10-05T09:42:37.765956Z",
     "iopub.status.busy": "2021-10-05T09:42:37.765621Z",
     "iopub.status.idle": "2021-10-05T09:42:37.770682Z",
     "shell.execute_reply": "2021-10-05T09:42:37.769606Z",
     "shell.execute_reply.started": "2021-10-05T09:42:37.765909Z"
    }
   },
   "outputs": [],
   "source": [
    "# Создаём модель (НАСТРОЙКИ НЕ ТРОГАЕМ)\n",
    "model = RandomForestRegressor(n_estimators=100, verbose=1, n_jobs=-1, random_state=RANDOM_SEED)"
   ]
  },
  {
   "cell_type": "code",
   "execution_count": 105,
   "metadata": {
    "execution": {
     "iopub.execute_input": "2021-10-05T09:42:44.255119Z",
     "iopub.status.busy": "2021-10-05T09:42:44.254623Z",
     "iopub.status.idle": "2021-10-05T09:42:59.975714Z",
     "shell.execute_reply": "2021-10-05T09:42:59.974878Z",
     "shell.execute_reply.started": "2021-10-05T09:42:44.255074Z"
    }
   },
   "outputs": [
    {
     "name": "stderr",
     "output_type": "stream",
     "text": [
      "[Parallel(n_jobs=-1)]: Using backend ThreadingBackend with 4 concurrent workers.\n",
      "[Parallel(n_jobs=-1)]: Done  42 tasks      | elapsed:    7.1s\n",
      "[Parallel(n_jobs=-1)]: Done 100 out of 100 | elapsed:   15.9s finished\n",
      "[Parallel(n_jobs=4)]: Using backend ThreadingBackend with 4 concurrent workers.\n",
      "[Parallel(n_jobs=4)]: Done  42 tasks      | elapsed:    0.0s\n",
      "[Parallel(n_jobs=4)]: Done 100 out of 100 | elapsed:    0.1s finished\n"
     ]
    }
   ],
   "source": [
    "# Обучаем модель на тестовом наборе данных\n",
    "model.fit(X_train, y_train)\n",
    "\n",
    "# Используем обученную модель для предсказания рейтинга ресторанов в тестовой выборке.\n",
    "# Предсказанные значения записываем в переменную y_pred\n",
    "y_pred = model.predict(X_test)"
   ]
  },
  {
   "cell_type": "code",
   "execution_count": 106,
   "metadata": {
    "execution": {
     "iopub.execute_input": "2021-10-05T09:43:04.970240Z",
     "iopub.status.busy": "2021-10-05T09:43:04.969931Z",
     "iopub.status.idle": "2021-10-05T09:43:04.977452Z",
     "shell.execute_reply": "2021-10-05T09:43:04.976324Z",
     "shell.execute_reply.started": "2021-10-05T09:43:04.970201Z"
    }
   },
   "outputs": [
    {
     "name": "stdout",
     "output_type": "stream",
     "text": [
      "MAE: 0.203048125\n"
     ]
    }
   ],
   "source": [
    "# Сравниваем предсказанные значения (y_pred) с реальными (y_test), и смотрим насколько они в среднем отличаются\n",
    "# Метрика называется Mean Absolute Error (MAE) и показывает среднее отклонение предсказанных значений от фактических.\n",
    "print('MAE:', metrics.mean_absolute_error(y_test, y_pred))"
   ]
  },
  {
   "cell_type": "code",
   "execution_count": 107,
   "metadata": {
    "execution": {
     "iopub.execute_input": "2021-10-05T09:43:15.934650Z",
     "iopub.status.busy": "2021-10-05T09:43:15.934339Z",
     "iopub.status.idle": "2021-10-05T09:43:16.420721Z",
     "shell.execute_reply": "2021-10-05T09:43:16.419220Z",
     "shell.execute_reply.started": "2021-10-05T09:43:15.934611Z"
    }
   },
   "outputs": [
    {
     "data": {
      "text/plain": [
       "<matplotlib.axes._subplots.AxesSubplot at 0x7fa7e5d715f8>"
      ]
     },
     "execution_count": 107,
     "metadata": {},
     "output_type": "execute_result"
    },
    {
     "data": {
      "image/png": "[encoded data removed]",
      "text/plain": [
       "<Figure size 720x720 with 1 Axes>"
      ]
     },
     "metadata": {
      "needs_background": "light"
     },
     "output_type": "display_data"
    }
   ],
   "source": [
    "# в RandomForestRegressor есть возможность вывести самые важные признаки для модели\n",
    "plt.rcParams['figure.figsize'] = (10,10)\n",
    "feat_importances = pd.Series(model.feature_importances_, index=X.columns)\n",
    "feat_importances.nlargest(15).plot(kind='barh')"
   ]
  },
  {
   "cell_type": "markdown",
   "metadata": {},
   "source": [
    "**Выводы:**\n",
    "1. В датасет были внесены дополнительно 15 числовых признаков, не считая тех, которые были получены в результате применения метода get_dummies. Были внесены следующие признаки: 'Number_of_Reviews_isNAN', 'price_cat', 'number_of_restaurants', 'ranking_norm_rest', 'number_of_citizens', 'ranking_norm_citizens', 'number_of_reviews_norm_citizens', 'salaries','ranking_norm_salaries', \n",
    "'number_of_cuisines', 'last_review', 'time_between', 'net_size', 'ranking_norm_net_size', 'number_of_reviews_norm_net_size'. Самым важным из них при обучении модели оказался признак 'ranking_norm_rest'. Этот признак показывается ранг ресторана, нормированный на число ресторанов в данном городе.\n",
    "2. При анализе новых количественных признаков применялись методы работы с выбросами и визуализация. Часто новые признаки содержали много пропусков. Заполнение их проводилось либо медианой, либо случайными значениями из уже имеющихся.\n",
    "3. Дважды был применен метод get_dummies (к колонке City и колонке restaurant_category). Это увеличило общее число количественных признаков до 55.\n",
    "4. Для Feature Engeneering использовались внешние источники данных (Википедия).\n",
    "5. Расширение числа количественных признаков позволило получить значение метрики MAE, равное 0.2028."
   ]
  },
  {
   "cell_type": "markdown",
   "metadata": {},
   "source": [
    "# Submission\n",
    "Если все устраевает - готовим Submission на кагл"
   ]
  },
  {
   "cell_type": "code",
   "execution_count": 108,
   "metadata": {
    "execution": {
     "iopub.execute_input": "2021-10-04T13:09:18.607804Z",
     "iopub.status.busy": "2021-10-04T13:09:18.607415Z",
     "iopub.status.idle": "2021-10-04T13:09:18.650405Z",
     "shell.execute_reply": "2021-10-04T13:09:18.649645Z",
     "shell.execute_reply.started": "2021-10-04T13:09:18.607751Z"
    }
   },
   "outputs": [
    {
     "data": {
      "text/html": [
       "<div>\n",
       "<style scoped>\n",
       "    .dataframe tbody tr th:only-of-type {\n",
       "        vertical-align: middle;\n",
       "    }\n",
       "\n",
       "    .dataframe tbody tr th {\n",
       "        vertical-align: top;\n",
       "    }\n",
       "\n",
       "    .dataframe thead th {\n",
       "        text-align: right;\n",
       "    }\n",
       "</style>\n",
       "<table border=\"1\" class=\"dataframe\">\n",
       "  <thead>\n",
       "    <tr style=\"text-align: right;\">\n",
       "      <th></th>\n",
       "      <th>Ranking</th>\n",
       "      <th>Number of Reviews</th>\n",
       "      <th>Rating</th>\n",
       "      <th>Number_of_Reviews_isNAN</th>\n",
       "      <th>price_cat</th>\n",
       "      <th>number_of_restaurants</th>\n",
       "      <th>ranking_norm_rest</th>\n",
       "      <th>number_of_citizens</th>\n",
       "      <th>ranking_norm_citizens</th>\n",
       "      <th>number_of_reviews_norm_citizens</th>\n",
       "      <th>...</th>\n",
       "      <th>last_review</th>\n",
       "      <th>time_between</th>\n",
       "      <th>restaurant_category_average</th>\n",
       "      <th>restaurant_category_bad</th>\n",
       "      <th>restaurant_category_excellent</th>\n",
       "      <th>restaurant_category_good</th>\n",
       "      <th>restaurant_category_unknown</th>\n",
       "      <th>net_size</th>\n",
       "      <th>ranking_norm_net_size</th>\n",
       "      <th>number_of_reviews_norm_net_size</th>\n",
       "    </tr>\n",
       "  </thead>\n",
       "  <tbody>\n",
       "    <tr>\n",
       "      <th>8899</th>\n",
       "      <td>4988.0</td>\n",
       "      <td>54.0</td>\n",
       "      <td>0.0</td>\n",
       "      <td>0</td>\n",
       "      <td>3.0</td>\n",
       "      <td>6108</td>\n",
       "      <td>0.816634</td>\n",
       "      <td>2148327</td>\n",
       "      <td>0.002322</td>\n",
       "      <td>0.000025</td>\n",
       "      <td>...</td>\n",
       "      <td>1490.0</td>\n",
       "      <td>70.0</td>\n",
       "      <td>0</td>\n",
       "      <td>0</td>\n",
       "      <td>0</td>\n",
       "      <td>1</td>\n",
       "      <td>0</td>\n",
       "      <td>3</td>\n",
       "      <td>1662.666667</td>\n",
       "      <td>18.000000</td>\n",
       "    </tr>\n",
       "    <tr>\n",
       "      <th>9707</th>\n",
       "      <td>1456.0</td>\n",
       "      <td>859.0</td>\n",
       "      <td>0.0</td>\n",
       "      <td>0</td>\n",
       "      <td>2.0</td>\n",
       "      <td>2694</td>\n",
       "      <td>0.540460</td>\n",
       "      <td>1378689</td>\n",
       "      <td>0.001056</td>\n",
       "      <td>0.000623</td>\n",
       "      <td>...</td>\n",
       "      <td>1524.0</td>\n",
       "      <td>94.0</td>\n",
       "      <td>0</td>\n",
       "      <td>0</td>\n",
       "      <td>1</td>\n",
       "      <td>0</td>\n",
       "      <td>0</td>\n",
       "      <td>2</td>\n",
       "      <td>728.000000</td>\n",
       "      <td>429.500000</td>\n",
       "    </tr>\n",
       "    <tr>\n",
       "      <th>1676</th>\n",
       "      <td>3505.0</td>\n",
       "      <td>27.0</td>\n",
       "      <td>0.0</td>\n",
       "      <td>0</td>\n",
       "      <td>1.0</td>\n",
       "      <td>3395</td>\n",
       "      <td>1.032401</td>\n",
       "      <td>1664182</td>\n",
       "      <td>0.002106</td>\n",
       "      <td>0.000016</td>\n",
       "      <td>...</td>\n",
       "      <td>1843.0</td>\n",
       "      <td>124.0</td>\n",
       "      <td>0</td>\n",
       "      <td>0</td>\n",
       "      <td>1</td>\n",
       "      <td>0</td>\n",
       "      <td>0</td>\n",
       "      <td>4</td>\n",
       "      <td>876.250000</td>\n",
       "      <td>6.750000</td>\n",
       "    </tr>\n",
       "    <tr>\n",
       "      <th>5239</th>\n",
       "      <td>1097.0</td>\n",
       "      <td>0.0</td>\n",
       "      <td>0.0</td>\n",
       "      <td>0</td>\n",
       "      <td>2.0</td>\n",
       "      <td>776</td>\n",
       "      <td>1.413660</td>\n",
       "      <td>664046</td>\n",
       "      <td>0.001652</td>\n",
       "      <td>0.000000</td>\n",
       "      <td>...</td>\n",
       "      <td>1376.0</td>\n",
       "      <td>53.0</td>\n",
       "      <td>0</td>\n",
       "      <td>0</td>\n",
       "      <td>0</td>\n",
       "      <td>0</td>\n",
       "      <td>1</td>\n",
       "      <td>2</td>\n",
       "      <td>548.500000</td>\n",
       "      <td>0.000000</td>\n",
       "    </tr>\n",
       "    <tr>\n",
       "      <th>6631</th>\n",
       "      <td>2072.0</td>\n",
       "      <td>0.0</td>\n",
       "      <td>0.0</td>\n",
       "      <td>0</td>\n",
       "      <td>2.0</td>\n",
       "      <td>1186</td>\n",
       "      <td>1.747049</td>\n",
       "      <td>1841179</td>\n",
       "      <td>0.001125</td>\n",
       "      <td>0.000000</td>\n",
       "      <td>...</td>\n",
       "      <td>1983.0</td>\n",
       "      <td>152.0</td>\n",
       "      <td>0</td>\n",
       "      <td>0</td>\n",
       "      <td>0</td>\n",
       "      <td>0</td>\n",
       "      <td>1</td>\n",
       "      <td>1</td>\n",
       "      <td>2072.000000</td>\n",
       "      <td>0.000000</td>\n",
       "    </tr>\n",
       "    <tr>\n",
       "      <th>2735</th>\n",
       "      <td>3202.0</td>\n",
       "      <td>40.0</td>\n",
       "      <td>0.0</td>\n",
       "      <td>0</td>\n",
       "      <td>2.0</td>\n",
       "      <td>3395</td>\n",
       "      <td>0.943152</td>\n",
       "      <td>1664182</td>\n",
       "      <td>0.001924</td>\n",
       "      <td>0.000024</td>\n",
       "      <td>...</td>\n",
       "      <td>1660.0</td>\n",
       "      <td>135.0</td>\n",
       "      <td>0</td>\n",
       "      <td>0</td>\n",
       "      <td>1</td>\n",
       "      <td>0</td>\n",
       "      <td>0</td>\n",
       "      <td>6</td>\n",
       "      <td>533.666667</td>\n",
       "      <td>6.666667</td>\n",
       "    </tr>\n",
       "    <tr>\n",
       "      <th>8494</th>\n",
       "      <td>6028.0</td>\n",
       "      <td>3.0</td>\n",
       "      <td>0.0</td>\n",
       "      <td>0</td>\n",
       "      <td>2.0</td>\n",
       "      <td>3395</td>\n",
       "      <td>1.775552</td>\n",
       "      <td>1664182</td>\n",
       "      <td>0.003622</td>\n",
       "      <td>0.000002</td>\n",
       "      <td>...</td>\n",
       "      <td>1549.0</td>\n",
       "      <td>168.0</td>\n",
       "      <td>0</td>\n",
       "      <td>0</td>\n",
       "      <td>1</td>\n",
       "      <td>0</td>\n",
       "      <td>0</td>\n",
       "      <td>2</td>\n",
       "      <td>3014.000000</td>\n",
       "      <td>1.500000</td>\n",
       "    </tr>\n",
       "    <tr>\n",
       "      <th>3477</th>\n",
       "      <td>10293.0</td>\n",
       "      <td>10.0</td>\n",
       "      <td>0.0</td>\n",
       "      <td>0</td>\n",
       "      <td>2.0</td>\n",
       "      <td>6108</td>\n",
       "      <td>1.685167</td>\n",
       "      <td>2148327</td>\n",
       "      <td>0.004791</td>\n",
       "      <td>0.000005</td>\n",
       "      <td>...</td>\n",
       "      <td>1553.0</td>\n",
       "      <td>335.0</td>\n",
       "      <td>0</td>\n",
       "      <td>0</td>\n",
       "      <td>0</td>\n",
       "      <td>0</td>\n",
       "      <td>1</td>\n",
       "      <td>5</td>\n",
       "      <td>2058.600000</td>\n",
       "      <td>2.000000</td>\n",
       "    </tr>\n",
       "    <tr>\n",
       "      <th>3182</th>\n",
       "      <td>11248.0</td>\n",
       "      <td>39.0</td>\n",
       "      <td>0.0</td>\n",
       "      <td>0</td>\n",
       "      <td>2.0</td>\n",
       "      <td>6108</td>\n",
       "      <td>1.841519</td>\n",
       "      <td>2148327</td>\n",
       "      <td>0.005236</td>\n",
       "      <td>0.000018</td>\n",
       "      <td>...</td>\n",
       "      <td>1452.0</td>\n",
       "      <td>386.0</td>\n",
       "      <td>0</td>\n",
       "      <td>0</td>\n",
       "      <td>1</td>\n",
       "      <td>0</td>\n",
       "      <td>0</td>\n",
       "      <td>4</td>\n",
       "      <td>2812.000000</td>\n",
       "      <td>9.750000</td>\n",
       "    </tr>\n",
       "    <tr>\n",
       "      <th>2066</th>\n",
       "      <td>4745.0</td>\n",
       "      <td>289.0</td>\n",
       "      <td>0.0</td>\n",
       "      <td>0</td>\n",
       "      <td>2.0</td>\n",
       "      <td>3395</td>\n",
       "      <td>1.397644</td>\n",
       "      <td>1664182</td>\n",
       "      <td>0.002851</td>\n",
       "      <td>0.000174</td>\n",
       "      <td>...</td>\n",
       "      <td>1416.0</td>\n",
       "      <td>4.0</td>\n",
       "      <td>0</td>\n",
       "      <td>0</td>\n",
       "      <td>0</td>\n",
       "      <td>0</td>\n",
       "      <td>1</td>\n",
       "      <td>6</td>\n",
       "      <td>790.833333</td>\n",
       "      <td>48.166667</td>\n",
       "    </tr>\n",
       "  </tbody>\n",
       "</table>\n",
       "<p>10 rows × 55 columns</p>\n",
       "</div>"
      ],
      "text/plain": [
       "      Ranking  Number of Reviews  Rating  Number_of_Reviews_isNAN  price_cat  \\\n",
       "8899   4988.0               54.0     0.0                        0        3.0   \n",
       "9707   1456.0              859.0     0.0                        0        2.0   \n",
       "1676   3505.0               27.0     0.0                        0        1.0   \n",
       "5239   1097.0                0.0     0.0                        0        2.0   \n",
       "6631   2072.0                0.0     0.0                        0        2.0   \n",
       "2735   3202.0               40.0     0.0                        0        2.0   \n",
       "8494   6028.0                3.0     0.0                        0        2.0   \n",
       "3477  10293.0               10.0     0.0                        0        2.0   \n",
       "3182  11248.0               39.0     0.0                        0        2.0   \n",
       "2066   4745.0              289.0     0.0                        0        2.0   \n",
       "\n",
       "      number_of_restaurants  ranking_norm_rest  number_of_citizens  \\\n",
       "8899                   6108           0.816634             2148327   \n",
       "9707                   2694           0.540460             1378689   \n",
       "1676                   3395           1.032401             1664182   \n",
       "5239                    776           1.413660              664046   \n",
       "6631                   1186           1.747049             1841179   \n",
       "2735                   3395           0.943152             1664182   \n",
       "8494                   3395           1.775552             1664182   \n",
       "3477                   6108           1.685167             2148327   \n",
       "3182                   6108           1.841519             2148327   \n",
       "2066                   3395           1.397644             1664182   \n",
       "\n",
       "      ranking_norm_citizens  number_of_reviews_norm_citizens  ...  \\\n",
       "8899               0.002322                         0.000025  ...   \n",
       "9707               0.001056                         0.000623  ...   \n",
       "1676               0.002106                         0.000016  ...   \n",
       "5239               0.001652                         0.000000  ...   \n",
       "6631               0.001125                         0.000000  ...   \n",
       "2735               0.001924                         0.000024  ...   \n",
       "8494               0.003622                         0.000002  ...   \n",
       "3477               0.004791                         0.000005  ...   \n",
       "3182               0.005236                         0.000018  ...   \n",
       "2066               0.002851                         0.000174  ...   \n",
       "\n",
       "      last_review  time_between  restaurant_category_average  \\\n",
       "8899       1490.0          70.0                            0   \n",
       "9707       1524.0          94.0                            0   \n",
       "1676       1843.0         124.0                            0   \n",
       "5239       1376.0          53.0                            0   \n",
       "6631       1983.0         152.0                            0   \n",
       "2735       1660.0         135.0                            0   \n",
       "8494       1549.0         168.0                            0   \n",
       "3477       1553.0         335.0                            0   \n",
       "3182       1452.0         386.0                            0   \n",
       "2066       1416.0           4.0                            0   \n",
       "\n",
       "      restaurant_category_bad  restaurant_category_excellent  \\\n",
       "8899                        0                              0   \n",
       "9707                        0                              1   \n",
       "1676                        0                              1   \n",
       "5239                        0                              0   \n",
       "6631                        0                              0   \n",
       "2735                        0                              1   \n",
       "8494                        0                              1   \n",
       "3477                        0                              0   \n",
       "3182                        0                              1   \n",
       "2066                        0                              0   \n",
       "\n",
       "      restaurant_category_good  restaurant_category_unknown  net_size  \\\n",
       "8899                         1                            0         3   \n",
       "9707                         0                            0         2   \n",
       "1676                         0                            0         4   \n",
       "5239                         0                            1         2   \n",
       "6631                         0                            1         1   \n",
       "2735                         0                            0         6   \n",
       "8494                         0                            0         2   \n",
       "3477                         0                            1         5   \n",
       "3182                         0                            0         4   \n",
       "2066                         0                            1         6   \n",
       "\n",
       "      ranking_norm_net_size  number_of_reviews_norm_net_size  \n",
       "8899            1662.666667                        18.000000  \n",
       "9707             728.000000                       429.500000  \n",
       "1676             876.250000                         6.750000  \n",
       "5239             548.500000                         0.000000  \n",
       "6631            2072.000000                         0.000000  \n",
       "2735             533.666667                         6.666667  \n",
       "8494            3014.000000                         1.500000  \n",
       "3477            2058.600000                         2.000000  \n",
       "3182            2812.000000                         9.750000  \n",
       "2066             790.833333                        48.166667  \n",
       "\n",
       "[10 rows x 55 columns]"
      ]
     },
     "execution_count": 108,
     "metadata": {},
     "output_type": "execute_result"
    }
   ],
   "source": [
    "test_data.sample(10)"
   ]
  },
  {
   "cell_type": "code",
   "execution_count": 109,
   "metadata": {
    "execution": {
     "iopub.execute_input": "2021-10-05T09:46:43.043321Z",
     "iopub.status.busy": "2021-10-05T09:46:43.042730Z",
     "iopub.status.idle": "2021-10-05T09:46:43.050482Z",
     "shell.execute_reply": "2021-10-05T09:46:43.049491Z",
     "shell.execute_reply.started": "2021-10-05T09:46:43.043272Z"
    }
   },
   "outputs": [],
   "source": [
    "test_data = test_data.drop(['Rating'], axis=1)"
   ]
  },
  {
   "cell_type": "code",
   "execution_count": 110,
   "metadata": {
    "execution": {
     "iopub.execute_input": "2021-10-03T12:16:10.835645Z",
     "iopub.status.busy": "2021-10-03T12:16:10.835116Z",
     "iopub.status.idle": "2021-10-03T12:16:10.854277Z",
     "shell.execute_reply": "2021-10-03T12:16:10.852483Z",
     "shell.execute_reply.started": "2021-10-03T12:16:10.835581Z"
    }
   },
   "outputs": [
    {
     "data": {
      "text/html": [
       "<div>\n",
       "<style scoped>\n",
       "    .dataframe tbody tr th:only-of-type {\n",
       "        vertical-align: middle;\n",
       "    }\n",
       "\n",
       "    .dataframe tbody tr th {\n",
       "        vertical-align: top;\n",
       "    }\n",
       "\n",
       "    .dataframe thead th {\n",
       "        text-align: right;\n",
       "    }\n",
       "</style>\n",
       "<table border=\"1\" class=\"dataframe\">\n",
       "  <thead>\n",
       "    <tr style=\"text-align: right;\">\n",
       "      <th></th>\n",
       "      <th>Restaurant_id</th>\n",
       "      <th>Rating</th>\n",
       "    </tr>\n",
       "  </thead>\n",
       "  <tbody>\n",
       "    <tr>\n",
       "      <th>0</th>\n",
       "      <td>id_0</td>\n",
       "      <td>2.0</td>\n",
       "    </tr>\n",
       "    <tr>\n",
       "      <th>1</th>\n",
       "      <td>id_1</td>\n",
       "      <td>2.5</td>\n",
       "    </tr>\n",
       "    <tr>\n",
       "      <th>2</th>\n",
       "      <td>id_2</td>\n",
       "      <td>4.0</td>\n",
       "    </tr>\n",
       "    <tr>\n",
       "      <th>3</th>\n",
       "      <td>id_3</td>\n",
       "      <td>1.0</td>\n",
       "    </tr>\n",
       "    <tr>\n",
       "      <th>4</th>\n",
       "      <td>id_4</td>\n",
       "      <td>4.0</td>\n",
       "    </tr>\n",
       "    <tr>\n",
       "      <th>...</th>\n",
       "      <td>...</td>\n",
       "      <td>...</td>\n",
       "    </tr>\n",
       "    <tr>\n",
       "      <th>9995</th>\n",
       "      <td>id_9995</td>\n",
       "      <td>3.0</td>\n",
       "    </tr>\n",
       "    <tr>\n",
       "      <th>9996</th>\n",
       "      <td>id_9996</td>\n",
       "      <td>1.5</td>\n",
       "    </tr>\n",
       "    <tr>\n",
       "      <th>9997</th>\n",
       "      <td>id_9997</td>\n",
       "      <td>4.5</td>\n",
       "    </tr>\n",
       "    <tr>\n",
       "      <th>9998</th>\n",
       "      <td>id_9998</td>\n",
       "      <td>1.0</td>\n",
       "    </tr>\n",
       "    <tr>\n",
       "      <th>9999</th>\n",
       "      <td>id_9999</td>\n",
       "      <td>2.5</td>\n",
       "    </tr>\n",
       "  </tbody>\n",
       "</table>\n",
       "<p>10000 rows × 2 columns</p>\n",
       "</div>"
      ],
      "text/plain": [
       "     Restaurant_id  Rating\n",
       "0             id_0     2.0\n",
       "1             id_1     2.5\n",
       "2             id_2     4.0\n",
       "3             id_3     1.0\n",
       "4             id_4     4.0\n",
       "...            ...     ...\n",
       "9995       id_9995     3.0\n",
       "9996       id_9996     1.5\n",
       "9997       id_9997     4.5\n",
       "9998       id_9998     1.0\n",
       "9999       id_9999     2.5\n",
       "\n",
       "[10000 rows x 2 columns]"
      ]
     },
     "execution_count": 110,
     "metadata": {},
     "output_type": "execute_result"
    }
   ],
   "source": [
    "sample_submission"
   ]
  },
  {
   "cell_type": "code",
   "execution_count": 111,
   "metadata": {
    "execution": {
     "iopub.execute_input": "2021-10-05T09:46:54.430201Z",
     "iopub.status.busy": "2021-10-05T09:46:54.429747Z",
     "iopub.status.idle": "2021-10-05T09:46:54.545022Z",
     "shell.execute_reply": "2021-10-05T09:46:54.544054Z",
     "shell.execute_reply.started": "2021-10-05T09:46:54.430158Z"
    }
   },
   "outputs": [
    {
     "name": "stderr",
     "output_type": "stream",
     "text": [
      "[Parallel(n_jobs=4)]: Using backend ThreadingBackend with 4 concurrent workers.\n",
      "[Parallel(n_jobs=4)]: Done  42 tasks      | elapsed:    0.0s\n",
      "[Parallel(n_jobs=4)]: Done 100 out of 100 | elapsed:    0.1s finished\n"
     ]
    }
   ],
   "source": [
    "predict_submission = model.predict(test_data)"
   ]
  },
  {
   "cell_type": "code",
   "execution_count": 112,
   "metadata": {
    "execution": {
     "iopub.execute_input": "2021-10-03T12:16:17.615988Z",
     "iopub.status.busy": "2021-10-03T12:16:17.615573Z",
     "iopub.status.idle": "2021-10-03T12:16:17.623456Z",
     "shell.execute_reply": "2021-10-03T12:16:17.622186Z",
     "shell.execute_reply.started": "2021-10-03T12:16:17.615925Z"
    }
   },
   "outputs": [
    {
     "data": {
      "text/plain": [
       "array([3.135, 4.155, 4.485, ..., 3.11 , 4.415, 4.185])"
      ]
     },
     "execution_count": 112,
     "metadata": {},
     "output_type": "execute_result"
    }
   ],
   "source": [
    "predict_submission"
   ]
  },
  {
   "cell_type": "code",
   "execution_count": 113,
   "metadata": {
    "execution": {
     "iopub.execute_input": "2021-10-05T09:46:58.702439Z",
     "iopub.status.busy": "2021-10-05T09:46:58.702096Z",
     "iopub.status.idle": "2021-10-05T09:46:59.186589Z",
     "shell.execute_reply": "2021-10-05T09:46:59.185632Z",
     "shell.execute_reply.started": "2021-10-05T09:46:58.702387Z"
    }
   },
   "outputs": [
    {
     "data": {
      "text/html": [
       "<div>\n",
       "<style scoped>\n",
       "    .dataframe tbody tr th:only-of-type {\n",
       "        vertical-align: middle;\n",
       "    }\n",
       "\n",
       "    .dataframe tbody tr th {\n",
       "        vertical-align: top;\n",
       "    }\n",
       "\n",
       "    .dataframe thead th {\n",
       "        text-align: right;\n",
       "    }\n",
       "</style>\n",
       "<table border=\"1\" class=\"dataframe\">\n",
       "  <thead>\n",
       "    <tr style=\"text-align: right;\">\n",
       "      <th></th>\n",
       "      <th>Restaurant_id</th>\n",
       "      <th>Rating</th>\n",
       "    </tr>\n",
       "  </thead>\n",
       "  <tbody>\n",
       "    <tr>\n",
       "      <th>0</th>\n",
       "      <td>id_0</td>\n",
       "      <td>3.135</td>\n",
       "    </tr>\n",
       "    <tr>\n",
       "      <th>1</th>\n",
       "      <td>id_1</td>\n",
       "      <td>4.155</td>\n",
       "    </tr>\n",
       "    <tr>\n",
       "      <th>2</th>\n",
       "      <td>id_2</td>\n",
       "      <td>4.485</td>\n",
       "    </tr>\n",
       "    <tr>\n",
       "      <th>3</th>\n",
       "      <td>id_3</td>\n",
       "      <td>4.180</td>\n",
       "    </tr>\n",
       "    <tr>\n",
       "      <th>4</th>\n",
       "      <td>id_4</td>\n",
       "      <td>4.485</td>\n",
       "    </tr>\n",
       "    <tr>\n",
       "      <th>5</th>\n",
       "      <td>id_5</td>\n",
       "      <td>4.295</td>\n",
       "    </tr>\n",
       "    <tr>\n",
       "      <th>6</th>\n",
       "      <td>id_6</td>\n",
       "      <td>1.940</td>\n",
       "    </tr>\n",
       "    <tr>\n",
       "      <th>7</th>\n",
       "      <td>id_7</td>\n",
       "      <td>2.485</td>\n",
       "    </tr>\n",
       "    <tr>\n",
       "      <th>8</th>\n",
       "      <td>id_8</td>\n",
       "      <td>4.050</td>\n",
       "    </tr>\n",
       "    <tr>\n",
       "      <th>9</th>\n",
       "      <td>id_9</td>\n",
       "      <td>4.540</td>\n",
       "    </tr>\n",
       "  </tbody>\n",
       "</table>\n",
       "</div>"
      ],
      "text/plain": [
       "  Restaurant_id  Rating\n",
       "0          id_0   3.135\n",
       "1          id_1   4.155\n",
       "2          id_2   4.485\n",
       "3          id_3   4.180\n",
       "4          id_4   4.485\n",
       "5          id_5   4.295\n",
       "6          id_6   1.940\n",
       "7          id_7   2.485\n",
       "8          id_8   4.050\n",
       "9          id_9   4.540"
      ]
     },
     "execution_count": 113,
     "metadata": {},
     "output_type": "execute_result"
    }
   ],
   "source": [
    "sample_submission['Rating'] = predict_submission\n",
    "sample_submission.to_csv('submission.csv', index=False)\n",
    "sample_submission.head(10)"
   ]
  },
  {
   "cell_type": "code",
   "execution_count": null,
   "metadata": {},
   "outputs": [],
   "source": []
  }
 ],
 "metadata": {
  "kernelspec": {
   "display_name": "Python 3",
   "language": "python",
   "name": "python3"
  },
  "language_info": {
   "codemirror_mode": {
    "name": "ipython",
    "version": 3
   },
   "file_extension": ".py",
   "mimetype": "text/x-python",
   "name": "python",
   "nbconvert_exporter": "python",
   "pygments_lexer": "ipython3",
   "version": "3.6.6"
  }
 },
 "nbformat": 4,
 "nbformat_minor": 4
}
