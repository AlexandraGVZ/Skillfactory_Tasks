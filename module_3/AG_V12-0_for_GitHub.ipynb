{
 "cells": [
  {
   "cell_type": "markdown",
   "metadata": {},
   "source": [
    "# Import"
   ]
  },
  {
   "cell_type": "code",
   "execution_count": 126,
   "metadata": {
    "_cell_guid": "b1076dfc-b9ad-4769-8c92-a6c4dae69d19",
    "_uuid": "8f2839f25d086af736a60e9eeb907d3b93b6e0e5",
    "execution": {
     "iopub.execute_input": "2021-10-05T09:22:57.468200Z",
     "iopub.status.busy": "2021-10-05T09:22:57.467747Z",
     "iopub.status.idle": "2021-10-05T09:23:00.144001Z",
     "shell.execute_reply": "2021-10-05T09:23:00.143101Z",
     "shell.execute_reply.started": "2021-10-05T09:22:57.468159Z"
    }
   },
   "outputs": [],
   "source": [
    "# This Python 3 environment comes with many helpful analytics libraries installed\n",
    "# It is defined by the kaggle/python docker image: https://github.com/kaggle/docker-python\n",
    "# For example, here's several helpful packages to load in \n",
    "\n",
    "import numpy as np # linear algebra\n",
    "import pandas as pd # data processing, CSV file I/O (e.g. pd.read_csv)\n",
    "from sklearn.preprocessing import RobustScaler\n",
    "\n",
    "import matplotlib.pyplot as plt\n",
    "import seaborn as sns \n",
    "%matplotlib inline\n",
    "\n",
    "from sklearn.model_selection import train_test_split\n",
    "\n",
    "# Input data files are available in the \"../input/\" directory.\n",
    "# For example, running this (by clicking run or pressing Shift+Enter) will list all files under the input directory\n",
    "\n",
    "import os\n",
    "for dirname, _, filenames in os.walk('/kaggle/input'):\n",
    "    for filename in filenames:\n",
    "        print(os.path.join(dirname, filename))\n",
    "\n",
    "# Any results you write to the current directory are saved as output."
   ]
  },
  {
   "cell_type": "code",
   "execution_count": 2,
   "metadata": {
    "execution": {
     "iopub.execute_input": "2021-10-05T09:23:04.768565Z",
     "iopub.status.busy": "2021-10-05T09:23:04.768259Z",
     "iopub.status.idle": "2021-10-05T09:23:04.772641Z",
     "shell.execute_reply": "2021-10-05T09:23:04.771457Z",
     "shell.execute_reply.started": "2021-10-05T09:23:04.768517Z"
    }
   },
   "outputs": [],
   "source": [
    "# Фиксируем RANDOM_SEED\n",
    "RANDOM_SEED = 42"
   ]
  },
  {
   "cell_type": "code",
   "execution_count": 3,
   "metadata": {
    "execution": {
     "iopub.execute_input": "2021-10-05T09:23:09.124742Z",
     "iopub.status.busy": "2021-10-05T09:23:09.124410Z",
     "iopub.status.idle": "2021-10-05T09:23:12.504141Z",
     "shell.execute_reply": "2021-10-05T09:23:12.503075Z",
     "shell.execute_reply.started": "2021-10-05T09:23:09.124693Z"
    }
   },
   "outputs": [],
   "source": [
    "# зафиксируем версию пакетов, чтобы эксперименты были воспроизводимы:\n",
    "!pip freeze > requirements.txt"
   ]
  },
  {
   "cell_type": "markdown",
   "metadata": {},
   "source": [
    "# DATA"
   ]
  },
  {
   "cell_type": "code",
   "execution_count": 3,
   "metadata": {
    "_cell_guid": "79c7e3d0-c299-4dcb-8224-4455121ee9b0",
    "_uuid": "d629ff2d2480ee46fbb7e2d37f6b5fab8052498a",
    "execution": {
     "iopub.execute_input": "2021-10-05T09:23:56.830430Z",
     "iopub.status.busy": "2021-10-05T09:23:56.830098Z",
     "iopub.status.idle": "2021-10-05T09:23:57.235554Z",
     "shell.execute_reply": "2021-10-05T09:23:57.234723Z",
     "shell.execute_reply.started": "2021-10-05T09:23:56.830381Z"
    }
   },
   "outputs": [],
   "source": [
    "# Загружаем данные\n",
    "df_train = pd.read_csv('main_task_new.csv')\n",
    "df_test = pd.read_csv('kaggle_task.csv')\n",
    "sample_submission = pd.read_csv('sample_submission.csv')"
   ]
  },
  {
   "cell_type": "code",
   "execution_count": 4,
   "metadata": {
    "execution": {
     "iopub.execute_input": "2021-10-05T09:25:29.382584Z",
     "iopub.status.busy": "2021-10-05T09:25:29.382140Z",
     "iopub.status.idle": "2021-10-05T09:25:29.432252Z",
     "shell.execute_reply": "2021-10-05T09:25:29.431227Z",
     "shell.execute_reply.started": "2021-10-05T09:25:29.382544Z"
    }
   },
   "outputs": [
    {
     "name": "stdout",
     "output_type": "stream",
     "text": [
      "<class 'pandas.core.frame.DataFrame'>\n",
      "RangeIndex: 40000 entries, 0 to 39999\n",
      "Data columns (total 10 columns):\n",
      " #   Column             Non-Null Count  Dtype  \n",
      "---  ------             --------------  -----  \n",
      " 0   Restaurant_id      40000 non-null  object \n",
      " 1   City               40000 non-null  object \n",
      " 2   Cuisine Style      30717 non-null  object \n",
      " 3   Ranking            40000 non-null  float64\n",
      " 4   Rating             40000 non-null  float64\n",
      " 5   Price Range        26114 non-null  object \n",
      " 6   Number of Reviews  37457 non-null  float64\n",
      " 7   Reviews            40000 non-null  object \n",
      " 8   URL_TA             40000 non-null  object \n",
      " 9   ID_TA              40000 non-null  object \n",
      "dtypes: float64(3), object(7)\n",
      "memory usage: 3.1+ MB\n"
     ]
    }
   ],
   "source": [
    "df_train.info()"
   ]
  },
  {
   "cell_type": "code",
   "execution_count": 5,
   "metadata": {
    "execution": {
     "iopub.execute_input": "2021-10-04T08:13:48.972137Z",
     "iopub.status.busy": "2021-10-04T08:13:48.971812Z",
     "iopub.status.idle": "2021-10-04T08:13:49.001864Z",
     "shell.execute_reply": "2021-10-04T08:13:49.000988Z",
     "shell.execute_reply.started": "2021-10-04T08:13:48.972088Z"
    }
   },
   "outputs": [
    {
     "data": {
      "text/html": [
       "<div>\n",
       "<style scoped>\n",
       "    .dataframe tbody tr th:only-of-type {\n",
       "        vertical-align: middle;\n",
       "    }\n",
       "\n",
       "    .dataframe tbody tr th {\n",
       "        vertical-align: top;\n",
       "    }\n",
       "\n",
       "    .dataframe thead th {\n",
       "        text-align: right;\n",
       "    }\n",
       "</style>\n",
       "<table border=\"1\" class=\"dataframe\">\n",
       "  <thead>\n",
       "    <tr style=\"text-align: right;\">\n",
       "      <th></th>\n",
       "      <th>Restaurant_id</th>\n",
       "      <th>City</th>\n",
       "      <th>Cuisine Style</th>\n",
       "      <th>Ranking</th>\n",
       "      <th>Rating</th>\n",
       "      <th>Price Range</th>\n",
       "      <th>Number of Reviews</th>\n",
       "      <th>Reviews</th>\n",
       "      <th>URL_TA</th>\n",
       "      <th>ID_TA</th>\n",
       "    </tr>\n",
       "  </thead>\n",
       "  <tbody>\n",
       "    <tr>\n",
       "      <th>0</th>\n",
       "      <td>id_5569</td>\n",
       "      <td>Paris</td>\n",
       "      <td>['European', 'French', 'International']</td>\n",
       "      <td>5570.0</td>\n",
       "      <td>3.5</td>\n",
       "      <td>$$ - $$$</td>\n",
       "      <td>194.0</td>\n",
       "      <td>[['Good food at your doorstep', 'A good hotel ...</td>\n",
       "      <td>/Restaurant_Review-g187147-d1912643-Reviews-R_...</td>\n",
       "      <td>d1912643</td>\n",
       "    </tr>\n",
       "    <tr>\n",
       "      <th>1</th>\n",
       "      <td>id_1535</td>\n",
       "      <td>Stockholm</td>\n",
       "      <td>NaN</td>\n",
       "      <td>1537.0</td>\n",
       "      <td>4.0</td>\n",
       "      <td>NaN</td>\n",
       "      <td>10.0</td>\n",
       "      <td>[['Unique cuisine', 'Delicious Nepalese food']...</td>\n",
       "      <td>/Restaurant_Review-g189852-d7992032-Reviews-Bu...</td>\n",
       "      <td>d7992032</td>\n",
       "    </tr>\n",
       "    <tr>\n",
       "      <th>2</th>\n",
       "      <td>id_352</td>\n",
       "      <td>London</td>\n",
       "      <td>['Japanese', 'Sushi', 'Asian', 'Grill', 'Veget...</td>\n",
       "      <td>353.0</td>\n",
       "      <td>4.5</td>\n",
       "      <td>$$$$</td>\n",
       "      <td>688.0</td>\n",
       "      <td>[['Catch up with friends', 'Not exceptional'],...</td>\n",
       "      <td>/Restaurant_Review-g186338-d8632781-Reviews-RO...</td>\n",
       "      <td>d8632781</td>\n",
       "    </tr>\n",
       "    <tr>\n",
       "      <th>3</th>\n",
       "      <td>id_3456</td>\n",
       "      <td>Berlin</td>\n",
       "      <td>NaN</td>\n",
       "      <td>3458.0</td>\n",
       "      <td>5.0</td>\n",
       "      <td>NaN</td>\n",
       "      <td>3.0</td>\n",
       "      <td>[[], []]</td>\n",
       "      <td>/Restaurant_Review-g187323-d1358776-Reviews-Es...</td>\n",
       "      <td>d1358776</td>\n",
       "    </tr>\n",
       "    <tr>\n",
       "      <th>4</th>\n",
       "      <td>id_615</td>\n",
       "      <td>Munich</td>\n",
       "      <td>['German', 'Central European', 'Vegetarian Fri...</td>\n",
       "      <td>621.0</td>\n",
       "      <td>4.0</td>\n",
       "      <td>$$ - $$$</td>\n",
       "      <td>84.0</td>\n",
       "      <td>[['Best place to try a Bavarian food', 'Nice b...</td>\n",
       "      <td>/Restaurant_Review-g187309-d6864963-Reviews-Au...</td>\n",
       "      <td>d6864963</td>\n",
       "    </tr>\n",
       "  </tbody>\n",
       "</table>\n",
       "</div>"
      ],
      "text/plain": [
       "  Restaurant_id       City                                      Cuisine Style  \\\n",
       "0       id_5569      Paris            ['European', 'French', 'International']   \n",
       "1       id_1535  Stockholm                                                NaN   \n",
       "2        id_352     London  ['Japanese', 'Sushi', 'Asian', 'Grill', 'Veget...   \n",
       "3       id_3456     Berlin                                                NaN   \n",
       "4        id_615     Munich  ['German', 'Central European', 'Vegetarian Fri...   \n",
       "\n",
       "   Ranking  Rating Price Range  Number of Reviews  \\\n",
       "0   5570.0     3.5    $$ - $$$              194.0   \n",
       "1   1537.0     4.0         NaN               10.0   \n",
       "2    353.0     4.5        $$$$              688.0   \n",
       "3   3458.0     5.0         NaN                3.0   \n",
       "4    621.0     4.0    $$ - $$$               84.0   \n",
       "\n",
       "                                             Reviews  \\\n",
       "0  [['Good food at your doorstep', 'A good hotel ...   \n",
       "1  [['Unique cuisine', 'Delicious Nepalese food']...   \n",
       "2  [['Catch up with friends', 'Not exceptional'],...   \n",
       "3                                           [[], []]   \n",
       "4  [['Best place to try a Bavarian food', 'Nice b...   \n",
       "\n",
       "                                              URL_TA     ID_TA  \n",
       "0  /Restaurant_Review-g187147-d1912643-Reviews-R_...  d1912643  \n",
       "1  /Restaurant_Review-g189852-d7992032-Reviews-Bu...  d7992032  \n",
       "2  /Restaurant_Review-g186338-d8632781-Reviews-RO...  d8632781  \n",
       "3  /Restaurant_Review-g187323-d1358776-Reviews-Es...  d1358776  \n",
       "4  /Restaurant_Review-g187309-d6864963-Reviews-Au...  d6864963  "
      ]
     },
     "execution_count": 5,
     "metadata": {},
     "output_type": "execute_result"
    }
   ],
   "source": [
    "df_train.head(5)"
   ]
  },
  {
   "cell_type": "code",
   "execution_count": 7,
   "metadata": {
    "execution": {
     "iopub.execute_input": "2021-10-04T08:19:58.241339Z",
     "iopub.status.busy": "2021-10-04T08:19:58.241035Z",
     "iopub.status.idle": "2021-10-04T08:19:58.259549Z",
     "shell.execute_reply": "2021-10-04T08:19:58.258518Z",
     "shell.execute_reply.started": "2021-10-04T08:19:58.241288Z"
    }
   },
   "outputs": [
    {
     "name": "stdout",
     "output_type": "stream",
     "text": [
      "<class 'pandas.core.frame.DataFrame'>\n",
      "RangeIndex: 10000 entries, 0 to 9999\n",
      "Data columns (total 9 columns):\n",
      "Restaurant_id        10000 non-null object\n",
      "City                 10000 non-null object\n",
      "Cuisine Style        7693 non-null object\n",
      "Ranking              10000 non-null float64\n",
      "Price Range          6525 non-null object\n",
      "Number of Reviews    9343 non-null float64\n",
      "Reviews              9998 non-null object\n",
      "URL_TA               10000 non-null object\n",
      "ID_TA                10000 non-null object\n",
      "dtypes: float64(2), object(7)\n",
      "memory usage: 703.2+ KB\n"
     ]
    }
   ],
   "source": [
    "df_test.info()"
   ]
  },
  {
   "cell_type": "code",
   "execution_count": 8,
   "metadata": {
    "execution": {
     "iopub.execute_input": "2021-10-04T08:14:43.97111Z",
     "iopub.status.busy": "2021-10-04T08:14:43.970766Z",
     "iopub.status.idle": "2021-10-04T08:14:43.988911Z",
     "shell.execute_reply": "2021-10-04T08:14:43.987767Z",
     "shell.execute_reply.started": "2021-10-04T08:14:43.971059Z"
    }
   },
   "outputs": [
    {
     "data": {
      "text/html": [
       "<div>\n",
       "<style scoped>\n",
       "    .dataframe tbody tr th:only-of-type {\n",
       "        vertical-align: middle;\n",
       "    }\n",
       "\n",
       "    .dataframe tbody tr th {\n",
       "        vertical-align: top;\n",
       "    }\n",
       "\n",
       "    .dataframe thead th {\n",
       "        text-align: right;\n",
       "    }\n",
       "</style>\n",
       "<table border=\"1\" class=\"dataframe\">\n",
       "  <thead>\n",
       "    <tr style=\"text-align: right;\">\n",
       "      <th></th>\n",
       "      <th>Restaurant_id</th>\n",
       "      <th>City</th>\n",
       "      <th>Cuisine Style</th>\n",
       "      <th>Ranking</th>\n",
       "      <th>Price Range</th>\n",
       "      <th>Number of Reviews</th>\n",
       "      <th>Reviews</th>\n",
       "      <th>URL_TA</th>\n",
       "      <th>ID_TA</th>\n",
       "    </tr>\n",
       "  </thead>\n",
       "  <tbody>\n",
       "    <tr>\n",
       "      <th>0</th>\n",
       "      <td>id_0</td>\n",
       "      <td>Paris</td>\n",
       "      <td>['Bar', 'Pub']</td>\n",
       "      <td>12963.0</td>\n",
       "      <td>$$ - $$$</td>\n",
       "      <td>4.0</td>\n",
       "      <td>[[], []]</td>\n",
       "      <td>/Restaurant_Review-g187147-d10746918-Reviews-L...</td>\n",
       "      <td>d10746918</td>\n",
       "    </tr>\n",
       "    <tr>\n",
       "      <th>1</th>\n",
       "      <td>id_1</td>\n",
       "      <td>Helsinki</td>\n",
       "      <td>['European', 'Scandinavian', 'Gluten Free Opti...</td>\n",
       "      <td>106.0</td>\n",
       "      <td>$$ - $$$</td>\n",
       "      <td>97.0</td>\n",
       "      <td>[['Very good reviews!', 'Fine dining in Hakani...</td>\n",
       "      <td>/Restaurant_Review-g189934-d6674944-Reviews-Ra...</td>\n",
       "      <td>d6674944</td>\n",
       "    </tr>\n",
       "    <tr>\n",
       "      <th>2</th>\n",
       "      <td>id_2</td>\n",
       "      <td>Edinburgh</td>\n",
       "      <td>['Vegetarian Friendly']</td>\n",
       "      <td>810.0</td>\n",
       "      <td>$$ - $$$</td>\n",
       "      <td>28.0</td>\n",
       "      <td>[['Better than the Links', 'Ivy Black'], ['12/...</td>\n",
       "      <td>/Restaurant_Review-g186525-d13129638-Reviews-B...</td>\n",
       "      <td>d13129638</td>\n",
       "    </tr>\n",
       "    <tr>\n",
       "      <th>3</th>\n",
       "      <td>id_3</td>\n",
       "      <td>London</td>\n",
       "      <td>['Italian', 'Mediterranean', 'European', 'Vege...</td>\n",
       "      <td>1669.0</td>\n",
       "      <td>$$$$</td>\n",
       "      <td>202.0</td>\n",
       "      <td>[['Most exquisite', 'Delicious and authentic']...</td>\n",
       "      <td>/Restaurant_Review-g186338-d680417-Reviews-Qui...</td>\n",
       "      <td>d680417</td>\n",
       "    </tr>\n",
       "    <tr>\n",
       "      <th>4</th>\n",
       "      <td>id_4</td>\n",
       "      <td>Bratislava</td>\n",
       "      <td>['Italian', 'Mediterranean', 'European', 'Seaf...</td>\n",
       "      <td>37.0</td>\n",
       "      <td>$$$$</td>\n",
       "      <td>162.0</td>\n",
       "      <td>[['Always the best in bratislava', 'Very good ...</td>\n",
       "      <td>/Restaurant_Review-g274924-d1112354-Reviews-Ma...</td>\n",
       "      <td>d1112354</td>\n",
       "    </tr>\n",
       "  </tbody>\n",
       "</table>\n",
       "</div>"
      ],
      "text/plain": [
       "  Restaurant_id        City  \\\n",
       "0          id_0       Paris   \n",
       "1          id_1    Helsinki   \n",
       "2          id_2   Edinburgh   \n",
       "3          id_3      London   \n",
       "4          id_4  Bratislava   \n",
       "\n",
       "                                       Cuisine Style  Ranking Price Range  \\\n",
       "0                                     ['Bar', 'Pub']  12963.0    $$ - $$$   \n",
       "1  ['European', 'Scandinavian', 'Gluten Free Opti...    106.0    $$ - $$$   \n",
       "2                            ['Vegetarian Friendly']    810.0    $$ - $$$   \n",
       "3  ['Italian', 'Mediterranean', 'European', 'Vege...   1669.0        $$$$   \n",
       "4  ['Italian', 'Mediterranean', 'European', 'Seaf...     37.0        $$$$   \n",
       "\n",
       "   Number of Reviews                                            Reviews  \\\n",
       "0                4.0                                           [[], []]   \n",
       "1               97.0  [['Very good reviews!', 'Fine dining in Hakani...   \n",
       "2               28.0  [['Better than the Links', 'Ivy Black'], ['12/...   \n",
       "3              202.0  [['Most exquisite', 'Delicious and authentic']...   \n",
       "4              162.0  [['Always the best in bratislava', 'Very good ...   \n",
       "\n",
       "                                              URL_TA      ID_TA  \n",
       "0  /Restaurant_Review-g187147-d10746918-Reviews-L...  d10746918  \n",
       "1  /Restaurant_Review-g189934-d6674944-Reviews-Ra...   d6674944  \n",
       "2  /Restaurant_Review-g186525-d13129638-Reviews-B...  d13129638  \n",
       "3  /Restaurant_Review-g186338-d680417-Reviews-Qui...    d680417  \n",
       "4  /Restaurant_Review-g274924-d1112354-Reviews-Ma...   d1112354  "
      ]
     },
     "execution_count": 8,
     "metadata": {},
     "output_type": "execute_result"
    }
   ],
   "source": [
    "df_test.head(5)"
   ]
  },
  {
   "cell_type": "code",
   "execution_count": 9,
   "metadata": {
    "execution": {
     "iopub.execute_input": "2021-10-04T08:14:58.640568Z",
     "iopub.status.busy": "2021-10-04T08:14:58.640245Z",
     "iopub.status.idle": "2021-10-04T08:14:58.650442Z",
     "shell.execute_reply": "2021-10-04T08:14:58.649758Z",
     "shell.execute_reply.started": "2021-10-04T08:14:58.640502Z"
    },
    "scrolled": true
   },
   "outputs": [
    {
     "data": {
      "text/html": [
       "<div>\n",
       "<style scoped>\n",
       "    .dataframe tbody tr th:only-of-type {\n",
       "        vertical-align: middle;\n",
       "    }\n",
       "\n",
       "    .dataframe tbody tr th {\n",
       "        vertical-align: top;\n",
       "    }\n",
       "\n",
       "    .dataframe thead th {\n",
       "        text-align: right;\n",
       "    }\n",
       "</style>\n",
       "<table border=\"1\" class=\"dataframe\">\n",
       "  <thead>\n",
       "    <tr style=\"text-align: right;\">\n",
       "      <th></th>\n",
       "      <th>Restaurant_id</th>\n",
       "      <th>Rating</th>\n",
       "    </tr>\n",
       "  </thead>\n",
       "  <tbody>\n",
       "    <tr>\n",
       "      <th>0</th>\n",
       "      <td>id_0</td>\n",
       "      <td>2.0</td>\n",
       "    </tr>\n",
       "    <tr>\n",
       "      <th>1</th>\n",
       "      <td>id_1</td>\n",
       "      <td>2.5</td>\n",
       "    </tr>\n",
       "    <tr>\n",
       "      <th>2</th>\n",
       "      <td>id_2</td>\n",
       "      <td>4.0</td>\n",
       "    </tr>\n",
       "    <tr>\n",
       "      <th>3</th>\n",
       "      <td>id_3</td>\n",
       "      <td>1.0</td>\n",
       "    </tr>\n",
       "    <tr>\n",
       "      <th>4</th>\n",
       "      <td>id_4</td>\n",
       "      <td>4.0</td>\n",
       "    </tr>\n",
       "  </tbody>\n",
       "</table>\n",
       "</div>"
      ],
      "text/plain": [
       "  Restaurant_id  Rating\n",
       "0          id_0     2.0\n",
       "1          id_1     2.5\n",
       "2          id_2     4.0\n",
       "3          id_3     1.0\n",
       "4          id_4     4.0"
      ]
     },
     "execution_count": 9,
     "metadata": {},
     "output_type": "execute_result"
    }
   ],
   "source": [
    "sample_submission.head(5)"
   ]
  },
  {
   "cell_type": "code",
   "execution_count": 10,
   "metadata": {
    "execution": {
     "iopub.execute_input": "2021-10-04T08:15:02.14885Z",
     "iopub.status.busy": "2021-10-04T08:15:02.148574Z",
     "iopub.status.idle": "2021-10-04T08:15:02.158414Z",
     "shell.execute_reply": "2021-10-04T08:15:02.157371Z",
     "shell.execute_reply.started": "2021-10-04T08:15:02.148814Z"
    }
   },
   "outputs": [
    {
     "name": "stdout",
     "output_type": "stream",
     "text": [
      "<class 'pandas.core.frame.DataFrame'>\n",
      "RangeIndex: 10000 entries, 0 to 9999\n",
      "Data columns (total 2 columns):\n",
      "Restaurant_id    10000 non-null object\n",
      "Rating           10000 non-null float64\n",
      "dtypes: float64(1), object(1)\n",
      "memory usage: 156.4+ KB\n"
     ]
    }
   ],
   "source": [
    "sample_submission.info()"
   ]
  },
  {
   "cell_type": "code",
   "execution_count": 61,
   "metadata": {
    "execution": {
     "iopub.execute_input": "2021-10-05T09:25:34.923136Z",
     "iopub.status.busy": "2021-10-05T09:25:34.922828Z",
     "iopub.status.idle": "2021-10-05T09:25:34.974996Z",
     "shell.execute_reply": "2021-10-05T09:25:34.974008Z",
     "shell.execute_reply.started": "2021-10-05T09:25:34.923091Z"
    }
   },
   "outputs": [],
   "source": [
    "# ВАЖНО! дря корректной обработки признаков объединяем трейн и тест в один датасет\n",
    "df_train['sample'] = 1 # помечаем где у нас трейн\n",
    "df_test['sample'] = 0 # помечаем где у нас тест\n",
    "df_test['Rating'] = 0 # в тесте у нас нет значения Rating, мы его должны предсказать, по этому пока просто заполняем нулями\n",
    "\n",
    "data = df_test.append(df_train, sort=False).reset_index(drop=True) # объединяем"
   ]
  },
  {
   "cell_type": "code",
   "execution_count": 62,
   "metadata": {
    "execution": {
     "iopub.execute_input": "2021-10-04T08:15:09.11778Z",
     "iopub.status.busy": "2021-10-04T08:15:09.117317Z",
     "iopub.status.idle": "2021-10-04T08:15:09.163267Z",
     "shell.execute_reply": "2021-10-04T08:15:09.162096Z",
     "shell.execute_reply.started": "2021-10-04T08:15:09.117723Z"
    }
   },
   "outputs": [
    {
     "name": "stdout",
     "output_type": "stream",
     "text": [
      "<class 'pandas.core.frame.DataFrame'>\n",
      "RangeIndex: 50000 entries, 0 to 49999\n",
      "Data columns (total 11 columns):\n",
      " #   Column             Non-Null Count  Dtype  \n",
      "---  ------             --------------  -----  \n",
      " 0   Restaurant_id      50000 non-null  object \n",
      " 1   City               50000 non-null  object \n",
      " 2   Cuisine Style      38410 non-null  object \n",
      " 3   Ranking            50000 non-null  float64\n",
      " 4   Price Range        32639 non-null  object \n",
      " 5   Number of Reviews  46800 non-null  float64\n",
      " 6   Reviews            49998 non-null  object \n",
      " 7   URL_TA             50000 non-null  object \n",
      " 8   ID_TA              50000 non-null  object \n",
      " 9   sample             50000 non-null  int64  \n",
      " 10  Rating             50000 non-null  float64\n",
      "dtypes: float64(3), int64(1), object(7)\n",
      "memory usage: 4.2+ MB\n"
     ]
    }
   ],
   "source": [
    "data.info()"
   ]
  },
  {
   "cell_type": "markdown",
   "metadata": {},
   "source": [
    "Подробнее по признакам:\n",
    "* City: Город \n",
    "* Cuisine Style: Кухня\n",
    "* Ranking: Ранг ресторана относительно других ресторанов в этом городе\n",
    "* Price Range: Цены в ресторане в 3 категориях\n",
    "* Number of Reviews: Количество отзывов\n",
    "* Reviews: 2 последних отзыва и даты этих отзывов\n",
    "* URL_TA: страница ресторана на 'www.tripadvisor.com' \n",
    "* ID_TA: ID ресторана в TripAdvisor\n",
    "* Rating: Рейтинг ресторана"
   ]
  },
  {
   "cell_type": "markdown",
   "metadata": {},
   "source": [
    "Как видим, большинство признаков у нас требует очистки и предварительной обработки."
   ]
  },
  {
   "cell_type": "code",
   "execution_count": 66,
   "metadata": {},
   "outputs": [],
   "source": [
    "# Переименуем колонки для удобства\n",
    "data.rename(columns={'Restaurant_id':'restaurant_id','City':'city','Cuisine Style':'cuisine_style','Ranking':'ranking',\n",
    "                    'Price Range':'price_range','Number of Reviews':'number_of_reviews','Reviews':'reviews','Rating':'rating'}, inplace=True)"
   ]
  },
  {
   "cell_type": "markdown",
   "metadata": {},
   "source": [
    "# Обработка данных и Feature Engineering"
   ]
  },
  {
   "cell_type": "markdown",
   "metadata": {},
   "source": [
    "### Обработка NAN \n",
    "У наличия пропусков могут быть разные причины, но пропуски нужно либо заполнить, либо исключить из набора полностью. Но с пропусками нужно быть внимательным, **даже отсутствие информации может быть важным признаком!**   \n",
    "По этому перед обработкой NAN лучше вынести информацию о наличии пропуска как отдельный признак "
   ]
  },
  {
   "cell_type": "code",
   "execution_count": 67,
   "metadata": {},
   "outputs": [
    {
     "data": {
      "text/plain": [
       "restaurant_id            0\n",
       "city                     0\n",
       "cuisine_style        11590\n",
       "ranking                  0\n",
       "price_range          17361\n",
       "number_of_reviews     3200\n",
       "reviews                  2\n",
       "URL_TA                   0\n",
       "ID_TA                    0\n",
       "sample                   0\n",
       "rating                   0\n",
       "dtype: int64"
      ]
     },
     "execution_count": 67,
     "metadata": {},
     "output_type": "execute_result"
    }
   ],
   "source": [
    "data.isna().sum()"
   ]
  },
  {
   "cell_type": "code",
   "execution_count": 68,
   "metadata": {
    "execution": {
     "iopub.execute_input": "2021-10-05T09:25:42.542382Z",
     "iopub.status.busy": "2021-10-05T09:25:42.542028Z",
     "iopub.status.idle": "2021-10-05T09:25:42.549282Z",
     "shell.execute_reply": "2021-10-05T09:25:42.548065Z",
     "shell.execute_reply.started": "2021-10-05T09:25:42.542323Z"
    }
   },
   "outputs": [],
   "source": [
    "# Пока обработаем только пропуски в признаке Number of Reviews. В отдельный признак вынесем информацию о пропусках в этом столбце\n",
    "data['number_of_reviews_isNAN'] = pd.isna(data['number_of_reviews']).astype('uint8')"
   ]
  },
  {
   "cell_type": "code",
   "execution_count": 69,
   "metadata": {
    "execution": {
     "iopub.execute_input": "2021-10-05T09:26:35.987628Z",
     "iopub.status.busy": "2021-10-05T09:26:35.987293Z",
     "iopub.status.idle": "2021-10-05T09:26:35.993173Z",
     "shell.execute_reply": "2021-10-05T09:26:35.992334Z",
     "shell.execute_reply.started": "2021-10-05T09:26:35.987581Z"
    }
   },
   "outputs": [],
   "source": [
    "# Далее заполняем пропуски нулями\n",
    "data['number_of_reviews'].fillna(0, inplace=True)"
   ]
  },
  {
   "cell_type": "markdown",
   "metadata": {},
   "source": [
    "**Для начала посмотрим количество уникальных значений.**"
   ]
  },
  {
   "cell_type": "code",
   "execution_count": 70,
   "metadata": {
    "execution": {
     "iopub.execute_input": "2021-10-04T08:15:36.320774Z",
     "iopub.status.busy": "2021-10-04T08:15:36.320461Z",
     "iopub.status.idle": "2021-10-04T08:15:36.455229Z",
     "shell.execute_reply": "2021-10-04T08:15:36.454302Z",
     "shell.execute_reply.started": "2021-10-04T08:15:36.320726Z"
    },
    "scrolled": false
   },
   "outputs": [
    {
     "data": {
      "text/plain": [
       "restaurant_id              13094\n",
       "city                          31\n",
       "cuisine_style              10732\n",
       "ranking                    12975\n",
       "price_range                    4\n",
       "number_of_reviews           1574\n",
       "reviews                    41858\n",
       "URL_TA                     49963\n",
       "ID_TA                      49963\n",
       "sample                         2\n",
       "rating                        10\n",
       "number_of_reviews_isNAN        2\n",
       "dtype: int64"
      ]
     },
     "execution_count": 70,
     "metadata": {},
     "output_type": "execute_result"
    }
   ],
   "source": [
    "# Бросается в глаза, что Restaurant_id - это не уникальный идентификатор ресторана. Скорей всего, это идентификатор сети\n",
    "# ресторанов.\n",
    "data.nunique(dropna=False)"
   ]
  },
  {
   "cell_type": "markdown",
   "metadata": {},
   "source": [
    "**Нарисуем графики имеющихся в датасете непрерывных переменных**"
   ]
  },
  {
   "cell_type": "code",
   "execution_count": 71,
   "metadata": {},
   "outputs": [],
   "source": [
    "numeric_columns=['ranking', 'number_of_reviews','rating']"
   ]
  },
  {
   "cell_type": "code",
   "execution_count": 72,
   "metadata": {},
   "outputs": [],
   "source": [
    "# Функция для построения графиков типа boxplot\n",
    "def get_boxplot(df, column):\n",
    "    fig, axes = plt.subplots(ncols=2, figsize=(6, 4))\n",
    "\n",
    "    sns.boxplot(data=df[column], orient=\"h\",\n",
    "                 palette=\"Set2\", whis=1.5, ax=axes[0]);\n",
    "    df[column].hist(bins=20, ax=axes[1])\n",
    "    fig.tight_layout(rect=[-1, 0.03, 1, 0.95])\n",
    "    plt.title(column)\n",
    "    plt.show()"
   ]
  },
  {
   "cell_type": "code",
   "execution_count": 73,
   "metadata": {},
   "outputs": [
    {
     "data": {
      "image/png": "[encoded data removed]",
      "text/plain": [
       "<Figure size 432x288 with 2 Axes>"
      ]
     },
     "metadata": {
      "needs_background": "light"
     },
     "output_type": "display_data"
    },
    {
     "data": {
      "image/png": "[encoded data removed]",
      "text/plain": [
       "<Figure size 432x288 with 2 Axes>"
      ]
     },
     "metadata": {
      "needs_background": "light"
     },
     "output_type": "display_data"
    },
    {
     "data": {
      "image/png": "[encoded data removed]",
      "text/plain": [
       "<Figure size 432x288 with 2 Axes>"
      ]
     },
     "metadata": {
      "needs_background": "light"
     },
     "output_type": "display_data"
    }
   ],
   "source": [
    "# Нарисуем боксплоты вместе с гистограммами для числовых признаков\n",
    "for col in numeric_columns:\n",
    "    get_boxplot(data, col)"
   ]
  },
  {
   "cell_type": "code",
   "execution_count": 74,
   "metadata": {},
   "outputs": [],
   "source": [
    "# Целевая переменная rating имеет дискретное распределение. Признак number_of_reviews надо прологарифмировать, чтобы избавиться\n",
    "# от тяжелого правогоо хвоста\n",
    "data['number_of_reviews']=data['number_of_reviews'].apply(lambda x: np.log(x+1))"
   ]
  },
  {
   "cell_type": "markdown",
   "metadata": {},
   "source": [
    "### Обработка признака Price Range"
   ]
  },
  {
   "cell_type": "code",
   "execution_count": 75,
   "metadata": {
    "execution": {
     "iopub.execute_input": "2021-10-04T08:18:01.057277Z",
     "iopub.status.busy": "2021-10-04T08:18:01.056947Z",
     "iopub.status.idle": "2021-10-04T08:18:01.076434Z",
     "shell.execute_reply": "2021-10-04T08:18:01.075382Z",
     "shell.execute_reply.started": "2021-10-04T08:18:01.057228Z"
    }
   },
   "outputs": [
    {
     "data": {
      "text/plain": [
       "$$ - $$$    23041\n",
       "$            7816\n",
       "$$$$         1782\n",
       "Name: price_range, dtype: int64"
      ]
     },
     "execution_count": 75,
     "metadata": {},
     "output_type": "execute_result"
    }
   ],
   "source": [
    "data['price_range'].value_counts()"
   ]
  },
  {
   "cell_type": "code",
   "execution_count": 76,
   "metadata": {
    "execution": {
     "iopub.execute_input": "2021-10-05T09:26:45.053121Z",
     "iopub.status.busy": "2021-10-05T09:26:45.052771Z",
     "iopub.status.idle": "2021-10-05T09:26:45.064732Z",
     "shell.execute_reply": "2021-10-05T09:26:45.063843Z",
     "shell.execute_reply.started": "2021-10-05T09:26:45.053059Z"
    }
   },
   "outputs": [],
   "source": [
    "# заполним пропуски модой (наиболее часто встречающимся значением)\n",
    "data[\"price_range\"]=data[\"price_range\"].fillna(\"$$ - $$$\")"
   ]
  },
  {
   "cell_type": "code",
   "execution_count": 77,
   "metadata": {
    "execution": {
     "iopub.execute_input": "2021-10-05T09:26:47.969006Z",
     "iopub.status.busy": "2021-10-05T09:26:47.968448Z",
     "iopub.status.idle": "2021-10-05T09:26:47.975382Z",
     "shell.execute_reply": "2021-10-05T09:26:47.974397Z",
     "shell.execute_reply.started": "2021-10-05T09:26:47.968937Z"
    }
   },
   "outputs": [],
   "source": [
    "# функция, которая заменит строковые значения на float\n",
    "def price_cat(string):\n",
    "    if string==\"$$ - $$$\":\n",
    "        return 2.0\n",
    "    elif string==\"$\":\n",
    "        return 1.0\n",
    "    elif string==\"$$$$\":\n",
    "        return 3.0"
   ]
  },
  {
   "cell_type": "code",
   "execution_count": 78,
   "metadata": {
    "execution": {
     "iopub.execute_input": "2021-10-05T09:26:53.004721Z",
     "iopub.status.busy": "2021-10-05T09:26:53.004214Z",
     "iopub.status.idle": "2021-10-05T09:26:53.031649Z",
     "shell.execute_reply": "2021-10-05T09:26:53.030914Z",
     "shell.execute_reply.started": "2021-10-05T09:26:53.004654Z"
    }
   },
   "outputs": [],
   "source": [
    "data[\"price_range\"]=data[\"price_range\"].apply(price_cat)"
   ]
  },
  {
   "cell_type": "code",
   "execution_count": 79,
   "metadata": {},
   "outputs": [
    {
     "data": {
      "text/html": [
       "<div>\n",
       "<style scoped>\n",
       "    .dataframe tbody tr th:only-of-type {\n",
       "        vertical-align: middle;\n",
       "    }\n",
       "\n",
       "    .dataframe tbody tr th {\n",
       "        vertical-align: top;\n",
       "    }\n",
       "\n",
       "    .dataframe thead th {\n",
       "        text-align: right;\n",
       "    }\n",
       "</style>\n",
       "<table border=\"1\" class=\"dataframe\">\n",
       "  <thead>\n",
       "    <tr style=\"text-align: right;\">\n",
       "      <th></th>\n",
       "      <th>restaurant_id</th>\n",
       "      <th>city</th>\n",
       "      <th>cuisine_style</th>\n",
       "      <th>ranking</th>\n",
       "      <th>price_range</th>\n",
       "      <th>number_of_reviews</th>\n",
       "      <th>reviews</th>\n",
       "      <th>URL_TA</th>\n",
       "      <th>ID_TA</th>\n",
       "      <th>sample</th>\n",
       "      <th>rating</th>\n",
       "      <th>number_of_reviews_isNAN</th>\n",
       "    </tr>\n",
       "  </thead>\n",
       "  <tbody>\n",
       "    <tr>\n",
       "      <th>26886</th>\n",
       "      <td>id_2188</td>\n",
       "      <td>Budapest</td>\n",
       "      <td>['International', 'European', 'Hungarian']</td>\n",
       "      <td>2189.0</td>\n",
       "      <td>1.0</td>\n",
       "      <td>2.397895</td>\n",
       "      <td>[['Ruin bar of Buda', 'Ha a nyüzsgő nagyvározs...</td>\n",
       "      <td>/Restaurant_Review-g274887-d10207008-Reviews-M...</td>\n",
       "      <td>d10207008</td>\n",
       "      <td>1</td>\n",
       "      <td>4.5</td>\n",
       "      <td>0</td>\n",
       "    </tr>\n",
       "    <tr>\n",
       "      <th>21725</th>\n",
       "      <td>id_3517</td>\n",
       "      <td>Barcelona</td>\n",
       "      <td>['Mediterranean', 'Spanish', 'Seafood']</td>\n",
       "      <td>3518.0</td>\n",
       "      <td>2.0</td>\n",
       "      <td>4.859812</td>\n",
       "      <td>[['I was hesitant but it turned out great', 'G...</td>\n",
       "      <td>/Restaurant_Review-g187497-d1467522-Reviews-Re...</td>\n",
       "      <td>d1467522</td>\n",
       "      <td>1</td>\n",
       "      <td>4.0</td>\n",
       "      <td>0</td>\n",
       "    </tr>\n",
       "    <tr>\n",
       "      <th>32355</th>\n",
       "      <td>id_5519</td>\n",
       "      <td>Milan</td>\n",
       "      <td>NaN</td>\n",
       "      <td>5522.0</td>\n",
       "      <td>2.0</td>\n",
       "      <td>1.098612</td>\n",
       "      <td>[[], []]</td>\n",
       "      <td>/Restaurant_Review-g187849-d8339982-Reviews-Ca...</td>\n",
       "      <td>d8339982</td>\n",
       "      <td>1</td>\n",
       "      <td>3.0</td>\n",
       "      <td>0</td>\n",
       "    </tr>\n",
       "    <tr>\n",
       "      <th>1489</th>\n",
       "      <td>id_1489</td>\n",
       "      <td>Prague</td>\n",
       "      <td>NaN</td>\n",
       "      <td>3013.0</td>\n",
       "      <td>2.0</td>\n",
       "      <td>1.386294</td>\n",
       "      <td>[['Business lunch or dinner when meetings aro....</td>\n",
       "      <td>/Restaurant_Review-g274707-d1116240-Reviews-El...</td>\n",
       "      <td>d1116240</td>\n",
       "      <td>0</td>\n",
       "      <td>0.0</td>\n",
       "      <td>0</td>\n",
       "    </tr>\n",
       "    <tr>\n",
       "      <th>40853</th>\n",
       "      <td>id_1165</td>\n",
       "      <td>Stockholm</td>\n",
       "      <td>['European', 'Swedish', 'Contemporary']</td>\n",
       "      <td>1166.0</td>\n",
       "      <td>2.0</td>\n",
       "      <td>2.772589</td>\n",
       "      <td>[['Try The Swedish Meatballs!', 'Great Views o...</td>\n",
       "      <td>/Restaurant_Review-g189852-d4419182-Reviews-Pa...</td>\n",
       "      <td>d4419182</td>\n",
       "      <td>1</td>\n",
       "      <td>4.0</td>\n",
       "      <td>0</td>\n",
       "    </tr>\n",
       "  </tbody>\n",
       "</table>\n",
       "</div>"
      ],
      "text/plain": [
       "      restaurant_id       city                               cuisine_style  \\\n",
       "26886       id_2188   Budapest  ['International', 'European', 'Hungarian']   \n",
       "21725       id_3517  Barcelona     ['Mediterranean', 'Spanish', 'Seafood']   \n",
       "32355       id_5519      Milan                                         NaN   \n",
       "1489        id_1489     Prague                                         NaN   \n",
       "40853       id_1165  Stockholm     ['European', 'Swedish', 'Contemporary']   \n",
       "\n",
       "       ranking  price_range  number_of_reviews  \\\n",
       "26886   2189.0          1.0           2.397895   \n",
       "21725   3518.0          2.0           4.859812   \n",
       "32355   5522.0          2.0           1.098612   \n",
       "1489    3013.0          2.0           1.386294   \n",
       "40853   1166.0          2.0           2.772589   \n",
       "\n",
       "                                                 reviews  \\\n",
       "26886  [['Ruin bar of Buda', 'Ha a nyüzsgő nagyvározs...   \n",
       "21725  [['I was hesitant but it turned out great', 'G...   \n",
       "32355                                           [[], []]   \n",
       "1489   [['Business lunch or dinner when meetings aro....   \n",
       "40853  [['Try The Swedish Meatballs!', 'Great Views o...   \n",
       "\n",
       "                                                  URL_TA      ID_TA  sample  \\\n",
       "26886  /Restaurant_Review-g274887-d10207008-Reviews-M...  d10207008       1   \n",
       "21725  /Restaurant_Review-g187497-d1467522-Reviews-Re...   d1467522       1   \n",
       "32355  /Restaurant_Review-g187849-d8339982-Reviews-Ca...   d8339982       1   \n",
       "1489   /Restaurant_Review-g274707-d1116240-Reviews-El...   d1116240       0   \n",
       "40853  /Restaurant_Review-g189852-d4419182-Reviews-Pa...   d4419182       1   \n",
       "\n",
       "       rating  number_of_reviews_isNAN  \n",
       "26886     4.5                        0  \n",
       "21725     4.0                        0  \n",
       "32355     3.0                        0  \n",
       "1489      0.0                        0  \n",
       "40853     4.0                        0  "
      ]
     },
     "execution_count": 79,
     "metadata": {},
     "output_type": "execute_result"
    }
   ],
   "source": [
    "data.sample(5)"
   ]
  },
  {
   "cell_type": "markdown",
   "metadata": {},
   "source": [
    "### Feature engineering"
   ]
  },
  {
   "cell_type": "code",
   "execution_count": 80,
   "metadata": {
    "execution": {
     "iopub.execute_input": "2021-10-05T09:27:19.039331Z",
     "iopub.status.busy": "2021-10-05T09:27:19.039011Z",
     "iopub.status.idle": "2021-10-05T09:27:19.063934Z",
     "shell.execute_reply": "2021-10-05T09:27:19.063062Z",
     "shell.execute_reply.started": "2021-10-05T09:27:19.039285Z"
    }
   },
   "outputs": [
    {
     "data": {
      "text/plain": [
       "{'London': 7193,\n",
       " 'Paris': 6108,\n",
       " 'Madrid': 3813,\n",
       " 'Barcelona': 3395,\n",
       " 'Berlin': 2705,\n",
       " 'Milan': 2694,\n",
       " 'Rome': 2589,\n",
       " 'Prague': 1816,\n",
       " 'Lisbon': 1647,\n",
       " 'Vienna': 1443,\n",
       " 'Amsterdam': 1372,\n",
       " 'Brussels': 1314,\n",
       " 'Hamburg': 1186,\n",
       " 'Munich': 1145,\n",
       " 'Lyon': 1126,\n",
       " 'Stockholm': 1033,\n",
       " 'Budapest': 1021,\n",
       " 'Warsaw': 925,\n",
       " 'Dublin': 836,\n",
       " 'Copenhagen': 819,\n",
       " 'Athens': 776,\n",
       " 'Edinburgh': 745,\n",
       " 'Zurich': 685,\n",
       " 'Oporto': 642,\n",
       " 'Geneva': 590,\n",
       " 'Krakow': 554,\n",
       " 'Oslo': 488,\n",
       " 'Helsinki': 475,\n",
       " 'Bratislava': 380,\n",
       " 'Luxembourg': 263,\n",
       " 'Ljubljana': 222}"
      ]
     },
     "execution_count": 80,
     "metadata": {},
     "output_type": "execute_result"
    }
   ],
   "source": [
    "# Создадим словарь с количеством упоминаний каждого города в датасте. В первом приближении будем считать, что каждое упоминание \n",
    "# соответствует одному ресторану. Таким образом, в словаре будет содержаться количество ресторанов в каждом городе\n",
    "dict_of_cities=dict(data['city'].value_counts())\n",
    "dict_of_cities"
   ]
  },
  {
   "cell_type": "code",
   "execution_count": 81,
   "metadata": {
    "execution": {
     "iopub.execute_input": "2021-10-05T09:27:29.497352Z",
     "iopub.status.busy": "2021-10-05T09:27:29.497032Z",
     "iopub.status.idle": "2021-10-05T09:27:29.539358Z",
     "shell.execute_reply": "2021-10-05T09:27:29.538565Z",
     "shell.execute_reply.started": "2021-10-05T09:27:29.497306Z"
    }
   },
   "outputs": [],
   "source": [
    "# Добавим колонку с количеством ресторанов в данном городе\n",
    "data[\"number_of_restaurants\"]=data['city'].apply(lambda x: dict_of_cities[x])"
   ]
  },
  {
   "cell_type": "code",
   "execution_count": 82,
   "metadata": {
    "execution": {
     "iopub.execute_input": "2021-10-05T09:27:34.337885Z",
     "iopub.status.busy": "2021-10-05T09:27:34.337407Z",
     "iopub.status.idle": "2021-10-05T09:27:34.514306Z",
     "shell.execute_reply": "2021-10-05T09:27:34.513353Z",
     "shell.execute_reply.started": "2021-10-05T09:27:34.337840Z"
    }
   },
   "outputs": [],
   "source": [
    "# Далее введем очень важный признак: ранг ресторана, нормированный на количество ресторанов в данном городе\n",
    "data[\"ranking_normed\"]=data[\"ranking\"]/data[\"number_of_restaurants\"]"
   ]
  },
  {
   "cell_type": "code",
   "execution_count": 83,
   "metadata": {
    "execution": {
     "iopub.execute_input": "2021-10-05T09:27:40.147683Z",
     "iopub.status.busy": "2021-10-05T09:27:40.147352Z",
     "iopub.status.idle": "2021-10-05T09:27:40.158397Z",
     "shell.execute_reply": "2021-10-05T09:27:40.157163Z",
     "shell.execute_reply.started": "2021-10-05T09:27:40.147634Z"
    }
   },
   "outputs": [],
   "source": [
    "# Воспользуемся данными из сторонних источников (Википедия). Создадим словарь с информацией о \n",
    "# количестве жителей в каждом городе\n",
    "number_of_citizens={'Amsterdam': 872_757,\n",
    " 'Athens': 664_046,\n",
    " 'Barcelona': 1_664_182,\n",
    " 'Berlin': 3_644_826,\n",
    " 'Bratislava': 437_725,\n",
    " 'Brussels': 185_103,\n",
    " 'Budapest': 1_752_286,\n",
    " 'Copenhagen': 615_993,\n",
    " 'Dublin': 1_173_179,\n",
    " 'Edinburgh': 488_100,\n",
    " 'Geneva': 200_548,\n",
    " 'Hamburg': 1_841_179,\n",
    " 'Helsinki': 656_611,\n",
    " 'Krakow': 779_115,\n",
    " 'Lisbon': 505_526,\n",
    " 'Ljubljana': 284_355,\n",
    " 'London': 8_961_989,\n",
    " 'Luxembourg': 626_108,\n",
    " 'Lyon': 506_615,\n",
    " 'Madrid': 3_266_126,\n",
    " 'Milan': 1_378_689,\n",
    " 'Munich': 1_471_508,\n",
    " 'Oporto': 237_591,\n",
    " 'Oslo': 673_469,\n",
    " 'Paris': 2_148_327,\n",
    " 'Prague': 1_335_084,\n",
    " 'Rome': 2_870_500,\n",
    " 'Stockholm': 961_609,\n",
    " 'Vienna': 1_897_491,\n",
    " 'Warsaw': 1_790_658,\n",
    " 'Zurich': 428_737}"
   ]
  },
  {
   "cell_type": "code",
   "execution_count": 84,
   "metadata": {
    "execution": {
     "iopub.execute_input": "2021-10-05T09:27:47.039543Z",
     "iopub.status.busy": "2021-10-05T09:27:47.039057Z",
     "iopub.status.idle": "2021-10-05T09:27:47.074986Z",
     "shell.execute_reply": "2021-10-05T09:27:47.074222Z",
     "shell.execute_reply.started": "2021-10-05T09:27:47.039499Z"
    }
   },
   "outputs": [],
   "source": [
    "# Добавим колонку в датасет с информацией о количестве жителей\n",
    "data[\"number_of_citizens\"]=data[\"city\"].apply(lambda x: number_of_citizens[x])"
   ]
  },
  {
   "cell_type": "code",
   "execution_count": 85,
   "metadata": {
    "execution": {
     "iopub.execute_input": "2021-10-05T09:27:55.113093Z",
     "iopub.status.busy": "2021-10-05T09:27:55.112532Z",
     "iopub.status.idle": "2021-10-05T09:27:55.121016Z",
     "shell.execute_reply": "2021-10-05T09:27:55.120224Z",
     "shell.execute_reply.started": "2021-10-05T09:27:55.113046Z"
    }
   },
   "outputs": [],
   "source": [
    "# Введем новые признаки: 1. ранг ресторана, нормированный на количество жителей в данном городе\n",
    "# 2. количество отзывов, нормированное на количество жителей в каждом городе\n",
    "data[\"ranking_norm_citizens\"]=data[\"ranking\"]/data[\"number_of_citizens\"]\n",
    "data[\"number_of_reviews_norm_citizens\"]=data[\"number_of_reviews\"]/data[\"number_of_citizens\"]"
   ]
  },
  {
   "cell_type": "code",
   "execution_count": 86,
   "metadata": {
    "execution": {
     "iopub.execute_input": "2021-10-05T09:27:59.380127Z",
     "iopub.status.busy": "2021-10-05T09:27:59.379666Z",
     "iopub.status.idle": "2021-10-05T09:27:59.420484Z",
     "shell.execute_reply": "2021-10-05T09:27:59.419514Z",
     "shell.execute_reply.started": "2021-10-05T09:27:59.380085Z"
    }
   },
   "outputs": [],
   "source": [
    "# Воспользуемся дополнительной информацией о средней зарплате по городам из сторонних источников\n",
    "salaries={'Amsterdam': 2155,\n",
    " 'Athens': 894,\n",
    " 'Barcelona': 1749,\n",
    " 'Berlin': 2431,\n",
    " 'Bratislava': 1043,\n",
    " 'Brussels': 1920,\n",
    " 'Budapest': 806,\n",
    " 'Copenhagen': 3270,\n",
    " 'Dublin': 2505,\n",
    " 'Edinburgh': 1990,\n",
    " 'Geneva': 4370,\n",
    " 'Hamburg': 2431,\n",
    " 'Helsinki': 2509,\n",
    " 'Krakow': 934,\n",
    " 'Lisbon': 1019,\n",
    " 'Ljubljana': 1328,\n",
    " 'London': 1990,\n",
    " 'Luxembourg': 3416,\n",
    " 'Lyon': 2225,\n",
    " 'Madrid': 1749,\n",
    " 'Milan': 1878,\n",
    " 'Munich': 2431,\n",
    " 'Oporto': 1019,\n",
    " 'Oslo': 3309,\n",
    " 'Paris': 2225,\n",
    " 'Prague': 1207,\n",
    " 'Rome': 1878,\n",
    " 'Stockholm': 2570,\n",
    " 'Vienna': 1830,\n",
    " 'Warsaw': 934,\n",
    " 'Zurich': 4370}"
   ]
  },
  {
   "cell_type": "code",
   "execution_count": 87,
   "metadata": {},
   "outputs": [],
   "source": [
    "# Добавим признак salary - средняя зарплата в данном городе\n",
    "data[\"salaries\"]=data[\"city\"].apply(lambda x: salaries[x])"
   ]
  },
  {
   "cell_type": "code",
   "execution_count": 88,
   "metadata": {},
   "outputs": [],
   "source": [
    "# Нормируем колонку Ranking на средний уровень зарплат в каждом городе\n",
    "data[\"ranking_norm_salaries\"]=data[\"ranking\"]/data[\"salaries\"]"
   ]
  },
  {
   "cell_type": "code",
   "execution_count": 90,
   "metadata": {
    "execution": {
     "iopub.execute_input": "2021-10-05T09:28:11.748579Z",
     "iopub.status.busy": "2021-10-05T09:28:11.748221Z",
     "iopub.status.idle": "2021-10-05T09:28:11.811056Z",
     "shell.execute_reply": "2021-10-05T09:28:11.810138Z",
     "shell.execute_reply.started": "2021-10-05T09:28:11.748518Z"
    }
   },
   "outputs": [],
   "source": [
    "# возьмем get_dummies по городам\n",
    "data = pd.get_dummies(data, columns=[ 'city'])"
   ]
  },
  {
   "cell_type": "code",
   "execution_count": 36,
   "metadata": {
    "execution": {
     "iopub.execute_input": "2021-10-05T09:28:48.484078Z",
     "iopub.status.busy": "2021-10-05T09:28:48.483724Z",
     "iopub.status.idle": "2021-10-05T09:28:48.491459Z",
     "shell.execute_reply": "2021-10-05T09:28:48.490341Z",
     "shell.execute_reply.started": "2021-10-05T09:28:48.484030Z"
    }
   },
   "outputs": [
    {
     "data": {
      "text/plain": [
       "str"
      ]
     },
     "execution_count": 36,
     "metadata": {},
     "output_type": "execute_result"
    }
   ],
   "source": [
    "# Займемся колонкой cuisine_style. Выглядят данные как список, но на самом деле это строка\n",
    "type(data[\"cuisine_style\"][0])"
   ]
  },
  {
   "cell_type": "code",
   "execution_count": 91,
   "metadata": {
    "execution": {
     "iopub.execute_input": "2021-10-05T09:28:56.302948Z",
     "iopub.status.busy": "2021-10-05T09:28:56.302610Z",
     "iopub.status.idle": "2021-10-05T09:28:56.309107Z",
     "shell.execute_reply": "2021-10-05T09:28:56.308175Z",
     "shell.execute_reply.started": "2021-10-05T09:28:56.302901Z"
    }
   },
   "outputs": [],
   "source": [
    "# Напишем функцию, которая преобразует нашу колонку cuisine_style в список кухонь. Пропуски\n",
    "# пока не заполняем! Мы сделаем это позже, когда будем считать количество кухонь в каждом ресторане\n",
    "def make_list(x):\n",
    "    if pd.isna(x)==True:\n",
    "        return np.nan\n",
    "    else:\n",
    "        x=x.strip(\"[]\")\n",
    "        x=x.lower()\n",
    "        x=x.replace('\"\\\"',\",\")\n",
    "        y=x.split(\",\")\n",
    "        return y"
   ]
  },
  {
   "cell_type": "code",
   "execution_count": 92,
   "metadata": {
    "execution": {
     "iopub.execute_input": "2021-10-05T09:29:00.148298Z",
     "iopub.status.busy": "2021-10-05T09:29:00.147946Z",
     "iopub.status.idle": "2021-10-05T09:29:00.261657Z",
     "shell.execute_reply": "2021-10-05T09:29:00.260881Z",
     "shell.execute_reply.started": "2021-10-05T09:29:00.148249Z"
    }
   },
   "outputs": [],
   "source": [
    "data[\"cuisine_style_list\"]=data[\"cuisine_style\"].apply(make_list)"
   ]
  },
  {
   "cell_type": "code",
   "execution_count": 93,
   "metadata": {
    "execution": {
     "iopub.execute_input": "2021-10-05T09:29:09.701709Z",
     "iopub.status.busy": "2021-10-05T09:29:09.701388Z",
     "iopub.status.idle": "2021-10-05T09:29:09.706848Z",
     "shell.execute_reply": "2021-10-05T09:29:09.705812Z",
     "shell.execute_reply.started": "2021-10-05T09:29:09.701661Z"
    }
   },
   "outputs": [],
   "source": [
    "# Создадим функцию, возвращающую количество кухонь, предлагаемых в каждом ресторане. Если встречаем \n",
    "# пропуск, то считаем, что в данном ресторане предлагается только один тип кухни\n",
    "def number_of_cuisines(x):\n",
    "    if type(x)==list:\n",
    "        return len(x)\n",
    "    else:\n",
    "        return 1"
   ]
  },
  {
   "cell_type": "code",
   "execution_count": 94,
   "metadata": {
    "execution": {
     "iopub.execute_input": "2021-10-05T09:29:13.284415Z",
     "iopub.status.busy": "2021-10-05T09:29:13.283967Z",
     "iopub.status.idle": "2021-10-05T09:29:13.330627Z",
     "shell.execute_reply": "2021-10-05T09:29:13.329914Z",
     "shell.execute_reply.started": "2021-10-05T09:29:13.284366Z"
    }
   },
   "outputs": [],
   "source": [
    "data[\"number_of_cuisines\"]=data[\"cuisine_style_list\"].apply(number_of_cuisines)"
   ]
  },
  {
   "cell_type": "code",
   "execution_count": 41,
   "metadata": {
    "execution": {
     "iopub.execute_input": "2021-10-05T09:29:35.406990Z",
     "iopub.status.busy": "2021-10-05T09:29:35.406513Z",
     "iopub.status.idle": "2021-10-05T09:29:35.412374Z",
     "shell.execute_reply": "2021-10-05T09:29:35.411622Z",
     "shell.execute_reply.started": "2021-10-05T09:29:35.406944Z"
    }
   },
   "outputs": [
    {
     "data": {
      "text/plain": [
       "[\"'mediterranean'\", \" 'spanish'\"]"
      ]
     },
     "execution_count": 41,
     "metadata": {},
     "output_type": "execute_result"
    }
   ],
   "source": [
    "# Видим, что в названии кухни иногда первым символом идет пробел. Вот как здесь - \" spanish\"\n",
    "data[\"cuisine_style_list\"][99]"
   ]
  },
  {
   "cell_type": "code",
   "execution_count": 34,
   "metadata": {
    "execution": {
     "iopub.execute_input": "2021-10-05T09:30:26.895340Z",
     "iopub.status.busy": "2021-10-05T09:30:26.894891Z",
     "iopub.status.idle": "2021-10-05T09:30:26.901435Z",
     "shell.execute_reply": "2021-10-05T09:30:26.900499Z",
     "shell.execute_reply.started": "2021-10-05T09:30:26.895300Z"
    }
   },
   "outputs": [],
   "source": [
    "# Напишем функцию, которая будет убирать эти пробелы.\n",
    "def replace_spaces(list_of_cuisines):\n",
    "    if type(list_of_cuisines)==list:\n",
    "        list_of_values=[]\n",
    "        for i in list_of_cuisines:\n",
    "            if i[0]==\" \":\n",
    "                i=i.strip(\" \")\n",
    "                list_of_values.append(i)\n",
    "            else:\n",
    "                list_of_values.append(i)\n",
    "        return list_of_values\n",
    "    else:\n",
    "        return np.nan"
   ]
  },
  {
   "cell_type": "code",
   "execution_count": 95,
   "metadata": {
    "execution": {
     "iopub.execute_input": "2021-10-05T09:30:38.955098Z",
     "iopub.status.busy": "2021-10-05T09:30:38.954705Z",
     "iopub.status.idle": "2021-10-05T09:30:39.055310Z",
     "shell.execute_reply": "2021-10-05T09:30:39.054588Z",
     "shell.execute_reply.started": "2021-10-05T09:30:38.955036Z"
    }
   },
   "outputs": [],
   "source": [
    "data[\"cuisine_style_list\"]=data[\"cuisine_style_list\"].apply(replace_spaces)"
   ]
  },
  {
   "cell_type": "code",
   "execution_count": 36,
   "metadata": {
    "execution": {
     "iopub.execute_input": "2021-10-05T09:30:43.360626Z",
     "iopub.status.busy": "2021-10-05T09:30:43.360303Z",
     "iopub.status.idle": "2021-10-05T09:30:43.364724Z",
     "shell.execute_reply": "2021-10-05T09:30:43.363799Z",
     "shell.execute_reply.started": "2021-10-05T09:30:43.360580Z"
    }
   },
   "outputs": [],
   "source": [
    "from datetime import datetime"
   ]
  },
  {
   "cell_type": "code",
   "execution_count": 45,
   "metadata": {
    "execution": {
     "iopub.execute_input": "2021-10-05T09:30:57.207843Z",
     "iopub.status.busy": "2021-10-05T09:30:57.207150Z",
     "iopub.status.idle": "2021-10-05T09:30:57.215044Z",
     "shell.execute_reply": "2021-10-05T09:30:57.214320Z",
     "shell.execute_reply.started": "2021-10-05T09:30:57.207770Z"
    }
   },
   "outputs": [
    {
     "data": {
      "text/plain": [
       "str"
      ]
     },
     "execution_count": 45,
     "metadata": {},
     "output_type": "execute_result"
    }
   ],
   "source": [
    "# Обработаем колонку Reviews, содержащую сведения о дате отзыва. \n",
    "type(data[\"reviews\"][11])"
   ]
  },
  {
   "cell_type": "code",
   "execution_count": 96,
   "metadata": {
    "execution": {
     "iopub.execute_input": "2021-10-05T09:32:44.053015Z",
     "iopub.status.busy": "2021-10-05T09:32:44.052306Z",
     "iopub.status.idle": "2021-10-05T09:32:44.060889Z",
     "shell.execute_reply": "2021-10-05T09:32:44.060105Z",
     "shell.execute_reply.started": "2021-10-05T09:32:44.052959Z"
    }
   },
   "outputs": [],
   "source": [
    "# Функция 'вытаскивает' информацию о дате отзыва(ов) и преобразует ее в тип datetime\n",
    "def to_datetime(x):\n",
    "    if pd.isna(x):\n",
    "        return np.nan\n",
    "    if x==\"[[], []]\":\n",
    "        return np.nan\n",
    "    x=x.strip(\"[[]]\")\n",
    "    if x[-2].isdigit()==True:\n",
    "        date1=x[-11:-1]\n",
    "    if x[-16].isdigit()==True:\n",
    "        date2=x[-25:-15]\n",
    "    else:\n",
    "        return datetime.strptime(date1,\"%m/%d/%Y\")\n",
    "    return [datetime.strptime(date1,\"%m/%d/%Y\"),datetime.strptime(date2,\"%m/%d/%Y\")]"
   ]
  },
  {
   "cell_type": "code",
   "execution_count": 97,
   "metadata": {
    "execution": {
     "iopub.execute_input": "2021-10-05T09:32:47.664961Z",
     "iopub.status.busy": "2021-10-05T09:32:47.664325Z",
     "iopub.status.idle": "2021-10-05T09:32:48.896059Z",
     "shell.execute_reply": "2021-10-05T09:32:48.895291Z",
     "shell.execute_reply.started": "2021-10-05T09:32:47.664892Z"
    }
   },
   "outputs": [],
   "source": [
    "# В колонку datetime поместим в виде списка объекты datetime - даты отзывов, оставленных на сайте\n",
    "data[\"datetime\"]=data[\"reviews\"].apply(to_datetime)"
   ]
  },
  {
   "cell_type": "code",
   "execution_count": 98,
   "metadata": {
    "execution": {
     "iopub.execute_input": "2021-10-05T09:33:01.995644Z",
     "iopub.status.busy": "2021-10-05T09:33:01.994969Z",
     "iopub.status.idle": "2021-10-05T09:33:02.005242Z",
     "shell.execute_reply": "2021-10-05T09:33:02.003856Z",
     "shell.execute_reply.started": "2021-10-05T09:33:01.995566Z"
    }
   },
   "outputs": [],
   "source": [
    "# напишем функцию, которая считает, насколько дата отзыва(ов) отстоит от текущей даты. Если отзывов два,\n",
    "# считается самый свежий отзыв\n",
    "def time_delta(x):\n",
    "    if type(x)==float:\n",
    "        return np.nan\n",
    "    if type(x)==datetime:\n",
    "        return datetime.now()-x\n",
    "    else:\n",
    "        delta1=datetime.now()-x[0]\n",
    "        delta2=datetime.now()-x[1]\n",
    "        return min(delta1,delta2)"
   ]
  },
  {
   "cell_type": "code",
   "execution_count": 99,
   "metadata": {
    "execution": {
     "iopub.execute_input": "2021-10-05T09:33:06.191283Z",
     "iopub.status.busy": "2021-10-05T09:33:06.190969Z",
     "iopub.status.idle": "2021-10-05T09:33:06.587407Z",
     "shell.execute_reply": "2021-10-05T09:33:06.586716Z",
     "shell.execute_reply.started": "2021-10-05T09:33:06.191245Z"
    }
   },
   "outputs": [],
   "source": [
    "data[\"timedelta\"]=data[\"datetime\"].apply(time_delta)"
   ]
  },
  {
   "cell_type": "code",
   "execution_count": 100,
   "metadata": {
    "execution": {
     "iopub.execute_input": "2021-10-05T09:33:18.793335Z",
     "iopub.status.busy": "2021-10-05T09:33:18.792823Z",
     "iopub.status.idle": "2021-10-05T09:33:18.799986Z",
     "shell.execute_reply": "2021-10-05T09:33:18.798806Z",
     "shell.execute_reply.started": "2021-10-05T09:33:18.793293Z"
    }
   },
   "outputs": [],
   "source": [
    "# Данные в колонке timedelta хранятся в формате timedelta. Чтобы их можно было использовать в нашей модели,\n",
    "# переведем их сначала в тип str, а затем в integer. Функцию см. ниже\n",
    "def to_int(x):\n",
    "    if pd.isna(x):\n",
    "        return np.nan\n",
    "    y=str(x)\n",
    "    i=0\n",
    "    while y[i].isdigit():\n",
    "        i+=1\n",
    "        z=y[:i]\n",
    "    return int(z)"
   ]
  },
  {
   "cell_type": "code",
   "execution_count": 101,
   "metadata": {
    "execution": {
     "iopub.execute_input": "2021-10-05T09:33:25.269032Z",
     "iopub.status.busy": "2021-10-05T09:33:25.268610Z",
     "iopub.status.idle": "2021-10-05T09:33:26.705771Z",
     "shell.execute_reply": "2021-10-05T09:33:26.704956Z",
     "shell.execute_reply.started": "2021-10-05T09:33:25.268990Z"
    }
   },
   "outputs": [],
   "source": [
    "# Создадим колонку last_review, которая хранит количество дней от последнего отзыва на сайте о данном ресторане до сегодня\n",
    "data[\"last_review\"]=data[\"timedelta\"].apply(to_int)"
   ]
  },
  {
   "cell_type": "code",
   "execution_count": 102,
   "metadata": {},
   "outputs": [],
   "source": [
    "# Напишем функцию, которая будет считать время между двумя отзывами. Если отзыв один, будет \n",
    "# возвращаться NaN\n",
    "def time_between(x):\n",
    "    if type(x)==list:\n",
    "        delta=abs(x[0]-x[1])\n",
    "        return delta\n",
    "    else:\n",
    "        return np.nan"
   ]
  },
  {
   "cell_type": "code",
   "execution_count": 103,
   "metadata": {},
   "outputs": [],
   "source": [
    "# В колонку time_between поместим время между двумя отзывами в формате timedelta\n",
    "data[\"time_between\"]=data[\"datetime\"].apply(time_between)"
   ]
  },
  {
   "cell_type": "code",
   "execution_count": 104,
   "metadata": {},
   "outputs": [],
   "source": [
    "# C форматом timedelta наша модель работать не умеет. Переведем его в int с помощью ранее написанной\n",
    "# функции to_int\n",
    "data[\"time_between\"]=data[\"time_between\"].apply(to_int)"
   ]
  },
  {
   "cell_type": "markdown",
   "metadata": {},
   "source": [
    "**Теперь у нас появилось два числовых признака, в которых достаточно много пропусков (last_review, time_between). Для корректной работы модели нужно заполнить пропуски**"
   ]
  },
  {
   "cell_type": "code",
   "execution_count": 105,
   "metadata": {},
   "outputs": [],
   "source": [
    "import random"
   ]
  },
  {
   "cell_type": "code",
   "execution_count": 106,
   "metadata": {},
   "outputs": [],
   "source": [
    "# Напишем функцию, которая заменяет пропуски рандомными данными из тех, которые уже есть в данной колонке\n",
    "def replace_with_interval(i,df):\n",
    "    stat = df[i].value_counts(normalize=True)\n",
    "    ind = df[df[i].isna()==True].index\n",
    "    fill_list = pd.Series(random.choices(stat.index, stat, k=df[i].isna().sum()))\n",
    "    fill_list.index = ind\n",
    "    return fill_list"
   ]
  },
  {
   "cell_type": "code",
   "execution_count": 107,
   "metadata": {},
   "outputs": [],
   "source": [
    "# Заполним пропуски в колонке last_review\n",
    "replace_df=replace_with_interval(\"last_review\",data)\n",
    "data[\"last_review\"].fillna(replace_df,inplace=True)"
   ]
  },
  {
   "cell_type": "code",
   "execution_count": 108,
   "metadata": {},
   "outputs": [],
   "source": [
    "# Заменяем пропуски в колонке time_between\n",
    "replace_df=replace_with_interval(\"time_between\",data)\n",
    "data[\"time_between\"].fillna(replace_df,inplace=True)"
   ]
  },
  {
   "cell_type": "code",
   "execution_count": 109,
   "metadata": {
    "scrolled": true
   },
   "outputs": [
    {
     "data": {
      "text/plain": [
       "Index(['restaurant_id', 'cuisine_style', 'ranking', 'price_range',\n",
       "       'number_of_reviews', 'reviews', 'URL_TA', 'ID_TA', 'sample', 'rating',\n",
       "       'number_of_reviews_isNAN', 'number_of_restaurants', 'ranking_normed',\n",
       "       'number_of_citizens', 'ranking_norm_citizens',\n",
       "       'number_of_reviews_norm_citizens', 'salaries', 'ranking_norm_salaries',\n",
       "       'city_Amsterdam', 'city_Athens', 'city_Barcelona', 'city_Berlin',\n",
       "       'city_Bratislava', 'city_Brussels', 'city_Budapest', 'city_Copenhagen',\n",
       "       'city_Dublin', 'city_Edinburgh', 'city_Geneva', 'city_Hamburg',\n",
       "       'city_Helsinki', 'city_Krakow', 'city_Lisbon', 'city_Ljubljana',\n",
       "       'city_London', 'city_Luxembourg', 'city_Lyon', 'city_Madrid',\n",
       "       'city_Milan', 'city_Munich', 'city_Oporto', 'city_Oslo', 'city_Paris',\n",
       "       'city_Prague', 'city_Rome', 'city_Stockholm', 'city_Vienna',\n",
       "       'city_Warsaw', 'city_Zurich', 'cuisine_style_list',\n",
       "       'number_of_cuisines', 'datetime', 'timedelta', 'last_review',\n",
       "       'time_between'],\n",
       "      dtype='object')"
      ]
     },
     "execution_count": 109,
     "metadata": {},
     "output_type": "execute_result"
    }
   ],
   "source": [
    "data.columns"
   ]
  },
  {
   "cell_type": "markdown",
   "metadata": {},
   "source": [
    "**У нас появилось довольно много новых непрерывных переменных. Посмотрим на их распределение (вместе со старыми)**"
   ]
  },
  {
   "cell_type": "code",
   "execution_count": 112,
   "metadata": {},
   "outputs": [],
   "source": [
    "numeric_columns=['ranking', 'number_of_reviews','rating','number_of_restaurants', 'ranking_normed',\n",
    "                'number_of_citizens', 'ranking_norm_citizens',\n",
    "                'number_of_reviews_norm_citizens', 'salaries', 'ranking_norm_salaries', 'number_of_cuisines','last_review', \n",
    "                'time_between']"
   ]
  },
  {
   "cell_type": "code",
   "execution_count": 113,
   "metadata": {},
   "outputs": [
    {
     "data": {
      "image/png": "[encoded data removed]",
      "text/plain": [
       "<Figure size 432x288 with 2 Axes>"
      ]
     },
     "metadata": {
      "needs_background": "light"
     },
     "output_type": "display_data"
    },
    {
     "data": {
      "image/png": "[encoded data removed]",
      "text/plain": [
       "<Figure size 432x288 with 2 Axes>"
      ]
     },
     "metadata": {
      "needs_background": "light"
     },
     "output_type": "display_data"
    },
    {
     "data": {
      "image/png": "[encoded data removed]",
      "text/plain": [
       "<Figure size 432x288 with 2 Axes>"
      ]
     },
     "metadata": {
      "needs_background": "light"
     },
     "output_type": "display_data"
    },
    {
     "data": {
      "image/png": "[encoded data removed]",
      "text/plain": [
       "<Figure size 432x288 with 2 Axes>"
      ]
     },
     "metadata": {
      "needs_background": "light"
     },
     "output_type": "display_data"
    },
    {
     "data": {
      "image/png": "[encoded data removed]",
      "text/plain": [
       "<Figure size 432x288 with 2 Axes>"
      ]
     },
     "metadata": {
      "needs_background": "light"
     },
     "output_type": "display_data"
    },
    {
     "data": {
      "image/png": "[encoded data removed]",
      "text/plain": [
       "<Figure size 432x288 with 2 Axes>"
      ]
     },
     "metadata": {
      "needs_background": "light"
     },
     "output_type": "display_data"
    },
    {
     "data": {
      "image/png": "[encoded data removed]",
      "text/plain": [
       "<Figure size 432x288 with 2 Axes>"
      ]
     },
     "metadata": {
      "needs_background": "light"
     },
     "output_type": "display_data"
    },
    {
     "data": {
      "image/png": "[encoded data removed]",
      "text/plain": [
       "<Figure size 432x288 with 2 Axes>"
      ]
     },
     "metadata": {
      "needs_background": "light"
     },
     "output_type": "display_data"
    },
    {
     "data": {
      "image/png": "[encoded data removed]",
      "text/plain": [
       "<Figure size 432x288 with 2 Axes>"
      ]
     },
     "metadata": {
      "needs_background": "light"
     },
     "output_type": "display_data"
    },
    {
     "data": {
      "image/png": "[encoded data removed]",
      "text/plain": [
       "<Figure size 432x288 with 2 Axes>"
      ]
     },
     "metadata": {
      "needs_background": "light"
     },
     "output_type": "display_data"
    },
    {
     "data": {
      "image/png": "[encoded data removed]",
      "text/plain": [
       "<Figure size 432x288 with 2 Axes>"
      ]
     },
     "metadata": {
      "needs_background": "light"
     },
     "output_type": "display_data"
    },
    {
     "data": {
      "image/png": "[encoded data removed]",
      "text/plain": [
       "<Figure size 432x288 with 2 Axes>"
      ]
     },
     "metadata": {
      "needs_background": "light"
     },
     "output_type": "display_data"
    },
    {
     "data": {
      "image/png": "[encoded data removed]",
      "text/plain": [
       "<Figure size 432x288 with 2 Axes>"
      ]
     },
     "metadata": {
      "needs_background": "light"
     },
     "output_type": "display_data"
    }
   ],
   "source": [
    "# Нарисуем боксплоты вместе с гистограммами для числовых признаков\n",
    "for col in numeric_columns:\n",
    "    get_boxplot(data, col)"
   ]
  },
  {
   "cell_type": "code",
   "execution_count": 114,
   "metadata": {},
   "outputs": [],
   "source": [
    "# Прологарифмируем некоторые из наших новых признаков, чтобы избавиться от тяжелого правого хвоста\n",
    "data['last_review']=data['last_review'].apply(lambda x: np.log(x+1))\n",
    "data['time_between']=data['time_between'].apply(lambda x: np.log(x+1))"
   ]
  },
  {
   "cell_type": "code",
   "execution_count": 115,
   "metadata": {
    "execution": {
     "iopub.execute_input": "2021-10-05T09:34:08.021036Z",
     "iopub.status.busy": "2021-10-05T09:34:08.020701Z",
     "iopub.status.idle": "2021-10-05T09:34:08.025462Z",
     "shell.execute_reply": "2021-10-05T09:34:08.024810Z",
     "shell.execute_reply.started": "2021-10-05T09:34:08.020987Z"
    }
   },
   "outputs": [
    {
     "data": {
      "text/plain": [
       "<AxesSubplot:>"
      ]
     },
     "execution_count": 115,
     "metadata": {},
     "output_type": "execute_result"
    },
    {
     "data": {
      "image/png": "[encoded data removed]",
      "text/plain": [
       "<Figure size 1080x720 with 2 Axes>"
      ]
     },
     "metadata": {
      "needs_background": "light"
     },
     "output_type": "display_data"
    }
   ],
   "source": [
    "# Построим тепловую карту матрицы корреляции непрерывных признаков\n",
    "plt.rcParams['figure.figsize'] = (15,10)\n",
    "sns.heatmap(data[numeric_columns].corr().abs(), vmin=0, vmax=1)"
   ]
  },
  {
   "cell_type": "markdown",
   "metadata": {
    "execution": {
     "iopub.execute_input": "2021-10-05T09:34:26.827836Z",
     "iopub.status.busy": "2021-10-05T09:34:26.827371Z",
     "iopub.status.idle": "2021-10-05T09:34:26.833749Z",
     "shell.execute_reply": "2021-10-05T09:34:26.832966Z",
     "shell.execute_reply.started": "2021-10-05T09:34:26.827793Z"
    }
   },
   "source": [
    "**Мы видим, что некоторые признаки довольно сильно скоррелированы (ranking, number_of_restaurants, ranking_normed, number_of_citizens). Пока не будем ничего с ними делать. Т.к. наша модель - это случайный лес, а не линейная регрессия, то есть основания полагать, что сильная корреляция между некоторыми признаками не очень повлияет на итоговый результат.**"
   ]
  },
  {
   "cell_type": "markdown",
   "metadata": {
    "execution": {
     "iopub.execute_input": "2021-10-05T09:37:54.669898Z",
     "iopub.status.busy": "2021-10-05T09:37:54.669555Z",
     "iopub.status.idle": "2021-10-05T09:37:54.726174Z",
     "shell.execute_reply": "2021-10-05T09:37:54.725063Z",
     "shell.execute_reply.started": "2021-10-05T09:37:54.669849Z"
    }
   },
   "source": [
    "## Обработка признака reviews"
   ]
  },
  {
   "cell_type": "code",
   "execution_count": 117,
   "metadata": {
    "execution": {
     "iopub.execute_input": "2021-10-05T09:37:59.486815Z",
     "iopub.status.busy": "2021-10-05T09:37:59.486222Z",
     "iopub.status.idle": "2021-10-05T09:37:59.531024Z",
     "shell.execute_reply": "2021-10-05T09:37:59.530085Z",
     "shell.execute_reply.started": "2021-10-05T09:37:59.486698Z"
    }
   },
   "outputs": [],
   "source": [
    "# Начинаем работать с текстом отзывов в колонке reviews. Для начала переведем текст в нижний регистр\n",
    "data[\"reviews\"]=data[\"reviews\"].apply(lambda x: x.lower() if type(x)==str else np.nan)"
   ]
  },
  {
   "cell_type": "code",
   "execution_count": 116,
   "metadata": {
    "execution": {
     "iopub.execute_input": "2021-10-05T09:38:17.906785Z",
     "iopub.status.busy": "2021-10-05T09:38:17.906315Z",
     "iopub.status.idle": "2021-10-05T09:38:17.920076Z",
     "shell.execute_reply": "2021-10-05T09:38:17.918820Z",
     "shell.execute_reply.started": "2021-10-05T09:38:17.906727Z"
    }
   },
   "outputs": [],
   "source": [
    "# Наша функция будет осуществлять поиск по ключевым словам, которые могут относиться к качеству еды в\n",
    "# ресторане. В зависимости от найденных слов ресторану присваивается категория\n",
    "def assign_category(x):\n",
    "    if x==\"[[], []]\":\n",
    "        return \"unknown\"\n",
    "    if pd.isna(x):\n",
    "        return \"unknown\"\n",
    "    else:\n",
    "        if x.find(\"excellent\")>=0 or x.find(\"great\")>=0 or x.find(\"tasty\")>=0 or x.find(\"delicious\")>=0 or x.find(\"very good\")>=0 or x.find(\"best\")>=0 or x.find(\"delight\")>=0 or x.find(\"wonderful\")>=0 or x.find(\"awsome\")>=0 or x.find(\"amazing\")>=0 or x.find(\"yummy\")>=0:\n",
    "            return \"excellent\"\n",
    "        elif (x.find(\"good\")>=0) or (x.find(\"lovely\")>=0) or (x.find(\"nice\")>=0) or (x.find(\"fun\")>=0) or (x.find(\"authentic\")>=0):\n",
    "            return \"good\"\n",
    "        elif (x.find(\"average\")>=0) or (x.find(\"not bad\")>=0) or (x.find(\"efficient\")>=0):\n",
    "            return \"average\"\n",
    "        elif x.find(\"poor\")>=0 or x.find(\"bad\")>=0 or x.find(\"awful\")>=0 or x.find(\"overpriced\")>=0 or x.find(\"ugly\")>=0 or x.find(\"greasy\")>=0:\n",
    "            return \"bad\"     \n",
    "        else:\n",
    "            return \"unknown\""
   ]
  },
  {
   "cell_type": "code",
   "execution_count": 118,
   "metadata": {
    "execution": {
     "iopub.execute_input": "2021-10-05T09:38:22.253535Z",
     "iopub.status.busy": "2021-10-05T09:38:22.253225Z",
     "iopub.status.idle": "2021-10-05T09:38:22.432728Z",
     "shell.execute_reply": "2021-10-05T09:38:22.431878Z",
     "shell.execute_reply.started": "2021-10-05T09:38:22.253489Z"
    }
   },
   "outputs": [],
   "source": [
    "# Присвоим категорию \"excellent\",\"good\",\"average\",\"bad\",\"unknown\" каждому ресторану\n",
    "data[\"restaurant_category\"]=data[\"reviews\"].apply(assign_category)"
   ]
  },
  {
   "cell_type": "code",
   "execution_count": 119,
   "metadata": {
    "execution": {
     "iopub.execute_input": "2021-10-05T09:38:26.649370Z",
     "iopub.status.busy": "2021-10-05T09:38:26.649007Z",
     "iopub.status.idle": "2021-10-05T09:38:26.715810Z",
     "shell.execute_reply": "2021-10-05T09:38:26.714795Z",
     "shell.execute_reply.started": "2021-10-05T09:38:26.649312Z"
    }
   },
   "outputs": [],
   "source": [
    "# Возьмем get_dummies по колонке restaurant_category\n",
    "data=pd.get_dummies(data,columns=[\"restaurant_category\"],dummy_na=False)"
   ]
  },
  {
   "cell_type": "code",
   "execution_count": 120,
   "metadata": {
    "execution": {
     "iopub.execute_input": "2021-10-04T09:49:20.569795Z",
     "iopub.status.busy": "2021-10-04T09:49:20.569457Z",
     "iopub.status.idle": "2021-10-04T09:49:20.57689Z",
     "shell.execute_reply": "2021-10-04T09:49:20.575778Z",
     "shell.execute_reply.started": "2021-10-04T09:49:20.569748Z"
    }
   },
   "outputs": [
    {
     "data": {
      "text/plain": [
       "Index(['restaurant_id', 'cuisine_style', 'ranking', 'price_range',\n",
       "       'number_of_reviews', 'reviews', 'URL_TA', 'ID_TA', 'sample', 'rating',\n",
       "       'number_of_reviews_isNAN', 'number_of_restaurants', 'ranking_normed',\n",
       "       'number_of_citizens', 'ranking_norm_citizens',\n",
       "       'number_of_reviews_norm_citizens', 'salaries', 'ranking_norm_salaries',\n",
       "       'city_Amsterdam', 'city_Athens', 'city_Barcelona', 'city_Berlin',\n",
       "       'city_Bratislava', 'city_Brussels', 'city_Budapest', 'city_Copenhagen',\n",
       "       'city_Dublin', 'city_Edinburgh', 'city_Geneva', 'city_Hamburg',\n",
       "       'city_Helsinki', 'city_Krakow', 'city_Lisbon', 'city_Ljubljana',\n",
       "       'city_London', 'city_Luxembourg', 'city_Lyon', 'city_Madrid',\n",
       "       'city_Milan', 'city_Munich', 'city_Oporto', 'city_Oslo', 'city_Paris',\n",
       "       'city_Prague', 'city_Rome', 'city_Stockholm', 'city_Vienna',\n",
       "       'city_Warsaw', 'city_Zurich', 'cuisine_style_list',\n",
       "       'number_of_cuisines', 'datetime', 'timedelta', 'last_review',\n",
       "       'time_between', 'restaurant_category_average',\n",
       "       'restaurant_category_bad', 'restaurant_category_excellent',\n",
       "       'restaurant_category_good', 'restaurant_category_unknown'],\n",
       "      dtype='object')"
      ]
     },
     "execution_count": 120,
     "metadata": {},
     "output_type": "execute_result"
    }
   ],
   "source": [
    "data.columns"
   ]
  },
  {
   "cell_type": "code",
   "execution_count": 121,
   "metadata": {
    "execution": {
     "iopub.execute_input": "2021-10-05T09:38:53.562308Z",
     "iopub.status.busy": "2021-10-05T09:38:53.561884Z",
     "iopub.status.idle": "2021-10-05T09:38:53.775391Z",
     "shell.execute_reply": "2021-10-05T09:38:53.774324Z",
     "shell.execute_reply.started": "2021-10-05T09:38:53.562252Z"
    }
   },
   "outputs": [],
   "source": [
    "# У нас есть интересная колонка - restaurant_id. Она содержит информацию о сетях ресторанов.\n",
    "# Создадим словарь, куда запишем количество ресторанов в каждой сети\n",
    "dict_of_nets=dict(data[\"restaurant_id\"].value_counts())"
   ]
  },
  {
   "cell_type": "code",
   "execution_count": 122,
   "metadata": {
    "execution": {
     "iopub.execute_input": "2021-10-05T09:38:57.873592Z",
     "iopub.status.busy": "2021-10-05T09:38:57.873257Z",
     "iopub.status.idle": "2021-10-05T09:38:57.920964Z",
     "shell.execute_reply": "2021-10-05T09:38:57.920205Z",
     "shell.execute_reply.started": "2021-10-05T09:38:57.873542Z"
    }
   },
   "outputs": [],
   "source": [
    "data[\"net_size\"]=data[\"restaurant_id\"].apply(lambda x: dict_of_nets[x])"
   ]
  },
  {
   "cell_type": "code",
   "execution_count": 123,
   "metadata": {
    "execution": {
     "iopub.execute_input": "2021-10-05T09:39:03.346684Z",
     "iopub.status.busy": "2021-10-05T09:39:03.346352Z",
     "iopub.status.idle": "2021-10-05T09:39:03.354633Z",
     "shell.execute_reply": "2021-10-05T09:39:03.353997Z",
     "shell.execute_reply.started": "2021-10-05T09:39:03.346645Z"
    }
   },
   "outputs": [],
   "source": [
    "# Пронормируем два наших количественных признака на размер сети ресторанов\n",
    "data[\"ranking_norm_net_size\"]=data[\"ranking\"]/data[\"net_size\"]\n",
    "data[\"number_of_reviews_norm_net_size\"]=data[\"number_of_reviews\"]/data[\"net_size\"]"
   ]
  },
  {
   "cell_type": "markdown",
   "metadata": {},
   "source": [
    "# Подготовка данных перед загрузкой в модель"
   ]
  },
  {
   "cell_type": "code",
   "execution_count": 124,
   "metadata": {},
   "outputs": [
    {
     "data": {
      "text/plain": [
       "Index(['restaurant_id', 'cuisine_style', 'ranking', 'price_range',\n",
       "       'number_of_reviews', 'reviews', 'URL_TA', 'ID_TA', 'sample', 'rating',\n",
       "       'number_of_reviews_isNAN', 'number_of_restaurants', 'ranking_normed',\n",
       "       'number_of_citizens', 'ranking_norm_citizens',\n",
       "       'number_of_reviews_norm_citizens', 'salaries', 'ranking_norm_salaries',\n",
       "       'city_Amsterdam', 'city_Athens', 'city_Barcelona', 'city_Berlin',\n",
       "       'city_Bratislava', 'city_Brussels', 'city_Budapest', 'city_Copenhagen',\n",
       "       'city_Dublin', 'city_Edinburgh', 'city_Geneva', 'city_Hamburg',\n",
       "       'city_Helsinki', 'city_Krakow', 'city_Lisbon', 'city_Ljubljana',\n",
       "       'city_London', 'city_Luxembourg', 'city_Lyon', 'city_Madrid',\n",
       "       'city_Milan', 'city_Munich', 'city_Oporto', 'city_Oslo', 'city_Paris',\n",
       "       'city_Prague', 'city_Rome', 'city_Stockholm', 'city_Vienna',\n",
       "       'city_Warsaw', 'city_Zurich', 'cuisine_style_list',\n",
       "       'number_of_cuisines', 'datetime', 'timedelta', 'last_review',\n",
       "       'time_between', 'restaurant_category_average',\n",
       "       'restaurant_category_bad', 'restaurant_category_excellent',\n",
       "       'restaurant_category_good', 'restaurant_category_unknown', 'net_size',\n",
       "       'ranking_norm_net_size', 'number_of_reviews_norm_net_size'],\n",
       "      dtype='object')"
      ]
     },
     "execution_count": 124,
     "metadata": {},
     "output_type": "execute_result"
    }
   ],
   "source": [
    "data.columns"
   ]
  },
  {
   "cell_type": "code",
   "execution_count": 128,
   "metadata": {},
   "outputs": [],
   "source": [
    "# Выделим трейн и тест\n",
    "train_data = data.query('sample == 1').drop(columns=['sample','restaurant_id', 'cuisine_style','reviews', 'URL_TA', 'ID_TA',\n",
    "                                                    'cuisine_style_list','datetime', 'timedelta'], axis=1)\n",
    "test_data = data.query('sample == 0').drop(['sample','restaurant_id', 'cuisine_style','reviews', 'URL_TA', 'ID_TA',\n",
    "                                                    'cuisine_style_list','datetime', 'timedelta','rating'], axis=1)"
   ]
  },
  {
   "cell_type": "code",
   "execution_count": 130,
   "metadata": {},
   "outputs": [],
   "source": [
    "# Обработаем непрерывные признаки перед загрузкой в модель\n",
    "train_data_numeric=train_data[['ranking', 'price_range','number_of_reviews','number_of_restaurants', 'ranking_normed',\n",
    "       'number_of_citizens', 'ranking_norm_citizens',\n",
    "       'number_of_reviews_norm_citizens', 'salaries', 'ranking_norm_salaries', 'number_of_cuisines','last_review',\n",
    "       'time_between','net_size',\n",
    "       'ranking_norm_net_size', 'number_of_reviews_norm_net_size']]\n",
    "test_data_numeric=test_data[['ranking', 'price_range','number_of_reviews','number_of_restaurants', 'ranking_normed',\n",
    "       'number_of_citizens', 'ranking_norm_citizens',\n",
    "       'number_of_reviews_norm_citizens', 'salaries', 'ranking_norm_salaries', 'number_of_cuisines','last_review',\n",
    "       'time_between','net_size',\n",
    "       'ranking_norm_net_size', 'number_of_reviews_norm_net_size']]\n",
    "\n",
    "# Я выбрала RobustScaler, т.к. он устойчив к выбросам\n",
    "scaler=RobustScaler()\n",
    "train_data_numeric=scaler.fit_transform(train_data_numeric)\n",
    "test_data_numeric=scaler.transform(test_data_numeric)"
   ]
  },
  {
   "cell_type": "code",
   "execution_count": 131,
   "metadata": {},
   "outputs": [],
   "source": [
    "# Подготовка данных\n",
    "train_data_other=train_data.drop(columns=['rating','ranking', 'price_range','number_of_reviews','number_of_restaurants', 'ranking_normed',\n",
    "       'number_of_citizens', 'ranking_norm_citizens',\n",
    "       'number_of_reviews_norm_citizens', 'salaries', 'ranking_norm_salaries', 'number_of_cuisines','last_review',\n",
    "       'time_between','net_size',\n",
    "       'ranking_norm_net_size', 'number_of_reviews_norm_net_size'])\n",
    "test_data_other=test_data.drop(columns=['ranking', 'price_range','number_of_reviews','number_of_restaurants', 'ranking_normed',\n",
    "       'number_of_citizens', 'ranking_norm_citizens',\n",
    "       'number_of_reviews_norm_citizens', 'salaries', 'ranking_norm_salaries', 'number_of_cuisines','last_review',\n",
    "       'time_between','net_size',\n",
    "       'ranking_norm_net_size', 'number_of_reviews_norm_net_size'])\n",
    "\n",
    "X=np.hstack([train_data_numeric, train_data_other])\n",
    "X_valid=np.hstack([test_data_numeric, test_data_other])\n",
    "\n",
    "y=train_data['rating']"
   ]
  },
  {
   "cell_type": "code",
   "execution_count": 132,
   "metadata": {},
   "outputs": [],
   "source": [
    "# выделим 20% данных на валидацию\n",
    "X_train, X_test, y_train, y_test = train_test_split(X, y, test_size=0.2, random_state=RANDOM_SEED)"
   ]
  },
  {
   "cell_type": "code",
   "execution_count": 133,
   "metadata": {
    "execution": {
     "iopub.execute_input": "2021-10-04T13:08:05.09283Z",
     "iopub.status.busy": "2021-10-04T13:08:05.092412Z",
     "iopub.status.idle": "2021-10-04T13:08:05.100351Z",
     "shell.execute_reply": "2021-10-04T13:08:05.099499Z",
     "shell.execute_reply.started": "2021-10-04T13:08:05.092766Z"
    }
   },
   "outputs": [
    {
     "data": {
      "text/plain": [
       "((10000, 53), (40000, 54), (40000, 53), (32000, 53), (8000, 53))"
      ]
     },
     "execution_count": 133,
     "metadata": {},
     "output_type": "execute_result"
    }
   ],
   "source": [
    "# проверяем\n",
    "test_data.shape, train_data.shape, X.shape, X_train.shape, X_test.shape"
   ]
  },
  {
   "cell_type": "markdown",
   "metadata": {},
   "source": [
    "# Model \n",
    "\n",
    "**По условию данной задачи, нужно пользоваться только RandomForestRegressor с заранее установленными параметрами. Другие модели\n",
    "использовать нельзя. Метрика для оценки качества результата задана заранее - mean_absolute_error. Проверить на переобучение модель тоже нельзя.**"
   ]
  },
  {
   "cell_type": "code",
   "execution_count": 134,
   "metadata": {
    "execution": {
     "iopub.execute_input": "2021-10-05T09:42:34.298416Z",
     "iopub.status.busy": "2021-10-05T09:42:34.298053Z",
     "iopub.status.idle": "2021-10-05T09:42:34.460982Z",
     "shell.execute_reply": "2021-10-05T09:42:34.460209Z",
     "shell.execute_reply.started": "2021-10-05T09:42:34.298356Z"
    }
   },
   "outputs": [],
   "source": [
    "# Импортируем необходимые библиотеки:\n",
    "from sklearn.ensemble import RandomForestRegressor # инструмент для создания и обучения модели\n",
    "from sklearn import metrics # инструменты для оценки точности модели"
   ]
  },
  {
   "cell_type": "code",
   "execution_count": 135,
   "metadata": {
    "execution": {
     "iopub.execute_input": "2021-10-05T09:42:37.765956Z",
     "iopub.status.busy": "2021-10-05T09:42:37.765621Z",
     "iopub.status.idle": "2021-10-05T09:42:37.770682Z",
     "shell.execute_reply": "2021-10-05T09:42:37.769606Z",
     "shell.execute_reply.started": "2021-10-05T09:42:37.765909Z"
    }
   },
   "outputs": [],
   "source": [
    "# Создаём модель (НАСТРОЙКИ НЕ ТРОГАЕМ)\n",
    "model = RandomForestRegressor(n_estimators=100, verbose=1, n_jobs=-1, random_state=RANDOM_SEED)"
   ]
  },
  {
   "cell_type": "code",
   "execution_count": 136,
   "metadata": {
    "execution": {
     "iopub.execute_input": "2021-10-05T09:42:44.255119Z",
     "iopub.status.busy": "2021-10-05T09:42:44.254623Z",
     "iopub.status.idle": "2021-10-05T09:42:59.975714Z",
     "shell.execute_reply": "2021-10-05T09:42:59.974878Z",
     "shell.execute_reply.started": "2021-10-05T09:42:44.255074Z"
    }
   },
   "outputs": [
    {
     "name": "stderr",
     "output_type": "stream",
     "text": [
      "[Parallel(n_jobs=-1)]: Using backend ThreadingBackend with 4 concurrent workers.\n",
      "[Parallel(n_jobs=-1)]: Done  42 tasks      | elapsed:   15.0s\n",
      "[Parallel(n_jobs=-1)]: Done 100 out of 100 | elapsed:   38.4s finished\n",
      "[Parallel(n_jobs=4)]: Using backend ThreadingBackend with 4 concurrent workers.\n",
      "[Parallel(n_jobs=4)]: Done  42 tasks      | elapsed:    0.0s\n",
      "[Parallel(n_jobs=4)]: Done 100 out of 100 | elapsed:    0.1s finished\n"
     ]
    }
   ],
   "source": [
    "# Обучаем модель на тестовом наборе данных\n",
    "model.fit(X_train, y_train)\n",
    "\n",
    "y_pred = model.predict(X_test)"
   ]
  },
  {
   "cell_type": "code",
   "execution_count": 137,
   "metadata": {
    "execution": {
     "iopub.execute_input": "2021-10-05T09:43:04.970240Z",
     "iopub.status.busy": "2021-10-05T09:43:04.969931Z",
     "iopub.status.idle": "2021-10-05T09:43:04.977452Z",
     "shell.execute_reply": "2021-10-05T09:43:04.976324Z",
     "shell.execute_reply.started": "2021-10-05T09:43:04.970201Z"
    }
   },
   "outputs": [
    {
     "name": "stdout",
     "output_type": "stream",
     "text": [
      "MAE: 0.20188687499999997\n"
     ]
    }
   ],
   "source": [
    "# Метрика называется Mean Absolute Error (MAE) и показывает среднее отклонение предсказанных значений от фактических.\n",
    "print('MAE:', metrics.mean_absolute_error(y_test, y_pred))"
   ]
  },
  {
   "cell_type": "code",
   "execution_count": 139,
   "metadata": {
    "execution": {
     "iopub.execute_input": "2021-10-05T09:43:15.934650Z",
     "iopub.status.busy": "2021-10-05T09:43:15.934339Z",
     "iopub.status.idle": "2021-10-05T09:43:16.420721Z",
     "shell.execute_reply": "2021-10-05T09:43:16.419220Z",
     "shell.execute_reply.started": "2021-10-05T09:43:15.934611Z"
    },
    "scrolled": false
   },
   "outputs": [
    {
     "data": {
      "text/plain": [
       "<AxesSubplot:>"
      ]
     },
     "execution_count": 139,
     "metadata": {},
     "output_type": "execute_result"
    },
    {
     "data": {
      "image/png": "[encoded data removed]",
      "text/plain": [
       "<Figure size 720x720 with 1 Axes>"
      ]
     },
     "metadata": {
      "needs_background": "light"
     },
     "output_type": "display_data"
    }
   ],
   "source": [
    "# в RandomForestRegressor есть возможность вывести самые важные признаки для модели\n",
    "index=['ranking', 'price_range','number_of_reviews','number_of_restaurants', 'ranking_normed',\n",
    "       'number_of_citizens', 'ranking_norm_citizens',\n",
    "       'number_of_reviews_norm_citizens', 'salaries', 'ranking_norm_salaries', 'number_of_cuisines','last_review',\n",
    "       'time_between','net_size',\n",
    "       'ranking_norm_net_size', 'number_of_reviews_norm_net_size','number_of_reviews_isNAN','city_Amsterdam', 'city_Athens', 'city_Barcelona', 'city_Berlin',\n",
    "       'city_Bratislava', 'city_Brussels', 'city_Budapest', 'city_Copenhagen',\n",
    "       'city_Dublin', 'city_Edinburgh', 'city_Geneva', 'city_Hamburg',\n",
    "       'city_Helsinki', 'city_Krakow', 'city_Lisbon', 'city_Ljubljana',\n",
    "       'city_London', 'city_Luxembourg', 'city_Lyon', 'city_Madrid',\n",
    "       'city_Milan', 'city_Munich', 'city_Oporto', 'city_Oslo', 'city_Paris',\n",
    "       'city_Prague', 'city_Rome', 'city_Stockholm', 'city_Vienna',\n",
    "       'city_Warsaw', 'city_Zurich', 'restaurant_category_average',\n",
    "       'restaurant_category_bad', 'restaurant_category_excellent',\n",
    "       'restaurant_category_good', 'restaurant_category_unknown']\n",
    "\n",
    "plt.rcParams['figure.figsize'] = (10,10)\n",
    "feat_importances = pd.Series(model.feature_importances_, index=index)\n",
    "feat_importances.nlargest(15).plot(kind='barh')"
   ]
  },
  {
   "cell_type": "markdown",
   "metadata": {},
   "source": [
    "## Выводы"
   ]
  },
  {
   "cell_type": "markdown",
   "metadata": {},
   "source": [
    "**1. Цель данного соревнования - по максимуму использовать возможности обработки данных и feature engineering. В данном соревновании нельзя выбрать модель (может быть использован только RandomForestRegressor с заданными параметрами). Улучшение целевой метрики МАЕ может быть достигнуто только за счет добавления новых признаков и/или обработки старых.**"
   ]
  },
  {
   "cell_type": "markdown",
   "metadata": {},
   "source": [
    "**2. В датасет были внесены 14 новых непрерывных признаков, не считая dummy-переменных. Непрерывные признаки были обработаны с помощью RobustScaler. Для генерации новых признаков были использованы внешние источники данных (например, Википедия).**"
   ]
  },
  {
   "cell_type": "markdown",
   "metadata": {},
   "source": [
    "**3. Обработка данных и feature engineering позволили достичь значения метрики МАЕ, равного 0.2019.**"
   ]
  },
  {
   "cell_type": "markdown",
   "metadata": {},
   "source": [
    "# Submission\n",
    "Если все устраевает - готовим Submission на кагл"
   ]
  },
  {
   "cell_type": "code",
   "execution_count": 140,
   "metadata": {
    "execution": {
     "iopub.execute_input": "2021-10-05T09:46:43.043321Z",
     "iopub.status.busy": "2021-10-05T09:46:43.042730Z",
     "iopub.status.idle": "2021-10-05T09:46:43.050482Z",
     "shell.execute_reply": "2021-10-05T09:46:43.049491Z",
     "shell.execute_reply.started": "2021-10-05T09:46:43.043272Z"
    }
   },
   "outputs": [
    {
     "name": "stderr",
     "output_type": "stream",
     "text": [
      "[Parallel(n_jobs=-1)]: Using backend ThreadingBackend with 4 concurrent workers.\n",
      "[Parallel(n_jobs=-1)]: Done  42 tasks      | elapsed:   20.3s\n",
      "[Parallel(n_jobs=-1)]: Done 100 out of 100 | elapsed:   46.9s finished\n",
      "[Parallel(n_jobs=4)]: Using backend ThreadingBackend with 4 concurrent workers.\n",
      "[Parallel(n_jobs=4)]: Done  42 tasks      | elapsed:    0.0s\n",
      "[Parallel(n_jobs=4)]: Done 100 out of 100 | elapsed:    0.1s finished\n"
     ]
    }
   ],
   "source": [
    "# Обучаем модель на всем трейне\n",
    "model.fit(X,y)\n",
    "\n",
    "predict_submission=model.predict(X_valid)"
   ]
  },
  {
   "cell_type": "code",
   "execution_count": 110,
   "metadata": {
    "execution": {
     "iopub.execute_input": "2021-10-03T12:16:10.835645Z",
     "iopub.status.busy": "2021-10-03T12:16:10.835116Z",
     "iopub.status.idle": "2021-10-03T12:16:10.854277Z",
     "shell.execute_reply": "2021-10-03T12:16:10.852483Z",
     "shell.execute_reply.started": "2021-10-03T12:16:10.835581Z"
    }
   },
   "outputs": [
    {
     "data": {
      "text/html": [
       "<div>\n",
       "<style scoped>\n",
       "    .dataframe tbody tr th:only-of-type {\n",
       "        vertical-align: middle;\n",
       "    }\n",
       "\n",
       "    .dataframe tbody tr th {\n",
       "        vertical-align: top;\n",
       "    }\n",
       "\n",
       "    .dataframe thead th {\n",
       "        text-align: right;\n",
       "    }\n",
       "</style>\n",
       "<table border=\"1\" class=\"dataframe\">\n",
       "  <thead>\n",
       "    <tr style=\"text-align: right;\">\n",
       "      <th></th>\n",
       "      <th>Restaurant_id</th>\n",
       "      <th>Rating</th>\n",
       "    </tr>\n",
       "  </thead>\n",
       "  <tbody>\n",
       "    <tr>\n",
       "      <th>0</th>\n",
       "      <td>id_0</td>\n",
       "      <td>2.0</td>\n",
       "    </tr>\n",
       "    <tr>\n",
       "      <th>1</th>\n",
       "      <td>id_1</td>\n",
       "      <td>2.5</td>\n",
       "    </tr>\n",
       "    <tr>\n",
       "      <th>2</th>\n",
       "      <td>id_2</td>\n",
       "      <td>4.0</td>\n",
       "    </tr>\n",
       "    <tr>\n",
       "      <th>3</th>\n",
       "      <td>id_3</td>\n",
       "      <td>1.0</td>\n",
       "    </tr>\n",
       "    <tr>\n",
       "      <th>4</th>\n",
       "      <td>id_4</td>\n",
       "      <td>4.0</td>\n",
       "    </tr>\n",
       "    <tr>\n",
       "      <th>...</th>\n",
       "      <td>...</td>\n",
       "      <td>...</td>\n",
       "    </tr>\n",
       "    <tr>\n",
       "      <th>9995</th>\n",
       "      <td>id_9995</td>\n",
       "      <td>3.0</td>\n",
       "    </tr>\n",
       "    <tr>\n",
       "      <th>9996</th>\n",
       "      <td>id_9996</td>\n",
       "      <td>1.5</td>\n",
       "    </tr>\n",
       "    <tr>\n",
       "      <th>9997</th>\n",
       "      <td>id_9997</td>\n",
       "      <td>4.5</td>\n",
       "    </tr>\n",
       "    <tr>\n",
       "      <th>9998</th>\n",
       "      <td>id_9998</td>\n",
       "      <td>1.0</td>\n",
       "    </tr>\n",
       "    <tr>\n",
       "      <th>9999</th>\n",
       "      <td>id_9999</td>\n",
       "      <td>2.5</td>\n",
       "    </tr>\n",
       "  </tbody>\n",
       "</table>\n",
       "<p>10000 rows × 2 columns</p>\n",
       "</div>"
      ],
      "text/plain": [
       "     Restaurant_id  Rating\n",
       "0             id_0     2.0\n",
       "1             id_1     2.5\n",
       "2             id_2     4.0\n",
       "3             id_3     1.0\n",
       "4             id_4     4.0\n",
       "...            ...     ...\n",
       "9995       id_9995     3.0\n",
       "9996       id_9996     1.5\n",
       "9997       id_9997     4.5\n",
       "9998       id_9998     1.0\n",
       "9999       id_9999     2.5\n",
       "\n",
       "[10000 rows x 2 columns]"
      ]
     },
     "execution_count": 110,
     "metadata": {},
     "output_type": "execute_result"
    }
   ],
   "source": [
    "sample_submission"
   ]
  },
  {
   "cell_type": "code",
   "execution_count": 112,
   "metadata": {
    "execution": {
     "iopub.execute_input": "2021-10-03T12:16:17.615988Z",
     "iopub.status.busy": "2021-10-03T12:16:17.615573Z",
     "iopub.status.idle": "2021-10-03T12:16:17.623456Z",
     "shell.execute_reply": "2021-10-03T12:16:17.622186Z",
     "shell.execute_reply.started": "2021-10-03T12:16:17.615925Z"
    }
   },
   "outputs": [
    {
     "data": {
      "text/plain": [
       "array([3.135, 4.155, 4.485, ..., 3.11 , 4.415, 4.185])"
      ]
     },
     "execution_count": 112,
     "metadata": {},
     "output_type": "execute_result"
    }
   ],
   "source": [
    "predict_submission"
   ]
  },
  {
   "cell_type": "code",
   "execution_count": 141,
   "metadata": {
    "execution": {
     "iopub.execute_input": "2021-10-05T09:46:58.702439Z",
     "iopub.status.busy": "2021-10-05T09:46:58.702096Z",
     "iopub.status.idle": "2021-10-05T09:46:59.186589Z",
     "shell.execute_reply": "2021-10-05T09:46:59.185632Z",
     "shell.execute_reply.started": "2021-10-05T09:46:58.702387Z"
    }
   },
   "outputs": [
    {
     "data": {
      "text/html": [
       "<div>\n",
       "<style scoped>\n",
       "    .dataframe tbody tr th:only-of-type {\n",
       "        vertical-align: middle;\n",
       "    }\n",
       "\n",
       "    .dataframe tbody tr th {\n",
       "        vertical-align: top;\n",
       "    }\n",
       "\n",
       "    .dataframe thead th {\n",
       "        text-align: right;\n",
       "    }\n",
       "</style>\n",
       "<table border=\"1\" class=\"dataframe\">\n",
       "  <thead>\n",
       "    <tr style=\"text-align: right;\">\n",
       "      <th></th>\n",
       "      <th>Restaurant_id</th>\n",
       "      <th>Rating</th>\n",
       "    </tr>\n",
       "  </thead>\n",
       "  <tbody>\n",
       "    <tr>\n",
       "      <th>0</th>\n",
       "      <td>id_0</td>\n",
       "      <td>3.060</td>\n",
       "    </tr>\n",
       "    <tr>\n",
       "      <th>1</th>\n",
       "      <td>id_1</td>\n",
       "      <td>4.280</td>\n",
       "    </tr>\n",
       "    <tr>\n",
       "      <th>2</th>\n",
       "      <td>id_2</td>\n",
       "      <td>4.490</td>\n",
       "    </tr>\n",
       "    <tr>\n",
       "      <th>3</th>\n",
       "      <td>id_3</td>\n",
       "      <td>4.280</td>\n",
       "    </tr>\n",
       "    <tr>\n",
       "      <th>4</th>\n",
       "      <td>id_4</td>\n",
       "      <td>4.495</td>\n",
       "    </tr>\n",
       "    <tr>\n",
       "      <th>5</th>\n",
       "      <td>id_5</td>\n",
       "      <td>4.425</td>\n",
       "    </tr>\n",
       "    <tr>\n",
       "      <th>6</th>\n",
       "      <td>id_6</td>\n",
       "      <td>1.350</td>\n",
       "    </tr>\n",
       "    <tr>\n",
       "      <th>7</th>\n",
       "      <td>id_7</td>\n",
       "      <td>2.910</td>\n",
       "    </tr>\n",
       "    <tr>\n",
       "      <th>8</th>\n",
       "      <td>id_8</td>\n",
       "      <td>4.070</td>\n",
       "    </tr>\n",
       "    <tr>\n",
       "      <th>9</th>\n",
       "      <td>id_9</td>\n",
       "      <td>4.565</td>\n",
       "    </tr>\n",
       "  </tbody>\n",
       "</table>\n",
       "</div>"
      ],
      "text/plain": [
       "  Restaurant_id  Rating\n",
       "0          id_0   3.060\n",
       "1          id_1   4.280\n",
       "2          id_2   4.490\n",
       "3          id_3   4.280\n",
       "4          id_4   4.495\n",
       "5          id_5   4.425\n",
       "6          id_6   1.350\n",
       "7          id_7   2.910\n",
       "8          id_8   4.070\n",
       "9          id_9   4.565"
      ]
     },
     "execution_count": 141,
     "metadata": {},
     "output_type": "execute_result"
    }
   ],
   "source": [
    "sample_submission['Rating'] = predict_submission\n",
    "sample_submission.to_csv('submission.csv', index=False)\n",
    "sample_submission.head(10)"
   ]
  },
  {
   "cell_type": "code",
   "execution_count": null,
   "metadata": {},
   "outputs": [],
   "source": []
  }
 ],
 "metadata": {
  "kernelspec": {
   "display_name": "Python 3",
   "language": "python",
   "name": "python3"
  },
  "language_info": {
   "codemirror_mode": {
    "name": "ipython",
    "version": 3
   },
   "file_extension": ".py",
   "mimetype": "text/x-python",
   "name": "python",
   "nbconvert_exporter": "python",
   "pygments_lexer": "ipython3",
   "version": "3.8.8"
  }
 },
 "nbformat": 4,
 "nbformat_minor": 4
}
