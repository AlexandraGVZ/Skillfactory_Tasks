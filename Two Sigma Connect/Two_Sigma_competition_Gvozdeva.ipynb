{
 "cells": [
  {
   "cell_type": "code",
   "execution_count": 188,
   "id": "fb34dfa3",
   "metadata": {},
   "outputs": [],
   "source": [
    "import pandas as pd\n",
    "import json\n",
    "from sklearn.preprocessing import LabelEncoder\n",
    "import numpy as np\n",
    "import matplotlib.pyplot as plt\n",
    "import seaborn as sns\n",
    "from datetime import datetime\n",
    "from sklearn.model_selection import train_test_split\n",
    "from sklearn.linear_model import LogisticRegression\n",
    "from sklearn.ensemble import RandomForestClassifier\n",
    "from sklearn.ensemble import AdaBoostClassifier\n",
    "from sklearn.model_selection import cross_validate\n",
    "from sklearn.model_selection import GridSearchCV, RandomizedSearchCV\n",
    "from sklearn.ensemble import GradientBoostingClassifier\n",
    "from sklearn.metrics import classification_report, f1_score, accuracy_score, precision_score, roc_auc_score, recall_score, confusion_matrix"
   ]
  },
  {
   "cell_type": "code",
   "execution_count": 170,
   "id": "286e9b22",
   "metadata": {},
   "outputs": [],
   "source": [
    "with open(\"train.json\") as f:\n",
    "    df_train = json.load(f)\n",
    "\n",
    "df_train=pd.DataFrame(df_train)"
   ]
  },
  {
   "cell_type": "code",
   "execution_count": 171,
   "id": "67484e69",
   "metadata": {},
   "outputs": [],
   "source": [
    "with open(\"test.json\") as k:\n",
    "    df_test = json.load(k)\n",
    "    \n",
    "df_test=pd.DataFrame(df_test)"
   ]
  },
  {
   "cell_type": "code",
   "execution_count": 4,
   "id": "dbb51d77",
   "metadata": {},
   "outputs": [
    {
     "data": {
      "text/plain": [
       "(49352, 15)"
      ]
     },
     "execution_count": 4,
     "metadata": {},
     "output_type": "execute_result"
    }
   ],
   "source": [
    "df_train.shape"
   ]
  },
  {
   "cell_type": "code",
   "execution_count": 5,
   "id": "eaf4a9dd",
   "metadata": {},
   "outputs": [
    {
     "data": {
      "text/plain": [
       "(74659, 14)"
      ]
     },
     "execution_count": 5,
     "metadata": {},
     "output_type": "execute_result"
    }
   ],
   "source": [
    "df_test.shape"
   ]
  },
  {
   "cell_type": "code",
   "execution_count": 6,
   "id": "9152be93",
   "metadata": {},
   "outputs": [
    {
     "data": {
      "text/plain": [
       "Index(['bathrooms', 'bedrooms', 'building_id', 'created', 'description',\n",
       "       'display_address', 'features', 'latitude', 'listing_id', 'longitude',\n",
       "       'manager_id', 'photos', 'price', 'street_address', 'interest_level'],\n",
       "      dtype='object')"
      ]
     },
     "execution_count": 6,
     "metadata": {},
     "output_type": "execute_result"
    }
   ],
   "source": [
    "df_train.columns"
   ]
  },
  {
   "cell_type": "code",
   "execution_count": 7,
   "id": "9883bb80",
   "metadata": {},
   "outputs": [
    {
     "data": {
      "text/plain": [
       "Index(['bathrooms', 'bedrooms', 'building_id', 'created', 'description',\n",
       "       'display_address', 'features', 'latitude', 'listing_id', 'longitude',\n",
       "       'manager_id', 'photos', 'price', 'street_address'],\n",
       "      dtype='object')"
      ]
     },
     "execution_count": 7,
     "metadata": {},
     "output_type": "execute_result"
    }
   ],
   "source": [
    "df_test.columns"
   ]
  },
  {
   "cell_type": "code",
   "execution_count": 8,
   "id": "8ed38af5",
   "metadata": {},
   "outputs": [
    {
     "name": "stdout",
     "output_type": "stream",
     "text": [
      "<class 'pandas.core.frame.DataFrame'>\n",
      "Index: 49352 entries, 4 to 124009\n",
      "Data columns (total 15 columns):\n",
      " #   Column           Non-Null Count  Dtype  \n",
      "---  ------           --------------  -----  \n",
      " 0   bathrooms        49352 non-null  float64\n",
      " 1   bedrooms         49352 non-null  int64  \n",
      " 2   building_id      49352 non-null  object \n",
      " 3   created          49352 non-null  object \n",
      " 4   description      49352 non-null  object \n",
      " 5   display_address  49352 non-null  object \n",
      " 6   features         49352 non-null  object \n",
      " 7   latitude         49352 non-null  float64\n",
      " 8   listing_id       49352 non-null  int64  \n",
      " 9   longitude        49352 non-null  float64\n",
      " 10  manager_id       49352 non-null  object \n",
      " 11  photos           49352 non-null  object \n",
      " 12  price            49352 non-null  int64  \n",
      " 13  street_address   49352 non-null  object \n",
      " 14  interest_level   49352 non-null  object \n",
      "dtypes: float64(3), int64(3), object(9)\n",
      "memory usage: 6.0+ MB\n"
     ]
    }
   ],
   "source": [
    "df_train.info()"
   ]
  },
  {
   "cell_type": "code",
   "execution_count": 9,
   "id": "8fd0d795",
   "metadata": {},
   "outputs": [
    {
     "data": {
      "text/plain": [
       "bathrooms          0\n",
       "bedrooms           0\n",
       "building_id        0\n",
       "created            0\n",
       "description        0\n",
       "display_address    0\n",
       "features           0\n",
       "latitude           0\n",
       "listing_id         0\n",
       "longitude          0\n",
       "manager_id         0\n",
       "photos             0\n",
       "price              0\n",
       "street_address     0\n",
       "interest_level     0\n",
       "dtype: int64"
      ]
     },
     "execution_count": 9,
     "metadata": {},
     "output_type": "execute_result"
    }
   ],
   "source": [
    "df_train.isnull().sum()"
   ]
  },
  {
   "cell_type": "code",
   "execution_count": 10,
   "id": "e255c8c5",
   "metadata": {},
   "outputs": [
    {
     "data": {
      "text/plain": [
       "bathrooms          0\n",
       "bedrooms           0\n",
       "building_id        0\n",
       "created            0\n",
       "description        0\n",
       "display_address    0\n",
       "features           0\n",
       "latitude           0\n",
       "listing_id         0\n",
       "longitude          0\n",
       "manager_id         0\n",
       "photos             0\n",
       "price              0\n",
       "street_address     0\n",
       "dtype: int64"
      ]
     },
     "execution_count": 10,
     "metadata": {},
     "output_type": "execute_result"
    }
   ],
   "source": [
    "df_test.isnull().sum()"
   ]
  },
  {
   "cell_type": "markdown",
   "id": "f95615d2",
   "metadata": {},
   "source": [
    "**Мы видим, что пропусков в данных нет (что хорошо).**"
   ]
  },
  {
   "cell_type": "markdown",
   "id": "53601286",
   "metadata": {},
   "source": [
    "## Осмотр целевой переменной"
   ]
  },
  {
   "cell_type": "code",
   "execution_count": 33,
   "id": "fa1a7f00",
   "metadata": {},
   "outputs": [
    {
     "data": {
      "text/plain": [
       "{'low': 69.46830928837737,\n",
       " 'medium': 22.752877289674178,\n",
       " 'high': 7.778813421948453}"
      ]
     },
     "execution_count": 33,
     "metadata": {},
     "output_type": "execute_result"
    }
   ],
   "source": [
    "# Видно, что классы в целевой переменной несбалансированы. Количество экземпляров класса high в 10 раз меньше, \n",
    "# чем количество экземпляров класса low. Это важно будет учесть при выборе параметров модели\n",
    "distribution=df_train['interest_level'].value_counts()\n",
    "index=distribution.index\n",
    "dictionary_of_classes={index[0]:(distribution[0]/distribution.sum())*100, \n",
    "              index[1]:(distribution[1]/distribution.sum())*100,\n",
    "              index[2]:(distribution[2]/distribution.sum())*100}\n",
    "dictionary_of_classes"
   ]
  },
  {
   "cell_type": "code",
   "execution_count": 4,
   "id": "398621de",
   "metadata": {},
   "outputs": [],
   "source": [
    "# Функция, заменяющая строковые значения на числовые\n",
    "def change_to_numeric(string):\n",
    "    if string=='low':\n",
    "        return 1\n",
    "    elif string=='medium':\n",
    "        return 2\n",
    "    elif string=='high':\n",
    "        return 3"
   ]
  },
  {
   "cell_type": "code",
   "execution_count": 172,
   "id": "7fd83c3a",
   "metadata": {},
   "outputs": [],
   "source": [
    "# Заменим строковые значения целевой переменной на числовые\n",
    "df_train['interest_level']=df_train['interest_level'].apply(change_to_numeric)"
   ]
  },
  {
   "cell_type": "code",
   "execution_count": 269,
   "id": "542741ff",
   "metadata": {},
   "outputs": [],
   "source": [
    "# Для корректной обработки датасета нужно объединить трейн и тест\n",
    "df_train['sample'] = 1 # помечаем где у нас трейн\n",
    "df_test['sample'] = 0  # помечаем где у нас тест\n",
    "df_test['interest_level'] = 0 # в тесте у нас нет значения interest_level, мы его должны предсказать, поэтому пока просто \n",
    "# заполняем нулями\n",
    "\n",
    "data = df_test.append(df_train, sort=False).reset_index(drop=True) # объединяем"
   ]
  },
  {
   "cell_type": "markdown",
   "id": "45b1f9cd",
   "metadata": {},
   "source": [
    "## Первичный осмотр данных"
   ]
  },
  {
   "cell_type": "code",
   "execution_count": 174,
   "id": "29f397a6",
   "metadata": {},
   "outputs": [],
   "source": [
    "# Функция для отрисовки гистограмм непрерывных переменных\n",
    "def first_look(df, column):\n",
    "    fig, ax = plt.subplots(figsize=(7, 4))\n",
    "    df[column].hist(ax=ax)\n",
    "    plt.title(column)\n",
    "    plt.show()"
   ]
  },
  {
   "cell_type": "code",
   "execution_count": 175,
   "id": "a96cea9d",
   "metadata": {},
   "outputs": [],
   "source": [
    "# Функция для определения межквартильного расстояния\n",
    "def IQR_outlier(df, column):\n",
    "    perc25 = df[column].quantile(0.25)\n",
    "    perc75 = df[column].quantile(0.75)\n",
    "    IQR = perc75 - perc25\n",
    "    low = perc25 - 1.5*IQR\n",
    "    high = perc75 + 1.5*IQR\n",
    "    print('25-й перцентиль: {},'.format(perc25)[:-1], '75-й перцентиль: {},'.format(perc75),\n",
    "            \"IQR: {}, \".format(IQR), \"Границы выбросов: [{f}, {l}].\".format(f=low, l=high))\n",
    "    return (low, high)"
   ]
  },
  {
   "cell_type": "code",
   "execution_count": 176,
   "id": "2ee0cb5f",
   "metadata": {},
   "outputs": [],
   "source": [
    "# Функция для построения графиков типа boxplot\n",
    "def get_boxplot(df, column):\n",
    "    fig, axes = plt.subplots(ncols=2, figsize=(6, 4))\n",
    "\n",
    "    sns.boxplot(data=df[column], orient=\"h\",\n",
    "                 palette=\"Set2\", whis=1.5, ax=axes[0]);\n",
    "    df[column].hist(bins=20, ax=axes[1])\n",
    "    fig.tight_layout(rect=[-1, 0.03, 1, 0.95])\n",
    "    plt.title(column)\n",
    "    plt.show()"
   ]
  },
  {
   "cell_type": "markdown",
   "id": "eaa66a5e",
   "metadata": {},
   "source": [
    "**Осмотр числовых признаков**"
   ]
  },
  {
   "cell_type": "code",
   "execution_count": 177,
   "id": "ec099885",
   "metadata": {
    "scrolled": false
   },
   "outputs": [
    {
     "data": {
      "image/png": "[encoded data removed]",
      "text/plain": [
       "<Figure size 504x288 with 1 Axes>"
      ]
     },
     "metadata": {
      "needs_background": "light"
     },
     "output_type": "display_data"
    },
    {
     "data": {
      "image/png": "[encoded data removed]",
      "text/plain": [
       "<Figure size 504x288 with 1 Axes>"
      ]
     },
     "metadata": {
      "needs_background": "light"
     },
     "output_type": "display_data"
    },
    {
     "data": {
      "image/png": "[encoded data removed]",
      "text/plain": [
       "<Figure size 504x288 with 1 Axes>"
      ]
     },
     "metadata": {
      "needs_background": "light"
     },
     "output_type": "display_data"
    },
    {
     "data": {
      "image/png": "[encoded data removed]",
      "text/plain": [
       "<Figure size 504x288 with 1 Axes>"
      ]
     },
     "metadata": {
      "needs_background": "light"
     },
     "output_type": "display_data"
    },
    {
     "data": {
      "image/png": "[encoded data removed]",
      "text/plain": [
       "<Figure size 504x288 with 1 Axes>"
      ]
     },
     "metadata": {
      "needs_background": "light"
     },
     "output_type": "display_data"
    }
   ],
   "source": [
    "# Числовых признаков пять - bathrooms, bedrooms, latitude, longitude, price. Нарисуем гистограммы этих признаков\n",
    "columns=['bathrooms','bedrooms',\"latitude\",'longitude','price']\n",
    "for col in columns:\n",
    "    first_look(data, col)"
   ]
  },
  {
   "cell_type": "code",
   "execution_count": 12,
   "id": "4160f305",
   "metadata": {
    "scrolled": true
   },
   "outputs": [
    {
     "data": {
      "image/png": "[encoded data removed]",
      "text/plain": [
       "<Figure size 432x288 with 2 Axes>"
      ]
     },
     "metadata": {
      "needs_background": "light"
     },
     "output_type": "display_data"
    },
    {
     "data": {
      "image/png": "[encoded data removed]",
      "text/plain": [
       "<Figure size 432x288 with 2 Axes>"
      ]
     },
     "metadata": {
      "needs_background": "light"
     },
     "output_type": "display_data"
    },
    {
     "data": {
      "image/png": "[encoded data removed]",
      "text/plain": [
       "<Figure size 432x288 with 2 Axes>"
      ]
     },
     "metadata": {
      "needs_background": "light"
     },
     "output_type": "display_data"
    },
    {
     "data": {
      "image/png": "[encoded data removed]",
      "text/plain": [
       "<Figure size 432x288 with 2 Axes>"
      ]
     },
     "metadata": {
      "needs_background": "light"
     },
     "output_type": "display_data"
    },
    {
     "data": {
      "image/png": "[encoded data removed]",
      "text/plain": [
       "<Figure size 432x288 with 2 Axes>"
      ]
     },
     "metadata": {
      "needs_background": "light"
     },
     "output_type": "display_data"
    }
   ],
   "source": [
    "# Нарисуем боксплоты вместе с гистограммами для числовых признаков\n",
    "for col in columns:\n",
    "    get_boxplot(data, col)"
   ]
  },
  {
   "cell_type": "markdown",
   "id": "f521433b",
   "metadata": {},
   "source": [
    "**Видно, что в данных есть выбросы и/или ошибки. Обработаем их позже, а сейчас пока обучим несколько моделей на необработанных данных**"
   ]
  },
  {
   "cell_type": "markdown",
   "id": "5ecd76a6",
   "metadata": {},
   "source": [
    "## Базовая линия"
   ]
  },
  {
   "cell_type": "markdown",
   "id": "ae520ea0",
   "metadata": {},
   "source": [
    "**Построим базовую линию на необработанных данных**"
   ]
  },
  {
   "cell_type": "code",
   "execution_count": 270,
   "id": "aa8ae3ad",
   "metadata": {},
   "outputs": [],
   "source": [
    "# Выберем из датасета только данные train.json для обучения модели. Ранее мы пометили трейн цифрой 1 в колонке sample\n",
    "X=data[['bathrooms','bedrooms','latitude','longitude','price','sample']].query('sample==1').drop('sample', axis=1)\n",
    "y=data[['interest_level','sample']].query('sample==1').drop('sample', axis=1)"
   ]
  },
  {
   "cell_type": "code",
   "execution_count": 179,
   "id": "50da00f1",
   "metadata": {},
   "outputs": [],
   "source": [
    "from sklearn.model_selection import train_test_split\n",
    "from sklearn.linear_model import LogisticRegression\n",
    "from sklearn.metrics import classification_report, f1_score, accuracy_score, precision_score, roc_auc_score, recall_score, confusion_matrix"
   ]
  },
  {
   "cell_type": "code",
   "execution_count": 274,
   "id": "c38fbb0d",
   "metadata": {},
   "outputs": [],
   "source": [
    "X_train, X_test, y_train, y_test = train_test_split(X, y, test_size=0.2, random_state=42)"
   ]
  },
  {
   "cell_type": "code",
   "execution_count": 181,
   "id": "c2bd65b3",
   "metadata": {},
   "outputs": [],
   "source": [
    "# Напишем функцию, которая будет отображать нам значения всех метрик на тренировочной выборке и на тестовой.\n",
    "def show_metrics(y_pred_train, Y_train, y_pred_test, Y_test, y_pred_proba_train, y_pred_proba_test,avg='weighted'):\n",
    "    f1_score_train=f1_score(y_pred_train,Y_train, average=avg)\n",
    "    f1_score_test=f1_score(y_pred_test,Y_test, average=avg)\n",
    "    print('[train] f1_score {0:.4f}, [test] f1_score {1:.4f}\\n'.format(f1_score_train,f1_score_test))\n",
    "    precision_score_train=precision_score(y_pred_train,Y_train, average=avg)\n",
    "    precision_score_test=precision_score(y_pred_test,Y_test, average=avg)\n",
    "    print('[train] precision_score {0:.4f}, [test] precision_score {1:.4f}\\n'.format(precision_score_train,precision_score_test))\n",
    "    recall_score_train=recall_score(y_pred_train,Y_train, average=avg)\n",
    "    recall_score_test=recall_score(y_pred_test,Y_test, average=avg)\n",
    "    print('[train] recall_score {0:.4f}, [test] recall_score {1:.4f}\\n'.format(recall_score_train,recall_score_test))\n",
    "    accuracy_score_train=accuracy_score(y_pred_train,Y_train)\n",
    "    accuracy_score_test=accuracy_score(y_pred_test,Y_test)\n",
    "    print('[train] accuracy_score {0:.4f}, [test] accuracy_score {1:.4f}\\n'.format(accuracy_score_train,accuracy_score_test))\n",
    "    roc_auc_score_train=roc_auc_score(Y_train,y_pred_proba_train, average=avg, multi_class='ovr')\n",
    "    roc_auc_score_test=roc_auc_score(Y_test,y_pred_proba_test, average=avg, multi_class='ovr')\n",
    "    print('[train] roc_auc_score {0:.4f}, [test] roc_auc_score {1:.4f}\\n'.format(roc_auc_score_train,roc_auc_score_test))\n",
    "    confusion_matrix_train=confusion_matrix(y_pred_train,Y_train)\n",
    "    confusion_matrix_test=confusion_matrix(y_pred_test,Y_test)\n",
    "    print('[train] confusion_matrix \\n {0}, \\n[test] confusion_matrix \\n {1}\\n'.format(confusion_matrix_train,confusion_matrix_test))"
   ]
  },
  {
   "cell_type": "code",
   "execution_count": 187,
   "id": "995e0e53",
   "metadata": {},
   "outputs": [],
   "source": [
    "# Напишем функцию, которая будет визуализировать среднюю метрику f1_score_macro на кросс-валидации\n",
    "def plot_cv_metrics(cv_metrics):\n",
    "    avg_f1_train, std_f1_train = cv_metrics['train_score'].mean(), cv_metrics['train_score'].std()\n",
    "    avg_f1_valid, std_f1_valid = cv_metrics['test_score'].mean(), cv_metrics['test_score'].std()\n",
    "    print('[train] F1-score = {:.2f} +/- {:.2f}'.format(avg_f1_train, std_f1_train))\n",
    "    print('[valid] F1-score = {:.2f} +/- {:.2f}'.format(avg_f1_valid, std_f1_valid))\n",
    "    \n",
    "    plt.figure(figsize=(15, 5))\n",
    "\n",
    "    plt.plot(cv_metrics['train_score'], label='train', marker='.')\n",
    "    plt.plot(cv_metrics['test_score'], label='valid', marker='.')\n",
    "\n",
    "    plt.ylim([0., 1.]);\n",
    "    plt.xlabel('CV iteration', fontsize=15)\n",
    "    plt.ylabel('F1-score', fontsize=15)\n",
    "    plt.legend(fontsize=15)"
   ]
  },
  {
   "cell_type": "code",
   "execution_count": 275,
   "id": "4dcef5bc",
   "metadata": {},
   "outputs": [
    {
     "name": "stderr",
     "output_type": "stream",
     "text": [
      "C:\\Users\\Sasha\\anaconda3\\lib\\site-packages\\sklearn\\utils\\validation.py:63: DataConversionWarning: A column-vector y was passed when a 1d array was expected. Please change the shape of y to (n_samples, ), for example using ravel().\n",
      "  return f(*args, **kwargs)\n"
     ]
    }
   ],
   "source": [
    "# Попробуем использовать логистическую регрессию с параметрами по умолчанию\n",
    "logreg_baseline=LogisticRegression()\n",
    "\n",
    "logreg_baseline.fit(X_train,y_train)\n",
    "y_pred_test=logreg_baseline.predict(X_test)\n",
    "y_pred_train=logreg_baseline.predict(X_train)"
   ]
  },
  {
   "cell_type": "code",
   "execution_count": 276,
   "id": "541bcdb1",
   "metadata": {},
   "outputs": [],
   "source": [
    "y_pred_proba_test=logreg_baseline.predict_proba(X_test)\n",
    "y_pred_proba_train=logreg_baseline.predict_proba(X_train)"
   ]
  },
  {
   "cell_type": "code",
   "execution_count": 277,
   "id": "5d10b179",
   "metadata": {
    "scrolled": true
   },
   "outputs": [
    {
     "name": "stdout",
     "output_type": "stream",
     "text": [
      "[train] f1_score 0.2949, [test] f1_score 0.2937\n",
      "\n",
      "[train] precision_score 0.3396, [test] precision_score 0.3398\n",
      "\n",
      "[train] recall_score 0.3360, [test] recall_score 0.3391\n",
      "\n",
      "[train] accuracy_score 0.6910, [test] accuracy_score 0.6901\n",
      "\n",
      "[train] roc_auc_score 0.6918, [test] roc_auc_score 0.6870\n",
      "\n",
      "[train] confusion_matrix \n",
      " [[26950  8610  2837]\n",
      " [  493   331   257]\n",
      " [    3     0     0]], \n",
      "[test] confusion_matrix \n",
      " [[6732 2208  679]\n",
      " [ 106   80   66]\n",
      " [   0    0    0]]\n",
      "\n"
     ]
    },
    {
     "name": "stderr",
     "output_type": "stream",
     "text": [
      "C:\\Users\\Sasha\\anaconda3\\lib\\site-packages\\sklearn\\metrics\\_classification.py:1245: UndefinedMetricWarning: Recall is ill-defined and being set to 0.0 in labels with no true samples. Use `zero_division` parameter to control this behavior.\n",
      "  _warn_prf(average, modifier, msg_start, len(result))\n"
     ]
    }
   ],
   "source": [
    "# Выведем метрики\n",
    "show_metrics(y_pred_train,y_train,y_pred_test,y_test,y_pred_proba_train,y_pred_proba_test, avg='macro')"
   ]
  },
  {
   "cell_type": "code",
   "execution_count": 280,
   "id": "11692c81",
   "metadata": {},
   "outputs": [
    {
     "name": "stderr",
     "output_type": "stream",
     "text": [
      "C:\\Users\\Sasha\\anaconda3\\lib\\site-packages\\sklearn\\utils\\validation.py:63: DataConversionWarning: A column-vector y was passed when a 1d array was expected. Please change the shape of y to (n_samples, ), for example using ravel().\n",
      "  return f(*args, **kwargs)\n",
      "C:\\Users\\Sasha\\anaconda3\\lib\\site-packages\\sklearn\\utils\\validation.py:63: DataConversionWarning: A column-vector y was passed when a 1d array was expected. Please change the shape of y to (n_samples, ), for example using ravel().\n",
      "  return f(*args, **kwargs)\n",
      "C:\\Users\\Sasha\\anaconda3\\lib\\site-packages\\sklearn\\utils\\validation.py:63: DataConversionWarning: A column-vector y was passed when a 1d array was expected. Please change the shape of y to (n_samples, ), for example using ravel().\n",
      "  return f(*args, **kwargs)\n",
      "C:\\Users\\Sasha\\anaconda3\\lib\\site-packages\\sklearn\\utils\\validation.py:63: DataConversionWarning: A column-vector y was passed when a 1d array was expected. Please change the shape of y to (n_samples, ), for example using ravel().\n",
      "  return f(*args, **kwargs)\n",
      "C:\\Users\\Sasha\\anaconda3\\lib\\site-packages\\sklearn\\utils\\validation.py:63: DataConversionWarning: A column-vector y was passed when a 1d array was expected. Please change the shape of y to (n_samples, ), for example using ravel().\n",
      "  return f(*args, **kwargs)\n"
     ]
    }
   ],
   "source": [
    "# Похоже, переобучения нет. Чтобы проверить это, воспользуемся кросс-валидацией\n",
    "cv_metrics = cross_validate(logreg_baseline, X, y, cv=5, scoring='f1_macro', return_train_score=True)"
   ]
  },
  {
   "cell_type": "code",
   "execution_count": 281,
   "id": "22233ad8",
   "metadata": {},
   "outputs": [
    {
     "name": "stdout",
     "output_type": "stream",
     "text": [
      "[train] F1-score = 0.30 +/- 0.00\n",
      "[valid] F1-score = 0.29 +/- 0.00\n"
     ]
    },
    {
     "data": {
      "image/png": "[encoded data removed]",
      "text/plain": [
       "<Figure size 1080x360 with 1 Axes>"
      ]
     },
     "metadata": {
      "needs_background": "light"
     },
     "output_type": "display_data"
    }
   ],
   "source": [
    "# Выведем график\n",
    "plot_cv_metrics(cv_metrics)"
   ]
  },
  {
   "cell_type": "markdown",
   "id": "664900cb",
   "metadata": {},
   "source": [
    "**Видно, что логистическая регрессия с параметрами по умолчанию очень плохо определяет объекты класса 3 (high) на необработанных данных. Это видно по confusion_matrix. Так как мы берем средневзвешенное значение f1_score_weighted по классам, то за счет большого удельного веса класса 1 (low) мы получаем довольно высокое итоговое значение метрики на кросс-валидации (f1_score_weighted=0.58). Если в функции cross_validate задать параметр scoring='f1_macro'(веса классов не будут учитываться), то значение метрики f1_score_macro будет равно всего 0.29 на тестовом датасете.**\n",
    "\n",
    "**Сравнение метрик на трейне и на тесте позволяет увидеть, что переобучения модели в данном случае нет.**"
   ]
  },
  {
   "cell_type": "code",
   "execution_count": null,
   "id": "530da164",
   "metadata": {},
   "outputs": [],
   "source": []
  },
  {
   "cell_type": "code",
   "execution_count": 121,
   "id": "85761e85",
   "metadata": {},
   "outputs": [],
   "source": [
    "from sklearn.ensemble import RandomForestClassifier"
   ]
  },
  {
   "cell_type": "code",
   "execution_count": 189,
   "id": "0d78e1b3",
   "metadata": {},
   "outputs": [
    {
     "name": "stderr",
     "output_type": "stream",
     "text": [
      "<ipython-input-189-9cb012a3a6ec>:4: DataConversionWarning: A column-vector y was passed when a 1d array was expected. Please change the shape of y to (n_samples,), for example using ravel().\n",
      "  rfc_baseline.fit(X_train,y_train)\n"
     ]
    }
   ],
   "source": [
    "# Попробуем использовать случайный лес с параметрами по умолчанию\n",
    "rfc_baseline=RandomForestClassifier()\n",
    "\n",
    "rfc_baseline.fit(X_train,y_train)\n",
    "y_pred_test=rfc_baseline.predict(X_test)\n",
    "y_pred_train=rfc_baseline.predict(X_train)\n",
    "y_pred_proba_test=rfc_baseline.predict_proba(X_test)\n",
    "y_pred_proba_train=rfc_baseline.predict_proba(X_train)"
   ]
  },
  {
   "cell_type": "code",
   "execution_count": 128,
   "id": "cf6ae007",
   "metadata": {
    "scrolled": true
   },
   "outputs": [
    {
     "name": "stdout",
     "output_type": "stream",
     "text": [
      "[train] f1_score 0.8784, [test] f1_score 0.4978\n",
      "\n",
      "[train] precision_score 0.8590, [test] precision_score 0.4844\n",
      "\n",
      "[train] recall_score 0.9005, [test] recall_score 0.5222\n",
      "\n",
      "[train] accuracy_score 0.9194, [test] accuracy_score 0.6949\n",
      "\n",
      "[train] roc_auc_score 0.9864, [test] roc_auc_score 0.7537\n",
      "\n",
      "[train] confusion_matrix \n",
      " [[26647  1589   289]\n",
      " [  681  7160   313]\n",
      " [  118   192  2492]], \n",
      "[test] confusion_matrix \n",
      " [[5943 1357  272]\n",
      " [ 777  713  270]\n",
      " [ 118  218  203]]\n",
      "\n"
     ]
    }
   ],
   "source": [
    "# Выведем метрики\n",
    "show_metrics(y_pred_train,y_train,y_pred_test,y_test,y_pred_proba_train,y_pred_proba_test, avg='macro')"
   ]
  },
  {
   "cell_type": "code",
   "execution_count": 190,
   "id": "8bfba724",
   "metadata": {
    "scrolled": true
   },
   "outputs": [
    {
     "name": "stderr",
     "output_type": "stream",
     "text": [
      "C:\\Users\\Sasha\\anaconda3\\lib\\site-packages\\sklearn\\model_selection\\_validation.py:593: DataConversionWarning: A column-vector y was passed when a 1d array was expected. Please change the shape of y to (n_samples,), for example using ravel().\n",
      "  estimator.fit(X_train, y_train, **fit_params)\n",
      "C:\\Users\\Sasha\\anaconda3\\lib\\site-packages\\sklearn\\model_selection\\_validation.py:593: DataConversionWarning: A column-vector y was passed when a 1d array was expected. Please change the shape of y to (n_samples,), for example using ravel().\n",
      "  estimator.fit(X_train, y_train, **fit_params)\n",
      "C:\\Users\\Sasha\\anaconda3\\lib\\site-packages\\sklearn\\model_selection\\_validation.py:593: DataConversionWarning: A column-vector y was passed when a 1d array was expected. Please change the shape of y to (n_samples,), for example using ravel().\n",
      "  estimator.fit(X_train, y_train, **fit_params)\n",
      "C:\\Users\\Sasha\\anaconda3\\lib\\site-packages\\sklearn\\model_selection\\_validation.py:593: DataConversionWarning: A column-vector y was passed when a 1d array was expected. Please change the shape of y to (n_samples,), for example using ravel().\n",
      "  estimator.fit(X_train, y_train, **fit_params)\n",
      "C:\\Users\\Sasha\\anaconda3\\lib\\site-packages\\sklearn\\model_selection\\_validation.py:593: DataConversionWarning: A column-vector y was passed when a 1d array was expected. Please change the shape of y to (n_samples,), for example using ravel().\n",
      "  estimator.fit(X_train, y_train, **fit_params)\n"
     ]
    }
   ],
   "source": [
    "# Случайный лес сильно переобучаетсмя. Чтобы проверить это, воспользуемся кросс-валидацией\n",
    "cv_metrics = cross_validate(rfc_baseline, X, y, cv=5, scoring='f1_macro', return_train_score=True)"
   ]
  },
  {
   "cell_type": "code",
   "execution_count": 191,
   "id": "93226d98",
   "metadata": {
    "scrolled": true
   },
   "outputs": [
    {
     "name": "stdout",
     "output_type": "stream",
     "text": [
      "[train] F1-score = 0.88 +/- 0.00\n",
      "[valid] F1-score = 0.51 +/- 0.01\n"
     ]
    },
    {
     "data": {
      "image/png": "[encoded data removed]",
      "text/plain": [
       "<Figure size 1080x360 with 1 Axes>"
      ]
     },
     "metadata": {
      "needs_background": "light"
     },
     "output_type": "display_data"
    }
   ],
   "source": [
    "# Выведем график\n",
    "plot_cv_metrics(cv_metrics)"
   ]
  },
  {
   "cell_type": "markdown",
   "id": "1f6d48a0",
   "metadata": {},
   "source": [
    "**Случайный лес с параметрами по умолчанию гораздо лучше справляется с объектами класса 3, чем логистическая регрессия. Но мы также видим, что модель переобучается (метрики на тесте хуже, чем метрики на трейне). При последующем подборе параметров модели нужно будет это учесть (например, ограничить максимальную глубину дерева).**"
   ]
  },
  {
   "cell_type": "code",
   "execution_count": null,
   "id": "1f57e9d6",
   "metadata": {},
   "outputs": [],
   "source": []
  },
  {
   "cell_type": "code",
   "execution_count": 129,
   "id": "f3552b48",
   "metadata": {},
   "outputs": [],
   "source": [
    "from sklearn.ensemble import AdaBoostClassifier"
   ]
  },
  {
   "cell_type": "code",
   "execution_count": 192,
   "id": "2a9bdc9a",
   "metadata": {},
   "outputs": [
    {
     "name": "stderr",
     "output_type": "stream",
     "text": [
      "C:\\Users\\Sasha\\anaconda3\\lib\\site-packages\\sklearn\\utils\\validation.py:63: DataConversionWarning: A column-vector y was passed when a 1d array was expected. Please change the shape of y to (n_samples, ), for example using ravel().\n",
      "  return f(*args, **kwargs)\n"
     ]
    }
   ],
   "source": [
    "# Попробуем использовать AdaBoosting с параметрами по умолчанию\n",
    "abc_baseline=AdaBoostClassifier()\n",
    "\n",
    "abc_baseline.fit(X_train,y_train)\n",
    "y_pred_test=abc_baseline.predict(X_test)\n",
    "y_pred_train=abc_baseline.predict(X_train)\n",
    "y_pred_proba_test=abc_baseline.predict_proba(X_test)\n",
    "y_pred_proba_train=abc_baseline.predict_proba(X_train)"
   ]
  },
  {
   "cell_type": "code",
   "execution_count": 134,
   "id": "aaae2cc8",
   "metadata": {},
   "outputs": [
    {
     "name": "stdout",
     "output_type": "stream",
     "text": [
      "[train] f1_score 0.4034, [test] f1_score 0.3922\n",
      "\n",
      "[train] precision_score 0.4038, [test] precision_score 0.3961\n",
      "\n",
      "[train] recall_score 0.5631, [test] recall_score 0.5502\n",
      "\n",
      "[train] accuracy_score 0.7085, [test] accuracy_score 0.7038\n",
      "\n",
      "[train] roc_auc_score 0.7232, [test] roc_auc_score 0.7189\n",
      "\n",
      "[train] confusion_matrix \n",
      " [[26753  7973  2126]\n",
      " [  510   743   493]\n",
      " [  183   225   475]], \n",
      "[test] confusion_matrix \n",
      " [[6666 2050  505]\n",
      " [ 143  181  140]\n",
      " [  29   57  100]]\n",
      "\n"
     ]
    }
   ],
   "source": [
    "# Выведем метрики\n",
    "show_metrics(y_pred_train,y_train,y_pred_test,y_test,y_pred_proba_train,y_pred_proba_test, avg='macro')"
   ]
  },
  {
   "cell_type": "code",
   "execution_count": 193,
   "id": "101d4e23",
   "metadata": {
    "scrolled": true
   },
   "outputs": [
    {
     "name": "stderr",
     "output_type": "stream",
     "text": [
      "C:\\Users\\Sasha\\anaconda3\\lib\\site-packages\\sklearn\\utils\\validation.py:63: DataConversionWarning: A column-vector y was passed when a 1d array was expected. Please change the shape of y to (n_samples, ), for example using ravel().\n",
      "  return f(*args, **kwargs)\n",
      "C:\\Users\\Sasha\\anaconda3\\lib\\site-packages\\sklearn\\utils\\validation.py:63: DataConversionWarning: A column-vector y was passed when a 1d array was expected. Please change the shape of y to (n_samples, ), for example using ravel().\n",
      "  return f(*args, **kwargs)\n",
      "C:\\Users\\Sasha\\anaconda3\\lib\\site-packages\\sklearn\\utils\\validation.py:63: DataConversionWarning: A column-vector y was passed when a 1d array was expected. Please change the shape of y to (n_samples, ), for example using ravel().\n",
      "  return f(*args, **kwargs)\n",
      "C:\\Users\\Sasha\\anaconda3\\lib\\site-packages\\sklearn\\utils\\validation.py:63: DataConversionWarning: A column-vector y was passed when a 1d array was expected. Please change the shape of y to (n_samples, ), for example using ravel().\n",
      "  return f(*args, **kwargs)\n",
      "C:\\Users\\Sasha\\anaconda3\\lib\\site-packages\\sklearn\\utils\\validation.py:63: DataConversionWarning: A column-vector y was passed when a 1d array was expected. Please change the shape of y to (n_samples, ), for example using ravel().\n",
      "  return f(*args, **kwargs)\n"
     ]
    }
   ],
   "source": [
    "# Посчитаем метрики на кросс-валидации\n",
    "cv_metrics = cross_validate(abc_baseline, X, y, cv=5, scoring='f1_macro', return_train_score=True)"
   ]
  },
  {
   "cell_type": "code",
   "execution_count": 194,
   "id": "c241b36d",
   "metadata": {},
   "outputs": [
    {
     "name": "stdout",
     "output_type": "stream",
     "text": [
      "[train] F1-score = 0.40 +/- 0.00\n",
      "[valid] F1-score = 0.40 +/- 0.01\n"
     ]
    },
    {
     "data": {
      "image/png": "[encoded data removed]",
      "text/plain": [
       "<Figure size 1080x360 with 1 Axes>"
      ]
     },
     "metadata": {
      "needs_background": "light"
     },
     "output_type": "display_data"
    }
   ],
   "source": [
    "# Выведем график\n",
    "plot_cv_metrics(cv_metrics)"
   ]
  },
  {
   "cell_type": "markdown",
   "id": "4f363d8f",
   "metadata": {},
   "source": [
    "**В отличие от случайного леса, бустинг практически не переобучается. В дальнейшем попробуем подобрать оптимальные параметры для ада-бустинга для улучшения качества предсказания (например, изменить learning_rate и n_estimators).**"
   ]
  },
  {
   "cell_type": "code",
   "execution_count": null,
   "id": "3bfdd7e2",
   "metadata": {},
   "outputs": [],
   "source": []
  },
  {
   "cell_type": "code",
   "execution_count": 135,
   "id": "c9463937",
   "metadata": {},
   "outputs": [],
   "source": [
    "from sklearn.ensemble import GradientBoostingClassifier"
   ]
  },
  {
   "cell_type": "code",
   "execution_count": 195,
   "id": "163dc29c",
   "metadata": {},
   "outputs": [
    {
     "name": "stderr",
     "output_type": "stream",
     "text": [
      "C:\\Users\\Sasha\\anaconda3\\lib\\site-packages\\sklearn\\utils\\validation.py:63: DataConversionWarning: A column-vector y was passed when a 1d array was expected. Please change the shape of y to (n_samples, ), for example using ravel().\n",
      "  return f(*args, **kwargs)\n"
     ]
    }
   ],
   "source": [
    "# Попробуем использовать градиентный бустинг с параметрами по умолчанию\n",
    "gbc_baseline=GradientBoostingClassifier()\n",
    "\n",
    "gbc_baseline.fit(X_train,y_train)\n",
    "y_pred_test=gbc_baseline.predict(X_test)\n",
    "y_pred_train=gbc_baseline.predict(X_train)\n",
    "y_pred_proba_test=gbc_baseline.predict_proba(X_test)\n",
    "y_pred_proba_train=gbc_baseline.predict_proba(X_train)"
   ]
  },
  {
   "cell_type": "code",
   "execution_count": 196,
   "id": "36acb054",
   "metadata": {
    "scrolled": true
   },
   "outputs": [
    {
     "name": "stdout",
     "output_type": "stream",
     "text": [
      "[train] f1_score 0.4172, [test] f1_score 0.3964\n",
      "\n",
      "[train] precision_score 0.4115, [test] precision_score 0.3978\n",
      "\n",
      "[train] recall_score 0.6132, [test] recall_score 0.5744\n",
      "\n",
      "[train] accuracy_score 0.7145, [test] accuracy_score 0.7060\n",
      "\n",
      "[train] roc_auc_score 0.7744, [test] roc_auc_score 0.7630\n",
      "\n",
      "[train] confusion_matrix \n",
      " [[26837  7908  2085]\n",
      " [  488   884   521]\n",
      " [  121   149   488]], \n",
      "[test] confusion_matrix \n",
      " [[6669 2041  497]\n",
      " [ 146  204  152]\n",
      " [  23   43   96]]\n",
      "\n"
     ]
    }
   ],
   "source": [
    "# Выведем метрики\n",
    "show_metrics(y_pred_train,y_train,y_pred_test,y_test,y_pred_proba_train,y_pred_proba_test, avg='macro')"
   ]
  },
  {
   "cell_type": "code",
   "execution_count": 197,
   "id": "9fbf7a1f",
   "metadata": {
    "scrolled": true
   },
   "outputs": [
    {
     "name": "stderr",
     "output_type": "stream",
     "text": [
      "C:\\Users\\Sasha\\anaconda3\\lib\\site-packages\\sklearn\\utils\\validation.py:63: DataConversionWarning: A column-vector y was passed when a 1d array was expected. Please change the shape of y to (n_samples, ), for example using ravel().\n",
      "  return f(*args, **kwargs)\n",
      "C:\\Users\\Sasha\\anaconda3\\lib\\site-packages\\sklearn\\utils\\validation.py:63: DataConversionWarning: A column-vector y was passed when a 1d array was expected. Please change the shape of y to (n_samples, ), for example using ravel().\n",
      "  return f(*args, **kwargs)\n",
      "C:\\Users\\Sasha\\anaconda3\\lib\\site-packages\\sklearn\\utils\\validation.py:63: DataConversionWarning: A column-vector y was passed when a 1d array was expected. Please change the shape of y to (n_samples, ), for example using ravel().\n",
      "  return f(*args, **kwargs)\n",
      "C:\\Users\\Sasha\\anaconda3\\lib\\site-packages\\sklearn\\utils\\validation.py:63: DataConversionWarning: A column-vector y was passed when a 1d array was expected. Please change the shape of y to (n_samples, ), for example using ravel().\n",
      "  return f(*args, **kwargs)\n",
      "C:\\Users\\Sasha\\anaconda3\\lib\\site-packages\\sklearn\\utils\\validation.py:63: DataConversionWarning: A column-vector y was passed when a 1d array was expected. Please change the shape of y to (n_samples, ), for example using ravel().\n",
      "  return f(*args, **kwargs)\n"
     ]
    }
   ],
   "source": [
    "# Посчитаем метрики на кросс-валидации\n",
    "cv_metrics = cross_validate(gbc_baseline, X, y, cv=5, scoring='f1_macro', return_train_score=True)"
   ]
  },
  {
   "cell_type": "code",
   "execution_count": 198,
   "id": "d7b937bf",
   "metadata": {},
   "outputs": [
    {
     "name": "stdout",
     "output_type": "stream",
     "text": [
      "[train] F1-score = 0.42 +/- 0.00\n",
      "[valid] F1-score = 0.41 +/- 0.01\n"
     ]
    },
    {
     "data": {
      "image/png": "[encoded data removed]",
      "text/plain": [
       "<Figure size 1080x360 with 1 Axes>"
      ]
     },
     "metadata": {
      "needs_background": "light"
     },
     "output_type": "display_data"
    }
   ],
   "source": [
    "# Выведем график\n",
    "plot_cv_metrics(cv_metrics)"
   ]
  },
  {
   "cell_type": "markdown",
   "id": "dd631114",
   "metadata": {},
   "source": [
    "**Градиентный бустинг также дает неплохой реультат. В целом, на базовой линии бустинг выглядит предпочтительнее, чем логистическая регрессия или случайный лес: не переобучается, лучше определяет объекты 3-го класса, дает более высокие значения метрики f1_score_macro.**"
   ]
  },
  {
   "cell_type": "code",
   "execution_count": 282,
   "id": "a8474eb3",
   "metadata": {},
   "outputs": [
    {
     "data": {
      "text/html": [
       "<div>\n",
       "<style scoped>\n",
       "    .dataframe tbody tr th:only-of-type {\n",
       "        vertical-align: middle;\n",
       "    }\n",
       "\n",
       "    .dataframe tbody tr th {\n",
       "        vertical-align: top;\n",
       "    }\n",
       "\n",
       "    .dataframe thead th {\n",
       "        text-align: right;\n",
       "    }\n",
       "</style>\n",
       "<table border=\"1\" class=\"dataframe\">\n",
       "  <thead>\n",
       "    <tr style=\"text-align: right;\">\n",
       "      <th></th>\n",
       "      <th>f1_score_macro</th>\n",
       "    </tr>\n",
       "  </thead>\n",
       "  <tbody>\n",
       "    <tr>\n",
       "      <th>LogisticRegression</th>\n",
       "      <td>0.29</td>\n",
       "    </tr>\n",
       "    <tr>\n",
       "      <th>RandomForestClassifier</th>\n",
       "      <td>0.51</td>\n",
       "    </tr>\n",
       "    <tr>\n",
       "      <th>AdaBoost</th>\n",
       "      <td>0.40</td>\n",
       "    </tr>\n",
       "    <tr>\n",
       "      <th>GradientBoosing</th>\n",
       "      <td>0.41</td>\n",
       "    </tr>\n",
       "  </tbody>\n",
       "</table>\n",
       "</div>"
      ],
      "text/plain": [
       "                        f1_score_macro\n",
       "LogisticRegression                0.29\n",
       "RandomForestClassifier            0.51\n",
       "AdaBoost                          0.40\n",
       "GradientBoosing                   0.41"
      ]
     },
     "execution_count": 282,
     "metadata": {},
     "output_type": "execute_result"
    }
   ],
   "source": [
    "# На данный момент (необработанные данные) результаты следующие (указана усредненная метрика на кросс-валидации для тестовой\n",
    "# выборки):\n",
    "\n",
    "# f1_score_weighted=[0.7989,0.7128,0.7863,0.7858]\n",
    "f1_score_macro=[0.29,0.51,0.40,0.41]\n",
    "metrics_baseline={'f1_score_macro':f1_score_macro}\n",
    "pd.DataFrame(metrics_baseline, index=['LogisticRegression','RandomForestClassifier','AdaBoost','GradientBoosing'])"
   ]
  },
  {
   "cell_type": "code",
   "execution_count": null,
   "id": "4fb95abf",
   "metadata": {},
   "outputs": [],
   "source": []
  },
  {
   "cell_type": "markdown",
   "id": "3f9d458a",
   "metadata": {},
   "source": [
    "## Обработка данных и feature engineering"
   ]
  },
  {
   "cell_type": "code",
   "execution_count": 283,
   "id": "38f5d802",
   "metadata": {},
   "outputs": [],
   "source": [
    "# Заменим явные ошибки в данных на медиану. Это ошибки, т.к. точки с такой широтой/долготой попадают в океан\n",
    "bathrooms_median=data['bathrooms'].median()\n",
    "data['bathrooms']=data['bathrooms'].apply(lambda x: bathrooms_median if x>15 else x)\n",
    "\n",
    "latitude_median=data['latitude'].median()\n",
    "data['latitude']=data['latitude'].apply(lambda x: latitude_median if x<10 else x)\n",
    "\n",
    "longitude_median=data['longitude'].median()\n",
    "data['longitude']=data['longitude'].apply(lambda x: longitude_median if x>-20 or x<-124 else x)"
   ]
  },
  {
   "cell_type": "code",
   "execution_count": null,
   "id": "d73cd28a",
   "metadata": {},
   "outputs": [],
   "source": []
  },
  {
   "cell_type": "code",
   "execution_count": 284,
   "id": "b2fd4ec8",
   "metadata": {},
   "outputs": [],
   "source": [
    "# Прологарифмируем признак price\n",
    "data['price']=data['price'].apply(lambda x: np.log(x+1))"
   ]
  },
  {
   "cell_type": "code",
   "execution_count": 285,
   "id": "607e7126",
   "metadata": {},
   "outputs": [],
   "source": [
    "# Переведем признак created в формат datetime\n",
    "data['created']=data['created'].apply(lambda x: datetime.strptime(x, \"%Y-%m-%d %H:%M:%S\")) "
   ]
  },
  {
   "cell_type": "code",
   "execution_count": 286,
   "id": "5e736e4a",
   "metadata": {
    "scrolled": false
   },
   "outputs": [],
   "source": [
    "# Извлечем из даты год, месяц, день месяца и день недели\n",
    "data['year']=data['created'].apply(lambda x: x.year)\n",
    "data['month']=data['created'].apply(lambda x: x.month)\n",
    "data['day']=data['created'].apply(lambda x: x.day)\n",
    "data['day_of_week']=data['created'].apply(lambda x: x.weekday())"
   ]
  },
  {
   "cell_type": "code",
   "execution_count": 287,
   "id": "8ce15efc",
   "metadata": {},
   "outputs": [],
   "source": [
    "# Удалим признак year, т.к. там только одно значение - 2016. Этот признак не несет полезной информации для модели\n",
    "data.drop(columns=['year'], inplace=True)"
   ]
  },
  {
   "cell_type": "code",
   "execution_count": 205,
   "id": "6643a4a5",
   "metadata": {},
   "outputs": [],
   "source": [
    "# Обработаем признак features. Для начала соберем все features в датасете в один большой список\n",
    "features=[]\n",
    "for i in range(len(data)):\n",
    "    features.extend(data['features'][i])"
   ]
  },
  {
   "cell_type": "code",
   "execution_count": 206,
   "id": "1d2a9b32",
   "metadata": {},
   "outputs": [],
   "source": [
    "from collections import Counter"
   ]
  },
  {
   "cell_type": "code",
   "execution_count": 207,
   "id": "86f57cda",
   "metadata": {},
   "outputs": [
    {
     "data": {
      "text/plain": [
       "['Elevator',\n",
       " 'Cats Allowed',\n",
       " 'Hardwood Floors',\n",
       " 'Dogs Allowed',\n",
       " 'Doorman',\n",
       " 'Dishwasher',\n",
       " 'No Fee',\n",
       " 'Laundry in Building',\n",
       " 'Fitness Center',\n",
       " 'Pre-War',\n",
       " 'Laundry in Unit',\n",
       " 'Roof Deck',\n",
       " 'Outdoor Space',\n",
       " 'Dining Room',\n",
       " 'High Speed Internet']"
      ]
     },
     "execution_count": 207,
     "metadata": {},
     "output_type": "execute_result"
    }
   ],
   "source": [
    "# Создадим список из 15 наиболее часто встречающихся фраз в колонке features, чтобы далее использовать их для создания\n",
    "# аналога dummy-переменных\n",
    "most_common_features=[]\n",
    "for i in Counter(features).most_common(15):\n",
    "    most_common_features.append(i[0])\n",
    "most_common_features"
   ]
  },
  {
   "cell_type": "code",
   "execution_count": 208,
   "id": "627f3709",
   "metadata": {},
   "outputs": [],
   "source": [
    "# Функция, которая проверяет, есть ли в данной ячейке элемент из списка most_common_features\n",
    "def create_dummy_column(some_list):\n",
    "    if col in some_list:\n",
    "        return 1\n",
    "    else:\n",
    "        return 0   "
   ]
  },
  {
   "cell_type": "code",
   "execution_count": 288,
   "id": "b5668175",
   "metadata": {},
   "outputs": [],
   "source": [
    "# Создадаим новые признаки с помощью функции create_dummy_column\n",
    "for col in most_common_features:\n",
    "    data[col]=data['features'].apply(create_dummy_column)"
   ]
  },
  {
   "cell_type": "code",
   "execution_count": 210,
   "id": "8241414d",
   "metadata": {},
   "outputs": [
    {
     "data": {
      "text/plain": [
       "['Broadway',\n",
       " 'East 34th Street',\n",
       " 'Wall Street',\n",
       " 'Second Avenue',\n",
       " 'West 37th Street',\n",
       " 'First Avenue',\n",
       " 'West Street',\n",
       " 'John Street',\n",
       " 'Gold Street',\n",
       " 'Washington Street',\n",
       " 'York Avenue',\n",
       " 'Water Street',\n",
       " 'Lexington Avenue',\n",
       " 'East 39th Street',\n",
       " 'Third Avenue']"
      ]
     },
     "execution_count": 210,
     "metadata": {},
     "output_type": "execute_result"
    }
   ],
   "source": [
    "# Аналогичным образом обработаем колонку display_address\n",
    "all_streets=[]\n",
    "\n",
    "for i in range(len(data)):\n",
    "    all_streets.append(data['display_address'][i])\n",
    "    \n",
    "most_common_streets=[]\n",
    "for i in Counter(all_streets).most_common(15):\n",
    "    most_common_streets.append(i[0])\n",
    "most_common_streets"
   ]
  },
  {
   "cell_type": "code",
   "execution_count": 289,
   "id": "8493e6ff",
   "metadata": {},
   "outputs": [],
   "source": [
    "# Создадаим новые признаки с помощью функции create_dummy_column\n",
    "for col in most_common_streets:\n",
    "    data[col]=data['display_address'].apply(create_dummy_column)"
   ]
  },
  {
   "cell_type": "code",
   "execution_count": 212,
   "id": "d37cc428",
   "metadata": {
    "scrolled": true
   },
   "outputs": [
    {
     "data": {
      "text/plain": [
       "<AxesSubplot:>"
      ]
     },
     "execution_count": 212,
     "metadata": {},
     "output_type": "execute_result"
    },
    {
     "data": {
      "image/png": "[encoded data removed]",
      "text/plain": [
       "<Figure size 720x720 with 2 Axes>"
      ]
     },
     "metadata": {
      "needs_background": "light"
     },
     "output_type": "display_data"
    }
   ],
   "source": [
    "# Построим тепловую карту матрицы корреляций непрерывных признаков. Как и ожидалось, price сильно скоррелирована с количеством \n",
    "# bathrooms и bedrooms, а bathrooms и bedrooms скоррелированы между собой\n",
    "numeric_columns=['bathrooms','bedrooms','latitude','longitude','price']\n",
    "\n",
    "sns.heatmap(data[numeric_columns].corr().abs(), vmin=0, vmax=1)"
   ]
  },
  {
   "cell_type": "markdown",
   "id": "601190cb",
   "metadata": {},
   "source": [
    "**Попробуем применить метод главных компонент к сильно скоррелированным признакам. Найдем матрицу корреляций, посчитаем ее собственные числа и собственные вектора. Добавим новые (нескоррелированные) признаки, старые удалим. Ниже я закомментировала соответствующий кусок кода, т.к. применение метода главных компонент не ведет к улучшению целевой метрики.**"
   ]
  },
  {
   "cell_type": "code",
   "execution_count": 20,
   "id": "bdd2798c",
   "metadata": {},
   "outputs": [],
   "source": [
    "# pca_columns=['bathrooms','bedrooms','price']\n",
    "# correlation_matrix=data[pca_columns].corr().values"
   ]
  },
  {
   "cell_type": "code",
   "execution_count": 21,
   "id": "9ba70584",
   "metadata": {},
   "outputs": [
    {
     "data": {
      "text/plain": [
       "(array([2.1707959 , 0.34910944, 0.48009466]),\n",
       " array([[-0.58142595, -0.62792777,  0.51734956],\n",
       "        [-0.55625902, -0.1572359 , -0.81599802],\n",
       "        [-0.59373375,  0.76222279,  0.25786946]]))"
      ]
     },
     "execution_count": 21,
     "metadata": {},
     "output_type": "execute_result"
    }
   ],
   "source": [
    "# Находим собственные числа и собственные вектора\n",
    "# B=np.linalg.eig(correlation_matrix)\n",
    "# B"
   ]
  },
  {
   "cell_type": "code",
   "execution_count": 22,
   "id": "b8c6b84e",
   "metadata": {},
   "outputs": [],
   "source": [
    "# Центрируем и нормируем признаки\n",
    "# mean_1=data['bathrooms'].mean()\n",
    "# len_1=np.linalg.norm(data['bathrooms'])\n",
    "# data['bathrooms']=data['bathrooms'] - mean_1\n",
    "# data['bathrooms']=data['bathrooms']/len_1\n",
    "\n",
    "# mean_2=data['bedrooms'].mean()\n",
    "# len_2=np.linalg.norm(data['bedrooms'])\n",
    "# data['bedrooms']=data['bedrooms'] - mean_2\n",
    "# data['bedrooms']=data['bedrooms']/len_2\n",
    "\n",
    "# mean_3=data['price'].mean()\n",
    "# len_3=np.linalg.norm(data['price'])\n",
    "# data['price']=data['price'] - mean_3\n",
    "# data['price']=data['price']/len_3"
   ]
  },
  {
   "cell_type": "code",
   "execution_count": 23,
   "id": "497f9419",
   "metadata": {},
   "outputs": [],
   "source": [
    "# Вводим новые признаки\n",
    "# data['pca_component_1']=B[1][0][0]*data['bathrooms']+B[1][1][0]*data['bedrooms']+B[1][2][0]*data['price']\n",
    "# data['pca_component_2']=B[1][0][1]*data['bathrooms']+B[1][1][1]*data['bedrooms']+B[1][2][1]*data['price']"
   ]
  },
  {
   "cell_type": "code",
   "execution_count": 44,
   "id": "9932931b",
   "metadata": {},
   "outputs": [],
   "source": [
    "# data.drop(columns=['bathrooms'], inplace=True)"
   ]
  },
  {
   "cell_type": "markdown",
   "id": "aa00c2ac",
   "metadata": {},
   "source": [
    "**Попробуем добавить полиномиальные признаки**"
   ]
  },
  {
   "cell_type": "code",
   "execution_count": 74,
   "id": "84d02bbe",
   "metadata": {},
   "outputs": [],
   "source": [
    "from sklearn.preprocessing import PolynomialFeatures"
   ]
  },
  {
   "cell_type": "code",
   "execution_count": 79,
   "id": "5f22d274",
   "metadata": {},
   "outputs": [],
   "source": [
    "# Функция для подбора наилучших полиномиальных признаков. Будем комбиринровать колонки с непрерывным\n",
    "# типом данных по три штуки и создавать на их основе Polynomial Features степени 2, а затем обучать на полученных данных модель\n",
    "# (для примера возьмем логистическую регрессию).\n",
    "def find_polynomial_features(df,cols):\n",
    "    pf=PolynomialFeatures(2)\n",
    "    poly_features=pf.fit_transform(df[cols])\n",
    "    index=df.index\n",
    "    right=pd.DataFrame(poly_features, columns=['1','2','3','4','5','6','7','8','9','10'], index=index)\n",
    "    right.drop(columns=['1','2','3','4'], inplace=True)\n",
    "    df=df.join(right, how='inner')\n",
    "    \n",
    "    train_data = df.query('sample == 1').drop(['sample'], axis=1)\n",
    "#     test_data = data.query('sample == 0').drop(['sample', 'default'], axis=1)\n",
    "    y = train_data['interest_level'].values  # наш таргет\n",
    "    X = train_data.drop(['interest_level','building_id','created','description','display_address','features',\n",
    "                                                'listing_id','manager_id','photos','street_address'], axis=1)\n",
    "    \n",
    "    X_train, X_test, y_train, y_test = train_test_split(X, y, test_size=0.2, random_state=42)\n",
    "    \n",
    "    X1=X_train[['bathrooms','bedrooms','latitude','longitude','price','5','6','7','8','9','10']].values\n",
    "    X2=X_test[['bathrooms','bedrooms','latitude','longitude','price','5','6','7','8','9','10']].values\n",
    "    \n",
    "    scaler=RobustScaler()\n",
    "    X1_transformed=scaler.fit_transform(X1)\n",
    "    X2_transformed=scaler.transform(X2)\n",
    "    X_train[['bathrooms','bedrooms','latitude','longitude','price','5','6','7','8','9','10' ]]=X1_transformed\n",
    "    X_test[['bathrooms','bedrooms','latitude','longitude','price','5','6','7','8','9','10']]=X2_transformed\n",
    "    \n",
    "    model = LogisticRegression(class_weight='balanced',penalty='none',solver='newton-cg')\n",
    "    model.fit(X_train, y_train)\n",
    "    y_pred = model.predict(X_test) \n",
    "    return f1_score(y_test,y_pred, average='macro')"
   ]
  },
  {
   "cell_type": "code",
   "execution_count": 76,
   "id": "1b3fbf73",
   "metadata": {},
   "outputs": [],
   "source": [
    "from itertools import combinations"
   ]
  },
  {
   "cell_type": "code",
   "execution_count": 80,
   "id": "32a0e91f",
   "metadata": {},
   "outputs": [
    {
     "name": "stderr",
     "output_type": "stream",
     "text": [
      "<ipython-input-79-40c1bc94d020>:26: SettingWithCopyWarning: \n",
      "A value is trying to be set on a copy of a slice from a DataFrame.\n",
      "Try using .loc[row_indexer,col_indexer] = value instead\n",
      "\n",
      "See the caveats in the documentation: https://pandas.pydata.org/pandas-docs/stable/user_guide/indexing.html#returning-a-view-versus-a-copy\n",
      "  X_train[['bathrooms','bedrooms','latitude','longitude','price','5','6','7','8','9','10' ]]=X1_transformed\n",
      "C:\\Users\\Sasha\\anaconda3\\lib\\site-packages\\pandas\\core\\indexing.py:1738: SettingWithCopyWarning: \n",
      "A value is trying to be set on a copy of a slice from a DataFrame.\n",
      "Try using .loc[row_indexer,col_indexer] = value instead\n",
      "\n",
      "See the caveats in the documentation: https://pandas.pydata.org/pandas-docs/stable/user_guide/indexing.html#returning-a-view-versus-a-copy\n",
      "  self._setitem_single_column(loc, value[:, i].tolist(), pi)\n",
      "<ipython-input-79-40c1bc94d020>:27: SettingWithCopyWarning: \n",
      "A value is trying to be set on a copy of a slice from a DataFrame.\n",
      "Try using .loc[row_indexer,col_indexer] = value instead\n",
      "\n",
      "See the caveats in the documentation: https://pandas.pydata.org/pandas-docs/stable/user_guide/indexing.html#returning-a-view-versus-a-copy\n",
      "  X_test[['bathrooms','bedrooms','latitude','longitude','price','5','6','7','8','9','10']]=X2_transformed\n",
      "C:\\Users\\Sasha\\anaconda3\\lib\\site-packages\\sklearn\\utils\\optimize.py:202: ConvergenceWarning: newton-cg failed to converge. Increase the number of iterations.\n",
      "  warnings.warn(\"newton-cg failed to converge. Increase the \"\n",
      "<ipython-input-79-40c1bc94d020>:26: SettingWithCopyWarning: \n",
      "A value is trying to be set on a copy of a slice from a DataFrame.\n",
      "Try using .loc[row_indexer,col_indexer] = value instead\n",
      "\n",
      "See the caveats in the documentation: https://pandas.pydata.org/pandas-docs/stable/user_guide/indexing.html#returning-a-view-versus-a-copy\n",
      "  X_train[['bathrooms','bedrooms','latitude','longitude','price','5','6','7','8','9','10' ]]=X1_transformed\n",
      "C:\\Users\\Sasha\\anaconda3\\lib\\site-packages\\pandas\\core\\indexing.py:1738: SettingWithCopyWarning: \n",
      "A value is trying to be set on a copy of a slice from a DataFrame.\n",
      "Try using .loc[row_indexer,col_indexer] = value instead\n",
      "\n",
      "See the caveats in the documentation: https://pandas.pydata.org/pandas-docs/stable/user_guide/indexing.html#returning-a-view-versus-a-copy\n",
      "  self._setitem_single_column(loc, value[:, i].tolist(), pi)\n",
      "<ipython-input-79-40c1bc94d020>:27: SettingWithCopyWarning: \n",
      "A value is trying to be set on a copy of a slice from a DataFrame.\n",
      "Try using .loc[row_indexer,col_indexer] = value instead\n",
      "\n",
      "See the caveats in the documentation: https://pandas.pydata.org/pandas-docs/stable/user_guide/indexing.html#returning-a-view-versus-a-copy\n",
      "  X_test[['bathrooms','bedrooms','latitude','longitude','price','5','6','7','8','9','10']]=X2_transformed\n",
      "C:\\Users\\Sasha\\anaconda3\\lib\\site-packages\\sklearn\\utils\\optimize.py:202: ConvergenceWarning: newton-cg failed to converge. Increase the number of iterations.\n",
      "  warnings.warn(\"newton-cg failed to converge. Increase the \"\n"
     ]
    },
    {
     "name": "stdout",
     "output_type": "stream",
     "text": [
      "For the following columns:  ('bathrooms', 'bedrooms', 'longitude')  f1_score= 0.46797698544458327 \n",
      "\n"
     ]
    },
    {
     "name": "stderr",
     "output_type": "stream",
     "text": [
      "<ipython-input-79-40c1bc94d020>:26: SettingWithCopyWarning: \n",
      "A value is trying to be set on a copy of a slice from a DataFrame.\n",
      "Try using .loc[row_indexer,col_indexer] = value instead\n",
      "\n",
      "See the caveats in the documentation: https://pandas.pydata.org/pandas-docs/stable/user_guide/indexing.html#returning-a-view-versus-a-copy\n",
      "  X_train[['bathrooms','bedrooms','latitude','longitude','price','5','6','7','8','9','10' ]]=X1_transformed\n",
      "C:\\Users\\Sasha\\anaconda3\\lib\\site-packages\\pandas\\core\\indexing.py:1738: SettingWithCopyWarning: \n",
      "A value is trying to be set on a copy of a slice from a DataFrame.\n",
      "Try using .loc[row_indexer,col_indexer] = value instead\n",
      "\n",
      "See the caveats in the documentation: https://pandas.pydata.org/pandas-docs/stable/user_guide/indexing.html#returning-a-view-versus-a-copy\n",
      "  self._setitem_single_column(loc, value[:, i].tolist(), pi)\n",
      "<ipython-input-79-40c1bc94d020>:27: SettingWithCopyWarning: \n",
      "A value is trying to be set on a copy of a slice from a DataFrame.\n",
      "Try using .loc[row_indexer,col_indexer] = value instead\n",
      "\n",
      "See the caveats in the documentation: https://pandas.pydata.org/pandas-docs/stable/user_guide/indexing.html#returning-a-view-versus-a-copy\n",
      "  X_test[['bathrooms','bedrooms','latitude','longitude','price','5','6','7','8','9','10']]=X2_transformed\n",
      "C:\\Users\\Sasha\\anaconda3\\lib\\site-packages\\scipy\\optimize\\linesearch.py:478: LineSearchWarning: The line search algorithm did not converge\n",
      "  warn('The line search algorithm did not converge', LineSearchWarning)\n",
      "C:\\Users\\Sasha\\anaconda3\\lib\\site-packages\\scipy\\optimize\\linesearch.py:327: LineSearchWarning: The line search algorithm did not converge\n",
      "  warn('The line search algorithm did not converge', LineSearchWarning)\n",
      "C:\\Users\\Sasha\\anaconda3\\lib\\site-packages\\sklearn\\utils\\optimize.py:202: ConvergenceWarning: newton-cg failed to converge. Increase the number of iterations.\n",
      "  warnings.warn(\"newton-cg failed to converge. Increase the \"\n"
     ]
    },
    {
     "name": "stdout",
     "output_type": "stream",
     "text": [
      "For the following columns:  ('bathrooms', 'bedrooms', 'latitude')  f1_score= 0.46733164192130233 \n",
      "\n"
     ]
    },
    {
     "name": "stderr",
     "output_type": "stream",
     "text": [
      "<ipython-input-79-40c1bc94d020>:26: SettingWithCopyWarning: \n",
      "A value is trying to be set on a copy of a slice from a DataFrame.\n",
      "Try using .loc[row_indexer,col_indexer] = value instead\n",
      "\n",
      "See the caveats in the documentation: https://pandas.pydata.org/pandas-docs/stable/user_guide/indexing.html#returning-a-view-versus-a-copy\n",
      "  X_train[['bathrooms','bedrooms','latitude','longitude','price','5','6','7','8','9','10' ]]=X1_transformed\n",
      "C:\\Users\\Sasha\\anaconda3\\lib\\site-packages\\pandas\\core\\indexing.py:1738: SettingWithCopyWarning: \n",
      "A value is trying to be set on a copy of a slice from a DataFrame.\n",
      "Try using .loc[row_indexer,col_indexer] = value instead\n",
      "\n",
      "See the caveats in the documentation: https://pandas.pydata.org/pandas-docs/stable/user_guide/indexing.html#returning-a-view-versus-a-copy\n",
      "  self._setitem_single_column(loc, value[:, i].tolist(), pi)\n",
      "<ipython-input-79-40c1bc94d020>:27: SettingWithCopyWarning: \n",
      "A value is trying to be set on a copy of a slice from a DataFrame.\n",
      "Try using .loc[row_indexer,col_indexer] = value instead\n",
      "\n",
      "See the caveats in the documentation: https://pandas.pydata.org/pandas-docs/stable/user_guide/indexing.html#returning-a-view-versus-a-copy\n",
      "  X_test[['bathrooms','bedrooms','latitude','longitude','price','5','6','7','8','9','10']]=X2_transformed\n"
     ]
    },
    {
     "name": "stdout",
     "output_type": "stream",
     "text": [
      "For the following columns:  ('bathrooms', 'bedrooms', 'price')  f1_score= 0.47206105083260574 \n",
      "\n"
     ]
    },
    {
     "name": "stderr",
     "output_type": "stream",
     "text": [
      "<ipython-input-79-40c1bc94d020>:26: SettingWithCopyWarning: \n",
      "A value is trying to be set on a copy of a slice from a DataFrame.\n",
      "Try using .loc[row_indexer,col_indexer] = value instead\n",
      "\n",
      "See the caveats in the documentation: https://pandas.pydata.org/pandas-docs/stable/user_guide/indexing.html#returning-a-view-versus-a-copy\n",
      "  X_train[['bathrooms','bedrooms','latitude','longitude','price','5','6','7','8','9','10' ]]=X1_transformed\n",
      "C:\\Users\\Sasha\\anaconda3\\lib\\site-packages\\pandas\\core\\indexing.py:1738: SettingWithCopyWarning: \n",
      "A value is trying to be set on a copy of a slice from a DataFrame.\n",
      "Try using .loc[row_indexer,col_indexer] = value instead\n",
      "\n",
      "See the caveats in the documentation: https://pandas.pydata.org/pandas-docs/stable/user_guide/indexing.html#returning-a-view-versus-a-copy\n",
      "  self._setitem_single_column(loc, value[:, i].tolist(), pi)\n",
      "<ipython-input-79-40c1bc94d020>:27: SettingWithCopyWarning: \n",
      "A value is trying to be set on a copy of a slice from a DataFrame.\n",
      "Try using .loc[row_indexer,col_indexer] = value instead\n",
      "\n",
      "See the caveats in the documentation: https://pandas.pydata.org/pandas-docs/stable/user_guide/indexing.html#returning-a-view-versus-a-copy\n",
      "  X_test[['bathrooms','bedrooms','latitude','longitude','price','5','6','7','8','9','10']]=X2_transformed\n",
      "C:\\Users\\Sasha\\anaconda3\\lib\\site-packages\\scipy\\optimize\\linesearch.py:478: LineSearchWarning: The line search algorithm did not converge\n",
      "  warn('The line search algorithm did not converge', LineSearchWarning)\n",
      "C:\\Users\\Sasha\\anaconda3\\lib\\site-packages\\scipy\\optimize\\linesearch.py:327: LineSearchWarning: The line search algorithm did not converge\n",
      "  warn('The line search algorithm did not converge', LineSearchWarning)\n",
      "C:\\Users\\Sasha\\anaconda3\\lib\\site-packages\\sklearn\\utils\\optimize.py:202: ConvergenceWarning: newton-cg failed to converge. Increase the number of iterations.\n",
      "  warnings.warn(\"newton-cg failed to converge. Increase the \"\n"
     ]
    },
    {
     "name": "stdout",
     "output_type": "stream",
     "text": [
      "For the following columns:  ('bathrooms', 'longitude', 'latitude')  f1_score= 0.467610953512559 \n",
      "\n"
     ]
    },
    {
     "name": "stderr",
     "output_type": "stream",
     "text": [
      "<ipython-input-79-40c1bc94d020>:26: SettingWithCopyWarning: \n",
      "A value is trying to be set on a copy of a slice from a DataFrame.\n",
      "Try using .loc[row_indexer,col_indexer] = value instead\n",
      "\n",
      "See the caveats in the documentation: https://pandas.pydata.org/pandas-docs/stable/user_guide/indexing.html#returning-a-view-versus-a-copy\n",
      "  X_train[['bathrooms','bedrooms','latitude','longitude','price','5','6','7','8','9','10' ]]=X1_transformed\n",
      "C:\\Users\\Sasha\\anaconda3\\lib\\site-packages\\pandas\\core\\indexing.py:1738: SettingWithCopyWarning: \n",
      "A value is trying to be set on a copy of a slice from a DataFrame.\n",
      "Try using .loc[row_indexer,col_indexer] = value instead\n",
      "\n",
      "See the caveats in the documentation: https://pandas.pydata.org/pandas-docs/stable/user_guide/indexing.html#returning-a-view-versus-a-copy\n",
      "  self._setitem_single_column(loc, value[:, i].tolist(), pi)\n",
      "<ipython-input-79-40c1bc94d020>:27: SettingWithCopyWarning: \n",
      "A value is trying to be set on a copy of a slice from a DataFrame.\n",
      "Try using .loc[row_indexer,col_indexer] = value instead\n",
      "\n",
      "See the caveats in the documentation: https://pandas.pydata.org/pandas-docs/stable/user_guide/indexing.html#returning-a-view-versus-a-copy\n",
      "  X_test[['bathrooms','bedrooms','latitude','longitude','price','5','6','7','8','9','10']]=X2_transformed\n",
      "C:\\Users\\Sasha\\anaconda3\\lib\\site-packages\\scipy\\optimize\\linesearch.py:478: LineSearchWarning: The line search algorithm did not converge\n",
      "  warn('The line search algorithm did not converge', LineSearchWarning)\n",
      "C:\\Users\\Sasha\\anaconda3\\lib\\site-packages\\scipy\\optimize\\linesearch.py:327: LineSearchWarning: The line search algorithm did not converge\n",
      "  warn('The line search algorithm did not converge', LineSearchWarning)\n",
      "C:\\Users\\Sasha\\anaconda3\\lib\\site-packages\\sklearn\\utils\\optimize.py:202: ConvergenceWarning: newton-cg failed to converge. Increase the number of iterations.\n",
      "  warnings.warn(\"newton-cg failed to converge. Increase the \"\n"
     ]
    },
    {
     "name": "stdout",
     "output_type": "stream",
     "text": [
      "For the following columns:  ('bathrooms', 'longitude', 'price')  f1_score= 0.47656675075079685 \n",
      "\n"
     ]
    },
    {
     "name": "stderr",
     "output_type": "stream",
     "text": [
      "<ipython-input-79-40c1bc94d020>:26: SettingWithCopyWarning: \n",
      "A value is trying to be set on a copy of a slice from a DataFrame.\n",
      "Try using .loc[row_indexer,col_indexer] = value instead\n",
      "\n",
      "See the caveats in the documentation: https://pandas.pydata.org/pandas-docs/stable/user_guide/indexing.html#returning-a-view-versus-a-copy\n",
      "  X_train[['bathrooms','bedrooms','latitude','longitude','price','5','6','7','8','9','10' ]]=X1_transformed\n",
      "C:\\Users\\Sasha\\anaconda3\\lib\\site-packages\\pandas\\core\\indexing.py:1738: SettingWithCopyWarning: \n",
      "A value is trying to be set on a copy of a slice from a DataFrame.\n",
      "Try using .loc[row_indexer,col_indexer] = value instead\n",
      "\n",
      "See the caveats in the documentation: https://pandas.pydata.org/pandas-docs/stable/user_guide/indexing.html#returning-a-view-versus-a-copy\n",
      "  self._setitem_single_column(loc, value[:, i].tolist(), pi)\n",
      "<ipython-input-79-40c1bc94d020>:27: SettingWithCopyWarning: \n",
      "A value is trying to be set on a copy of a slice from a DataFrame.\n",
      "Try using .loc[row_indexer,col_indexer] = value instead\n",
      "\n",
      "See the caveats in the documentation: https://pandas.pydata.org/pandas-docs/stable/user_guide/indexing.html#returning-a-view-versus-a-copy\n",
      "  X_test[['bathrooms','bedrooms','latitude','longitude','price','5','6','7','8','9','10']]=X2_transformed\n",
      "C:\\Users\\Sasha\\anaconda3\\lib\\site-packages\\sklearn\\utils\\optimize.py:202: ConvergenceWarning: newton-cg failed to converge. Increase the number of iterations.\n",
      "  warnings.warn(\"newton-cg failed to converge. Increase the \"\n"
     ]
    },
    {
     "name": "stdout",
     "output_type": "stream",
     "text": [
      "For the following columns:  ('bathrooms', 'latitude', 'price')  f1_score= 0.4772764994441807 \n",
      "\n"
     ]
    },
    {
     "name": "stderr",
     "output_type": "stream",
     "text": [
      "<ipython-input-79-40c1bc94d020>:26: SettingWithCopyWarning: \n",
      "A value is trying to be set on a copy of a slice from a DataFrame.\n",
      "Try using .loc[row_indexer,col_indexer] = value instead\n",
      "\n",
      "See the caveats in the documentation: https://pandas.pydata.org/pandas-docs/stable/user_guide/indexing.html#returning-a-view-versus-a-copy\n",
      "  X_train[['bathrooms','bedrooms','latitude','longitude','price','5','6','7','8','9','10' ]]=X1_transformed\n",
      "C:\\Users\\Sasha\\anaconda3\\lib\\site-packages\\pandas\\core\\indexing.py:1738: SettingWithCopyWarning: \n",
      "A value is trying to be set on a copy of a slice from a DataFrame.\n",
      "Try using .loc[row_indexer,col_indexer] = value instead\n",
      "\n",
      "See the caveats in the documentation: https://pandas.pydata.org/pandas-docs/stable/user_guide/indexing.html#returning-a-view-versus-a-copy\n",
      "  self._setitem_single_column(loc, value[:, i].tolist(), pi)\n",
      "<ipython-input-79-40c1bc94d020>:27: SettingWithCopyWarning: \n",
      "A value is trying to be set on a copy of a slice from a DataFrame.\n",
      "Try using .loc[row_indexer,col_indexer] = value instead\n",
      "\n",
      "See the caveats in the documentation: https://pandas.pydata.org/pandas-docs/stable/user_guide/indexing.html#returning-a-view-versus-a-copy\n",
      "  X_test[['bathrooms','bedrooms','latitude','longitude','price','5','6','7','8','9','10']]=X2_transformed\n",
      "C:\\Users\\Sasha\\anaconda3\\lib\\site-packages\\sklearn\\utils\\optimize.py:202: ConvergenceWarning: newton-cg failed to converge. Increase the number of iterations.\n",
      "  warnings.warn(\"newton-cg failed to converge. Increase the \"\n"
     ]
    },
    {
     "name": "stdout",
     "output_type": "stream",
     "text": [
      "For the following columns:  ('bedrooms', 'longitude', 'latitude')  f1_score= 0.46853559668635886 \n",
      "\n"
     ]
    },
    {
     "name": "stderr",
     "output_type": "stream",
     "text": [
      "<ipython-input-79-40c1bc94d020>:26: SettingWithCopyWarning: \n",
      "A value is trying to be set on a copy of a slice from a DataFrame.\n",
      "Try using .loc[row_indexer,col_indexer] = value instead\n",
      "\n",
      "See the caveats in the documentation: https://pandas.pydata.org/pandas-docs/stable/user_guide/indexing.html#returning-a-view-versus-a-copy\n",
      "  X_train[['bathrooms','bedrooms','latitude','longitude','price','5','6','7','8','9','10' ]]=X1_transformed\n",
      "C:\\Users\\Sasha\\anaconda3\\lib\\site-packages\\pandas\\core\\indexing.py:1738: SettingWithCopyWarning: \n",
      "A value is trying to be set on a copy of a slice from a DataFrame.\n",
      "Try using .loc[row_indexer,col_indexer] = value instead\n",
      "\n",
      "See the caveats in the documentation: https://pandas.pydata.org/pandas-docs/stable/user_guide/indexing.html#returning-a-view-versus-a-copy\n",
      "  self._setitem_single_column(loc, value[:, i].tolist(), pi)\n",
      "<ipython-input-79-40c1bc94d020>:27: SettingWithCopyWarning: \n",
      "A value is trying to be set on a copy of a slice from a DataFrame.\n",
      "Try using .loc[row_indexer,col_indexer] = value instead\n",
      "\n",
      "See the caveats in the documentation: https://pandas.pydata.org/pandas-docs/stable/user_guide/indexing.html#returning-a-view-versus-a-copy\n",
      "  X_test[['bathrooms','bedrooms','latitude','longitude','price','5','6','7','8','9','10']]=X2_transformed\n",
      "C:\\Users\\Sasha\\anaconda3\\lib\\site-packages\\sklearn\\utils\\optimize.py:202: ConvergenceWarning: newton-cg failed to converge. Increase the number of iterations.\n",
      "  warnings.warn(\"newton-cg failed to converge. Increase the \"\n"
     ]
    },
    {
     "name": "stdout",
     "output_type": "stream",
     "text": [
      "For the following columns:  ('bedrooms', 'longitude', 'price')  f1_score= 0.4816154252098008 \n",
      "\n"
     ]
    },
    {
     "name": "stderr",
     "output_type": "stream",
     "text": [
      "<ipython-input-79-40c1bc94d020>:26: SettingWithCopyWarning: \n",
      "A value is trying to be set on a copy of a slice from a DataFrame.\n",
      "Try using .loc[row_indexer,col_indexer] = value instead\n",
      "\n",
      "See the caveats in the documentation: https://pandas.pydata.org/pandas-docs/stable/user_guide/indexing.html#returning-a-view-versus-a-copy\n",
      "  X_train[['bathrooms','bedrooms','latitude','longitude','price','5','6','7','8','9','10' ]]=X1_transformed\n",
      "C:\\Users\\Sasha\\anaconda3\\lib\\site-packages\\pandas\\core\\indexing.py:1738: SettingWithCopyWarning: \n",
      "A value is trying to be set on a copy of a slice from a DataFrame.\n",
      "Try using .loc[row_indexer,col_indexer] = value instead\n",
      "\n",
      "See the caveats in the documentation: https://pandas.pydata.org/pandas-docs/stable/user_guide/indexing.html#returning-a-view-versus-a-copy\n",
      "  self._setitem_single_column(loc, value[:, i].tolist(), pi)\n",
      "<ipython-input-79-40c1bc94d020>:27: SettingWithCopyWarning: \n",
      "A value is trying to be set on a copy of a slice from a DataFrame.\n",
      "Try using .loc[row_indexer,col_indexer] = value instead\n",
      "\n",
      "See the caveats in the documentation: https://pandas.pydata.org/pandas-docs/stable/user_guide/indexing.html#returning-a-view-versus-a-copy\n",
      "  X_test[['bathrooms','bedrooms','latitude','longitude','price','5','6','7','8','9','10']]=X2_transformed\n",
      "C:\\Users\\Sasha\\anaconda3\\lib\\site-packages\\sklearn\\utils\\optimize.py:202: ConvergenceWarning: newton-cg failed to converge. Increase the number of iterations.\n",
      "  warnings.warn(\"newton-cg failed to converge. Increase the \"\n"
     ]
    },
    {
     "name": "stdout",
     "output_type": "stream",
     "text": [
      "For the following columns:  ('bedrooms', 'latitude', 'price')  f1_score= 0.4779709020916893 \n",
      "\n"
     ]
    },
    {
     "name": "stderr",
     "output_type": "stream",
     "text": [
      "<ipython-input-79-40c1bc94d020>:26: SettingWithCopyWarning: \n",
      "A value is trying to be set on a copy of a slice from a DataFrame.\n",
      "Try using .loc[row_indexer,col_indexer] = value instead\n",
      "\n",
      "See the caveats in the documentation: https://pandas.pydata.org/pandas-docs/stable/user_guide/indexing.html#returning-a-view-versus-a-copy\n",
      "  X_train[['bathrooms','bedrooms','latitude','longitude','price','5','6','7','8','9','10' ]]=X1_transformed\n",
      "C:\\Users\\Sasha\\anaconda3\\lib\\site-packages\\pandas\\core\\indexing.py:1738: SettingWithCopyWarning: \n",
      "A value is trying to be set on a copy of a slice from a DataFrame.\n",
      "Try using .loc[row_indexer,col_indexer] = value instead\n",
      "\n",
      "See the caveats in the documentation: https://pandas.pydata.org/pandas-docs/stable/user_guide/indexing.html#returning-a-view-versus-a-copy\n",
      "  self._setitem_single_column(loc, value[:, i].tolist(), pi)\n",
      "<ipython-input-79-40c1bc94d020>:27: SettingWithCopyWarning: \n",
      "A value is trying to be set on a copy of a slice from a DataFrame.\n",
      "Try using .loc[row_indexer,col_indexer] = value instead\n",
      "\n",
      "See the caveats in the documentation: https://pandas.pydata.org/pandas-docs/stable/user_guide/indexing.html#returning-a-view-versus-a-copy\n",
      "  X_test[['bathrooms','bedrooms','latitude','longitude','price','5','6','7','8','9','10']]=X2_transformed\n"
     ]
    },
    {
     "name": "stdout",
     "output_type": "stream",
     "text": [
      "For the following columns:  ('longitude', 'latitude', 'price')  f1_score= 0.4789402115387708 \n",
      "\n",
      "0.4816154252098008\n",
      "('bedrooms', 'longitude', 'price')\n"
     ]
    },
    {
     "name": "stderr",
     "output_type": "stream",
     "text": [
      "C:\\Users\\Sasha\\anaconda3\\lib\\site-packages\\sklearn\\utils\\optimize.py:202: ConvergenceWarning: newton-cg failed to converge. Increase the number of iterations.\n",
      "  warnings.warn(\"newton-cg failed to converge. Increase the \"\n"
     ]
    }
   ],
   "source": [
    "# Переберем в цикле все возможные комбинации колонок с непрерывным типом данных (по 3 штуки из 5-ти). Найдем наилучшую\n",
    "# комбинацию колонок, которая дает максимальное значение метрики f1_score_macro после обучения модели.\n",
    "columns=['bathrooms','bedrooms','longitude','latitude','price']\n",
    "cand=find_polynomial_features(data,['bathrooms','bedrooms','longitude'])\n",
    "columns_best=['bathrooms','bedrooms','longitude']\n",
    "for i in combinations(columns,3):    \n",
    "    f1_score_current=find_polynomial_features(data,list(i))\n",
    "    print('For the following columns: ',i,' f1_score=', f1_score_current,'\\n')\n",
    "    if f1_score_current>cand:\n",
    "        cand=f1_score_current\n",
    "        columns_best=i\n",
    "print(cand)\n",
    "print(columns_best)"
   ]
  },
  {
   "cell_type": "markdown",
   "id": "8474e511",
   "metadata": {},
   "source": [
    "**Найдена наилучшая комбинация колонок - bedrooms, longitude, price.**"
   ]
  },
  {
   "cell_type": "code",
   "execution_count": 290,
   "id": "616a7856",
   "metadata": {},
   "outputs": [],
   "source": [
    "# При использовании полиномиальных признаков целевая метрика улучшилась. Добавим эти полиномиальные признаки в наш датасет.\n",
    "pf=PolynomialFeatures(2)\n",
    "poly_features=pf.fit_transform(data[['bedrooms','longitude','price']])\n",
    "index=data.index\n",
    "right=pd.DataFrame(poly_features, columns=['1','2','3','4','5','6','7','8','9','10'], index=index)\n",
    "right.drop(columns=['1','2','3','4'], inplace=True)\n",
    "data=data.join(right, how='inner')"
   ]
  },
  {
   "cell_type": "code",
   "execution_count": 213,
   "id": "ffea249b",
   "metadata": {},
   "outputs": [],
   "source": [
    "from sklearn.preprocessing import RobustScaler\n",
    "from sklearn.feature_selection import f_classif"
   ]
  },
  {
   "cell_type": "markdown",
   "id": "038d88a7",
   "metadata": {},
   "source": [
    "**Попробуем оценить значимость непрерывных признаков для модели при помощи критерия f_classif**"
   ]
  },
  {
   "cell_type": "code",
   "execution_count": 291,
   "id": "56b1bb17",
   "metadata": {
    "scrolled": true
   },
   "outputs": [
    {
     "data": {
      "text/plain": [
       "<AxesSubplot:>"
      ]
     },
     "execution_count": 291,
     "metadata": {},
     "output_type": "execute_result"
    },
    {
     "data": {
      "image/png": "[encoded data removed]",
      "text/plain": [
       "<Figure size 720x720 with 1 Axes>"
      ]
     },
     "metadata": {
      "needs_background": "light"
     },
     "output_type": "display_data"
    }
   ],
   "source": [
    "cols=['bathrooms', 'bedrooms','latitude','longitude','price','5','6','7','8','9','10']\n",
    "imp_num = pd.Series(f_classif(data[cols], data['interest_level'])[0], index = cols)\n",
    "imp_num.sort_values(inplace = True)\n",
    "imp_num.plot(kind = 'barh')"
   ]
  },
  {
   "cell_type": "code",
   "execution_count": 137,
   "id": "358579c4",
   "metadata": {
    "scrolled": true
   },
   "outputs": [
    {
     "data": {
      "text/plain": [
       "(array([ 114.87665648,   26.44912179,    9.98094896,    2.04608421,\n",
       "        1078.46728698,   23.35978572,   11.09178093,   20.24620357,\n",
       "          26.44315933,   12.59163497,    1.50926579, 1074.95323873,\n",
       "        1020.54744936]),\n",
       " array([2.75182139e-74, 4.28935512e-17, 1.42119493e-06, 1.05080124e-01,\n",
       "        0.00000000e+00, 4.14423022e-15, 2.82341215e-07, 4.11677747e-13,\n",
       "        4.32738944e-17, 3.16287816e-08, 2.09829871e-01, 0.00000000e+00,\n",
       "        0.00000000e+00]))"
      ]
     },
     "execution_count": 137,
     "metadata": {},
     "output_type": "execute_result"
    }
   ],
   "source": [
    "f_classif(data[cols], data['interest_level'])"
   ]
  },
  {
   "cell_type": "markdown",
   "id": "94ff8a0d",
   "metadata": {},
   "source": [
    "**Наибольшую значимость для модели имеет признак price, а также некоторые полиномиальные признаки**"
   ]
  },
  {
   "cell_type": "code",
   "execution_count": 292,
   "id": "a7677c4c",
   "metadata": {},
   "outputs": [],
   "source": [
    "# Подготовим данные для загрузки в модель\n",
    "train_data=data.query('sample==1').drop(columns=['sample','building_id','created','description','display_address','features',\n",
    "                                                'listing_id','manager_id','photos','street_address'], axis=1)\n",
    "test_data=data.query('sample==0').drop(columns=['sample','building_id','created','description','display_address','features',\n",
    "                                                'listing_id','manager_id','photos','street_address','interest_level'], axis=1)"
   ]
  },
  {
   "cell_type": "code",
   "execution_count": 293,
   "id": "ea3509cc",
   "metadata": {},
   "outputs": [],
   "source": [
    "# Перед загрузкой в модель колонки с непрерывным типом данных нужно обработать с помощью RobustScaler. Я выбрала RobustScaler, \n",
    "# т.к. он нечувствителен к выбросам\n",
    "train_data_numeric=train_data[['bathrooms', 'bedrooms','latitude','longitude','price','month','day','day_of_week','5', '6', '7', '8', '9', '10']]\n",
    "test_data_numeric=test_data[['bathrooms','bedrooms','latitude','longitude','price','month','day','day_of_week','5', '6', '7', '8', '9', '10']]\n",
    "\n",
    "scaler=RobustScaler()\n",
    "train_data_numeric=scaler.fit_transform(train_data_numeric)\n",
    "test_data_numeric=scaler.transform(test_data_numeric)"
   ]
  },
  {
   "cell_type": "code",
   "execution_count": 294,
   "id": "eabc14d0",
   "metadata": {},
   "outputs": [],
   "source": [
    "# Подготовка данных\n",
    "train_data_other=train_data.drop(columns=['bathrooms','bedrooms','latitude','longitude','price','month','day','day_of_week',\n",
    "                                          'interest_level','5', '6', '7', '8', '9', '10'])\n",
    "test_data_other=test_data.drop(columns=['bathrooms','bedrooms','latitude','longitude','price','month','day','day_of_week','5', '6', '7', '8', '9', '10'])\n",
    "\n",
    "X=np.hstack([train_data_numeric, train_data_other])\n",
    "X_valid=np.hstack([test_data_numeric, test_data_other])\n",
    "\n",
    "y=train_data['interest_level']"
   ]
  },
  {
   "cell_type": "code",
   "execution_count": 295,
   "id": "0e54d020",
   "metadata": {},
   "outputs": [],
   "source": [
    "X_train, X_test, y_train, y_test=train_test_split(X,y, test_size=0.2,random_state=42)"
   ]
  },
  {
   "cell_type": "markdown",
   "id": "445fe007",
   "metadata": {},
   "source": [
    "## Подбор оптимальных параметров модели"
   ]
  },
  {
   "cell_type": "markdown",
   "id": "bb57d28b",
   "metadata": {},
   "source": [
    "**Логистическая регрессия**"
   ]
  },
  {
   "cell_type": "code",
   "execution_count": 223,
   "id": "853dab88",
   "metadata": {},
   "outputs": [
    {
     "name": "stderr",
     "output_type": "stream",
     "text": [
      "C:\\Users\\Sasha\\anaconda3\\lib\\site-packages\\sklearn\\linear_model\\_logistic.py:763: ConvergenceWarning: lbfgs failed to converge (status=1):\n",
      "STOP: TOTAL NO. of ITERATIONS REACHED LIMIT.\n",
      "\n",
      "Increase the number of iterations (max_iter) or scale the data as shown in:\n",
      "    https://scikit-learn.org/stable/modules/preprocessing.html\n",
      "Please also refer to the documentation for alternative solver options:\n",
      "    https://scikit-learn.org/stable/modules/linear_model.html#logistic-regression\n",
      "  n_iter_i = _check_optimize_result(\n"
     ]
    }
   ],
   "source": [
    "# Попробуем для начала использовать логистическую регрессию с параметрами по умолчанию, но теперь уже на обработанных\n",
    "# данных\n",
    "logreg_treated=LogisticRegression()\n",
    "\n",
    "logreg_treated.fit(X_train,y_train)\n",
    "y_pred_test=logreg_treated.predict(X_test)\n",
    "y_pred_train=logreg_treated.predict(X_train)\n",
    "\n",
    "y_pred_proba_test=logreg_treated.predict_proba(X_test)\n",
    "y_pred_proba_train=logreg_treated.predict_proba(X_train)"
   ]
  },
  {
   "cell_type": "code",
   "execution_count": 224,
   "id": "24592ce7",
   "metadata": {
    "scrolled": true
   },
   "outputs": [
    {
     "name": "stdout",
     "output_type": "stream",
     "text": [
      "[train] f1_score 0.4087, [test] f1_score 0.4066\n",
      "\n",
      "[train] precision_score 0.4030, [test] precision_score 0.4018\n",
      "\n",
      "[train] recall_score 0.5522, [test] recall_score 0.5524\n",
      "\n",
      "[train] accuracy_score 0.7040, [test] accuracy_score 0.7022\n",
      "\n",
      "[train] roc_auc_score 0.7662, [test] roc_auc_score 0.7636\n",
      "\n",
      "[train] confusion_matrix \n",
      " [[26113  7409  1975]\n",
      " [ 1207  1351   790]\n",
      " [  126   181   329]], \n",
      "[test] confusion_matrix \n",
      " [[6499 1877  475]\n",
      " [ 322  359  197]\n",
      " [  17   52   73]]\n",
      "\n"
     ]
    }
   ],
   "source": [
    "# Выведем метрики\n",
    "show_metrics(y_pred_train,y_train,y_pred_test,y_test,y_pred_proba_train,y_pred_proba_test, avg='macro')"
   ]
  },
  {
   "cell_type": "code",
   "execution_count": 228,
   "id": "ce1a0cf6",
   "metadata": {},
   "outputs": [
    {
     "name": "stderr",
     "output_type": "stream",
     "text": [
      "C:\\Users\\Sasha\\anaconda3\\lib\\site-packages\\sklearn\\linear_model\\_logistic.py:763: ConvergenceWarning: lbfgs failed to converge (status=1):\n",
      "STOP: TOTAL NO. of ITERATIONS REACHED LIMIT.\n",
      "\n",
      "Increase the number of iterations (max_iter) or scale the data as shown in:\n",
      "    https://scikit-learn.org/stable/modules/preprocessing.html\n",
      "Please also refer to the documentation for alternative solver options:\n",
      "    https://scikit-learn.org/stable/modules/linear_model.html#logistic-regression\n",
      "  n_iter_i = _check_optimize_result(\n",
      "C:\\Users\\Sasha\\anaconda3\\lib\\site-packages\\sklearn\\linear_model\\_logistic.py:763: ConvergenceWarning: lbfgs failed to converge (status=1):\n",
      "STOP: TOTAL NO. of ITERATIONS REACHED LIMIT.\n",
      "\n",
      "Increase the number of iterations (max_iter) or scale the data as shown in:\n",
      "    https://scikit-learn.org/stable/modules/preprocessing.html\n",
      "Please also refer to the documentation for alternative solver options:\n",
      "    https://scikit-learn.org/stable/modules/linear_model.html#logistic-regression\n",
      "  n_iter_i = _check_optimize_result(\n",
      "C:\\Users\\Sasha\\anaconda3\\lib\\site-packages\\sklearn\\linear_model\\_logistic.py:763: ConvergenceWarning: lbfgs failed to converge (status=1):\n",
      "STOP: TOTAL NO. of ITERATIONS REACHED LIMIT.\n",
      "\n",
      "Increase the number of iterations (max_iter) or scale the data as shown in:\n",
      "    https://scikit-learn.org/stable/modules/preprocessing.html\n",
      "Please also refer to the documentation for alternative solver options:\n",
      "    https://scikit-learn.org/stable/modules/linear_model.html#logistic-regression\n",
      "  n_iter_i = _check_optimize_result(\n",
      "C:\\Users\\Sasha\\anaconda3\\lib\\site-packages\\sklearn\\linear_model\\_logistic.py:763: ConvergenceWarning: lbfgs failed to converge (status=1):\n",
      "STOP: TOTAL NO. of ITERATIONS REACHED LIMIT.\n",
      "\n",
      "Increase the number of iterations (max_iter) or scale the data as shown in:\n",
      "    https://scikit-learn.org/stable/modules/preprocessing.html\n",
      "Please also refer to the documentation for alternative solver options:\n",
      "    https://scikit-learn.org/stable/modules/linear_model.html#logistic-regression\n",
      "  n_iter_i = _check_optimize_result(\n",
      "C:\\Users\\Sasha\\anaconda3\\lib\\site-packages\\sklearn\\linear_model\\_logistic.py:763: ConvergenceWarning: lbfgs failed to converge (status=1):\n",
      "STOP: TOTAL NO. of ITERATIONS REACHED LIMIT.\n",
      "\n",
      "Increase the number of iterations (max_iter) or scale the data as shown in:\n",
      "    https://scikit-learn.org/stable/modules/preprocessing.html\n",
      "Please also refer to the documentation for alternative solver options:\n",
      "    https://scikit-learn.org/stable/modules/linear_model.html#logistic-regression\n",
      "  n_iter_i = _check_optimize_result(\n"
     ]
    }
   ],
   "source": [
    "# Посчитаем метрики на кросс-валидации\n",
    "cv_metrics = cross_validate(logreg_treated, X, y, cv=5, scoring='f1_macro', return_train_score=True)"
   ]
  },
  {
   "cell_type": "code",
   "execution_count": 230,
   "id": "150dff7d",
   "metadata": {},
   "outputs": [
    {
     "name": "stdout",
     "output_type": "stream",
     "text": [
      "[train] F1-score = 0.40 +/- 0.00\n",
      "[valid] F1-score = 0.40 +/- 0.01\n"
     ]
    },
    {
     "data": {
      "image/png": "[encoded data removed]",
      "text/plain": [
       "<Figure size 1080x360 with 1 Axes>"
      ]
     },
     "metadata": {
      "needs_background": "light"
     },
     "output_type": "display_data"
    }
   ],
   "source": [
    "plot_cv_metrics(cv_metrics)"
   ]
  },
  {
   "cell_type": "markdown",
   "id": "5b374223",
   "metadata": {},
   "source": [
    "**Мы видим, что обработка данных сильно помогла: логистичекая регрессия с параметрами по умолчанию теперь гораздо лучше определяет объекты 3-го класса. Кроме того, усредненная метрика f1_score_macro улучшилась с 0.29 до 0.40.**"
   ]
  },
  {
   "cell_type": "markdown",
   "id": "4cd5badf",
   "metadata": {},
   "source": [
    "**Для подбора оптимальных параметров модели воспользуемся инструментом GridSearchCV**"
   ]
  },
  {
   "cell_type": "code",
   "execution_count": 127,
   "id": "c248d99d",
   "metadata": {},
   "outputs": [],
   "source": [
    "from sklearn.model_selection import GridSearchCV"
   ]
  },
  {
   "cell_type": "code",
   "execution_count": 128,
   "id": "31c49ef3",
   "metadata": {},
   "outputs": [
    {
     "name": "stderr",
     "output_type": "stream",
     "text": [
      "C:\\Users\\Sasha\\anaconda3\\lib\\site-packages\\sklearn\\linear_model\\_sag.py:328: ConvergenceWarning: The max_iter was reached which means the coef_ did not converge\n",
      "  warnings.warn(\"The max_iter was reached which means \"\n",
      "C:\\Users\\Sasha\\anaconda3\\lib\\site-packages\\sklearn\\linear_model\\_sag.py:328: ConvergenceWarning: The max_iter was reached which means the coef_ did not converge\n",
      "  warnings.warn(\"The max_iter was reached which means \"\n",
      "C:\\Users\\Sasha\\anaconda3\\lib\\site-packages\\sklearn\\linear_model\\_sag.py:328: ConvergenceWarning: The max_iter was reached which means the coef_ did not converge\n",
      "  warnings.warn(\"The max_iter was reached which means \"\n",
      "C:\\Users\\Sasha\\anaconda3\\lib\\site-packages\\sklearn\\linear_model\\_sag.py:328: ConvergenceWarning: The max_iter was reached which means the coef_ did not converge\n",
      "  warnings.warn(\"The max_iter was reached which means \"\n",
      "C:\\Users\\Sasha\\anaconda3\\lib\\site-packages\\sklearn\\linear_model\\_sag.py:328: ConvergenceWarning: The max_iter was reached which means the coef_ did not converge\n",
      "  warnings.warn(\"The max_iter was reached which means \"\n",
      "C:\\Users\\Sasha\\anaconda3\\lib\\site-packages\\sklearn\\linear_model\\_sag.py:328: ConvergenceWarning: The max_iter was reached which means the coef_ did not converge\n",
      "  warnings.warn(\"The max_iter was reached which means \"\n",
      "C:\\Users\\Sasha\\anaconda3\\lib\\site-packages\\sklearn\\linear_model\\_sag.py:328: ConvergenceWarning: The max_iter was reached which means the coef_ did not converge\n",
      "  warnings.warn(\"The max_iter was reached which means \"\n",
      "C:\\Users\\Sasha\\anaconda3\\lib\\site-packages\\sklearn\\linear_model\\_sag.py:328: ConvergenceWarning: The max_iter was reached which means the coef_ did not converge\n",
      "  warnings.warn(\"The max_iter was reached which means \"\n",
      "C:\\Users\\Sasha\\anaconda3\\lib\\site-packages\\sklearn\\linear_model\\_sag.py:328: ConvergenceWarning: The max_iter was reached which means the coef_ did not converge\n",
      "  warnings.warn(\"The max_iter was reached which means \"\n",
      "C:\\Users\\Sasha\\anaconda3\\lib\\site-packages\\sklearn\\linear_model\\_sag.py:328: ConvergenceWarning: The max_iter was reached which means the coef_ did not converge\n",
      "  warnings.warn(\"The max_iter was reached which means \"\n",
      "C:\\Users\\Sasha\\anaconda3\\lib\\site-packages\\sklearn\\linear_model\\_sag.py:328: ConvergenceWarning: The max_iter was reached which means the coef_ did not converge\n",
      "  warnings.warn(\"The max_iter was reached which means \"\n",
      "C:\\Users\\Sasha\\anaconda3\\lib\\site-packages\\sklearn\\linear_model\\_sag.py:328: ConvergenceWarning: The max_iter was reached which means the coef_ did not converge\n",
      "  warnings.warn(\"The max_iter was reached which means \"\n",
      "C:\\Users\\Sasha\\anaconda3\\lib\\site-packages\\sklearn\\linear_model\\_sag.py:328: ConvergenceWarning: The max_iter was reached which means the coef_ did not converge\n",
      "  warnings.warn(\"The max_iter was reached which means \"\n",
      "C:\\Users\\Sasha\\anaconda3\\lib\\site-packages\\sklearn\\linear_model\\_sag.py:328: ConvergenceWarning: The max_iter was reached which means the coef_ did not converge\n",
      "  warnings.warn(\"The max_iter was reached which means \"\n",
      "C:\\Users\\Sasha\\anaconda3\\lib\\site-packages\\sklearn\\linear_model\\_sag.py:328: ConvergenceWarning: The max_iter was reached which means the coef_ did not converge\n",
      "  warnings.warn(\"The max_iter was reached which means \"\n",
      "C:\\Users\\Sasha\\anaconda3\\lib\\site-packages\\sklearn\\linear_model\\_sag.py:328: ConvergenceWarning: The max_iter was reached which means the coef_ did not converge\n",
      "  warnings.warn(\"The max_iter was reached which means \"\n",
      "C:\\Users\\Sasha\\anaconda3\\lib\\site-packages\\sklearn\\linear_model\\_sag.py:328: ConvergenceWarning: The max_iter was reached which means the coef_ did not converge\n",
      "  warnings.warn(\"The max_iter was reached which means \"\n",
      "C:\\Users\\Sasha\\anaconda3\\lib\\site-packages\\sklearn\\linear_model\\_sag.py:328: ConvergenceWarning: The max_iter was reached which means the coef_ did not converge\n",
      "  warnings.warn(\"The max_iter was reached which means \"\n",
      "C:\\Users\\Sasha\\anaconda3\\lib\\site-packages\\sklearn\\linear_model\\_sag.py:328: ConvergenceWarning: The max_iter was reached which means the coef_ did not converge\n",
      "  warnings.warn(\"The max_iter was reached which means \"\n",
      "C:\\Users\\Sasha\\anaconda3\\lib\\site-packages\\sklearn\\linear_model\\_sag.py:328: ConvergenceWarning: The max_iter was reached which means the coef_ did not converge\n",
      "  warnings.warn(\"The max_iter was reached which means \"\n",
      "C:\\Users\\Sasha\\anaconda3\\lib\\site-packages\\sklearn\\linear_model\\_logistic.py:763: ConvergenceWarning: lbfgs failed to converge (status=1):\n",
      "STOP: TOTAL NO. of ITERATIONS REACHED LIMIT.\n",
      "\n",
      "Increase the number of iterations (max_iter) or scale the data as shown in:\n",
      "    https://scikit-learn.org/stable/modules/preprocessing.html\n",
      "Please also refer to the documentation for alternative solver options:\n",
      "    https://scikit-learn.org/stable/modules/linear_model.html#logistic-regression\n",
      "  n_iter_i = _check_optimize_result(\n",
      "C:\\Users\\Sasha\\anaconda3\\lib\\site-packages\\sklearn\\linear_model\\_logistic.py:763: ConvergenceWarning: lbfgs failed to converge (status=1):\n",
      "STOP: TOTAL NO. of ITERATIONS REACHED LIMIT.\n",
      "\n",
      "Increase the number of iterations (max_iter) or scale the data as shown in:\n",
      "    https://scikit-learn.org/stable/modules/preprocessing.html\n",
      "Please also refer to the documentation for alternative solver options:\n",
      "    https://scikit-learn.org/stable/modules/linear_model.html#logistic-regression\n",
      "  n_iter_i = _check_optimize_result(\n",
      "C:\\Users\\Sasha\\anaconda3\\lib\\site-packages\\sklearn\\linear_model\\_logistic.py:763: ConvergenceWarning: lbfgs failed to converge (status=1):\n",
      "STOP: TOTAL NO. of ITERATIONS REACHED LIMIT.\n",
      "\n",
      "Increase the number of iterations (max_iter) or scale the data as shown in:\n",
      "    https://scikit-learn.org/stable/modules/preprocessing.html\n",
      "Please also refer to the documentation for alternative solver options:\n",
      "    https://scikit-learn.org/stable/modules/linear_model.html#logistic-regression\n",
      "  n_iter_i = _check_optimize_result(\n",
      "C:\\Users\\Sasha\\anaconda3\\lib\\site-packages\\sklearn\\linear_model\\_logistic.py:763: ConvergenceWarning: lbfgs failed to converge (status=1):\n",
      "STOP: TOTAL NO. of ITERATIONS REACHED LIMIT.\n",
      "\n",
      "Increase the number of iterations (max_iter) or scale the data as shown in:\n",
      "    https://scikit-learn.org/stable/modules/preprocessing.html\n",
      "Please also refer to the documentation for alternative solver options:\n",
      "    https://scikit-learn.org/stable/modules/linear_model.html#logistic-regression\n",
      "  n_iter_i = _check_optimize_result(\n",
      "C:\\Users\\Sasha\\anaconda3\\lib\\site-packages\\sklearn\\linear_model\\_logistic.py:763: ConvergenceWarning: lbfgs failed to converge (status=1):\n",
      "STOP: TOTAL NO. of ITERATIONS REACHED LIMIT.\n",
      "\n",
      "Increase the number of iterations (max_iter) or scale the data as shown in:\n",
      "    https://scikit-learn.org/stable/modules/preprocessing.html\n",
      "Please also refer to the documentation for alternative solver options:\n",
      "    https://scikit-learn.org/stable/modules/linear_model.html#logistic-regression\n",
      "  n_iter_i = _check_optimize_result(\n",
      "C:\\Users\\Sasha\\anaconda3\\lib\\site-packages\\sklearn\\linear_model\\_sag.py:328: ConvergenceWarning: The max_iter was reached which means the coef_ did not converge\n",
      "  warnings.warn(\"The max_iter was reached which means \"\n",
      "C:\\Users\\Sasha\\anaconda3\\lib\\site-packages\\sklearn\\linear_model\\_sag.py:328: ConvergenceWarning: The max_iter was reached which means the coef_ did not converge\n",
      "  warnings.warn(\"The max_iter was reached which means \"\n",
      "C:\\Users\\Sasha\\anaconda3\\lib\\site-packages\\sklearn\\linear_model\\_sag.py:328: ConvergenceWarning: The max_iter was reached which means the coef_ did not converge\n",
      "  warnings.warn(\"The max_iter was reached which means \"\n",
      "C:\\Users\\Sasha\\anaconda3\\lib\\site-packages\\sklearn\\linear_model\\_sag.py:328: ConvergenceWarning: The max_iter was reached which means the coef_ did not converge\n",
      "  warnings.warn(\"The max_iter was reached which means \"\n",
      "C:\\Users\\Sasha\\anaconda3\\lib\\site-packages\\sklearn\\linear_model\\_sag.py:328: ConvergenceWarning: The max_iter was reached which means the coef_ did not converge\n",
      "  warnings.warn(\"The max_iter was reached which means \"\n",
      "C:\\Users\\Sasha\\anaconda3\\lib\\site-packages\\sklearn\\linear_model\\_sag.py:328: ConvergenceWarning: The max_iter was reached which means the coef_ did not converge\n",
      "  warnings.warn(\"The max_iter was reached which means \"\n"
     ]
    },
    {
     "name": "stderr",
     "output_type": "stream",
     "text": [
      "C:\\Users\\Sasha\\anaconda3\\lib\\site-packages\\sklearn\\linear_model\\_sag.py:328: ConvergenceWarning: The max_iter was reached which means the coef_ did not converge\n",
      "  warnings.warn(\"The max_iter was reached which means \"\n",
      "C:\\Users\\Sasha\\anaconda3\\lib\\site-packages\\sklearn\\linear_model\\_sag.py:328: ConvergenceWarning: The max_iter was reached which means the coef_ did not converge\n",
      "  warnings.warn(\"The max_iter was reached which means \"\n",
      "C:\\Users\\Sasha\\anaconda3\\lib\\site-packages\\sklearn\\linear_model\\_sag.py:328: ConvergenceWarning: The max_iter was reached which means the coef_ did not converge\n",
      "  warnings.warn(\"The max_iter was reached which means \"\n",
      "C:\\Users\\Sasha\\anaconda3\\lib\\site-packages\\sklearn\\linear_model\\_sag.py:328: ConvergenceWarning: The max_iter was reached which means the coef_ did not converge\n",
      "  warnings.warn(\"The max_iter was reached which means \"\n",
      "C:\\Users\\Sasha\\anaconda3\\lib\\site-packages\\sklearn\\linear_model\\_logistic.py:763: ConvergenceWarning: lbfgs failed to converge (status=1):\n",
      "STOP: TOTAL NO. of ITERATIONS REACHED LIMIT.\n",
      "\n",
      "Increase the number of iterations (max_iter) or scale the data as shown in:\n",
      "    https://scikit-learn.org/stable/modules/preprocessing.html\n",
      "Please also refer to the documentation for alternative solver options:\n",
      "    https://scikit-learn.org/stable/modules/linear_model.html#logistic-regression\n",
      "  n_iter_i = _check_optimize_result(\n",
      "C:\\Users\\Sasha\\anaconda3\\lib\\site-packages\\sklearn\\linear_model\\_logistic.py:763: ConvergenceWarning: lbfgs failed to converge (status=1):\n",
      "STOP: TOTAL NO. of ITERATIONS REACHED LIMIT.\n",
      "\n",
      "Increase the number of iterations (max_iter) or scale the data as shown in:\n",
      "    https://scikit-learn.org/stable/modules/preprocessing.html\n",
      "Please also refer to the documentation for alternative solver options:\n",
      "    https://scikit-learn.org/stable/modules/linear_model.html#logistic-regression\n",
      "  n_iter_i = _check_optimize_result(\n",
      "C:\\Users\\Sasha\\anaconda3\\lib\\site-packages\\sklearn\\linear_model\\_logistic.py:763: ConvergenceWarning: lbfgs failed to converge (status=1):\n",
      "STOP: TOTAL NO. of ITERATIONS REACHED LIMIT.\n",
      "\n",
      "Increase the number of iterations (max_iter) or scale the data as shown in:\n",
      "    https://scikit-learn.org/stable/modules/preprocessing.html\n",
      "Please also refer to the documentation for alternative solver options:\n",
      "    https://scikit-learn.org/stable/modules/linear_model.html#logistic-regression\n",
      "  n_iter_i = _check_optimize_result(\n",
      "C:\\Users\\Sasha\\anaconda3\\lib\\site-packages\\sklearn\\linear_model\\_logistic.py:763: ConvergenceWarning: lbfgs failed to converge (status=1):\n",
      "STOP: TOTAL NO. of ITERATIONS REACHED LIMIT.\n",
      "\n",
      "Increase the number of iterations (max_iter) or scale the data as shown in:\n",
      "    https://scikit-learn.org/stable/modules/preprocessing.html\n",
      "Please also refer to the documentation for alternative solver options:\n",
      "    https://scikit-learn.org/stable/modules/linear_model.html#logistic-regression\n",
      "  n_iter_i = _check_optimize_result(\n",
      "C:\\Users\\Sasha\\anaconda3\\lib\\site-packages\\sklearn\\linear_model\\_logistic.py:763: ConvergenceWarning: lbfgs failed to converge (status=1):\n",
      "STOP: TOTAL NO. of ITERATIONS REACHED LIMIT.\n",
      "\n",
      "Increase the number of iterations (max_iter) or scale the data as shown in:\n",
      "    https://scikit-learn.org/stable/modules/preprocessing.html\n",
      "Please also refer to the documentation for alternative solver options:\n",
      "    https://scikit-learn.org/stable/modules/linear_model.html#logistic-regression\n",
      "  n_iter_i = _check_optimize_result(\n",
      "C:\\Users\\Sasha\\anaconda3\\lib\\site-packages\\sklearn\\linear_model\\_sag.py:328: ConvergenceWarning: The max_iter was reached which means the coef_ did not converge\n",
      "  warnings.warn(\"The max_iter was reached which means \"\n",
      "C:\\Users\\Sasha\\anaconda3\\lib\\site-packages\\sklearn\\linear_model\\_sag.py:328: ConvergenceWarning: The max_iter was reached which means the coef_ did not converge\n",
      "  warnings.warn(\"The max_iter was reached which means \"\n",
      "C:\\Users\\Sasha\\anaconda3\\lib\\site-packages\\sklearn\\linear_model\\_sag.py:328: ConvergenceWarning: The max_iter was reached which means the coef_ did not converge\n",
      "  warnings.warn(\"The max_iter was reached which means \"\n",
      "C:\\Users\\Sasha\\anaconda3\\lib\\site-packages\\sklearn\\linear_model\\_sag.py:328: ConvergenceWarning: The max_iter was reached which means the coef_ did not converge\n",
      "  warnings.warn(\"The max_iter was reached which means \"\n",
      "C:\\Users\\Sasha\\anaconda3\\lib\\site-packages\\sklearn\\linear_model\\_sag.py:328: ConvergenceWarning: The max_iter was reached which means the coef_ did not converge\n",
      "  warnings.warn(\"The max_iter was reached which means \"\n",
      "C:\\Users\\Sasha\\anaconda3\\lib\\site-packages\\sklearn\\linear_model\\_sag.py:328: ConvergenceWarning: The max_iter was reached which means the coef_ did not converge\n",
      "  warnings.warn(\"The max_iter was reached which means \"\n",
      "C:\\Users\\Sasha\\anaconda3\\lib\\site-packages\\sklearn\\linear_model\\_sag.py:328: ConvergenceWarning: The max_iter was reached which means the coef_ did not converge\n",
      "  warnings.warn(\"The max_iter was reached which means \"\n",
      "C:\\Users\\Sasha\\anaconda3\\lib\\site-packages\\sklearn\\linear_model\\_sag.py:328: ConvergenceWarning: The max_iter was reached which means the coef_ did not converge\n",
      "  warnings.warn(\"The max_iter was reached which means \"\n",
      "C:\\Users\\Sasha\\anaconda3\\lib\\site-packages\\sklearn\\linear_model\\_sag.py:328: ConvergenceWarning: The max_iter was reached which means the coef_ did not converge\n",
      "  warnings.warn(\"The max_iter was reached which means \"\n",
      "C:\\Users\\Sasha\\anaconda3\\lib\\site-packages\\sklearn\\linear_model\\_sag.py:328: ConvergenceWarning: The max_iter was reached which means the coef_ did not converge\n",
      "  warnings.warn(\"The max_iter was reached which means \"\n",
      "C:\\Users\\Sasha\\anaconda3\\lib\\site-packages\\sklearn\\linear_model\\_logistic.py:763: ConvergenceWarning: lbfgs failed to converge (status=1):\n",
      "STOP: TOTAL NO. of ITERATIONS REACHED LIMIT.\n",
      "\n",
      "Increase the number of iterations (max_iter) or scale the data as shown in:\n",
      "    https://scikit-learn.org/stable/modules/preprocessing.html\n",
      "Please also refer to the documentation for alternative solver options:\n",
      "    https://scikit-learn.org/stable/modules/linear_model.html#logistic-regression\n",
      "  n_iter_i = _check_optimize_result(\n",
      "C:\\Users\\Sasha\\anaconda3\\lib\\site-packages\\sklearn\\linear_model\\_logistic.py:763: ConvergenceWarning: lbfgs failed to converge (status=1):\n",
      "STOP: TOTAL NO. of ITERATIONS REACHED LIMIT.\n",
      "\n",
      "Increase the number of iterations (max_iter) or scale the data as shown in:\n",
      "    https://scikit-learn.org/stable/modules/preprocessing.html\n",
      "Please also refer to the documentation for alternative solver options:\n",
      "    https://scikit-learn.org/stable/modules/linear_model.html#logistic-regression\n",
      "  n_iter_i = _check_optimize_result(\n",
      "C:\\Users\\Sasha\\anaconda3\\lib\\site-packages\\sklearn\\linear_model\\_logistic.py:763: ConvergenceWarning: lbfgs failed to converge (status=1):\n",
      "STOP: TOTAL NO. of ITERATIONS REACHED LIMIT.\n",
      "\n",
      "Increase the number of iterations (max_iter) or scale the data as shown in:\n",
      "    https://scikit-learn.org/stable/modules/preprocessing.html\n",
      "Please also refer to the documentation for alternative solver options:\n",
      "    https://scikit-learn.org/stable/modules/linear_model.html#logistic-regression\n",
      "  n_iter_i = _check_optimize_result(\n",
      "C:\\Users\\Sasha\\anaconda3\\lib\\site-packages\\sklearn\\linear_model\\_logistic.py:763: ConvergenceWarning: lbfgs failed to converge (status=1):\n",
      "STOP: TOTAL NO. of ITERATIONS REACHED LIMIT.\n",
      "\n",
      "Increase the number of iterations (max_iter) or scale the data as shown in:\n",
      "    https://scikit-learn.org/stable/modules/preprocessing.html\n",
      "Please also refer to the documentation for alternative solver options:\n",
      "    https://scikit-learn.org/stable/modules/linear_model.html#logistic-regression\n",
      "  n_iter_i = _check_optimize_result(\n",
      "C:\\Users\\Sasha\\anaconda3\\lib\\site-packages\\sklearn\\linear_model\\_logistic.py:763: ConvergenceWarning: lbfgs failed to converge (status=1):\n",
      "STOP: TOTAL NO. of ITERATIONS REACHED LIMIT.\n",
      "\n",
      "Increase the number of iterations (max_iter) or scale the data as shown in:\n",
      "    https://scikit-learn.org/stable/modules/preprocessing.html\n",
      "Please also refer to the documentation for alternative solver options:\n",
      "    https://scikit-learn.org/stable/modules/linear_model.html#logistic-regression\n",
      "  n_iter_i = _check_optimize_result(\n",
      "C:\\Users\\Sasha\\anaconda3\\lib\\site-packages\\sklearn\\linear_model\\_sag.py:328: ConvergenceWarning: The max_iter was reached which means the coef_ did not converge\n",
      "  warnings.warn(\"The max_iter was reached which means \"\n"
     ]
    },
    {
     "name": "stderr",
     "output_type": "stream",
     "text": [
      "C:\\Users\\Sasha\\anaconda3\\lib\\site-packages\\sklearn\\linear_model\\_sag.py:328: ConvergenceWarning: The max_iter was reached which means the coef_ did not converge\n",
      "  warnings.warn(\"The max_iter was reached which means \"\n",
      "C:\\Users\\Sasha\\anaconda3\\lib\\site-packages\\sklearn\\linear_model\\_sag.py:328: ConvergenceWarning: The max_iter was reached which means the coef_ did not converge\n",
      "  warnings.warn(\"The max_iter was reached which means \"\n",
      "C:\\Users\\Sasha\\anaconda3\\lib\\site-packages\\sklearn\\linear_model\\_sag.py:328: ConvergenceWarning: The max_iter was reached which means the coef_ did not converge\n",
      "  warnings.warn(\"The max_iter was reached which means \"\n",
      "C:\\Users\\Sasha\\anaconda3\\lib\\site-packages\\sklearn\\linear_model\\_sag.py:328: ConvergenceWarning: The max_iter was reached which means the coef_ did not converge\n",
      "  warnings.warn(\"The max_iter was reached which means \"\n",
      "C:\\Users\\Sasha\\anaconda3\\lib\\site-packages\\sklearn\\linear_model\\_sag.py:328: ConvergenceWarning: The max_iter was reached which means the coef_ did not converge\n",
      "  warnings.warn(\"The max_iter was reached which means \"\n",
      "C:\\Users\\Sasha\\anaconda3\\lib\\site-packages\\sklearn\\linear_model\\_sag.py:328: ConvergenceWarning: The max_iter was reached which means the coef_ did not converge\n",
      "  warnings.warn(\"The max_iter was reached which means \"\n",
      "C:\\Users\\Sasha\\anaconda3\\lib\\site-packages\\sklearn\\linear_model\\_sag.py:328: ConvergenceWarning: The max_iter was reached which means the coef_ did not converge\n",
      "  warnings.warn(\"The max_iter was reached which means \"\n",
      "C:\\Users\\Sasha\\anaconda3\\lib\\site-packages\\sklearn\\linear_model\\_sag.py:328: ConvergenceWarning: The max_iter was reached which means the coef_ did not converge\n",
      "  warnings.warn(\"The max_iter was reached which means \"\n",
      "C:\\Users\\Sasha\\anaconda3\\lib\\site-packages\\sklearn\\linear_model\\_sag.py:328: ConvergenceWarning: The max_iter was reached which means the coef_ did not converge\n",
      "  warnings.warn(\"The max_iter was reached which means \"\n",
      "C:\\Users\\Sasha\\anaconda3\\lib\\site-packages\\sklearn\\linear_model\\_logistic.py:763: ConvergenceWarning: lbfgs failed to converge (status=1):\n",
      "STOP: TOTAL NO. of ITERATIONS REACHED LIMIT.\n",
      "\n",
      "Increase the number of iterations (max_iter) or scale the data as shown in:\n",
      "    https://scikit-learn.org/stable/modules/preprocessing.html\n",
      "Please also refer to the documentation for alternative solver options:\n",
      "    https://scikit-learn.org/stable/modules/linear_model.html#logistic-regression\n",
      "  n_iter_i = _check_optimize_result(\n",
      "C:\\Users\\Sasha\\anaconda3\\lib\\site-packages\\sklearn\\linear_model\\_logistic.py:763: ConvergenceWarning: lbfgs failed to converge (status=1):\n",
      "STOP: TOTAL NO. of ITERATIONS REACHED LIMIT.\n",
      "\n",
      "Increase the number of iterations (max_iter) or scale the data as shown in:\n",
      "    https://scikit-learn.org/stable/modules/preprocessing.html\n",
      "Please also refer to the documentation for alternative solver options:\n",
      "    https://scikit-learn.org/stable/modules/linear_model.html#logistic-regression\n",
      "  n_iter_i = _check_optimize_result(\n",
      "C:\\Users\\Sasha\\anaconda3\\lib\\site-packages\\sklearn\\linear_model\\_logistic.py:763: ConvergenceWarning: lbfgs failed to converge (status=1):\n",
      "STOP: TOTAL NO. of ITERATIONS REACHED LIMIT.\n",
      "\n",
      "Increase the number of iterations (max_iter) or scale the data as shown in:\n",
      "    https://scikit-learn.org/stable/modules/preprocessing.html\n",
      "Please also refer to the documentation for alternative solver options:\n",
      "    https://scikit-learn.org/stable/modules/linear_model.html#logistic-regression\n",
      "  n_iter_i = _check_optimize_result(\n",
      "C:\\Users\\Sasha\\anaconda3\\lib\\site-packages\\sklearn\\linear_model\\_logistic.py:763: ConvergenceWarning: lbfgs failed to converge (status=1):\n",
      "STOP: TOTAL NO. of ITERATIONS REACHED LIMIT.\n",
      "\n",
      "Increase the number of iterations (max_iter) or scale the data as shown in:\n",
      "    https://scikit-learn.org/stable/modules/preprocessing.html\n",
      "Please also refer to the documentation for alternative solver options:\n",
      "    https://scikit-learn.org/stable/modules/linear_model.html#logistic-regression\n",
      "  n_iter_i = _check_optimize_result(\n",
      "C:\\Users\\Sasha\\anaconda3\\lib\\site-packages\\sklearn\\linear_model\\_logistic.py:763: ConvergenceWarning: lbfgs failed to converge (status=1):\n",
      "STOP: TOTAL NO. of ITERATIONS REACHED LIMIT.\n",
      "\n",
      "Increase the number of iterations (max_iter) or scale the data as shown in:\n",
      "    https://scikit-learn.org/stable/modules/preprocessing.html\n",
      "Please also refer to the documentation for alternative solver options:\n",
      "    https://scikit-learn.org/stable/modules/linear_model.html#logistic-regression\n",
      "  n_iter_i = _check_optimize_result(\n",
      "C:\\Users\\Sasha\\anaconda3\\lib\\site-packages\\sklearn\\linear_model\\_sag.py:328: ConvergenceWarning: The max_iter was reached which means the coef_ did not converge\n",
      "  warnings.warn(\"The max_iter was reached which means \"\n",
      "C:\\Users\\Sasha\\anaconda3\\lib\\site-packages\\sklearn\\linear_model\\_sag.py:328: ConvergenceWarning: The max_iter was reached which means the coef_ did not converge\n",
      "  warnings.warn(\"The max_iter was reached which means \"\n",
      "C:\\Users\\Sasha\\anaconda3\\lib\\site-packages\\sklearn\\linear_model\\_sag.py:328: ConvergenceWarning: The max_iter was reached which means the coef_ did not converge\n",
      "  warnings.warn(\"The max_iter was reached which means \"\n",
      "C:\\Users\\Sasha\\anaconda3\\lib\\site-packages\\sklearn\\linear_model\\_sag.py:328: ConvergenceWarning: The max_iter was reached which means the coef_ did not converge\n",
      "  warnings.warn(\"The max_iter was reached which means \"\n",
      "C:\\Users\\Sasha\\anaconda3\\lib\\site-packages\\sklearn\\linear_model\\_sag.py:328: ConvergenceWarning: The max_iter was reached which means the coef_ did not converge\n",
      "  warnings.warn(\"The max_iter was reached which means \"\n",
      "C:\\Users\\Sasha\\anaconda3\\lib\\site-packages\\sklearn\\linear_model\\_sag.py:328: ConvergenceWarning: The max_iter was reached which means the coef_ did not converge\n",
      "  warnings.warn(\"The max_iter was reached which means \"\n",
      "C:\\Users\\Sasha\\anaconda3\\lib\\site-packages\\sklearn\\linear_model\\_sag.py:328: ConvergenceWarning: The max_iter was reached which means the coef_ did not converge\n",
      "  warnings.warn(\"The max_iter was reached which means \"\n",
      "C:\\Users\\Sasha\\anaconda3\\lib\\site-packages\\sklearn\\linear_model\\_sag.py:328: ConvergenceWarning: The max_iter was reached which means the coef_ did not converge\n",
      "  warnings.warn(\"The max_iter was reached which means \"\n",
      "C:\\Users\\Sasha\\anaconda3\\lib\\site-packages\\sklearn\\linear_model\\_sag.py:328: ConvergenceWarning: The max_iter was reached which means the coef_ did not converge\n",
      "  warnings.warn(\"The max_iter was reached which means \"\n",
      "C:\\Users\\Sasha\\anaconda3\\lib\\site-packages\\sklearn\\linear_model\\_sag.py:328: ConvergenceWarning: The max_iter was reached which means the coef_ did not converge\n",
      "  warnings.warn(\"The max_iter was reached which means \"\n",
      "C:\\Users\\Sasha\\anaconda3\\lib\\site-packages\\sklearn\\linear_model\\_logistic.py:763: ConvergenceWarning: lbfgs failed to converge (status=1):\n",
      "STOP: TOTAL NO. of ITERATIONS REACHED LIMIT.\n",
      "\n",
      "Increase the number of iterations (max_iter) or scale the data as shown in:\n",
      "    https://scikit-learn.org/stable/modules/preprocessing.html\n",
      "Please also refer to the documentation for alternative solver options:\n",
      "    https://scikit-learn.org/stable/modules/linear_model.html#logistic-regression\n",
      "  n_iter_i = _check_optimize_result(\n",
      "C:\\Users\\Sasha\\anaconda3\\lib\\site-packages\\sklearn\\linear_model\\_logistic.py:763: ConvergenceWarning: lbfgs failed to converge (status=1):\n",
      "STOP: TOTAL NO. of ITERATIONS REACHED LIMIT.\n",
      "\n",
      "Increase the number of iterations (max_iter) or scale the data as shown in:\n",
      "    https://scikit-learn.org/stable/modules/preprocessing.html\n",
      "Please also refer to the documentation for alternative solver options:\n",
      "    https://scikit-learn.org/stable/modules/linear_model.html#logistic-regression\n",
      "  n_iter_i = _check_optimize_result(\n",
      "C:\\Users\\Sasha\\anaconda3\\lib\\site-packages\\sklearn\\linear_model\\_logistic.py:763: ConvergenceWarning: lbfgs failed to converge (status=1):\n",
      "STOP: TOTAL NO. of ITERATIONS REACHED LIMIT.\n",
      "\n",
      "Increase the number of iterations (max_iter) or scale the data as shown in:\n",
      "    https://scikit-learn.org/stable/modules/preprocessing.html\n",
      "Please also refer to the documentation for alternative solver options:\n",
      "    https://scikit-learn.org/stable/modules/linear_model.html#logistic-regression\n",
      "  n_iter_i = _check_optimize_result(\n"
     ]
    },
    {
     "name": "stderr",
     "output_type": "stream",
     "text": [
      "C:\\Users\\Sasha\\anaconda3\\lib\\site-packages\\sklearn\\linear_model\\_logistic.py:763: ConvergenceWarning: lbfgs failed to converge (status=1):\n",
      "STOP: TOTAL NO. of ITERATIONS REACHED LIMIT.\n",
      "\n",
      "Increase the number of iterations (max_iter) or scale the data as shown in:\n",
      "    https://scikit-learn.org/stable/modules/preprocessing.html\n",
      "Please also refer to the documentation for alternative solver options:\n",
      "    https://scikit-learn.org/stable/modules/linear_model.html#logistic-regression\n",
      "  n_iter_i = _check_optimize_result(\n",
      "C:\\Users\\Sasha\\anaconda3\\lib\\site-packages\\sklearn\\linear_model\\_logistic.py:763: ConvergenceWarning: lbfgs failed to converge (status=1):\n",
      "STOP: TOTAL NO. of ITERATIONS REACHED LIMIT.\n",
      "\n",
      "Increase the number of iterations (max_iter) or scale the data as shown in:\n",
      "    https://scikit-learn.org/stable/modules/preprocessing.html\n",
      "Please also refer to the documentation for alternative solver options:\n",
      "    https://scikit-learn.org/stable/modules/linear_model.html#logistic-regression\n",
      "  n_iter_i = _check_optimize_result(\n",
      "C:\\Users\\Sasha\\anaconda3\\lib\\site-packages\\sklearn\\linear_model\\_sag.py:328: ConvergenceWarning: The max_iter was reached which means the coef_ did not converge\n",
      "  warnings.warn(\"The max_iter was reached which means \"\n",
      "C:\\Users\\Sasha\\anaconda3\\lib\\site-packages\\sklearn\\linear_model\\_sag.py:328: ConvergenceWarning: The max_iter was reached which means the coef_ did not converge\n",
      "  warnings.warn(\"The max_iter was reached which means \"\n",
      "C:\\Users\\Sasha\\anaconda3\\lib\\site-packages\\sklearn\\linear_model\\_sag.py:328: ConvergenceWarning: The max_iter was reached which means the coef_ did not converge\n",
      "  warnings.warn(\"The max_iter was reached which means \"\n",
      "C:\\Users\\Sasha\\anaconda3\\lib\\site-packages\\sklearn\\linear_model\\_sag.py:328: ConvergenceWarning: The max_iter was reached which means the coef_ did not converge\n",
      "  warnings.warn(\"The max_iter was reached which means \"\n",
      "C:\\Users\\Sasha\\anaconda3\\lib\\site-packages\\sklearn\\linear_model\\_sag.py:328: ConvergenceWarning: The max_iter was reached which means the coef_ did not converge\n",
      "  warnings.warn(\"The max_iter was reached which means \"\n",
      "C:\\Users\\Sasha\\anaconda3\\lib\\site-packages\\sklearn\\linear_model\\_sag.py:328: ConvergenceWarning: The max_iter was reached which means the coef_ did not converge\n",
      "  warnings.warn(\"The max_iter was reached which means \"\n",
      "C:\\Users\\Sasha\\anaconda3\\lib\\site-packages\\sklearn\\linear_model\\_sag.py:328: ConvergenceWarning: The max_iter was reached which means the coef_ did not converge\n",
      "  warnings.warn(\"The max_iter was reached which means \"\n",
      "C:\\Users\\Sasha\\anaconda3\\lib\\site-packages\\sklearn\\linear_model\\_sag.py:328: ConvergenceWarning: The max_iter was reached which means the coef_ did not converge\n",
      "  warnings.warn(\"The max_iter was reached which means \"\n",
      "C:\\Users\\Sasha\\anaconda3\\lib\\site-packages\\sklearn\\linear_model\\_sag.py:328: ConvergenceWarning: The max_iter was reached which means the coef_ did not converge\n",
      "  warnings.warn(\"The max_iter was reached which means \"\n",
      "C:\\Users\\Sasha\\anaconda3\\lib\\site-packages\\sklearn\\linear_model\\_sag.py:328: ConvergenceWarning: The max_iter was reached which means the coef_ did not converge\n",
      "  warnings.warn(\"The max_iter was reached which means \"\n",
      "C:\\Users\\Sasha\\anaconda3\\lib\\site-packages\\sklearn\\linear_model\\_logistic.py:763: ConvergenceWarning: lbfgs failed to converge (status=1):\n",
      "STOP: TOTAL NO. of ITERATIONS REACHED LIMIT.\n",
      "\n",
      "Increase the number of iterations (max_iter) or scale the data as shown in:\n",
      "    https://scikit-learn.org/stable/modules/preprocessing.html\n",
      "Please also refer to the documentation for alternative solver options:\n",
      "    https://scikit-learn.org/stable/modules/linear_model.html#logistic-regression\n",
      "  n_iter_i = _check_optimize_result(\n",
      "C:\\Users\\Sasha\\anaconda3\\lib\\site-packages\\sklearn\\linear_model\\_logistic.py:763: ConvergenceWarning: lbfgs failed to converge (status=1):\n",
      "STOP: TOTAL NO. of ITERATIONS REACHED LIMIT.\n",
      "\n",
      "Increase the number of iterations (max_iter) or scale the data as shown in:\n",
      "    https://scikit-learn.org/stable/modules/preprocessing.html\n",
      "Please also refer to the documentation for alternative solver options:\n",
      "    https://scikit-learn.org/stable/modules/linear_model.html#logistic-regression\n",
      "  n_iter_i = _check_optimize_result(\n",
      "C:\\Users\\Sasha\\anaconda3\\lib\\site-packages\\sklearn\\linear_model\\_logistic.py:763: ConvergenceWarning: lbfgs failed to converge (status=1):\n",
      "STOP: TOTAL NO. of ITERATIONS REACHED LIMIT.\n",
      "\n",
      "Increase the number of iterations (max_iter) or scale the data as shown in:\n",
      "    https://scikit-learn.org/stable/modules/preprocessing.html\n",
      "Please also refer to the documentation for alternative solver options:\n",
      "    https://scikit-learn.org/stable/modules/linear_model.html#logistic-regression\n",
      "  n_iter_i = _check_optimize_result(\n",
      "C:\\Users\\Sasha\\anaconda3\\lib\\site-packages\\sklearn\\linear_model\\_logistic.py:763: ConvergenceWarning: lbfgs failed to converge (status=1):\n",
      "STOP: TOTAL NO. of ITERATIONS REACHED LIMIT.\n",
      "\n",
      "Increase the number of iterations (max_iter) or scale the data as shown in:\n",
      "    https://scikit-learn.org/stable/modules/preprocessing.html\n",
      "Please also refer to the documentation for alternative solver options:\n",
      "    https://scikit-learn.org/stable/modules/linear_model.html#logistic-regression\n",
      "  n_iter_i = _check_optimize_result(\n",
      "C:\\Users\\Sasha\\anaconda3\\lib\\site-packages\\sklearn\\linear_model\\_logistic.py:763: ConvergenceWarning: lbfgs failed to converge (status=1):\n",
      "STOP: TOTAL NO. of ITERATIONS REACHED LIMIT.\n",
      "\n",
      "Increase the number of iterations (max_iter) or scale the data as shown in:\n",
      "    https://scikit-learn.org/stable/modules/preprocessing.html\n",
      "Please also refer to the documentation for alternative solver options:\n",
      "    https://scikit-learn.org/stable/modules/linear_model.html#logistic-regression\n",
      "  n_iter_i = _check_optimize_result(\n",
      "C:\\Users\\Sasha\\anaconda3\\lib\\site-packages\\sklearn\\linear_model\\_sag.py:328: ConvergenceWarning: The max_iter was reached which means the coef_ did not converge\n",
      "  warnings.warn(\"The max_iter was reached which means \"\n",
      "C:\\Users\\Sasha\\anaconda3\\lib\\site-packages\\sklearn\\linear_model\\_sag.py:328: ConvergenceWarning: The max_iter was reached which means the coef_ did not converge\n",
      "  warnings.warn(\"The max_iter was reached which means \"\n",
      "C:\\Users\\Sasha\\anaconda3\\lib\\site-packages\\sklearn\\linear_model\\_sag.py:328: ConvergenceWarning: The max_iter was reached which means the coef_ did not converge\n",
      "  warnings.warn(\"The max_iter was reached which means \"\n",
      "C:\\Users\\Sasha\\anaconda3\\lib\\site-packages\\sklearn\\linear_model\\_sag.py:328: ConvergenceWarning: The max_iter was reached which means the coef_ did not converge\n",
      "  warnings.warn(\"The max_iter was reached which means \"\n",
      "C:\\Users\\Sasha\\anaconda3\\lib\\site-packages\\sklearn\\linear_model\\_sag.py:328: ConvergenceWarning: The max_iter was reached which means the coef_ did not converge\n",
      "  warnings.warn(\"The max_iter was reached which means \"\n",
      "C:\\Users\\Sasha\\anaconda3\\lib\\site-packages\\sklearn\\linear_model\\_sag.py:328: ConvergenceWarning: The max_iter was reached which means the coef_ did not converge\n",
      "  warnings.warn(\"The max_iter was reached which means \"\n",
      "C:\\Users\\Sasha\\anaconda3\\lib\\site-packages\\sklearn\\linear_model\\_sag.py:328: ConvergenceWarning: The max_iter was reached which means the coef_ did not converge\n",
      "  warnings.warn(\"The max_iter was reached which means \"\n",
      "C:\\Users\\Sasha\\anaconda3\\lib\\site-packages\\sklearn\\linear_model\\_sag.py:328: ConvergenceWarning: The max_iter was reached which means the coef_ did not converge\n",
      "  warnings.warn(\"The max_iter was reached which means \"\n",
      "C:\\Users\\Sasha\\anaconda3\\lib\\site-packages\\sklearn\\linear_model\\_sag.py:328: ConvergenceWarning: The max_iter was reached which means the coef_ did not converge\n",
      "  warnings.warn(\"The max_iter was reached which means \"\n",
      "C:\\Users\\Sasha\\anaconda3\\lib\\site-packages\\sklearn\\linear_model\\_sag.py:328: ConvergenceWarning: The max_iter was reached which means the coef_ did not converge\n",
      "  warnings.warn(\"The max_iter was reached which means \"\n",
      "C:\\Users\\Sasha\\anaconda3\\lib\\site-packages\\sklearn\\linear_model\\_logistic.py:763: ConvergenceWarning: lbfgs failed to converge (status=1):\n",
      "STOP: TOTAL NO. of ITERATIONS REACHED LIMIT.\n",
      "\n",
      "Increase the number of iterations (max_iter) or scale the data as shown in:\n",
      "    https://scikit-learn.org/stable/modules/preprocessing.html\n",
      "Please also refer to the documentation for alternative solver options:\n",
      "    https://scikit-learn.org/stable/modules/linear_model.html#logistic-regression\n",
      "  n_iter_i = _check_optimize_result(\n"
     ]
    },
    {
     "name": "stderr",
     "output_type": "stream",
     "text": [
      "C:\\Users\\Sasha\\anaconda3\\lib\\site-packages\\sklearn\\linear_model\\_logistic.py:763: ConvergenceWarning: lbfgs failed to converge (status=1):\n",
      "STOP: TOTAL NO. of ITERATIONS REACHED LIMIT.\n",
      "\n",
      "Increase the number of iterations (max_iter) or scale the data as shown in:\n",
      "    https://scikit-learn.org/stable/modules/preprocessing.html\n",
      "Please also refer to the documentation for alternative solver options:\n",
      "    https://scikit-learn.org/stable/modules/linear_model.html#logistic-regression\n",
      "  n_iter_i = _check_optimize_result(\n",
      "C:\\Users\\Sasha\\anaconda3\\lib\\site-packages\\sklearn\\linear_model\\_logistic.py:763: ConvergenceWarning: lbfgs failed to converge (status=1):\n",
      "STOP: TOTAL NO. of ITERATIONS REACHED LIMIT.\n",
      "\n",
      "Increase the number of iterations (max_iter) or scale the data as shown in:\n",
      "    https://scikit-learn.org/stable/modules/preprocessing.html\n",
      "Please also refer to the documentation for alternative solver options:\n",
      "    https://scikit-learn.org/stable/modules/linear_model.html#logistic-regression\n",
      "  n_iter_i = _check_optimize_result(\n",
      "C:\\Users\\Sasha\\anaconda3\\lib\\site-packages\\sklearn\\linear_model\\_logistic.py:763: ConvergenceWarning: lbfgs failed to converge (status=1):\n",
      "STOP: TOTAL NO. of ITERATIONS REACHED LIMIT.\n",
      "\n",
      "Increase the number of iterations (max_iter) or scale the data as shown in:\n",
      "    https://scikit-learn.org/stable/modules/preprocessing.html\n",
      "Please also refer to the documentation for alternative solver options:\n",
      "    https://scikit-learn.org/stable/modules/linear_model.html#logistic-regression\n",
      "  n_iter_i = _check_optimize_result(\n",
      "C:\\Users\\Sasha\\anaconda3\\lib\\site-packages\\sklearn\\linear_model\\_logistic.py:763: ConvergenceWarning: lbfgs failed to converge (status=1):\n",
      "STOP: TOTAL NO. of ITERATIONS REACHED LIMIT.\n",
      "\n",
      "Increase the number of iterations (max_iter) or scale the data as shown in:\n",
      "    https://scikit-learn.org/stable/modules/preprocessing.html\n",
      "Please also refer to the documentation for alternative solver options:\n",
      "    https://scikit-learn.org/stable/modules/linear_model.html#logistic-regression\n",
      "  n_iter_i = _check_optimize_result(\n",
      "C:\\Users\\Sasha\\anaconda3\\lib\\site-packages\\sklearn\\linear_model\\_sag.py:328: ConvergenceWarning: The max_iter was reached which means the coef_ did not converge\n",
      "  warnings.warn(\"The max_iter was reached which means \"\n",
      "C:\\Users\\Sasha\\anaconda3\\lib\\site-packages\\sklearn\\linear_model\\_sag.py:328: ConvergenceWarning: The max_iter was reached which means the coef_ did not converge\n",
      "  warnings.warn(\"The max_iter was reached which means \"\n",
      "C:\\Users\\Sasha\\anaconda3\\lib\\site-packages\\sklearn\\linear_model\\_sag.py:328: ConvergenceWarning: The max_iter was reached which means the coef_ did not converge\n",
      "  warnings.warn(\"The max_iter was reached which means \"\n",
      "C:\\Users\\Sasha\\anaconda3\\lib\\site-packages\\sklearn\\linear_model\\_sag.py:328: ConvergenceWarning: The max_iter was reached which means the coef_ did not converge\n",
      "  warnings.warn(\"The max_iter was reached which means \"\n",
      "C:\\Users\\Sasha\\anaconda3\\lib\\site-packages\\sklearn\\linear_model\\_sag.py:328: ConvergenceWarning: The max_iter was reached which means the coef_ did not converge\n",
      "  warnings.warn(\"The max_iter was reached which means \"\n",
      "C:\\Users\\Sasha\\anaconda3\\lib\\site-packages\\sklearn\\linear_model\\_sag.py:328: ConvergenceWarning: The max_iter was reached which means the coef_ did not converge\n",
      "  warnings.warn(\"The max_iter was reached which means \"\n",
      "C:\\Users\\Sasha\\anaconda3\\lib\\site-packages\\sklearn\\linear_model\\_sag.py:328: ConvergenceWarning: The max_iter was reached which means the coef_ did not converge\n",
      "  warnings.warn(\"The max_iter was reached which means \"\n",
      "C:\\Users\\Sasha\\anaconda3\\lib\\site-packages\\sklearn\\linear_model\\_sag.py:328: ConvergenceWarning: The max_iter was reached which means the coef_ did not converge\n",
      "  warnings.warn(\"The max_iter was reached which means \"\n",
      "C:\\Users\\Sasha\\anaconda3\\lib\\site-packages\\sklearn\\linear_model\\_sag.py:328: ConvergenceWarning: The max_iter was reached which means the coef_ did not converge\n",
      "  warnings.warn(\"The max_iter was reached which means \"\n",
      "C:\\Users\\Sasha\\anaconda3\\lib\\site-packages\\sklearn\\linear_model\\_sag.py:328: ConvergenceWarning: The max_iter was reached which means the coef_ did not converge\n",
      "  warnings.warn(\"The max_iter was reached which means \"\n",
      "C:\\Users\\Sasha\\anaconda3\\lib\\site-packages\\sklearn\\linear_model\\_logistic.py:763: ConvergenceWarning: lbfgs failed to converge (status=1):\n",
      "STOP: TOTAL NO. of ITERATIONS REACHED LIMIT.\n",
      "\n",
      "Increase the number of iterations (max_iter) or scale the data as shown in:\n",
      "    https://scikit-learn.org/stable/modules/preprocessing.html\n",
      "Please also refer to the documentation for alternative solver options:\n",
      "    https://scikit-learn.org/stable/modules/linear_model.html#logistic-regression\n",
      "  n_iter_i = _check_optimize_result(\n",
      "C:\\Users\\Sasha\\anaconda3\\lib\\site-packages\\sklearn\\linear_model\\_logistic.py:763: ConvergenceWarning: lbfgs failed to converge (status=1):\n",
      "STOP: TOTAL NO. of ITERATIONS REACHED LIMIT.\n",
      "\n",
      "Increase the number of iterations (max_iter) or scale the data as shown in:\n",
      "    https://scikit-learn.org/stable/modules/preprocessing.html\n",
      "Please also refer to the documentation for alternative solver options:\n",
      "    https://scikit-learn.org/stable/modules/linear_model.html#logistic-regression\n",
      "  n_iter_i = _check_optimize_result(\n",
      "C:\\Users\\Sasha\\anaconda3\\lib\\site-packages\\sklearn\\linear_model\\_logistic.py:763: ConvergenceWarning: lbfgs failed to converge (status=1):\n",
      "STOP: TOTAL NO. of ITERATIONS REACHED LIMIT.\n",
      "\n",
      "Increase the number of iterations (max_iter) or scale the data as shown in:\n",
      "    https://scikit-learn.org/stable/modules/preprocessing.html\n",
      "Please also refer to the documentation for alternative solver options:\n",
      "    https://scikit-learn.org/stable/modules/linear_model.html#logistic-regression\n",
      "  n_iter_i = _check_optimize_result(\n",
      "C:\\Users\\Sasha\\anaconda3\\lib\\site-packages\\sklearn\\linear_model\\_logistic.py:763: ConvergenceWarning: lbfgs failed to converge (status=1):\n",
      "STOP: TOTAL NO. of ITERATIONS REACHED LIMIT.\n",
      "\n",
      "Increase the number of iterations (max_iter) or scale the data as shown in:\n",
      "    https://scikit-learn.org/stable/modules/preprocessing.html\n",
      "Please also refer to the documentation for alternative solver options:\n",
      "    https://scikit-learn.org/stable/modules/linear_model.html#logistic-regression\n",
      "  n_iter_i = _check_optimize_result(\n",
      "C:\\Users\\Sasha\\anaconda3\\lib\\site-packages\\sklearn\\linear_model\\_logistic.py:763: ConvergenceWarning: lbfgs failed to converge (status=1):\n",
      "STOP: TOTAL NO. of ITERATIONS REACHED LIMIT.\n",
      "\n",
      "Increase the number of iterations (max_iter) or scale the data as shown in:\n",
      "    https://scikit-learn.org/stable/modules/preprocessing.html\n",
      "Please also refer to the documentation for alternative solver options:\n",
      "    https://scikit-learn.org/stable/modules/linear_model.html#logistic-regression\n",
      "  n_iter_i = _check_optimize_result(\n",
      "C:\\Users\\Sasha\\anaconda3\\lib\\site-packages\\sklearn\\linear_model\\_sag.py:328: ConvergenceWarning: The max_iter was reached which means the coef_ did not converge\n",
      "  warnings.warn(\"The max_iter was reached which means \"\n",
      "C:\\Users\\Sasha\\anaconda3\\lib\\site-packages\\sklearn\\linear_model\\_sag.py:328: ConvergenceWarning: The max_iter was reached which means the coef_ did not converge\n",
      "  warnings.warn(\"The max_iter was reached which means \"\n",
      "C:\\Users\\Sasha\\anaconda3\\lib\\site-packages\\sklearn\\linear_model\\_sag.py:328: ConvergenceWarning: The max_iter was reached which means the coef_ did not converge\n",
      "  warnings.warn(\"The max_iter was reached which means \"\n",
      "C:\\Users\\Sasha\\anaconda3\\lib\\site-packages\\sklearn\\linear_model\\_sag.py:328: ConvergenceWarning: The max_iter was reached which means the coef_ did not converge\n",
      "  warnings.warn(\"The max_iter was reached which means \"\n",
      "C:\\Users\\Sasha\\anaconda3\\lib\\site-packages\\sklearn\\linear_model\\_sag.py:328: ConvergenceWarning: The max_iter was reached which means the coef_ did not converge\n",
      "  warnings.warn(\"The max_iter was reached which means \"\n",
      "C:\\Users\\Sasha\\anaconda3\\lib\\site-packages\\sklearn\\linear_model\\_sag.py:328: ConvergenceWarning: The max_iter was reached which means the coef_ did not converge\n",
      "  warnings.warn(\"The max_iter was reached which means \"\n",
      "C:\\Users\\Sasha\\anaconda3\\lib\\site-packages\\sklearn\\linear_model\\_sag.py:328: ConvergenceWarning: The max_iter was reached which means the coef_ did not converge\n",
      "  warnings.warn(\"The max_iter was reached which means \"\n"
     ]
    },
    {
     "name": "stderr",
     "output_type": "stream",
     "text": [
      "C:\\Users\\Sasha\\anaconda3\\lib\\site-packages\\sklearn\\linear_model\\_sag.py:328: ConvergenceWarning: The max_iter was reached which means the coef_ did not converge\n",
      "  warnings.warn(\"The max_iter was reached which means \"\n",
      "C:\\Users\\Sasha\\anaconda3\\lib\\site-packages\\sklearn\\linear_model\\_sag.py:328: ConvergenceWarning: The max_iter was reached which means the coef_ did not converge\n",
      "  warnings.warn(\"The max_iter was reached which means \"\n",
      "C:\\Users\\Sasha\\anaconda3\\lib\\site-packages\\sklearn\\linear_model\\_sag.py:328: ConvergenceWarning: The max_iter was reached which means the coef_ did not converge\n",
      "  warnings.warn(\"The max_iter was reached which means \"\n"
     ]
    },
    {
     "name": "stdout",
     "output_type": "stream",
     "text": [
      "\tC: 1.0\n",
      "\tclass_weight: 'balanced'\n",
      "\tdual: False\n",
      "\tfit_intercept: True\n",
      "\tintercept_scaling: 1\n",
      "\tl1_ratio: None\n",
      "\tmax_iter: 50\n",
      "\tmulti_class: 'auto'\n",
      "\tn_jobs: None\n",
      "\tpenalty: 'none'\n",
      "\trandom_state: None\n",
      "\tsolver: 'newton-cg'\n",
      "\ttol: 0.001\n",
      "\tverbose: 0\n",
      "\twarm_start: False\n",
      "0.4646063328652977\n"
     ]
    }
   ],
   "source": [
    "model=LogisticRegression()\n",
    "\n",
    "# Я специально беру небольшое количество итераций и большее значение tol, чем по умолчанию. Иначе подбор параметров будет \n",
    "# работать слишком долго. Если даже алгоритм не сойдется, это можно будет исправить далее с уже найденными параметрами\n",
    "iter_ = 50\n",
    "epsilon_stop = 1e-3\n",
    "\n",
    "param_grid = [ {'penalty': ['l1'], \n",
    "      'solver': ['saga'], \n",
    "      'class_weight':[None, 'balanced'], \n",
    "      'multi_class': ['auto','multinomial'], \n",
    "      'max_iter':[iter_],\n",
    "      'tol':[epsilon_stop]},\n",
    "      {'penalty': ['l2'], \n",
    "       'solver': ['newton-cg', 'lbfgs', 'sag', 'saga'], \n",
    "       'class_weight':[None, 'balanced'], \n",
    "       'multi_class': ['auto','multinomial'], \n",
    "       'max_iter':[iter_],\n",
    "       'tol':[epsilon_stop]},\n",
    "      {'penalty': ['none'], \n",
    "       'solver': ['newton-cg', 'lbfgs', 'sag', 'saga'], \n",
    "       'class_weight':[None, 'balanced'], \n",
    "       'multi_class': ['auto','multinomial'], \n",
    "      'max_iter':[iter_],\n",
    "       'tol':[epsilon_stop]} ]\n",
    "\n",
    "gridsearch = GridSearchCV(model, param_grid, scoring='f1_macro', cv=5)\n",
    "gridsearch.fit(X_train, y_train)\n",
    "model = gridsearch.best_estimator_\n",
    "\n",
    "# печатаем параметры\n",
    "best_parameters = model.get_params()\n",
    "for param_name in sorted(best_parameters.keys()):       \n",
    "    print('\\t%s: %r' % (param_name, best_parameters[param_name]))\n",
    "    \n",
    "# печатаем лучшее значение метрики для gridsearch\n",
    "print('Наиулчшее значение метрики: ', gridsearch.best_score_)"
   ]
  },
  {
   "cell_type": "code",
   "execution_count": 225,
   "id": "c26571ea",
   "metadata": {},
   "outputs": [
    {
     "name": "stderr",
     "output_type": "stream",
     "text": [
      "C:\\Users\\Sasha\\anaconda3\\lib\\site-packages\\sklearn\\utils\\optimize.py:202: ConvergenceWarning: newton-cg failed to converge. Increase the number of iterations.\n",
      "  warnings.warn(\"newton-cg failed to converge. Increase the \"\n"
     ]
    }
   ],
   "source": [
    "# Обучим логистическую регрессию с найденными параметрами\n",
    "logreg_optimized=LogisticRegression(class_weight='balanced',penalty='none',solver='newton-cg')\n",
    "\n",
    "logreg_optimized.fit(X_train,y_train)\n",
    "y_pred_test=logreg_optimized.predict(X_test)\n",
    "y_pred_train=logreg_optimized.predict(X_train)\n",
    "\n",
    "y_pred_proba_test=logreg_optimized.predict_proba(X_test)\n",
    "y_pred_proba_train=logreg_optimized.predict_proba(X_train)"
   ]
  },
  {
   "cell_type": "code",
   "execution_count": 226,
   "id": "99d2ec32",
   "metadata": {
    "scrolled": false
   },
   "outputs": [
    {
     "name": "stdout",
     "output_type": "stream",
     "text": [
      "[train] f1_score 0.4849, [test] f1_score 0.4821\n",
      "\n",
      "[train] precision_score 0.5575, [test] precision_score 0.5558\n",
      "\n",
      "[train] recall_score 0.4803, [test] recall_score 0.4785\n",
      "\n",
      "[train] accuracy_score 0.5921, [test] accuracy_score 0.5922\n",
      "\n",
      "[train] roc_auc_score 0.7599, [test] roc_auc_score 0.7574\n",
      "\n",
      "[train] confusion_matrix \n",
      " [[17767  2412   360]\n",
      " [ 6354  3728   852]\n",
      " [ 3325  2801  1882]], \n",
      "[test] confusion_matrix \n",
      " [[4456  627   81]\n",
      " [1538  939  213]\n",
      " [ 844  722  451]]\n",
      "\n"
     ]
    }
   ],
   "source": [
    "# Выведем метрики\n",
    "show_metrics(y_pred_train,y_train,y_pred_test,y_test,y_pred_proba_train,y_pred_proba_test,avg='macro')"
   ]
  },
  {
   "cell_type": "code",
   "execution_count": 231,
   "id": "e39122ac",
   "metadata": {},
   "outputs": [
    {
     "name": "stderr",
     "output_type": "stream",
     "text": [
      "C:\\Users\\Sasha\\anaconda3\\lib\\site-packages\\sklearn\\utils\\optimize.py:202: ConvergenceWarning: newton-cg failed to converge. Increase the number of iterations.\n",
      "  warnings.warn(\"newton-cg failed to converge. Increase the \"\n",
      "C:\\Users\\Sasha\\anaconda3\\lib\\site-packages\\sklearn\\utils\\optimize.py:202: ConvergenceWarning: newton-cg failed to converge. Increase the number of iterations.\n",
      "  warnings.warn(\"newton-cg failed to converge. Increase the \"\n",
      "C:\\Users\\Sasha\\anaconda3\\lib\\site-packages\\sklearn\\utils\\optimize.py:202: ConvergenceWarning: newton-cg failed to converge. Increase the number of iterations.\n",
      "  warnings.warn(\"newton-cg failed to converge. Increase the \"\n",
      "C:\\Users\\Sasha\\anaconda3\\lib\\site-packages\\sklearn\\utils\\optimize.py:202: ConvergenceWarning: newton-cg failed to converge. Increase the number of iterations.\n",
      "  warnings.warn(\"newton-cg failed to converge. Increase the \"\n"
     ]
    }
   ],
   "source": [
    "# Посчитаем метрики на кросс-валидации\n",
    "cv_metrics = cross_validate(logreg_optimized, X, y, cv=5, scoring='f1_macro', return_train_score=True)"
   ]
  },
  {
   "cell_type": "code",
   "execution_count": 232,
   "id": "da615d77",
   "metadata": {
    "scrolled": true
   },
   "outputs": [
    {
     "name": "stdout",
     "output_type": "stream",
     "text": [
      "[train] F1-score = 0.48 +/- 0.00\n",
      "[valid] F1-score = 0.48 +/- 0.01\n"
     ]
    },
    {
     "data": {
      "image/png": "[encoded data removed]",
      "text/plain": [
       "<Figure size 1080x360 with 1 Axes>"
      ]
     },
     "metadata": {
      "needs_background": "light"
     },
     "output_type": "display_data"
    }
   ],
   "source": [
    "plot_cv_metrics(cv_metrics)"
   ]
  },
  {
   "cell_type": "markdown",
   "id": "2ee63d9d",
   "metadata": {},
   "source": [
    "**Дейстивительно, после подбора параметров логистической регрессии метрика f1_score_macro заметно улучшились. Мы видим рост метрики с 0.40 до 0.48 на кросс-валидации.**"
   ]
  },
  {
   "cell_type": "code",
   "execution_count": 233,
   "id": "c657cc2a",
   "metadata": {},
   "outputs": [],
   "source": [
    "# Увеличим количество итераций и снова обучем модель\n",
    "logreg_optimized=LogisticRegression(class_weight='balanced',penalty='none',solver='newton-cg', max_iter=1000)\n",
    "\n",
    "logreg_optimized.fit(X_train,y_train)\n",
    "y_pred_test=logreg_optimized.predict(X_test)\n",
    "y_pred_train=logreg_optimized.predict(X_train)\n",
    "\n",
    "y_pred_proba_test=logreg_optimized.predict_proba(X_test)\n",
    "y_pred_proba_train=logreg_optimized.predict_proba(X_train)"
   ]
  },
  {
   "cell_type": "code",
   "execution_count": 235,
   "id": "a92c33ee",
   "metadata": {},
   "outputs": [],
   "source": [
    "# Посчитаем метрики на кросс-валидации\n",
    "cv_metrics = cross_validate(logreg_optimized, X, y, cv=5, scoring='f1_macro', return_train_score=True)"
   ]
  },
  {
   "cell_type": "code",
   "execution_count": 236,
   "id": "eaae82ed",
   "metadata": {
    "scrolled": true
   },
   "outputs": [
    {
     "name": "stdout",
     "output_type": "stream",
     "text": [
      "[train] F1-score = 0.48 +/- 0.00\n",
      "[valid] F1-score = 0.48 +/- 0.01\n"
     ]
    },
    {
     "data": {
      "image/png": "[encoded data removed]",
      "text/plain": [
       "<Figure size 1080x360 with 1 Axes>"
      ]
     },
     "metadata": {
      "needs_background": "light"
     },
     "output_type": "display_data"
    }
   ],
   "source": [
    "plot_cv_metrics(cv_metrics)"
   ]
  },
  {
   "cell_type": "markdown",
   "id": "1072afe4",
   "metadata": {},
   "source": [
    "**Метрика не изменилась. Но, по крайней мере, мы избавились от варнингов.**"
   ]
  },
  {
   "cell_type": "markdown",
   "id": "9f79346e",
   "metadata": {},
   "source": [
    "**Случайный лес**"
   ]
  },
  {
   "cell_type": "code",
   "execution_count": 237,
   "id": "7e606b9e",
   "metadata": {},
   "outputs": [],
   "source": [
    "# Попробуем для начала использовать случайный лес с параметрами по умолчанию на обработанных данных\n",
    "rfc_treated=RandomForestClassifier()\n",
    "\n",
    "rfc_treated.fit(X_train,y_train)\n",
    "y_pred_test=rfc_treated.predict(X_test)\n",
    "y_pred_train=rfc_treated.predict(X_train)\n",
    "y_pred_proba_test=rfc_treated.predict_proba(X_test)\n",
    "y_pred_proba_train=rfc_treated.predict_proba(X_train)"
   ]
  },
  {
   "cell_type": "code",
   "execution_count": 142,
   "id": "6481aef7",
   "metadata": {
    "scrolled": false
   },
   "outputs": [
    {
     "name": "stdout",
     "output_type": "stream",
     "text": [
      "[train] f1_score 0.9958, [test] f1_score 0.4753\n",
      "\n",
      "[train] precision_score 0.9952, [test] precision_score 0.4547\n",
      "\n",
      "[train] recall_score 0.9964, [test] recall_score 0.5639\n",
      "\n",
      "[train] accuracy_score 0.9972, [test] accuracy_score 0.7138\n",
      "\n",
      "[train] roc_auc_score 1.0000, [test] roc_auc_score 0.7862\n",
      "\n",
      "[train] confusion_matrix \n",
      " [[27418    53    10]\n",
      " [   23  8878    10]\n",
      " [    5    10  3074]], \n",
      "[test] confusion_matrix \n",
      " [[6384 1668  339]\n",
      " [ 410  506  250]\n",
      " [  44  114  156]]\n",
      "\n"
     ]
    }
   ],
   "source": [
    "# Выведем метрики\n",
    "show_metrics(y_pred_train,y_train,y_pred_test,y_test,y_pred_proba_train,y_pred_proba_test, avg='macro')"
   ]
  },
  {
   "cell_type": "code",
   "execution_count": 238,
   "id": "4c18275d",
   "metadata": {},
   "outputs": [],
   "source": [
    "# Посчитаем метрики на кросс-валидации\n",
    "cv_metrics = cross_validate(rfc_treated, X, y, cv=5, scoring='f1_macro', return_train_score=True)"
   ]
  },
  {
   "cell_type": "code",
   "execution_count": 239,
   "id": "d1bec811",
   "metadata": {},
   "outputs": [
    {
     "name": "stdout",
     "output_type": "stream",
     "text": [
      "[train] F1-score = 0.99 +/- 0.00\n",
      "[valid] F1-score = 0.51 +/- 0.01\n"
     ]
    },
    {
     "data": {
      "image/png": "[encoded data removed]",
      "text/plain": [
       "<Figure size 1080x360 with 1 Axes>"
      ]
     },
     "metadata": {
      "needs_background": "light"
     },
     "output_type": "display_data"
    }
   ],
   "source": [
    "plot_cv_metrics(cv_metrics)"
   ]
  },
  {
   "cell_type": "markdown",
   "id": "4319e59c",
   "metadata": {},
   "source": [
    "**Метрика на обработанных данных по сравнению с необработанными не изменилась. Кроме того, мы по-прежнему видим сильное переобучение случайного леса.**\n",
    "\n",
    "**Попробуем побороться с переобучением. Эксперименты показали, что:**\n",
    "**1. Простое ограничение глубины дерева (max_depth=10) позволяет избавиться от переобучения, но целевая метрика f1_score_macro становится хуже, т.к. деревья получаются недообученными**\n",
    "**2. Избавиться от переобучения удается с помощью ограничения минимального числа образцов в сплите (min_samples_split=200), но это тоже приводит к уменьшению целевой метрики из-за недообученности деревьев.**"
   ]
  },
  {
   "cell_type": "code",
   "execution_count": 240,
   "id": "c89ae2d8",
   "metadata": {},
   "outputs": [],
   "source": [
    "# Возьмем не переобученную модель\n",
    "rfc_not_overfit=RandomForestClassifier(max_depth=10, n_estimators=1000)\n",
    "\n",
    "rfc_not_overfit.fit(X_train,y_train)\n",
    "y_pred_test=rfc_not_overfit.predict(X_test)\n",
    "y_pred_train=rfc_not_overfit.predict(X_train)\n",
    "y_pred_proba_test=rfc_not_overfit.predict_proba(X_test)\n",
    "y_pred_proba_train=rfc_not_overfit.predict_proba(X_train)"
   ]
  },
  {
   "cell_type": "code",
   "execution_count": 241,
   "id": "d6238773",
   "metadata": {},
   "outputs": [
    {
     "name": "stdout",
     "output_type": "stream",
     "text": [
      "[train] f1_score 0.5005, [test] f1_score 0.4142\n",
      "\n",
      "[train] precision_score 0.4669, [test] precision_score 0.4098\n",
      "\n",
      "[train] recall_score 0.7571, [test] recall_score 0.5896\n",
      "\n",
      "[train] accuracy_score 0.7475, [test] accuracy_score 0.7154\n",
      "\n",
      "[train] roc_auc_score 0.8556, [test] roc_auc_score 0.7986\n",
      "\n",
      "[train] confusion_matrix \n",
      " [[27117  7150  1895]\n",
      " [  279  1709   514]\n",
      " [   50    82   685]], \n",
      "[test] confusion_matrix \n",
      " [[6691 1959  465]\n",
      " [ 128  273  182]\n",
      " [  19   56   98]]\n",
      "\n"
     ]
    }
   ],
   "source": [
    "# Выведем метрики\n",
    "show_metrics(y_pred_train,y_train,y_pred_test,y_test,y_pred_proba_train,y_pred_proba_test, avg='macro')"
   ]
  },
  {
   "cell_type": "code",
   "execution_count": 242,
   "id": "8acb3505",
   "metadata": {},
   "outputs": [],
   "source": [
    "# Посчитаем метрики на кросс-валидации\n",
    "cv_metrics = cross_validate(rfc_not_overfit, X, y, cv=5, scoring='f1_macro', return_train_score=True)"
   ]
  },
  {
   "cell_type": "code",
   "execution_count": 243,
   "id": "0159afa8",
   "metadata": {},
   "outputs": [
    {
     "name": "stdout",
     "output_type": "stream",
     "text": [
      "[train] F1-score = 0.50 +/- 0.01\n",
      "[valid] F1-score = 0.42 +/- 0.01\n"
     ]
    },
    {
     "data": {
      "image/png": "[encoded data removed]",
      "text/plain": [
       "<Figure size 1080x360 with 1 Axes>"
      ]
     },
     "metadata": {
      "needs_background": "light"
     },
     "output_type": "display_data"
    }
   ],
   "source": [
    "plot_cv_metrics(cv_metrics)"
   ]
  },
  {
   "cell_type": "markdown",
   "id": "8fb8e87f",
   "metadata": {},
   "source": [
    "**Таким образом, не переобученная модель случайного леса показывает значение целевой метрики ниже чем у логистической регресии (0.42 по сравнению с 0.48). При таком результате подбирать оптимальные параметры случайного леса с помощью GridSearchCV или RandomizedSearchCV не имеет особого смысла. Лучше выбрать другую модель.**"
   ]
  },
  {
   "cell_type": "code",
   "execution_count": 100,
   "id": "7ff8d618",
   "metadata": {},
   "outputs": [
    {
     "data": {
      "text/plain": [
       "<AxesSubplot:>"
      ]
     },
     "execution_count": 100,
     "metadata": {},
     "output_type": "execute_result"
    },
    {
     "data": {
      "image/png": "[encoded data removed]",
      "text/plain": [
       "<Figure size 720x720 with 1 Axes>"
      ]
     },
     "metadata": {
      "needs_background": "light"
     },
     "output_type": "display_data"
    }
   ],
   "source": [
    "# Выведем наиболее важные признаки для модели случайного леса (не переобученная модель)\n",
    "columns=['bathrooms','bedrooms','latitude','longitude','price','month','day','day_of_week', 'Elevator',\n",
    "       'Cats Allowed', 'Hardwood Floors', 'Dogs Allowed', 'Doorman',\n",
    "       'Dishwasher', 'No Fee', 'Laundry in Building', 'Fitness Center',\n",
    "       'Pre-War', 'Laundry in Unit', 'Roof Deck', 'Outdoor Space',\n",
    "       'Dining Room', 'High Speed Internet', 'Broadway', 'East 34th Street',\n",
    "       'Wall Street', 'Second Avenue', 'West 37th Street', 'First Avenue',\n",
    "       'West Street', 'John Street', 'Gold Street', 'Washington Street',\n",
    "       'York Avenue', 'Water Street', 'Lexington Avenue', 'East 39th Street',\n",
    "       'Third Avenue','5', '6', '7', '8', '9', '10']\n",
    "plt.rcParams['figure.figsize'] = (10,10)\n",
    "feat_importances = pd.Series(rfc_not_overfit.feature_importances_, index=columns)\n",
    "feat_importances.nlargest(15).plot(kind='barh')"
   ]
  },
  {
   "cell_type": "markdown",
   "id": "17dff65e",
   "metadata": {},
   "source": [
    "**Ada бустинг**"
   ]
  },
  {
   "cell_type": "code",
   "execution_count": 244,
   "id": "868fa466",
   "metadata": {},
   "outputs": [],
   "source": [
    "# Для начала обучим модель с параметрами по умолчанию на обработанных данных\n",
    "abc_treated=AdaBoostClassifier()\n",
    "\n",
    "abc_treated.fit(X_train,y_train)\n",
    "y_pred_test=abc_treated.predict(X_test)\n",
    "y_pred_train=abc_treated.predict(X_train)\n",
    "y_pred_proba_test=abc_treated.predict_proba(X_test)\n",
    "y_pred_proba_train=abc_treated.predict_proba(X_train)"
   ]
  },
  {
   "cell_type": "code",
   "execution_count": 186,
   "id": "e57aa5a2",
   "metadata": {
    "scrolled": true
   },
   "outputs": [
    {
     "name": "stdout",
     "output_type": "stream",
     "text": [
      "[train] f1_score 0.4474, [test] f1_score 0.4427\n",
      "\n",
      "[train] precision_score 0.4315, [test] precision_score 0.4278\n",
      "\n",
      "[train] recall_score 0.5668, [test] recall_score 0.5663\n",
      "\n",
      "[train] accuracy_score 0.7139, [test] accuracy_score 0.7111\n",
      "\n",
      "[train] roc_auc_score 0.7628, [test] roc_auc_score 0.7617\n",
      "\n",
      "[train] confusion_matrix \n",
      " [[26056  7025  1705]\n",
      " [ 1201  1625   883]\n",
      " [  189   291   506]], \n",
      "[test] confusion_matrix \n",
      " [[6484 1790  399]\n",
      " [ 326  423  234]\n",
      " [  28   75  112]]\n",
      "\n"
     ]
    }
   ],
   "source": [
    "# Выведем метрики\n",
    "show_metrics(y_pred_train,y_train,y_pred_test,y_test,y_pred_proba_train,y_pred_proba_test, avg='macro')"
   ]
  },
  {
   "cell_type": "code",
   "execution_count": 245,
   "id": "27cf7f49",
   "metadata": {},
   "outputs": [],
   "source": [
    "# Посчитаем метрики на кросс-валидации\n",
    "cv_metrics = cross_validate(abc_treated, X, y, cv=5, scoring='f1_macro', return_train_score=True)"
   ]
  },
  {
   "cell_type": "code",
   "execution_count": 246,
   "id": "aa01c5a2",
   "metadata": {},
   "outputs": [
    {
     "name": "stdout",
     "output_type": "stream",
     "text": [
      "[train] F1-score = 0.45 +/- 0.00\n",
      "[valid] F1-score = 0.45 +/- 0.01\n"
     ]
    },
    {
     "data": {
      "image/png": "[encoded data removed]",
      "text/plain": [
       "<Figure size 1080x360 with 1 Axes>"
      ]
     },
     "metadata": {
      "needs_background": "light"
     },
     "output_type": "display_data"
    }
   ],
   "source": [
    "plot_cv_metrics(cv_metrics)"
   ]
  },
  {
   "cell_type": "markdown",
   "id": "8f840d5f",
   "metadata": {},
   "source": [
    "**Мы видим, что обработка данных позволила улучшить целевую метрику f1_score_macro с 0.40 до 0.45. Ада-бустинг при этом не переобучается.**\n",
    "\n",
    "**Попробуем подобрать оптимальные параметры модели с помощью RandomizedSearchCV.**"
   ]
  },
  {
   "cell_type": "code",
   "execution_count": 238,
   "id": "b4f63409",
   "metadata": {},
   "outputs": [],
   "source": [
    "# Сетка параметров\n",
    "param_grid = {'learning_rate':[0.00001, 0.0001, 0.001, 0.01, 0.1, 1], \n",
    "              'n_estimators':[100, 250, 500, 750, 1000, 1250, 1500, 1750]}"
   ]
  },
  {
   "cell_type": "code",
   "execution_count": 239,
   "id": "15fc72ad",
   "metadata": {},
   "outputs": [
    {
     "name": "stdout",
     "output_type": "stream",
     "text": [
      "Fitting 3 folds for each of 10 candidates, totalling 30 fits\n",
      "[CV] END ...............learning_rate=0.01, n_estimators=750; total time=  42.8s\n",
      "[CV] END ...............learning_rate=0.01, n_estimators=750; total time=  45.8s\n",
      "[CV] END ...............learning_rate=0.01, n_estimators=750; total time=  44.8s\n",
      "[CV] END ..................learning_rate=1, n_estimators=100; total time=   5.7s\n",
      "[CV] END ..................learning_rate=1, n_estimators=100; total time=   5.6s\n",
      "[CV] END ..................learning_rate=1, n_estimators=100; total time=   5.7s\n",
      "[CV] END ...............learning_rate=0.01, n_estimators=500; total time=  29.8s\n",
      "[CV] END ...............learning_rate=0.01, n_estimators=500; total time=  28.0s\n",
      "[CV] END ...............learning_rate=0.01, n_estimators=500; total time=  28.5s\n",
      "[CV] END ..................learning_rate=1, n_estimators=750; total time=  42.5s\n",
      "[CV] END ..................learning_rate=1, n_estimators=750; total time=  43.7s\n",
      "[CV] END ..................learning_rate=1, n_estimators=750; total time=  43.4s\n",
      "[CV] END ...............learning_rate=0.01, n_estimators=100; total time=   5.3s\n",
      "[CV] END ...............learning_rate=0.01, n_estimators=100; total time=   5.6s\n",
      "[CV] END ...............learning_rate=0.01, n_estimators=100; total time=   5.3s\n",
      "[CV] END ...............learning_rate=0.1, n_estimators=1250; total time= 1.2min\n",
      "[CV] END ...............learning_rate=0.1, n_estimators=1250; total time= 1.2min\n",
      "[CV] END ...............learning_rate=0.1, n_estimators=1250; total time= 1.3min\n",
      "[CV] END ............learning_rate=0.0001, n_estimators=1000; total time=  59.4s\n",
      "[CV] END ............learning_rate=0.0001, n_estimators=1000; total time=  56.5s\n",
      "[CV] END ............learning_rate=0.0001, n_estimators=1000; total time=  58.6s\n",
      "[CV] END ..............learning_rate=0.001, n_estimators=750; total time=  42.1s\n",
      "[CV] END ..............learning_rate=0.001, n_estimators=750; total time=  44.7s\n",
      "[CV] END ..............learning_rate=0.001, n_estimators=750; total time=  41.7s\n",
      "[CV] END .............learning_rate=1e-05, n_estimators=1000; total time=  55.9s\n",
      "[CV] END .............learning_rate=1e-05, n_estimators=1000; total time=  58.6s\n",
      "[CV] END .............learning_rate=1e-05, n_estimators=1000; total time= 1.0min\n",
      "[CV] END ...............learning_rate=0.01, n_estimators=250; total time=  15.7s\n",
      "[CV] END ...............learning_rate=0.01, n_estimators=250; total time=  14.0s\n",
      "[CV] END ...............learning_rate=0.01, n_estimators=250; total time=  13.7s\n",
      "Лучшие параметры:  {'algorithm': 'SAMME.R', 'base_estimator': None, 'learning_rate': 1, 'n_estimators': 750, 'random_state': 42}\n"
     ]
    },
    {
     "ename": "ValueError",
     "evalue": "Empty attribute in format string",
     "output_type": "error",
     "traceback": [
      "\u001b[1;31m---------------------------------------------------------------------------\u001b[0m",
      "\u001b[1;31mValueError\u001b[0m                                Traceback (most recent call last)",
      "\u001b[1;32m<ipython-input-239-0e1a8b5fecba>\u001b[0m in \u001b[0;36m<module>\u001b[1;34m\u001b[0m\n\u001b[0;32m     10\u001b[0m \u001b[1;33m\u001b[0m\u001b[0m\n\u001b[0;32m     11\u001b[0m \u001b[0mbest_score\u001b[0m\u001b[1;33m=\u001b[0m\u001b[0mabc_random\u001b[0m\u001b[1;33m.\u001b[0m\u001b[0mbest_score_\u001b[0m\u001b[1;33m\u001b[0m\u001b[1;33m\u001b[0m\u001b[0m\n\u001b[1;32m---> 12\u001b[1;33m \u001b[0mprint\u001b[0m\u001b[1;33m(\u001b[0m\u001b[1;34m'Лучшее значение метрики: {.:4f}'\u001b[0m\u001b[1;33m.\u001b[0m\u001b[0mformat\u001b[0m\u001b[1;33m(\u001b[0m\u001b[0mbest_score\u001b[0m\u001b[1;33m)\u001b[0m\u001b[1;33m)\u001b[0m\u001b[1;33m\u001b[0m\u001b[1;33m\u001b[0m\u001b[0m\n\u001b[0m",
      "\u001b[1;31mValueError\u001b[0m: Empty attribute in format string"
     ]
    }
   ],
   "source": [
    "# Наша сетка параметров содержит 48 комбинаций. Установим n_iter=10, чтобы случайным образом выбрать 10 комбинаций параметров.\n",
    "abc=AdaBoostClassifier(random_state=42)\n",
    "abc_random = RandomizedSearchCV(estimator=abc, param_distributions=param_grid, n_iter=10, scoring='f1_macro',\n",
    "                                cv=3, verbose=2, random_state=42)\n",
    "abc_random.fit(X_train,y_train)\n",
    "\n",
    "best_model=abc_random.best_estimator_\n",
    "best_parameters=best_model.get_params()\n",
    "print('Лучшие параметры: ',best_parameters)\n",
    "\n",
    "best_score=abc_random.best_score_\n",
    "print('Лучшее значение метрики: {:.4f}'.format(best_score))"
   ]
  },
  {
   "cell_type": "code",
   "execution_count": 247,
   "id": "81ab8e82",
   "metadata": {},
   "outputs": [],
   "source": [
    "# Обучим ада-бустинг с найденными параметрами\n",
    "abc_optimized=AdaBoostClassifier(n_estimators=750, random_state=42)\n",
    "\n",
    "abc_optimized.fit(X_train,y_train)\n",
    "y_pred_test=abc_optimized.predict(X_test)\n",
    "y_pred_train=abc_optimized.predict(X_train)\n",
    "y_pred_proba_test=abc_optimized.predict_proba(X_test)\n",
    "y_pred_proba_train=abc_optimized.predict_proba(X_train)"
   ]
  },
  {
   "cell_type": "code",
   "execution_count": 248,
   "id": "31a21492",
   "metadata": {
    "scrolled": false
   },
   "outputs": [
    {
     "name": "stdout",
     "output_type": "stream",
     "text": [
      "[train] f1_score 0.4985, [test] f1_score 0.4829\n",
      "\n",
      "[train] precision_score 0.4736, [test] precision_score 0.4604\n",
      "\n",
      "[train] recall_score 0.5897, [test] recall_score 0.5802\n",
      "\n",
      "[train] accuracy_score 0.7257, [test] accuracy_score 0.7199\n",
      "\n",
      "[train] roc_auc_score 0.7551, [test] roc_auc_score 0.7377\n",
      "\n",
      "[train] confusion_matrix \n",
      " [[25771  6399  1377]\n",
      " [ 1418  2127   962]\n",
      " [  257   415   755]], \n",
      "[test] confusion_matrix \n",
      " [[6431 1679  332]\n",
      " [ 353  514  252]\n",
      " [  54   95  161]]\n",
      "\n"
     ]
    }
   ],
   "source": [
    "# Выведем метрики\n",
    "show_metrics(y_pred_train,y_train,y_pred_test,y_test,y_pred_proba_train,y_pred_proba_test, avg='macro')"
   ]
  },
  {
   "cell_type": "code",
   "execution_count": 249,
   "id": "9856c88b",
   "metadata": {},
   "outputs": [],
   "source": [
    "# Посчитаем метрики на кросс-валидации\n",
    "cv_metrics = cross_validate(abc_optimized, X, y, cv=5, scoring='f1_macro', return_train_score=True)"
   ]
  },
  {
   "cell_type": "code",
   "execution_count": 250,
   "id": "d2cd17c5",
   "metadata": {
    "scrolled": true
   },
   "outputs": [
    {
     "name": "stdout",
     "output_type": "stream",
     "text": [
      "[train] F1-score = 0.50 +/- 0.01\n",
      "[valid] F1-score = 0.48 +/- 0.01\n"
     ]
    },
    {
     "data": {
      "image/png": "[encoded data removed]",
      "text/plain": [
       "<Figure size 1080x360 with 1 Axes>"
      ]
     },
     "metadata": {
      "needs_background": "light"
     },
     "output_type": "display_data"
    }
   ],
   "source": [
    "plot_cv_metrics(cv_metrics)"
   ]
  },
  {
   "cell_type": "markdown",
   "id": "a3e8f838",
   "metadata": {},
   "source": [
    "**Ада-бустинг с подобранными параметрами дает значение целевой метрики 0.48 (вместо 0.45 у ада-бустинга с параметрами по умолчанию). Переобучения нет.**"
   ]
  },
  {
   "cell_type": "code",
   "execution_count": 296,
   "id": "1a05a6c6",
   "metadata": {},
   "outputs": [
    {
     "data": {
      "text/plain": [
       "<AxesSubplot:>"
      ]
     },
     "execution_count": 296,
     "metadata": {},
     "output_type": "execute_result"
    },
    {
     "data": {
      "image/png": "[encoded data removed]",
      "text/plain": [
       "<Figure size 720x720 with 1 Axes>"
      ]
     },
     "metadata": {
      "needs_background": "light"
     },
     "output_type": "display_data"
    }
   ],
   "source": [
    "# Выведем наиболее важные признаки для модели ада-бустинга (модель с подобранными параметрами)\n",
    "columns=['bathrooms','bedrooms','latitude','longitude','price','month','day','day_of_week', 'Elevator',\n",
    "       'Cats Allowed', 'Hardwood Floors', 'Dogs Allowed', 'Doorman',\n",
    "       'Dishwasher', 'No Fee', 'Laundry in Building', 'Fitness Center',\n",
    "       'Pre-War', 'Laundry in Unit', 'Roof Deck', 'Outdoor Space',\n",
    "       'Dining Room', 'High Speed Internet', 'Broadway', 'East 34th Street',\n",
    "       'Wall Street', 'Second Avenue', 'West 37th Street', 'First Avenue',\n",
    "       'West Street', 'John Street', 'Gold Street', 'Washington Street',\n",
    "       'York Avenue', 'Water Street', 'Lexington Avenue', 'East 39th Street',\n",
    "       'Third Avenue','5', '6', '7', '8', '9', '10']\n",
    "plt.rcParams['figure.figsize'] = (10,10)\n",
    "feat_importances = pd.Series(abc_optimized.feature_importances_, index=columns)\n",
    "feat_importances.nlargest(15).plot(kind='barh')"
   ]
  },
  {
   "cell_type": "markdown",
   "id": "3d2a8462",
   "metadata": {},
   "source": [
    "**Градиентный бустинг**"
   ]
  },
  {
   "cell_type": "code",
   "execution_count": 251,
   "id": "43a280a3",
   "metadata": {},
   "outputs": [],
   "source": [
    "# Для начала используем градиентный бустинг с параметрами по умолчанию на обработанных данных\n",
    "gbc_treated=GradientBoostingClassifier()\n",
    "\n",
    "gbc_treated.fit(X_train,y_train)\n",
    "y_pred_test=gbc_treated.predict(X_test)\n",
    "y_pred_train=gbc_treated.predict(X_train)\n",
    "y_pred_proba_test=gbc_treated.predict_proba(X_test)\n",
    "y_pred_proba_train=gbc_treated.predict_proba(X_train)"
   ]
  },
  {
   "cell_type": "code",
   "execution_count": 252,
   "id": "cb502c05",
   "metadata": {
    "scrolled": true
   },
   "outputs": [
    {
     "name": "stdout",
     "output_type": "stream",
     "text": [
      "[train] f1_score 0.4765, [test] f1_score 0.4482\n",
      "\n",
      "[train] precision_score 0.4514, [test] precision_score 0.4311\n",
      "\n",
      "[train] recall_score 0.6390, [test] recall_score 0.6051\n",
      "\n",
      "[train] accuracy_score 0.7294, [test] accuracy_score 0.7177\n",
      "\n",
      "[train] roc_auc_score 0.8148, [test] roc_auc_score 0.8016\n",
      "\n",
      "[train] confusion_matrix \n",
      " [[26311  6839  1596]\n",
      " [ 1028  1929   942]\n",
      " [  107   173   556]], \n",
      "[test] confusion_matrix \n",
      " [[6545 1810  392]\n",
      " [ 273  428  242]\n",
      " [  20   50  111]]\n",
      "\n"
     ]
    }
   ],
   "source": [
    "# Выведем метрики\n",
    "show_metrics(y_pred_train,y_train,y_pred_test,y_test,y_pred_proba_train,y_pred_proba_test, avg='macro')"
   ]
  },
  {
   "cell_type": "code",
   "execution_count": 253,
   "id": "d2026b6a",
   "metadata": {},
   "outputs": [],
   "source": [
    "# Посчитаем метрики на кросс-валидации\n",
    "cv_metrics = cross_validate(gbc_treated, X, y, cv=5, scoring='f1_macro', return_train_score=True)"
   ]
  },
  {
   "cell_type": "code",
   "execution_count": 254,
   "id": "f0f0aa7a",
   "metadata": {},
   "outputs": [
    {
     "name": "stdout",
     "output_type": "stream",
     "text": [
      "[train] F1-score = 0.47 +/- 0.00\n",
      "[valid] F1-score = 0.46 +/- 0.01\n"
     ]
    },
    {
     "data": {
      "image/png": "[encoded data removed]",
      "text/plain": [
       "<Figure size 1080x360 with 1 Axes>"
      ]
     },
     "metadata": {
      "needs_background": "light"
     },
     "output_type": "display_data"
    }
   ],
   "source": [
    "plot_cv_metrics(cv_metrics)"
   ]
  },
  {
   "cell_type": "markdown",
   "id": "50c2e6c3",
   "metadata": {},
   "source": [
    "**Мы видим, что обработка данных позволила улучшить целевую метрику f1_score_macro с 0.41 до 0.46. Градиентный бустинг при этом не переобучается.**\n",
    "\n",
    "**Попробуем подобрать оптимальные параметры модели с помощью RandomizedSearchCV.**"
   ]
  },
  {
   "cell_type": "code",
   "execution_count": 139,
   "id": "8a23a03e",
   "metadata": {},
   "outputs": [],
   "source": [
    "# Сетка параметров\n",
    "param_grid = {'learning_rate':[0.00001, 0.0001, 0.001, 0.01, 0.1, 1], \n",
    "              'n_estimators':[100, 250, 500, 750, 1000, 1250, 1500, 1750],\n",
    "              'max_depth':[5,6,7,8,9,10,11,12,13,14,15]}"
   ]
  },
  {
   "cell_type": "code",
   "execution_count": 140,
   "id": "e30fa0de",
   "metadata": {
    "scrolled": true
   },
   "outputs": [
    {
     "name": "stdout",
     "output_type": "stream",
     "text": [
      "Fitting 3 folds for each of 10 candidates, totalling 30 fits\n",
      "[CV] END learning_rate=0.0001, max_depth=13, n_estimators=1500; total time=54.3min\n",
      "[CV] END learning_rate=0.0001, max_depth=13, n_estimators=1500; total time=57.9min\n",
      "[CV] END learning_rate=0.0001, max_depth=13, n_estimators=1500; total time=57.7min\n",
      "[CV] END ..learning_rate=0.1, max_depth=10, n_estimators=750; total time=16.5min\n",
      "[CV] END ..learning_rate=0.1, max_depth=10, n_estimators=750; total time=16.3min\n",
      "[CV] END ..learning_rate=0.1, max_depth=10, n_estimators=750; total time=16.1min\n",
      "[CV] END learning_rate=1e-05, max_depth=5, n_estimators=1500; total time=15.5min\n",
      "[CV] END learning_rate=1e-05, max_depth=5, n_estimators=1500; total time=15.3min\n",
      "[CV] END learning_rate=1e-05, max_depth=5, n_estimators=1500; total time=15.3min\n",
      "[CV] END ..learning_rate=0.1, max_depth=13, n_estimators=250; total time= 7.6min\n",
      "[CV] END ..learning_rate=0.1, max_depth=13, n_estimators=250; total time= 7.8min\n",
      "[CV] END ..learning_rate=0.1, max_depth=13, n_estimators=250; total time= 8.1min\n",
      "[CV] END learning_rate=1e-05, max_depth=14, n_estimators=1750; total time=77.9min\n",
      "[CV] END learning_rate=1e-05, max_depth=14, n_estimators=1750; total time=78.0min\n",
      "[CV] END learning_rate=1e-05, max_depth=14, n_estimators=1750; total time=76.7min\n",
      "[CV] END learning_rate=0.001, max_depth=10, n_estimators=1000; total time=21.7min\n",
      "[CV] END learning_rate=0.001, max_depth=10, n_estimators=1000; total time=21.5min\n",
      "[CV] END learning_rate=0.001, max_depth=10, n_estimators=1000; total time=21.6min\n",
      "[CV] END ...learning_rate=1, max_depth=15, n_estimators=1750; total time=49.0min\n",
      "[CV] END ...learning_rate=1, max_depth=15, n_estimators=1750; total time=53.4min\n",
      "[CV] END ...learning_rate=1, max_depth=15, n_estimators=1750; total time=54.1min\n",
      "[CV] END ...learning_rate=1, max_depth=11, n_estimators=1250; total time=27.5min\n",
      "[CV] END ...learning_rate=1, max_depth=11, n_estimators=1250; total time=27.9min\n",
      "[CV] END ...learning_rate=1, max_depth=11, n_estimators=1250; total time=28.3min\n",
      "[CV] END .learning_rate=0.01, max_depth=13, n_estimators=250; total time= 8.8min\n",
      "[CV] END .learning_rate=0.01, max_depth=13, n_estimators=250; total time= 9.0min\n",
      "[CV] END .learning_rate=0.01, max_depth=13, n_estimators=250; total time= 9.0min\n",
      "[CV] END learning_rate=0.0001, max_depth=7, n_estimators=100; total time= 1.4min\n",
      "[CV] END learning_rate=0.0001, max_depth=7, n_estimators=100; total time= 1.4min\n",
      "[CV] END learning_rate=0.0001, max_depth=7, n_estimators=100; total time= 1.4min\n",
      "Лучшие параметры:  {'ccp_alpha': 0.0, 'criterion': 'friedman_mse', 'init': None, 'learning_rate': 0.1, 'loss': 'deviance', 'max_depth': 10, 'max_features': None, 'max_leaf_nodes': None, 'min_impurity_decrease': 0.0, 'min_impurity_split': None, 'min_samples_leaf': 1, 'min_samples_split': 2, 'min_weight_fraction_leaf': 0.0, 'n_estimators': 750, 'n_iter_no_change': None, 'random_state': 42, 'subsample': 1.0, 'tol': 0.0001, 'validation_fraction': 0.1, 'verbose': 0, 'warm_start': False}\n",
      "Лучшее значение метрики: 0.5140\n"
     ]
    }
   ],
   "source": [
    "# Наша сетка параметров содержит 528 комбинаций. Установим n_iter=10, чтобы случайным образом выбрать 10 комбинаций параметров.\n",
    "# Этого объективно мало, но иначе подбор параметров будет длиться слишком долго\n",
    "gbc=GradientBoostingClassifier(random_state=42)\n",
    "gbc_random = RandomizedSearchCV(estimator=gbc, param_distributions=param_grid, n_iter=10, scoring='f1_macro',\n",
    "                                cv=3, verbose=2, random_state=42)\n",
    "gbc_random.fit(X_train,y_train)\n",
    "\n",
    "best_model=gbc_random.best_estimator_\n",
    "best_parameters=best_model.get_params()\n",
    "print('Лучшие параметры: ',best_parameters)\n",
    "\n",
    "best_score=gbc_random.best_score_\n",
    "print('Лучшее значение метрики: {:.4f}'.format(best_score))"
   ]
  },
  {
   "cell_type": "code",
   "execution_count": 255,
   "id": "16b75f0c",
   "metadata": {},
   "outputs": [],
   "source": [
    "# Найдены оптимальные параметры градиентного бустинга.\n",
    "gbc_optimized=GradientBoostingClassifier(learning_rate=0.1, n_estimators=750, max_depth=10)\n",
    "\n",
    "gbc_optimized.fit(X_train,y_train)\n",
    "y_pred_test=gbc_optimized.predict(X_test)\n",
    "y_pred_train=gbc_optimized.predict(X_train)\n",
    "y_pred_proba_test=gbc_optimized.predict_proba(X_test)\n",
    "y_pred_proba_train=gbc_optimized.predict_proba(X_train)"
   ]
  },
  {
   "cell_type": "code",
   "execution_count": 256,
   "id": "789bebbe",
   "metadata": {},
   "outputs": [
    {
     "name": "stdout",
     "output_type": "stream",
     "text": [
      "[train] f1_score 0.9958, [test] f1_score 0.5136\n",
      "\n",
      "[train] precision_score 0.9961, [test] precision_score 0.4947\n",
      "\n",
      "[train] recall_score 0.9955, [test] recall_score 0.5532\n",
      "\n",
      "[train] accuracy_score 0.9972, [test] accuracy_score 0.7153\n",
      "\n",
      "[train] roc_auc_score 1.0000, [test] roc_auc_score 0.7972\n",
      "\n",
      "[train] confusion_matrix \n",
      " [[27414    54     4]\n",
      " [   21  8872     5]\n",
      " [   11    15  3085]], \n",
      "[test] confusion_matrix \n",
      " [[6128 1371  220]\n",
      " [ 631  734  326]\n",
      " [  79  183  199]]\n",
      "\n"
     ]
    }
   ],
   "source": [
    "show_metrics(y_pred_train,y_train,y_pred_test,y_test,y_pred_proba_train,y_pred_proba_test, avg='macro')"
   ]
  },
  {
   "cell_type": "code",
   "execution_count": 297,
   "id": "dc1125c2",
   "metadata": {},
   "outputs": [],
   "source": [
    "# Посчитаем метрики на кросс-валидации\n",
    "cv_metrics = cross_validate(gbc_optimized, X, y, cv=5, scoring='f1_macro', return_train_score=True)"
   ]
  },
  {
   "cell_type": "code",
   "execution_count": 298,
   "id": "1b0ec7b1",
   "metadata": {},
   "outputs": [
    {
     "name": "stdout",
     "output_type": "stream",
     "text": [
      "[train] F1-score = 0.99 +/- 0.00\n",
      "[valid] F1-score = 0.52 +/- 0.01\n"
     ]
    },
    {
     "data": {
      "image/png": "[encoded data removed]",
      "text/plain": [
       "<Figure size 1080x360 with 1 Axes>"
      ]
     },
     "metadata": {
      "needs_background": "light"
     },
     "output_type": "display_data"
    }
   ],
   "source": [
    "plot_cv_metrics(cv_metrics)"
   ]
  },
  {
   "cell_type": "markdown",
   "id": "28ab8717",
   "metadata": {},
   "source": [
    "**Как видно из метрик на кросс-валидации, градиентный бустинг с найденными параметрами очень сильно переобучается. Попробуем вручную побороться с переобучением: вернем максимальную глубину дерева к дефолтному значению 3, добавим subsample=0.5, уменьшим learning_rate.**"
   ]
  },
  {
   "cell_type": "code",
   "execution_count": 257,
   "id": "0f817b79",
   "metadata": {},
   "outputs": [],
   "source": [
    "# Борьба с переобучением\n",
    "gbc_not_overfit=GradientBoostingClassifier(learning_rate=0.05, n_estimators=750, subsample=0.5)\n",
    "\n",
    "gbc_not_overfit.fit(X_train,y_train)\n",
    "y_pred_test=gbc_not_overfit.predict(X_test)\n",
    "y_pred_train=gbc_not_overfit.predict(X_train)\n",
    "y_pred_proba_test=gbc_not_overfit.predict_proba(X_test)\n",
    "y_pred_proba_train=gbc_not_overfit.predict_proba(X_train)"
   ]
  },
  {
   "cell_type": "code",
   "execution_count": 258,
   "id": "b0577177",
   "metadata": {
    "scrolled": true
   },
   "outputs": [
    {
     "name": "stdout",
     "output_type": "stream",
     "text": [
      "[train] f1_score 0.5688, [test] f1_score 0.5041\n",
      "\n",
      "[train] precision_score 0.5275, [test] precision_score 0.4763\n",
      "\n",
      "[train] recall_score 0.6947, [test] recall_score 0.6122\n",
      "\n",
      "[train] accuracy_score 0.7601, [test] accuracy_score 0.7310\n",
      "\n",
      "[train] roc_auc_score 0.8511, [test] roc_auc_score 0.8181\n",
      "\n",
      "[train] confusion_matrix \n",
      " [[26039  5650  1142]\n",
      " [ 1280  3074  1055]\n",
      " [  127   217   897]], \n",
      "[test] confusion_matrix \n",
      " [[6426 1581  277]\n",
      " [ 373  631  309]\n",
      " [  39   76  159]]\n",
      "\n"
     ]
    }
   ],
   "source": [
    "# Выведем метрики\n",
    "show_metrics(y_pred_train,y_train,y_pred_test,y_test,y_pred_proba_train,y_pred_proba_test, avg='macro')"
   ]
  },
  {
   "cell_type": "code",
   "execution_count": 299,
   "id": "e4c353de",
   "metadata": {},
   "outputs": [],
   "source": [
    "# Посчитаем метрики на кросс-валидации\n",
    "cv_metrics = cross_validate(gbc_not_overfit, X, y, cv=5, scoring='f1_macro', return_train_score=True)"
   ]
  },
  {
   "cell_type": "code",
   "execution_count": 300,
   "id": "9610126f",
   "metadata": {},
   "outputs": [
    {
     "name": "stdout",
     "output_type": "stream",
     "text": [
      "[train] F1-score = 0.57 +/- 0.00\n",
      "[valid] F1-score = 0.51 +/- 0.00\n"
     ]
    },
    {
     "data": {
      "image/png": "[encoded data removed]",
      "text/plain": [
       "<Figure size 1080x360 with 1 Axes>"
      ]
     },
     "metadata": {
      "needs_background": "light"
     },
     "output_type": "display_data"
    }
   ],
   "source": [
    "plot_cv_metrics(cv_metrics)"
   ]
  },
  {
   "cell_type": "markdown",
   "id": "d13910d5",
   "metadata": {},
   "source": [
    "**Таким образом, градиентный бустинг показал наилучший результат из всех моделей. Не переобученная модель дает значение целевой метрики f1_score_macro=0.51.**"
   ]
  },
  {
   "cell_type": "code",
   "execution_count": 98,
   "id": "1a8cef65",
   "metadata": {},
   "outputs": [
    {
     "data": {
      "text/plain": [
       "<AxesSubplot:>"
      ]
     },
     "execution_count": 98,
     "metadata": {},
     "output_type": "execute_result"
    },
    {
     "data": {
      "image/png": "[encoded data removed]",
      "text/plain": [
       "<Figure size 720x720 with 1 Axes>"
      ]
     },
     "metadata": {
      "needs_background": "light"
     },
     "output_type": "display_data"
    }
   ],
   "source": [
    "# Выведем наиболее важные признаки для модели градиентного бустинга (модель с параметрами по умолчанию)\n",
    "columns=['bathrooms','bedrooms','latitude','longitude','price','month','day','day_of_week', 'Elevator',\n",
    "       'Cats Allowed', 'Hardwood Floors', 'Dogs Allowed', 'Doorman',\n",
    "       'Dishwasher', 'No Fee', 'Laundry in Building', 'Fitness Center',\n",
    "       'Pre-War', 'Laundry in Unit', 'Roof Deck', 'Outdoor Space',\n",
    "       'Dining Room', 'High Speed Internet', 'Broadway', 'East 34th Street',\n",
    "       'Wall Street', 'Second Avenue', 'West 37th Street', 'First Avenue',\n",
    "       'West Street', 'John Street', 'Gold Street', 'Washington Street',\n",
    "       'York Avenue', 'Water Street', 'Lexington Avenue', 'East 39th Street',\n",
    "       'Third Avenue','5', '6', '7', '8', '9', '10']\n",
    "plt.rcParams['figure.figsize'] = (10,10)\n",
    "feat_importances = pd.Series(gbc_treated.feature_importances_, index=columns)\n",
    "feat_importances.nlargest(15).plot(kind='barh')"
   ]
  },
  {
   "cell_type": "markdown",
   "id": "3da662d7",
   "metadata": {},
   "source": [
    "## Выводы"
   ]
  },
  {
   "cell_type": "markdown",
   "id": "a9bf79b9",
   "metadata": {},
   "source": [
    "**1. Для решения данной задачи были испробованы 4 модели: логистическая регрессия, случайный лес, ада-бустинг и градиентный бустинг. Было показано, что случайный лес плохо подходит для решения данной задачи, т.к. происходит переобучение. При борьбе с переобучением целевая метрика снижается и становится хуже, чем у всех остальных моделей.**"
   ]
  },
  {
   "cell_type": "markdown",
   "id": "f0ccaaf3",
   "metadata": {},
   "source": [
    "**2. Обработка данных значительно улучшает целевую метрику. Наилучшие результаты на обработанных данных были получены для  градиентного бустинга (f1_score_macro=0.51 на кросс-валидации). Сводную таблицу результатов см. в датафрейме ниже.**"
   ]
  },
  {
   "cell_type": "code",
   "execution_count": 301,
   "id": "caa79f43",
   "metadata": {},
   "outputs": [
    {
     "data": {
      "text/html": [
       "<div>\n",
       "<style scoped>\n",
       "    .dataframe tbody tr th:only-of-type {\n",
       "        vertical-align: middle;\n",
       "    }\n",
       "\n",
       "    .dataframe tbody tr th {\n",
       "        vertical-align: top;\n",
       "    }\n",
       "\n",
       "    .dataframe thead th {\n",
       "        text-align: right;\n",
       "    }\n",
       "</style>\n",
       "<table border=\"1\" class=\"dataframe\">\n",
       "  <thead>\n",
       "    <tr style=\"text-align: right;\">\n",
       "      <th></th>\n",
       "      <th>f1_score_macro</th>\n",
       "    </tr>\n",
       "  </thead>\n",
       "  <tbody>\n",
       "    <tr>\n",
       "      <th>LogisticRegression</th>\n",
       "      <td>0.48</td>\n",
       "    </tr>\n",
       "    <tr>\n",
       "      <th>RandomForestClassifier</th>\n",
       "      <td>0.42</td>\n",
       "    </tr>\n",
       "    <tr>\n",
       "      <th>AdaBoost</th>\n",
       "      <td>0.48</td>\n",
       "    </tr>\n",
       "    <tr>\n",
       "      <th>GradientBoosing</th>\n",
       "      <td>0.51</td>\n",
       "    </tr>\n",
       "  </tbody>\n",
       "</table>\n",
       "</div>"
      ],
      "text/plain": [
       "                        f1_score_macro\n",
       "LogisticRegression                0.48\n",
       "RandomForestClassifier            0.42\n",
       "AdaBoost                          0.48\n",
       "GradientBoosing                   0.51"
      ]
     },
     "execution_count": 301,
     "metadata": {},
     "output_type": "execute_result"
    }
   ],
   "source": [
    "# f1_score_weighted=[0.5372,0.8083,0.7654,0.7760]\n",
    "f1_score_macro=[0.48,0.42,0.48,0.51]\n",
    "metrics_baseline={'f1_score_macro':f1_score_macro}\n",
    "pd.DataFrame(metrics_baseline, index=['LogisticRegression','RandomForestClassifier','AdaBoost','GradientBoosing'])"
   ]
  },
  {
   "cell_type": "markdown",
   "id": "ff7eaefa",
   "metadata": {},
   "source": [
    "**3. Обработка данных включает в себя удаление ошибок в данных и feature engineering. В ходе feature engineering были получены 39 дополнительных признаков (включая dummy-признаки и полиномиальные признаки).**"
   ]
  },
  {
   "cell_type": "markdown",
   "id": "e55638f9",
   "metadata": {},
   "source": [
    "**4. Применение метода главных компонент к сильно скоррелированным признакам по-разному влияет на модели. Логистическая регрессия и ада-бустинг реагируют ухудшением метрики. Для градиентного бустинга и случайного леса наблюдается незначительное повышение метрики. Логистическая регрессия также плохо реагирует на простое удаление одного из сильно скоррелированных признаков.**"
   ]
  },
  {
   "cell_type": "markdown",
   "id": "b6b0b316",
   "metadata": {},
   "source": [
    "**5. Добавление полиномиальных признаков по-разному сказывается на разных моделях. Для логистической регрессиии метрика увеличивается. Для ада-бустинга метрика тоже увеличивается, но не так значительно. Для градиентного бустинга метрика ухудшается. Для случайного леса метрика увеличивается.**"
   ]
  },
  {
   "cell_type": "markdown",
   "id": "53c5aa22",
   "metadata": {},
   "source": [
    "**6. После проведения всех расчетов градиентный бустинг дает самое высокое значение метрики f1_score_macro на кросс-валидации, но при этом сильно переобучается. С переобучением удается справиться путем ограничения глубины дерева, уменьшения learning_rate и задания subsample=0.5. Итоговая метрика (при не переобученном градиентном бустинге) равна 0.51.**"
   ]
  },
  {
   "cell_type": "code",
   "execution_count": null,
   "id": "f1a9fb33",
   "metadata": {},
   "outputs": [],
   "source": []
  }
 ],
 "metadata": {
  "kernelspec": {
   "display_name": "Python 3",
   "language": "python",
   "name": "python3"
  },
  "language_info": {
   "codemirror_mode": {
    "name": "ipython",
    "version": 3
   },
   "file_extension": ".py",
   "mimetype": "text/x-python",
   "name": "python",
   "nbconvert_exporter": "python",
   "pygments_lexer": "ipython3",
   "version": "3.8.8"
  }
 },
 "nbformat": 4,
 "nbformat_minor": 5
}
