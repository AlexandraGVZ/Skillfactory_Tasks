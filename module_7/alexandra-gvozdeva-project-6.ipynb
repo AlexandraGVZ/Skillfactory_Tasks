{
 "cells": [
  {
   "cell_type": "markdown",
   "metadata": {
    "papermill": {
     "duration": 0.074614,
     "end_time": "2022-02-20T13:46:36.465149",
     "exception": false,
     "start_time": "2022-02-20T13:46:36.390535",
     "status": "completed"
    },
    "tags": []
   },
   "source": [
    "<img src=\"https://whatcar.vn/media/2018/09/car-lot-940x470.jpg\"/>\n",
    "\n",
    "## Прогнозирование стоимости автомобиля по характеристикам\n",
    "*Этот Ноутбук является Примером/Шаблоном (Baseline) к этому соревнованию и не служит готовым решением!*   \n",
    "Вы можете использовать его как основу для построения своего решения.\n",
    "\n",
    "\n",
    "> **baseline** создается больше как шаблон, где можно посмотреть как происходит обращение с входящими данными и что нужно получить на выходе. При этом МЛ начинка может быть достаточно простой. Это помогает быстрее приступить к самому МЛ, а не тратить ценное время на чисто инженерные задачи. \n",
    "Также baseline является хорошей опорной точкой по метрике. Если твое решение хуже baseline - ты явно делаешь что-то не то и стоит попробовать другой путь) "
   ]
  },
  {
   "cell_type": "markdown",
   "metadata": {
    "papermill": {
     "duration": 0.071236,
     "end_time": "2022-02-20T13:46:36.608056",
     "exception": false,
     "start_time": "2022-02-20T13:46:36.536820",
     "status": "completed"
    },
    "tags": []
   },
   "source": [
    "Помним, что по условию соревнования, нам нужно самостоятельно собрать обучающий датасет. В этом ноутбуке мы не будем рассматривать сбор данных. Предположим, что мы уже все собрали и просто подключили свой датасет через \"Add Data\", чтобы приступить к самому ML."
   ]
  },
  {
   "cell_type": "code",
   "execution_count": 95,
   "metadata": {
    "_cell_guid": "b1076dfc-b9ad-4769-8c92-a6c4dae69d19",
    "_uuid": "8f2839f25d086af736a60e9eeb907d3b93b6e0e5",
    "execution": {
     "iopub.execute_input": "2022-02-20T13:46:36.755642Z",
     "iopub.status.busy": "2022-02-20T13:46:36.754972Z",
     "iopub.status.idle": "2022-02-20T13:46:38.069156Z",
     "shell.execute_reply": "2022-02-20T13:46:38.068552Z",
     "shell.execute_reply.started": "2022-02-20T13:41:41.571908Z"
    },
    "papermill": {
     "duration": 1.388521,
     "end_time": "2022-02-20T13:46:38.069309",
     "exception": false,
     "start_time": "2022-02-20T13:46:36.680788",
     "status": "completed"
    },
    "tags": []
   },
   "outputs": [],
   "source": [
    "import numpy as np # linear algebra\n",
    "import pandas as pd # data processing, CSV file I/O (e.g. pd.read_csv)\n",
    "import sys\n",
    "from sklearn.model_selection import train_test_split\n",
    "from sklearn.model_selection import KFold\n",
    "from tqdm.notebook import tqdm\n",
    "from catboost import CatBoostRegressor\n",
    "from sklearn.preprocessing import LabelEncoder\n",
    "import matplotlib.pyplot as plt\n",
    "import seaborn as sns\n",
    "from collections import Counter\n",
    "import random\n",
    "from sklearn.preprocessing import RobustScaler\n",
    "from sklearn.preprocessing import OneHotEncoder\n",
    "from sklearn.ensemble import GradientBoostingRegressor\n",
    "from selenium import webdriver\n",
    "from selenium.webdriver.chrome.service import Service\n",
    "import requests\n",
    "from bs4 import BeautifulSoup\n",
    "from sklearn.ensemble import RandomForestRegressor\n",
    "from sklearn.model_selection import RandomizedSearchCV"
   ]
  },
  {
   "cell_type": "code",
   "execution_count": 2,
   "metadata": {
    "execution": {
     "iopub.execute_input": "2022-02-20T13:46:38.218280Z",
     "iopub.status.busy": "2022-02-20T13:46:38.217639Z",
     "iopub.status.idle": "2022-02-20T13:46:38.219668Z",
     "shell.execute_reply": "2022-02-20T13:46:38.220267Z",
     "shell.execute_reply.started": "2022-02-20T13:41:02.288077Z"
    },
    "papermill": {
     "duration": 0.07888,
     "end_time": "2022-02-20T13:46:38.220429",
     "exception": false,
     "start_time": "2022-02-20T13:46:38.141549",
     "status": "completed"
    },
    "tags": []
   },
   "outputs": [],
   "source": [
    "# !pip install selenium"
   ]
  },
  {
   "cell_type": "code",
   "execution_count": 3,
   "metadata": {
    "_kg_hide-input": true,
    "execution": {
     "iopub.execute_input": "2022-02-20T13:46:38.371197Z",
     "iopub.status.busy": "2022-02-20T13:46:38.370513Z",
     "iopub.status.idle": "2022-02-20T13:46:38.373562Z",
     "shell.execute_reply": "2022-02-20T13:46:38.374260Z",
     "shell.execute_reply.started": "2022-02-14T13:42:31.216856Z"
    },
    "papermill": {
     "duration": 0.082444,
     "end_time": "2022-02-20T13:46:38.374493",
     "exception": false,
     "start_time": "2022-02-20T13:46:38.292049",
     "status": "completed"
    },
    "tags": []
   },
   "outputs": [
    {
     "name": "stdout",
     "output_type": "stream",
     "text": [
      "Python       : 3.8.8 (default, Apr 13 2021, 15:08:03) [MSC v.1916 64 bit (AMD64)]\n",
      "Numpy        : 1.20.1\n"
     ]
    }
   ],
   "source": [
    "print('Python       :', sys.version.split('\\n')[0])\n",
    "print('Numpy        :', np.__version__)"
   ]
  },
  {
   "cell_type": "code",
   "execution_count": 4,
   "metadata": {
    "_kg_hide-input": true,
    "execution": {
     "iopub.execute_input": "2022-02-20T13:46:38.524667Z",
     "iopub.status.busy": "2022-02-20T13:46:38.523981Z",
     "iopub.status.idle": "2022-02-20T13:46:41.487688Z",
     "shell.execute_reply": "2022-02-20T13:46:41.486873Z",
     "shell.execute_reply.started": "2022-02-14T13:42:34.212594Z"
    },
    "papermill": {
     "duration": 3.0392,
     "end_time": "2022-02-20T13:46:41.487824",
     "exception": false,
     "start_time": "2022-02-20T13:46:38.448624",
     "status": "completed"
    },
    "tags": []
   },
   "outputs": [],
   "source": [
    "# зафиксируем версию пакетов, чтобы эксперименты были воспроизводимы:\n",
    "!pip freeze > requirements.txt"
   ]
  },
  {
   "cell_type": "code",
   "execution_count": 84,
   "metadata": {},
   "outputs": [],
   "source": [
    "VAL_SIZE=0.2"
   ]
  },
  {
   "cell_type": "code",
   "execution_count": 4,
   "metadata": {
    "execution": {
     "iopub.execute_input": "2022-02-20T13:46:41.639470Z",
     "iopub.status.busy": "2022-02-20T13:46:41.638632Z",
     "iopub.status.idle": "2022-02-20T13:46:41.641662Z",
     "shell.execute_reply": "2022-02-20T13:46:41.640943Z",
     "shell.execute_reply.started": "2022-02-20T13:11:08.221712Z"
    },
    "papermill": {
     "duration": 0.080549,
     "end_time": "2022-02-20T13:46:41.641786",
     "exception": false,
     "start_time": "2022-02-20T13:46:41.561237",
     "status": "completed"
    },
    "tags": []
   },
   "outputs": [],
   "source": [
    "# всегда фиксируйте RANDOM_SEED, чтобы ваши эксперименты были воспроизводимы!\n",
    "RANDOM_SEED = 42"
   ]
  },
  {
   "cell_type": "code",
   "execution_count": 5,
   "metadata": {
    "_kg_hide-input": true,
    "execution": {
     "iopub.execute_input": "2022-02-20T13:46:41.795613Z",
     "iopub.status.busy": "2022-02-20T13:46:41.794605Z",
     "iopub.status.idle": "2022-02-20T13:46:41.800814Z",
     "shell.execute_reply": "2022-02-20T13:46:41.801402Z",
     "shell.execute_reply.started": "2022-02-20T13:11:10.935872Z"
    },
    "papermill": {
     "duration": 0.087823,
     "end_time": "2022-02-20T13:46:41.801571",
     "exception": false,
     "start_time": "2022-02-20T13:46:41.713748",
     "status": "completed"
    },
    "tags": []
   },
   "outputs": [],
   "source": [
    "def mape(y_true, y_pred):\n",
    "    return np.mean(np.abs((y_pred-y_true)/y_true))"
   ]
  },
  {
   "cell_type": "markdown",
   "metadata": {
    "papermill": {
     "duration": 0.072134,
     "end_time": "2022-02-20T13:46:42.259876",
     "exception": false,
     "start_time": "2022-02-20T13:46:42.187742",
     "status": "completed"
    },
    "tags": []
   },
   "source": [
    "# Импортируем данные"
   ]
  },
  {
   "cell_type": "code",
   "execution_count": 6,
   "metadata": {
    "_cell_guid": "79c7e3d0-c299-4dcb-8224-4455121ee9b0",
    "_uuid": "d629ff2d2480ee46fbb7e2d37f6b5fab8052498a",
    "execution": {
     "iopub.execute_input": "2022-02-20T13:46:43.306168Z",
     "iopub.status.busy": "2022-02-20T13:46:43.305453Z",
     "iopub.status.idle": "2022-02-20T13:46:51.471997Z",
     "shell.execute_reply": "2022-02-20T13:46:51.471208Z",
     "shell.execute_reply.started": "2022-02-20T13:11:18.980846Z"
    },
    "papermill": {
     "duration": 8.243733,
     "end_time": "2022-02-20T13:46:51.472124",
     "exception": false,
     "start_time": "2022-02-20T13:46:43.228391",
     "status": "completed"
    },
    "tags": []
   },
   "outputs": [],
   "source": [
    "train = pd.read_csv('all_auto_ru_09_09_2020.csv') # датасет для обучения модели\n",
    "test = pd.read_csv('test.csv')\n",
    "sample_submission = pd.read_csv('sample_submission.csv')"
   ]
  },
  {
   "cell_type": "code",
   "execution_count": 7,
   "metadata": {
    "execution": {
     "iopub.execute_input": "2022-02-20T13:46:51.640739Z",
     "iopub.status.busy": "2022-02-20T13:46:51.639377Z",
     "iopub.status.idle": "2022-02-20T13:46:51.669495Z",
     "shell.execute_reply": "2022-02-20T13:46:51.668788Z",
     "shell.execute_reply.started": "2022-02-14T13:43:07.093631Z"
    },
    "papermill": {
     "duration": 0.124449,
     "end_time": "2022-02-20T13:46:51.669618",
     "exception": false,
     "start_time": "2022-02-20T13:46:51.545169",
     "status": "completed"
    },
    "tags": []
   },
   "outputs": [
    {
     "data": {
      "text/html": [
       "<div>\n",
       "<style scoped>\n",
       "    .dataframe tbody tr th:only-of-type {\n",
       "        vertical-align: middle;\n",
       "    }\n",
       "\n",
       "    .dataframe tbody tr th {\n",
       "        vertical-align: top;\n",
       "    }\n",
       "\n",
       "    .dataframe thead th {\n",
       "        text-align: right;\n",
       "    }\n",
       "</style>\n",
       "<table border=\"1\" class=\"dataframe\">\n",
       "  <thead>\n",
       "    <tr style=\"text-align: right;\">\n",
       "      <th></th>\n",
       "      <th>bodyType</th>\n",
       "      <th>brand</th>\n",
       "      <th>color</th>\n",
       "      <th>fuelType</th>\n",
       "      <th>modelDate</th>\n",
       "      <th>name</th>\n",
       "      <th>numberOfDoors</th>\n",
       "      <th>productionDate</th>\n",
       "      <th>vehicleConfiguration</th>\n",
       "      <th>vehicleTransmission</th>\n",
       "      <th>...</th>\n",
       "      <th>Руль</th>\n",
       "      <th>Состояние</th>\n",
       "      <th>Владельцы</th>\n",
       "      <th>ПТС</th>\n",
       "      <th>Таможня</th>\n",
       "      <th>Владение</th>\n",
       "      <th>price</th>\n",
       "      <th>start_date</th>\n",
       "      <th>hidden</th>\n",
       "      <th>model</th>\n",
       "    </tr>\n",
       "  </thead>\n",
       "  <tbody>\n",
       "    <tr>\n",
       "      <th>0</th>\n",
       "      <td>Седан</td>\n",
       "      <td>AUDI</td>\n",
       "      <td>040001</td>\n",
       "      <td>бензин</td>\n",
       "      <td>1990.0</td>\n",
       "      <td>2.8 MT (174 л.с.) 4WD</td>\n",
       "      <td>4.0</td>\n",
       "      <td>1991</td>\n",
       "      <td>SEDAN MECHANICAL 2.8</td>\n",
       "      <td>MECHANICAL</td>\n",
       "      <td>...</td>\n",
       "      <td>LEFT</td>\n",
       "      <td>NaN</td>\n",
       "      <td>3.0</td>\n",
       "      <td>ORIGINAL</td>\n",
       "      <td>True</td>\n",
       "      <td>NaN</td>\n",
       "      <td>200000.0</td>\n",
       "      <td>2019-10-03T08:09:11Z</td>\n",
       "      <td>NaN</td>\n",
       "      <td>100</td>\n",
       "    </tr>\n",
       "    <tr>\n",
       "      <th>1</th>\n",
       "      <td>Седан</td>\n",
       "      <td>AUDI</td>\n",
       "      <td>EE1D19</td>\n",
       "      <td>бензин</td>\n",
       "      <td>1982.0</td>\n",
       "      <td>1.8 MT (90 л.с.)</td>\n",
       "      <td>4.0</td>\n",
       "      <td>1986</td>\n",
       "      <td>SEDAN MECHANICAL 1.8</td>\n",
       "      <td>MECHANICAL</td>\n",
       "      <td>...</td>\n",
       "      <td>LEFT</td>\n",
       "      <td>NaN</td>\n",
       "      <td>3.0</td>\n",
       "      <td>ORIGINAL</td>\n",
       "      <td>True</td>\n",
       "      <td>NaN</td>\n",
       "      <td>60000.0</td>\n",
       "      <td>2020-09-06T06:49:40Z</td>\n",
       "      <td>NaN</td>\n",
       "      <td>100</td>\n",
       "    </tr>\n",
       "    <tr>\n",
       "      <th>2</th>\n",
       "      <td>Универсал 5 дв.</td>\n",
       "      <td>AUDI</td>\n",
       "      <td>0000CC</td>\n",
       "      <td>бензин</td>\n",
       "      <td>1988.0</td>\n",
       "      <td>2.3 MT (136 л.с.) 4WD</td>\n",
       "      <td>5.0</td>\n",
       "      <td>1989</td>\n",
       "      <td>WAGON_5_DOORS MECHANICAL 2.3</td>\n",
       "      <td>MECHANICAL</td>\n",
       "      <td>...</td>\n",
       "      <td>LEFT</td>\n",
       "      <td>NaN</td>\n",
       "      <td>3.0</td>\n",
       "      <td>ORIGINAL</td>\n",
       "      <td>True</td>\n",
       "      <td>NaN</td>\n",
       "      <td>99000.0</td>\n",
       "      <td>2020-09-02T14:04:21Z</td>\n",
       "      <td>NaN</td>\n",
       "      <td>100</td>\n",
       "    </tr>\n",
       "    <tr>\n",
       "      <th>3</th>\n",
       "      <td>Седан</td>\n",
       "      <td>AUDI</td>\n",
       "      <td>CACECB</td>\n",
       "      <td>бензин</td>\n",
       "      <td>1988.0</td>\n",
       "      <td>1.8 MT (90 л.с.)</td>\n",
       "      <td>4.0</td>\n",
       "      <td>1989</td>\n",
       "      <td>SEDAN MECHANICAL 1.8</td>\n",
       "      <td>MECHANICAL</td>\n",
       "      <td>...</td>\n",
       "      <td>LEFT</td>\n",
       "      <td>NaN</td>\n",
       "      <td>3.0</td>\n",
       "      <td>ORIGINAL</td>\n",
       "      <td>True</td>\n",
       "      <td>NaN</td>\n",
       "      <td>65000.0</td>\n",
       "      <td>2020-08-23T17:40:09Z</td>\n",
       "      <td>NaN</td>\n",
       "      <td>100</td>\n",
       "    </tr>\n",
       "    <tr>\n",
       "      <th>4</th>\n",
       "      <td>Седан</td>\n",
       "      <td>AUDI</td>\n",
       "      <td>040001</td>\n",
       "      <td>бензин</td>\n",
       "      <td>1990.0</td>\n",
       "      <td>2.0 MT (101 л.с.)</td>\n",
       "      <td>4.0</td>\n",
       "      <td>1991</td>\n",
       "      <td>SEDAN MECHANICAL 2.0</td>\n",
       "      <td>MECHANICAL</td>\n",
       "      <td>...</td>\n",
       "      <td>LEFT</td>\n",
       "      <td>NaN</td>\n",
       "      <td>3.0</td>\n",
       "      <td>DUPLICATE</td>\n",
       "      <td>True</td>\n",
       "      <td>NaN</td>\n",
       "      <td>100000.0</td>\n",
       "      <td>2020-09-08T09:22:07Z</td>\n",
       "      <td>NaN</td>\n",
       "      <td>100</td>\n",
       "    </tr>\n",
       "  </tbody>\n",
       "</table>\n",
       "<p>5 rows × 26 columns</p>\n",
       "</div>"
      ],
      "text/plain": [
       "          bodyType brand   color fuelType  modelDate                   name  \\\n",
       "0            Седан  AUDI  040001   бензин     1990.0  2.8 MT (174 л.с.) 4WD   \n",
       "1            Седан  AUDI  EE1D19   бензин     1982.0       1.8 MT (90 л.с.)   \n",
       "2  Универсал 5 дв.  AUDI  0000CC   бензин     1988.0  2.3 MT (136 л.с.) 4WD   \n",
       "3            Седан  AUDI  CACECB   бензин     1988.0       1.8 MT (90 л.с.)   \n",
       "4            Седан  AUDI  040001   бензин     1990.0      2.0 MT (101 л.с.)   \n",
       "\n",
       "   numberOfDoors  productionDate          vehicleConfiguration  \\\n",
       "0            4.0            1991          SEDAN MECHANICAL 2.8   \n",
       "1            4.0            1986          SEDAN MECHANICAL 1.8   \n",
       "2            5.0            1989  WAGON_5_DOORS MECHANICAL 2.3   \n",
       "3            4.0            1989          SEDAN MECHANICAL 1.8   \n",
       "4            4.0            1991          SEDAN MECHANICAL 2.0   \n",
       "\n",
       "  vehicleTransmission  ...  Руль  Состояние Владельцы        ПТС Таможня  \\\n",
       "0          MECHANICAL  ...  LEFT        NaN       3.0   ORIGINAL    True   \n",
       "1          MECHANICAL  ...  LEFT        NaN       3.0   ORIGINAL    True   \n",
       "2          MECHANICAL  ...  LEFT        NaN       3.0   ORIGINAL    True   \n",
       "3          MECHANICAL  ...  LEFT        NaN       3.0   ORIGINAL    True   \n",
       "4          MECHANICAL  ...  LEFT        NaN       3.0  DUPLICATE    True   \n",
       "\n",
       "  Владение     price            start_date  hidden model  \n",
       "0      NaN  200000.0  2019-10-03T08:09:11Z     NaN   100  \n",
       "1      NaN   60000.0  2020-09-06T06:49:40Z     NaN   100  \n",
       "2      NaN   99000.0  2020-09-02T14:04:21Z     NaN   100  \n",
       "3      NaN   65000.0  2020-08-23T17:40:09Z     NaN   100  \n",
       "4      NaN  100000.0  2020-09-08T09:22:07Z     NaN   100  \n",
       "\n",
       "[5 rows x 26 columns]"
      ]
     },
     "execution_count": 7,
     "metadata": {},
     "output_type": "execute_result"
    }
   ],
   "source": [
    "train.head(5)"
   ]
  },
  {
   "cell_type": "code",
   "execution_count": 8,
   "metadata": {
    "execution": {
     "iopub.execute_input": "2022-02-20T13:46:51.825897Z",
     "iopub.status.busy": "2022-02-20T13:46:51.824346Z",
     "iopub.status.idle": "2022-02-20T13:46:51.996440Z",
     "shell.execute_reply": "2022-02-20T13:46:51.996936Z",
     "shell.execute_reply.started": "2022-02-14T13:43:10.984660Z"
    },
    "papermill": {
     "duration": 0.254321,
     "end_time": "2022-02-20T13:46:51.997088",
     "exception": false,
     "start_time": "2022-02-20T13:46:51.742767",
     "status": "completed"
    },
    "tags": []
   },
   "outputs": [
    {
     "name": "stdout",
     "output_type": "stream",
     "text": [
      "<class 'pandas.core.frame.DataFrame'>\n",
      "RangeIndex: 89378 entries, 0 to 89377\n",
      "Data columns (total 26 columns):\n",
      " #   Column                Non-Null Count  Dtype  \n",
      "---  ------                --------------  -----  \n",
      " 0   bodyType              89377 non-null  object \n",
      " 1   brand                 89378 non-null  object \n",
      " 2   color                 89378 non-null  object \n",
      " 3   fuelType              89378 non-null  object \n",
      " 4   modelDate             89377 non-null  float64\n",
      " 5   name                  89377 non-null  object \n",
      " 6   numberOfDoors         89377 non-null  float64\n",
      " 7   productionDate        89378 non-null  int64  \n",
      " 8   vehicleConfiguration  89377 non-null  object \n",
      " 9   vehicleTransmission   89377 non-null  object \n",
      " 10  engineDisplacement    89377 non-null  object \n",
      " 11  enginePower           89377 non-null  float64\n",
      " 12  description           86124 non-null  object \n",
      " 13  mileage               89378 non-null  int64  \n",
      " 14  Комплектация          89378 non-null  object \n",
      " 15  Привод                89377 non-null  object \n",
      " 16  Руль                  89378 non-null  object \n",
      " 17  Состояние             0 non-null      float64\n",
      " 18  Владельцы             75790 non-null  float64\n",
      " 19  ПТС                   89017 non-null  object \n",
      " 20  Таможня               89378 non-null  bool   \n",
      " 21  Владение              29201 non-null  object \n",
      " 22  price                 88968 non-null  float64\n",
      " 23  start_date            89378 non-null  object \n",
      " 24  hidden                0 non-null      float64\n",
      " 25  model                 89378 non-null  object \n",
      "dtypes: bool(1), float64(7), int64(2), object(16)\n",
      "memory usage: 17.1+ MB\n"
     ]
    }
   ],
   "source": [
    "train.info()"
   ]
  },
  {
   "cell_type": "code",
   "execution_count": 9,
   "metadata": {
    "execution": {
     "iopub.execute_input": "2022-02-20T13:46:52.158810Z",
     "iopub.status.busy": "2022-02-20T13:46:52.158074Z",
     "iopub.status.idle": "2022-02-20T13:46:52.161260Z",
     "shell.execute_reply": "2022-02-20T13:46:52.160743Z",
     "shell.execute_reply.started": "2022-02-20T13:11:37.893198Z"
    },
    "papermill": {
     "duration": 0.090597,
     "end_time": "2022-02-20T13:46:52.161408",
     "exception": false,
     "start_time": "2022-02-20T13:46:52.070811",
     "status": "completed"
    },
    "tags": []
   },
   "outputs": [],
   "source": [
    "# Переименуем колонки для удобства\n",
    "train.rename(columns={'bodyType':'body_type','fuelType':'fuel_type','modelDate':'model_date',\n",
    "                     'numberOfDoors':'number_of_doors','productionDate':'production_date',\n",
    "                     'vehicleConfiguration':'vehicle_configuration','vehicleTransmission':'vehicle_transmission',\n",
    "                     'engineDisplacement':'engine_displacement','enginePower':'engine_power',\n",
    "                     'Комплектация':'features','Привод':'drive','Руль':'steering_wheel','Состояние':'condition',\n",
    "                     'Владельцы':'owners','ПТС':'car_passport','Таможня':'customs','Владение':'ownership','model':'model_name'},\n",
    "            inplace=True)"
   ]
  },
  {
   "cell_type": "code",
   "execution_count": null,
   "metadata": {
    "papermill": {
     "duration": 0.073457,
     "end_time": "2022-02-20T13:46:52.308725",
     "exception": false,
     "start_time": "2022-02-20T13:46:52.235268",
     "status": "completed"
    },
    "tags": []
   },
   "outputs": [],
   "source": []
  },
  {
   "cell_type": "code",
   "execution_count": 10,
   "metadata": {
    "execution": {
     "iopub.execute_input": "2022-02-20T13:46:52.486358Z",
     "iopub.status.busy": "2022-02-20T13:46:52.485619Z",
     "iopub.status.idle": "2022-02-20T13:46:52.490516Z",
     "shell.execute_reply": "2022-02-20T13:46:52.489984Z",
     "shell.execute_reply.started": "2022-02-14T13:43:19.529603Z"
    },
    "papermill": {
     "duration": 0.107781,
     "end_time": "2022-02-20T13:46:52.490650",
     "exception": false,
     "start_time": "2022-02-20T13:46:52.382869",
     "status": "completed"
    },
    "scrolled": true,
    "tags": []
   },
   "outputs": [
    {
     "data": {
      "text/html": [
       "<div>\n",
       "<style scoped>\n",
       "    .dataframe tbody tr th:only-of-type {\n",
       "        vertical-align: middle;\n",
       "    }\n",
       "\n",
       "    .dataframe tbody tr th {\n",
       "        vertical-align: top;\n",
       "    }\n",
       "\n",
       "    .dataframe thead th {\n",
       "        text-align: right;\n",
       "    }\n",
       "</style>\n",
       "<table border=\"1\" class=\"dataframe\">\n",
       "  <thead>\n",
       "    <tr style=\"text-align: right;\">\n",
       "      <th></th>\n",
       "      <th>bodyType</th>\n",
       "      <th>brand</th>\n",
       "      <th>car_url</th>\n",
       "      <th>color</th>\n",
       "      <th>complectation_dict</th>\n",
       "      <th>description</th>\n",
       "      <th>engineDisplacement</th>\n",
       "      <th>enginePower</th>\n",
       "      <th>equipment_dict</th>\n",
       "      <th>fuelType</th>\n",
       "      <th>...</th>\n",
       "      <th>vehicleConfiguration</th>\n",
       "      <th>vehicleTransmission</th>\n",
       "      <th>vendor</th>\n",
       "      <th>Владельцы</th>\n",
       "      <th>Владение</th>\n",
       "      <th>ПТС</th>\n",
       "      <th>Привод</th>\n",
       "      <th>Руль</th>\n",
       "      <th>Состояние</th>\n",
       "      <th>Таможня</th>\n",
       "    </tr>\n",
       "  </thead>\n",
       "  <tbody>\n",
       "    <tr>\n",
       "      <th>0</th>\n",
       "      <td>лифтбек</td>\n",
       "      <td>SKODA</td>\n",
       "      <td>https://auto.ru/cars/used/sale/skoda/octavia/1...</td>\n",
       "      <td>синий</td>\n",
       "      <td>NaN</td>\n",
       "      <td>Все автомобили, представленные в продаже, прох...</td>\n",
       "      <td>1.2 LTR</td>\n",
       "      <td>105 N12</td>\n",
       "      <td>{\"engine-proof\":true,\"tinted-glass\":true,\"airb...</td>\n",
       "      <td>бензин</td>\n",
       "      <td>...</td>\n",
       "      <td>LIFTBACK ROBOT 1.2</td>\n",
       "      <td>роботизированная</td>\n",
       "      <td>EUROPEAN</td>\n",
       "      <td>3 или более</td>\n",
       "      <td>NaN</td>\n",
       "      <td>Оригинал</td>\n",
       "      <td>передний</td>\n",
       "      <td>Левый</td>\n",
       "      <td>Не требует ремонта</td>\n",
       "      <td>Растаможен</td>\n",
       "    </tr>\n",
       "    <tr>\n",
       "      <th>1</th>\n",
       "      <td>лифтбек</td>\n",
       "      <td>SKODA</td>\n",
       "      <td>https://auto.ru/cars/used/sale/skoda/octavia/1...</td>\n",
       "      <td>чёрный</td>\n",
       "      <td>NaN</td>\n",
       "      <td>ЛОТ: 01217195\\nАвтопрага Север\\nДанный автомоб...</td>\n",
       "      <td>1.6 LTR</td>\n",
       "      <td>110 N12</td>\n",
       "      <td>{\"cruise-control\":true,\"asr\":true,\"esp\":true,\"...</td>\n",
       "      <td>бензин</td>\n",
       "      <td>...</td>\n",
       "      <td>LIFTBACK MECHANICAL 1.6</td>\n",
       "      <td>механическая</td>\n",
       "      <td>EUROPEAN</td>\n",
       "      <td>1 владелец</td>\n",
       "      <td>NaN</td>\n",
       "      <td>Оригинал</td>\n",
       "      <td>передний</td>\n",
       "      <td>Левый</td>\n",
       "      <td>Не требует ремонта</td>\n",
       "      <td>Растаможен</td>\n",
       "    </tr>\n",
       "    <tr>\n",
       "      <th>2</th>\n",
       "      <td>лифтбек</td>\n",
       "      <td>SKODA</td>\n",
       "      <td>https://auto.ru/cars/used/sale/skoda/superb/11...</td>\n",
       "      <td>серый</td>\n",
       "      <td>{\"id\":\"20026336\",\"name\":\"Ambition\",\"available_...</td>\n",
       "      <td>Все автомобили, представленные в продаже, прох...</td>\n",
       "      <td>1.8 LTR</td>\n",
       "      <td>152 N12</td>\n",
       "      <td>{\"cruise-control\":true,\"tinted-glass\":true,\"es...</td>\n",
       "      <td>бензин</td>\n",
       "      <td>...</td>\n",
       "      <td>LIFTBACK ROBOT 1.8</td>\n",
       "      <td>роботизированная</td>\n",
       "      <td>EUROPEAN</td>\n",
       "      <td>1 владелец</td>\n",
       "      <td>NaN</td>\n",
       "      <td>Оригинал</td>\n",
       "      <td>передний</td>\n",
       "      <td>Левый</td>\n",
       "      <td>Не требует ремонта</td>\n",
       "      <td>Растаможен</td>\n",
       "    </tr>\n",
       "    <tr>\n",
       "      <th>3</th>\n",
       "      <td>лифтбек</td>\n",
       "      <td>SKODA</td>\n",
       "      <td>https://auto.ru/cars/used/sale/skoda/octavia/1...</td>\n",
       "      <td>коричневый</td>\n",
       "      <td>{\"id\":\"20803582\",\"name\":\"Ambition\",\"available_...</td>\n",
       "      <td>КОМПЛЕКТ ЗИМНЕЙ (ЛЕТНЕЙ) РЕЗИНЫ ПО СЕЗОНУ В ПО...</td>\n",
       "      <td>1.6 LTR</td>\n",
       "      <td>110 N12</td>\n",
       "      <td>{\"cruise-control\":true,\"roller-blind-for-rear-...</td>\n",
       "      <td>бензин</td>\n",
       "      <td>...</td>\n",
       "      <td>LIFTBACK AUTOMATIC 1.6</td>\n",
       "      <td>автоматическая</td>\n",
       "      <td>EUROPEAN</td>\n",
       "      <td>1 владелец</td>\n",
       "      <td>NaN</td>\n",
       "      <td>Оригинал</td>\n",
       "      <td>передний</td>\n",
       "      <td>Левый</td>\n",
       "      <td>Не требует ремонта</td>\n",
       "      <td>Растаможен</td>\n",
       "    </tr>\n",
       "    <tr>\n",
       "      <th>4</th>\n",
       "      <td>лифтбек</td>\n",
       "      <td>SKODA</td>\n",
       "      <td>https://auto.ru/cars/used/sale/skoda/octavia/1...</td>\n",
       "      <td>белый</td>\n",
       "      <td>NaN</td>\n",
       "      <td>ЛОТ: 01220889\\nАвтопрага Север\\n\\nВы можете по...</td>\n",
       "      <td>1.8 LTR</td>\n",
       "      <td>152 N12</td>\n",
       "      <td>{\"cruise-control\":true,\"asr\":true,\"esp\":true,\"...</td>\n",
       "      <td>бензин</td>\n",
       "      <td>...</td>\n",
       "      <td>LIFTBACK AUTOMATIC 1.8</td>\n",
       "      <td>автоматическая</td>\n",
       "      <td>EUROPEAN</td>\n",
       "      <td>1 владелец</td>\n",
       "      <td>NaN</td>\n",
       "      <td>Оригинал</td>\n",
       "      <td>передний</td>\n",
       "      <td>Левый</td>\n",
       "      <td>Не требует ремонта</td>\n",
       "      <td>Растаможен</td>\n",
       "    </tr>\n",
       "  </tbody>\n",
       "</table>\n",
       "<p>5 rows × 32 columns</p>\n",
       "</div>"
      ],
      "text/plain": [
       "  bodyType  brand                                            car_url  \\\n",
       "0  лифтбек  SKODA  https://auto.ru/cars/used/sale/skoda/octavia/1...   \n",
       "1  лифтбек  SKODA  https://auto.ru/cars/used/sale/skoda/octavia/1...   \n",
       "2  лифтбек  SKODA  https://auto.ru/cars/used/sale/skoda/superb/11...   \n",
       "3  лифтбек  SKODA  https://auto.ru/cars/used/sale/skoda/octavia/1...   \n",
       "4  лифтбек  SKODA  https://auto.ru/cars/used/sale/skoda/octavia/1...   \n",
       "\n",
       "        color                                 complectation_dict  \\\n",
       "0       синий                                                NaN   \n",
       "1      чёрный                                                NaN   \n",
       "2       серый  {\"id\":\"20026336\",\"name\":\"Ambition\",\"available_...   \n",
       "3  коричневый  {\"id\":\"20803582\",\"name\":\"Ambition\",\"available_...   \n",
       "4       белый                                                NaN   \n",
       "\n",
       "                                         description engineDisplacement  \\\n",
       "0  Все автомобили, представленные в продаже, прох...            1.2 LTR   \n",
       "1  ЛОТ: 01217195\\nАвтопрага Север\\nДанный автомоб...            1.6 LTR   \n",
       "2  Все автомобили, представленные в продаже, прох...            1.8 LTR   \n",
       "3  КОМПЛЕКТ ЗИМНЕЙ (ЛЕТНЕЙ) РЕЗИНЫ ПО СЕЗОНУ В ПО...            1.6 LTR   \n",
       "4  ЛОТ: 01220889\\nАвтопрага Север\\n\\nВы можете по...            1.8 LTR   \n",
       "\n",
       "  enginePower                                     equipment_dict fuelType  \\\n",
       "0     105 N12  {\"engine-proof\":true,\"tinted-glass\":true,\"airb...   бензин   \n",
       "1     110 N12  {\"cruise-control\":true,\"asr\":true,\"esp\":true,\"...   бензин   \n",
       "2     152 N12  {\"cruise-control\":true,\"tinted-glass\":true,\"es...   бензин   \n",
       "3     110 N12  {\"cruise-control\":true,\"roller-blind-for-rear-...   бензин   \n",
       "4     152 N12  {\"cruise-control\":true,\"asr\":true,\"esp\":true,\"...   бензин   \n",
       "\n",
       "   ...     vehicleConfiguration  vehicleTransmission    vendor    Владельцы  \\\n",
       "0  ...       LIFTBACK ROBOT 1.2     роботизированная  EUROPEAN  3 или более   \n",
       "1  ...  LIFTBACK MECHANICAL 1.6         механическая  EUROPEAN   1 владелец   \n",
       "2  ...       LIFTBACK ROBOT 1.8     роботизированная  EUROPEAN   1 владелец   \n",
       "3  ...   LIFTBACK AUTOMATIC 1.6       автоматическая  EUROPEAN   1 владелец   \n",
       "4  ...   LIFTBACK AUTOMATIC 1.8       автоматическая  EUROPEAN   1 владелец   \n",
       "\n",
       "  Владение       ПТС    Привод   Руль           Состояние     Таможня  \n",
       "0      NaN  Оригинал  передний  Левый  Не требует ремонта  Растаможен  \n",
       "1      NaN  Оригинал  передний  Левый  Не требует ремонта  Растаможен  \n",
       "2      NaN  Оригинал  передний  Левый  Не требует ремонта  Растаможен  \n",
       "3      NaN  Оригинал  передний  Левый  Не требует ремонта  Растаможен  \n",
       "4      NaN  Оригинал  передний  Левый  Не требует ремонта  Растаможен  \n",
       "\n",
       "[5 rows x 32 columns]"
      ]
     },
     "execution_count": 10,
     "metadata": {},
     "output_type": "execute_result"
    }
   ],
   "source": [
    "test.head(5)"
   ]
  },
  {
   "cell_type": "code",
   "execution_count": 11,
   "metadata": {
    "execution": {
     "iopub.execute_input": "2022-02-20T13:46:52.740952Z",
     "iopub.status.busy": "2022-02-20T13:46:52.740172Z",
     "iopub.status.idle": "2022-02-20T13:46:52.757454Z",
     "shell.execute_reply": "2022-02-20T13:46:52.756138Z",
     "shell.execute_reply.started": "2022-02-14T13:43:24.080210Z"
    },
    "papermill": {
     "duration": 0.1923,
     "end_time": "2022-02-20T13:46:52.757623",
     "exception": false,
     "start_time": "2022-02-20T13:46:52.565323",
     "status": "completed"
    },
    "tags": []
   },
   "outputs": [
    {
     "name": "stdout",
     "output_type": "stream",
     "text": [
      "<class 'pandas.core.frame.DataFrame'>\n",
      "RangeIndex: 34686 entries, 0 to 34685\n",
      "Data columns (total 32 columns):\n",
      " #   Column                Non-Null Count  Dtype \n",
      "---  ------                --------------  ----- \n",
      " 0   bodyType              34686 non-null  object\n",
      " 1   brand                 34686 non-null  object\n",
      " 2   car_url               34686 non-null  object\n",
      " 3   color                 34686 non-null  object\n",
      " 4   complectation_dict    6418 non-null   object\n",
      " 5   description           34686 non-null  object\n",
      " 6   engineDisplacement    34686 non-null  object\n",
      " 7   enginePower           34686 non-null  object\n",
      " 8   equipment_dict        24690 non-null  object\n",
      " 9   fuelType              34686 non-null  object\n",
      " 10  image                 34686 non-null  object\n",
      " 11  mileage               34686 non-null  int64 \n",
      " 12  modelDate             34686 non-null  int64 \n",
      " 13  model_info            34686 non-null  object\n",
      " 14  model_name            34686 non-null  object\n",
      " 15  name                  34686 non-null  object\n",
      " 16  numberOfDoors         34686 non-null  int64 \n",
      " 17  parsing_unixtime      34686 non-null  int64 \n",
      " 18  priceCurrency         34686 non-null  object\n",
      " 19  productionDate        34686 non-null  int64 \n",
      " 20  sell_id               34686 non-null  int64 \n",
      " 21  super_gen             34686 non-null  object\n",
      " 22  vehicleConfiguration  34686 non-null  object\n",
      " 23  vehicleTransmission   34686 non-null  object\n",
      " 24  vendor                34686 non-null  object\n",
      " 25  Владельцы             34686 non-null  object\n",
      " 26  Владение              11995 non-null  object\n",
      " 27  ПТС                   34685 non-null  object\n",
      " 28  Привод                34686 non-null  object\n",
      " 29  Руль                  34686 non-null  object\n",
      " 30  Состояние             34686 non-null  object\n",
      " 31  Таможня               34686 non-null  object\n",
      "dtypes: int64(6), object(26)\n",
      "memory usage: 8.5+ MB\n"
     ]
    }
   ],
   "source": [
    "test.info()"
   ]
  },
  {
   "cell_type": "code",
   "execution_count": 12,
   "metadata": {
    "execution": {
     "iopub.execute_input": "2022-02-20T13:46:52.952585Z",
     "iopub.status.busy": "2022-02-20T13:46:52.951167Z",
     "iopub.status.idle": "2022-02-20T13:46:52.955002Z",
     "shell.execute_reply": "2022-02-20T13:46:52.954312Z",
     "shell.execute_reply.started": "2022-02-20T13:11:46.054351Z"
    },
    "papermill": {
     "duration": 0.089611,
     "end_time": "2022-02-20T13:46:52.955123",
     "exception": false,
     "start_time": "2022-02-20T13:46:52.865512",
     "status": "completed"
    },
    "tags": []
   },
   "outputs": [],
   "source": [
    "# Переименуем колонки\n",
    "test.rename(columns={'bodyType':'body_type','complectation_dict':'features','engineDisplacement':'engine_displacement',\n",
    "                     'enginePower':'engine_power','fuelType':'fuel_type','modelDate':'model_date',\n",
    "                    'numberOfDoors':'number_of_doors','priceCurrency':'price_currency',\n",
    "                    'productionDate':'production_date','vehicleConfiguration':'vehicle_configuration',\n",
    "                     'vehicleTransmission':'vehicle_transmission','Владельцы':'owners',\n",
    "                    'Владение':'ownership','ПТС':'car_passport','Привод':'drive','Руль':'steering_wheel',\n",
    "                     'Состояние':'condition','Таможня':'customs'}, inplace=True)"
   ]
  },
  {
   "cell_type": "markdown",
   "metadata": {},
   "source": [
    "**Сделаем небольшую предобработку теста (трейн пока не трогаем)**"
   ]
  },
  {
   "cell_type": "markdown",
   "metadata": {
    "papermill": {
     "duration": 0.07485,
     "end_time": "2022-02-20T13:46:53.105194",
     "exception": false,
     "start_time": "2022-02-20T13:46:53.030344",
     "status": "completed"
    },
    "tags": []
   },
   "source": [
    "**В колонке engine_power в тесте содержится строковый тип данных. Необходимо привести его к integer, убрав лишние символы. Функцию см. ниже**"
   ]
  },
  {
   "cell_type": "code",
   "execution_count": 13,
   "metadata": {
    "execution": {
     "iopub.execute_input": "2022-02-20T13:46:53.261405Z",
     "iopub.status.busy": "2022-02-20T13:46:53.260340Z",
     "iopub.status.idle": "2022-02-20T13:46:53.263764Z",
     "shell.execute_reply": "2022-02-20T13:46:53.263061Z",
     "shell.execute_reply.started": "2022-02-20T13:11:49.220762Z"
    },
    "papermill": {
     "duration": 0.08388,
     "end_time": "2022-02-20T13:46:53.263890",
     "exception": false,
     "start_time": "2022-02-20T13:46:53.180010",
     "status": "completed"
    },
    "tags": []
   },
   "outputs": [],
   "source": [
    "def make_digit(string):\n",
    "    i=1\n",
    "    while string[i].isdigit()==True:\n",
    "        i+=1\n",
    "    return int(string[:i])"
   ]
  },
  {
   "cell_type": "code",
   "execution_count": 14,
   "metadata": {
    "execution": {
     "iopub.execute_input": "2022-02-20T13:46:53.423707Z",
     "iopub.status.busy": "2022-02-20T13:46:53.418620Z",
     "iopub.status.idle": "2022-02-20T13:46:53.490356Z",
     "shell.execute_reply": "2022-02-20T13:46:53.489780Z",
     "shell.execute_reply.started": "2022-02-20T13:11:51.675509Z"
    },
    "papermill": {
     "duration": 0.151792,
     "end_time": "2022-02-20T13:46:53.490516",
     "exception": false,
     "start_time": "2022-02-20T13:46:53.338724",
     "status": "completed"
    },
    "tags": []
   },
   "outputs": [],
   "source": [
    "test['engine_power']=test['engine_power'].apply(make_digit)"
   ]
  },
  {
   "cell_type": "markdown",
   "metadata": {
    "papermill": {
     "duration": 0.076592,
     "end_time": "2022-02-20T13:46:53.645153",
     "exception": false,
     "start_time": "2022-02-20T13:46:53.568561",
     "status": "completed"
    },
    "tags": []
   },
   "source": [
    "**Аналогичным образом необходимо обработать колонку owners в тесте.**"
   ]
  },
  {
   "cell_type": "code",
   "execution_count": 15,
   "metadata": {
    "execution": {
     "iopub.execute_input": "2022-02-20T13:46:53.802779Z",
     "iopub.status.busy": "2022-02-20T13:46:53.802076Z",
     "iopub.status.idle": "2022-02-20T13:46:53.860616Z",
     "shell.execute_reply": "2022-02-20T13:46:53.859856Z",
     "shell.execute_reply.started": "2022-02-20T13:11:54.404024Z"
    },
    "papermill": {
     "duration": 0.140277,
     "end_time": "2022-02-20T13:46:53.860748",
     "exception": false,
     "start_time": "2022-02-20T13:46:53.720471",
     "status": "completed"
    },
    "tags": []
   },
   "outputs": [],
   "source": [
    "test['owners']=test['owners'].apply(make_digit)"
   ]
  },
  {
   "cell_type": "markdown",
   "metadata": {
    "papermill": {
     "duration": 0.075797,
     "end_time": "2022-02-20T13:46:54.012449",
     "exception": false,
     "start_time": "2022-02-20T13:46:53.936652",
     "status": "completed"
    },
    "tags": []
   },
   "source": [
    "**Сразу бросается в глаза, что в тесте и в трейне - разные наборы признаков. Обучить модель на разных наборах признаков не получится. Значит, найдем пересечение этих множеств. Как видно из куска кода ниже, общих признаков 23, что вполне достаточно.**"
   ]
  },
  {
   "cell_type": "code",
   "execution_count": 16,
   "metadata": {
    "execution": {
     "iopub.execute_input": "2022-02-20T13:46:54.168882Z",
     "iopub.status.busy": "2022-02-20T13:46:54.168226Z",
     "iopub.status.idle": "2022-02-20T13:46:54.172480Z",
     "shell.execute_reply": "2022-02-20T13:46:54.171824Z",
     "shell.execute_reply.started": "2022-02-20T13:40:36.103848Z"
    },
    "papermill": {
     "duration": 0.084641,
     "end_time": "2022-02-20T13:46:54.172598",
     "exception": false,
     "start_time": "2022-02-20T13:46:54.087957",
     "status": "completed"
    },
    "tags": []
   },
   "outputs": [
    {
     "data": {
      "text/plain": [
       "23"
      ]
     },
     "execution_count": 16,
     "metadata": {},
     "output_type": "execute_result"
    }
   ],
   "source": [
    "train_columns=set(train.columns)\n",
    "test_columns=set(test.columns)\n",
    "intersection=train_columns.intersection(test_columns)\n",
    "len(intersection)"
   ]
  },
  {
   "cell_type": "code",
   "execution_count": 17,
   "metadata": {
    "execution": {
     "iopub.execute_input": "2022-02-20T13:46:54.328022Z",
     "iopub.status.busy": "2022-02-20T13:46:54.327351Z",
     "iopub.status.idle": "2022-02-20T13:46:54.331498Z",
     "shell.execute_reply": "2022-02-20T13:46:54.330873Z",
     "shell.execute_reply.started": "2022-02-20T13:40:38.223217Z"
    },
    "papermill": {
     "duration": 0.084132,
     "end_time": "2022-02-20T13:46:54.331631",
     "exception": false,
     "start_time": "2022-02-20T13:46:54.247499",
     "status": "completed"
    },
    "tags": []
   },
   "outputs": [
    {
     "data": {
      "text/plain": [
       "{'hidden', 'price', 'start_date'}"
      ]
     },
     "execution_count": 17,
     "metadata": {},
     "output_type": "execute_result"
    }
   ],
   "source": [
    "# Признаки, которые есть в трейне, но нет в тесте\n",
    "train_columns.difference(test_columns)"
   ]
  },
  {
   "cell_type": "code",
   "execution_count": 18,
   "metadata": {
    "execution": {
     "iopub.execute_input": "2022-02-20T13:46:54.487412Z",
     "iopub.status.busy": "2022-02-20T13:46:54.486731Z",
     "iopub.status.idle": "2022-02-20T13:46:54.490756Z",
     "shell.execute_reply": "2022-02-20T13:46:54.490050Z",
     "shell.execute_reply.started": "2022-02-20T13:40:41.461331Z"
    },
    "papermill": {
     "duration": 0.083974,
     "end_time": "2022-02-20T13:46:54.490883",
     "exception": false,
     "start_time": "2022-02-20T13:46:54.406909",
     "status": "completed"
    },
    "tags": []
   },
   "outputs": [
    {
     "data": {
      "text/plain": [
       "{'car_url',\n",
       " 'equipment_dict',\n",
       " 'image',\n",
       " 'model_info',\n",
       " 'parsing_unixtime',\n",
       " 'price_currency',\n",
       " 'sell_id',\n",
       " 'super_gen',\n",
       " 'vendor'}"
      ]
     },
     "execution_count": 18,
     "metadata": {},
     "output_type": "execute_result"
    }
   ],
   "source": [
    "# Признаки, которые есть в тесте, но нет в трейне\n",
    "test_columns.difference(train_columns)"
   ]
  },
  {
   "cell_type": "markdown",
   "metadata": {
    "papermill": {
     "duration": 0.074881,
     "end_time": "2022-02-20T13:46:54.642310",
     "exception": false,
     "start_time": "2022-02-20T13:46:54.567429",
     "status": "completed"
    },
    "tags": []
   },
   "source": [
    "## Парсинг сайта auto.ru"
   ]
  },
  {
   "cell_type": "markdown",
   "metadata": {
    "papermill": {
     "duration": 0.075372,
     "end_time": "2022-02-20T13:46:54.793438",
     "exception": false,
     "start_time": "2022-02-20T13:46:54.718066",
     "status": "completed"
    },
    "tags": []
   },
   "source": [
    "**Дополним датасет train данными из Интернета. Для этого сначала соберем дополнительный датасет,\n",
    "который объединим с train**"
   ]
  },
  {
   "cell_type": "code",
   "execution_count": 19,
   "metadata": {
    "execution": {
     "iopub.execute_input": "2022-02-20T13:46:54.955539Z",
     "iopub.status.busy": "2022-02-20T13:46:54.954789Z",
     "iopub.status.idle": "2022-02-20T13:46:54.958123Z",
     "shell.execute_reply": "2022-02-20T13:46:54.957463Z",
     "shell.execute_reply.started": "2022-02-20T13:42:22.417213Z"
    },
    "papermill": {
     "duration": 0.087908,
     "end_time": "2022-02-20T13:46:54.958238",
     "exception": false,
     "start_time": "2022-02-20T13:46:54.870330",
     "status": "completed"
    },
    "tags": []
   },
   "outputs": [],
   "source": [
    "# Функция, возвращающая датасет из ссылок на машины определенной марки\n",
    "def get_brand_links(brand):\n",
    "    s=Service('C:\\SkillFactory\\chromedriver.exe')\n",
    "    driver = webdriver.Chrome(service=s)\n",
    "    pages = 2\n",
    "    href = []\n",
    "    for page in range(1, pages):\n",
    "        url = \"https://auto.ru/novosibirsk/cars/\" + brand + \"/all/?page=\" + str(page)\n",
    "        driver.get(url)\n",
    "        items = driver.find_elements_by_xpath('//a[@class=\"Link ListingItemTitle__link\"]')\n",
    "        for i in range(len(items)):\n",
    "            href.append(items[i].get_attribute('href'))\n",
    "    df = pd.DataFrame(href)\n",
    "# df.to_csv('links1.csv')\n",
    "    driver.close()\n",
    "    return df"
   ]
  },
  {
   "cell_type": "code",
   "execution_count": 20,
   "metadata": {
    "papermill": {
     "duration": 0.075687,
     "end_time": "2022-02-20T13:46:55.158807",
     "exception": false,
     "start_time": "2022-02-20T13:46:55.083120",
     "status": "completed"
    },
    "scrolled": true,
    "tags": []
   },
   "outputs": [
    {
     "name": "stderr",
     "output_type": "stream",
     "text": [
      "<ipython-input-19-a4dada1900ca>:10: DeprecationWarning: find_elements_by_* commands are deprecated. Please use find_elements() instead\n",
      "  items = driver.find_elements_by_xpath('//a[@class=\"Link ListingItemTitle__link\"]')\n"
     ]
    },
    {
     "data": {
      "text/html": [
       "<div>\n",
       "<style scoped>\n",
       "    .dataframe tbody tr th:only-of-type {\n",
       "        vertical-align: middle;\n",
       "    }\n",
       "\n",
       "    .dataframe tbody tr th {\n",
       "        vertical-align: top;\n",
       "    }\n",
       "\n",
       "    .dataframe thead th {\n",
       "        text-align: right;\n",
       "    }\n",
       "</style>\n",
       "<table border=\"1\" class=\"dataframe\">\n",
       "  <thead>\n",
       "    <tr style=\"text-align: right;\">\n",
       "      <th></th>\n",
       "      <th>0</th>\n",
       "    </tr>\n",
       "  </thead>\n",
       "  <tbody>\n",
       "    <tr>\n",
       "      <th>0</th>\n",
       "      <td>https://auto.ru/cars/new/group/bmw/x7/21406262...</td>\n",
       "    </tr>\n",
       "    <tr>\n",
       "      <th>1</th>\n",
       "      <td>https://auto.ru/cars/used/sale/bmw/x4/11056850...</td>\n",
       "    </tr>\n",
       "    <tr>\n",
       "      <th>2</th>\n",
       "      <td>https://auto.ru/cars/used/sale/bmw/x3/11053384...</td>\n",
       "    </tr>\n",
       "    <tr>\n",
       "      <th>3</th>\n",
       "      <td>https://auto.ru/cars/used/sale/bmw/x6/11147841...</td>\n",
       "    </tr>\n",
       "    <tr>\n",
       "      <th>4</th>\n",
       "      <td>https://auto.ru/cars/new/group/bmw/3er/2159242...</td>\n",
       "    </tr>\n",
       "    <tr>\n",
       "      <th>5</th>\n",
       "      <td>https://auto.ru/cars/used/sale/bmw/x7/11053384...</td>\n",
       "    </tr>\n",
       "    <tr>\n",
       "      <th>6</th>\n",
       "      <td>https://auto.ru/cars/used/sale/bmw/x6/11058809...</td>\n",
       "    </tr>\n",
       "    <tr>\n",
       "      <th>7</th>\n",
       "      <td>https://auto.ru/cars/used/sale/bmw/x3/11147029...</td>\n",
       "    </tr>\n",
       "    <tr>\n",
       "      <th>8</th>\n",
       "      <td>https://auto.ru/cars/used/sale/bmw/x5/11148304...</td>\n",
       "    </tr>\n",
       "    <tr>\n",
       "      <th>9</th>\n",
       "      <td>https://auto.ru/cars/new/group/bmw/x7/22439407...</td>\n",
       "    </tr>\n",
       "    <tr>\n",
       "      <th>10</th>\n",
       "      <td>https://auto.ru/cars/used/sale/bmw/3er/1106633...</td>\n",
       "    </tr>\n",
       "    <tr>\n",
       "      <th>11</th>\n",
       "      <td>https://auto.ru/cars/used/sale/bmw/3er/1114757...</td>\n",
       "    </tr>\n",
       "    <tr>\n",
       "      <th>12</th>\n",
       "      <td>https://auto.ru/cars/used/sale/bmw/x5/11039201...</td>\n",
       "    </tr>\n",
       "    <tr>\n",
       "      <th>13</th>\n",
       "      <td>https://auto.ru/cars/used/sale/bmw/x4/11147717...</td>\n",
       "    </tr>\n",
       "    <tr>\n",
       "      <th>14</th>\n",
       "      <td>https://auto.ru/cars/new/group/bmw/x7/21406263...</td>\n",
       "    </tr>\n",
       "    <tr>\n",
       "      <th>15</th>\n",
       "      <td>https://auto.ru/cars/used/sale/bmw/x6/11148089...</td>\n",
       "    </tr>\n",
       "    <tr>\n",
       "      <th>16</th>\n",
       "      <td>https://auto.ru/cars/used/sale/bmw/3er/1106675...</td>\n",
       "    </tr>\n",
       "    <tr>\n",
       "      <th>17</th>\n",
       "      <td>https://auto.ru/cars/used/sale/bmw/m3/11061956...</td>\n",
       "    </tr>\n",
       "    <tr>\n",
       "      <th>18</th>\n",
       "      <td>https://auto.ru/cars/used/sale/bmw/x5/11148511...</td>\n",
       "    </tr>\n",
       "    <tr>\n",
       "      <th>19</th>\n",
       "      <td>https://auto.ru/cars/new/group/bmw/5er/2221414...</td>\n",
       "    </tr>\n",
       "    <tr>\n",
       "      <th>20</th>\n",
       "      <td>https://auto.ru/cars/used/sale/bmw/x4/11066755...</td>\n",
       "    </tr>\n",
       "    <tr>\n",
       "      <th>21</th>\n",
       "      <td>https://auto.ru/cars/used/sale/bmw/5er/1114847...</td>\n",
       "    </tr>\n",
       "    <tr>\n",
       "      <th>22</th>\n",
       "      <td>https://auto.ru/cars/used/sale/bmw/x6/11066110...</td>\n",
       "    </tr>\n",
       "    <tr>\n",
       "      <th>23</th>\n",
       "      <td>https://auto.ru/cars/used/sale/bmw/x5/11064160...</td>\n",
       "    </tr>\n",
       "    <tr>\n",
       "      <th>24</th>\n",
       "      <td>https://auto.ru/cars/new/group/bmw/x3/21184620...</td>\n",
       "    </tr>\n",
       "    <tr>\n",
       "      <th>25</th>\n",
       "      <td>https://auto.ru/cars/used/sale/bmw/x7/11067091...</td>\n",
       "    </tr>\n",
       "    <tr>\n",
       "      <th>26</th>\n",
       "      <td>https://auto.ru/cars/used/sale/bmw/m8/11146306...</td>\n",
       "    </tr>\n",
       "    <tr>\n",
       "      <th>27</th>\n",
       "      <td>https://auto.ru/cars/used/sale/bmw/x3/11147310...</td>\n",
       "    </tr>\n",
       "    <tr>\n",
       "      <th>28</th>\n",
       "      <td>https://auto.ru/cars/used/sale/bmw/x6/11060799...</td>\n",
       "    </tr>\n",
       "    <tr>\n",
       "      <th>29</th>\n",
       "      <td>https://auto.ru/cars/new/group/bmw/x3/21029738...</td>\n",
       "    </tr>\n",
       "    <tr>\n",
       "      <th>30</th>\n",
       "      <td>https://auto.ru/cars/used/sale/bmw/x5/11148482...</td>\n",
       "    </tr>\n",
       "    <tr>\n",
       "      <th>31</th>\n",
       "      <td>https://auto.ru/cars/used/sale/bmw/3er/1114691...</td>\n",
       "    </tr>\n",
       "    <tr>\n",
       "      <th>32</th>\n",
       "      <td>https://auto.ru/cars/used/sale/bmw/3er/1114851...</td>\n",
       "    </tr>\n",
       "    <tr>\n",
       "      <th>33</th>\n",
       "      <td>https://auto.ru/cars/used/sale/bmw/x5/11148511...</td>\n",
       "    </tr>\n",
       "    <tr>\n",
       "      <th>34</th>\n",
       "      <td>https://auto.ru/cars/used/sale/bmw/x5/11146863...</td>\n",
       "    </tr>\n",
       "    <tr>\n",
       "      <th>35</th>\n",
       "      <td>https://auto.ru/cars/new/group/bmw/4/22301343/...</td>\n",
       "    </tr>\n",
       "    <tr>\n",
       "      <th>36</th>\n",
       "      <td>https://auto.ru/cars/used/sale/bmw/x5/11147745...</td>\n",
       "    </tr>\n",
       "    <tr>\n",
       "      <th>37</th>\n",
       "      <td>https://auto.ru/cars/used/sale/bmw/x5/11147420...</td>\n",
       "    </tr>\n",
       "  </tbody>\n",
       "</table>\n",
       "</div>"
      ],
      "text/plain": [
       "                                                    0\n",
       "0   https://auto.ru/cars/new/group/bmw/x7/21406262...\n",
       "1   https://auto.ru/cars/used/sale/bmw/x4/11056850...\n",
       "2   https://auto.ru/cars/used/sale/bmw/x3/11053384...\n",
       "3   https://auto.ru/cars/used/sale/bmw/x6/11147841...\n",
       "4   https://auto.ru/cars/new/group/bmw/3er/2159242...\n",
       "5   https://auto.ru/cars/used/sale/bmw/x7/11053384...\n",
       "6   https://auto.ru/cars/used/sale/bmw/x6/11058809...\n",
       "7   https://auto.ru/cars/used/sale/bmw/x3/11147029...\n",
       "8   https://auto.ru/cars/used/sale/bmw/x5/11148304...\n",
       "9   https://auto.ru/cars/new/group/bmw/x7/22439407...\n",
       "10  https://auto.ru/cars/used/sale/bmw/3er/1106633...\n",
       "11  https://auto.ru/cars/used/sale/bmw/3er/1114757...\n",
       "12  https://auto.ru/cars/used/sale/bmw/x5/11039201...\n",
       "13  https://auto.ru/cars/used/sale/bmw/x4/11147717...\n",
       "14  https://auto.ru/cars/new/group/bmw/x7/21406263...\n",
       "15  https://auto.ru/cars/used/sale/bmw/x6/11148089...\n",
       "16  https://auto.ru/cars/used/sale/bmw/3er/1106675...\n",
       "17  https://auto.ru/cars/used/sale/bmw/m3/11061956...\n",
       "18  https://auto.ru/cars/used/sale/bmw/x5/11148511...\n",
       "19  https://auto.ru/cars/new/group/bmw/5er/2221414...\n",
       "20  https://auto.ru/cars/used/sale/bmw/x4/11066755...\n",
       "21  https://auto.ru/cars/used/sale/bmw/5er/1114847...\n",
       "22  https://auto.ru/cars/used/sale/bmw/x6/11066110...\n",
       "23  https://auto.ru/cars/used/sale/bmw/x5/11064160...\n",
       "24  https://auto.ru/cars/new/group/bmw/x3/21184620...\n",
       "25  https://auto.ru/cars/used/sale/bmw/x7/11067091...\n",
       "26  https://auto.ru/cars/used/sale/bmw/m8/11146306...\n",
       "27  https://auto.ru/cars/used/sale/bmw/x3/11147310...\n",
       "28  https://auto.ru/cars/used/sale/bmw/x6/11060799...\n",
       "29  https://auto.ru/cars/new/group/bmw/x3/21029738...\n",
       "30  https://auto.ru/cars/used/sale/bmw/x5/11148482...\n",
       "31  https://auto.ru/cars/used/sale/bmw/3er/1114691...\n",
       "32  https://auto.ru/cars/used/sale/bmw/3er/1114851...\n",
       "33  https://auto.ru/cars/used/sale/bmw/x5/11148511...\n",
       "34  https://auto.ru/cars/used/sale/bmw/x5/11146863...\n",
       "35  https://auto.ru/cars/new/group/bmw/4/22301343/...\n",
       "36  https://auto.ru/cars/used/sale/bmw/x5/11147745...\n",
       "37  https://auto.ru/cars/used/sale/bmw/x5/11147420..."
      ]
     },
     "execution_count": 20,
     "metadata": {},
     "output_type": "execute_result"
    }
   ],
   "source": [
    "# Соберем данные для марки BMW\n",
    "data_bmw=get_brand_links('bmw')\n",
    "data_bmw"
   ]
  },
  {
   "cell_type": "code",
   "execution_count": 21,
   "metadata": {},
   "outputs": [],
   "source": [
    "# Функиция, выполняющая переход по ссылке в датафрейме и возвращающая содержимое страницы в HTML\n",
    "def get_soup(url):\n",
    "    response=requests.get(url, headers={'User-Agent': 'Mozilla/5.0'}).content.decode('utf-8') \n",
    "    soup=BeautifulSoup(response,'html.parser')\n",
    "    return soup"
   ]
  },
  {
   "cell_type": "code",
   "execution_count": 26,
   "metadata": {},
   "outputs": [],
   "source": [
    "# Создадим колонку soup, куда запишем содержимое страниц в формате html\n",
    "data_bmw['soup']=data_bmw[0].apply(get_soup)"
   ]
  },
  {
   "cell_type": "code",
   "execution_count": 27,
   "metadata": {},
   "outputs": [],
   "source": [
    "# Функция, извлекающая значения четырех нужных нам признаков по определенному тегу\n",
    "def get_four_features(soup):\n",
    "    features=soup.find_all('a', class_='Link Link_color_black')\n",
    "    features_list=[]\n",
    "    for i in features:\n",
    "        features_list.append(i.text)\n",
    "    return features_list  "
   ]
  },
  {
   "cell_type": "code",
   "execution_count": 28,
   "metadata": {},
   "outputs": [],
   "source": [
    "data_bmw['four_features']=data_bmw['soup'].apply(get_four_features)"
   ]
  },
  {
   "cell_type": "code",
   "execution_count": 30,
   "metadata": {},
   "outputs": [],
   "source": [
    "# Распарсим четыре найденных признака\n",
    "data_bmw['production_date']=data_bmw['four_features'].apply(lambda x: x[0] if len(x)>0 else np.nan)\n",
    "data_bmw['body_type']=data_bmw['four_features'].apply(lambda x: x[1] if len(x)>0 else np.nan)\n",
    "data_bmw['color']=data_bmw['four_features'].apply(lambda x: x[2] if len(x)>0 else np.nan)\n",
    "data_bmw['fuel_type']=data_bmw['four_features'].apply(lambda x: x[3] if len(x)>0 else np.nan)"
   ]
  },
  {
   "cell_type": "code",
   "execution_count": 31,
   "metadata": {},
   "outputs": [],
   "source": [
    "# Функция, вычисляющая количество дверей\n",
    "def get_doors(x):\n",
    "    if type(x)==float:\n",
    "        return np.nan\n",
    "    elif x.find('5')>=0:\n",
    "        return 5\n",
    "    else: \n",
    "        return 4"
   ]
  },
  {
   "cell_type": "code",
   "execution_count": 32,
   "metadata": {},
   "outputs": [],
   "source": [
    "data_bmw['number_of_doors']=data_bmw['body_type'].apply(get_doors)"
   ]
  },
  {
   "cell_type": "code",
   "execution_count": 33,
   "metadata": {},
   "outputs": [],
   "source": [
    "# Функция, извлекающая информацию о коробке передач\n",
    "def get_vehicle_transmission(soup):\n",
    "    features=soup.find_all('li', class_='CardInfoRow CardInfoRow_transmission')\n",
    "    features_list=[]\n",
    "    for i in features:\n",
    "        features_list.append(i.text)\n",
    "    if len(features_list)==0:\n",
    "        return np.nan\n",
    "    elif 'автоматическая' in features_list[0]:\n",
    "        return 'автоматическая'\n",
    "    elif 'роботизированная' in features_list[0]:\n",
    "        return 'роботизированная'\n",
    "    elif 'механическая' in features_list[0]:\n",
    "        return 'механическая'\n",
    "    elif 'вариатор' in features_list[0]:\n",
    "        return 'вариатор'\n",
    "    else: \n",
    "        return np.nan"
   ]
  },
  {
   "cell_type": "code",
   "execution_count": 34,
   "metadata": {},
   "outputs": [],
   "source": [
    "data_bmw['vehicle_transmission']=data_bmw['soup'].apply(get_vehicle_transmission)"
   ]
  },
  {
   "cell_type": "code",
   "execution_count": 35,
   "metadata": {},
   "outputs": [],
   "source": [
    "# Функция, извлекающая информацию о приводе\n",
    "def get_drive(soup):\n",
    "    features=soup.find_all('li', class_='CardInfoRow CardInfoRow_drive')\n",
    "    features_list=[]\n",
    "    for i in features:\n",
    "        features_list.append(i.text)\n",
    "    if len(features_list)==0:\n",
    "        return np.nan\n",
    "    elif 'передний' in features_list[0]:\n",
    "        return 'передний'\n",
    "    elif 'задний' in features_list[0]:\n",
    "        return 'задний'\n",
    "    elif 'полный' in features_list[0]:\n",
    "        return 'полный'\n",
    "    else: \n",
    "        return np.nan"
   ]
  },
  {
   "cell_type": "code",
   "execution_count": 36,
   "metadata": {},
   "outputs": [],
   "source": [
    "data_bmw['drive']=data_bmw['soup'].apply(get_drive)"
   ]
  },
  {
   "cell_type": "code",
   "execution_count": 37,
   "metadata": {},
   "outputs": [],
   "source": [
    "# Функция, извлекающая информацию о руле\n",
    "def get_steering_wheel(soup):\n",
    "    features=soup.find_all('li', class_='CardInfoRow CardInfoRow_wheel')\n",
    "    features_list=[]\n",
    "    for i in features:\n",
    "        features_list.append(i.text)\n",
    "    if len(features_list)==0:\n",
    "        return np.nan\n",
    "    elif 'Левый' in features_list[0]:\n",
    "        return 'Левый'\n",
    "    elif 'Правый' in features_list[0]:\n",
    "        return 'Правый'\n",
    "    else: \n",
    "        return np.nan"
   ]
  },
  {
   "cell_type": "code",
   "execution_count": 38,
   "metadata": {},
   "outputs": [],
   "source": [
    "data_bmw['steering_wheel']=data_bmw['soup'].apply(get_steering_wheel)"
   ]
  },
  {
   "cell_type": "code",
   "execution_count": 39,
   "metadata": {},
   "outputs": [],
   "source": [
    "# Функция, извлекающая количество владельцев\n",
    "def get_owners(soup):\n",
    "    features=soup.find_all('li', class_='CardInfoRow CardInfoRow_ownersCount')\n",
    "    features_list=[]\n",
    "    for i in features:\n",
    "        features_list.append(i.text)\n",
    "    if len(features_list)==0:\n",
    "        return np.nan\n",
    "    for j in range(0,len(features_list[0])):\n",
    "        if features_list[0][j].isdigit()==True:\n",
    "            return features_list[0][j]"
   ]
  },
  {
   "cell_type": "code",
   "execution_count": 40,
   "metadata": {},
   "outputs": [],
   "source": [
    "data_bmw['owners']=data_bmw['soup'].apply(get_owners)"
   ]
  },
  {
   "cell_type": "code",
   "execution_count": 41,
   "metadata": {},
   "outputs": [],
   "source": [
    "# Функция, извлекающая информацию о ПТС\n",
    "def get_car_passport(soup):\n",
    "    features=soup.find_all('li', class_='CardInfoRow CardInfoRow_pts')\n",
    "    features_list=[]\n",
    "    for i in features:\n",
    "        features_list.append(i.text)\n",
    "    if len(features_list)==0:\n",
    "        return np.nan\n",
    "    elif 'Оригинал' in features_list[0]:\n",
    "        return 'Оригинал'\n",
    "    elif 'Дубликат' in features_list[0]:\n",
    "        return 'Дубликат'\n",
    "    else: \n",
    "        return np.nan"
   ]
  },
  {
   "cell_type": "code",
   "execution_count": 42,
   "metadata": {},
   "outputs": [],
   "source": [
    "data_bmw['car_passport']=data_bmw['soup'].apply(get_car_passport)"
   ]
  },
  {
   "cell_type": "code",
   "execution_count": 43,
   "metadata": {},
   "outputs": [],
   "source": [
    "# Функция, извлекающая информацию о 30-ти определенных полях на странице. Нам не нужны все эти поля. Мы возьмем только некоторые\n",
    "def get_thirty_features(soup):\n",
    "    features=soup.find_all('span', class_='CardInfoRow__cell')\n",
    "    features_list=[]\n",
    "    for i in features:\n",
    "        features_list.append(i.text)\n",
    "    return features_list"
   ]
  },
  {
   "cell_type": "code",
   "execution_count": 44,
   "metadata": {},
   "outputs": [],
   "source": [
    "data_bmw['thirty_features']=data_bmw['soup'].apply(get_thirty_features)"
   ]
  },
  {
   "cell_type": "code",
   "execution_count": 45,
   "metadata": {},
   "outputs": [],
   "source": [
    "# Функция, извлекающая информацию о пробеге\n",
    "def get_mileage(features):\n",
    "    if len(features)==0:\n",
    "        return np.nan\n",
    "    if features[3][0].isdigit()==False:\n",
    "        return np.nan\n",
    "    i=0\n",
    "    while features[3][i].isdigit()==True:\n",
    "        i+=1\n",
    "    return int(features[3][:i])*1000"
   ]
  },
  {
   "cell_type": "code",
   "execution_count": 46,
   "metadata": {},
   "outputs": [],
   "source": [
    "data_bmw['mileage']=data_bmw['thirty_features'].apply(get_mileage)"
   ]
  },
  {
   "cell_type": "code",
   "execution_count": 47,
   "metadata": {},
   "outputs": [],
   "source": [
    "# Функция, извлекающая информацию о мощности двигателя\n",
    "def get_engine_power(features):\n",
    "    if len(features)==0:\n",
    "        return np.nan\n",
    "    if features[9][0].isdigit()==False:\n",
    "        return np.nan\n",
    "    parts=features[9].split('/')\n",
    "    power=parts[1].strip()\n",
    "    i=0\n",
    "    while power[i].isdigit()==True:\n",
    "        i+=1\n",
    "    return int(power[:i])"
   ]
  },
  {
   "cell_type": "code",
   "execution_count": 48,
   "metadata": {},
   "outputs": [],
   "source": [
    "data_bmw['engine_power']=data_bmw['thirty_features'].apply(get_engine_power)"
   ]
  },
  {
   "cell_type": "code",
   "execution_count": 49,
   "metadata": {},
   "outputs": [
    {
     "data": {
      "text/html": [
       "<div>\n",
       "<style scoped>\n",
       "    .dataframe tbody tr th:only-of-type {\n",
       "        vertical-align: middle;\n",
       "    }\n",
       "\n",
       "    .dataframe tbody tr th {\n",
       "        vertical-align: top;\n",
       "    }\n",
       "\n",
       "    .dataframe thead th {\n",
       "        text-align: right;\n",
       "    }\n",
       "</style>\n",
       "<table border=\"1\" class=\"dataframe\">\n",
       "  <thead>\n",
       "    <tr style=\"text-align: right;\">\n",
       "      <th></th>\n",
       "      <th>0</th>\n",
       "      <th>soup</th>\n",
       "      <th>four_features</th>\n",
       "      <th>production_date</th>\n",
       "      <th>body_type</th>\n",
       "      <th>color</th>\n",
       "      <th>fuel_type</th>\n",
       "      <th>number_of_doors</th>\n",
       "      <th>vehicle_transmission</th>\n",
       "      <th>drive</th>\n",
       "      <th>steering_wheel</th>\n",
       "      <th>owners</th>\n",
       "      <th>car_passport</th>\n",
       "      <th>thirty_features</th>\n",
       "      <th>mileage</th>\n",
       "      <th>engine_power</th>\n",
       "    </tr>\n",
       "  </thead>\n",
       "  <tbody>\n",
       "    <tr>\n",
       "      <th>0</th>\n",
       "      <td>https://auto.ru/cars/new/group/bmw/x7/21406262...</td>\n",
       "      <td>[html, [[&lt;link as=\"script\" href=\"https://auto....</td>\n",
       "      <td>[]</td>\n",
       "      <td>NaN</td>\n",
       "      <td>NaN</td>\n",
       "      <td>NaN</td>\n",
       "      <td>NaN</td>\n",
       "      <td>NaN</td>\n",
       "      <td>NaN</td>\n",
       "      <td>NaN</td>\n",
       "      <td>NaN</td>\n",
       "      <td>NaN</td>\n",
       "      <td>NaN</td>\n",
       "      <td>[]</td>\n",
       "      <td>NaN</td>\n",
       "      <td>NaN</td>\n",
       "    </tr>\n",
       "    <tr>\n",
       "      <th>1</th>\n",
       "      <td>https://auto.ru/cars/used/sale/bmw/x4/11056850...</td>\n",
       "      <td>[html, [[&lt;link as=\"script\" href=\"https://auto....</td>\n",
       "      <td>[2019, внедорожник 5 дв., серый, Бензин]</td>\n",
       "      <td>2019</td>\n",
       "      <td>внедорожник 5 дв.</td>\n",
       "      <td>серый</td>\n",
       "      <td>Бензин</td>\n",
       "      <td>5.0</td>\n",
       "      <td>автоматическая</td>\n",
       "      <td>полный</td>\n",
       "      <td>Левый</td>\n",
       "      <td>2</td>\n",
       "      <td>Оригинал</td>\n",
       "      <td>[год выпуска, 2019, Пробег, 87 000 км, Кузов, ...</td>\n",
       "      <td>87000.0</td>\n",
       "      <td>184.0</td>\n",
       "    </tr>\n",
       "    <tr>\n",
       "      <th>2</th>\n",
       "      <td>https://auto.ru/cars/used/sale/bmw/x3/11053384...</td>\n",
       "      <td>[html, [[&lt;link as=\"script\" href=\"https://auto....</td>\n",
       "      <td>[2018, внедорожник 5 дв., белый, Дизель]</td>\n",
       "      <td>2018</td>\n",
       "      <td>внедорожник 5 дв.</td>\n",
       "      <td>белый</td>\n",
       "      <td>Дизель</td>\n",
       "      <td>5.0</td>\n",
       "      <td>автоматическая</td>\n",
       "      <td>полный</td>\n",
       "      <td>Левый</td>\n",
       "      <td>1</td>\n",
       "      <td>Оригинал</td>\n",
       "      <td>[год выпуска, 2018, Пробег, 86 000 км, Кузов, ...</td>\n",
       "      <td>86000.0</td>\n",
       "      <td>340.0</td>\n",
       "    </tr>\n",
       "    <tr>\n",
       "      <th>3</th>\n",
       "      <td>https://auto.ru/cars/used/sale/bmw/x6/11147841...</td>\n",
       "      <td>[html, [[&lt;link as=\"script\" href=\"https://auto....</td>\n",
       "      <td>[2017, внедорожник 5 дв., чёрный, Дизель]</td>\n",
       "      <td>2017</td>\n",
       "      <td>внедорожник 5 дв.</td>\n",
       "      <td>чёрный</td>\n",
       "      <td>Дизель</td>\n",
       "      <td>5.0</td>\n",
       "      <td>автоматическая</td>\n",
       "      <td>полный</td>\n",
       "      <td>Левый</td>\n",
       "      <td>3</td>\n",
       "      <td>Оригинал</td>\n",
       "      <td>[год выпуска, 2017, Пробег, 79 000 км, Кузов, ...</td>\n",
       "      <td>79000.0</td>\n",
       "      <td>313.0</td>\n",
       "    </tr>\n",
       "    <tr>\n",
       "      <th>4</th>\n",
       "      <td>https://auto.ru/cars/new/group/bmw/3er/2159242...</td>\n",
       "      <td>[html, [[&lt;link as=\"script\" href=\"https://auto....</td>\n",
       "      <td>[]</td>\n",
       "      <td>NaN</td>\n",
       "      <td>NaN</td>\n",
       "      <td>NaN</td>\n",
       "      <td>NaN</td>\n",
       "      <td>NaN</td>\n",
       "      <td>NaN</td>\n",
       "      <td>NaN</td>\n",
       "      <td>NaN</td>\n",
       "      <td>NaN</td>\n",
       "      <td>NaN</td>\n",
       "      <td>[]</td>\n",
       "      <td>NaN</td>\n",
       "      <td>NaN</td>\n",
       "    </tr>\n",
       "  </tbody>\n",
       "</table>\n",
       "</div>"
      ],
      "text/plain": [
       "                                                   0  \\\n",
       "0  https://auto.ru/cars/new/group/bmw/x7/21406262...   \n",
       "1  https://auto.ru/cars/used/sale/bmw/x4/11056850...   \n",
       "2  https://auto.ru/cars/used/sale/bmw/x3/11053384...   \n",
       "3  https://auto.ru/cars/used/sale/bmw/x6/11147841...   \n",
       "4  https://auto.ru/cars/new/group/bmw/3er/2159242...   \n",
       "\n",
       "                                                soup  \\\n",
       "0  [html, [[<link as=\"script\" href=\"https://auto....   \n",
       "1  [html, [[<link as=\"script\" href=\"https://auto....   \n",
       "2  [html, [[<link as=\"script\" href=\"https://auto....   \n",
       "3  [html, [[<link as=\"script\" href=\"https://auto....   \n",
       "4  [html, [[<link as=\"script\" href=\"https://auto....   \n",
       "\n",
       "                               four_features production_date  \\\n",
       "0                                         []             NaN   \n",
       "1   [2019, внедорожник 5 дв., серый, Бензин]            2019   \n",
       "2   [2018, внедорожник 5 дв., белый, Дизель]            2018   \n",
       "3  [2017, внедорожник 5 дв., чёрный, Дизель]            2017   \n",
       "4                                         []             NaN   \n",
       "\n",
       "           body_type   color fuel_type  number_of_doors vehicle_transmission  \\\n",
       "0                NaN     NaN       NaN              NaN                  NaN   \n",
       "1  внедорожник 5 дв.   серый    Бензин              5.0       автоматическая   \n",
       "2  внедорожник 5 дв.   белый    Дизель              5.0       автоматическая   \n",
       "3  внедорожник 5 дв.  чёрный    Дизель              5.0       автоматическая   \n",
       "4                NaN     NaN       NaN              NaN                  NaN   \n",
       "\n",
       "    drive steering_wheel owners car_passport  \\\n",
       "0     NaN            NaN    NaN          NaN   \n",
       "1  полный          Левый      2     Оригинал   \n",
       "2  полный          Левый      1     Оригинал   \n",
       "3  полный          Левый      3     Оригинал   \n",
       "4     NaN            NaN    NaN          NaN   \n",
       "\n",
       "                                     thirty_features  mileage  engine_power  \n",
       "0                                                 []      NaN           NaN  \n",
       "1  [год выпуска, 2019, Пробег, 87 000 км, Кузов, ...  87000.0         184.0  \n",
       "2  [год выпуска, 2018, Пробег, 86 000 км, Кузов, ...  86000.0         340.0  \n",
       "3  [год выпуска, 2017, Пробег, 79 000 км, Кузов, ...  79000.0         313.0  \n",
       "4                                                 []      NaN           NaN  "
      ]
     },
     "execution_count": 49,
     "metadata": {},
     "output_type": "execute_result"
    }
   ],
   "source": [
    "data_bmw.head()"
   ]
  },
  {
   "cell_type": "markdown",
   "metadata": {},
   "source": [
    "**К сожалению, мне не удалось понять, в каком теге находится цена на автомобиль (целевая переменная). С другими признаками такой проблемы не возникло. Для цены срабатывает некий скрипт при наведении курсора мышки. Это затрудняет определение тега, в котором находится цена. При выборе опции \"Посмотреть код\" для цены выводится неверная информация.**\n",
    "\n",
    "**Таким образом, у нас нет целевой переменной по итогам парсинга. Значит, объединять датасет data_bmw (и другие датасеты для других марок) с обучающим датасетом не имеет смысла.**"
   ]
  },
  {
   "cell_type": "code",
   "execution_count": null,
   "metadata": {},
   "outputs": [],
   "source": []
  },
  {
   "cell_type": "markdown",
   "metadata": {},
   "source": [
    "## Обработка данных и feature engineering"
   ]
  },
  {
   "cell_type": "code",
   "execution_count": 50,
   "metadata": {
    "execution": {
     "iopub.execute_input": "2022-02-20T13:46:55.320633Z",
     "iopub.status.busy": "2022-02-20T13:46:55.319883Z",
     "iopub.status.idle": "2022-02-20T13:46:55.359704Z",
     "shell.execute_reply": "2022-02-20T13:46:55.359030Z",
     "shell.execute_reply.started": "2022-02-20T08:59:48.762901Z"
    },
    "papermill": {
     "duration": 0.125074,
     "end_time": "2022-02-20T13:46:55.359828",
     "exception": false,
     "start_time": "2022-02-20T13:46:55.234754",
     "status": "completed"
    },
    "tags": []
   },
   "outputs": [],
   "source": [
    "# Приведем трейн и тест в одинаковый вид, чтобы их можно было объединить при помощи join.\n",
    "# Обратите внимание, что я избавилась от колонки condition (Состояние) в обоих датасетах. \n",
    "# Дело в том, что в этой колонке в трейне стоят только NaN. Значит, она бесполезна для обучения модели\n",
    "test['price']=0\n",
    "train['sell_id']=0\n",
    "train.drop(columns=['hidden','start_date','condition'], inplace=True)\n",
    "test.drop(columns=['condition','car_url','equipment_dict','image','model_info','parsing_unixtime',\n",
    "                  'price_currency','super_gen','vendor'], inplace=True)"
   ]
  },
  {
   "cell_type": "code",
   "execution_count": 51,
   "metadata": {
    "execution": {
     "iopub.execute_input": "2022-02-20T13:46:55.520556Z",
     "iopub.status.busy": "2022-02-20T13:46:55.518973Z",
     "iopub.status.idle": "2022-02-20T13:46:55.657345Z",
     "shell.execute_reply": "2022-02-20T13:46:55.656646Z",
     "shell.execute_reply.started": "2022-02-20T08:59:51.507517Z"
    },
    "papermill": {
     "duration": 0.221145,
     "end_time": "2022-02-20T13:46:55.657468",
     "exception": false,
     "start_time": "2022-02-20T13:46:55.436323",
     "status": "completed"
    },
    "tags": []
   },
   "outputs": [],
   "source": [
    "# ВАЖНО! дря корректной обработки признаков объединяем трейн и тест в один датасет\n",
    "train['sample'] = 1 # помечаем где у нас трейн\n",
    "test['sample'] = 0 # помечаем где у нас тест\n",
    "\n",
    "data = test.append(train, sort=False).reset_index(drop=True) # объединяем"
   ]
  },
  {
   "cell_type": "code",
   "execution_count": 52,
   "metadata": {
    "execution": {
     "iopub.execute_input": "2022-02-20T13:46:55.970509Z",
     "iopub.status.busy": "2022-02-20T13:46:55.969793Z",
     "iopub.status.idle": "2022-02-20T13:46:55.973964Z",
     "shell.execute_reply": "2022-02-20T13:46:55.973301Z",
     "shell.execute_reply.started": "2022-02-20T08:59:57.665581Z"
    },
    "papermill": {
     "duration": 0.086429,
     "end_time": "2022-02-20T13:46:55.974093",
     "exception": false,
     "start_time": "2022-02-20T13:46:55.887664",
     "status": "completed"
    },
    "tags": []
   },
   "outputs": [
    {
     "data": {
      "text/plain": [
       "Index(['body_type', 'brand', 'color', 'features', 'description',\n",
       "       'engine_displacement', 'engine_power', 'fuel_type', 'mileage',\n",
       "       'model_date', 'model_name', 'name', 'number_of_doors',\n",
       "       'production_date', 'sell_id', 'vehicle_configuration',\n",
       "       'vehicle_transmission', 'owners', 'ownership', 'car_passport', 'drive',\n",
       "       'steering_wheel', 'customs', 'price', 'sample'],\n",
       "      dtype='object')"
      ]
     },
     "execution_count": 52,
     "metadata": {},
     "output_type": "execute_result"
    }
   ],
   "source": [
    "data.columns"
   ]
  },
  {
   "cell_type": "code",
   "execution_count": 53,
   "metadata": {
    "execution": {
     "iopub.execute_input": "2022-02-20T13:46:56.133740Z",
     "iopub.status.busy": "2022-02-20T13:46:56.132995Z",
     "iopub.status.idle": "2022-02-20T13:46:56.136328Z",
     "shell.execute_reply": "2022-02-20T13:46:56.135647Z",
     "shell.execute_reply.started": "2022-02-18T12:46:58.160358Z"
    },
    "papermill": {
     "duration": 0.084778,
     "end_time": "2022-02-20T13:46:56.136446",
     "exception": false,
     "start_time": "2022-02-20T13:46:56.051668",
     "status": "completed"
    },
    "tags": []
   },
   "outputs": [],
   "source": [
    "# Выделим колонки с непрерывным типом данных\n",
    "numeric_columns=['model_date','number_of_doors','production_date','engine_power','mileage','owners','price']"
   ]
  },
  {
   "cell_type": "code",
   "execution_count": 54,
   "metadata": {
    "execution": {
     "iopub.execute_input": "2022-02-20T13:46:56.296893Z",
     "iopub.status.busy": "2022-02-20T13:46:56.296079Z",
     "iopub.status.idle": "2022-02-20T13:46:58.154564Z",
     "shell.execute_reply": "2022-02-20T13:46:58.152769Z",
     "shell.execute_reply.started": "2022-02-18T12:47:02.453471Z"
    },
    "papermill": {
     "duration": 1.9419,
     "end_time": "2022-02-20T13:46:58.154712",
     "exception": false,
     "start_time": "2022-02-20T13:46:56.212812",
     "status": "completed"
    },
    "tags": []
   },
   "outputs": [
    {
     "name": "stderr",
     "output_type": "stream",
     "text": [
      "C:\\Users\\Sasha\\anaconda3\\lib\\site-packages\\seaborn\\distributions.py:2557: FutureWarning: `distplot` is a deprecated function and will be removed in a future version. Please adapt your code to use either `displot` (a figure-level function with similar flexibility) or `histplot` (an axes-level function for histograms).\n",
      "  warnings.warn(msg, FutureWarning)\n"
     ]
    },
    {
     "data": {
      "image/png": "[encoded data removed]",
      "text/plain": [
       "<Figure size 432x288 with 1 Axes>"
      ]
     },
     "metadata": {
      "needs_background": "light"
     },
     "output_type": "display_data"
    },
    {
     "data": {
      "image/png": "[encoded data removed]",
      "text/plain": [
       "<Figure size 432x288 with 1 Axes>"
      ]
     },
     "metadata": {
      "needs_background": "light"
     },
     "output_type": "display_data"
    },
    {
     "data": {
      "image/png": "[encoded data removed]",
      "text/plain": [
       "<Figure size 432x288 with 1 Axes>"
      ]
     },
     "metadata": {
      "needs_background": "light"
     },
     "output_type": "display_data"
    },
    {
     "data": {
      "image/png": "[encoded data removed]",
      "text/plain": [
       "<Figure size 432x288 with 1 Axes>"
      ]
     },
     "metadata": {
      "needs_background": "light"
     },
     "output_type": "display_data"
    },
    {
     "data": {
      "image/png": "[encoded data removed]",
      "text/plain": [
       "<Figure size 432x288 with 1 Axes>"
      ]
     },
     "metadata": {
      "needs_background": "light"
     },
     "output_type": "display_data"
    },
    {
     "data": {
      "image/png": "[encoded data removed]",
      "text/plain": [
       "<Figure size 432x288 with 1 Axes>"
      ]
     },
     "metadata": {
      "needs_background": "light"
     },
     "output_type": "display_data"
    },
    {
     "data": {
      "image/png": "[encoded data removed]",
      "text/plain": [
       "<Figure size 432x288 with 1 Axes>"
      ]
     },
     "metadata": {
      "needs_background": "light"
     },
     "output_type": "display_data"
    }
   ],
   "source": [
    "# Нарисуем графики непрерывных признаков\n",
    "for i in numeric_columns:\n",
    "    plt.figure()\n",
    "    sns.distplot(data[i].dropna(), kde = False, rug=False)\n",
    "    plt.title(i)\n",
    "    plt.show()"
   ]
  },
  {
   "cell_type": "code",
   "execution_count": 55,
   "metadata": {
    "execution": {
     "iopub.execute_input": "2022-02-20T13:46:58.322847Z",
     "iopub.status.busy": "2022-02-20T13:46:58.322090Z",
     "iopub.status.idle": "2022-02-20T13:46:59.937187Z",
     "shell.execute_reply": "2022-02-20T13:46:59.936472Z",
     "shell.execute_reply.started": "2022-02-18T12:47:12.272375Z"
    },
    "papermill": {
     "duration": 1.700131,
     "end_time": "2022-02-20T13:46:59.937328",
     "exception": false,
     "start_time": "2022-02-20T13:46:58.237197",
     "status": "completed"
    },
    "tags": []
   },
   "outputs": [],
   "source": [
    "# Попробуем прологарифмировать некоторые колонки, у которых наблюдается \"хвост\". Логарифмируем в том\n",
    "# числе колонку price (целевая переменная). На baseline было показано, что это улучшает целевую метрику\n",
    "data['model_date']=data['model_date'].apply(lambda x: np.log(x+1))\n",
    "data['production_date']=data['production_date'].apply(lambda x: np.log(x+1))\n",
    "data['engine_power']=data['engine_power'].apply(lambda x: np.log(x+1))\n",
    "data['mileage']=data['mileage'].apply(lambda x: np.log(x+1))\n",
    "data['price']=data['price'].apply(lambda x: np.log(x+1))"
   ]
  },
  {
   "cell_type": "code",
   "execution_count": 56,
   "metadata": {
    "execution": {
     "iopub.execute_input": "2022-02-20T13:47:00.109203Z",
     "iopub.status.busy": "2022-02-20T13:47:00.108499Z",
     "iopub.status.idle": "2022-02-20T13:47:01.955617Z",
     "shell.execute_reply": "2022-02-20T13:47:01.954935Z",
     "shell.execute_reply.started": "2022-02-18T12:47:41.957636Z"
    },
    "papermill": {
     "duration": 1.936699,
     "end_time": "2022-02-20T13:47:01.955737",
     "exception": false,
     "start_time": "2022-02-20T13:47:00.019038",
     "status": "completed"
    },
    "tags": []
   },
   "outputs": [
    {
     "data": {
      "image/png": "[encoded data removed]",
      "text/plain": [
       "<Figure size 432x288 with 1 Axes>"
      ]
     },
     "metadata": {
      "needs_background": "light"
     },
     "output_type": "display_data"
    },
    {
     "data": {
      "image/png": "[encoded data removed]",
      "text/plain": [
       "<Figure size 432x288 with 1 Axes>"
      ]
     },
     "metadata": {
      "needs_background": "light"
     },
     "output_type": "display_data"
    },
    {
     "data": {
      "image/png": "[encoded data removed]",
      "text/plain": [
       "<Figure size 432x288 with 1 Axes>"
      ]
     },
     "metadata": {
      "needs_background": "light"
     },
     "output_type": "display_data"
    },
    {
     "data": {
      "image/png": "[encoded data removed]",
      "text/plain": [
       "<Figure size 432x288 with 1 Axes>"
      ]
     },
     "metadata": {
      "needs_background": "light"
     },
     "output_type": "display_data"
    },
    {
     "data": {
      "image/png": "[encoded data removed]",
      "text/plain": [
       "<Figure size 432x288 with 1 Axes>"
      ]
     },
     "metadata": {
      "needs_background": "light"
     },
     "output_type": "display_data"
    },
    {
     "data": {
      "image/png": "[encoded data removed]",
      "text/plain": [
       "<Figure size 432x288 with 1 Axes>"
      ]
     },
     "metadata": {
      "needs_background": "light"
     },
     "output_type": "display_data"
    },
    {
     "data": {
      "image/png": "[encoded data removed]",
      "text/plain": [
       "<Figure size 432x288 with 1 Axes>"
      ]
     },
     "metadata": {
      "needs_background": "light"
     },
     "output_type": "display_data"
    }
   ],
   "source": [
    "# Выведем признаки еще раз\n",
    "for i in numeric_columns:\n",
    "    plt.figure()\n",
    "    sns.distplot(data[i].dropna(), kde = False, rug=False)\n",
    "    plt.title(i)\n",
    "    plt.show()"
   ]
  },
  {
   "cell_type": "markdown",
   "metadata": {
    "papermill": {
     "duration": 0.085993,
     "end_time": "2022-02-20T13:47:02.128366",
     "exception": false,
     "start_time": "2022-02-20T13:47:02.042373",
     "status": "completed"
    },
    "tags": []
   },
   "source": [
    "**Видно, что у нас довольно много новых машин, для которых mileage=0. Создадим специальную бинарную переменную, содержащую информацию о том, нулевой или нет у машины mileage**"
   ]
  },
  {
   "cell_type": "code",
   "execution_count": 57,
   "metadata": {
    "execution": {
     "iopub.execute_input": "2022-02-20T13:47:02.309936Z",
     "iopub.status.busy": "2022-02-20T13:47:02.306033Z",
     "iopub.status.idle": "2022-02-20T13:47:02.400090Z",
     "shell.execute_reply": "2022-02-20T13:47:02.399495Z",
     "shell.execute_reply.started": "2022-02-18T12:47:56.917584Z"
    },
    "papermill": {
     "duration": 0.18586,
     "end_time": "2022-02-20T13:47:02.400226",
     "exception": false,
     "start_time": "2022-02-20T13:47:02.214366",
     "status": "completed"
    },
    "tags": []
   },
   "outputs": [],
   "source": [
    "data['is_mileage_zero']=data['mileage'].apply(lambda x: 1 if x==0 else 0)"
   ]
  },
  {
   "cell_type": "code",
   "execution_count": 58,
   "metadata": {
    "execution": {
     "iopub.execute_input": "2022-02-20T13:47:02.581016Z",
     "iopub.status.busy": "2022-02-20T13:47:02.580029Z",
     "iopub.status.idle": "2022-02-20T13:47:02.915402Z",
     "shell.execute_reply": "2022-02-20T13:47:02.914802Z",
     "shell.execute_reply.started": "2022-02-16T12:29:40.714933Z"
    },
    "papermill": {
     "duration": 0.42889,
     "end_time": "2022-02-20T13:47:02.915526",
     "exception": false,
     "start_time": "2022-02-20T13:47:02.486636",
     "status": "completed"
    },
    "tags": []
   },
   "outputs": [
    {
     "data": {
      "text/plain": [
       "<AxesSubplot:>"
      ]
     },
     "execution_count": 58,
     "metadata": {},
     "output_type": "execute_result"
    },
    {
     "data": {
      "image/png": "[encoded data removed]",
      "text/plain": [
       "<Figure size 432x288 with 2 Axes>"
      ]
     },
     "metadata": {
      "needs_background": "light"
     },
     "output_type": "display_data"
    }
   ],
   "source": [
    "# Построим тепловую карту матрицы корреляций непрерывных признаков.\n",
    "# Видно, что mileage скоррелирован с model_date и production_date. Это логично, т.к. больший пробег\n",
    "# обычно означает более раннюю дату выпуска. Кроме того, количество владельцев также скоррелировано \n",
    "# с production_date и model_date, т.к. у более старых машин обычно больше владельцев.\n",
    "sns.heatmap(data[numeric_columns].corr().abs(), vmin=0, vmax=1)"
   ]
  },
  {
   "cell_type": "markdown",
   "metadata": {
    "papermill": {
     "duration": 0.088354,
     "end_time": "2022-02-20T13:47:03.092524",
     "exception": false,
     "start_time": "2022-02-20T13:47:03.004170",
     "status": "completed"
    },
    "tags": []
   },
   "source": [
    "## Работа с пропусками"
   ]
  },
  {
   "cell_type": "code",
   "execution_count": 59,
   "metadata": {
    "execution": {
     "iopub.execute_input": "2022-02-20T13:47:03.295726Z",
     "iopub.status.busy": "2022-02-20T13:47:03.294600Z",
     "iopub.status.idle": "2022-02-20T13:47:03.525670Z",
     "shell.execute_reply": "2022-02-20T13:47:03.525114Z",
     "shell.execute_reply.started": "2022-02-15T13:09:32.307400Z"
    },
    "papermill": {
     "duration": 0.33326,
     "end_time": "2022-02-20T13:47:03.525793",
     "exception": false,
     "start_time": "2022-02-20T13:47:03.192533",
     "status": "completed"
    },
    "tags": []
   },
   "outputs": [
    {
     "data": {
      "text/plain": [
       "body_type                    1\n",
       "brand                        0\n",
       "color                        0\n",
       "features                 28268\n",
       "description               3254\n",
       "engine_displacement          1\n",
       "engine_power                 1\n",
       "fuel_type                    0\n",
       "mileage                      0\n",
       "model_date                   1\n",
       "model_name                   0\n",
       "name                         1\n",
       "number_of_doors              1\n",
       "production_date              0\n",
       "sell_id                      0\n",
       "vehicle_configuration        1\n",
       "vehicle_transmission         1\n",
       "owners                   13588\n",
       "ownership                82868\n",
       "car_passport               362\n",
       "drive                        1\n",
       "steering_wheel               0\n",
       "customs                      0\n",
       "price                      410\n",
       "sample                       0\n",
       "is_mileage_zero              0\n",
       "dtype: int64"
      ]
     },
     "execution_count": 59,
     "metadata": {},
     "output_type": "execute_result"
    }
   ],
   "source": [
    "data.isna().sum()"
   ]
  },
  {
   "cell_type": "code",
   "execution_count": 60,
   "metadata": {
    "execution": {
     "iopub.execute_input": "2022-02-20T13:47:03.708085Z",
     "iopub.status.busy": "2022-02-20T13:47:03.707040Z",
     "iopub.status.idle": "2022-02-20T13:47:03.882563Z",
     "shell.execute_reply": "2022-02-20T13:47:03.883227Z",
     "shell.execute_reply.started": "2022-02-18T12:48:04.389129Z"
    },
    "papermill": {
     "duration": 0.269227,
     "end_time": "2022-02-20T13:47:03.883426",
     "exception": false,
     "start_time": "2022-02-20T13:47:03.614199",
     "status": "completed"
    },
    "tags": []
   },
   "outputs": [],
   "source": [
    "# Очень много колонок, где по одному пропуску. Эти пропуски просто удалим.\n",
    "data.dropna(axis=0, subset=['body_type','engine_displacement','engine_power','model_date','name',\n",
    "                            'number_of_doors','vehicle_configuration','vehicle_transmission','drive'],\n",
    "           inplace=True)"
   ]
  },
  {
   "cell_type": "markdown",
   "metadata": {
    "papermill": {
     "duration": 0.089301,
     "end_time": "2022-02-20T13:47:04.069216",
     "exception": false,
     "start_time": "2022-02-20T13:47:03.979915",
     "status": "completed"
    },
    "tags": []
   },
   "source": [
    "**Остальные пропуски будем заполнять. Сделаем это чуть позже.**"
   ]
  },
  {
   "cell_type": "markdown",
   "metadata": {
    "papermill": {
     "duration": 0.087541,
     "end_time": "2022-02-20T13:47:04.244126",
     "exception": false,
     "start_time": "2022-02-20T13:47:04.156585",
     "status": "completed"
    },
    "tags": []
   },
   "source": [
    "## Работа с категориальными признаками"
   ]
  },
  {
   "cell_type": "code",
   "execution_count": 61,
   "metadata": {
    "execution": {
     "iopub.execute_input": "2022-02-20T13:47:04.426426Z",
     "iopub.status.busy": "2022-02-20T13:47:04.425764Z",
     "iopub.status.idle": "2022-02-20T13:47:04.427585Z",
     "shell.execute_reply": "2022-02-20T13:47:04.428168Z",
     "shell.execute_reply.started": "2022-02-18T12:48:08.605883Z"
    },
    "papermill": {
     "duration": 0.096285,
     "end_time": "2022-02-20T13:47:04.428327",
     "exception": false,
     "start_time": "2022-02-20T13:47:04.332042",
     "status": "completed"
    },
    "tags": []
   },
   "outputs": [],
   "source": [
    "# Выпишем отдельно категориальные колонки\n",
    "cat_columns=['body_type', 'brand', 'color', 'features', 'description',\n",
    "       'engine_displacement', 'engine_power', 'fuel_type',\n",
    "       'model_name', 'name',\n",
    "       'sell_id', 'vehicle_configuration',\n",
    "       'vehicle_transmission', 'ownership', 'car_passport', 'drive',\n",
    "       'steering_wheel', 'customs']"
   ]
  },
  {
   "cell_type": "code",
   "execution_count": 62,
   "metadata": {
    "execution": {
     "iopub.execute_input": "2022-02-20T13:47:04.606210Z",
     "iopub.status.busy": "2022-02-20T13:47:04.605580Z",
     "iopub.status.idle": "2022-02-20T13:47:05.052756Z",
     "shell.execute_reply": "2022-02-20T13:47:05.052025Z",
     "shell.execute_reply.started": "2022-02-18T12:48:12.593852Z"
    },
    "papermill": {
     "duration": 0.537394,
     "end_time": "2022-02-20T13:47:05.052890",
     "exception": false,
     "start_time": "2022-02-20T13:47:04.515496",
     "status": "completed"
    },
    "tags": []
   },
   "outputs": [
    {
     "name": "stdout",
     "output_type": "stream",
     "text": [
      "Количество уникальных значений для колонки body_type равно 192\n",
      "Количество уникальных значений для колонки brand равно 36\n",
      "Количество уникальных значений для колонки color равно 32\n",
      "Количество уникальных значений для колонки features равно 8203\n",
      "Количество уникальных значений для колонки description равно 100105\n",
      "Количество уникальных значений для колонки engine_displacement равно 589\n",
      "Количество уникальных значений для колонки engine_power равно 398\n",
      "Количество уникальных значений для колонки fuel_type равно 5\n",
      "Количество уникальных значений для колонки model_name равно 1104\n",
      "Количество уникальных значений для колонки name равно 4774\n",
      "Количество уникальных значений для колонки sell_id равно 34687\n",
      "Количество уникальных значений для колонки vehicle_configuration равно 2023\n",
      "Количество уникальных значений для колонки vehicle_transmission равно 8\n",
      "Количество уникальных значений для колонки ownership равно 565\n",
      "Количество уникальных значений для колонки car_passport равно 4\n",
      "Количество уникальных значений для колонки drive равно 3\n",
      "Количество уникальных значений для колонки steering_wheel равно 4\n",
      "Количество уникальных значений для колонки customs равно 2\n"
     ]
    }
   ],
   "source": [
    "# Выведем количество уникальных значений для категориальных колонок\n",
    "for i in cat_columns:\n",
    "    print(\"Количество уникальных значений для колонки {} равно {}\".format(i,data[i].nunique()))"
   ]
  },
  {
   "cell_type": "code",
   "execution_count": 63,
   "metadata": {
    "execution": {
     "iopub.execute_input": "2022-02-20T13:47:05.265609Z",
     "iopub.status.busy": "2022-02-20T13:47:05.248810Z",
     "iopub.status.idle": "2022-02-20T13:47:05.323191Z",
     "shell.execute_reply": "2022-02-20T13:47:05.323723Z",
     "shell.execute_reply.started": "2022-02-18T12:48:17.144099Z"
    },
    "papermill": {
     "duration": 0.18204,
     "end_time": "2022-02-20T13:47:05.323898",
     "exception": false,
     "start_time": "2022-02-20T13:47:05.141858",
     "status": "completed"
    },
    "tags": []
   },
   "outputs": [],
   "source": [
    "# Найдем 10 наиболее часто встречающихся body_type\n",
    "most_common_body_types=Counter(data['body_type'].str.cat(sep='/').lower().split('/')).most_common(10)"
   ]
  },
  {
   "cell_type": "code",
   "execution_count": 64,
   "metadata": {
    "execution": {
     "iopub.execute_input": "2022-02-20T13:47:05.513745Z",
     "iopub.status.busy": "2022-02-20T13:47:05.512624Z",
     "iopub.status.idle": "2022-02-20T13:47:05.516915Z",
     "shell.execute_reply": "2022-02-20T13:47:05.516402Z",
     "shell.execute_reply.started": "2022-02-18T12:48:21.008809Z"
    },
    "papermill": {
     "duration": 0.098546,
     "end_time": "2022-02-20T13:47:05.517048",
     "exception": false,
     "start_time": "2022-02-20T13:47:05.418502",
     "status": "completed"
    },
    "tags": []
   },
   "outputs": [
    {
     "data": {
      "text/plain": [
       "['внедорожник 5 дв.',\n",
       " 'седан',\n",
       " 'хэтчбек 5 дв.',\n",
       " 'лифтбек',\n",
       " 'универсал 5 дв.',\n",
       " 'минивэн',\n",
       " 'компактвэн',\n",
       " 'купе',\n",
       " 'хэтчбек 3 дв.',\n",
       " 'седан long']"
      ]
     },
     "execution_count": 64,
     "metadata": {},
     "output_type": "execute_result"
    }
   ],
   "source": [
    "# Соберем из списка кортежей просто список\n",
    "list_of_most_common_body_types=[]\n",
    "for i in most_common_body_types:\n",
    "    list_of_most_common_body_types.append(i[0])\n",
    "list_of_most_common_body_types"
   ]
  },
  {
   "cell_type": "code",
   "execution_count": 65,
   "metadata": {
    "execution": {
     "iopub.execute_input": "2022-02-20T13:47:05.701329Z",
     "iopub.status.busy": "2022-02-20T13:47:05.700351Z",
     "iopub.status.idle": "2022-02-20T13:47:05.703821Z",
     "shell.execute_reply": "2022-02-20T13:47:05.703167Z",
     "shell.execute_reply.started": "2022-02-18T12:48:25.210328Z"
    },
    "papermill": {
     "duration": 0.097857,
     "end_time": "2022-02-20T13:47:05.703937",
     "exception": false,
     "start_time": "2022-02-20T13:47:05.606080",
     "status": "completed"
    },
    "tags": []
   },
   "outputs": [],
   "source": [
    "# Функция, которая проверяет, есть ли в данной ячейке элемент из списка list_of_most_common_body_types\n",
    "def create_dummy_column(some_list):\n",
    "    if col in some_list:\n",
    "        return 1\n",
    "    else:\n",
    "        return 0  "
   ]
  },
  {
   "cell_type": "code",
   "execution_count": 66,
   "metadata": {
    "execution": {
     "iopub.execute_input": "2022-02-20T13:47:05.885924Z",
     "iopub.status.busy": "2022-02-20T13:47:05.884882Z",
     "iopub.status.idle": "2022-02-20T13:47:06.673614Z",
     "shell.execute_reply": "2022-02-20T13:47:06.672026Z",
     "shell.execute_reply.started": "2022-02-18T12:48:30.501237Z"
    },
    "papermill": {
     "duration": 0.881612,
     "end_time": "2022-02-20T13:47:06.673761",
     "exception": false,
     "start_time": "2022-02-20T13:47:05.792149",
     "status": "completed"
    },
    "tags": []
   },
   "outputs": [],
   "source": [
    "# Создадаим новые признаки с помощью функции create_dummy_column - аналоги dummy-переменных\n",
    "for col in list_of_most_common_body_types:\n",
    "    data[col]=data['body_type'].apply(create_dummy_column)"
   ]
  },
  {
   "cell_type": "markdown",
   "metadata": {
    "papermill": {
     "duration": 0.088166,
     "end_time": "2022-02-20T13:47:06.850251",
     "exception": false,
     "start_time": "2022-02-20T13:47:06.762085",
     "status": "completed"
    },
    "tags": []
   },
   "source": [
    "**Аналогичным образом обработаем колонки brand, color**"
   ]
  },
  {
   "cell_type": "code",
   "execution_count": 67,
   "metadata": {
    "execution": {
     "iopub.execute_input": "2022-02-20T13:47:07.033563Z",
     "iopub.status.busy": "2022-02-20T13:47:07.032523Z",
     "iopub.status.idle": "2022-02-20T13:47:07.101801Z",
     "shell.execute_reply": "2022-02-20T13:47:07.102497Z",
     "shell.execute_reply.started": "2022-02-18T12:48:38.024601Z"
    },
    "papermill": {
     "duration": 0.162649,
     "end_time": "2022-02-20T13:47:07.102665",
     "exception": false,
     "start_time": "2022-02-20T13:47:06.940016",
     "status": "completed"
    },
    "tags": []
   },
   "outputs": [
    {
     "data": {
      "text/plain": [
       "['mercedes',\n",
       " 'bmw',\n",
       " 'volkswagen',\n",
       " 'nissan',\n",
       " 'toyota',\n",
       " 'audi',\n",
       " 'mitsubishi',\n",
       " 'hyundai',\n",
       " 'kia',\n",
       " 'skoda']"
      ]
     },
     "execution_count": 67,
     "metadata": {},
     "output_type": "execute_result"
    }
   ],
   "source": [
    "most_common_brands=Counter(data['brand'].str.cat(sep='/').lower().split('/')).most_common(10)\n",
    "\n",
    "list_of_most_common_brands=[]\n",
    "for i in most_common_brands:\n",
    "    list_of_most_common_brands.append(i[0])\n",
    "list_of_most_common_brands"
   ]
  },
  {
   "cell_type": "code",
   "execution_count": 68,
   "metadata": {
    "execution": {
     "iopub.execute_input": "2022-02-20T13:47:07.285739Z",
     "iopub.status.busy": "2022-02-20T13:47:07.284715Z",
     "iopub.status.idle": "2022-02-20T13:47:08.056095Z",
     "shell.execute_reply": "2022-02-20T13:47:08.055387Z",
     "shell.execute_reply.started": "2022-02-18T12:48:54.901854Z"
    },
    "papermill": {
     "duration": 0.863936,
     "end_time": "2022-02-20T13:47:08.056216",
     "exception": false,
     "start_time": "2022-02-20T13:47:07.192280",
     "status": "completed"
    },
    "tags": []
   },
   "outputs": [],
   "source": [
    "for col in list_of_most_common_brands:\n",
    "    data[col]=data['brand'].apply(create_dummy_column)"
   ]
  },
  {
   "cell_type": "code",
   "execution_count": 69,
   "metadata": {
    "execution": {
     "iopub.execute_input": "2022-02-20T13:47:08.237954Z",
     "iopub.status.busy": "2022-02-20T13:47:08.237263Z",
     "iopub.status.idle": "2022-02-20T13:47:08.252709Z",
     "shell.execute_reply": "2022-02-20T13:47:08.253213Z",
     "shell.execute_reply.started": "2022-02-18T12:49:01.412013Z"
    },
    "papermill": {
     "duration": 0.107532,
     "end_time": "2022-02-20T13:47:08.253391",
     "exception": false,
     "start_time": "2022-02-20T13:47:08.145859",
     "status": "completed"
    },
    "tags": []
   },
   "outputs": [
    {
     "data": {
      "text/plain": [
       "array(['синий', 'чёрный', 'серый', 'коричневый', 'белый', 'пурпурный',\n",
       "       'бежевый', 'серебристый', 'красный', 'зелёный', 'жёлтый',\n",
       "       'голубой', 'оранжевый', 'фиолетовый', 'золотистый', 'розовый',\n",
       "       '040001', 'EE1D19', '0000CC', 'CACECB', '007F00', 'FAFBFB',\n",
       "       '97948F', '22A0F8', '660099', '200204', 'C49648', 'DEA522',\n",
       "       '4A2197', 'FFD600', 'FF8649', 'FFC0CB'], dtype=object)"
      ]
     },
     "execution_count": 69,
     "metadata": {},
     "output_type": "execute_result"
    }
   ],
   "source": [
    "# В колонке color часть цветов написана по-русски, а часть - в виде кодировки. К сожалению, не очень \n",
    "# понятно, повторяются цвета или нет. Под кодировкой имеется в виду конкретный оттенок (например,\n",
    "# светло-зеленый). Но то имеется в виду просто под \"зеленый\"? Для простоты будем считать, что все это - \n",
    "# разные цвета.\n",
    "data['color'].unique()"
   ]
  },
  {
   "cell_type": "code",
   "execution_count": 70,
   "metadata": {
    "execution": {
     "iopub.execute_input": "2022-02-20T13:47:08.437218Z",
     "iopub.status.busy": "2022-02-20T13:47:08.436504Z",
     "iopub.status.idle": "2022-02-20T13:47:08.510115Z",
     "shell.execute_reply": "2022-02-20T13:47:08.510633Z",
     "shell.execute_reply.started": "2022-02-18T12:49:06.089456Z"
    },
    "papermill": {
     "duration": 0.166714,
     "end_time": "2022-02-20T13:47:08.510794",
     "exception": false,
     "start_time": "2022-02-20T13:47:08.344080",
     "status": "completed"
    },
    "tags": []
   },
   "outputs": [
    {
     "data": {
      "text/plain": [
       "['040001',\n",
       " 'fafbfb',\n",
       " 'cacecb',\n",
       " 'чёрный',\n",
       " '97948f',\n",
       " '0000cc',\n",
       " 'белый',\n",
       " 'ee1d19',\n",
       " 'серебристый',\n",
       " 'серый']"
      ]
     },
     "execution_count": 70,
     "metadata": {},
     "output_type": "execute_result"
    }
   ],
   "source": [
    "# Найдем 10 наиболее часто встречающихся цветов\n",
    "most_common_colors=Counter(data['color'].str.cat(sep='/').lower().split('/')).most_common(10)\n",
    "\n",
    "list_of_most_common_colors=[]\n",
    "for i in most_common_colors:\n",
    "    list_of_most_common_colors.append(i[0])\n",
    "list_of_most_common_colors"
   ]
  },
  {
   "cell_type": "code",
   "execution_count": 71,
   "metadata": {
    "execution": {
     "iopub.execute_input": "2022-02-20T13:47:08.694265Z",
     "iopub.status.busy": "2022-02-20T13:47:08.693590Z",
     "iopub.status.idle": "2022-02-20T13:47:09.479859Z",
     "shell.execute_reply": "2022-02-20T13:47:09.480370Z",
     "shell.execute_reply.started": "2022-02-18T12:50:04.764657Z"
    },
    "papermill": {
     "duration": 0.879571,
     "end_time": "2022-02-20T13:47:09.480535",
     "exception": false,
     "start_time": "2022-02-20T13:47:08.600964",
     "status": "completed"
    },
    "tags": []
   },
   "outputs": [],
   "source": [
    "for col in list_of_most_common_colors:\n",
    "    data[col]=data['color'].apply(create_dummy_column)"
   ]
  },
  {
   "cell_type": "code",
   "execution_count": 45,
   "metadata": {
    "execution": {
     "iopub.execute_input": "2022-02-20T13:47:09.663427Z",
     "iopub.status.busy": "2022-02-20T13:47:09.662739Z",
     "iopub.status.idle": "2022-02-20T13:47:09.665623Z",
     "shell.execute_reply": "2022-02-20T13:47:09.666121Z",
     "shell.execute_reply.started": "2022-02-20T12:35:09.201958Z"
    },
    "papermill": {
     "duration": 0.095862,
     "end_time": "2022-02-20T13:47:09.666263",
     "exception": false,
     "start_time": "2022-02-20T13:47:09.570401",
     "status": "completed"
    },
    "tags": []
   },
   "outputs": [],
   "source": [
    "# Колонки fuel_type, vehicle_transmission, car_passport, drive, steering_wheel и customs я планирую \n",
    "# обработать с помощью OneHotEncoder"
   ]
  },
  {
   "cell_type": "code",
   "execution_count": 72,
   "metadata": {
    "execution": {
     "iopub.execute_input": "2022-02-20T13:47:09.856123Z",
     "iopub.status.busy": "2022-02-20T13:47:09.855434Z",
     "iopub.status.idle": "2022-02-20T13:47:09.908383Z",
     "shell.execute_reply": "2022-02-20T13:47:09.908942Z",
     "shell.execute_reply.started": "2022-02-18T12:50:11.677764Z"
    },
    "papermill": {
     "duration": 0.149274,
     "end_time": "2022-02-20T13:47:09.909091",
     "exception": false,
     "start_time": "2022-02-20T13:47:09.759817",
     "status": "completed"
    },
    "tags": []
   },
   "outputs": [],
   "source": [
    "# В колонке vehicle_transmission есть повторяющаяся информация на русском и на английском. Приведем\n",
    "# ее к единому виду\n",
    "dict_of_transmissions={'роботизированная':'ROBOT','механическая':'MECHANICAL',\n",
    "                       'автоматическая':'AUTOMATIC','вариатор':'VARIATOR'}\n",
    "data['vehicle_transmission']=data['vehicle_transmission'].apply(lambda x: dict_of_transmissions[x] if\n",
    "                                                               x in dict_of_transmissions.keys() else x)"
   ]
  },
  {
   "cell_type": "code",
   "execution_count": 73,
   "metadata": {
    "execution": {
     "iopub.execute_input": "2022-02-20T13:47:10.095456Z",
     "iopub.status.busy": "2022-02-20T13:47:10.094177Z",
     "iopub.status.idle": "2022-02-20T13:47:10.148233Z",
     "shell.execute_reply": "2022-02-20T13:47:10.148878Z",
     "shell.execute_reply.started": "2022-02-18T12:50:17.391372Z"
    },
    "papermill": {
     "duration": 0.149117,
     "end_time": "2022-02-20T13:47:10.149040",
     "exception": false,
     "start_time": "2022-02-20T13:47:09.999923",
     "status": "completed"
    },
    "tags": []
   },
   "outputs": [],
   "source": [
    "# Аналогичная ситуация с колонкой car_passport\n",
    "dict_of_car_passports={'Оригинал':'ORIGINAL','Дубликат':'DUPLICATE'}\n",
    "data['car_passport']=data['car_passport'].apply(lambda x: dict_of_car_passports[x] if x in \n",
    "                                               dict_of_car_passports.keys() else x)"
   ]
  },
  {
   "cell_type": "code",
   "execution_count": 74,
   "metadata": {
    "execution": {
     "iopub.execute_input": "2022-02-20T13:47:10.335331Z",
     "iopub.status.busy": "2022-02-20T13:47:10.334625Z",
     "iopub.status.idle": "2022-02-20T13:47:10.447696Z",
     "shell.execute_reply": "2022-02-20T13:47:10.447021Z",
     "shell.execute_reply.started": "2022-02-18T12:50:39.304003Z"
    },
    "papermill": {
     "duration": 0.207675,
     "end_time": "2022-02-20T13:47:10.447825",
     "exception": false,
     "start_time": "2022-02-20T13:47:10.240150",
     "status": "completed"
    },
    "tags": []
   },
   "outputs": [],
   "source": [
    "# Заполним пропуски в колонке car_passport. Заполнять будем случайными значениями из уже имеющихся\n",
    "prob = data['car_passport'].value_counts(normalize=True)\n",
    "ind = data[data['car_passport'].isna()==True].index\n",
    "fill_list = pd.Series(random.choices(prob.index, prob, k=data['car_passport'].isna().sum()))\n",
    "fill_list.index = ind\n",
    "data['car_passport']=data['car_passport'].fillna(fill_list)"
   ]
  },
  {
   "cell_type": "code",
   "execution_count": 75,
   "metadata": {
    "execution": {
     "iopub.execute_input": "2022-02-20T13:47:10.633911Z",
     "iopub.status.busy": "2022-02-20T13:47:10.633213Z",
     "iopub.status.idle": "2022-02-20T13:47:10.683669Z",
     "shell.execute_reply": "2022-02-20T13:47:10.683097Z",
     "shell.execute_reply.started": "2022-02-18T12:50:57.095973Z"
    },
    "papermill": {
     "duration": 0.145998,
     "end_time": "2022-02-20T13:47:10.683802",
     "exception": false,
     "start_time": "2022-02-20T13:47:10.537804",
     "status": "completed"
    },
    "tags": []
   },
   "outputs": [],
   "source": [
    "# Аналогичная ситуация с колонкой steering_wheel\n",
    "dict_of_steering_wheels={'Левый':'LEFT','Правый':'RIGHT'}\n",
    "data['steering_wheel']=data['steering_wheel'].apply(lambda x: dict_of_steering_wheels[x] if x in \n",
    "                                               dict_of_steering_wheels.keys() else x)"
   ]
  },
  {
   "cell_type": "code",
   "execution_count": 76,
   "metadata": {
    "execution": {
     "iopub.execute_input": "2022-02-20T13:47:10.888259Z",
     "iopub.status.busy": "2022-02-20T13:47:10.887549Z",
     "iopub.status.idle": "2022-02-20T13:47:10.937480Z",
     "shell.execute_reply": "2022-02-20T13:47:10.936780Z",
     "shell.execute_reply.started": "2022-02-18T12:51:02.312984Z"
    },
    "papermill": {
     "duration": 0.162592,
     "end_time": "2022-02-20T13:47:10.937606",
     "exception": false,
     "start_time": "2022-02-20T13:47:10.775014",
     "status": "completed"
    },
    "tags": []
   },
   "outputs": [
    {
     "name": "stdout",
     "output_type": "stream",
     "text": [
      "True          89377\n",
      "Растаможен    34686\n",
      "Name: customs, dtype: int64\n"
     ]
    }
   ],
   "source": [
    "# В колонке customs два значения - True и Растаможен. Но это одно и то же, так как в трейне встречается \n",
    "# только True, а в тесте - только Растаможен. Получается, этот признак не несет никакой полезной \n",
    "# информации для модели. Значит, его можно удалить.\n",
    "print(data['customs'].value_counts())\n",
    "data.drop(columns=['customs'], inplace=True)"
   ]
  },
  {
   "cell_type": "markdown",
   "metadata": {
    "papermill": {
     "duration": 0.089791,
     "end_time": "2022-02-20T13:47:11.494878",
     "exception": false,
     "start_time": "2022-02-20T13:47:11.405087",
     "status": "completed"
    },
    "tags": []
   },
   "source": [
    "## Подготовка данных к загрузке в модель"
   ]
  },
  {
   "cell_type": "code",
   "execution_count": 77,
   "metadata": {
    "execution": {
     "iopub.execute_input": "2022-02-20T13:47:11.682701Z",
     "iopub.status.busy": "2022-02-20T13:47:11.681686Z",
     "iopub.status.idle": "2022-02-20T13:47:11.730168Z",
     "shell.execute_reply": "2022-02-20T13:47:11.729606Z",
     "shell.execute_reply.started": "2022-02-18T12:51:09.622971Z"
    },
    "papermill": {
     "duration": 0.145116,
     "end_time": "2022-02-20T13:47:11.730323",
     "exception": false,
     "start_time": "2022-02-20T13:47:11.585207",
     "status": "completed"
    },
    "tags": []
   },
   "outputs": [],
   "source": [
    "# Удалим пропуски целевой переменной\n",
    "data.dropna(axis=0,subset=['price'],inplace=True)"
   ]
  },
  {
   "cell_type": "code",
   "execution_count": 78,
   "metadata": {
    "execution": {
     "iopub.execute_input": "2022-02-20T13:47:11.919400Z",
     "iopub.status.busy": "2022-02-20T13:47:11.918421Z",
     "iopub.status.idle": "2022-02-20T13:47:11.923006Z",
     "shell.execute_reply": "2022-02-20T13:47:11.922376Z",
     "shell.execute_reply.started": "2022-02-16T12:36:09.106309Z"
    },
    "papermill": {
     "duration": 0.102091,
     "end_time": "2022-02-20T13:47:11.923130",
     "exception": false,
     "start_time": "2022-02-20T13:47:11.821039",
     "status": "completed"
    },
    "tags": []
   },
   "outputs": [
    {
     "data": {
      "text/plain": [
       "Index(['body_type', 'brand', 'color', 'features', 'description',\n",
       "       'engine_displacement', 'engine_power', 'fuel_type', 'mileage',\n",
       "       'model_date', 'model_name', 'name', 'number_of_doors',\n",
       "       'production_date', 'sell_id', 'vehicle_configuration',\n",
       "       'vehicle_transmission', 'owners', 'ownership', 'car_passport', 'drive',\n",
       "       'steering_wheel', 'price', 'sample', 'is_mileage_zero',\n",
       "       'внедорожник 5 дв.', 'седан', 'хэтчбек 5 дв.', 'лифтбек',\n",
       "       'универсал 5 дв.', 'минивэн', 'компактвэн', 'купе', 'хэтчбек 3 дв.',\n",
       "       'седан long', 'mercedes', 'bmw', 'volkswagen', 'nissan', 'toyota',\n",
       "       'audi', 'mitsubishi', 'hyundai', 'kia', 'skoda', '040001', 'fafbfb',\n",
       "       'cacecb', 'чёрный', '97948f', '0000cc', 'белый', 'ee1d19',\n",
       "       'серебристый', 'серый'],\n",
       "      dtype='object')"
      ]
     },
     "execution_count": 78,
     "metadata": {},
     "output_type": "execute_result"
    }
   ],
   "source": [
    "data.columns"
   ]
  },
  {
   "cell_type": "code",
   "execution_count": 55,
   "metadata": {
    "execution": {
     "iopub.execute_input": "2022-02-20T13:47:12.111470Z",
     "iopub.status.busy": "2022-02-20T13:47:12.110723Z",
     "iopub.status.idle": "2022-02-20T13:47:12.112996Z",
     "shell.execute_reply": "2022-02-20T13:47:12.113531Z"
    },
    "papermill": {
     "duration": 0.099482,
     "end_time": "2022-02-20T13:47:12.113677",
     "exception": false,
     "start_time": "2022-02-20T13:47:12.014195",
     "status": "completed"
    },
    "tags": []
   },
   "outputs": [],
   "source": [
    "# Колонки fuel_type, vehicle_transmission, car_passport, drive, steering_wheel, number_of_doors,\n",
    "# owners я планирую обработать с помощью OneHotEncoder"
   ]
  },
  {
   "cell_type": "code",
   "execution_count": 79,
   "metadata": {
    "execution": {
     "iopub.execute_input": "2022-02-20T13:47:12.301975Z",
     "iopub.status.busy": "2022-02-20T13:47:12.301164Z",
     "iopub.status.idle": "2022-02-20T13:47:12.372480Z",
     "shell.execute_reply": "2022-02-20T13:47:12.371825Z",
     "shell.execute_reply.started": "2022-02-18T12:51:14.559746Z"
    },
    "papermill": {
     "duration": 0.165438,
     "end_time": "2022-02-20T13:47:12.372612",
     "exception": false,
     "start_time": "2022-02-20T13:47:12.207174",
     "status": "completed"
    },
    "tags": []
   },
   "outputs": [],
   "source": [
    "train_data=data.query('sample==1').drop(columns=['body_type','brand','color','features','description',\n",
    "                                                 'engine_displacement','engine_power','model_name',\n",
    "                                                'name','sell_id','vehicle_configuration','ownership',\n",
    "                                                'sample','owners'], axis=1)\n",
    "test_data=data.query('sample==0').drop(columns=['body_type','brand','color','features','description',\n",
    "                                                 'engine_displacement','engine_power','model_name',\n",
    "                                                'name','sell_id','vehicle_configuration','ownership',\n",
    "                                                'sample','owners','price'], axis=1)"
   ]
  },
  {
   "cell_type": "code",
   "execution_count": 80,
   "metadata": {
    "execution": {
     "iopub.execute_input": "2022-02-20T13:47:12.558494Z",
     "iopub.status.busy": "2022-02-20T13:47:12.557782Z",
     "iopub.status.idle": "2022-02-20T13:47:12.583796Z",
     "shell.execute_reply": "2022-02-20T13:47:12.584394Z",
     "shell.execute_reply.started": "2022-02-18T12:51:21.414586Z"
    },
    "papermill": {
     "duration": 0.1206,
     "end_time": "2022-02-20T13:47:12.584557",
     "exception": false,
     "start_time": "2022-02-20T13:47:12.463957",
     "status": "completed"
    },
    "tags": []
   },
   "outputs": [],
   "source": [
    "train_data_numeric=train_data[['mileage','model_date','production_date']]\n",
    "test_data_numeric=test_data[['mileage','model_date','production_date']]\n",
    "\n",
    "scaler=RobustScaler()\n",
    "\n",
    "train_data_numeric=scaler.fit_transform(train_data_numeric)\n",
    "test_data_numeric=scaler.transform(test_data_numeric)"
   ]
  },
  {
   "cell_type": "code",
   "execution_count": 81,
   "metadata": {
    "execution": {
     "iopub.execute_input": "2022-02-20T13:47:12.772760Z",
     "iopub.status.busy": "2022-02-20T13:47:12.772083Z",
     "iopub.status.idle": "2022-02-20T13:47:13.182985Z",
     "shell.execute_reply": "2022-02-20T13:47:13.183588Z",
     "shell.execute_reply.started": "2022-02-18T12:51:25.724293Z"
    },
    "papermill": {
     "duration": 0.506343,
     "end_time": "2022-02-20T13:47:13.183776",
     "exception": false,
     "start_time": "2022-02-20T13:47:12.677433",
     "status": "completed"
    },
    "tags": []
   },
   "outputs": [],
   "source": [
    "columns=['fuel_type','vehicle_transmission','car_passport','drive','steering_wheel','number_of_doors']\n",
    "\n",
    "ohe_train=OneHotEncoder(sparse=False)\n",
    "X_cat_train=ohe_train.fit_transform(train_data[columns].values)\n",
    "\n",
    "ohe_test=OneHotEncoder(sparse=False)\n",
    "X_cat_test=ohe_test.fit_transform(test_data[columns].values)"
   ]
  },
  {
   "cell_type": "code",
   "execution_count": 82,
   "metadata": {
    "execution": {
     "iopub.execute_input": "2022-02-20T13:47:13.372210Z",
     "iopub.status.busy": "2022-02-20T13:47:13.371527Z",
     "iopub.status.idle": "2022-02-20T13:47:13.427568Z",
     "shell.execute_reply": "2022-02-20T13:47:13.426932Z",
     "shell.execute_reply.started": "2022-02-18T12:51:31.913726Z"
    },
    "papermill": {
     "duration": 0.152429,
     "end_time": "2022-02-20T13:47:13.427710",
     "exception": false,
     "start_time": "2022-02-20T13:47:13.275281",
     "status": "completed"
    },
    "tags": []
   },
   "outputs": [],
   "source": [
    "train_data_other=train_data.drop(columns=['mileage','model_date','production_date','fuel_type',\n",
    "                                          'vehicle_transmission','car_passport','drive',\n",
    "                                          'steering_wheel','number_of_doors','price'], axis=1)\n",
    "test_data_other=test_data.drop(columns=['mileage','model_date','production_date','fuel_type',\n",
    "                                          'vehicle_transmission','car_passport','drive',\n",
    "                                          'steering_wheel','number_of_doors'], axis=1)\n",
    "X=np.hstack([train_data_numeric,X_cat_train,train_data_other])\n",
    "X_valid=np.hstack([test_data_numeric,X_cat_test,test_data_other])\n",
    "\n",
    "y=train_data['price']"
   ]
  },
  {
   "cell_type": "code",
   "execution_count": 85,
   "metadata": {
    "execution": {
     "iopub.execute_input": "2022-02-20T13:47:13.615463Z",
     "iopub.status.busy": "2022-02-20T13:47:13.614769Z",
     "iopub.status.idle": "2022-02-20T13:47:13.639715Z",
     "shell.execute_reply": "2022-02-20T13:47:13.640204Z",
     "shell.execute_reply.started": "2022-02-18T12:51:39.108376Z"
    },
    "papermill": {
     "duration": 0.121818,
     "end_time": "2022-02-20T13:47:13.640390",
     "exception": false,
     "start_time": "2022-02-20T13:47:13.518572",
     "status": "completed"
    },
    "tags": []
   },
   "outputs": [],
   "source": [
    "# Разделим данные из трейна на трейн и тест\n",
    "X_train,X_test,y_train,y_test=train_test_split(X,y,test_size=VAL_SIZE, shuffle=True, random_state=RANDOM_SEED)"
   ]
  },
  {
   "cell_type": "code",
   "execution_count": 86,
   "metadata": {
    "execution": {
     "iopub.execute_input": "2022-02-20T13:47:13.828560Z",
     "iopub.status.busy": "2022-02-20T13:47:13.827900Z",
     "iopub.status.idle": "2022-02-20T13:47:13.833795Z",
     "shell.execute_reply": "2022-02-20T13:47:13.834370Z",
     "shell.execute_reply.started": "2022-02-18T12:51:43.113877Z"
    },
    "papermill": {
     "duration": 0.102793,
     "end_time": "2022-02-20T13:47:13.834533",
     "exception": false,
     "start_time": "2022-02-20T13:47:13.731740",
     "status": "completed"
    },
    "tags": []
   },
   "outputs": [
    {
     "data": {
      "text/plain": [
       "((71173, 55), (17794, 55), (71173,), (17794,), (34686, 55))"
      ]
     },
     "execution_count": 86,
     "metadata": {},
     "output_type": "execute_result"
    }
   ],
   "source": [
    "X_train.shape,X_test.shape,y_train.shape,y_test.shape, X_valid.shape"
   ]
  },
  {
   "cell_type": "markdown",
   "metadata": {
    "papermill": {
     "duration": 0.096207,
     "end_time": "2022-02-20T13:47:14.771992",
     "exception": false,
     "start_time": "2022-02-20T13:47:14.675785",
     "status": "completed"
    },
    "tags": []
   },
   "source": [
    "## Обучение модели"
   ]
  },
  {
   "cell_type": "markdown",
   "metadata": {},
   "source": [
    "## Градиентный бустинг"
   ]
  },
  {
   "cell_type": "code",
   "execution_count": 87,
   "metadata": {
    "execution": {
     "iopub.execute_input": "2022-02-20T13:47:14.981875Z",
     "iopub.status.busy": "2022-02-20T13:47:14.981164Z",
     "iopub.status.idle": "2022-02-20T13:47:27.430624Z",
     "shell.execute_reply": "2022-02-20T13:47:27.429909Z",
     "shell.execute_reply.started": "2022-02-18T13:00:30.819873Z"
    },
    "papermill": {
     "duration": 12.549692,
     "end_time": "2022-02-20T13:47:27.430800",
     "exception": false,
     "start_time": "2022-02-20T13:47:14.881108",
     "status": "completed"
    },
    "tags": []
   },
   "outputs": [],
   "source": [
    "# Я не очень хочу использовать CatBoost. Вместо этого я буду пользоваться градиентным бустингом.\n",
    "# Для начала возьмем градиентный бустинг с параметрами по умолчанию\n",
    "gbr=GradientBoostingRegressor()\n",
    "\n",
    "gbr.fit(X_train,y_train)\n",
    "y_pred_test=gbr.predict(X_test)\n",
    "y_pred_train=gbr.predict(X_train)"
   ]
  },
  {
   "cell_type": "code",
   "execution_count": 88,
   "metadata": {
    "execution": {
     "iopub.execute_input": "2022-02-20T13:47:27.623903Z",
     "iopub.status.busy": "2022-02-20T13:47:27.622879Z",
     "iopub.status.idle": "2022-02-20T13:47:27.633065Z",
     "shell.execute_reply": "2022-02-20T13:47:27.633804Z",
     "shell.execute_reply.started": "2022-02-18T13:02:13.381469Z"
    },
    "papermill": {
     "duration": 0.10723,
     "end_time": "2022-02-20T13:47:27.633973",
     "exception": false,
     "start_time": "2022-02-20T13:47:27.526743",
     "status": "completed"
    },
    "scrolled": true,
    "tags": []
   },
   "outputs": [
    {
     "name": "stdout",
     "output_type": "stream",
     "text": [
      "Точность модели на трейне по метрике MAPE: 2.16%\n",
      "Точность модели на тесте по метрике MAPE: 2.18%\n"
     ]
    }
   ],
   "source": [
    "# Посчитаем метрики на трейне и на тесте, чтобы проверить, нет ли переобучения\n",
    "print(f\"Точность модели на трейне по метрике MAPE: {(mape(y_train, y_pred_train))*100:0.2f}%\")\n",
    "print(f\"Точность модели на тесте по метрике MAPE: {(mape(y_test, y_pred_test))*100:0.2f}%\")"
   ]
  },
  {
   "cell_type": "markdown",
   "metadata": {},
   "source": [
    "**Метрики на трейне и на тесте практически не отличаются. Значит, переобучения градиентного бустинга нет**"
   ]
  },
  {
   "cell_type": "markdown",
   "metadata": {},
   "source": [
    "**Попробуем подобрать оптимальные параметры градиентного бустинга c помощью инструмента RandomizedSearchCV**"
   ]
  },
  {
   "cell_type": "code",
   "execution_count": 94,
   "metadata": {},
   "outputs": [],
   "source": [
    "# Сетка параметров\n",
    "param_grid = {'learning_rate':[0.00001, 0.0001, 0.001, 0.01, 0.1, 1], \n",
    "              'n_estimators':[100, 250, 500, 750, 1000, 1250, 1500, 1750],\n",
    "              'max_depth':[5,6,7,8,9,10,11,12,13,14,15]}"
   ]
  },
  {
   "cell_type": "code",
   "execution_count": 96,
   "metadata": {},
   "outputs": [
    {
     "name": "stdout",
     "output_type": "stream",
     "text": [
      "Fitting 3 folds for each of 10 candidates, totalling 30 fits\n",
      "[CV] END learning_rate=0.0001, max_depth=13, n_estimators=1500; total time= 7.5min\n",
      "[CV] END learning_rate=0.0001, max_depth=13, n_estimators=1500; total time= 7.7min\n",
      "[CV] END learning_rate=0.0001, max_depth=13, n_estimators=1500; total time= 7.9min\n",
      "[CV] END ..learning_rate=0.1, max_depth=10, n_estimators=750; total time= 4.1min\n",
      "[CV] END ..learning_rate=0.1, max_depth=10, n_estimators=750; total time= 4.1min\n",
      "[CV] END ..learning_rate=0.1, max_depth=10, n_estimators=750; total time= 4.1min\n",
      "[CV] END learning_rate=1e-05, max_depth=5, n_estimators=1500; total time= 4.2min\n",
      "[CV] END learning_rate=1e-05, max_depth=5, n_estimators=1500; total time= 4.3min\n",
      "[CV] END learning_rate=1e-05, max_depth=5, n_estimators=1500; total time= 4.3min\n",
      "[CV] END ..learning_rate=0.1, max_depth=13, n_estimators=250; total time= 1.7min\n",
      "[CV] END ..learning_rate=0.1, max_depth=13, n_estimators=250; total time= 1.8min\n",
      "[CV] END ..learning_rate=0.1, max_depth=13, n_estimators=250; total time= 1.7min\n",
      "[CV] END learning_rate=1e-05, max_depth=14, n_estimators=1750; total time= 9.4min\n",
      "[CV] END learning_rate=1e-05, max_depth=14, n_estimators=1750; total time= 9.5min\n",
      "[CV] END learning_rate=1e-05, max_depth=14, n_estimators=1750; total time= 9.6min\n",
      "[CV] END learning_rate=0.001, max_depth=10, n_estimators=1000; total time= 4.5min\n",
      "[CV] END learning_rate=0.001, max_depth=10, n_estimators=1000; total time= 4.4min\n",
      "[CV] END learning_rate=0.001, max_depth=10, n_estimators=1000; total time= 4.5min\n",
      "[CV] END ...learning_rate=1, max_depth=15, n_estimators=1750; total time=12.3min\n",
      "[CV] END ...learning_rate=1, max_depth=15, n_estimators=1750; total time=11.6min\n",
      "[CV] END ...learning_rate=1, max_depth=15, n_estimators=1750; total time=11.9min\n",
      "[CV] END ...learning_rate=1, max_depth=11, n_estimators=1250; total time= 7.2min\n",
      "[CV] END ...learning_rate=1, max_depth=11, n_estimators=1250; total time= 7.1min\n",
      "[CV] END ...learning_rate=1, max_depth=11, n_estimators=1250; total time= 7.0min\n",
      "[CV] END .learning_rate=0.01, max_depth=13, n_estimators=250; total time= 1.3min\n",
      "[CV] END .learning_rate=0.01, max_depth=13, n_estimators=250; total time= 1.4min\n",
      "[CV] END .learning_rate=0.01, max_depth=13, n_estimators=250; total time= 1.3min\n",
      "[CV] END learning_rate=0.0001, max_depth=7, n_estimators=100; total time=  22.0s\n",
      "[CV] END learning_rate=0.0001, max_depth=7, n_estimators=100; total time=  22.1s\n",
      "[CV] END learning_rate=0.0001, max_depth=7, n_estimators=100; total time=  21.1s\n",
      "Лучшие параметры:  {'alpha': 0.9, 'ccp_alpha': 0.0, 'criterion': 'friedman_mse', 'init': None, 'learning_rate': 0.1, 'loss': 'ls', 'max_depth': 10, 'max_features': None, 'max_leaf_nodes': None, 'min_impurity_decrease': 0.0, 'min_impurity_split': None, 'min_samples_leaf': 1, 'min_samples_split': 2, 'min_weight_fraction_leaf': 0.0, 'n_estimators': 750, 'n_iter_no_change': None, 'random_state': None, 'subsample': 1.0, 'tol': 0.0001, 'validation_fraction': 0.1, 'verbose': 0, 'warm_start': False}\n",
      "Лучшее значение метрики: -0.0193\n"
     ]
    }
   ],
   "source": [
    "# Возьмем 10 итераций, что означает 10 произвольных комбинаций параметров из сетки выше. Выберем из них оптимальную комбинацию\n",
    "gbr_random = RandomizedSearchCV(estimator=gbr, param_distributions=param_grid, n_iter=10, \n",
    "                                scoring='neg_mean_absolute_percentage_error',\n",
    "                                cv=3, verbose=2, random_state=42)\n",
    "gbr_random.fit(X_train,y_train)\n",
    "\n",
    "best_model=gbr_random.best_estimator_\n",
    "best_parameters=best_model.get_params()\n",
    "print('Лучшие параметры: ',best_parameters)\n",
    "\n",
    "best_score=gbr_random.best_score_\n",
    "print('Лучшее значение метрики: {:.4f}'.format(best_score))"
   ]
  },
  {
   "cell_type": "markdown",
   "metadata": {},
   "source": [
    "**Лучшие параметры: learning_rate=0.1, n_estimators=750, max_depth=10.**"
   ]
  },
  {
   "cell_type": "code",
   "execution_count": 97,
   "metadata": {},
   "outputs": [],
   "source": [
    "# Обучем градиентный бустинг с найденными параметрами\n",
    "gbr_optimized=GradientBoostingRegressor(n_estimators=750, learning_rate=0.1, max_depth=10)\n",
    "\n",
    "gbr_optimized.fit(X_train,y_train)\n",
    "y_pred_test=gbr_optimized.predict(X_test)\n",
    "y_pred_train=gbr_optimized.predict(X_train)"
   ]
  },
  {
   "cell_type": "code",
   "execution_count": 98,
   "metadata": {
    "scrolled": true
   },
   "outputs": [
    {
     "name": "stdout",
     "output_type": "stream",
     "text": [
      "Точность модели на трейне по метрике MAPE: 1.06%\n",
      "Точность модели на тесте по метрике MAPE: 1.88%\n"
     ]
    }
   ],
   "source": [
    "# Посчитаем метрики на трейне и на тесте, чтобы проверить, нет ли переобучения\n",
    "print(f\"Точность модели на трейне по метрике MAPE: {(mape(y_train, y_pred_train))*100:0.2f}%\")\n",
    "print(f\"Точность модели на тесте по метрике MAPE: {(mape(y_test, y_pred_test))*100:0.2f}%\")"
   ]
  },
  {
   "cell_type": "markdown",
   "metadata": {},
   "source": [
    "**Видно, что наблюдается небольшое переобучение. Попробуем вернуть максимальную глубину дерева к значению по умолчанию (3).**"
   ]
  },
  {
   "cell_type": "code",
   "execution_count": 99,
   "metadata": {},
   "outputs": [],
   "source": [
    "gbr_not_overfit=GradientBoostingRegressor(n_estimators=750, learning_rate=0.1)\n",
    "\n",
    "gbr_not_overfit.fit(X_train,y_train)\n",
    "y_pred_test=gbr_not_overfit.predict(X_test)\n",
    "y_pred_train=gbr_not_overfit.predict(X_train)"
   ]
  },
  {
   "cell_type": "code",
   "execution_count": 100,
   "metadata": {
    "scrolled": true
   },
   "outputs": [
    {
     "name": "stdout",
     "output_type": "stream",
     "text": [
      "Точность модели на трейне по метрике MAPE: 1.99%\n",
      "Точность модели на тесте по метрике MAPE: 2.04%\n"
     ]
    }
   ],
   "source": [
    "# Посчитаем метрики на трейне и на тесте, чтобы проверить, нет ли переобучения\n",
    "print(f\"Точность модели на трейне по метрике MAPE: {(mape(y_train, y_pred_train))*100:0.2f}%\")\n",
    "print(f\"Точность модели на тесте по метрике MAPE: {(mape(y_test, y_pred_test))*100:0.2f}%\")"
   ]
  },
  {
   "cell_type": "markdown",
   "metadata": {},
   "source": [
    "**Как видно, нам удалось добиться более близких показателей на трейне и на тесте, т.е. практически избавиться от переобучения.**"
   ]
  },
  {
   "cell_type": "markdown",
   "metadata": {},
   "source": [
    "## Случайный лес"
   ]
  },
  {
   "cell_type": "code",
   "execution_count": 90,
   "metadata": {},
   "outputs": [],
   "source": [
    "# Попробую также использовать случайный лес\n",
    "rfr=RandomForestRegressor()\n",
    "\n",
    "rfr.fit(X_train,y_train)\n",
    "y_pred_test=rfr.predict(X_test)\n",
    "y_pred_train=rfr.predict(X_train)"
   ]
  },
  {
   "cell_type": "code",
   "execution_count": 91,
   "metadata": {},
   "outputs": [
    {
     "name": "stdout",
     "output_type": "stream",
     "text": [
      "Точность модели на трейне по метрике MAPE: 0.86%\n",
      "Точность модели на тесте по метрике MAPE: 1.91%\n"
     ]
    }
   ],
   "source": [
    "# Посчитаем метрики на трейне и на тесте, чтобы проверить, нет ли переобучения\n",
    "print(f\"Точность модели на трейне по метрике MAPE: {(mape(y_train, y_pred_train))*100:0.2f}%\")\n",
    "print(f\"Точность модели на тесте по метрике MAPE: {(mape(y_test, y_pred_test))*100:0.2f}%\")"
   ]
  },
  {
   "cell_type": "markdown",
   "metadata": {
    "papermill": {
     "duration": 0.097237,
     "end_time": "2022-02-20T13:47:27.836043",
     "exception": false,
     "start_time": "2022-02-20T13:47:27.738806",
     "status": "completed"
    },
    "tags": []
   },
   "source": [
    "**Наблюдается переобучение случайного леса. Можно было бы с ним побороться (ограничить глубину дерева, min_samples_split, min_samples_leaf и другие параметры), но я лучше воспользуюсь градиентым бустингом.**"
   ]
  },
  {
   "cell_type": "markdown",
   "metadata": {
    "papermill": {
     "duration": 0.098057,
     "end_time": "2022-02-20T13:47:28.029401",
     "exception": false,
     "start_time": "2022-02-20T13:47:27.931344",
     "status": "completed"
    },
    "tags": []
   },
   "source": [
    "## Сабмишн"
   ]
  },
  {
   "cell_type": "code",
   "execution_count": 101,
   "metadata": {
    "execution": {
     "iopub.execute_input": "2022-02-20T13:47:28.229484Z",
     "iopub.status.busy": "2022-02-20T13:47:28.228434Z",
     "iopub.status.idle": "2022-02-20T13:47:44.333967Z",
     "shell.execute_reply": "2022-02-20T13:47:44.332665Z",
     "shell.execute_reply.started": "2022-02-16T13:35:14.482856Z"
    },
    "papermill": {
     "duration": 16.207226,
     "end_time": "2022-02-20T13:47:44.334101",
     "exception": false,
     "start_time": "2022-02-20T13:47:28.126875",
     "status": "completed"
    },
    "tags": []
   },
   "outputs": [],
   "source": [
    "# Обучим модель градиентного бустинга на всех данных\n",
    "gbr_not_overfit.fit(X,y)\n",
    "\n",
    "# Не забудем взять экспоненту от предсказаний модели, т.к. ранее мы брали логарифм целевой переменной\n",
    "predict_submission=np.exp(gbr_not_overfit.predict(X_valid))"
   ]
  },
  {
   "cell_type": "code",
   "execution_count": 102,
   "metadata": {
    "execution": {
     "iopub.execute_input": "2022-02-20T13:47:44.521852Z",
     "iopub.status.busy": "2022-02-20T13:47:44.521104Z",
     "iopub.status.idle": "2022-02-20T13:47:44.951459Z",
     "shell.execute_reply": "2022-02-20T13:47:44.950900Z",
     "shell.execute_reply.started": "2022-02-16T13:35:40.708867Z"
    },
    "papermill": {
     "duration": 0.524972,
     "end_time": "2022-02-20T13:47:44.951599",
     "exception": false,
     "start_time": "2022-02-20T13:47:44.426627",
     "status": "completed"
    },
    "tags": []
   },
   "outputs": [
    {
     "data": {
      "text/html": [
       "<div>\n",
       "<style scoped>\n",
       "    .dataframe tbody tr th:only-of-type {\n",
       "        vertical-align: middle;\n",
       "    }\n",
       "\n",
       "    .dataframe tbody tr th {\n",
       "        vertical-align: top;\n",
       "    }\n",
       "\n",
       "    .dataframe thead th {\n",
       "        text-align: right;\n",
       "    }\n",
       "</style>\n",
       "<table border=\"1\" class=\"dataframe\">\n",
       "  <thead>\n",
       "    <tr style=\"text-align: right;\">\n",
       "      <th></th>\n",
       "      <th>sell_id</th>\n",
       "      <th>price</th>\n",
       "    </tr>\n",
       "  </thead>\n",
       "  <tbody>\n",
       "    <tr>\n",
       "      <th>0</th>\n",
       "      <td>1100575026</td>\n",
       "      <td>8.598958e+05</td>\n",
       "    </tr>\n",
       "    <tr>\n",
       "      <th>1</th>\n",
       "      <td>1100549428</td>\n",
       "      <td>6.935078e+05</td>\n",
       "    </tr>\n",
       "    <tr>\n",
       "      <th>2</th>\n",
       "      <td>1100658222</td>\n",
       "      <td>8.226275e+05</td>\n",
       "    </tr>\n",
       "    <tr>\n",
       "      <th>3</th>\n",
       "      <td>1100937408</td>\n",
       "      <td>7.433942e+05</td>\n",
       "    </tr>\n",
       "    <tr>\n",
       "      <th>4</th>\n",
       "      <td>1101037972</td>\n",
       "      <td>5.874565e+05</td>\n",
       "    </tr>\n",
       "    <tr>\n",
       "      <th>5</th>\n",
       "      <td>1100912634</td>\n",
       "      <td>5.172302e+05</td>\n",
       "    </tr>\n",
       "    <tr>\n",
       "      <th>6</th>\n",
       "      <td>1101228730</td>\n",
       "      <td>9.615247e+05</td>\n",
       "    </tr>\n",
       "    <tr>\n",
       "      <th>7</th>\n",
       "      <td>1100165896</td>\n",
       "      <td>3.323539e+05</td>\n",
       "    </tr>\n",
       "    <tr>\n",
       "      <th>8</th>\n",
       "      <td>1100768262</td>\n",
       "      <td>1.401348e+06</td>\n",
       "    </tr>\n",
       "    <tr>\n",
       "      <th>9</th>\n",
       "      <td>1101218501</td>\n",
       "      <td>5.595198e+05</td>\n",
       "    </tr>\n",
       "  </tbody>\n",
       "</table>\n",
       "</div>"
      ],
      "text/plain": [
       "      sell_id         price\n",
       "0  1100575026  8.598958e+05\n",
       "1  1100549428  6.935078e+05\n",
       "2  1100658222  8.226275e+05\n",
       "3  1100937408  7.433942e+05\n",
       "4  1101037972  5.874565e+05\n",
       "5  1100912634  5.172302e+05\n",
       "6  1101228730  9.615247e+05\n",
       "7  1100165896  3.323539e+05\n",
       "8  1100768262  1.401348e+06\n",
       "9  1101218501  5.595198e+05"
      ]
     },
     "execution_count": 102,
     "metadata": {},
     "output_type": "execute_result"
    }
   ],
   "source": [
    "sample_submission['price'] = predict_submission\n",
    "sample_submission.to_csv('submission.csv', index=False)\n",
    "sample_submission.head(10)"
   ]
  },
  {
   "cell_type": "markdown",
   "metadata": {
    "papermill": {
     "duration": 0.093316,
     "end_time": "2022-02-20T13:47:46.859956",
     "exception": false,
     "start_time": "2022-02-20T13:47:46.766640",
     "status": "completed"
    },
    "tags": []
   },
   "source": [
    "# Выводы"
   ]
  },
  {
   "cell_type": "markdown",
   "metadata": {},
   "source": [
    "**1. С целью добиться лучшего значения метрики был проведен парсинг сайта auto.ru. К сожалению, парсинг не удалось довести до конца. Не получилось распарсить целевую переменную price. Остальные признаки распарсить удалось без каких-либо проблем.**"
   ]
  },
  {
   "cell_type": "markdown",
   "metadata": {},
   "source": [
    "**2. Было произведено обучение модели на имеющимся в baseline датасете. Датасет был дополнен 30-ю признаками типа dummy-переменных. Для 6-ти категориальных признаков был использован OneHotEncoder. Некоторые непрерывные признаки были прологарифмированы (в том числе целевая переменная). Все непрерывные признаки были обработаны с помощью RobustScaler перед загрузкой в модель.**"
   ]
  },
  {
   "cell_type": "markdown",
   "metadata": {},
   "source": [
    "**3. В качестве итоговой модели для обучения был выбран градиентный бустинг. Он более устойчив к переобучению, чем случайный лес.**"
   ]
  },
  {
   "cell_type": "markdown",
   "metadata": {},
   "source": [
    "**4. С помощью инструмента RandomizedSearchCV были подобраны оптимальные параметры градиентного бустинга (n_estimators=750, learning_rate=0.1, max_depth=10). Однако, с данными параметрами наблюдается небольшое переобучение градиентного бустинга. С целью избавиться от переобучения максимальная глубина дерева была возравщена к значению по умолчанию (3). Это помогло избавиться от переобучения.**"
   ]
  },
  {
   "cell_type": "markdown",
   "metadata": {},
   "source": [
    "**5. Итоговое значение метрики MAPE составляет 1.99% для трейна и 2.04% для теста. Близость метрик на трейне и на тесте подтверждает отсутствие переобучения.**"
   ]
  },
  {
   "cell_type": "code",
   "execution_count": null,
   "metadata": {
    "papermill": {
     "duration": 0.100105,
     "end_time": "2022-02-20T13:47:47.805308",
     "exception": false,
     "start_time": "2022-02-20T13:47:47.705203",
     "status": "completed"
    },
    "tags": []
   },
   "outputs": [],
   "source": []
  },
  {
   "cell_type": "code",
   "execution_count": null,
   "metadata": {
    "papermill": {
     "duration": 0.094681,
     "end_time": "2022-02-20T13:47:48.007439",
     "exception": false,
     "start_time": "2022-02-20T13:47:47.912758",
     "status": "completed"
    },
    "tags": []
   },
   "outputs": [],
   "source": []
  },
  {
   "cell_type": "code",
   "execution_count": null,
   "metadata": {
    "papermill": {
     "duration": 0.092477,
     "end_time": "2022-02-20T13:47:48.192662",
     "exception": false,
     "start_time": "2022-02-20T13:47:48.100185",
     "status": "completed"
    },
    "tags": []
   },
   "outputs": [],
   "source": []
  }
 ],
 "metadata": {
  "kernelspec": {
   "display_name": "Python 3",
   "language": "python",
   "name": "python3"
  },
  "language_info": {
   "codemirror_mode": {
    "name": "ipython",
    "version": 3
   },
   "file_extension": ".py",
   "mimetype": "text/x-python",
   "name": "python",
   "nbconvert_exporter": "python",
   "pygments_lexer": "ipython3",
   "version": "3.8.8"
  },
  "papermill": {
   "duration": 76.466664,
   "end_time": "2022-02-20T13:47:48.394280",
   "environment_variables": {},
   "exception": null,
   "input_path": "__notebook__.ipynb",
   "output_path": "__notebook__.ipynb",
   "parameters": {},
   "start_time": "2022-02-20T13:46:31.927616",
   "version": "2.1.0"
  }
 },
 "nbformat": 4,
 "nbformat_minor": 4
}
